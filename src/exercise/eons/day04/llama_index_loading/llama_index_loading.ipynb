{
 "cells": [
  {
   "cell_type": "code",
   "execution_count": 2,
   "id": "522658eb",
   "metadata": {},
   "outputs": [],
   "source": [
    "# Markdown, PDFs, Word documents, PowerPoint decks, images, audio and video\n",
    "\n",
    "from llama_index.core import SimpleDirectoryReader\n",
    "\n",
    "documents = SimpleDirectoryReader(\"./data\").load_data()"
   ]
  },
  {
   "cell_type": "code",
   "execution_count": 3,
   "id": "4b234660",
   "metadata": {},
   "outputs": [
    {
     "data": {
      "text/plain": [
       "[Document(id_='304a1d48-1246-430e-bc4c-7779a1dddfad', embedding=None, metadata={'page_label': '1', 'file_name': '소나기.pdf', 'file_path': '/home/eons/work/koshipa-llm-2025-1st/src/exercise/eons/day04/llama_index_loading/data/소나기.pdf', 'file_type': 'application/pdf', 'file_size': 123544, 'creation_date': '2025-07-23', 'last_modified_date': '2025-07-23'}, excluded_embed_metadata_keys=['file_name', 'file_type', 'file_size', 'creation_date', 'last_modified_date', 'last_accessed_date'], excluded_llm_metadata_keys=['file_name', 'file_type', 'file_size', 'creation_date', 'last_modified_date', 'last_accessed_date'], relationships={}, metadata_template='{key}: {value}', metadata_separator='\\n', text_resource=MediaResource(embeddings=None, data=None, text='- 1 -\\n소나기황순원소년은 개울가에서 소녀를 보자 곧 윤 초시네 증손녀(曾孫女)딸이라는 걸 알 수 있었다. 소녀는 개울에다 손을 잠그고 물장난을 하고 있는 것이다. 서울서는 이런 개울물을 보지 못하기나 한 듯이.벌써 며칠째 소녀는, 학교에서 돌아오는 길에 물장난이었다. 그런데, 어제까지 개울 기슭에서 하더니, 오늘은 징검다리 한가운데 앉아서 하고 있다.소년은 개울둑에 앉아 버렸다. 소녀가 비키기를 기다리자는 것이다.요행 지나가는 사람이 있어, 소녀가 길을 비켜 주었다.다음 날은 좀 늦게 개울가로 나왔다.이 날은 소녀가 징검다리 한가운데 앉아 세수를 하고 있었다. 분홍 스웨터 소매를 걷어올린 목덜미가 마냥 희었다.한참 세수를 하고 나더니, 이번에는 물 속을 빤히 들여다 본다. 얼굴이라도 비추어 보는 것이리라. 갑자기 물을 움켜 낸다. 고기 새끼라도 지나가는 듯.소녀는 소년이 개울둑에 앉아 있는 걸 아는지 모르는지 그냥 날쌔게 물만 움켜 낸다. 그러나, 번번이 허탕이다. 그대로 재미있는 양, 자꾸 물만 움킨다. 어제처럼 개울을 건너는 사람이 있어야 길을 비킬 모양이다.그러다가 소녀가 물 속에서 무엇을 하나 집어 낸다. 하얀 조약돌이었다. 그리고는 벌떡 일어나 팔짝팔짝 징검다리를 뛰어 건너간다.다 건너가더니만 홱 이리로 돌아서며,“이 바보.”조약돌이 날아왔다.소년은 저도 모르게 벌떡 일어섰다.단발 머리를 나풀거리며 소녀가 막 달린다. 갈밭 사잇길로 들어섰다. 뒤에는 청량한 가을 햇살 아래 빛나는 갈꽃뿐.이제 저쯤 갈밭머리로 소녀가 나타나리라. 꽤 오랜 시간이 지났다고 생각됐다. 그런데도 소녀는 나타나지 않는다. 발돋움을 했다. 그러고도 상당한 시간이 지났다고 생각됐다.저 쪽 갈밭머리에 갈꽃이 한 옴큼 움직였다. 소녀가 갈꽃을 안고 있었다. 그리고, 이제는 천천한 걸음이었다. 유난히 맑은 가을 햇살이 소녀의 갈꽃머리에서 반짝거렸다. 소녀 아닌 갈꽃이 들길을 걸어가는 것만 같았다.소년은 이 갈꽃이 아주 뵈지 않게 되기까지 그대로 서 있었다. 문득, 소녀가 던지 조약돌을 내려다보았다. 물기가 걷혀 있었다. 소년은 조약돌을 집어 주머니에 넣었다.다음 날부터 좀더 늦게 개울가로 나왔다. 소녀의 그림자가 뵈지 않았다. 다행이었다.그러나, 이상한 일이었다. 소녀의 그림자가 뵈지 않는 날이 계속될수록 소년의 가슴 한 구석에는 어딘가 허전함이 자리 잡는 것이었다. 주머니 속 조약돌을 주무르는 버릇이 생겼다.그러한 어떤 날, 소년은 전에 소녀가 앉아 물장난을 하던 징검다리 한가운데에 앉아 보았다. 물 속에 손을 잠갔다. 세수를 하였다. 물 속을 들여다보았다. 검게 탄 얼굴이 그대로 비치었다. 싫었다.', path=None, url=None, mimetype=None), image_resource=None, audio_resource=None, video_resource=None, text_template='{metadata_str}\\n\\n{content}'),\n",
       " Document(id_='ce81cc17-c05d-4a52-96cf-1684aaff2804', embedding=None, metadata={'page_label': '2', 'file_name': '소나기.pdf', 'file_path': '/home/eons/work/koshipa-llm-2025-1st/src/exercise/eons/day04/llama_index_loading/data/소나기.pdf', 'file_type': 'application/pdf', 'file_size': 123544, 'creation_date': '2025-07-23', 'last_modified_date': '2025-07-23'}, excluded_embed_metadata_keys=['file_name', 'file_type', 'file_size', 'creation_date', 'last_modified_date', 'last_accessed_date'], excluded_llm_metadata_keys=['file_name', 'file_type', 'file_size', 'creation_date', 'last_modified_date', 'last_accessed_date'], relationships={}, metadata_template='{key}: {value}', metadata_separator='\\n', text_resource=MediaResource(embeddings=None, data=None, text='- 2 -\\n소년은 두 손으로 물 속의 얼굴을 움키었다. 몇 번이고 움키었다. 그러다가 깜짝 놀라 일어나고 말았다. 소녀가 이리로 건너오고 있지 않느냐.‘숨어서 내가 하는 일을 엿보고 있었구나.’ 소년은 달리기를 시작했다. 디딤돌을 헛디뎠다. 한 발이 물 속에 빠졌다. 더 달렸다.몸을 가릴 데가 있어 줬으면 좋겠다. 이 쪽 길에는 갈밭도 없다. 메밀밭이다. 전에 없이 메밀꽃 냄새가 짜릿하게 코를 찌른다고 생각됐다. 미간이 아찔했다. 찝찔한 액체가 입술에 흘러들었다. 코피였다.소년은 한 손으로 코피를 훔쳐내면서 그냥 달렸다. 어디선가 ‘바보, 바보’ 하는 소리가 자꾸만 뒤따라오는 것 같았다.토요일이었다.개울가에 이르니, 며칠째 보이지 않던 소녀가 건너편 가에 앉아 물장난을 하고 있었다. 모르는 체 징검다리를 건너기 시작했다. 얼마 전에 소녀 앞에서 한 번 실수를 했을 뿐, 여태 큰길 가듯이 건너던 징검다리를 오늘은 조심스럽게 건넌다.“얘.”못 들은 체했다. 둑 위로 올라섰다.“얘, 이게 무슨 조개지?”자기도 모르게 돌아섰다. 소녀의 맑고 검은 눈과 마주쳤다. 얼른 소녀의 손바닥으로 눈을 떨구었다.“비단조개.”“이름도 참 곱다.”갈림길에 왔다. 여기서 소녀는 아래편으로 한 삼 마장쯤, 소년은 우대로 한 십 리 가까운 길을 가야 한다.소녀가 걸음을 멈추며,“너, 저 산 너머에 가 본 일 있니?”벌 끝을 가리켰다.“없다.”“우리, 가 보지 않으련? 시골 오니까 혼자서 심심해 못 견디겠다.”“저래 봬도 멀다.”“멀면 얼마나 멀기에? 서울 있을 땐 사뭇 먼 데까지 소풍 갔었다.”소녀의 눈이 금새 ‘바보,바보,’할 것만 같았다.논 사잇길로 들어섰다. 벼 가을걷이하는 곁을 지났다.허수아비가 서 있었다. 소년이 새끼줄을 흔들었다. 참새가 몇 마리 날아간다. ‘참, 오늘은 일찍 집으로 돌아가 텃논의 참새를 봐야 할걸.’ 하는 생각이 든다.“야, 재밌다!”소녀가 허수아비 줄을 잡더니 흔들어 댄다. 허수아비가 자꾸 우쭐거리며 춤을 춘다. 소녀의 왼쪽 볼에 살포시 보조개가 패었다.저만큼 허수아비가 또 서 있다. 소녀가 그리로 달려간다. 그 뒤를 소년도 달렸다. 오늘 같은 날은 일찍 집으로 돌아가 집안일을 도와야 한다는 생각을 잊어버리기라도 하려는 듯이.소녀의 곁을 스쳐 그냥 달린다. 메뚜기가 따끔따끔 얼굴에 와 부딪친다. 쪽빛으로 한껏 갠 가을 하늘이 소년의 눈앞에서 맴을 돈다. 어지럽다. 저놈의 독수리, 저놈의 독수리, 저놈의 독수리가 맴을 돌고 있기 때문이다.', path=None, url=None, mimetype=None), image_resource=None, audio_resource=None, video_resource=None, text_template='{metadata_str}\\n\\n{content}'),\n",
       " Document(id_='5c0e1617-645f-4340-b8c8-889b12101901', embedding=None, metadata={'page_label': '3', 'file_name': '소나기.pdf', 'file_path': '/home/eons/work/koshipa-llm-2025-1st/src/exercise/eons/day04/llama_index_loading/data/소나기.pdf', 'file_type': 'application/pdf', 'file_size': 123544, 'creation_date': '2025-07-23', 'last_modified_date': '2025-07-23'}, excluded_embed_metadata_keys=['file_name', 'file_type', 'file_size', 'creation_date', 'last_modified_date', 'last_accessed_date'], excluded_llm_metadata_keys=['file_name', 'file_type', 'file_size', 'creation_date', 'last_modified_date', 'last_accessed_date'], relationships={}, metadata_template='{key}: {value}', metadata_separator='\\n', text_resource=MediaResource(embeddings=None, data=None, text='- 3 -\\n돌아다보니, 소녀는 지금 자기가 지나쳐 온 허수아비를 흔들고 있다. 좀 전 허수아비보다 더 우쭐거린다.논이 끝난 곳에 도랑이 하나 있었다. 소녀가 먼저 뛰어 건넜다.거기서부터 산 밑까지는 밭이었다.수숫단을 세워 놓은 밭머리를 지났다.“저게 뭐니?”“원두막.”“여기 참외, 맛있니?”“그럼, 참외 맛도 좋지만 수박 맛은 더 좋다.”“하나 먹어 봤으면.”소년이 참외 그루에 심은 무우밭으로 들어가, 무우 두 밑을 뽑아 왔다. 아직 밑이 덜 들어 있었다. 잎을 비틀어 팽개친 후, 소녀에게 한개 건넨다. 그리고는 이렇게 먹어야 한다는 듯이, 먼저 대강이를 한 입 베물어 낸 다음, 손톱으로 한 돌이 껍질을 벗겨 우쩍 깨문다.소녀도 따라 했다. 그러나, 세 입도 못 먹고,“아, 맵고 지려.”하며 집어던지고 만다.“참, 맛 없어 못 먹겠다.”소년이 더 멀리 팽개쳐 버렸다.산이 가까워졌다.단풍이 눈에 따가웠다.“야아!”소녀가 산을 향해 달려갔다. 이번은 소년이 뒤따라 달리지 않았다. 그러고도 곧 소녀보다 더 많은 꽃을 꺾었다.“이게 들국화, 이게 싸리꽃, 이게 도라지꽃,…….”“도라지꽃이 이렇게 예쁜 줄은 몰랐네. 난 보랏빛이 좋아!…… 그런데, 이 양산 같이 생긴 노란 꽃이 뭐지?”“마타리꽃.”소녀는 마타리꽃을 양산 받듯이 해 보인다. 약간 상기된 얼굴에 살포시 보조개를 떠올리며.다시 소년은 꽃 한 옴큼을 꺾어 왔다. 싱싱한 꽃가지만 골라 소녀에게 건넨다.그러나 소녀는“하나도 버리지 마라.”산마루께로 올라갔다.맞은편 골짜기에 오순도순 초가집이 몇 모여 있었다.누가 말할 것도 아닌데, 바위에 나란히 걸터앉았다. 유달리 주위가 조용해진 것 같았다. 따가운 가을 햇살만이 말라가는 풀 냄새를 퍼뜨리고 있었다.“저건 또 무슨 꽃이지?”적잖이 비탈진 곳에 칡덩굴이 엉키어 꽃을 달고 있었다.“꼭 등꽃 같네. 서울 우리 학교에 큰 등나무가 있었단다. 저 꽃을 보니까 등나무 밑에서 놀던 동무들 생각이 난다.”소녀가 조용히 일어나 비탈진 곳으로 간다. 꽃송이가 많이 달린 줄기를 잡고 끊기 시작한', path=None, url=None, mimetype=None), image_resource=None, audio_resource=None, video_resource=None, text_template='{metadata_str}\\n\\n{content}'),\n",
       " Document(id_='f1d3468c-f2b6-4041-908b-26104626410c', embedding=None, metadata={'page_label': '4', 'file_name': '소나기.pdf', 'file_path': '/home/eons/work/koshipa-llm-2025-1st/src/exercise/eons/day04/llama_index_loading/data/소나기.pdf', 'file_type': 'application/pdf', 'file_size': 123544, 'creation_date': '2025-07-23', 'last_modified_date': '2025-07-23'}, excluded_embed_metadata_keys=['file_name', 'file_type', 'file_size', 'creation_date', 'last_modified_date', 'last_accessed_date'], excluded_llm_metadata_keys=['file_name', 'file_type', 'file_size', 'creation_date', 'last_modified_date', 'last_accessed_date'], relationships={}, metadata_template='{key}: {value}', metadata_separator='\\n', text_resource=MediaResource(embeddings=None, data=None, text='- 4 -\\n다. 좀처럼 끊어지지 않는다. 안간힘을 쓰다가 그만 미끄러지고 만다. 칡덩굴을 그러쥐었다.소년이 놀라 달려갔다. 소녀가 손을 내밀었다. 손을 잡아 이끌어 올리며, 소년은 제가 꺾어다 줄 것을 잘못했다고 뉘우친다. 소녀의 오른쪽 무릎에 핏방울이 내맺혔다. 소년은 저도 모르게 생채기에 입술을 가져다 대고 빨기 시작했다. 그러다가, 무슨 생각을 했는지 홱 일어나 저 쪽으로 달려간다.좀 만에 숨이 차 돌아온 소년은“이걸 바르면 낫는다.”송진을 생채기에다 문질러 바르고는 그 달음으로 칡덩굴 있는 데로 내려가, 꽃 많이 달린 몇 줄기를 이빨로 끊어 가지고 올라온다. 그리고는,“저기 송아지가 있다. 그리 가 보자.”누렁송아지였다. 아직 코뚜레도 꿰지 않았다.소년이 고삐를 바투 잡아 쥐고 등을 긁어 주는 체 훌쩍 올라탔다. 송아지가 껑충거리며 돌아간다.소녀의 흰 얼굴이, 분홍 스웨터가, 남색 스커트가, 안고 있는 꽃과 함께 범벅이 된다. 모두가 하나의 큰 꽃묶음 같다. 어지럽다. 그러나, 내리지 않으리라. 자랑스러웠다. 이것만은 소녀가 흉내 내지 못할, 자기 혼자만이 할 수 있는 일인 것이다.“너희, 예서 뭣들 하느냐?”농부(農夫)하나가 억새풀 사이로 올라왔다.송아지 등에서 뛰어내렸다. 어린 송아지를 타서 허리가 상하면 어쩌느냐고 꾸지람을 들을 것만 같다.그런데, 나룻이 긴 농부는 소녀 편을 한 번 훑어보고는 그저 송아지 고삐를 풀어 내면서,“어서들 집으로 가거라. 소나기가 올라.”참, 먹장구름 한 장이 머리 위에 와 있다. 갑자기 사면이 소란스러워진 것 같다. 바람이 우수수 소리를 내며 지나간다. 삽시간에 주위가 보랏빛으로 변했다.산을 내려오는데, 떡갈나무 잎에서 빗방울 듣는 소리가 난다. 굵은 빗방울이었다. 목덜미가 선뜻선뜻했다. 그러자, 대번에 눈앞을 가로막는 빗줄기.비안개 속에 원두막이 보였다. 그리로 가 비를 그을 수밖에.그러나, 원두막은 기둥이 기울고 지붕도 갈래갈래 찢어져 있었다. 그런 대로 비가 덜 새는 곳을 가려 소녀를 들어서게 했다.소녀의 입술이 파아랗게 질렸다. 어깨를 자꾸 떨었다.무명 겹저고리를 벗어 소녀의 어깨를 싸 주었다. 소녀는 비에 젖은 눈을 들어 한 번 쳐다보았을 뿐, 소년이 하는 대로 잠자코 있었다. 그리고는, 안고 온 꽃묶음 속에서 가지가 꺾이고 꽃이 일그러진 송이를 골라 발 밑에 버린다. 소녀가 들어선 곳도 비가 새기 시작했다. 더 거기서 비를 그을 수 없었다.밖을 내다보던 소년이 무엇을 생각했는지 수수밭 쪽으로 달려간다. 세워 놓은 수숫단 속을 비집어 보더니, 옆의 수숫단을 날라다 덧세운다. 다시 속을 비집어 본다. 그리고는 이쪽을 향해 손짓을 한다.수숫단 속은 비는 안 새었다. 그저 어둡고 좁은 게 안 됐다. 앞에 나앉은 소년은 그냥 비를 맞아야만 했다. 그런 소년의 어깨에서 김이 올랐다.소녀가 속삭이듯이, 이리 들어와 앉으라고 했다. 괜찮다고 했다. 소녀가 다시, 들어와 앉으', path=None, url=None, mimetype=None), image_resource=None, audio_resource=None, video_resource=None, text_template='{metadata_str}\\n\\n{content}'),\n",
       " Document(id_='4f13adc0-fd61-43b4-804e-e08ae5184f72', embedding=None, metadata={'page_label': '5', 'file_name': '소나기.pdf', 'file_path': '/home/eons/work/koshipa-llm-2025-1st/src/exercise/eons/day04/llama_index_loading/data/소나기.pdf', 'file_type': 'application/pdf', 'file_size': 123544, 'creation_date': '2025-07-23', 'last_modified_date': '2025-07-23'}, excluded_embed_metadata_keys=['file_name', 'file_type', 'file_size', 'creation_date', 'last_modified_date', 'last_accessed_date'], excluded_llm_metadata_keys=['file_name', 'file_type', 'file_size', 'creation_date', 'last_modified_date', 'last_accessed_date'], relationships={}, metadata_template='{key}: {value}', metadata_separator='\\n', text_resource=MediaResource(embeddings=None, data=None, text='- 5 -\\n라고 했다. 할 수 없이 뒷걸음질을 쳤다. 그 바람에, 소녀가 안고 있는 꽃묶음이 망그러졌다. 그러나, 소녀는 상관없다고 생각했다. 비에 젖은 소년의 몸 내음새가 확 코에 끼얹혀졌다. 그러나, 고개를 돌리지 않았다. 도리어 소년의 몸기운으로 해서 떨리던 몸이 적이 누그러지는 느낌이었다.소란하던 수숫잎 소리가 뚝 그쳤다. 밖이 멀개졌다.수숫단 속을 벗어 나왔다. 멀지 않은 앞쪽에 햇빛이 눈부시게 내리붓고 있었다. 도랑 있는 곳까지 와 보니, 엄청나게 물이 불어 있었다. 빛마저 제법 붉은 흙탕물이었다. 뛰어 건널 수가 없었다.소년이 등을 돌려 댔다. 소녀가 순순히 업히었다. 걷어올린 소년의 잠방이까지 물이 올라왔다. 소녀는 ‘어머나’소리를 지르며 소년의 목을 끌어안았다.개울가에 다다르기 전에, 가을 하늘이 언제 그랬는가 싶게 구름 한 점 없이 쪽빛으로 개어 있었다.그 뒤로 소녀의 모습은 뵈지 않았다. 매일같이 개울가로 달려와 봐도 뵈지 않았다.학교에서 쉬는 시간에 운동장을 살피기도 했다. 남 몰래 5학년 여자 반을 엿보기도 했다. 그러나, 뵈지 않았다.그날도 소년은 주머니 속 흰 조약돌만 만지작거리며 개울가로 나왔다. 그랬더니, 이 쪽 개울둑에 소녀가 앉아 있는 게 아닌가.소년은 가슴부터 두근거렸다.“그 동안 앓았다.”어쩐지 소녀의 얼굴이 해쓱해져 있었다.“그 날, 소나기 맞은 탓 아냐?”소녀가 가만히 고개를 끄덕이었다.“인제 다 났냐?”“아직도…….”“그럼, 누워 있어야지.”“하도 갑갑해서 나왔다. ……참, 그 날 재밌었어……. 그런데그 날 어디서 이런 물이 들었는지 잘 지지 않는다.”소녀가 분홍 스웨터 앞자락을 내려다본다. 거기에 검붉은 진흙물 같은 게 들어 있었다.소녀가 가만히 보조개를 떠올리며,“그래 이게 무슨 물 같니?”소년은 스웨터 앞자락만 바라보고 있었다.“내, 생각해 냈다. 그 날, 도랑을 건너면서 내가 업힌 일이 있지? 그 때, 네 등에서 옮은 물이다.”소년은 얼굴이 확 달아오름을 느꼈다.갈림길에서 소녀는“저, 오늘 아침에 우리 집에서 대추를 땄다. 낼 제사 지내려고…….”대추 한 줌을 내준다. 소년은 주춤한다.“맛봐라. 우리 증조(曾祖)할아버지가 심었다는데, 아주 달다.”소년은 두 손을 오그려 내밀며,“참, 알도 굵다!”“그리고 저, 우리 이번에 제사 지내고 나서 좀 있다. 집을 내주게 됐다.”', path=None, url=None, mimetype=None), image_resource=None, audio_resource=None, video_resource=None, text_template='{metadata_str}\\n\\n{content}'),\n",
       " Document(id_='b78bc06a-5436-4ed0-835b-71a010199398', embedding=None, metadata={'page_label': '6', 'file_name': '소나기.pdf', 'file_path': '/home/eons/work/koshipa-llm-2025-1st/src/exercise/eons/day04/llama_index_loading/data/소나기.pdf', 'file_type': 'application/pdf', 'file_size': 123544, 'creation_date': '2025-07-23', 'last_modified_date': '2025-07-23'}, excluded_embed_metadata_keys=['file_name', 'file_type', 'file_size', 'creation_date', 'last_modified_date', 'last_accessed_date'], excluded_llm_metadata_keys=['file_name', 'file_type', 'file_size', 'creation_date', 'last_modified_date', 'last_accessed_date'], relationships={}, metadata_template='{key}: {value}', metadata_separator='\\n', text_resource=MediaResource(embeddings=None, data=None, text='- 6 -\\n소년은 소녀네가 이사해 오기 전에 벌써 어른들의 이야기를 들어서, 윤 초시 손자(孫子)가 서울서 사업에 실패해 가지고 고향에 돌아오지 않을 수 없게 되었다는 걸 알고 있었다. 그것이 이번에는 고향 집마저 남의 손에 넘기게 된 모양이었다.“왜 그런지 난 이사 가는 게 싫어졌다. 어른들이 하는 일이니 어쩔 수 없지만…….”전에 없이, 소녀의 까만 눈에 쓸쓸한 빛이 떠돌았다.소녀와 헤어져 돌아오는 길에, 소년은 혼잣속으로, 소녀가 이사를 간다는 말을 수없이 되뇌어 보았다. 무어 그리 안타까울 것도 서러울 것도 없었다. 그렇건만, 소년은 지금 자기가 씹고 있는 대추알의 단맛을 모르고 있었다.이 날 밤, 소년은 몰래 덕쇠 할아버지네 호두밭으로 갔다.낯에 봐 두었던 나무로 올라갔다. 그리고, 봐 두었던 가지를 향해 작대기를 내리쳤다. 호두송이 떨어지는 소리가 별나게 크게 들렸다. 가슴이 선뜩했다. 그러나 다음 순간, 굵은 호두야 많이 떨어져라, 많이 떨어져라, 저도 모를 힘에 이끌려 마구 작대기를 내리 치는 것이었다.돌아오는 길에는 열 이틀 달이 지우는 그늘만 골라 디뎠다. 그늘의 고마움을 처음 느꼈다.불룩한 주머니를 어루만졌다. 호두송이를 맨손으로 깠다가는 옴이 오르기 쉽다는 말 같은 건 아무렇지도 않았다. 그저 근동에서 제일 가는 이 덕쇠 할아버지네 호두를 어서 소녀에게 맛보여야 한다는 생각만이 앞섰다.그러다, 아차 하는 생각이 들었다. 소녀더러 병이 좀 낫거들랑 이사 가기 전에 한 번 개울가로 나와 달라는 말을 못해 둔 것이었다. 바보 같은것, 바보 같은것.이튿날, 소년이 학교에서 돌아오니, 아버지가 나들이옷으로 갈아입고 닭 한 마리를 안고 있었다.어디 가시느냐고 물었다.그 말에도 대꾸도 없이, 아버지는 안고 있는 닭의 무게를 겨냥해 보면서,“이만하면 될까?”어머니가 망태기를 내주며,“벌써 며칠째 ‘걀걀’하고 알 날 자리를 보던데요. 크진 않아도살은 쪘을 거여요.”소년이 이번에는 어머니한테 아버지가 어디 가시느냐고 물어 보았다.“저, 서당골 윤 초시 댁에 가신다. 제삿상에라도 놓으시라고…….”“그럼, 큰 놈으로 하나 가져가지. 저 얼룩수탉으로…….”이 말에, 아버지는 허허 웃고 나서,“임마, 그래도 이게 실속이 있다.”소년은 공연히 열적어, 책보를 집어던지고는 외양간으로가, 쇠잔등을 한 번 철썩 갈겼다. 쇠파리라도 잡는 체.개울물은 날로 여물어 갔다.소년은 갈림길에서 아래쪽으로 가 보았다. 갈밭머리에서 바라보는 서당골 마을은 쪽빛 하늘 아래 한결 가까워 보였다.어른들의 말이, 내일 소녀네가 양평읍으로 이사 간다는 것이었다. 거기 가서는 조그마한 가겟방을 보게 되리라는 것이었다.소년은 저도 모르게 주머니 속 호두알을 만지작거리며, 한 손으로는 수없이 갈꽃을 휘어 꺾고 있었다.그 날 밤, 소년은 자리에 누워서도 같은 생각뿐이었다. 내일 소녀네가 이사하는 걸 가 보', path=None, url=None, mimetype=None), image_resource=None, audio_resource=None, video_resource=None, text_template='{metadata_str}\\n\\n{content}'),\n",
       " Document(id_='9b351d83-cb76-4367-a6e3-32d31662b32b', embedding=None, metadata={'page_label': '7', 'file_name': '소나기.pdf', 'file_path': '/home/eons/work/koshipa-llm-2025-1st/src/exercise/eons/day04/llama_index_loading/data/소나기.pdf', 'file_type': 'application/pdf', 'file_size': 123544, 'creation_date': '2025-07-23', 'last_modified_date': '2025-07-23'}, excluded_embed_metadata_keys=['file_name', 'file_type', 'file_size', 'creation_date', 'last_modified_date', 'last_accessed_date'], excluded_llm_metadata_keys=['file_name', 'file_type', 'file_size', 'creation_date', 'last_modified_date', 'last_accessed_date'], relationships={}, metadata_template='{key}: {value}', metadata_separator='\\n', text_resource=MediaResource(embeddings=None, data=None, text='- 7 -\\n나 어쩌나. 가면 소녀를 보게 될까 어떨까.그러다가 까무룩 잠이 들었는가 하는데,“허, 참 세상일도…….”마을 갔던 아버지가 언제 돌아왔는지,“윤 초시 댁도 말이 아니야, 그 많던 전답을 다 팔아 버리고, 대대로 살아오던 집마저 남의 손에 넘기더니, 또 악상까지 당하는걸 보면…….”남폿불 밑에서 바느질감을 안고 있던 어머니가,“증손(曾孫)이라곤 계집애 그 애 하나뿐이었지요?”“그렇지, 사내 애 둘 있던 건 어려서 잃어버리고…….”“어쩌면 그렇게 자식복이 없을까.”“글쎄 말이지. 이번 앤 꽤 여러 날 앓는 걸 약도 변변히 못써 봤다더군. 지금 같아서 윤 초시네도 대가 끊긴 셈이지.……그런데참, 이번 계집앤 어린 것이 여간 잔망스럽지가 않아. 글쎄, 죽기전에 이런 말을 했다지 않아? 자기가 죽거든 자기 입던 옷을 꼭그대로 입혀서 묻어 달라고…….”', path=None, url=None, mimetype=None), image_resource=None, audio_resource=None, video_resource=None, text_template='{metadata_str}\\n\\n{content}')]"
      ]
     },
     "execution_count": 3,
     "metadata": {},
     "output_type": "execute_result"
    }
   ],
   "source": [
    "documents"
   ]
  },
  {
   "cell_type": "code",
   "execution_count": 5,
   "id": "17270e99",
   "metadata": {},
   "outputs": [],
   "source": [
    "# sudo apt-get install libmysqlclient-dev pkg-config"
   ]
  },
  {
   "cell_type": "code",
   "execution_count": 7,
   "id": "80c001e9",
   "metadata": {},
   "outputs": [
    {
     "name": "stdout",
     "output_type": "stream",
     "text": [
      "Defaulting to user installation because normal site-packages is not writeable\n",
      "Collecting llama-index-readers-database\n",
      "  Using cached llama_index_readers_database-0.4.0-py3-none-any.whl (6.8 kB)\n",
      "Collecting PyMySQL\n",
      "  Using cached PyMySQL-1.1.1-py3-none-any.whl (44 kB)\n",
      "Collecting mysqlclient\n",
      "  Using cached mysqlclient-2.2.7.tar.gz (91 kB)\n",
      "  Installing build dependencies ... \u001b[?25ldone\n",
      "\u001b[?25h  Getting requirements to build wheel ... \u001b[?25ldone\n",
      "\u001b[?25h  Installing backend dependencies ... \u001b[?25ldone\n",
      "\u001b[?25h  Preparing metadata (pyproject.toml) ... \u001b[?25ldone\n",
      "\u001b[?25h\u001b[33m  WARNING: Generating metadata for package mysqlclient produced metadata for project name unknown. Fix your #egg=mysqlclient fragments.\u001b[0m\u001b[33m\n",
      "\u001b[0mDiscarding \u001b[4;34mhttps://files.pythonhosted.org/packages/61/68/810093cb579daae426794bbd9d88aa830fae296e85172d18cb0f0e5dd4bc/mysqlclient-2.2.7.tar.gz#sha256=24ae22b59416d5fcce7e99c9d37548350b4565baac82f95e149cac6ce4163845 (from https://pypi.org/simple/mysqlclient/) (requires-python:>=3.8)\u001b[0m: \u001b[33mRequested unknown from https://files.pythonhosted.org/packages/61/68/810093cb579daae426794bbd9d88aa830fae296e85172d18cb0f0e5dd4bc/mysqlclient-2.2.7.tar.gz#sha256=24ae22b59416d5fcce7e99c9d37548350b4565baac82f95e149cac6ce4163845 has inconsistent name: filename has 'mysqlclient', but metadata has 'unknown'\u001b[0m\n",
      "  Downloading mysqlclient-2.2.6.tar.gz (91 kB)\n",
      "\u001b[2K     \u001b[90m━━━━━━━━━━━━━━━━━━━━━━━━━━━━━━━━━━━━━━━━\u001b[0m \u001b[32m91.1/91.1 KB\u001b[0m \u001b[31m3.1 MB/s\u001b[0m eta \u001b[36m0:00:00\u001b[0m\n",
      "\u001b[?25h  Installing build dependencies ... \u001b[?25ldone\n",
      "\u001b[?25h  Getting requirements to build wheel ... \u001b[?25ldone\n",
      "\u001b[?25h  Installing backend dependencies ... \u001b[?25ldone\n",
      "\u001b[?25h  Preparing metadata (pyproject.toml) ... \u001b[?25ldone\n",
      "\u001b[?25h\u001b[33m  WARNING: Generating metadata for package mysqlclient produced metadata for project name unknown. Fix your #egg=mysqlclient fragments.\u001b[0m\u001b[33m\n",
      "\u001b[0mDiscarding \u001b[4;34mhttps://files.pythonhosted.org/packages/7d/62/51fbcd851834c830c940ded80280f593bd031137603329dd89479c68c5be/mysqlclient-2.2.6.tar.gz#sha256=c0b46d9b78b461dbb62482089ca8040fa916595b1b30f831ebbd1b0a82b43d53 (from https://pypi.org/simple/mysqlclient/) (requires-python:>=3.8)\u001b[0m: \u001b[33mRequested unknown from https://files.pythonhosted.org/packages/7d/62/51fbcd851834c830c940ded80280f593bd031137603329dd89479c68c5be/mysqlclient-2.2.6.tar.gz#sha256=c0b46d9b78b461dbb62482089ca8040fa916595b1b30f831ebbd1b0a82b43d53 has inconsistent name: filename has 'mysqlclient', but metadata has 'unknown'\u001b[0m\n",
      "  Downloading mysqlclient-2.2.5.tar.gz (90 kB)\n",
      "\u001b[2K     \u001b[90m━━━━━━━━━━━━━━━━━━━━━━━━━━━━━━━━━━━━━━━━\u001b[0m \u001b[32m90.5/90.5 KB\u001b[0m \u001b[31m7.9 MB/s\u001b[0m eta \u001b[36m0:00:00\u001b[0m\n",
      "\u001b[?25h  Installing build dependencies ... \u001b[?25ldone\n",
      "\u001b[?25h  Getting requirements to build wheel ... \u001b[?25ldone\n",
      "\u001b[?25h  Installing backend dependencies ... \u001b[?25ldone\n",
      "\u001b[?25h  Preparing metadata (pyproject.toml) ... \u001b[?25ldone\n",
      "\u001b[?25h\u001b[33m  WARNING: Generating metadata for package mysqlclient produced metadata for project name unknown. Fix your #egg=mysqlclient fragments.\u001b[0m\u001b[33m\n",
      "\u001b[0mDiscarding \u001b[4;34mhttps://files.pythonhosted.org/packages/be/95/1af2ee813d4f0b607082c18bb82aa05c98a95a402a1d2d5808999317cb16/mysqlclient-2.2.5.tar.gz#sha256=add8643c32f738014d252d2bdebb478623b04802e8396d5903905db36474d3ff (from https://pypi.org/simple/mysqlclient/) (requires-python:>=3.8)\u001b[0m: \u001b[33mRequested unknown from https://files.pythonhosted.org/packages/be/95/1af2ee813d4f0b607082c18bb82aa05c98a95a402a1d2d5808999317cb16/mysqlclient-2.2.5.tar.gz#sha256=add8643c32f738014d252d2bdebb478623b04802e8396d5903905db36474d3ff has inconsistent name: filename has 'mysqlclient', but metadata has 'unknown'\u001b[0m\n",
      "  Downloading mysqlclient-2.2.4.tar.gz (90 kB)\n",
      "\u001b[2K     \u001b[90m━━━━━━━━━━━━━━━━━━━━━━━━━━━━━━━━━━━━━━━━\u001b[0m \u001b[32m90.4/90.4 KB\u001b[0m \u001b[31m11.2 MB/s\u001b[0m eta \u001b[36m0:00:00\u001b[0m\n",
      "\u001b[?25h  Installing build dependencies ... \u001b[?25ldone\n",
      "\u001b[?25h  Getting requirements to build wheel ... \u001b[?25ldone\n",
      "\u001b[?25h  Installing backend dependencies ... \u001b[?25ldone\n",
      "\u001b[?25h  Preparing metadata (pyproject.toml) ... \u001b[?25ldone\n",
      "\u001b[?25h\u001b[33m  WARNING: Generating metadata for package mysqlclient produced metadata for project name unknown. Fix your #egg=mysqlclient fragments.\u001b[0m\u001b[33m\n",
      "\u001b[0mDiscarding \u001b[4;34mhttps://files.pythonhosted.org/packages/79/33/996dc0ba3f03e2399adc91a7de1f61cb14b57ebdb4cc6eca8a78723043cb/mysqlclient-2.2.4.tar.gz#sha256=33bc9fb3464e7d7c10b1eaf7336c5ff8f2a3d3b88bab432116ad2490beb3bf41 (from https://pypi.org/simple/mysqlclient/) (requires-python:>=3.8)\u001b[0m: \u001b[33mRequested unknown from https://files.pythonhosted.org/packages/79/33/996dc0ba3f03e2399adc91a7de1f61cb14b57ebdb4cc6eca8a78723043cb/mysqlclient-2.2.4.tar.gz#sha256=33bc9fb3464e7d7c10b1eaf7336c5ff8f2a3d3b88bab432116ad2490beb3bf41 has inconsistent name: filename has 'mysqlclient', but metadata has 'unknown'\u001b[0m\n",
      "  Downloading mysqlclient-2.2.3.tar.gz (90 kB)\n",
      "\u001b[2K     \u001b[90m━━━━━━━━━━━━━━━━━━━━━━━━━━━━━━━━━━━━━━━━\u001b[0m \u001b[32m90.2/90.2 KB\u001b[0m \u001b[31m14.8 MB/s\u001b[0m eta \u001b[36m0:00:00\u001b[0m\n",
      "\u001b[?25h  Installing build dependencies ... \u001b[?25ldone\n",
      "\u001b[?25h  Getting requirements to build wheel ... \u001b[?25ldone\n",
      "\u001b[?25h  Installing backend dependencies ... \u001b[?25ldone\n",
      "\u001b[?25h  Preparing metadata (pyproject.toml) ... \u001b[?25ldone\n",
      "\u001b[?25h\u001b[33m  WARNING: Generating metadata for package mysqlclient produced metadata for project name unknown. Fix your #egg=mysqlclient fragments.\u001b[0m\u001b[33m\n",
      "\u001b[0mDiscarding \u001b[4;34mhttps://files.pythonhosted.org/packages/10/2c/589fe3e9e045e0a9d86fc4e060de32d6df0fb9e1d48f2092c1f1abb26ffa/mysqlclient-2.2.3.tar.gz#sha256=ee51656e36fc5a92920b807ee8b9e373e3b0e267c89cdc95d73b1dbe46863631 (from https://pypi.org/simple/mysqlclient/) (requires-python:>=3.8)\u001b[0m: \u001b[33mRequested unknown from https://files.pythonhosted.org/packages/10/2c/589fe3e9e045e0a9d86fc4e060de32d6df0fb9e1d48f2092c1f1abb26ffa/mysqlclient-2.2.3.tar.gz#sha256=ee51656e36fc5a92920b807ee8b9e373e3b0e267c89cdc95d73b1dbe46863631 has inconsistent name: filename has 'mysqlclient', but metadata has 'unknown'\u001b[0m\n",
      "  Downloading mysqlclient-2.2.2.tar.gz (90 kB)\n",
      "\u001b[2K     \u001b[90m━━━━━━━━━━━━━━━━━━━━━━━━━━━━━━━━━━━━━━━━\u001b[0m \u001b[32m90.1/90.1 KB\u001b[0m \u001b[31m6.8 MB/s\u001b[0m eta \u001b[36m0:00:00\u001b[0m\n",
      "\u001b[?25h  Installing build dependencies ... \u001b[?25ldone\n",
      "\u001b[?25h  Getting requirements to build wheel ... \u001b[?25ldone\n",
      "\u001b[?25h  Installing backend dependencies ... \u001b[?25ldone\n",
      "\u001b[?25h  Preparing metadata (pyproject.toml) ... \u001b[?25ldone\n",
      "\u001b[?25h\u001b[33m  WARNING: Generating metadata for package mysqlclient produced metadata for project name unknown. Fix your #egg=mysqlclient fragments.\u001b[0m\u001b[33m\n",
      "\u001b[0mDiscarding \u001b[4;34mhttps://files.pythonhosted.org/packages/6c/37/aeefb97b20c08774ac57a27b0a0d19e9a2a9ec53c0802ee20920d98560f4/mysqlclient-2.2.2.tar.gz#sha256=6f57715fb08c80ab80d34febe0aa8ef8810e52d527ad7da2da76e8ce25e2f2e9 (from https://pypi.org/simple/mysqlclient/) (requires-python:>=3.8)\u001b[0m: \u001b[33mRequested unknown from https://files.pythonhosted.org/packages/6c/37/aeefb97b20c08774ac57a27b0a0d19e9a2a9ec53c0802ee20920d98560f4/mysqlclient-2.2.2.tar.gz#sha256=6f57715fb08c80ab80d34febe0aa8ef8810e52d527ad7da2da76e8ce25e2f2e9 has inconsistent name: filename has 'mysqlclient', but metadata has 'unknown'\u001b[0m\n",
      "  Downloading mysqlclient-2.2.1.tar.gz (89 kB)\n",
      "\u001b[2K     \u001b[90m━━━━━━━━━━━━━━━━━━━━━━━━━━━━━━━━━━━━━━━━\u001b[0m \u001b[32m90.0/90.0 KB\u001b[0m \u001b[31m11.2 MB/s\u001b[0m eta \u001b[36m0:00:00\u001b[0m\n",
      "\u001b[?25h  Installing build dependencies ... \u001b[?25ldone\n",
      "\u001b[?25h  Getting requirements to build wheel ... \u001b[?25ldone\n",
      "\u001b[?25h  Installing backend dependencies ... \u001b[?25ldone\n",
      "\u001b[?25h  Preparing metadata (pyproject.toml) ... \u001b[?25ldone\n",
      "\u001b[?25h\u001b[33m  WARNING: Generating metadata for package mysqlclient produced metadata for project name unknown. Fix your #egg=mysqlclient fragments.\u001b[0m\u001b[33m\n",
      "\u001b[0mDiscarding \u001b[4;34mhttps://files.pythonhosted.org/packages/37/fb/d9a8f763c84f1e789c027af0ffc7dbf94c9a38db961484f253f0552cbb47/mysqlclient-2.2.1.tar.gz#sha256=2c7ad15b87293b12fd44b47c46879ec95ec647f4567e866ccd70b8337584e9b2 (from https://pypi.org/simple/mysqlclient/) (requires-python:>=3.8)\u001b[0m: \u001b[33mRequested unknown from https://files.pythonhosted.org/packages/37/fb/d9a8f763c84f1e789c027af0ffc7dbf94c9a38db961484f253f0552cbb47/mysqlclient-2.2.1.tar.gz#sha256=2c7ad15b87293b12fd44b47c46879ec95ec647f4567e866ccd70b8337584e9b2 has inconsistent name: filename has 'mysqlclient', but metadata has 'unknown'\u001b[0m\n",
      "  Downloading mysqlclient-2.2.0.tar.gz (89 kB)\n",
      "\u001b[2K     \u001b[90m━━━━━━━━━━━━━━━━━━━━━━━━━━━━━━━━━━━━━━━━\u001b[0m \u001b[32m89.5/89.5 KB\u001b[0m \u001b[31m10.4 MB/s\u001b[0m eta \u001b[36m0:00:00\u001b[0m\n",
      "\u001b[?25h  Installing build dependencies ... \u001b[?25ldone\n",
      "\u001b[?25h  Getting requirements to build wheel ... \u001b[?25ldone\n",
      "\u001b[?25h  Installing backend dependencies ... \u001b[?25ldone\n",
      "\u001b[?25h  Preparing metadata (pyproject.toml) ... \u001b[?25ldone\n",
      "\u001b[?25h\u001b[33m  WARNING: Generating metadata for package mysqlclient produced metadata for project name unknown. Fix your #egg=mysqlclient fragments.\u001b[0m\u001b[33m\n",
      "\u001b[0mDiscarding \u001b[4;34mhttps://files.pythonhosted.org/packages/de/9c/b176826e8994551ce826404dab97e305a4bb76c8b0a4e016fabda2901c71/mysqlclient-2.2.0.tar.gz#sha256=04368445f9c487d8abb7a878e3d23e923e6072c04a6c320f9e0dc8a82efba14e (from https://pypi.org/simple/mysqlclient/) (requires-python:>=3.8)\u001b[0m: \u001b[33mRequested unknown from https://files.pythonhosted.org/packages/de/9c/b176826e8994551ce826404dab97e305a4bb76c8b0a4e016fabda2901c71/mysqlclient-2.2.0.tar.gz#sha256=04368445f9c487d8abb7a878e3d23e923e6072c04a6c320f9e0dc8a82efba14e has inconsistent name: filename has 'mysqlclient', but metadata has 'unknown'\u001b[0m\n",
      "  Downloading mysqlclient-2.1.1.tar.gz (88 kB)\n",
      "\u001b[2K     \u001b[90m━━━━━━━━━━━━━━━━━━━━━━━━━━━━━━━━━━━━━━━━\u001b[0m \u001b[32m88.1/88.1 KB\u001b[0m \u001b[31m11.8 MB/s\u001b[0m eta \u001b[36m0:00:00\u001b[0m\n",
      "\u001b[?25h  Preparing metadata (setup.py) ... \u001b[?25ldone\n",
      "\u001b[?25hRequirement already satisfied: llama-index-core<0.13.0,>=0.12.0 in /home/eons/.local/lib/python3.10/site-packages (from llama-index-readers-database) (0.12.52)\n",
      "Requirement already satisfied: aiosqlite in /home/eons/.local/lib/python3.10/site-packages (from llama-index-core<0.13.0,>=0.12.0->llama-index-readers-database) (0.21.0)\n",
      "Requirement already satisfied: aiohttp<4,>=3.8.6 in /home/eons/.local/lib/python3.10/site-packages (from llama-index-core<0.13.0,>=0.12.0->llama-index-readers-database) (3.12.14)\n",
      "Requirement already satisfied: dirtyjson<2,>=1.0.8 in /home/eons/.local/lib/python3.10/site-packages (from llama-index-core<0.13.0,>=0.12.0->llama-index-readers-database) (1.0.8)\n",
      "Requirement already satisfied: nltk>3.8.1 in /home/eons/.local/lib/python3.10/site-packages (from llama-index-core<0.13.0,>=0.12.0->llama-index-readers-database) (3.9.1)\n",
      "Requirement already satisfied: tiktoken>=0.7.0 in /home/eons/.local/lib/python3.10/site-packages (from llama-index-core<0.13.0,>=0.12.0->llama-index-readers-database) (0.9.0)\n",
      "Requirement already satisfied: setuptools>=80.9.0 in /home/eons/.local/lib/python3.10/site-packages (from llama-index-core<0.13.0,>=0.12.0->llama-index-readers-database) (80.9.0)\n",
      "Requirement already satisfied: httpx in /usr/local/lib/python3.10/dist-packages (from llama-index-core<0.13.0,>=0.12.0->llama-index-readers-database) (0.28.1)\n",
      "Requirement already satisfied: banks<3,>=2.2.0 in /home/eons/.local/lib/python3.10/site-packages (from llama-index-core<0.13.0,>=0.12.0->llama-index-readers-database) (2.2.0)\n",
      "Requirement already satisfied: numpy in /home/eons/.local/lib/python3.10/site-packages (from llama-index-core<0.13.0,>=0.12.0->llama-index-readers-database) (2.2.6)\n",
      "Requirement already satisfied: wrapt in /home/eons/.local/lib/python3.10/site-packages (from llama-index-core<0.13.0,>=0.12.0->llama-index-readers-database) (1.17.2)\n",
      "Requirement already satisfied: dataclasses-json in /home/eons/.local/lib/python3.10/site-packages (from llama-index-core<0.13.0,>=0.12.0->llama-index-readers-database) (0.6.7)\n",
      "Requirement already satisfied: sqlalchemy[asyncio]>=1.4.49 in /home/eons/.local/lib/python3.10/site-packages (from llama-index-core<0.13.0,>=0.12.0->llama-index-readers-database) (2.0.41)\n",
      "Requirement already satisfied: networkx>=3.0 in /home/eons/.local/lib/python3.10/site-packages (from llama-index-core<0.13.0,>=0.12.0->llama-index-readers-database) (3.4.2)\n",
      "Requirement already satisfied: filetype<2,>=1.2.0 in /home/eons/.local/lib/python3.10/site-packages (from llama-index-core<0.13.0,>=0.12.0->llama-index-readers-database) (1.2.0)\n",
      "Requirement already satisfied: pillow>=9.0.0 in /home/eons/.local/lib/python3.10/site-packages (from llama-index-core<0.13.0,>=0.12.0->llama-index-readers-database) (11.3.0)\n",
      "Requirement already satisfied: platformdirs in /home/eons/.local/lib/python3.10/site-packages (from llama-index-core<0.13.0,>=0.12.0->llama-index-readers-database) (4.3.8)\n",
      "Requirement already satisfied: llama-index-workflows<2,>=1.0.1 in /home/eons/.local/lib/python3.10/site-packages (from llama-index-core<0.13.0,>=0.12.0->llama-index-readers-database) (1.1.0)\n",
      "Requirement already satisfied: pyyaml>=6.0.1 in /home/eons/.local/lib/python3.10/site-packages (from llama-index-core<0.13.0,>=0.12.0->llama-index-readers-database) (6.0.2)\n",
      "Requirement already satisfied: tqdm<5,>=4.66.1 in /usr/local/lib/python3.10/dist-packages (from llama-index-core<0.13.0,>=0.12.0->llama-index-readers-database) (4.67.1)\n",
      "Requirement already satisfied: typing-inspect>=0.8.0 in /home/eons/.local/lib/python3.10/site-packages (from llama-index-core<0.13.0,>=0.12.0->llama-index-readers-database) (0.9.0)\n",
      "Requirement already satisfied: tenacity!=8.4.0,<10.0.0,>=8.2.0 in /home/eons/.local/lib/python3.10/site-packages (from llama-index-core<0.13.0,>=0.12.0->llama-index-readers-database) (9.1.2)\n",
      "Requirement already satisfied: nest-asyncio<2,>=1.5.8 in /home/eons/.local/lib/python3.10/site-packages (from llama-index-core<0.13.0,>=0.12.0->llama-index-readers-database) (1.6.0)\n",
      "Requirement already satisfied: fsspec>=2023.5.0 in /home/eons/.local/lib/python3.10/site-packages (from llama-index-core<0.13.0,>=0.12.0->llama-index-readers-database) (2025.7.0)\n",
      "Requirement already satisfied: requests>=2.31.0 in /home/eons/.local/lib/python3.10/site-packages (from llama-index-core<0.13.0,>=0.12.0->llama-index-readers-database) (2.32.4)\n",
      "Requirement already satisfied: pydantic>=2.8.0 in /usr/local/lib/python3.10/dist-packages (from llama-index-core<0.13.0,>=0.12.0->llama-index-readers-database) (2.11.7)\n",
      "Requirement already satisfied: deprecated>=1.2.9.3 in /home/eons/.local/lib/python3.10/site-packages (from llama-index-core<0.13.0,>=0.12.0->llama-index-readers-database) (1.2.18)\n",
      "Requirement already satisfied: typing-extensions>=4.5.0 in /usr/local/lib/python3.10/dist-packages (from llama-index-core<0.13.0,>=0.12.0->llama-index-readers-database) (4.14.1)\n",
      "Requirement already satisfied: aiosignal>=1.4.0 in /home/eons/.local/lib/python3.10/site-packages (from aiohttp<4,>=3.8.6->llama-index-core<0.13.0,>=0.12.0->llama-index-readers-database) (1.4.0)\n",
      "Requirement already satisfied: async-timeout<6.0,>=4.0 in /home/eons/.local/lib/python3.10/site-packages (from aiohttp<4,>=3.8.6->llama-index-core<0.13.0,>=0.12.0->llama-index-readers-database) (4.0.3)\n",
      "Requirement already satisfied: frozenlist>=1.1.1 in /home/eons/.local/lib/python3.10/site-packages (from aiohttp<4,>=3.8.6->llama-index-core<0.13.0,>=0.12.0->llama-index-readers-database) (1.7.0)\n",
      "Requirement already satisfied: propcache>=0.2.0 in /home/eons/.local/lib/python3.10/site-packages (from aiohttp<4,>=3.8.6->llama-index-core<0.13.0,>=0.12.0->llama-index-readers-database) (0.3.2)\n",
      "Requirement already satisfied: yarl<2.0,>=1.17.0 in /home/eons/.local/lib/python3.10/site-packages (from aiohttp<4,>=3.8.6->llama-index-core<0.13.0,>=0.12.0->llama-index-readers-database) (1.20.1)\n",
      "Requirement already satisfied: attrs>=17.3.0 in /usr/lib/python3/dist-packages (from aiohttp<4,>=3.8.6->llama-index-core<0.13.0,>=0.12.0->llama-index-readers-database) (21.2.0)\n",
      "Requirement already satisfied: aiohappyeyeballs>=2.5.0 in /home/eons/.local/lib/python3.10/site-packages (from aiohttp<4,>=3.8.6->llama-index-core<0.13.0,>=0.12.0->llama-index-readers-database) (2.6.1)\n",
      "Requirement already satisfied: multidict<7.0,>=4.5 in /home/eons/.local/lib/python3.10/site-packages (from aiohttp<4,>=3.8.6->llama-index-core<0.13.0,>=0.12.0->llama-index-readers-database) (6.6.3)\n",
      "Requirement already satisfied: griffe in /home/eons/.local/lib/python3.10/site-packages (from banks<3,>=2.2.0->llama-index-core<0.13.0,>=0.12.0->llama-index-readers-database) (1.8.0)\n",
      "Requirement already satisfied: jinja2 in /usr/lib/python3/dist-packages (from banks<3,>=2.2.0->llama-index-core<0.13.0,>=0.12.0->llama-index-readers-database) (3.0.3)\n",
      "Requirement already satisfied: llama-index-instrumentation>=0.1.0 in /home/eons/.local/lib/python3.10/site-packages (from llama-index-workflows<2,>=1.0.1->llama-index-core<0.13.0,>=0.12.0->llama-index-readers-database) (0.3.0)\n",
      "Requirement already satisfied: joblib in /home/eons/.local/lib/python3.10/site-packages (from nltk>3.8.1->llama-index-core<0.13.0,>=0.12.0->llama-index-readers-database) (1.5.1)\n",
      "Requirement already satisfied: click in /home/eons/.local/lib/python3.10/site-packages (from nltk>3.8.1->llama-index-core<0.13.0,>=0.12.0->llama-index-readers-database) (8.2.1)\n",
      "Requirement already satisfied: regex>=2021.8.3 in /home/eons/.local/lib/python3.10/site-packages (from nltk>3.8.1->llama-index-core<0.13.0,>=0.12.0->llama-index-readers-database) (2024.11.6)\n",
      "Requirement already satisfied: typing-inspection>=0.4.0 in /usr/local/lib/python3.10/dist-packages (from pydantic>=2.8.0->llama-index-core<0.13.0,>=0.12.0->llama-index-readers-database) (0.4.1)\n",
      "Requirement already satisfied: pydantic-core==2.33.2 in /usr/local/lib/python3.10/dist-packages (from pydantic>=2.8.0->llama-index-core<0.13.0,>=0.12.0->llama-index-readers-database) (2.33.2)\n",
      "Requirement already satisfied: annotated-types>=0.6.0 in /usr/local/lib/python3.10/dist-packages (from pydantic>=2.8.0->llama-index-core<0.13.0,>=0.12.0->llama-index-readers-database) (0.7.0)\n",
      "Requirement already satisfied: certifi>=2017.4.17 in /home/eons/.local/lib/python3.10/site-packages (from requests>=2.31.0->llama-index-core<0.13.0,>=0.12.0->llama-index-readers-database) (2025.7.14)\n",
      "Requirement already satisfied: urllib3<3,>=1.21.1 in /usr/lib/python3/dist-packages (from requests>=2.31.0->llama-index-core<0.13.0,>=0.12.0->llama-index-readers-database) (1.26.5)\n",
      "Requirement already satisfied: charset_normalizer<4,>=2 in /home/eons/.local/lib/python3.10/site-packages (from requests>=2.31.0->llama-index-core<0.13.0,>=0.12.0->llama-index-readers-database) (3.4.2)\n",
      "Requirement already satisfied: idna<4,>=2.5 in /usr/lib/python3/dist-packages (from requests>=2.31.0->llama-index-core<0.13.0,>=0.12.0->llama-index-readers-database) (3.3)\n",
      "Requirement already satisfied: greenlet>=1 in /home/eons/.local/lib/python3.10/site-packages (from sqlalchemy[asyncio]>=1.4.49->llama-index-core<0.13.0,>=0.12.0->llama-index-readers-database) (3.2.3)\n",
      "Requirement already satisfied: mypy-extensions>=0.3.0 in /home/eons/.local/lib/python3.10/site-packages (from typing-inspect>=0.8.0->llama-index-core<0.13.0,>=0.12.0->llama-index-readers-database) (1.1.0)\n",
      "Requirement already satisfied: marshmallow<4.0.0,>=3.18.0 in /home/eons/.local/lib/python3.10/site-packages (from dataclasses-json->llama-index-core<0.13.0,>=0.12.0->llama-index-readers-database) (3.26.1)\n",
      "Requirement already satisfied: anyio in /usr/local/lib/python3.10/dist-packages (from httpx->llama-index-core<0.13.0,>=0.12.0->llama-index-readers-database) (4.9.0)\n",
      "Requirement already satisfied: httpcore==1.* in /usr/local/lib/python3.10/dist-packages (from httpx->llama-index-core<0.13.0,>=0.12.0->llama-index-readers-database) (1.0.9)\n",
      "Requirement already satisfied: h11>=0.16 in /usr/local/lib/python3.10/dist-packages (from httpcore==1.*->httpx->llama-index-core<0.13.0,>=0.12.0->llama-index-readers-database) (0.16.0)\n",
      "Requirement already satisfied: packaging>=17.0 in /home/eons/.local/lib/python3.10/site-packages (from marshmallow<4.0.0,>=3.18.0->dataclasses-json->llama-index-core<0.13.0,>=0.12.0->llama-index-readers-database) (25.0)\n",
      "Requirement already satisfied: exceptiongroup>=1.0.2 in /usr/local/lib/python3.10/dist-packages (from anyio->httpx->llama-index-core<0.13.0,>=0.12.0->llama-index-readers-database) (1.3.0)\n",
      "Requirement already satisfied: sniffio>=1.1 in /usr/local/lib/python3.10/dist-packages (from anyio->httpx->llama-index-core<0.13.0,>=0.12.0->llama-index-readers-database) (1.3.1)\n",
      "Requirement already satisfied: colorama>=0.4 in /usr/lib/python3/dist-packages (from griffe->banks<3,>=2.2.0->llama-index-core<0.13.0,>=0.12.0->llama-index-readers-database) (0.4.4)\n",
      "Building wheels for collected packages: mysqlclient\n",
      "  Building wheel for mysqlclient (setup.py) ... \u001b[?25ldone\n",
      "\u001b[?25h  Created wheel for mysqlclient: filename=mysqlclient-2.1.1-cp310-cp310-linux_x86_64.whl size=104408 sha256=fe8a272c7dcaed9dfa62e02aa00679f79a1300c74dfb06454bc44a9b3ac54595\n",
      "  Stored in directory: /home/eons/.cache/pip/wheels/7d/34/ba/a769c165b01646816afdf9bf792e847ef149693fee432b6b65\n",
      "Successfully built mysqlclient\n",
      "Installing collected packages: PyMySQL, mysqlclient, llama-index-readers-database\n",
      "Successfully installed PyMySQL-1.1.1 llama-index-readers-database-0.4.0 mysqlclient-2.1.1\n"
     ]
    }
   ],
   "source": [
    "!pip install llama-index-readers-database PyMySQL mysqlclient"
   ]
  },
  {
   "cell_type": "code",
   "execution_count": null,
   "id": "3251731f",
   "metadata": {},
   "outputs": [],
   "source": [
    "import os\n",
    "from llama_index.core import download_loader\n",
    "\n",
    "from llama_index.readers.database import DatabaseReader\n",
    "\n",
    "reader = DatabaseReader(\n",
    "    scheme = \"mysql\",\n",
    "    host = \"127.0.0.1\",\n",
    "    port = 3306,\n",
    "    user = \"root\",\n",
    "    password = \"password\",\n",
    "    dbname = \"wordpress\"\n",
    ")\n",
    "\n",
    "query = \"SELECT * FROM wp_comments\"\n",
    "documents = reader.load_data(query=query)"
   ]
  },
  {
   "cell_type": "code",
   "execution_count": null,
   "id": "862f32ec",
   "metadata": {},
   "outputs": [],
   "source": [
    "documents"
   ]
  },
  {
   "cell_type": "code",
   "execution_count": null,
   "id": "ed9970ec",
   "metadata": {},
   "outputs": [],
   "source": [
    "from llama_index.llms.openai import OpenAI\n",
    "from llama_index.core import Settings\n",
    "from llama_index.core import VectorStoreIndex, SimpleDirectoryReader\n",
    "\n",
    "index = VectorStoreIndex.from_documents(\n",
    "    documents,\n",
    ")\n",
    "query_engine = index.as_query_engine()\n",
    "response = query_engine.query(\"댓글의 관리, 편집, 삭제를 시작하려면 어떻게 해야 하는가? 한글로 대답하세요.\")\n",
    "print(response)"
   ]
  },
  {
   "cell_type": "code",
   "execution_count": null,
   "id": "ed934af5",
   "metadata": {},
   "outputs": [],
   "source": [
    "from llama_index.core import Document\n",
    "\n",
    "doc = Document(text=\"이것은 생성형 AI 과정입니다. KOSA에서 주관합니다.\")\n",
    "documents = [doc, Document(text=\"오늘은 llama_index에 대해서 학습합니다.\")]"
   ]
  },
  {
   "cell_type": "code",
   "execution_count": null,
   "id": "d1584eb3",
   "metadata": {},
   "outputs": [],
   "source": [
    "from llama_index.llms.openai import OpenAI\n",
    "from llama_index.core import Settings\n",
    "from llama_index.core import VectorStoreIndex, SimpleDirectoryReader\n",
    "\n",
    "index = VectorStoreIndex.from_documents(\n",
    "    documents\n",
    ")\n",
    "query_engine = index.as_query_engine()\n",
    "response = query_engine.query(\"이 과정을 주관하는 기관은 어디인가? 오늘 배우는 과정 내용은 무엇인가? 한국어로 대답하세요.\")\n",
    "print(response)"
   ]
  },
  {
   "cell_type": "code",
   "execution_count": null,
   "id": "60767f5a",
   "metadata": {},
   "outputs": [],
   "source": [
    "from llama_index.core.node_parser import SentenceSplitter\n",
    "\n",
    "text_splitter = SentenceSplitter(chunk_size=512, chunk_overlap=10)\n",
    "\n",
    "# global\n",
    "from llama_index.core import Settings\n",
    "\n",
    "Settings.text_splitter = text_splitter\n",
    "\n",
    "# per-index\n",
    "index = VectorStoreIndex.from_documents(\n",
    "    documents, transformations=[text_splitter]\n",
    ")\n",
    "query_engine = index.as_query_engine()\n",
    "response = query_engine.query(\"이 과정을 주관하는 기관은 어디인가? 오늘 배우는 과정 내용은 무엇인가? 한국어로 대답하세요.\")\n",
    "print(response)"
   ]
  },
  {
   "cell_type": "code",
   "execution_count": null,
   "id": "79e4143f",
   "metadata": {},
   "outputs": [],
   "source": [
    "from llama_index.core import SimpleDirectoryReader\n",
    "from llama_index.core.ingestion import IngestionPipeline\n",
    "from llama_index.core.node_parser import TokenTextSplitter\n",
    "\n",
    "documents = SimpleDirectoryReader(\"./data\").load_data()\n",
    "documents"
   ]
  },
  {
   "cell_type": "code",
   "execution_count": null,
   "id": "56ed31a8",
   "metadata": {},
   "outputs": [],
   "source": [
    "pipeline = IngestionPipeline(transformations=[TokenTextSplitter()])\n",
    "nodes = pipeline.run(documents=documents)\n",
    "nodes"
   ]
  },
  {
   "cell_type": "code",
   "execution_count": null,
   "id": "f3ba156b",
   "metadata": {},
   "outputs": [],
   "source": [
    "index = VectorStoreIndex(nodes)\n",
    "query_engine = index.as_query_engine()\n",
    "response = query_engine.query(\"소년과 소녀는 어디에서 처음 만났나? 한국어로 대답하세요.\")\n",
    "print(response)"
   ]
  },
  {
   "cell_type": "code",
   "execution_count": null,
   "id": "2f9fd78a",
   "metadata": {},
   "outputs": [],
   "source": [
    "\"\"\"\n",
    "document = Document(\n",
    "    text=\"text\",\n",
    "    metadata={\"filename\": \"<doc_file_name>\", \"category\": \"<category>\"},\n",
    ")\n",
    "\"\"\""
   ]
  },
  {
   "cell_type": "code",
   "execution_count": null,
   "id": "1d31ea75",
   "metadata": {},
   "outputs": [],
   "source": [
    "\"\"\"\n",
    "document = Document(\n",
    "    text=\"text\",\n",
    "    metadata={\"filename\": \"<doc_file_name>\", \"category\": \"<category>\"},\n",
    ")\n",
    "\"\"\""
   ]
  }
 ],
 "metadata": {
  "kernelspec": {
   "display_name": "Python 3",
   "language": "python",
   "name": "python3"
  },
  "language_info": {
   "codemirror_mode": {
    "name": "ipython",
    "version": 3
   },
   "file_extension": ".py",
   "mimetype": "text/x-python",
   "name": "python",
   "nbconvert_exporter": "python",
   "pygments_lexer": "ipython3",
   "version": "3.10.12"
  }
 },
 "nbformat": 4,
 "nbformat_minor": 5
}
