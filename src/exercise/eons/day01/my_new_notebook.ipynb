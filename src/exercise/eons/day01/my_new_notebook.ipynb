{
 "cells": [
  {
   "cell_type": "code",
   "execution_count": 6,
   "id": "f39f105c",
   "metadata": {},
   "outputs": [
    {
     "name": "stdout",
     "output_type": "stream",
     "text": [
      "Completion(id='cmpl-BveW93Y0psd0mtF36HcrNFTQpfUHG', choices=[CompletionChoice(finish_reason='stop', index=0, logprobs=None, text='\\nこんにちは？今日の天気は本当にいいですね！')], created=1753080145, model='gpt-3.5-turbo-instruct:20230824-v2', object='text_completion', system_fingerprint=None, usage=CompletionUsage(completion_tokens=18, prompt_tokens=35, total_tokens=53, completion_tokens_details=None, prompt_tokens_details=None))\n"
     ]
    }
   ],
   "source": [
    "import os\n",
    "import openai\n",
    "\n",
    "openai.api_key = os.getenv(\"OPENAI_API_KEY\")\n",
    "\n",
    "response = openai.completions.create(\n",
    "    model= \"gpt-3.5-turbo-instruct\",\n",
    "    prompt= \"다음을 일본어로 번역하세요: 안녕하세요? 오늘 날씨가 참 좋군요!\",\n",
    "    max_tokens=256\n",
    ")\n",
    "\n",
    "print(response)"
   ]
  },
  {
   "cell_type": "code",
   "execution_count": 11,
   "id": "ee24d1ca",
   "metadata": {},
   "outputs": [
    {
     "name": "stdout",
     "output_type": "stream",
     "text": [
      "150g(0.15kg)를 더 음식을 섭취해야 합니다\n",
      "\n",
      "undereat = (105-80) * 7700 / 150\n",
      "undereat\n",
      "\n",
      "# 과소포화인 경우\n",
      "# 현재 몸무게가 80kg이고 가장 이상적인 몸무게인 70kg이 되려면\n",
      "# 과거자료에 따르면\n",
      "# 무식한듯\n",
      "\n",
      "overeat = (80-70) * 7700 / 500\n",
      "overeat\n",
      "\n",
      "overeat = (70-80) * 7700 / (-600)\n",
      "overeat\n",
      "\n",
      "# 고로 정확한 판단은 불가능\n",
      "\n",
      "overeat = (70-80) * 1000 + 70\n",
      "overeat\n",
      "\n",
      "# 무식한듯\n",
      "\n",
      "overeat = (70-80) * 7700 / (-150)\n",
      "overeat\n",
      "\n",
      "# 정확한 판단은 불가능\n",
      "\n",
      "overeat = (70-70) * 7700 / (0)\n",
      "overeat\n",
      "\n",
      "# 현재 몸무\n"
     ]
    }
   ],
   "source": [
    "import os\n",
    "import openai\n",
    "\n",
    "openai.api_key = os.getenv(\"OPENAI_API_KEY\")\n",
    "\n",
    "response = openai.completions.create(\n",
    "    model = \"gpt-3.5-turbo-instruct\",\n",
    "    prompt  = \"근육이 커지려면 \",\n",
    "    max_tokens=256,     \n",
    ")\n",
    "\n",
    "print(response.choices[0].text)"
   ]
  },
  {
   "cell_type": "code",
   "execution_count": 12,
   "id": "166e714e",
   "metadata": {},
   "outputs": [
    {
     "name": "stdout",
     "output_type": "stream",
     "text": [
      "Completion(id='cmpl-BvebRcKx2WJUsA3XTeuFpQyzL3z13', choices=[CompletionChoice(finish_reason='length', index=0, logprobs=None, text='150g(0.15kg)를 더 음식을 섭취해야 합니다\\n\\nundereat = (105-80) * 7700 / 150\\nundereat\\n\\n# 과소포화인 경우\\n# 현재 몸무게가 80kg이고 가장 이상적인 몸무게인 70kg이 되려면\\n# 과거자료에 따르면\\n# 무식한듯\\n\\novereat = (80-70) * 7700 / 500\\novereat\\n\\novereat = (70-80) * 7700 / (-600)\\novereat\\n\\n# 고로 정확한 판단은 불가능\\n\\novereat = (70-80) * 1000 + 70\\novereat\\n\\n# 무식한듯\\n\\novereat = (70-80) * 7700 / (-150)\\novereat\\n\\n# 정확한 판단은 불가능\\n\\novereat = (70-70) * 7700 / (0)\\novereat\\n\\n# 현재 몸무')], created=1753080473, model='gpt-3.5-turbo-instruct:20230824-v2', object='text_completion', system_fingerprint=None, usage=CompletionUsage(completion_tokens=256, prompt_tokens=12, total_tokens=268, completion_tokens_details=None, prompt_tokens_details=None))\n"
     ]
    }
   ],
   "source": [
    "print(response)"
   ]
  },
  {
   "cell_type": "code",
   "execution_count": null,
   "id": "4ae8a6b0",
   "metadata": {},
   "outputs": [],
   "source": []
  }
 ],
 "metadata": {
  "kernelspec": {
   "display_name": "Python 3",
   "language": "python",
   "name": "python3"
  },
  "language_info": {
   "codemirror_mode": {
    "name": "ipython",
    "version": 3
   },
   "file_extension": ".py",
   "mimetype": "text/x-python",
   "name": "python",
   "nbconvert_exporter": "python",
   "pygments_lexer": "ipython3",
   "version": "3.10.12"
  }
 },
 "nbformat": 4,
 "nbformat_minor": 5
}
