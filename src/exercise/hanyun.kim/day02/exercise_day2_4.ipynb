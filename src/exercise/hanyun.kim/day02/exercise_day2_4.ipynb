{
 "cells": [
  {
   "cell_type": "markdown",
   "id": "b32f035f",
   "metadata": {},
   "source": [
    "실습 #1: langchain을 이용하여 사용자가 업로드한 pdf 파일을 근거로 답변하는 ChatGPT 어플리케이션을 작성하시오."
   ]
  },
  {
   "cell_type": "code",
   "execution_count": null,
   "id": "933f35e6",
   "metadata": {},
   "outputs": [],
   "source": [
    "!pip install langchain openai pypdf tiktoken faiss-cpu python-dotenv \n",
    "!pip install -U langchain-community\n",
    "!pip install langchain-openai"
   ]
  },
  {
   "cell_type": "code",
   "execution_count": 1,
   "id": "1f5fe1f3",
   "metadata": {},
   "outputs": [
    {
     "name": "stdout",
     "output_type": "stream",
     "text": [
      "OpenAI API 클라이언트가 성공적으로 초기화되었습니다.\n"
     ]
    }
   ],
   "source": [
    "import os\n",
    "from dotenv import load_dotenv\n",
    "from openai import OpenAI # OpenAI 라이브러리의 최신 버전은 client 객체를 사용합니다.\n",
    "\n",
    "# .env 파일에서 환경 변수를 로드합니다.\n",
    "load_dotenv()\n",
    "\n",
    "# OpenAI API 키 설정 및 클라이언트 초기화\n",
    "api_key = os.getenv(\"OPENAI_API_KEY\")\n",
    "if api_key is None:\n",
    "    raise ValueError(\"OPENAI_API_KEY 환경 변수가 설정되지 않았습니다. .env 파일을 확인해주세요.\")\n",
    "\n",
    "client = OpenAI(api_key=api_key)\n",
    "\n",
    "print(\"OpenAI API 클라이언트가 성공적으로 초기화되었습니다.\")"
   ]
  },
  {
   "cell_type": "code",
   "execution_count": 9,
   "id": "738a6845",
   "metadata": {},
   "outputs": [
    {
     "name": "stdout",
     "output_type": "stream",
     "text": [
      "총 10개의 텍스트 청크로 분할되었습니다.\n",
      "page_content='< 1 Page >본 PDF는 샘플 페이지입니다. 아무나 쓰셔도 됩니다. PDF 테스트 등을 위해 만들었습니다.본 PDF는 샘플 페이지입니다. 아무나 쓰셔도 됩니다. PDF 테스트 등을 위해 만들었습니다.본 PDF는 샘플 페이지입니다. 아무나 쓰셔도 됩니다. PDF 테스트 등을 위해 만들었습니다.본 PDF는 샘플 페이지입니다. 아무나 쓰셔도 됩니다. PDF 테스트 등을 위해 만들었습니다.본 PDF는 샘플 페이지입니다. 아무나 쓰셔도 됩니다. PDF 테스트 등을 위해 만들었습니다.본 PDF는 샘플 페이지입니다. 아무나 쓰셔도 됩니다. PDF 테스트 등을 위해 만들었습니다.본 PDF는 샘플 페이지입니다. 아무나 쓰셔도 됩니다. PDF 테스트 등을 위해 만들었습니다.본 PDF는 샘플 페이지입니다. 아무나 쓰셔도 됩니다. PDF 테스트 등을 위해 만들었습니다.본 PDF는 샘플 페이지입니다. 아무나 쓰셔도 됩니다. PDF 테스트 등을 위해 만들었습니다.본 PDF는 샘플 페이지입니다. 아무나 쓰셔도 됩니다. PDF 테스트 등을 위해 만들었습니다.본 PDF는 샘플 페이지입니다. 아무나 쓰셔도 됩니다. PDF 테스트 등을 위해 만들었습니다.본 PDF는 샘플 페이지입니다. 아무나 쓰셔도 됩니다. PDF 테스트 등을 위해 만들었습니다.' metadata={'producer': 'Hancom PDF 1.3.0.443', 'creator': 'Hancom PDF 1.3.0.443', 'creationdate': '2020-06-21T09:52:01+09:00', 'author': '(주)한글과컴퓨터', 'moddate': '2020-06-21T09:52:01+09:00', 'pdfversion': '1.4', 'source': 'sample.pdf', 'total_pages': 5, 'page': 0, 'page_label': '1'}\n"
     ]
    }
   ],
   "source": [
    "from langchain.document_loaders import PyPDFLoader\n",
    "from langchain.text_splitter import RecursiveCharacterTextSplitter\n",
    "\n",
    "def load_and_split_pdf(file_path):\n",
    "    \"\"\"\n",
    "    PDF 파일을 로드하고 텍스트를 분할합니다.\n",
    "    \"\"\"\n",
    "    loader = PyPDFLoader(file_path)\n",
    "    documents = loader.load()\n",
    "\n",
    "    text_splitter = RecursiveCharacterTextSplitter(\n",
    "        chunk_size=1000,\n",
    "        chunk_overlap=200,\n",
    "        length_function=len,\n",
    "    )\n",
    "    texts = text_splitter.split_documents(documents)\n",
    "    print(f\"총 {len(texts)}개의 텍스트 청크로 분할되었습니다.\")\n",
    "    return texts\n",
    "\n",
    "pdf_file_path = \"sample.pdf\"\n",
    "document_chunks = load_and_split_pdf(pdf_file_path)\n",
    "print (document_chunks[0])"
   ]
  },
  {
   "cell_type": "code",
   "execution_count": 8,
   "id": "60e4635c",
   "metadata": {},
   "outputs": [
    {
     "name": "stdout",
     "output_type": "stream",
     "text": [
      "FAISS 벡터 저장소가 성공적으로 생성되었습니다.\n"
     ]
    }
   ],
   "source": [
    "from langchain_openai import OpenAIEmbeddings # 최신 LangChain 버전에서는 이렇게 임포트합니다.\n",
    "from langchain_community.vectorstores import FAISS # 최신 LangChain 버전에서는 이렇게 임포트합니다.\n",
    "\n",
    "def create_vectorstore(texts, openai_api_key):\n",
    "    \"\"\"\n",
    "    텍스트 청크를 임베딩하고 FAISS 벡터 저장소를 생성합니다.\n",
    "    \"\"\"\n",
    "    # OpenAIEmbeddings 초기화 시 api_key를 직접 전달합니다.\n",
    "    embeddings = OpenAIEmbeddings(openai_api_key=openai_api_key)\n",
    "    vectorstore = FAISS.from_documents(texts, embeddings)\n",
    "    print(\"FAISS 벡터 저장소가 성공적으로 생성되었습니다.\")\n",
    "    return vectorstore\n",
    "\n",
    "if document_chunks:\n",
    "    vector_store = create_vectorstore(document_chunks, api_key)\n",
    "else:\n",
    "    print(\"문서 청크가 없어 벡터 저장소를 생성할 수 없습니다. PDF 파일을 확인해주세요.\")\n",
    "    vector_store = None"
   ]
  },
  {
   "cell_type": "code",
   "execution_count": 4,
   "id": "ff5cdd3e",
   "metadata": {},
   "outputs": [
    {
     "name": "stdout",
     "output_type": "stream",
     "text": [
      "질의응답 체인이 성공적으로 설정되었습니다.\n"
     ]
    }
   ],
   "source": [
    "from langchain.chains import RetrievalQA\n",
    "from langchain_openai import ChatOpenAI # 최신 LangChain 버전에서는 이렇게 임포트합니다.\n",
    "\n",
    "def setup_qa_chain(vectorstore, openai_api_key):\n",
    "    \"\"\"\n",
    "    질의응답 체인을 설정합니다.\n",
    "    \"\"\"\n",
    "    # ChatOpenAI 초기화 시 api_key를 직접 전달합니다.\n",
    "    llm = ChatOpenAI(model_name=\"gpt-3.5-turbo\", temperature=0, openai_api_key=openai_api_key) # temperature=0으로 설정하여 일관된 답변 유도\n",
    "    qa_chain = RetrievalQA.from_chain_type(\n",
    "        llm=llm,\n",
    "        chain_type=\"stuff\", # 'stuff'는 모든 문서를 한 번에 LLM에 전달\n",
    "        retriever=vectorstore.as_retriever(),\n",
    "    )\n",
    "    print(\"질의응답 체인이 성공적으로 설정되었습니다.\")\n",
    "    return qa_chain\n",
    "\n",
    "if vector_store:\n",
    "    qa_chain = setup_qa_chain(vector_store, api_key)\n",
    "else:\n",
    "    print(\"벡터 저장소가 없어 질의응답 체인을 설정할 수 없습니다.\")\n",
    "    qa_chain = None"
   ]
  },
  {
   "cell_type": "code",
   "execution_count": 10,
   "id": "57b5f471",
   "metadata": {},
   "outputs": [
    {
     "name": "stdout",
     "output_type": "stream",
     "text": [
      "\n",
      "--- 챗봇과 대화 시작 ---\n",
      "\n",
      "챗봇 답변: A PDF is a Portable Document Format file, commonly used for sharing documents in a consistent format that can be viewed on various devices.\n",
      "\n",
      "\n",
      "챗봇 답변: I don't know.\n",
      "\n",
      "\n",
      "챗봇 답변: Yes, the text provided indicates that the PDF is a sample page created for testing and more.\n",
      "\n",
      "\n",
      "챗봇 답변: 네, 이 PDF는 연습용으로 만들어진 것입니다.\n",
      "\n",
      "\n",
      "챗봇 답변: 네, 이 PDF 파일은 연습용으로 만들어진 것입니다.\n",
      "\n",
      "\n",
      "챗봇 답변: 저는 종료할 수 없는 챗봇이에요. 계속해서 질문이나 도움이 필요하신 내용이 있으면 무엇이든 물어봐 주세요!\n",
      "\n",
      "챗봇을 종료합니다.\n"
     ]
    }
   ],
   "source": [
    "if qa_chain:\n",
    "    print(\"\\n--- 챗봇과 대화 시작 ---\")\n",
    "    while True:\n",
    "        user_question = input(\"질문을 입력하세요 (종료하려면 '종료' 입력): \")\n",
    "        if user_question.lower() == '종료':\n",
    "            print(\"챗봇을 종료합니다.\")\n",
    "            break\n",
    "        \n",
    "        if not user_question.strip():\n",
    "            print(\"질문을 입력해주세요.\")\n",
    "            continue\n",
    "\n",
    "        try:\n",
    "            response = qa_chain.run(user_question)\n",
    "            print(f\"\\n챗봇 답변: {response}\\n\")\n",
    "        except Exception as e:\n",
    "            print(f\"오류 발생: {e}\")\n",
    "            print(\"API 키가 올바른지 확인하거나, PDF 내용이 질문에 충분한 정보를 제공하는지 확인해주세요.\")\n",
    "else:\n",
    "    print(\"질의응답 체인이 초기화되지 않아 챗봇을 실행할 수 없습니다. 이전 단계를 확인해주세요.\")"
   ]
  }
 ],
 "metadata": {
  "kernelspec": {
   "display_name": "Python 3",
   "language": "python",
   "name": "python3"
  },
  "language_info": {
   "codemirror_mode": {
    "name": "ipython",
    "version": 3
   },
   "file_extension": ".py",
   "mimetype": "text/x-python",
   "name": "python",
   "nbconvert_exporter": "python",
   "pygments_lexer": "ipython3",
   "version": "3.10.12"
  }
 },
 "nbformat": 4,
 "nbformat_minor": 5
}
