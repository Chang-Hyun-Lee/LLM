{
 "cells": [
  {
   "cell_type": "code",
   "execution_count": null,
   "id": "c4dff5e6",
   "metadata": {},
   "outputs": [],
   "source": [
    "!pip install requests beautifulsoup4 sentence-transformers scikit-learn plotly pandas konlpy\n",
    "!pip install --upgrade nbformat"
   ]
  },
  {
   "cell_type": "code",
   "execution_count": 1,
   "id": "8efd1660",
   "metadata": {},
   "outputs": [
    {
     "name": "stderr",
     "output_type": "stream",
     "text": [
      "/home/ubuntu/.local/lib/python3.10/site-packages/tqdm/auto.py:21: TqdmWarning: IProgress not found. Please update jupyter and ipywidgets. See https://ipywidgets.readthedocs.io/en/stable/user_install.html\n",
      "  from .autonotebook import tqdm as notebook_tqdm\n"
     ]
    },
    {
     "name": "stdout",
     "output_type": "stream",
     "text": [
      "JAVA_HOME이 '/usr/lib/jvm/java-11-openjdk-amd64'으로 설정되었습니다.\n",
      "Okt 객체가 성공적으로 생성되었습니다!\n"
     ]
    }
   ],
   "source": [
    "import os\n",
    "import requests\n",
    "from bs4 import BeautifulSoup\n",
    "from sentence_transformers import SentenceTransformer\n",
    "from sklearn.manifold import TSNE\n",
    "import plotly.express as px\n",
    "import pandas as pd\n",
    "import re\n",
    "from konlpy.tag import Okt # 한국어 형태소 분석기\n",
    "\n",
    "# --- Java 환경 변수 설정 ---\n",
    "# 이 경로를 위에서 찾은 실제 JDK 경로로 변경해주세요!\n",
    "# 예시: \"/usr/lib/jvm/java-11-openjdk-amd64\"\n",
    "java_home_path = \"/usr/lib/jvm/java-11-openjdk-amd64\" # **여기를 본인의 실제 JDK 경로로 수정하세요.**\n",
    "\n",
    "os.environ[\"JAVA_HOME\"] = java_home_path\n",
    "print(f\"JAVA_HOME이 '{os.environ['JAVA_HOME']}'으로 설정되었습니다.\")\n",
    "\n",
    "try:\n",
    "    okt = Okt() # Okt 객체는 단 한 번만 생성합니다.\n",
    "    print(\"Okt 객체가 성공적으로 생성되었습니다!\")\n",
    "except Exception as e:\n",
    "    print(f\"Okt 객체 생성 중 오류 발생: {e}\")\n",
    "    print(\"JAVA_HOME 경로를 다시 확인하거나, JDK가 제대로 설치되었는지 확인해주세요.\")\n",
    "    # Okt 객체 생성이 실패하면 이후 코드를 실행해도 의미가 없으므로, 필요에 따라 sys.exit() 등을 사용할 수 있습니다."
   ]
  },
  {
   "cell_type": "code",
   "execution_count": 3,
   "id": "1087bce2",
   "metadata": {},
   "outputs": [
    {
     "name": "stdout",
     "output_type": "stream",
     "text": [
      "JAVA_HOME이 '/usr/lib/jvm/java-11-openjdk-amd64'으로 설정되었습니다.\n",
      "Okt 객체가 성공적으로 생성되었습니다!\n"
     ]
    }
   ],
   "source": [
    "import os\n",
    "import requests\n",
    "from bs4 import BeautifulSoup\n",
    "from sentence_transformers import SentenceTransformer\n",
    "from sklearn.manifold import TSNE\n",
    "import plotly.express as px\n",
    "import pandas as pd\n",
    "import re\n",
    "from konlpy.tag import Okt # 한국어 형태소 분석기\n",
    "\n",
    "# --- Java 환경 변수 설정 ---\n",
    "# 이 경로를 위에서 찾은 실제 JDK 경로로 변경해주세요!\n",
    "# 예시: \"/usr/lib/jvm/java-11-openjdk-amd64\"\n",
    "java_home_path = \"/usr/lib/jvm/java-11-openjdk-amd64\" # **여기를 본인의 실제 JDK 경로로 수정하세요.**\n",
    "\n",
    "os.environ[\"JAVA_HOME\"] = java_home_path\n",
    "print(f\"JAVA_HOME이 '{os.environ['JAVA_HOME']}'으로 설정되었습니다.\")\n",
    "\n",
    "try:\n",
    "    okt = Okt() # Okt 객체는 단 한 번만 생성합니다.\n",
    "    print(\"Okt 객체가 성공적으로 생성되었습니다!\")\n",
    "except Exception as e:\n",
    "    print(f\"Okt 객체 생성 중 오류 발생: {e}\")\n",
    "    print(\"JAVA_HOME 경로를 다시 확인하거나, JDK가 제대로 설치되었는지 확인해주세요.\")\n",
    "    # Okt 객체 생성이 실패하면 이후 코드를 실행해도 의미가 없으므로, 필요에 따라 sys.exit() 등을 사용할 수 있습니다."
   ]
  },
  {
   "cell_type": "code",
   "execution_count": 4,
   "id": "b40545ab",
   "metadata": {},
   "outputs": [],
   "source": [
    "# 웹 페이지 텍스트 추출 함수\n",
    "def get_text_from_url(url):\n",
    "    try:\n",
    "        response = requests.get(url, timeout=10)\n",
    "        response.raise_for_status() # HTTP 오류 발생 시 예외 발생\n",
    "        soup = BeautifulSoup(response.text, 'html.parser')\n",
    "\n",
    "        # 스크립트, 스타일 태그 제거\n",
    "        for script_or_style in soup(['script', 'style']):\n",
    "            script_or_style.extract()\n",
    "\n",
    "        # 텍스트만 추출\n",
    "        text = soup.get_text()\n",
    "\n",
    "        # 여러 공백을 하나의 공백으로, 줄바꿈 제거\n",
    "        text = re.sub(r'\\s+', ' ', text).strip()\n",
    "        return text\n",
    "    except requests.exceptions.RequestException as e:\n",
    "        print(f\"URL에서 데이터를 가져오는 데 실패했습니다: {e}\")\n",
    "        return None\n",
    "    except Exception as e:\n",
    "        print(f\"텍스트 처리 중 오류 발생: {e}\")\n",
    "        return None\n",
    "\n",
    "# 한국어 명사(키워드) 추출 함수 (빈도 반환 포함)\n",
    "def extract_korean_nouns(text, min_length=2, top_n=100, stopwords=None):\n",
    "    if stopwords is None:\n",
    "        stopwords = []\n",
    "\n",
    "    nouns = okt.nouns(text)\n",
    "    filtered_nouns = [\n",
    "        word for word in nouns\n",
    "        if len(word) >= min_length and\n",
    "           not re.match(r'^[0-9]+$', word) and # 숫자만 있는 단어 제거\n",
    "           not re.match(r'^[^\\w\\s]+$', word) and # 특수문자만 있는 단어 제거\n",
    "           word not in stopwords # 불용어 목록에 없는 단어만 포함\n",
    "    ]\n",
    "    \n",
    "    word_counts = pd.Series(filtered_nouns).value_counts()\n",
    "    \n",
    "    # 상위 N개 단어만 선택\n",
    "    top_words_series = word_counts.head(top_n)\n",
    "    \n",
    "    # 단어 리스트와 해당 빈도 리스트를 별도로 반환합니다.\n",
    "    top_words = top_words_series.index.tolist()\n",
    "    top_frequencies = top_words_series.values.tolist()\n",
    "    \n",
    "    return top_words, top_frequencies\n",
    "\n",
    "# 단어 임베딩 모델 로드 (다국어 지원 모델 사용)\n",
    "model = SentenceTransformer('distiluse-base-multilingual-cased-v2')\n",
    "\n",
    "# 단어 임베딩 함수\n",
    "def embed_words(words, model):\n",
    "    if not words:\n",
    "        return None\n",
    "    print(f\"{len(words)}개의 단어를 임베딩 중...\")\n",
    "    embeddings = model.encode(words, show_progress_bar=True)\n",
    "    return embeddings\n",
    "\n",
    "# 3D 차원 축소 함수 (n_components=3으로 고정)\n",
    "def reduce_dimensions_3d(embeddings):\n",
    "    if embeddings is None or len(embeddings) < 3:\n",
    "        print(f\"경고: 임베딩 개수가 3보다 적어 3D 차원 축소를 수행할 수 없습니다.\")\n",
    "        return None\n",
    "    \n",
    "    # perplexity 값을 데이터 개수에 맞게 조정 (TSNE 오류 방지)\n",
    "    # TSNE requires perplexity > 1 and perplexity < n_samples\n",
    "    perplexity_val = min(30, len(embeddings) - 1)\n",
    "    if perplexity_val <= 1:\n",
    "        print(\"경고: TSNE를 위한 충분한 데이터 포인트가 없습니다 (perplexity <= 1).\")\n",
    "        return None\n",
    "        \n",
    "    tsne = TSNE(n_components=3, random_state=42, perplexity=perplexity_val)\n",
    "    reduced_embeddings = tsne.fit_transform(embeddings)\n",
    "    return reduced_embeddings"
   ]
  },
  {
   "cell_type": "code",
   "execution_count": 5,
   "id": "6b5450ae",
   "metadata": {},
   "outputs": [
    {
     "name": "stdout",
     "output_type": "stream",
     "text": [
      "'https://ko.wikipedia.org/wiki/%EC%9D%B8%EA%B3%B5%EC%A7%80%EB%8A%A5' 에서 텍스트를 추출하고 있습니다. 잠시만 기다려 주세요...\n",
      "\n",
      "--- 추출된 텍스트 미리보기 (상위 500자) ---\n",
      "인공지능 - 위키백과, 우리 모두의 백과사전 본문으로 이동 주 메뉴 주 메뉴 사이드바로 이동 숨기기 둘러보기 대문최근 바뀜요즘 화제임의의 문서로 사용자 모임 사랑방사용자 모임관리 요청 편집 안내 소개도움말정책과 지침질문방 검색 검색 보이기 기부 계정 만들기 로그인 개인 도구 기부 계정 만들기 로그인 목차 사이드바로 이동 숨기기 처음 위치 1 강인공지능과 약인공지능 강인공지능과 약인공지능 하위섹션 토글하기 1.1 약인공지능 1.2 강인공지능 (AGI) 1.2.1 강인공지능의 실현 가능성에 관한 논쟁 2 역사 역사 하위섹션 토글하기 2.1 인공지능 이론의 발전 2.2 인공지능의 탄생(1943-1956) 2.2.1 인공두뇌학과 초기 신경 네트워크 2.2.2 튜링 테스트 2.2.3 게임 인공지능 2.2.4 상징 추론과 논리 이론 2.2.5 다트머스 컨퍼런스 1956년: AI의 탄생 2.3 황금기(1956~1974년) 2.3.1 작업들 2.3.1.1 탐색 추리 2.3.1.2 자연어 처리 2....\n",
      "\n",
      "--- 키워드 (명사) 추출 중 ---\n",
      "총 100개의 주요 키워드가 추출되었습니다.\n",
      "추출된 키워드 (상위 20개): ['지능', '인공', '기술', '시스템', '연구', '문제', '기계', '컴퓨터', '인간', '사용', '프로그램', '공학', '대한', '분야', '사람', '문서', '다른', '이론', '대해', '스키']\n",
      "해당 빈도 (상위 20개): [253, 186, 75, 70, 67, 66, 63, 57, 53, 51, 46, 40, 40, 35, 34, 30, 28, 27, 26, 25]\n"
     ]
    }
   ],
   "source": [
    "# 시각화할 웹 페이지 URL 입력\n",
    "url_to_visualize = \"https://ko.wikipedia.org/wiki/%EC%9D%B8%EA%B3%B5%EC%A7%80%EB%8A%A5\" # 위키백과 인공지능 페이지 예시\n",
    "# 다른 예시 URL: \"https://www.google.com/intl/ko/about/products/\" (텍스트 양이 많지 않을 수 있습니다)\n",
    "# 원하는 URL로 변경하세요.\n",
    "\n",
    "print(f\"'{url_to_visualize}' 에서 텍스트를 추출하고 있습니다. 잠시만 기다려 주세요...\")\n",
    "text_content = get_text_from_url(url_to_visualize)\n",
    "\n",
    "if text_content:\n",
    "    print(\"\\n--- 추출된 텍스트 미리보기 (상위 500자) ---\")\n",
    "    print(text_content[:500] + \"...\" if len(text_content) > 500 else text_content)\n",
    "\n",
    "    print(\"\\n--- 키워드 (명사) 추출 중 ---\")\n",
    "    # extract_korean_nouns 함수가 단어와 빈도를 함께 반환하도록 변경했으므로, 두 변수로 받습니다.\n",
    "    # 사용자 정의 불용어를 추가하고 싶다면 stopwords=korean_stopwords 인자를 전달할 수 있습니다.\n",
    "    keywords, frequencies = extract_korean_nouns(text_content, top_n=100) \n",
    "    \n",
    "    # 선택 사항: 불용어 목록 예시 (주석 해제 후 사용)\n",
    "    # korean_stopwords = ['대한', '통해', '경우', '있습니다', '됩니다', '같은', '가지', '등', '수', '것', '때', '이', '그', '저']\n",
    "    # keywords, frequencies = extract_korean_nouns(text_content, top_n=100, stopwords=korean_stopwords)\n",
    "    \n",
    "    print(f\"총 {len(keywords)}개의 주요 키워드가 추출되었습니다.\")\n",
    "    print(\"추출된 키워드 (상위 20개):\", keywords[:20])\n",
    "    print(\"해당 빈도 (상위 20개):\", frequencies[:20])\n",
    "\n",
    "    if not keywords:\n",
    "        print(\"경고: 웹 페이지에서 유효한 키워드를 추출할 수 없었습니다.\")\n",
    "else:\n",
    "    print(\"오류: 웹 페이지에서 텍스트를 가져오거나 처리하는 데 문제가 발생했습니다.\")"
   ]
  },
  {
   "cell_type": "code",
   "execution_count": 6,
   "id": "19703e78",
   "metadata": {},
   "outputs": [
    {
     "name": "stdout",
     "output_type": "stream",
     "text": [
      "\n",
      "--- 키워드 임베딩 진행 중 ---\n",
      "100개의 단어를 임베딩 중...\n"
     ]
    },
    {
     "name": "stderr",
     "output_type": "stream",
     "text": [
      "Batches: 100%|██████████| 4/4 [00:00<00:00,  5.74it/s]\n"
     ]
    },
    {
     "name": "stdout",
     "output_type": "stream",
     "text": [
      "\n",
      "--- 3D 차원 축소 (TSNE) 진행 중 ---\n",
      "\n",
      "3D 차원 축소 완료. 단어 데이터 프레임 준비 완료.\n"
     ]
    }
   ],
   "source": [
    "if keywords:\n",
    "    print(\"\\n--- 키워드 임베딩 진행 중 ---\")\n",
    "    word_embeddings = embed_words(keywords, model)\n",
    "\n",
    "    if word_embeddings is not None:\n",
    "        print(\"\\n--- 3D 차원 축소 (TSNE) 진행 중 ---\")\n",
    "        reduced_word_embeddings_3d = reduce_dimensions_3d(word_embeddings)\n",
    "\n",
    "        if reduced_word_embeddings_3d is not None:\n",
    "            df_words = pd.DataFrame(reduced_word_embeddings_3d, columns=['Dimension 1', 'Dimension 2', 'Dimension 3'])\n",
    "            df_words['Word'] = keywords\n",
    "            df_words['Frequency'] = frequencies # 여기에 빈도(Frequency) 열 추가!\n",
    "            print(\"\\n3D 차원 축소 완료. 단어 데이터 프레임 준비 완료.\")\n",
    "        else:\n",
    "            print(\"경고: 3D 차원 축소에 실패했습니다. 키워드 개수가 너무 적을 수 있습니다.\")\n",
    "    else:\n",
    "        print(\"경고: 단어 임베딩에 실패했습니다.\")\n",
    "else:\n",
    "    print(\"경고: 시각화할 키워드가 없습니다.\")"
   ]
  },
  {
   "cell_type": "code",
   "execution_count": 8,
   "id": "41a4f3da",
   "metadata": {},
   "outputs": [
    {
     "name": "stdout",
     "output_type": "stream",
     "text": [
      "\n",
      "--- 3D 시각화 생성 중 (빈도 반영) ---\n"
     ]
    },
    {
     "data": {
      "application/vnd.plotly.v1+json": {
       "config": {
        "plotlyServerURL": "https://plot.ly"
       },
       "data": [
        {
         "customdata": {
          "bdata": "/QC6AEsARgBDAEIAPwA5ADUAMwAuACgAKAAjACIAHgAcABsAGgAZABkAGQAYABcAFgAVABUAFAAUABQAEwATABIAEgASABEAEQARABEAEQAQABAAEAAQABAADwAPAA8ADwAPAA8ADgAOAA0ADQANAA0ADQANAA0ADQANAA0ADQANAA0ADQAMAAwADAALAAsACwALAAsACwALAAsACgAKAAoACgAKAAoACgAKAAoACgAKAAoACQAJAAkACQAJAAkACQAJAAkACAA=",
          "dtype": "i2",
          "shape": "100, 1"
         },
         "hovertemplate": "<b>%{hovertext}</b><br><br>Frequency=%{marker.color}<extra></extra>",
         "hovertext": [
          "지능",
          "인공",
          "기술",
          "시스템",
          "연구",
          "문제",
          "기계",
          "컴퓨터",
          "인간",
          "사용",
          "프로그램",
          "공학",
          "대한",
          "분야",
          "사람",
          "문서",
          "다른",
          "이론",
          "대해",
          "스키",
          "논리",
          "전문가",
          "해결",
          "학습",
          "주장",
          "연구자",
          "성공",
          "개발",
          "생각",
          "프로젝트",
          "인식",
          "추론",
          "개념",
          "과학",
          "언어",
          "지식",
          "신경망",
          "모든",
          "접근",
          "가지",
          "위해",
          "튜링",
          "형태",
          "포함",
          "목표",
          "구가",
          "또한",
          "능력",
          "매카시",
          "정의",
          "일반",
          "처리",
          "이용",
          "주의",
          "행동",
          "방법",
          "실제",
          "우리",
          "산업",
          "세계",
          "에이전트",
          "때문",
          "네트워크",
          "자금",
          "로봇",
          "발전",
          "역사",
          "미래",
          "매우",
          "관련",
          "위키데이터",
          "정보",
          "가장",
          "마빈",
          "지원",
          "증명",
          "시작",
          "속성",
          "사이먼",
          "계속",
          "구현",
          "기반",
          "달러",
          "탄생",
          "정도",
          "방식",
          "게임",
          "대화",
          "가능성",
          "결과",
          "투자",
          "철학",
          "패러다임",
          "초기",
          "모델",
          "계산",
          "산업혁명",
          "현재",
          "비판",
          "수행"
         ],
         "legendgroup": "",
         "marker": {
          "color": {
           "bdata": "/QC6AEsARgBDAEIAPwA5ADUAMwAuACgAKAAjACIAHgAcABsAGgAZABkAGQAYABcAFgAVABUAFAAUABQAEwATABIAEgASABEAEQARABEAEQAQABAAEAAQABAADwAPAA8ADwAPAA8ADgAOAA0ADQANAA0ADQANAA0ADQANAA0ADQANAA0ADQAMAAwADAALAAsACwALAAsACwALAAsACgAKAAoACgAKAAoACgAKAAoACgAKAAoACQAJAAkACQAJAAkACQAJAAkACAA=",
           "dtype": "i2"
          },
          "coloraxis": "coloraxis",
          "size": {
           "bdata": "/QC6AEsARgBDAEIAPwA5ADUAMwAuACgAKAAjACIAHgAcABsAGgAZABkAGQAYABcAFgAVABUAFAAUABQAEwATABIAEgASABEAEQARABEAEQAQABAAEAAQABAADwAPAA8ADwAPAA8ADgAOAA0ADQANAA0ADQANAA0ADQANAA0ADQANAA0ADQAMAAwADAALAAsACwALAAsACwALAAsACgAKAAoACgAKAAoACgAKAAoACgAKAAoACQAJAAkACQAJAAkACQAJAAkACAA=",
           "dtype": "i2"
          },
          "sizemode": "area",
          "sizeref": 0.6325,
          "symbol": "circle"
         },
         "mode": "markers",
         "name": "",
         "scene": "scene",
         "showlegend": false,
         "type": "scatter3d",
         "x": {
          "bdata": "xSLgwosti8HGpJzBypAywlNSH8ILKQzDNEg8QnCtVULYsp5ClvbjQYNAFMHM1/bA0YPmwl3gCUBFARDCCkFDQjHCvEERuXTCjrQQRBBKsELCBMdC4DC3QeTO4UIGvwxCnFd/vwSlNUAplIJCIW0eQkoXg0FdYnVCGyB/QoWXF8IigHfCjiwawRhM7kLo04HC34nNPsvCAEKHOpBCdHGYwuO1/8KK4ypBJKeqwV3BwsLgaORCQ3SSwrIarMEl+gJDR+eSwiPhhkIFfAdBZkYkQUskhsJn2D/CauVSwc9Ag8IO1K7CSTPRQiWTTMISICfBeJ+IQbF71MKx4L7BghbbQtsc4sBSZsnB0yPxwlGZGUEMyT9Cq2PMwouDsULpNLrBOWWgQT0960Lf+wbD/gzLwUkmi0JcWrPCn/iHQr3xjMKTHjbCGQGQwlakJ0Jf2o1CQUTbwpibjsKRQq1C2AuIQgsLm0HSdGhCq5EbwsOLoMJdYrVBIPVEQizqJsJumIRB/MWwwqnGTkF2DqfBxZWYQw==",
          "dtype": "f4"
         },
         "y": {
          "bdata": "xFqIQn6gXsENfLRBIdCAQhTuBsF3HwjC4f4xQT32TELUo85CwqP3Qs9zXsI/TgxCTmtTwQj8BUNIKSpBUW7kwp3g9sGvWA3CK2eOQ16D0kJHnV5C3zA3QASzp8IXB0jC62YUQnQ9ccAjEBnCnueKQuJZU7/EJXTCuRG4wkY9aEIaZpPCOvgyQoNlD0IaBM9C+QyiQhiPxkIHfHfBH8UnwgxW1MKFCkXC1ZONwAsJn0K5XOHBaJGtwevX98F/CFPBaG/lQsWz6cJ5mjlC5NGKwWpJMsKmFsTCf09twi9LekEbK4DCHAyXwjHyvUF2ReJCo6JtQgBwUMHWRuFCbH8uwgWGe0Lwt2zCN0NowU4+6cLvs31CcbM+Qh8BD0JLEbpCfs6HwsoLA0KrCPhBqsymwr4ARMKiJz1CmtZGQpwv8sIfTlRCE+tvQYk9+0KkQglBvPaAwmHxvkDmm63A+pg/QuoPBMGcTKzAxPxLQX5iv8JbTy1BCMJ6wqZPGMLXKZ3C7tkRQu6/4cLjzQHDXEf5wg==",
          "dtype": "f4"
         },
         "z": {
          "bdata": "A/g7whz8dcKpvlLCAREmwsmZEMNVHyZCypahwjbG7EI6IxjC9IaLwh5h0EItX7bC8Z1EwafP40GqzOFCuEuowZ9aukAnaUbCDOW6wpxTKkI6NMs+OB8FwpwQhsCFHYHCM+m3vSByCsPInuzCnvbNwjaWtULIFS5CBFOMwqE8jEKPtLDBVjQPw4QCU8IsDjhAual9QfnEmkJK+zDCS3TAwnbzhsAsC0lC4Wg/QjlGTUKLLxdCcJK3wMQsMEA8ZoTBBplJwiAdEkJL0G5C5ua2wi902kJpNJVCRY8hwpnphEJCxhBCotidQgFex8Ky/9/B0nImwmd7n0L3FXxCXwiOwtKQ80IfKKvCmP+PwopZ2UGw1ENBVJ/FQmkC38LaM7bC3mMfwbSXTkLOpc1ByphkQfVUM8GouaDAWKl1QkFgh0G3EbRBHvBDws9zjUDBtEI/P241Pz6WCUIVEMxCeko/wpewC0MDkFRCaNYbweTfe8KS2ppBIMHPQphqVkLiINvCPn3Uwuk6mUKCI/PBaSGcQw==",
          "dtype": "f4"
         }
        }
       ],
       "layout": {
        "coloraxis": {
         "colorbar": {
          "title": {
           "text": "Frequency"
          }
         },
         "colorscale": [
          [
           0,
           "#0d0887"
          ],
          [
           0.1111111111111111,
           "#46039f"
          ],
          [
           0.2222222222222222,
           "#7201a8"
          ],
          [
           0.3333333333333333,
           "#9c179e"
          ],
          [
           0.4444444444444444,
           "#bd3786"
          ],
          [
           0.5555555555555556,
           "#d8576b"
          ],
          [
           0.6666666666666666,
           "#ed7953"
          ],
          [
           0.7777777777777778,
           "#fb9f3a"
          ],
          [
           0.8888888888888888,
           "#fdca26"
          ],
          [
           1,
           "#f0f921"
          ]
         ]
        },
        "height": 700,
        "legend": {
         "itemsizing": "constant",
         "tracegroupgap": 0
        },
        "scene": {
         "domain": {
          "x": [
           0,
           1
          ],
          "y": [
           0,
           1
          ]
         },
         "xaxis": {
          "title": {
           "text": "Dimension 1"
          }
         },
         "yaxis": {
          "title": {
           "text": "Dimension 2"
          }
         },
         "zaxis": {
          "title": {
           "text": "Dimension 3"
          }
         }
        },
        "template": {
         "data": {
          "bar": [
           {
            "error_x": {
             "color": "#2a3f5f"
            },
            "error_y": {
             "color": "#2a3f5f"
            },
            "marker": {
             "line": {
              "color": "#E5ECF6",
              "width": 0.5
             },
             "pattern": {
              "fillmode": "overlay",
              "size": 10,
              "solidity": 0.2
             }
            },
            "type": "bar"
           }
          ],
          "barpolar": [
           {
            "marker": {
             "line": {
              "color": "#E5ECF6",
              "width": 0.5
             },
             "pattern": {
              "fillmode": "overlay",
              "size": 10,
              "solidity": 0.2
             }
            },
            "type": "barpolar"
           }
          ],
          "carpet": [
           {
            "aaxis": {
             "endlinecolor": "#2a3f5f",
             "gridcolor": "white",
             "linecolor": "white",
             "minorgridcolor": "white",
             "startlinecolor": "#2a3f5f"
            },
            "baxis": {
             "endlinecolor": "#2a3f5f",
             "gridcolor": "white",
             "linecolor": "white",
             "minorgridcolor": "white",
             "startlinecolor": "#2a3f5f"
            },
            "type": "carpet"
           }
          ],
          "choropleth": [
           {
            "colorbar": {
             "outlinewidth": 0,
             "ticks": ""
            },
            "type": "choropleth"
           }
          ],
          "contour": [
           {
            "colorbar": {
             "outlinewidth": 0,
             "ticks": ""
            },
            "colorscale": [
             [
              0,
              "#0d0887"
             ],
             [
              0.1111111111111111,
              "#46039f"
             ],
             [
              0.2222222222222222,
              "#7201a8"
             ],
             [
              0.3333333333333333,
              "#9c179e"
             ],
             [
              0.4444444444444444,
              "#bd3786"
             ],
             [
              0.5555555555555556,
              "#d8576b"
             ],
             [
              0.6666666666666666,
              "#ed7953"
             ],
             [
              0.7777777777777778,
              "#fb9f3a"
             ],
             [
              0.8888888888888888,
              "#fdca26"
             ],
             [
              1,
              "#f0f921"
             ]
            ],
            "type": "contour"
           }
          ],
          "contourcarpet": [
           {
            "colorbar": {
             "outlinewidth": 0,
             "ticks": ""
            },
            "type": "contourcarpet"
           }
          ],
          "heatmap": [
           {
            "colorbar": {
             "outlinewidth": 0,
             "ticks": ""
            },
            "colorscale": [
             [
              0,
              "#0d0887"
             ],
             [
              0.1111111111111111,
              "#46039f"
             ],
             [
              0.2222222222222222,
              "#7201a8"
             ],
             [
              0.3333333333333333,
              "#9c179e"
             ],
             [
              0.4444444444444444,
              "#bd3786"
             ],
             [
              0.5555555555555556,
              "#d8576b"
             ],
             [
              0.6666666666666666,
              "#ed7953"
             ],
             [
              0.7777777777777778,
              "#fb9f3a"
             ],
             [
              0.8888888888888888,
              "#fdca26"
             ],
             [
              1,
              "#f0f921"
             ]
            ],
            "type": "heatmap"
           }
          ],
          "histogram": [
           {
            "marker": {
             "pattern": {
              "fillmode": "overlay",
              "size": 10,
              "solidity": 0.2
             }
            },
            "type": "histogram"
           }
          ],
          "histogram2d": [
           {
            "colorbar": {
             "outlinewidth": 0,
             "ticks": ""
            },
            "colorscale": [
             [
              0,
              "#0d0887"
             ],
             [
              0.1111111111111111,
              "#46039f"
             ],
             [
              0.2222222222222222,
              "#7201a8"
             ],
             [
              0.3333333333333333,
              "#9c179e"
             ],
             [
              0.4444444444444444,
              "#bd3786"
             ],
             [
              0.5555555555555556,
              "#d8576b"
             ],
             [
              0.6666666666666666,
              "#ed7953"
             ],
             [
              0.7777777777777778,
              "#fb9f3a"
             ],
             [
              0.8888888888888888,
              "#fdca26"
             ],
             [
              1,
              "#f0f921"
             ]
            ],
            "type": "histogram2d"
           }
          ],
          "histogram2dcontour": [
           {
            "colorbar": {
             "outlinewidth": 0,
             "ticks": ""
            },
            "colorscale": [
             [
              0,
              "#0d0887"
             ],
             [
              0.1111111111111111,
              "#46039f"
             ],
             [
              0.2222222222222222,
              "#7201a8"
             ],
             [
              0.3333333333333333,
              "#9c179e"
             ],
             [
              0.4444444444444444,
              "#bd3786"
             ],
             [
              0.5555555555555556,
              "#d8576b"
             ],
             [
              0.6666666666666666,
              "#ed7953"
             ],
             [
              0.7777777777777778,
              "#fb9f3a"
             ],
             [
              0.8888888888888888,
              "#fdca26"
             ],
             [
              1,
              "#f0f921"
             ]
            ],
            "type": "histogram2dcontour"
           }
          ],
          "mesh3d": [
           {
            "colorbar": {
             "outlinewidth": 0,
             "ticks": ""
            },
            "type": "mesh3d"
           }
          ],
          "parcoords": [
           {
            "line": {
             "colorbar": {
              "outlinewidth": 0,
              "ticks": ""
             }
            },
            "type": "parcoords"
           }
          ],
          "pie": [
           {
            "automargin": true,
            "type": "pie"
           }
          ],
          "scatter": [
           {
            "fillpattern": {
             "fillmode": "overlay",
             "size": 10,
             "solidity": 0.2
            },
            "type": "scatter"
           }
          ],
          "scatter3d": [
           {
            "line": {
             "colorbar": {
              "outlinewidth": 0,
              "ticks": ""
             }
            },
            "marker": {
             "colorbar": {
              "outlinewidth": 0,
              "ticks": ""
             }
            },
            "type": "scatter3d"
           }
          ],
          "scattercarpet": [
           {
            "marker": {
             "colorbar": {
              "outlinewidth": 0,
              "ticks": ""
             }
            },
            "type": "scattercarpet"
           }
          ],
          "scattergeo": [
           {
            "marker": {
             "colorbar": {
              "outlinewidth": 0,
              "ticks": ""
             }
            },
            "type": "scattergeo"
           }
          ],
          "scattergl": [
           {
            "marker": {
             "colorbar": {
              "outlinewidth": 0,
              "ticks": ""
             }
            },
            "type": "scattergl"
           }
          ],
          "scattermap": [
           {
            "marker": {
             "colorbar": {
              "outlinewidth": 0,
              "ticks": ""
             }
            },
            "type": "scattermap"
           }
          ],
          "scattermapbox": [
           {
            "marker": {
             "colorbar": {
              "outlinewidth": 0,
              "ticks": ""
             }
            },
            "type": "scattermapbox"
           }
          ],
          "scatterpolar": [
           {
            "marker": {
             "colorbar": {
              "outlinewidth": 0,
              "ticks": ""
             }
            },
            "type": "scatterpolar"
           }
          ],
          "scatterpolargl": [
           {
            "marker": {
             "colorbar": {
              "outlinewidth": 0,
              "ticks": ""
             }
            },
            "type": "scatterpolargl"
           }
          ],
          "scatterternary": [
           {
            "marker": {
             "colorbar": {
              "outlinewidth": 0,
              "ticks": ""
             }
            },
            "type": "scatterternary"
           }
          ],
          "surface": [
           {
            "colorbar": {
             "outlinewidth": 0,
             "ticks": ""
            },
            "colorscale": [
             [
              0,
              "#0d0887"
             ],
             [
              0.1111111111111111,
              "#46039f"
             ],
             [
              0.2222222222222222,
              "#7201a8"
             ],
             [
              0.3333333333333333,
              "#9c179e"
             ],
             [
              0.4444444444444444,
              "#bd3786"
             ],
             [
              0.5555555555555556,
              "#d8576b"
             ],
             [
              0.6666666666666666,
              "#ed7953"
             ],
             [
              0.7777777777777778,
              "#fb9f3a"
             ],
             [
              0.8888888888888888,
              "#fdca26"
             ],
             [
              1,
              "#f0f921"
             ]
            ],
            "type": "surface"
           }
          ],
          "table": [
           {
            "cells": {
             "fill": {
              "color": "#EBF0F8"
             },
             "line": {
              "color": "white"
             }
            },
            "header": {
             "fill": {
              "color": "#C8D4E3"
             },
             "line": {
              "color": "white"
             }
            },
            "type": "table"
           }
          ]
         },
         "layout": {
          "annotationdefaults": {
           "arrowcolor": "#2a3f5f",
           "arrowhead": 0,
           "arrowwidth": 1
          },
          "autotypenumbers": "strict",
          "coloraxis": {
           "colorbar": {
            "outlinewidth": 0,
            "ticks": ""
           }
          },
          "colorscale": {
           "diverging": [
            [
             0,
             "#8e0152"
            ],
            [
             0.1,
             "#c51b7d"
            ],
            [
             0.2,
             "#de77ae"
            ],
            [
             0.3,
             "#f1b6da"
            ],
            [
             0.4,
             "#fde0ef"
            ],
            [
             0.5,
             "#f7f7f7"
            ],
            [
             0.6,
             "#e6f5d0"
            ],
            [
             0.7,
             "#b8e186"
            ],
            [
             0.8,
             "#7fbc41"
            ],
            [
             0.9,
             "#4d9221"
            ],
            [
             1,
             "#276419"
            ]
           ],
           "sequential": [
            [
             0,
             "#0d0887"
            ],
            [
             0.1111111111111111,
             "#46039f"
            ],
            [
             0.2222222222222222,
             "#7201a8"
            ],
            [
             0.3333333333333333,
             "#9c179e"
            ],
            [
             0.4444444444444444,
             "#bd3786"
            ],
            [
             0.5555555555555556,
             "#d8576b"
            ],
            [
             0.6666666666666666,
             "#ed7953"
            ],
            [
             0.7777777777777778,
             "#fb9f3a"
            ],
            [
             0.8888888888888888,
             "#fdca26"
            ],
            [
             1,
             "#f0f921"
            ]
           ],
           "sequentialminus": [
            [
             0,
             "#0d0887"
            ],
            [
             0.1111111111111111,
             "#46039f"
            ],
            [
             0.2222222222222222,
             "#7201a8"
            ],
            [
             0.3333333333333333,
             "#9c179e"
            ],
            [
             0.4444444444444444,
             "#bd3786"
            ],
            [
             0.5555555555555556,
             "#d8576b"
            ],
            [
             0.6666666666666666,
             "#ed7953"
            ],
            [
             0.7777777777777778,
             "#fb9f3a"
            ],
            [
             0.8888888888888888,
             "#fdca26"
            ],
            [
             1,
             "#f0f921"
            ]
           ]
          },
          "colorway": [
           "#636efa",
           "#EF553B",
           "#00cc96",
           "#ab63fa",
           "#FFA15A",
           "#19d3f3",
           "#FF6692",
           "#B6E880",
           "#FF97FF",
           "#FECB52"
          ],
          "font": {
           "color": "#2a3f5f"
          },
          "geo": {
           "bgcolor": "white",
           "lakecolor": "white",
           "landcolor": "#E5ECF6",
           "showlakes": true,
           "showland": true,
           "subunitcolor": "white"
          },
          "hoverlabel": {
           "align": "left"
          },
          "hovermode": "closest",
          "mapbox": {
           "style": "light"
          },
          "paper_bgcolor": "white",
          "plot_bgcolor": "#E5ECF6",
          "polar": {
           "angularaxis": {
            "gridcolor": "white",
            "linecolor": "white",
            "ticks": ""
           },
           "bgcolor": "#E5ECF6",
           "radialaxis": {
            "gridcolor": "white",
            "linecolor": "white",
            "ticks": ""
           }
          },
          "scene": {
           "xaxis": {
            "backgroundcolor": "#E5ECF6",
            "gridcolor": "white",
            "gridwidth": 2,
            "linecolor": "white",
            "showbackground": true,
            "ticks": "",
            "zerolinecolor": "white"
           },
           "yaxis": {
            "backgroundcolor": "#E5ECF6",
            "gridcolor": "white",
            "gridwidth": 2,
            "linecolor": "white",
            "showbackground": true,
            "ticks": "",
            "zerolinecolor": "white"
           },
           "zaxis": {
            "backgroundcolor": "#E5ECF6",
            "gridcolor": "white",
            "gridwidth": 2,
            "linecolor": "white",
            "showbackground": true,
            "ticks": "",
            "zerolinecolor": "white"
           }
          },
          "shapedefaults": {
           "line": {
            "color": "#2a3f5f"
           }
          },
          "ternary": {
           "aaxis": {
            "gridcolor": "white",
            "linecolor": "white",
            "ticks": ""
           },
           "baxis": {
            "gridcolor": "white",
            "linecolor": "white",
            "ticks": ""
           },
           "bgcolor": "#E5ECF6",
           "caxis": {
            "gridcolor": "white",
            "linecolor": "white",
            "ticks": ""
           }
          },
          "title": {
           "x": 0.05
          },
          "xaxis": {
           "automargin": true,
           "gridcolor": "white",
           "linecolor": "white",
           "ticks": "",
           "title": {
            "standoff": 15
           },
           "zerolinecolor": "white",
           "zerolinewidth": 2
          },
          "yaxis": {
           "automargin": true,
           "gridcolor": "white",
           "linecolor": "white",
           "ticks": "",
           "title": {
            "standoff": 15
           },
           "zerolinecolor": "white",
           "zerolinewidth": 2
          }
         }
        },
        "title": {
         "text": "'https://ko.wikipedia.org/wiki/%EC%9D%B8%EA%B3%B5%EC%A7%80%EB%8A%A5' 웹 페이지 주요 단어 임베딩 3D 시각화 (빈도 반영)"
        },
        "width": 1000
       }
      }
     },
     "metadata": {},
     "output_type": "display_data"
    },
    {
     "name": "stdout",
     "output_type": "stream",
     "text": [
      "\n",
      "--- 시각화된 주요 키워드 목록 (빈도 포함) ---\n",
      "1. 지능 (빈도: 253)\n",
      "2. 인공 (빈도: 186)\n",
      "3. 기술 (빈도: 75)\n",
      "4. 시스템 (빈도: 70)\n",
      "5. 연구 (빈도: 67)\n",
      "6. 문제 (빈도: 66)\n",
      "7. 기계 (빈도: 63)\n",
      "8. 컴퓨터 (빈도: 57)\n",
      "9. 인간 (빈도: 53)\n",
      "10. 사용 (빈도: 51)\n",
      "11. 프로그램 (빈도: 46)\n",
      "12. 공학 (빈도: 40)\n",
      "13. 대한 (빈도: 40)\n",
      "14. 분야 (빈도: 35)\n",
      "15. 사람 (빈도: 34)\n",
      "16. 문서 (빈도: 30)\n",
      "17. 다른 (빈도: 28)\n",
      "18. 이론 (빈도: 27)\n",
      "19. 대해 (빈도: 26)\n",
      "20. 스키 (빈도: 25)\n",
      "21. 논리 (빈도: 25)\n",
      "22. 전문가 (빈도: 25)\n",
      "23. 해결 (빈도: 24)\n",
      "24. 학습 (빈도: 23)\n",
      "25. 주장 (빈도: 22)\n",
      "26. 연구자 (빈도: 21)\n",
      "27. 성공 (빈도: 21)\n",
      "28. 개발 (빈도: 20)\n",
      "29. 생각 (빈도: 20)\n",
      "30. 프로젝트 (빈도: 20)\n",
      "31. 인식 (빈도: 19)\n",
      "32. 추론 (빈도: 19)\n",
      "33. 개념 (빈도: 18)\n",
      "34. 과학 (빈도: 18)\n",
      "35. 언어 (빈도: 18)\n",
      "36. 지식 (빈도: 17)\n",
      "37. 신경망 (빈도: 17)\n",
      "38. 모든 (빈도: 17)\n",
      "39. 접근 (빈도: 17)\n",
      "40. 가지 (빈도: 17)\n",
      "41. 위해 (빈도: 16)\n",
      "42. 튜링 (빈도: 16)\n",
      "43. 형태 (빈도: 16)\n",
      "44. 포함 (빈도: 16)\n",
      "45. 목표 (빈도: 16)\n",
      "46. 구가 (빈도: 15)\n",
      "47. 또한 (빈도: 15)\n",
      "48. 능력 (빈도: 15)\n",
      "49. 매카시 (빈도: 15)\n",
      "50. 정의 (빈도: 15)\n",
      "51. 일반 (빈도: 15)\n",
      "52. 처리 (빈도: 14)\n",
      "53. 이용 (빈도: 14)\n",
      "54. 주의 (빈도: 13)\n",
      "55. 행동 (빈도: 13)\n",
      "56. 방법 (빈도: 13)\n",
      "57. 실제 (빈도: 13)\n",
      "58. 우리 (빈도: 13)\n",
      "59. 산업 (빈도: 13)\n",
      "60. 세계 (빈도: 13)\n",
      "61. 에이전트 (빈도: 13)\n",
      "62. 때문 (빈도: 13)\n",
      "63. 네트워크 (빈도: 13)\n",
      "64. 자금 (빈도: 13)\n",
      "65. 로봇 (빈도: 13)\n",
      "66. 발전 (빈도: 13)\n",
      "67. 역사 (빈도: 13)\n",
      "68. 미래 (빈도: 12)\n",
      "69. 매우 (빈도: 12)\n",
      "70. 관련 (빈도: 12)\n",
      "71. 위키데이터 (빈도: 11)\n",
      "72. 정보 (빈도: 11)\n",
      "73. 가장 (빈도: 11)\n",
      "74. 마빈 (빈도: 11)\n",
      "75. 지원 (빈도: 11)\n",
      "76. 증명 (빈도: 11)\n",
      "77. 시작 (빈도: 11)\n",
      "78. 속성 (빈도: 11)\n",
      "79. 사이먼 (빈도: 10)\n",
      "80. 계속 (빈도: 10)\n",
      "81. 구현 (빈도: 10)\n",
      "82. 기반 (빈도: 10)\n",
      "83. 달러 (빈도: 10)\n",
      "84. 탄생 (빈도: 10)\n",
      "85. 정도 (빈도: 10)\n",
      "86. 방식 (빈도: 10)\n",
      "87. 게임 (빈도: 10)\n",
      "88. 대화 (빈도: 10)\n",
      "89. 가능성 (빈도: 10)\n",
      "90. 결과 (빈도: 10)\n",
      "91. 투자 (빈도: 9)\n",
      "92. 철학 (빈도: 9)\n",
      "93. 패러다임 (빈도: 9)\n",
      "94. 초기 (빈도: 9)\n",
      "95. 모델 (빈도: 9)\n",
      "96. 계산 (빈도: 9)\n",
      "97. 산업혁명 (빈도: 9)\n",
      "98. 현재 (빈도: 9)\n",
      "99. 비판 (빈도: 9)\n",
      "100. 수행 (빈도: 8)\n"
     ]
    }
   ],
   "source": [
    "if 'df_words' in locals() and not df_words.empty:\n",
    "    print(\"\\n--- 3D 시각화 생성 중 (빈도 반영) ---\")\n",
    "    fig_3d = px.scatter_3d(df_words, \n",
    "                           x='Dimension 1', \n",
    "                           y='Dimension 2', \n",
    "                           z='Dimension 3',\n",
    "                           color='Frequency', # 빈도에 따라 색상도 다르게 할 수 있습니다. (선택 사항)\n",
    "                           size='Frequency',  # 점의 크기를 빈도에 비례하게 설정\n",
    "                           hover_name='Word',\n",
    "                           hover_data={'Frequency': True, 'Dimension 1': False, 'Dimension 2': False, 'Dimension 3': False}, # 호버 데이터에 빈도 포함\n",
    "                           title=f\"'{url_to_visualize}' 웹 페이지 주요 단어 임베딩 3D 시각화 (빈도 반영)\",\n",
    "                           height=700, width=1000)\n",
    "    fig_3d.show()\n",
    "\n",
    "    print(\"\\n--- 시각화된 주요 키워드 목록 (빈도 포함) ---\")\n",
    "    # DataFrame에서 키워드와 빈도 출력 (더 정확)\n",
    "    for index, row in df_words.iterrows():\n",
    "        print(f\"{index+1}. {row['Word']} (빈도: {int(row['Frequency'])})\")\n",
    "else:\n",
    "    print(\"시각화할 단어 데이터가 준비되지 않았습니다. 이전 단계를 확인해주세요.\")"
   ]
  }
 ],
 "metadata": {
  "kernelspec": {
   "display_name": "Python 3",
   "language": "python",
   "name": "python3"
  },
  "language_info": {
   "codemirror_mode": {
    "name": "ipython",
    "version": 3
   },
   "file_extension": ".py",
   "mimetype": "text/x-python",
   "name": "python",
   "nbconvert_exporter": "python",
   "pygments_lexer": "ipython3",
   "version": "3.10.12"
  }
 },
 "nbformat": 4,
 "nbformat_minor": 5
}
