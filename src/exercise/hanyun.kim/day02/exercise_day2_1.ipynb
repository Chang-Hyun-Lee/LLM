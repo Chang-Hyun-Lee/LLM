{
 "cells": [
  {
   "cell_type": "markdown",
   "id": "fb6af326",
   "metadata": {},
   "source": [
    "실습N #1: 엔비디아의 주가 데이터를 가져와서 분석하는 어플리케이션을 작성하시오."
   ]
  },
  {
   "cell_type": "code",
   "execution_count": null,
   "id": "fb62d37c",
   "metadata": {},
   "outputs": [
    {
     "name": "stdout",
     "output_type": "stream",
     "text": [
      "예측되는 NVDIA의 주당 가격 범위는 다음과 같습니다:\n",
      "\n",
      "1. **기술적 분석**: $150 - $180\n",
      "2. **기본적 분석**: $155 - $175\n",
      "3. **시계열 예측 모델**: $140 - $160\n",
      "\n",
      "이 가격 범위는 각 분석 방법의 특성과 시장 상황에 따라 달라질 수 있습니다.\n"
     ]
    }
   ],
   "source": [
    "import yfinance as yf\n",
    "import pandas as pd\n",
    "from datetime import datetime, timedelta\n",
    "\n",
    "ticker_symbol = \"NVDA\"\n",
    "\n",
    "nvda = yf.Ticker(ticker_symbol)\n",
    "end_date = datetime.now()\n",
    "start_date = end_date - timedelta(days=365) # 대략 1년 전 (윤년 고려 안함)\n",
    "df = nvda = yf.Ticker(ticker_symbol).history(\n",
    "    start=start_date.strftime('%Y-%m-%d'),\n",
    "    end=end_date.strftime('%Y-%m-%d'),\n",
    "    interval='1d'\n",
    "    )\n",
    "df_csv = df.to_csv()\n",
    "# print (df_csv)\n",
    "\n",
    "import os\n",
    "import openai\n",
    "\n",
    "\n",
    "openai.api_key = os.getenv(\"OPENAI_API_KEY\")\n",
    "\n",
    "\n",
    "response = openai.chat.completions.create(\n",
    "  model=\"gpt-4o-mini\",\n",
    "  messages=[\n",
    "    {\n",
    "      \"role\": \"system\",\n",
    "      \"content\": \"다음에 제공된 csv형태의 데이터는, 지난 1년간의 일단위 거래일별 NVDIA의 주가 입니다.\\n\"+ df_csv\n",
    "    },\n",
    "    {\n",
    "      \"role\": \"user\",\n",
    "      \"content\": \"\"\"\n",
    "향후, 3개월간의 NVDIA의 주가를 아래 3가지 사항별로 분석후 \n",
    "예측되는 주당 가격을 분석 시나리오별로 가격 범위로만 답변해 주세요.\n",
    "기술적 분석, 기본적 분석, 시계열 예측 모델\n",
    "\"\"\"\n",
    "    }\n",
    "  ],\n",
    "  temperature=0.8,\n",
    "  max_tokens=1024,\n",
    "  top_p=1,\n",
    "  frequency_penalty=0,\n",
    "  presence_penalty=0\n",
    ")\n",
    "\n",
    "print(response.choices[0].message.content)"
   ]
  },
  {
   "cell_type": "markdown",
   "id": "4c2bf9b5",
   "metadata": {},
   "source": [
    "실습N #2: 사용자가 입력한 지역과 질문에 맞는 지역 음식점을 검색해서 추천하는 어플리케이션을 작성하시오.\n",
    "\n",
    "예) 판교에 있는 괜찮은 이탈리안 식당을 몇개 추천해줄래?"
   ]
  },
  {
   "cell_type": "code",
   "execution_count": null,
   "id": "0a1d222c",
   "metadata": {},
   "outputs": [
    {
     "name": "stdout",
     "output_type": "stream",
     "text": [
      "제공된 데이터에는 판교에 위치한 이탈리안 식당에 대한 정보가 포함되어 있지 않습니다. 데이터는 수원시에 있는 음식점들에 대한 정보로만 구성되어 있습니다. \n",
      "\n",
      "판교 지역의 이탈리안 식당에 대한 추천을 원하신다면, 다른 데이터 소스를 참고하시거나 판교 지역의 음식점 검색 서비스를 이용해 보시는 것을 권장합니다.\n"
     ]
    }
   ],
   "source": [
    "import requests\n",
    "import json\n",
    "\n",
    "SERVICE_KEY = \"kwS/F3pn7Qvy02Hq9utniFyiJsY8ZTBlkOdLANvtNG/QkrLqDeSx/9vgkDZxywJ9dWOpVeohUQOGOB9yOV1FcA==\"\n",
    "BASE_URL = \"http://apis.data.go.kr/B551011/GoCamping\"\n",
    "endpoint = \"https://openapi.gg.go.kr/Familyrstrt\"\n",
    "params = {\n",
    "        \"serviceKey\": SERVICE_KEY,\n",
    "        \"MobileOS\": \"AND\",\n",
    "        \"MobileApp\": \"Test App\",\n",
    "        \"_type\": \"json\" # 응답 타입을 JSON으로 지정\n",
    "    }\n",
    "\n",
    "try:\n",
    "    response = requests.get(endpoint)\n",
    "    response.raise_for_status() # HTTP 오류 발생 시 예외 처리\n",
    "    \n",
    "    data = response.text\n",
    "except requests.exceptions.HTTPError as http_err:\n",
    "    print(f\"HTTP 오류 발생: {http_err}\")\n",
    "\n",
    "import os\n",
    "import openai\n",
    "\n",
    "openai.api_key = os.getenv(\"OPENAI_API_KEY\")\n",
    "\n",
    "response = openai.chat.completions.create(\n",
    "  model=\"gpt-4o-mini\",\n",
    "  messages=[\n",
    "    {\n",
    "      \"role\": \"system\",\n",
    "      \"content\": \"\"\"\n",
    "      다음에 제공된 xml형태의 데이터는, 음식점에 대한 정보입니다. \n",
    "      주어진 json값중에서, 'row'별 음식점이며, row별 모든 내용을 검색하여 음식점을 추천해주세요.\\n\n",
    "      \"\"\"+ data\n",
    "    },\n",
    "    {\n",
    "      \"role\": \"user\",\n",
    "      \"content\": \"\"\"\n",
    "판교에 있는 괜찮은 이탈리안 식당을 몇개 추천해줄래?\n",
    "\"\"\"\n",
    "    }\n",
    "  ],\n",
    "  temperature=0.5,\n",
    "  max_tokens=1024,\n",
    "  top_p=1,\n",
    "  frequency_penalty=0,\n",
    "  presence_penalty=0\n",
    ")\n",
    "\n",
    "print(response.choices[0].message.content)  "
   ]
  }
 ],
 "metadata": {
  "kernelspec": {
   "display_name": "Python 3",
   "language": "python",
   "name": "python3"
  },
  "language_info": {
   "codemirror_mode": {
    "name": "ipython",
    "version": 3
   },
   "file_extension": ".py",
   "mimetype": "text/x-python",
   "name": "python",
   "nbconvert_exporter": "python",
   "pygments_lexer": "ipython3",
   "version": "3.10.12"
  }
 },
 "nbformat": 4,
 "nbformat_minor": 5
}
