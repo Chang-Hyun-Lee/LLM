{
 "cells": [
  {
   "cell_type": "code",
   "execution_count": 5,
   "id": "59384286",
   "metadata": {},
   "outputs": [
    {
     "name": "stdout",
     "output_type": "stream",
     "text": [
      "Defaulting to user installation because normal site-packages is not writeable\n",
      "Requirement already satisfied: python-dotenv in /home/ubuntu/.local/lib/python3.10/site-packages (1.1.1)\n"
     ]
    }
   ],
   "source": [
    "!pip install python-dotenv"
   ]
  },
  {
   "cell_type": "code",
   "execution_count": null,
   "id": "10affd49",
   "metadata": {},
   "outputs": [
    {
     "name": "stdout",
     "output_type": "stream",
     "text": [
      "work path: /home/ubuntu/work/koshipa-llm-2025-1st/src/exercise/hanyun.kim/day02\n",
      ".env path: /home/ubuntu/work/koshipa-llm-2025-1st/src/exercise/hanyun.kim/.env\n",
      "1234\n",
      "kkk\n"
     ]
    }
   ],
   "source": [
    "import os\n",
    "from dotenv import load_dotenv, find_dotenv\n",
    "\n",
    "print ('work path:',os.getcwd())\n",
    "path = find_dotenv() # 기본적으로 현재 작업 디렉토리(CWD)부터 부모 디렉토리로 올라가면서 .env 파일을 찾음.\n",
    "print ('.env path:', os.path.abspath(path))\n",
    "load_dotenv(path)\n",
    "\n",
    "print (os.getenv(\"key\"))\n",
    "print (os.getenv(\"id\"))"
   ]
  }
 ],
 "metadata": {
  "kernelspec": {
   "display_name": "Python 3",
   "language": "python",
   "name": "python3"
  },
  "language_info": {
   "codemirror_mode": {
    "name": "ipython",
    "version": 3
   },
   "file_extension": ".py",
   "mimetype": "text/x-python",
   "name": "python",
   "nbconvert_exporter": "python",
   "pygments_lexer": "ipython3",
   "version": "3.10.12"
  }
 },
 "nbformat": 4,
 "nbformat_minor": 5
}
