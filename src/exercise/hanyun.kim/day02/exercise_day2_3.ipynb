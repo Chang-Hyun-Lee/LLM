{
 "cells": [
  {
   "cell_type": "markdown",
   "id": "684c6a44",
   "metadata": {},
   "source": [
    "실습 #1: gradio의 chatbot interface를 사용하여 ChatGPT와 스트리밍하면서 대화하는 인터페이스를 구성하시오.\n",
    "실습 #2: 만든 어플리케이션을 멀티턴으로 수정하시오."
   ]
  },
  {
   "cell_type": "code",
   "execution_count": null,
   "id": "74339d2a",
   "metadata": {},
   "outputs": [],
   "source": [
    "!pip install -U gradio "
   ]
  },
  {
   "cell_type": "code",
   "execution_count": 5,
   "id": "a47c415f",
   "metadata": {},
   "outputs": [
    {
     "name": "stderr",
     "output_type": "stream",
     "text": [
      "/tmp/ipykernel_76491/495265426.py:11: UserWarning: You have not specified a value for the `type` parameter. Defaulting to the 'tuples' format for chatbot messages, but this is deprecated and will be removed in a future version of Gradio. Please set type='messages' instead, which uses openai-style dictionaries with 'role' and 'content' keys.\n",
      "  chatbot = gr.Chatbot()\n"
     ]
    },
    {
     "name": "stdout",
     "output_type": "stream",
     "text": [
      "* Running on local URL:  http://0.0.0.0:7864\n",
      "* To create a public link, set `share=True` in `launch()`.\n"
     ]
    },
    {
     "data": {
      "text/html": [
       "<div><iframe src=\"http://localhost:7864/\" width=\"100%\" height=\"500\" allow=\"autoplay; camera; microphone; clipboard-read; clipboard-write;\" frameborder=\"0\" allowfullscreen></iframe></div>"
      ],
      "text/plain": [
       "<IPython.core.display.HTML object>"
      ]
     },
     "metadata": {},
     "output_type": "display_data"
    },
    {
     "data": {
      "text/plain": []
     },
     "execution_count": 5,
     "metadata": {},
     "output_type": "execute_result"
    }
   ],
   "source": [
    "import gradio as gr\n",
    "import os\n",
    "from dotenv import load_dotenv\n",
    "from openai import OpenAI\n",
    "\n",
    "load_dotenv()\n",
    "\n",
    "client = OpenAI(api_key=os.getenv(\"OPENAI_API_KEY\"))\n",
    "\n",
    "with gr.Blocks() as demo:\n",
    "    chatbot = gr.Chatbot()\n",
    "    msg = gr.Textbox()\n",
    "    clear = gr.ClearButton([msg, chatbot])\n",
    "\n",
    "    def openAI_chat(new_msg, chat_history):\n",
    "        msgs = []\n",
    "        \n",
    "        for user_msg, assistant_msg in chat_history:\n",
    "            msgs.append({\"role\": \"user\", \"content\": user_msg})\n",
    "            msgs.append({\"role\": \"assistant\", \"content\": assistant_msg})\n",
    "            \n",
    "        msgs.append({\"role\": \"user\", \"content\": new_msg})\n",
    "\n",
    "        response = client.chat.completions.create(\n",
    "            model=\"gpt-4o-mini\",\n",
    "            messages=msgs,\n",
    "        )\n",
    "        \n",
    "        lates_assistant_msg = response.choices[0].message.content\n",
    "        \n",
    "        chat_history.append([new_msg, lates_assistant_msg])\n",
    "        \n",
    "        return chat_history, \"\"\n",
    "\n",
    "    msg.submit(openAI_chat, [msg, chatbot], [chatbot, msg])\n",
    "    clear.click(lambda: ([], \"\"), None, [chatbot, msg])\n",
    "\n",
    "demo.launch(server_name='0.0.0.0')"
   ]
  }
 ],
 "metadata": {
  "kernelspec": {
   "display_name": "Python 3",
   "language": "python",
   "name": "python3"
  },
  "language_info": {
   "codemirror_mode": {
    "name": "ipython",
    "version": 3
   },
   "file_extension": ".py",
   "mimetype": "text/x-python",
   "name": "python",
   "nbconvert_exporter": "python",
   "pygments_lexer": "ipython3",
   "version": "3.10.12"
  }
 },
 "nbformat": 4,
 "nbformat_minor": 5
}
