{
 "cells": [
  {
   "cell_type": "markdown",
   "id": "60756db0",
   "metadata": {},
   "source": [
    "실습: 삼성전자의 주가 데이터를 가져와서 분석하는 ChatGPT 어플리케이션을 작성하시오(힌트: pykrx 패키지)"
   ]
  },
  {
   "cell_type": "code",
   "execution_count": 23,
   "id": "fb62d37c",
   "metadata": {},
   "outputs": [
    {
     "name": "stdout",
     "output_type": "stream",
     "text": [
      "삼성전자의 향후 3개월간 주가 예측을 위한 분석 시나리오는 다음과 같습니다.\n",
      "\n",
      "1. **기술적 분석**: \n",
      "   - 과거 주가 차트 및 패턴을 기반으로 예상하는 시나리오입니다.\n",
      "   - 가격 범위: **65,000원 ~ 75,000원**\n",
      "\n",
      "2. **기본적 분석**:\n",
      "   - 기업의 재무제표, 수익성, 시장 점유율 및 산업 동향을 고려한 분석입니다.\n",
      "   - 가격 범위: **60,000원 ~ 70,000원**\n",
      "\n",
      "3. **시계열 예측 모델**:\n",
      "   - ARIMA 또는 머신러닝 기반 모델을 통해 시간의 흐름에 따른 주가 예측을 수행한 결과입니다.\n",
      "   - 가격 범위: **62,000원 ~ 72,000원**\n",
      "\n",
      "이 가격 범위들은 각 분석 방법에 따라 예측된 결과이며, 실제 주가는 시장 상황에 따라 변동할 수 있습니다.\n"
     ]
    }
   ],
   "source": [
    "from pykrx import stock\n",
    "from pykrx import bond\n",
    "df = stock.get_market_ohlcv(\"20240721\", \"20250721\", \"005930\", \"d\")\n",
    "\n",
    "df_csv =df.to_csv()\n",
    "# print (df_csv)\n",
    "\n",
    "\n",
    "import os\n",
    "import openai\n",
    "\n",
    "openai.api_key = os.getenv(\"OPENAI_API_KEY\")\n",
    "\n",
    "response = openai.chat.completions.create(\n",
    "  model=\"gpt-4o-mini\",\n",
    "  messages=[\n",
    "    {\n",
    "      \"role\": \"system\",\n",
    "      \"content\": \"다음에 제공된 csv형태의 데이터는, 지난 1년간의 거래일별 삼성전자의 주가 입니다.\\n\"+ df_csv\n",
    "    },\n",
    "    {\n",
    "      \"role\": \"user\",\n",
    "      \"content\": \"\"\"\n",
    "향후, 3개월간의 삼성전자의 주가를 아래 3가지 사항별로 분석후 \n",
    "예측되는 주당 가격을 분석 시나리오별로 가격 범위로만 답변해 주세요.\n",
    "기술적 분석, 기본적 분석, 시계열 예측 모델\n",
    "\"\"\"\n",
    "    }\n",
    "  ],\n",
    "  temperature=0.8,\n",
    "  max_tokens=1024,\n",
    "  top_p=1,\n",
    "  frequency_penalty=0,\n",
    "  presence_penalty=0\n",
    ")\n",
    "\n",
    "print(response.choices[0].message.content)"
   ]
  },
  {
   "cell_type": "markdown",
   "id": "4c2bf9b5",
   "metadata": {},
   "source": [
    "실습: 사용자가 입력한 질문에 맞는 캠핑장을 검색해서 추천하는 ChatGPT 어플리케이션을 작성하시오(힌트: 고캠핑 API) -> 10~30분 필요 (가이드에 따름)"
   ]
  },
  {
   "cell_type": "code",
   "execution_count": 58,
   "id": "0a1d222c",
   "metadata": {},
   "outputs": [
    {
     "name": "stdout",
     "output_type": "stream",
     "text": [
      "다음은 계곡이나 물놀이가 가능한 캠핑장 정보입니다.\n",
      "\n",
      "1. **캠핑장 이름:** 양평 맑은 계곡 캠핑장\n",
      "   - **주소:** 경기도 양평군 양평읍 경강로 4882\n",
      "   - **전화번호:** 010-7406-7874\n",
      "   - **예약 URL:** [예약하기](https://www.camfit.co.kr/camp/685e2eca73bdb7001d233a69)\n",
      "   - **특징:** 계곡과 수영장이 있어 물놀이를 즐기기 좋은 장소입니다.\n",
      "\n",
      "2. **캠핑장 이름:** Little 80\n",
      "   - **주소:** 경북 경산시 와촌면 진량로 67-25\n",
      "   - **전화번호:** 053-851-8012\n",
      "   - **예약 URL:** [예약하기](https://map.naver.com/v5/entry/place/1203423413?c=15,0,0,0,dh)\n",
      "   - **특징:** 물놀이를 즐길 수 있는 시설이 마련되어 있습니다.\n",
      "\n",
      "3. **캠핑장 이름:** 국립횡성숲체험장\n",
      "   - **주소:** 강원도 횡성군 횡성읍 대관령로 239-11\n",
      "   - **전화번호:** 043-421-0608\n",
      "   - **예약 URL:** [예약하기](http://www.huyang.go.kr/main.action)\n",
      "   - **특징:** 물놀이와 다양한 체험 프로그램이 제공됩니다.\n",
      "\n",
      "4. **캠핑장 이름:** 비홍산자연휴양림\n",
      "   - **주소:** 경상북도 포항시 북구 흥해읍 비홍로 302\n",
      "   - **전화번호:** 054-252-3275\n",
      "   - **예약 URL:** [예약하기](http://forest.ipohang.org/member/login.html?move_url=%2Forder%2Forder.html)\n",
      "   - **특징:** 계곡과 물놀이 시설이 있어 가족 단위 방문에 적합합니다.\n",
      "\n",
      "위의 캠핑장들은 계곡이나 물놀이가 가능한 장소로, 예약을 원하신다면 제공된 링크를 통해 예약하실 수 있습니다.\n"
     ]
    }
   ],
   "source": [
    "import requests\n",
    "import json\n",
    "\n",
    "SERVICE_KEY = \"kwS/F3pn7Qvy02Hq9utniFyiJsY8ZTBlkOdLANvtNG/QkrLqDeSx/9vgkDZxywJ9dWOpVeohUQOGOB9yOV1FcA==\"\n",
    "BASE_URL = \"http://apis.data.go.kr/B551011/GoCamping\"\n",
    "endpoint = f\"{BASE_URL}/basedList\"\n",
    "params = {\n",
    "        \"serviceKey\": SERVICE_KEY,\n",
    "        \"MobileOS\": \"AND\",\n",
    "        \"MobileApp\": \"Test App\",\n",
    "        \"_type\": \"json\" # 응답 타입을 JSON으로 지정\n",
    "    }\n",
    "\n",
    "try:\n",
    "    response = requests.get(endpoint, params=params)\n",
    "    response.raise_for_status() # HTTP 오류 발생 시 예외 처리\n",
    "    data = response.json()\n",
    "    # print (data)\n",
    "except requests.exceptions.HTTPError as http_err:\n",
    "    print(f\"HTTP 오류 발생: {http_err}\")\n",
    "\n",
    "import os\n",
    "import openai\n",
    "\n",
    "openai.api_key = os.getenv(\"OPENAI_API_KEY\")\n",
    "\n",
    "response = openai.chat.completions.create(\n",
    "  model=\"gpt-4o-mini\",\n",
    "  messages=[\n",
    "    {\n",
    "      \"role\": \"system\",\n",
    "      \"content\": \"\"\"\n",
    "      다음에 제공된 json형태의 데이터는, 캠핑장소에 대한 정보입니다. \n",
    "      주어진 json값중에서, 'item'이 캠핑장이며, item별 모든 내용을 검색하여 캠핑장을 추천해주세요.\\n\n",
    "      \"\"\"+ json.dumps(data)\n",
    "    },\n",
    "    {\n",
    "      \"role\": \"user\",\n",
    "      \"content\": \"\"\"\n",
    "계곡이나 물놀이 가능한 캠핑장을 모두 검색하여 예약을 위한 정보를 알려주세요\n",
    "\"\"\"\n",
    "    }\n",
    "  ],\n",
    "  temperature=0.5,\n",
    "  max_tokens=1024,\n",
    "  top_p=1,\n",
    "  frequency_penalty=0,\n",
    "  presence_penalty=0\n",
    ")\n",
    "\n",
    "print(response.choices[0].message.content) "
   ]
  }
 ],
 "metadata": {
  "kernelspec": {
   "display_name": "Python 3",
   "language": "python",
   "name": "python3"
  },
  "language_info": {
   "codemirror_mode": {
    "name": "ipython",
    "version": 3
   },
   "file_extension": ".py",
   "mimetype": "text/x-python",
   "name": "python",
   "nbconvert_exporter": "python",
   "pygments_lexer": "ipython3",
   "version": "3.10.12"
  }
 },
 "nbformat": 4,
 "nbformat_minor": 5
}
