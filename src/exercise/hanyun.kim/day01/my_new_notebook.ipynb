{
 "cells": [
  {
   "cell_type": "code",
   "execution_count": 2,
   "id": "b6ae0d9f",
   "metadata": {},
   "outputs": [
    {
     "name": "stdout",
     "output_type": "stream",
     "text": [
      "\n",
      "\n",
      "こんにちは？今日の天気はとても良いですね！\n"
     ]
    }
   ],
   "source": [
    "import os\n",
    "import openai\n",
    "openai.api_key = os.getenv(\"OPENAI_API_KEY\")\n",
    "# 텍스트 생성 요청을 보냅니다.\n",
    "response = openai.completions.create(\n",
    " model=\"gpt-3.5-turbo-instruct\",\n",
    " prompt=\"다음을 일본어로 번역하세요: 안녕하세요? 오늘 날씨가 참 좋굮요!\",\n",
    " max_tokens=256, # 생성된 텍스트의 최대 길이를 설정합니다.\n",
    ")\n",
    "# 생성된 텍스트를 출력합니다.\n",
    "print(response.choices[0].text)"
   ]
  },
  {
   "cell_type": "code",
   "execution_count": 4,
   "id": "8d1148c6",
   "metadata": {},
   "outputs": [
    {
     "name": "stdout",
     "output_type": "stream",
     "text": [
      "안녕하세요? 오늘 날씨가 참 좋군요!는 일본어로 다음과 같이 번역할 수 있습니다:\n",
      "\n",
      "こんにちは！今日はいい天気ですね！\n"
     ]
    }
   ],
   "source": [
    "import openai\n",
    "res = openai.chat.completions.create(\n",
    " model=\"gpt-4o-mini\",\n",
    " messages=[{\"role\": \"user\", \"content\": \"다음을 일본어로 번역하세요: 안녕하세요? 오늘 날씨가 참 좋굮요!\"}],\n",
    " temperature=0.5,\n",
    " max_tokens=256,\n",
    " top_p=1,\n",
    " frequency_penalty=0,\n",
    " presence_penalty=0\n",
    ")\n",
    "print(res.choices[0].message.content)"
   ]
  }
 ],
 "metadata": {
  "kernelspec": {
   "display_name": "Python 3",
   "language": "python",
   "name": "python3"
  },
  "language_info": {
   "codemirror_mode": {
    "name": "ipython",
    "version": 3
   },
   "file_extension": ".py",
   "mimetype": "text/x-python",
   "name": "python",
   "nbconvert_exporter": "python",
   "pygments_lexer": "ipython3",
   "version": "3.10.12"
  }
 },
 "nbformat": 4,
 "nbformat_minor": 5
}
