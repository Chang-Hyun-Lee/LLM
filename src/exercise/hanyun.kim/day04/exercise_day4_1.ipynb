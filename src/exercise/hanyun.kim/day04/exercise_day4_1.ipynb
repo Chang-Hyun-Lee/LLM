{
 "cells": [
  {
   "cell_type": "code",
   "execution_count": 5,
   "id": "b778ff71",
   "metadata": {},
   "outputs": [
    {
     "data": {
      "text/plain": [
       "'날짜,시가,고가,저가,종가,거래량,등락률\\n2025-06-02,56300,57300,56200,56800,12870515,1.0676156583629894\\n2025-06-04,57200,57900,56800,57800,19649983,1.7605633802816902\\n2025-06-05,58100,59900,57900,59100,23266027,2.249134948096886\\n2025-06-09,60400,60400,59500,59800,19609659,1.1844331641285957\\n2025-06-10,60000,60100,58800,59200,15305760,-1.0033444816053512\\n2025-06-11,59500,60100,59400,59900,13610734,1.1824324324324325\\n2025-06-12,59700,60000,59300,59500,17755115,-0.667779632721202\\n2025-06-13,60200,60200,57700,58300,20705979,-2.0168067226890756\\n2025-06-16,58000,58100,56900,57200,22200872,-1.8867924528301887\\n2025-06-17,57800,59800,57400,58100,28637003,1.5734265734265735\\n2025-06-18,58000,59800,57900,59800,17620705,2.9259896729776247\\n2025-06-19,60500,60600,59000,59200,16876278,-1.0033444816053512\\n2025-06-20,59400,59800,59100,59500,18072251,0.5067567567567568\\n2025-06-23,58400,58500,57600,58000,16551694,-2.5210084033613445\\n2025-06-24,59400,60600,59300,60500,23737899,4.310344827586207\\n2025-06-25,61500,61600,60300,61300,23933612,1.322314049586777\\n2025-06-26,61300,61300,59900,60200,19402300,-1.794453507340946\\n2025-06-27,60100,61600,60000,60800,17340470,0.9966777408637874\\n2025-06-30,61200,61200,59800,59800,17110294,-1.644736842105263\\n'"
      ]
     },
     "execution_count": 5,
     "metadata": {},
     "output_type": "execute_result"
    }
   ],
   "source": [
    "from pykrx import stock\n",
    "\n",
    "def get_stock_price(start_day, end_day, krx_code)->str:\n",
    "    stock_data = stock.get_market_ohlcv(start_day, end_day, krx_code, \"d\")\n",
    "    return stock_data.to_csv()\n",
    "\n",
    "get_stock_price(\"20250601\", \"20250630\", \"005930\")\n"
   ]
  },
  {
   "cell_type": "code",
   "execution_count": null,
   "id": "018740cb",
   "metadata": {},
   "outputs": [
    {
     "ename": "ValueError",
     "evalue": "Got unknown agent type: hwchase17/openai-tools-agent. Valid types are: dict_keys([<AgentType.ZERO_SHOT_REACT_DESCRIPTION: 'zero-shot-react-description'>, <AgentType.REACT_DOCSTORE: 'react-docstore'>, <AgentType.SELF_ASK_WITH_SEARCH: 'self-ask-with-search'>, <AgentType.CONVERSATIONAL_REACT_DESCRIPTION: 'conversational-react-description'>, <AgentType.CHAT_ZERO_SHOT_REACT_DESCRIPTION: 'chat-zero-shot-react-description'>, <AgentType.CHAT_CONVERSATIONAL_REACT_DESCRIPTION: 'chat-conversational-react-description'>, <AgentType.STRUCTURED_CHAT_ZERO_SHOT_REACT_DESCRIPTION: 'structured-chat-zero-shot-react-description'>, <AgentType.OPENAI_FUNCTIONS: 'openai-functions'>, <AgentType.OPENAI_MULTI_FUNCTIONS: 'openai-multi-functions'>]).",
     "output_type": "error",
     "traceback": [
      "\u001b[0;31m---------------------------------------------------------------------------\u001b[0m",
      "\u001b[0;31mValueError\u001b[0m                                Traceback (most recent call last)",
      "Cell \u001b[0;32mIn[10], line 16\u001b[0m\n\u001b[1;32m     13\u001b[0m llm \u001b[38;5;241m=\u001b[39m OpenAI(temperature\u001b[38;5;241m=\u001b[39m\u001b[38;5;241m0\u001b[39m, streaming\u001b[38;5;241m=\u001b[39m\u001b[38;5;28;01mTrue\u001b[39;00m)\n\u001b[1;32m     15\u001b[0m tools \u001b[38;5;241m=\u001b[39m [add_stock_price_tool]\n\u001b[0;32m---> 16\u001b[0m agent \u001b[38;5;241m=\u001b[39m \u001b[43minitialize_agent\u001b[49m\u001b[43m(\u001b[49m\u001b[43mtools\u001b[49m\u001b[43m,\u001b[49m\u001b[43m \u001b[49m\u001b[43mllm\u001b[49m\u001b[43m,\u001b[49m\u001b[43m \u001b[49m\u001b[43magent\u001b[49m\u001b[38;5;241;43m=\u001b[39;49m\u001b[38;5;124;43m\"\u001b[39;49m\u001b[38;5;124;43mhwchase17/openai-tools-agent\u001b[39;49m\u001b[38;5;124;43m\"\u001b[39;49m\u001b[43m,\u001b[49m\u001b[43m \u001b[49m\u001b[43mverbose\u001b[49m\u001b[38;5;241;43m=\u001b[39;49m\u001b[38;5;28;43;01mTrue\u001b[39;49;00m\u001b[43m)\u001b[49m\n\u001b[1;32m     18\u001b[0m prompt \u001b[38;5;241m=\u001b[39m \u001b[38;5;124m\"\u001b[39m\u001b[38;5;124m2025년 6월1일부터 6월30일까지의 삼성전자(krx_code:005930) 주가 분석해 주세요\u001b[39m\u001b[38;5;124m\"\u001b[39m\n\u001b[1;32m     19\u001b[0m response \u001b[38;5;241m=\u001b[39m agent\u001b[38;5;241m.\u001b[39mrun(prompt)\n",
      "File \u001b[0;32m~/.local/lib/python3.10/site-packages/langchain_core/_api/deprecation.py:189\u001b[0m, in \u001b[0;36mdeprecated.<locals>.deprecate.<locals>.warning_emitting_wrapper\u001b[0;34m(*args, **kwargs)\u001b[0m\n\u001b[1;32m    187\u001b[0m     warned \u001b[38;5;241m=\u001b[39m \u001b[38;5;28;01mTrue\u001b[39;00m\n\u001b[1;32m    188\u001b[0m     emit_warning()\n\u001b[0;32m--> 189\u001b[0m \u001b[38;5;28;01mreturn\u001b[39;00m \u001b[43mwrapped\u001b[49m\u001b[43m(\u001b[49m\u001b[38;5;241;43m*\u001b[39;49m\u001b[43margs\u001b[49m\u001b[43m,\u001b[49m\u001b[43m \u001b[49m\u001b[38;5;241;43m*\u001b[39;49m\u001b[38;5;241;43m*\u001b[39;49m\u001b[43mkwargs\u001b[49m\u001b[43m)\u001b[49m\n",
      "File \u001b[0;32m~/.local/lib/python3.10/site-packages/langchain/agents/initialize.py:68\u001b[0m, in \u001b[0;36minitialize_agent\u001b[0;34m(tools, llm, agent, callback_manager, agent_path, agent_kwargs, tags, **kwargs)\u001b[0m\n\u001b[1;32m     66\u001b[0m \u001b[38;5;28;01mif\u001b[39;00m agent \u001b[38;5;129;01mis\u001b[39;00m \u001b[38;5;129;01mnot\u001b[39;00m \u001b[38;5;28;01mNone\u001b[39;00m:\n\u001b[1;32m     67\u001b[0m     \u001b[38;5;28;01mif\u001b[39;00m agent \u001b[38;5;129;01mnot\u001b[39;00m \u001b[38;5;129;01min\u001b[39;00m AGENT_TO_CLASS:\n\u001b[0;32m---> 68\u001b[0m         \u001b[38;5;28;01mraise\u001b[39;00m \u001b[38;5;167;01mValueError\u001b[39;00m(\n\u001b[1;32m     69\u001b[0m             \u001b[38;5;124mf\u001b[39m\u001b[38;5;124m\"\u001b[39m\u001b[38;5;124mGot unknown agent type: \u001b[39m\u001b[38;5;132;01m{\u001b[39;00magent\u001b[38;5;132;01m}\u001b[39;00m\u001b[38;5;124m. \u001b[39m\u001b[38;5;124m\"\u001b[39m\n\u001b[1;32m     70\u001b[0m             \u001b[38;5;124mf\u001b[39m\u001b[38;5;124m\"\u001b[39m\u001b[38;5;124mValid types are: \u001b[39m\u001b[38;5;132;01m{\u001b[39;00mAGENT_TO_CLASS\u001b[38;5;241m.\u001b[39mkeys()\u001b[38;5;132;01m}\u001b[39;00m\u001b[38;5;124m.\u001b[39m\u001b[38;5;124m\"\u001b[39m\n\u001b[1;32m     71\u001b[0m         )\n\u001b[1;32m     72\u001b[0m     tags_\u001b[38;5;241m.\u001b[39mappend(agent\u001b[38;5;241m.\u001b[39mvalue \u001b[38;5;28;01mif\u001b[39;00m \u001b[38;5;28misinstance\u001b[39m(agent, AgentType) \u001b[38;5;28;01melse\u001b[39;00m agent)\n\u001b[1;32m     73\u001b[0m     agent_cls \u001b[38;5;241m=\u001b[39m AGENT_TO_CLASS[agent]\n",
      "\u001b[0;31mValueError\u001b[0m: Got unknown agent type: hwchase17/openai-tools-agent. Valid types are: dict_keys([<AgentType.ZERO_SHOT_REACT_DESCRIPTION: 'zero-shot-react-description'>, <AgentType.REACT_DOCSTORE: 'react-docstore'>, <AgentType.SELF_ASK_WITH_SEARCH: 'self-ask-with-search'>, <AgentType.CONVERSATIONAL_REACT_DESCRIPTION: 'conversational-react-description'>, <AgentType.CHAT_ZERO_SHOT_REACT_DESCRIPTION: 'chat-zero-shot-react-description'>, <AgentType.CHAT_CONVERSATIONAL_REACT_DESCRIPTION: 'chat-conversational-react-description'>, <AgentType.STRUCTURED_CHAT_ZERO_SHOT_REACT_DESCRIPTION: 'structured-chat-zero-shot-react-description'>, <AgentType.OPENAI_FUNCTIONS: 'openai-functions'>, <AgentType.OPENAI_MULTI_FUNCTIONS: 'openai-multi-functions'>])."
     ]
    }
   ],
   "source": [
    "from langchain.agents import initialize_agent, Tool\n",
    "from langchain.llms import OpenAI\n",
    "from langchain.prompts import PromptTemplate\n",
    "import os\n",
    "\n",
    "add_stock_price_tool = Tool(\n",
    "    name=\"Get Stoock Prices\",\n",
    "    func=lambda query: get_stock_price(*map(str, query.split())),\n",
    "    # description=\"Adds three strings together. Input should be three strings separated by a space. the input order is start-date(yyyymmdd), end-date(yyyymmdd), krx code\"\n",
    "    description=\"입력할 변수는 총 3가지입니다. 입력할 변수의 순서는 start-date(yyyymmdd), end-date(yyyymmdd), krx code 입니다. 각각의 변수는 공란으로 구분합니다.\"\n",
    ")\n",
    "\n",
    "llm = OpenAI(temperature=0.5, streaming=True)\n",
    "\n",
    "tools = [add_stock_price_tool]\n",
    "agent = initialize_agent(tools, llm, agent=\"zero-shot-react-description\", verbose=True)\n",
    "\n",
    "prompt = \"2025년 6월1일부터 6월30일까지의 삼성전자(krx_code:005930) 주가 분석해 주세요\"\n",
    "response = agent.run(prompt)\n",
    "\n",
    "print(response)"
   ]
  }
 ],
 "metadata": {
  "kernelspec": {
   "display_name": "Python 3",
   "language": "python",
   "name": "python3"
  },
  "language_info": {
   "codemirror_mode": {
    "name": "ipython",
    "version": 3
   },
   "file_extension": ".py",
   "mimetype": "text/x-python",
   "name": "python",
   "nbconvert_exporter": "python",
   "pygments_lexer": "ipython3",
   "version": "3.10.12"
  }
 },
 "nbformat": 4,
 "nbformat_minor": 5
}
