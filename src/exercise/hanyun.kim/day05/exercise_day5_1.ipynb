{
 "cells": [
  {
   "cell_type": "markdown",
   "id": "dd057a17",
   "metadata": {},
   "source": [
    "실습 #1: LangGraph를 이용해 코드의 스타일, 버그 가능성, 최적화에 대한 내용을 분석하고, 최종적으로 이 분석들을 모두 반영하여 개선한 코드를 리턴하는 어플리케이션을 작성하시오. 스타일, 버그, 최적화에 대한 점검 기능은 LangGraph의 Node로 만들어 향후 변경이 용이하게 작업해야 합니다"
   ]
  },
  {
   "cell_type": "code",
   "execution_count": null,
   "id": "b778ff71",
   "metadata": {},
   "outputs": [],
   "source": [
    "!pip install langgraph==0.3 langchain_openai langchain_core"
   ]
  },
  {
   "cell_type": "code",
   "execution_count": 1,
   "id": "43073387",
   "metadata": {},
   "outputs": [],
   "source": [
    "import os\n",
    "from langchain_openai import ChatOpenAI\n",
    "llm = ChatOpenAI(model=\"gpt-4o-mini\")"
   ]
  },
  {
   "cell_type": "code",
   "execution_count": 9,
   "id": "87fe64ee",
   "metadata": {},
   "outputs": [],
   "source": [
    "from typing import Literal\n",
    "msg=''\n",
    "def llm_call(message)->Literal[\"스타일\",\"버그\",\"최적화\"]:\n",
    "    action = \"\"\"\n",
    "    다음 질문이 파이션 코드의 \"스타일\", \"버그\", \"최적화\"중 어디에 해당하는 질문인가요? \n",
    "    \"스타일\", \"버그\", \"최적화\"중 한가지로 답변해 주세요.\\n\n",
    "    \"\"\"\n",
    "    response = llm.invoke(action+message)\n",
    "    msg = message\n",
    "    return \"버그\"\n",
    "\n",
    "def llm_style(message):\n",
    "    action = \"다음코드의 스타일을 분석후 알려주세요\"\n",
    "    response = llm.invoke(action+msg)\n",
    "    return response.content\n",
    "\n",
    "def llm_bug(message):\n",
    "    action = \"다음코드의 버그를 분석후 알려주세요\"\n",
    "    response = llm.invoke(action+msg)\n",
    "    return response.content\n",
    "\n",
    "def llm_opti(message):\n",
    "    action = \"다음코드를 최적화해 주세요\"\n",
    "    response = llm.invoke(action+msg)\n",
    "    return response.content"
   ]
  },
  {
   "cell_type": "code",
   "execution_count": 7,
   "id": "f31bc02a",
   "metadata": {},
   "outputs": [],
   "source": [
    "from langgraph.graph import Graph, START, END\n",
    "\n",
    "# Create a new Graph\n",
    "workflow = Graph()\n",
    "# Add the nodes\n",
    "workflow.add_node(\"llm_call\", llm_call)\n",
    "workflow.add_node(\"스타일\", llm_style)\n",
    "workflow.add_node(\"버그\", llm_bug)\n",
    "workflow.add_node(\"최적화\", llm_opti)\n",
    "\n",
    "# Add the Edges\n",
    "workflow.add_edge(START, \"llm_call\")\n",
    "workflow.add_conditional_edges(\"llm_call\", llm_call)\n",
    "workflow.add_edge(\"스타일\", END)\n",
    "workflow.add_edge(\"버그\", END)\n",
    "workflow.add_edge(\"최적화\", END)\n",
    "\n",
    "#Compile the workflow\n",
    "app = workflow.compile()"
   ]
  },
  {
   "cell_type": "code",
   "execution_count": 4,
   "id": "7ef0c183",
   "metadata": {},
   "outputs": [
    {
     "data": {
      "image/png": "[encoded data removed]",
      "text/plain": [
       "<IPython.core.display.Image object>"
      ]
     },
     "metadata": {},
     "output_type": "display_data"
    }
   ],
   "source": [
    "from IPython.display import Image, display\n",
    "display(Image(app.get_graph().draw_mermaid_png()))"
   ]
  },
  {
   "cell_type": "code",
   "execution_count": 11,
   "id": "81ce39ec",
   "metadata": {},
   "outputs": [
    {
     "data": {
      "text/plain": [
       "'코드를 제공해 주셔야 스타일을 분석해 드릴 수 있습니다. 분석할 코드를 입력해 주시면, 그에 대한 스타일 분석을 진행하겠습니다.'"
      ]
     },
     "execution_count": 11,
     "metadata": {},
     "output_type": "execute_result"
    }
   ],
   "source": [
    "response = app.invoke(\n",
    "    \"\"\"\n",
    " \n",
    "    def calculator(a,b):\n",
    "       return a+b\n",
    "    \"\"\")\n",
    "response"
   ]
  }
 ],
 "metadata": {
  "kernelspec": {
   "display_name": "Python 3",
   "language": "python",
   "name": "python3"
  },
  "language_info": {
   "codemirror_mode": {
    "name": "ipython",
    "version": 3
   },
   "file_extension": ".py",
   "mimetype": "text/x-python",
   "name": "python",
   "nbconvert_exporter": "python",
   "pygments_lexer": "ipython3",
   "version": "3.10.12"
  }
 },
 "nbformat": 4,
 "nbformat_minor": 5
}
