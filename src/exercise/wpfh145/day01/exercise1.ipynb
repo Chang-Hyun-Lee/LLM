{
 "cells": [
  {
   "cell_type": "code",
   "execution_count": 1,
   "id": "3fc539af",
   "metadata": {},
   "outputs": [
    {
     "name": "stdout",
     "output_type": "stream",
     "text": [
      "삼성전자의 주가 데이터(2022년 7월 20일부터 2022년 8월 10일까지)를 분석한 결과는 다음과 같습니다.\n",
      "\n",
      "### 1. **주가 동향**\n",
      "- **시가**: 주가는 2022년 7월 20일 61,800원에서 시작하여, 8월 10일에는 58,900원으로 하락했습니다. 이 기간 동안 주가는 전반적으로 하락세를 보였습니다.\n",
      "- **종가**: 종가는 7월 20일 60,500원에서 시작하여 8월 10일에는 59,100원으로 감소했습니다. 이는 약 2.3%의 하락을 의미합니다.\n",
      "\n",
      "### 2. **고가 및 저가**\n",
      "- **고가**: 이 기간 동안의 최고가는 62,600원으로, 7월 28일과 29일에 기록되었습니다.\n",
      "- **저가**: 최저가는 58,600원으로, 8월 10일에 기록되었습니다. 이는 주가가 하락세를 보인 것을 나타냅니다.\n",
      "\n",
      "### 3. **거래량**\n",
      "- 거래량은 7월 20일 16,782,238주에서 시작하여, 8월 10일에는 18,084,349주로 증가했습니다. 이는 주가 하락에도 불구하고 거래가 활발하게 이루어졌음을 나타냅니다.\n",
      "\n",
      "### 4. **등락률**\n",
      "- 등락률은 주가의 변동성을 나타내며, 이 기간 동안 여러 차례의 등락이 있었습니다. 특히, 8월 9일에는 -1.31%로 가장 큰 하락폭을 보였고, 8월 2일에는 0.65%로 상승세를 보였습니다.\n",
      "\n",
      "### 5. **결론**\n",
      "- 전반적으로 삼성전자의 주가는 이 기간 동안 하락세를 보였으며, 특히 8월 초부터 중순까지의 기간에 큰 하락폭을 기록했습니다. 거래량은 증가했지만, 이는 주가 하락과 함께 이루어졌습니다. 이러한 데이터는 투자자들에게 주가의 변동성과 시장의 반응을 이해하는 데 중요한 정보를 제공합니다.\n",
      "\n",
      "이 분석을 바탕으로 향후 주가의 추세를 예측하거나 투자 결정을 내리는 데 참고할 수 있습니다.\n"
     ]
    }
   ],
   "source": [
    "# 실습: 삼성전자의 주가 데이터를 가져와서 분석하는 ChatGPT 어플리케이션을 작성하시오(힌트: pykrx 패키지)\n",
    "import os\n",
    "import openai\n",
    "from pykrx import stock\n",
    "\n",
    "openai.api_key = os.getenv(\"OPENAI_API_KEY\")\n",
    "\n",
    "df_ohlcv = stock.get_market_ohlcv(\"20220720\", \"20220810\", \"005930\")\n",
    "\n",
    "response = openai.chat.completions.create(\n",
    "  model=\"gpt-4o-mini\",\n",
    "  messages=[\n",
    "    {\n",
    "      \"role\": \"system\",\n",
    "      \"content\": f\"{df_ohlcv}는 삼성전자의 날짜별 주가 데이터야. 이 데이터를 분석해서 보고해줘.\"\n",
    "    }\n",
    "  ],\n",
    "  temperature=0,\n",
    "  max_tokens=1024,\n",
    "  top_p=1,\n",
    "  frequency_penalty=0,\n",
    "  presence_penalty=0\n",
    ")\n",
    "\n",
    "print(response.choices[0].message.content)"
   ]
  },
  {
   "cell_type": "code",
   "execution_count": null,
   "id": "af30e5bd",
   "metadata": {},
   "outputs": [],
   "source": [
    "# 실습: 삼성전자의 주가 데이터를 가져와서 분석하는 ChatGPT 어플리케이션을 작성하시오(힌트: pykrx 패키지)\n",
    "import os\n",
    "import openai\n",
    "\n",
    "openai.api_key = os.getenv(\"OPENAI_API_KEY\")\n",
    "\n",
    "response = openai.chat.completions.create(\n",
    "  model=\"gpt-4o-mini\",\n",
    "  messages=[\n",
    "    {\n",
    "      \"role\": \"system\",\n",
    "      \"content\": \"는 삼성전자의 날짜별 주가 데이터야. 이 데이터를 분석해서 보고해줘.\"\n",
    "    }\n",
    "  ],\n",
    "\n",
    ")\n",
    "\n",
    "print(response.choices[0].message.content)"
   ]
  },
  {
   "cell_type": "code",
   "execution_count": 11,
   "id": "860cb5c4",
   "metadata": {},
   "outputs": [
    {
     "name": "stdout",
     "output_type": "stream",
     "text": [
      "계곡이 있는 캠핑장 중에서 두 곳을 추천해드리겠습니다.\n",
      "\n",
      "1. **백운계곡캠핑장**\n",
      "   - **위치**: 경기도 포천시 이동면 화동로 2318-64\n",
      "   - **소개**: 백운계곡에 위치한 캠핑장으로, 글램핑과 오토캠핑을 즐길 수 있습니다. 개별 데크에서 바비큐가 가능하며, 계곡 옆에서 시원한 물놀이를 즐길 수 있는 장점이 있습니다. 주차 공간이 넓고, 주변에 소나무가 많아 그늘이 많아 여유로운 캠핑을 즐길 수 있습니다.\n",
      "   - **전화**: 010-9311-0667\n",
      "   - ![백운계곡캠핑장](https://gocamping.or.kr/upload/camp/7150/thumb/thumb_720_60497nQtHJrTdiezfiaLBaGE.jpg)\n",
      "\n",
      "2. **횡성동당미계곡캠핑장**\n",
      "   - **위치**: 강원도 횡성군 서원면 압곡로 203\n",
      "   - **소개**: 청정 자연 속에 위치한 캠핑장으로, 산과 계곡이 어우러진 편안한 휴식 공간입니다. 캠핑장 전 지역에 와이파이가 설치되어 있으며, 근처에 다양한 볼거리가 있습니다. 계곡에서 물놀이를 즐기기에 적합한 장소입니다.\n",
      "   - **전화**: 033-345-5857\n",
      "   - [홈페이지](http://횡성동당미계곡캠핑장.kr)\n",
      "   - ![횡성동당미계곡캠핑장](https://gocamping.or.kr/upload/camp/873/thumb/thumb_720_0141fINxc5rssatce1z33Olb.jpg)\n",
      "\n",
      "이 두 캠핑장은 계곡과 가까워 물놀이와 자연을 즐기기에 좋은 장소입니다.\n"
     ]
    }
   ],
   "source": [
    "# 실습: 사용자가 입력한 질문에 맞는 캠핑장을 검색해서 추천하는 ChatGPT 어플리케이션을 작성하시오.\n",
    "# 예) 계곡이 있는 캠핑장을 두어개 추천해줘.\n",
    "from urllib.parse import quote\n",
    "import requests\n",
    "import json\n",
    "\n",
    "openai.api_key = os.getenv(\"OPENAI_API_KEY\")\n",
    "\n",
    "\n",
    "KeyWord = quote(\"계곡\")\n",
    "ServiceKey = \"bwShkiQZSPqLFZXoH%2BtOujceg7bIbIsA76pQhBMHGypg5lvXWy%2BmGJXrHiL4F5Iu34%2BVJfYVMEnHb5MFF1KLjw%3D%3D\"\n",
    "\n",
    "url = f\"http://apis.data.go.kr/B551011/GoCamping/searchList?serviceKey={ServiceKey}&keyword={KeyWord}&numOfRows=10&pageNo=1&MobileOS=ETC&MobileApp=TestApp&_type=json\"\n",
    "\n",
    "response = requests.get(url)\n",
    "\n",
    "data = json.loads(response.text)\n",
    "\n",
    "\n",
    "response = openai.chat.completions.create(\n",
    "  model=\"gpt-4o-mini\",\n",
    "  messages=[\n",
    "    {\n",
    "      \"role\": \"system\",\n",
    "      \"content\": f\"{data}는 캠핑장에 대한 데이터야. 이 데이터를 분석해서 사용자가 원하는 캠핑장 2개를 추천해줘.\"\n",
    "    },\n",
    "    {\n",
    "        \"role\" : \"user\",\n",
    "        \"content\" : \"계곡이 있는 캠핑장을 두어개 추천해줘\"\n",
    "    }\n",
    "  ],\n",
    "  temperature=0,\n",
    "  max_tokens=1024,\n",
    "  top_p=1,\n",
    "  frequency_penalty=0,\n",
    "  presence_penalty=0\n",
    ")\n",
    "\n",
    "print(response.choices[0].message.content)"
   ]
  }
 ],
 "metadata": {
  "kernelspec": {
   "display_name": "Python 3",
   "language": "python",
   "name": "python3"
  },
  "language_info": {
   "codemirror_mode": {
    "name": "ipython",
    "version": 3
   },
   "file_extension": ".py",
   "mimetype": "text/x-python",
   "name": "python",
   "nbconvert_exporter": "python",
   "pygments_lexer": "ipython3",
   "version": "3.10.12"
  }
 },
 "nbformat": 4,
 "nbformat_minor": 5
}
