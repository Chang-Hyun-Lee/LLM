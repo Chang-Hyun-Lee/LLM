{
 "cells": [
  {
   "cell_type": "markdown",
   "id": "805eae89",
   "metadata": {},
   "source": [
    "멀티턴\n"
   ]
  },
  {
   "cell_type": "code",
   "execution_count": null,
   "id": "7fefcab5",
   "metadata": {},
   "outputs": [],
   "source": [
    "# 싱글턴 함수 정의\n",
    "import os\n",
    "import openai\n",
    "\n",
    "openai.api_key = os.getenv(\"OPENAI_API_KEY\")\n",
    "\n",
    "def gpt_reponse(text):\n",
    "    stream = openai.chat.completions.create(\n",
    "      model=\"gpt-4o-mini\",\n",
    "      messages=[\n",
    "        {\n",
    "          \"role\": \"system\",\n",
    "          \"content\": \"너는 친절한 친구같은 AI야.\"\n",
    "        },\n",
    "        {\n",
    "          \"role\": \"user\",\n",
    "          \"content\": text\n",
    "        }\n",
    "      ],\n",
    "      temperature=0.8,\n",
    "      max_tokens=1024,\n",
    "      top_p=1,\n",
    "      frequency_penalty=0,\n",
    "      presence_penalty=0,\n",
    "      stream=True\n",
    "    )\n",
    "    return stream\n"
   ]
  },
  {
   "cell_type": "code",
   "execution_count": null,
   "id": "d600ff8b",
   "metadata": {},
   "outputs": [],
   "source": [
    "# 멀티턴 함수 정의\n",
    "# 싱글턴과 차이는\n",
    "# 질문을 4박5일 뉴욕 일정짜줘라고 한뒤\n",
    "# 3박4일로 일정 변경해줘.\n",
    "# 라고 했을때, 싱글턴은 이전질문과 연결이 안되지만 멀티턴은 연결을 할 수 있음.\n",
    "\n",
    "import os\n",
    "import openai\n",
    "\n",
    "openai.api_key = os.getenv(\"OPENAI_API_KEY\")\n",
    "\n",
    "\n",
    "def create_generator(history):\n",
    "    chat_logs = []\n",
    "\n",
    "    for item in history:\n",
    "        if item[0] is not None: # 사용자\n",
    "            message =  {\n",
    "              \"role\": \"user\",\n",
    "              \"content\": item[0]\n",
    "            }\n",
    "            chat_logs.append(message)            \n",
    "        if item[1] is not None: # 챗봇\n",
    "            message =  {\n",
    "              \"role\": \"assistant\",\n",
    "              \"content\": item[1]\n",
    "            }\n",
    "            chat_logs.append(message)            \n",
    "    \n",
    "    messages=[\n",
    "        {\n",
    "          \"role\": \"system\",\n",
    "          \"content\": \"당신은 친절한 어시스턴트입니다. 사용자의 질문에 친절하게 대답하세요.\"\n",
    "        }\n",
    "    ]\n",
    "    messages.extend(chat_logs)\n",
    "        \n",
    "    gen = openai.chat.completions.create(\n",
    "      model=\"gpt-4o-mini\",\n",
    "      messages=messages,\n",
    "      temperature=0.5,\n",
    "      max_tokens=4096,\n",
    "      top_p=1,\n",
    "      frequency_penalty=0,\n",
    "      presence_penalty=0,\n",
    "      stream=True\n",
    "    )\n",
    "    return gen"
   ]
  },
  {
   "cell_type": "code",
   "execution_count": 8,
   "id": "8679d9ff",
   "metadata": {},
   "outputs": [
    {
     "name": "stderr",
     "output_type": "stream",
     "text": [
      "/tmp/ipykernel_100953/1650636255.py:8: UserWarning: You have not specified a value for the `type` parameter. Defaulting to the 'tuples' format for chatbot messages, but this is deprecated and will be removed in a future version of Gradio. Please set type='messages' instead, which uses openai-style dictionaries with 'role' and 'content' keys.\n",
      "  chatbot = gr.Chatbot()\n"
     ]
    },
    {
     "name": "stdout",
     "output_type": "stream",
     "text": [
      "* Running on local URL:  http://0.0.0.0:7897\n",
      "* To create a public link, set `share=True` in `launch()`.\n"
     ]
    },
    {
     "data": {
      "text/html": [
       "<div><iframe src=\"http://localhost:7897/\" width=\"100%\" height=\"500\" allow=\"autoplay; camera; microphone; clipboard-read; clipboard-write;\" frameborder=\"0\" allowfullscreen></iframe></div>"
      ],
      "text/plain": [
       "<IPython.core.display.HTML object>"
      ]
     },
     "metadata": {},
     "output_type": "display_data"
    },
    {
     "data": {
      "text/plain": []
     },
     "execution_count": 8,
     "metadata": {},
     "output_type": "execute_result"
    }
   ],
   "source": [
    "# 스트림\n",
    "\n",
    "import gradio as gr\n",
    "import random\n",
    "import time\n",
    "\n",
    "with gr.Blocks() as demo:\n",
    "    chatbot = gr.Chatbot()\n",
    "    msg = gr.Textbox()\n",
    "    clear = gr.Button(\"Clear\")\n",
    "\n",
    "    def user(user_message, history):\n",
    "        return \"\", history + [[user_message, None]]\n",
    "\n",
    "    def bot(history):\n",
    "        g_res = create_generator(history)\n",
    "        history[-1][1] = \"\"\n",
    "        for char in g_res:\n",
    "            if char.choices[0].delta.content is not None:\n",
    "                history[-1][1] += char.choices[0].delta.content\n",
    "            yield history\n",
    "\n",
    "    msg.submit(user, [msg, chatbot], [msg, chatbot], queue=False).then(\n",
    "        bot, chatbot, chatbot\n",
    "    )\n",
    "    clear.click(lambda: None, None, chatbot, queue=False)\n",
    "    \n",
    "demo.queue()\n",
    "demo.launch(server_name='0.0.0.0')"
   ]
  }
 ],
 "metadata": {
  "kernelspec": {
   "display_name": "Python 3",
   "language": "python",
   "name": "python3"
  },
  "language_info": {
   "codemirror_mode": {
    "name": "ipython",
    "version": 3
   },
   "file_extension": ".py",
   "mimetype": "text/x-python",
   "name": "python",
   "nbconvert_exporter": "python",
   "pygments_lexer": "ipython3",
   "version": "3.10.12"
  }
 },
 "nbformat": 4,
 "nbformat_minor": 5
}
