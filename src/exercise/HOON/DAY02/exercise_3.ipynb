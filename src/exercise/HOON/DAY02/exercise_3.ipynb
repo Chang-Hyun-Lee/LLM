{
 "cells": [
  {
   "cell_type": "markdown",
   "id": "2fa19672",
   "metadata": {},
   "source": [
    "실습: 삼성전자 주가 데이터를 분석하는 어플리케이션을 function(tool)으로 수정하여, 다른 종목의 데이터를 정해진 내용대로(종목, 시작날짜, 종료날짜) 가져와서 답하는 어플리케이션을 작성하시오.\n"
   ]
  },
  {
   "cell_type": "code",
   "execution_count": 146,
   "id": "154cc927",
   "metadata": {},
   "outputs": [],
   "source": [
    "import os\n",
    "import json\n",
    "from pykrx import stock\n",
    "from pykrx import bond\n",
    "from openai import OpenAI\n",
    "\n",
    "client = OpenAI()\n",
    "client.api_key = os.getenv(\"OPENAI_API_KEY\")"
   ]
  },
  {
   "cell_type": "code",
   "execution_count": 147,
   "id": "f43f1af3",
   "metadata": {},
   "outputs": [],
   "source": [
    "def get_stock_and_analyze(stockCode, startDate, endDate):\n",
    "    print(f\"\\n Input StockNAme : {stockCode}\\n Starting Date : {startDate}\\n Ending Date : {endDate}\")\n",
    "    try:\n",
    "        ticker = stock.get_market_ticker_name(stockCode)\n",
    "        print(ticker)\n",
    "    except Exception as e:\n",
    "        return f\"종목을 찾을수가 없습니다.: {e}\"\n",
    "    \n",
    "    if not ticker:\n",
    "        print(\"없는 코드입니다.\")\n",
    "\n",
    "    if not startDate :\n",
    "        print(\"시작일자를 입력하세요.\")\n",
    "\n",
    "    if not endDate :\n",
    "        print(\"끝나는일자를 입력하세요.\")\n",
    "\n",
    "    search_result = stock.get_market_ohlcv(startDate, endDate, stockCode)\n",
    "    if search_result.empty :\n",
    "        print(\"주가 Data를 찾을 수 없습니다.\")\n",
    "        \n",
    "         \n",
    "    stock_info = {\n",
    "        \"ticker\": ticker,\n",
    "        \"startDate\": startDate,\n",
    "        \"endDate\": endDate,\n",
    "        \"min_price\": int(search_result['저가'].min()),\n",
    "        \"min_price\": int(search_result['고가'].max()),\n",
    "    }\n",
    "    return json.dumps(stock_info, ensure_ascii=False)\n",
    "\n",
    "\n",
    "\n",
    "messages = [{\"role\": \"user\", \"content\": \"삼성중공업 주식을 알려줘.\"}]\n",
    "tools = [\n",
    "    {\n",
    "        \"type\": \"function\",\n",
    "        \"function\":\n",
    "        {\n",
    "            \"name\": \"get_stock_and_analyze\",\n",
    "            \"description\": \"특정 주식의 정보를 알려줍니다.\",\n",
    "            \"parameters\": {\n",
    "                \"type\": \"object\",\n",
    "                \"properties\": {\n",
    "                    \"stockCode\": {\n",
    "                        \"type\": \"string\",\n",
    "                        \"description\": \"주식이름. 예) 005930\",\n",
    "                    },\n",
    "                    \"startDate\": {\n",
    "                        \"type\": \"string\", \n",
    "                        \"description\": \"검색시작날짜. 예) 20240101\"\n",
    "                    },\n",
    "                    \"endDate\": {\n",
    "                        \"type\": \"string\", \n",
    "                        \"description\": \"검색종료날짜. 예) 20241231\"\n",
    "                    },\n",
    "                },\n",
    "            \"required\": [\"stockCode\",\"startDate\",\"endDate\"],\n",
    "        },\n",
    "        }\n",
    "        \n",
    "    }\n",
    "]"
   ]
  },
  {
   "cell_type": "code",
   "execution_count": 151,
   "id": "d9c633b2",
   "metadata": {},
   "outputs": [
    {
     "name": "stdout",
     "output_type": "stream",
     "text": [
      "ChatCompletionMessage(content=None, refusal=None, role='assistant', annotations=[], audio=None, function_call=None, tool_calls=[ChatCompletionMessageToolCall(id='call_153MEueAfcoZf6eR9gKvnAGM', function=Function(arguments='{\"stockCode\":\"005930\",\"startDate\":\"20241201\",\"endDate\":\"20250131\"}', name='get_stock_and_analyze'), type='function')])\n"
     ]
    }
   ],
   "source": [
    "import os\n",
    "import openai\n",
    "\n",
    "openai.api_key = os.getenv(\"OPENAI_API_KEY\")\n",
    "\n",
    "messages= [\n",
    "  {\n",
    "    \"role\": \"user\",\n",
    "    \"content\": \"(005930)의 2024년 12월부터 2025년 1월까지 주가를 분석해줘.\"\n",
    "  }\n",
    "]\n",
    "\n",
    "response = openai.chat.completions.create(\n",
    "  model=\"gpt-4o-mini\",\n",
    "  messages=messages,\n",
    "  temperature=0,\n",
    "  max_tokens=1024,\n",
    "  tools=tools,\n",
    "  tool_choice=\"auto\" if tools is not None else None,\n",
    "  top_p=1,\n",
    "  frequency_penalty=0,\n",
    "  presence_penalty=0\n",
    ")\n",
    "\n",
    "print(response.choices[0].message)"
   ]
  },
  {
   "cell_type": "code",
   "execution_count": 154,
   "id": "8984de9f",
   "metadata": {},
   "outputs": [
    {
     "name": "stdout",
     "output_type": "stream",
     "text": [
      "\n",
      " Input StockNAme : 278470\n",
      " Starting Date : 20241201\n",
      " Ending Date : 20250131\n",
      "에이피알\n"
     ]
    }
   ],
   "source": [
    "if response_message.function_call is not None:\n",
    "    # Note: the JSON response may not always be valid; be sure to handle errors\n",
    "    available_functions = {\n",
    "        \"get_stock_and_analyze\": get_stock_and_analyze,\n",
    "    }\n",
    "    function_name = response_message.function_call.name\n",
    "    function_to_call = available_functions[function_name]\n",
    "    function_args = json.loads(response_message.function_call.arguments)\n",
    "    function_response = function_to_call(\n",
    "        stockCode=function_args['stockCode'],\n",
    "        startDate=function_args['startDate'],\n",
    "        endDate=function_args['endDate'],\n",
    "    )\n",
    "\n",
    "    messages.append(response_message)\n",
    "    messages.append(\n",
    "        {\n",
    "            \"role\": \"function\",\n",
    "            \"name\": function_name,\n",
    "            \"content\": function_response,\n",
    "        }\n",
    "    )\n",
    "   "
   ]
  },
  {
   "cell_type": "code",
   "execution_count": 155,
   "id": "87167f8d",
   "metadata": {},
   "outputs": [
    {
     "name": "stdout",
     "output_type": "stream",
     "text": [
      "죄송하지만, (주)삼성중공업의 구체적인 2024년 12월부터 2025년 1월까지의 주가 분석 데이터는 현재 제공할 수 없습니다. 대신, 삼성중공업의 최신 소식이나 업계 동향에 대해 질문하시면 더 도움을 드릴 수 있습니다. 다른 정보를 원하시면 말씀해 주세요!\n"
     ]
    }
   ],
   "source": [
    "second_response = client.chat.completions.create(\n",
    "        model=\"gpt-4o-mini\",\n",
    "        messages=messages,\n",
    "    )  # get a new response from GPT where it can see the function response\n",
    "    \n",
    "if not second_response:\n",
    "    print(\"값이 없습니다.\")\n",
    "\n",
    "print(second_response.choices[0].message.content)"
   ]
  }
 ],
 "metadata": {
  "kernelspec": {
   "display_name": "Python 3",
   "language": "python",
   "name": "python3"
  },
  "language_info": {
   "codemirror_mode": {
    "name": "ipython",
    "version": 3
   },
   "file_extension": ".py",
   "mimetype": "text/x-python",
   "name": "python",
   "nbconvert_exporter": "python",
   "pygments_lexer": "ipython3",
   "version": "3.10.12"
  }
 },
 "nbformat": 4,
 "nbformat_minor": 5
}
