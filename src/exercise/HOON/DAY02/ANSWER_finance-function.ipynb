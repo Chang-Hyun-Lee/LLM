{
 "cells": [
  {
   "cell_type": "code",
   "execution_count": 1,
   "id": "0ec10bf2-5b55-4a60-86dc-e5696a1f8124",
   "metadata": {},
   "outputs": [
    {
     "name": "stdout",
     "output_type": "stream",
     "text": [
      "Defaulting to user installation because normal site-packages is not writeable\n",
      "Requirement already satisfied: pykrx in /home/ubuntu/.local/lib/python3.10/site-packages (1.0.51)\n",
      "Requirement already satisfied: requests in /home/ubuntu/.local/lib/python3.10/site-packages (from pykrx) (2.32.4)\n",
      "Requirement already satisfied: deprecated in /home/ubuntu/.local/lib/python3.10/site-packages (from pykrx) (1.2.18)\n",
      "Requirement already satisfied: multipledispatch in /home/ubuntu/.local/lib/python3.10/site-packages (from pykrx) (1.0.0)\n",
      "Requirement already satisfied: matplotlib in /home/ubuntu/.local/lib/python3.10/site-packages (from pykrx) (3.10.3)\n",
      "Requirement already satisfied: datetime in /home/ubuntu/.local/lib/python3.10/site-packages (from pykrx) (5.5)\n",
      "Requirement already satisfied: xlrd in /home/ubuntu/.local/lib/python3.10/site-packages (from pykrx) (2.0.2)\n",
      "Requirement already satisfied: pandas in /home/ubuntu/.local/lib/python3.10/site-packages (from pykrx) (2.3.1)\n",
      "Requirement already satisfied: numpy in /home/ubuntu/.local/lib/python3.10/site-packages (from pykrx) (2.2.6)\n",
      "Requirement already satisfied: zope.interface in /usr/lib/python3/dist-packages (from datetime->pykrx) (5.4.0)\n",
      "Requirement already satisfied: pytz in /home/ubuntu/.local/lib/python3.10/site-packages (from datetime->pykrx) (2025.2)\n",
      "Requirement already satisfied: wrapt<2,>=1.10 in /home/ubuntu/.local/lib/python3.10/site-packages (from deprecated->pykrx) (1.17.2)\n",
      "Requirement already satisfied: contourpy>=1.0.1 in /home/ubuntu/.local/lib/python3.10/site-packages (from matplotlib->pykrx) (1.3.2)\n",
      "Requirement already satisfied: fonttools>=4.22.0 in /home/ubuntu/.local/lib/python3.10/site-packages (from matplotlib->pykrx) (4.59.0)\n",
      "Requirement already satisfied: pyparsing>=2.3.1 in /usr/lib/python3/dist-packages (from matplotlib->pykrx) (2.4.7)\n",
      "Requirement already satisfied: python-dateutil>=2.7 in /home/ubuntu/.local/lib/python3.10/site-packages (from matplotlib->pykrx) (2.9.0.post0)\n",
      "Requirement already satisfied: pillow>=8 in /home/ubuntu/.local/lib/python3.10/site-packages (from matplotlib->pykrx) (11.3.0)\n",
      "Requirement already satisfied: packaging>=20.0 in /home/ubuntu/.local/lib/python3.10/site-packages (from matplotlib->pykrx) (25.0)\n",
      "Requirement already satisfied: kiwisolver>=1.3.1 in /home/ubuntu/.local/lib/python3.10/site-packages (from matplotlib->pykrx) (1.4.8)\n",
      "Requirement already satisfied: cycler>=0.10 in /home/ubuntu/.local/lib/python3.10/site-packages (from matplotlib->pykrx) (0.12.1)\n",
      "Requirement already satisfied: tzdata>=2022.7 in /home/ubuntu/.local/lib/python3.10/site-packages (from pandas->pykrx) (2025.2)\n",
      "Requirement already satisfied: charset_normalizer<4,>=2 in /home/ubuntu/.local/lib/python3.10/site-packages (from requests->pykrx) (3.4.2)\n",
      "Requirement already satisfied: certifi>=2017.4.17 in /home/ubuntu/.local/lib/python3.10/site-packages (from requests->pykrx) (2025.7.14)\n",
      "Requirement already satisfied: urllib3<3,>=1.21.1 in /usr/lib/python3/dist-packages (from requests->pykrx) (1.26.5)\n",
      "Requirement already satisfied: idna<4,>=2.5 in /usr/lib/python3/dist-packages (from requests->pykrx) (3.3)\n",
      "Requirement already satisfied: six>=1.5 in /usr/lib/python3/dist-packages (from python-dateutil>=2.7->matplotlib->pykrx) (1.16.0)\n"
     ]
    }
   ],
   "source": [
    "!pip install pykrx"
   ]
  },
  {
   "cell_type": "code",
   "execution_count": 2,
   "id": "751b1813-b5a9-4a4b-b7b4-7631b99b5be4",
   "metadata": {},
   "outputs": [],
   "source": [
    "from pykrx import stock\n",
    "from pykrx import bond\n",
    "\n"
   ]
  },
  {
   "cell_type": "code",
   "execution_count": 3,
   "id": "62d6d52f",
   "metadata": {},
   "outputs": [],
   "source": [
    "import json\n",
    "\n",
    "def get_market_ohlcv(start_date, end_date, ticker):\n",
    "    stock_name = stock.get_market_ticker_name(ticker)\n",
    "    df = stock.get_market_ohlcv(start_date, end_date, ticker)\n",
    "    df['종목명'] = [stock_name] * len(df)\n",
    "\n",
    "    return json.dumps(df.to_dict(orient='records'), ensure_ascii=False)"
   ]
  },
  {
   "cell_type": "code",
   "execution_count": 4,
   "id": "28443fb3-bcab-42ee-8222-c5cbfde58697",
   "metadata": {},
   "outputs": [
    {
     "name": "stdout",
     "output_type": "stream",
     "text": [
      "[{\"시가\": 61800, \"고가\": 62100, \"저가\": 60500, \"종가\": 60500, \"거래량\": 16782238, \"등락률\": -0.6568144499178982, \"종목명\": \"삼성전자\"}, {\"시가\": 61100, \"고가\": 61900, \"저가\": 60700, \"종가\": 61800, \"거래량\": 12291374, \"등락률\": 2.1487603305785123, \"종목명\": \"삼성전자\"}, {\"시가\": 61800, \"고가\": 62200, \"저가\": 61200, \"종가\": 61300, \"거래량\": 10261310, \"등락률\": -0.8090614886731391, \"종목명\": \"삼성전자\"}, {\"시가\": 60900, \"고가\": 61900, \"저가\": 60800, \"종가\": 61100, \"거래량\": 9193681, \"등락률\": -0.3262642740619902, \"종목명\": \"삼성전자\"}, {\"시가\": 60800, \"고가\": 61900, \"저가\": 60800, \"종가\": 61700, \"거래량\": 6597211, \"등락률\": 0.9819967266775778, \"종목명\": \"삼성전자\"}, {\"시가\": 61300, \"고가\": 61900, \"저가\": 61200, \"종가\": 61800, \"거래량\": 7320997, \"등락률\": 0.1620745542949757, \"종목명\": \"삼성전자\"}, {\"시가\": 62300, \"고가\": 62600, \"저가\": 61600, \"종가\": 61900, \"거래량\": 10745302, \"등락률\": 0.16181229773462785, \"종목명\": \"삼성전자\"}, {\"시가\": 62400, \"고가\": 62600, \"저가\": 61300, \"종가\": 61400, \"거래량\": 15093120, \"등락률\": -0.8077544426494345, \"종목명\": \"삼성전자\"}, {\"시가\": 61000, \"고가\": 61700, \"저가\": 60300, \"종가\": 61300, \"거래량\": 13154816, \"등락률\": -0.16286644951140067, \"종목명\": \"삼성전자\"}, {\"시가\": 61200, \"고가\": 61900, \"저가\": 61000, \"종가\": 61700, \"거래량\": 13614895, \"등락률\": 0.6525285481239804, \"종목명\": \"삼성전자\"}, {\"시가\": 61600, \"고가\": 61600, \"저가\": 61000, \"종가\": 61300, \"거래량\": 10053861, \"등락률\": -0.6482982171799028, \"종목명\": \"삼성전자\"}, {\"시가\": 61700, \"고가\": 61800, \"저가\": 61200, \"종가\": 61500, \"거래량\": 9125439, \"등락률\": 0.3262642740619902, \"종목명\": \"삼성전자\"}, {\"시가\": 61700, \"고가\": 61900, \"저가\": 61200, \"종가\": 61500, \"거래량\": 9567620, \"등락률\": 0.0, \"종목명\": \"삼성전자\"}, {\"시가\": 61400, \"고가\": 61400, \"저가\": 60600, \"종가\": 60800, \"거래량\": 11313150, \"등락률\": -1.1382113821138211, \"종목명\": \"삼성전자\"}, {\"시가\": 60600, \"고가\": 60700, \"저가\": 59600, \"종가\": 60000, \"거래량\": 18251170, \"등락률\": -1.3157894736842104, \"종목명\": \"삼성전자\"}, {\"시가\": 58900, \"고가\": 59200, \"저가\": 58600, \"종가\": 59100, \"거래량\": 18084349, \"등락률\": -1.5, \"종목명\": \"삼성전자\"}]\n"
     ]
    }
   ],
   "source": [
    "print(get_market_ohlcv(\"20220720\", \"20220810\", \"005930\"))"
   ]
  },
  {
   "cell_type": "code",
   "execution_count": 7,
   "id": "2611fa8c",
   "metadata": {},
   "outputs": [],
   "source": [
    "tools = [\n",
    "    {\n",
    "        \"type\": \"function\",\n",
    "        \"function\":\n",
    "        {\n",
    "            \"name\": \"get_market_ohlcv\",\n",
    "            \"description\": \"특정 종목에 대해 정해진 기간의 주가 데이터를 돌려줍니다.\",\n",
    "            \"parameters\": {\n",
    "                \"type\": \"object\",\n",
    "                \"properties\": {\n",
    "                    \"start_date\": {\n",
    "                        \"type\": \"string\",\n",
    "                        \"description\": \"YYYYMMDD 형식의 시작 날짜\",\n",
    "                    },\n",
    "                    \"end_date\": {\n",
    "                        \"type\": \"string\",\n",
    "                        \"description\": \"YYYYMMDD 형식의 종료 날짜\",\n",
    "                    },\n",
    "                    \"ticker\": {\n",
    "                        \"type\": \"string\",\n",
    "                        \"description\": \"6자리 숫자 형식의 종목 티커코드\",\n",
    "                    },\n",
    "                },\n",
    "                \"required\": [\"start_date\", \"end_date\", \"ticker\"],\n",
    "            },\n",
    "        }\n",
    "    }\n",
    "]\n"
   ]
  },
  {
   "cell_type": "code",
   "execution_count": 8,
   "id": "51b6606e-1fff-4f78-8b8e-5997606a9946",
   "metadata": {},
   "outputs": [
    {
     "name": "stdout",
     "output_type": "stream",
     "text": [
      "ChatCompletionMessage(content=None, refusal=None, role='assistant', annotations=[], audio=None, function_call=None, tool_calls=[ChatCompletionMessageToolCall(id='call_4eipC4YOzqNWfcTTHCmVhUJU', function=Function(arguments='{\"start_date\": \"20241201\", \"end_date\": \"20250131\", \"ticker\": \"005930\"}', name='get_market_ohlcv'), type='function')])\n"
     ]
    }
   ],
   "source": [
    "import os\n",
    "import openai\n",
    "\n",
    "openai.api_key = os.getenv(\"OPENAI_API_KEY\")\n",
    "\n",
    "messages= [\n",
    "  {\n",
    "    \"role\": \"user\",\n",
    "    \"content\": \"삼성중공업(005930)의 2024년 12월부터 2025년 1월까지 주가를 분석해줘.\"\n",
    "  }\n",
    "]\n",
    "\n",
    "response = openai.chat.completions.create(\n",
    "  model=\"gpt-4o-mini\",\n",
    "  messages=messages,\n",
    "  temperature=0,\n",
    "  max_tokens=1024,\n",
    "  tools=tools,\n",
    "  tool_choice=\"auto\" if tools is not None else None,\n",
    "  top_p=1,\n",
    "  frequency_penalty=0,\n",
    "  presence_penalty=0\n",
    ")\n",
    "\n",
    "print(response.choices[0].message)"
   ]
  },
  {
   "cell_type": "code",
   "execution_count": 9,
   "id": "bb33a22d",
   "metadata": {},
   "outputs": [
    {
     "name": "stdout",
     "output_type": "stream",
     "text": [
      "삼성중공업(005930)의 2024년 12월부터 2025년 1월까지의 주가 변동 분석을 다음과 같이 진행하겠습니다.\n",
      "\n",
      "### 주가 분석\n",
      "\n",
      "1. **시가, 고가, 저가, 종가**:\n",
      "   - 기간 내 주가의 변동성을 볼 때, 시가와 고가, 저가, 종가가 긴 범위에서 변동하고 있음을 알 수 있습니다. 이는 주가가 불확실한 시장 상황에서 활성화되고 있음을 나타냅니다.\n",
      "\n",
      "2. **변동성**:\n",
      "   - 주가의 변동폭이 상대적으로 크며, 특정 날짜에 거래량이 급증한 경우가 있습니다. 이는 특정 뉴스나 이벤트가 영향을 미쳤을 가능성을 시사합니다.\n",
      "   - 특히, 2025년 1월 초에 고가가 두드러지며 종가가 나타났고, 거래량도 비교적 많았습니다.\n",
      "\n",
      "3. **거래량**:\n",
      "   - 2024년 12월부터 2025년 1월까지의 거래량은 꾸준히 높은 편입니다. 이는 시장 참여자들이 많이 활동하고 있다는 것을 나타내며, 주가에 큰 영향을 미칠 수 있습니다.\n",
      "\n",
      "4. **등락률**:\n",
      "   - 등락률을 살펴보면, 상승과 하락을 반복적으로 경험하고 있습니다. 이를 통해 삼성중공업의 주가가 시장의 뉴스나 경제 지표에 민감하다는 것을 알 수 있습니다.\n",
      "   - 특히, 일부 날에는 3% 이상의 큰 등락률을 보인 날도 있어, 이러한 날에는 외부적인 요인이나 내부 실적 발표가 있었던 것으로 추정됩니다.\n",
      "\n",
      "### 결론\n",
      "삼성중공업의 주가는 2024년 12월부터 2025년 1월까지의 기간 동안 활발한 거래가 이루어지면서 변동성이 있었습니다. 이러한 정보는 투자자들에게 중요한 신호가 될 수 있으며, 삼성중공업의 기본적인 펀더멘털뿐만 아니라 글로벌 경제 상황, 경쟁사 동향 등을 고려하여 최종 투자 결정을 내리는 것이 바람직합니다.\n"
     ]
    }
   ],
   "source": [
    "available_functions = {\n",
    "    \"get_market_ohlcv\": get_market_ohlcv,\n",
    "}\n",
    "\n",
    "for tool_call in response.choices[0].message.tool_calls:\n",
    "    function_name = tool_call.function.name\n",
    "    function_to_call = available_functions[function_name]\n",
    "    function_args = json.loads(tool_call.function.arguments)\n",
    "    function_response = function_to_call(\n",
    "        start_date=function_args['start_date'],\n",
    "        end_date=function_args['end_date'],\n",
    "        ticker=function_args['ticker']\n",
    "    )\n",
    "    messages.append(\n",
    "        {\n",
    "            \"tool_call_id\": tool_call.id,\n",
    "            \"role\": \"function\",\n",
    "            \"name\": function_name,\n",
    "            \"content\": json.dumps(function_response, ensure_ascii=False)\n",
    "        }\n",
    "    )\n",
    "    \n",
    "second_response = openai.chat.completions.create(\n",
    "    model=\"gpt-4o-mini\",\n",
    "    messages=messages,\n",
    ")\n",
    "print(second_response.choices[0].message.content)"
   ]
  },
  {
   "cell_type": "code",
   "execution_count": null,
   "id": "e0bc5c62-c52e-4604-b803-165ad93442fd",
   "metadata": {},
   "outputs": [],
   "source": []
  }
 ],
 "metadata": {
  "kernelspec": {
   "display_name": "Python 3",
   "language": "python",
   "name": "python3"
  },
  "language_info": {
   "codemirror_mode": {
    "name": "ipython",
    "version": 3
   },
   "file_extension": ".py",
   "mimetype": "text/x-python",
   "name": "python",
   "nbconvert_exporter": "python",
   "pygments_lexer": "ipython3",
   "version": "3.10.12"
  }
 },
 "nbformat": 4,
 "nbformat_minor": 5
}
