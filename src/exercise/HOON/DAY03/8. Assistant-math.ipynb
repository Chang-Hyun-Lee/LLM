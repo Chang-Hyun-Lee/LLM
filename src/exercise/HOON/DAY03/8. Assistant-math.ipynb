{
 "cells": [
  {
   "cell_type": "code",
   "execution_count": 1,
   "metadata": {},
   "outputs": [],
   "source": [
    "import os\n",
    "from openai import OpenAI\n",
    "client = OpenAI()\n",
    "\n",
    "client.api_key = os.getenv(\"OPENAI_API_KEY\")"
   ]
  },
  {
   "cell_type": "code",
   "execution_count": 2,
   "metadata": {},
   "outputs": [
    {
     "data": {
      "text/plain": [
       "Assistant(id='asst_H9Exy4mIzFhqRSirl8CPP1zd', created_at=1753245748, description=None, instructions='당신은 친절한 수학선생님입니다. 사용자가 질문하는 수학문제에 대답하기 위해 code를 작성하고 실행하세요.', metadata={}, model='gpt-4o-mini', name='수학 선생님', object='assistant', tools=[CodeInterpreterTool(type='code_interpreter')], response_format='auto', temperature=1.0, tool_resources=ToolResources(code_interpreter=ToolResourcesCodeInterpreter(file_ids=[]), file_search=None), top_p=1.0, reasoning_effort=None)"
      ]
     },
     "execution_count": 2,
     "metadata": {},
     "output_type": "execute_result"
    }
   ],
   "source": [
    "assistant = client.beta.assistants.create(\n",
    "    name=\"수학 선생님\",\n",
    "    instructions=\"당신은 친절한 수학선생님입니다. 사용자가 질문하는 수학문제에 대답하기 위해 code를 작성하고 실행하세요.\",\n",
    "    tools=[{\"type\": \"code_interpreter\"}],\n",
    "    model=\"gpt-4o-mini\"\n",
    ")\n",
    "assistant"
   ]
  },
  {
   "cell_type": "code",
   "execution_count": 3,
   "metadata": {},
   "outputs": [
    {
     "name": "stderr",
     "output_type": "stream",
     "text": [
      "/tmp/ipykernel_113040/1159370957.py:1: DeprecationWarning: The Assistants API is deprecated in favor of the Responses API\n",
      "  thread = client.beta.threads.create()\n"
     ]
    },
    {
     "data": {
      "text/plain": [
       "Thread(id='thread_Z0lZdSjE6n9CFp5N8XOvuJVo', created_at=1753245774, metadata={}, object='thread', tool_resources=ToolResources(code_interpreter=None, file_search=None))"
      ]
     },
     "execution_count": 3,
     "metadata": {},
     "output_type": "execute_result"
    }
   ],
   "source": [
    "thread = client.beta.threads.create()\n",
    "thread"
   ]
  },
  {
   "cell_type": "code",
   "execution_count": 4,
   "metadata": {},
   "outputs": [],
   "source": [
    "math_query = \"\"\"\n",
    "다음 다항 방정식의 근을 이분법(bisection method)으로 찾아줘.  \n",
    "반드시 Python 코드를 사용해서 아래 조건에 따라 직접 계산하고,  \n",
    "반복 과정을 표 형태로 정리해줘.  \n",
    "\n",
    "방정식:  \n",
    "x^5 - 4*x^2 + 1 = 0  \n",
    "\n",
    "조건:  \n",
    "- 해는 x ∈ [0, 2] 구간 안에 있음  \n",
    "- 오차 허용 범위: 0.000001 이하  \n",
    "- 이분법 알고리즘으로 몇 번 반복했는지, 각 단계에서 low, high, mid, f(mid) 값을 테이블로 출력  \n",
    "- 마지막에 f(mid)가 얼마나 0에 가까운지도 출력  \n",
    "- 그래프도 함께 보여줘 (함수 그래프와 근의 위치를 함께 시각화)\n",
    "\n",
    "**반드시 Python 코드를 실행해서 직접 계산한 결과만 사용해줘.**\n",
    "\"\"\""
   ]
  },
  {
   "cell_type": "code",
   "execution_count": 5,
   "metadata": {},
   "outputs": [
    {
     "name": "stderr",
     "output_type": "stream",
     "text": [
      "/tmp/ipykernel_113040/171227326.py:1: DeprecationWarning: The Assistants API is deprecated in favor of the Responses API\n",
      "  message = client.beta.threads.messages.create(\n"
     ]
    }
   ],
   "source": [
    "message = client.beta.threads.messages.create(\n",
    "    thread_id=thread.id,\n",
    "    role=\"user\",\n",
    "    content=math_query\n",
    ")"
   ]
  },
  {
   "cell_type": "code",
   "execution_count": 6,
   "metadata": {},
   "outputs": [
    {
     "name": "stderr",
     "output_type": "stream",
     "text": [
      "/tmp/ipykernel_113040/2546265667.py:1: DeprecationWarning: The Assistants API is deprecated in favor of the Responses API\n",
      "  thread_messages = client.beta.threads.messages.list(thread.id)\n"
     ]
    },
    {
     "name": "stdout",
     "output_type": "stream",
     "text": [
      "[Message(id='msg_bk1UpEHpIuDukSaeacN1GdvB', assistant_id=None, attachments=[], completed_at=None, content=[TextContentBlock(text=Text(annotations=[], value='\\n다음 다항 방정식의 근을 이분법(bisection method)으로 찾아줘.  \\n반드시 Python 코드를 사용해서 아래 조건에 따라 직접 계산하고,  \\n반복 과정을 표 형태로 정리해줘.  \\n\\n방정식:  \\nx^5 - 4*x^2 + 1 = 0  \\n\\n조건:  \\n- 해는 x ∈ [0, 2] 구간 안에 있음  \\n- 오차 허용 범위: 0.000001 이하  \\n- 이분법 알고리즘으로 몇 번 반복했는지, 각 단계에서 low, high, mid, f(mid) 값을 테이블로 출력  \\n- 마지막에 f(mid)가 얼마나 0에 가까운지도 출력  \\n- 그래프도 함께 보여줘 (함수 그래프와 근의 위치를 함께 시각화)\\n\\n**반드시 Python 코드를 실행해서 직접 계산한 결과만 사용해줘.**\\n'), type='text')], created_at=1753247436, incomplete_at=None, incomplete_details=None, metadata={}, object='thread.message', role='user', run_id=None, status=None, thread_id='thread_Z0lZdSjE6n9CFp5N8XOvuJVo')]\n"
     ]
    }
   ],
   "source": [
    "thread_messages = client.beta.threads.messages.list(thread.id)\n",
    "print(thread_messages.data)"
   ]
  },
  {
   "cell_type": "code",
   "execution_count": 7,
   "metadata": {},
   "outputs": [
    {
     "name": "stderr",
     "output_type": "stream",
     "text": [
      "/tmp/ipykernel_113040/3768736031.py:1: DeprecationWarning: The Assistants API is deprecated in favor of the Responses API\n",
      "  run = client.beta.threads.runs.create(\n"
     ]
    }
   ],
   "source": [
    "run = client.beta.threads.runs.create(\n",
    "  thread_id=thread.id,\n",
    "  assistant_id=assistant.id,\n",
    "  instructions=\"수학문제에 대해 설명하고 답을 같이 말해줘.\"\n",
    ")"
   ]
  },
  {
   "cell_type": "code",
   "execution_count": 8,
   "metadata": {},
   "outputs": [
    {
     "name": "stderr",
     "output_type": "stream",
     "text": [
      "/tmp/ipykernel_113040/1699223118.py:4: DeprecationWarning: The Assistants API is deprecated in favor of the Responses API\n",
      "  run = client.beta.threads.runs.retrieve(\n"
     ]
    }
   ],
   "source": [
    "import time\n",
    "\n",
    "while run.status != \"completed\"  :\n",
    "    run = client.beta.threads.runs.retrieve(\n",
    "        thread_id=thread.id,\n",
    "        run_id=run.id\n",
    "    )\n",
    "    time.sleep(0.1)"
   ]
  },
  {
   "cell_type": "code",
   "execution_count": 9,
   "metadata": {},
   "outputs": [
    {
     "name": "stderr",
     "output_type": "stream",
     "text": [
      "/tmp/ipykernel_113040/1031825989.py:1: DeprecationWarning: The Assistants API is deprecated in favor of the Responses API\n",
      "  messages = client.beta.threads.messages.list(\n"
     ]
    }
   ],
   "source": [
    "messages = client.beta.threads.messages.list(\n",
    "  thread_id=thread.id\n",
    ")"
   ]
  },
  {
   "cell_type": "code",
   "execution_count": 10,
   "metadata": {},
   "outputs": [
    {
     "name": "stderr",
     "output_type": "stream",
     "text": [
      "/tmp/ipykernel_113040/2546265667.py:1: DeprecationWarning: The Assistants API is deprecated in favor of the Responses API\n",
      "  thread_messages = client.beta.threads.messages.list(thread.id)\n"
     ]
    },
    {
     "name": "stdout",
     "output_type": "stream",
     "text": [
      "[Message(id='msg_IxLLJ8XeFfHo4UQVm9aENJcp', assistant_id='asst_H9Exy4mIzFhqRSirl8CPP1zd', attachments=[], completed_at=None, content=[ImageFileContentBlock(image_file=ImageFile(file_id='file-UHC5yFbF5DdmMep6dDPcMr', detail=None), type='image_file'), TextContentBlock(text=Text(annotations=[], value='이분법을 통해 구간 \\\\([0, 1]\\\\)에서 찾은 근의 결과는 다음과 같습니다:\\n\\n- **구한 근 (Root)**: \\\\( x \\\\approx 0.508421 \\\\)\\n- **함수값**: \\\\( f(0.508421) \\\\approx 4.26 \\\\times 10^{-6} \\\\) (허용 오차 내)\\n\\n아래는 이분법 반복 과정의 결과입니다:\\n\\n| Iteration |    low    |    high    |     mid    |    f(mid)     |\\n|-----------|-----------|------------|------------|---------------|\\n|     0     | 0.000000  | 1.000000   | 0.500000   | 0.031250      |\\n|     1     | 0.500000  | 1.000000   | 0.750000   | -1.012695     |\\n|     2     | 0.500000  | 0.750000   | 0.625000   | -0.467133     |\\n|     3     | 0.500000  | 0.625000   | 0.562500   | -0.209311     |\\n|     4     | 0.500000  | 0.562500   | 0.531250   | -0.086591     |\\n|     5     | 0.500000  | 0.531250   | 0.515625   | -0.027029     |\\n|     6     | 0.500000  | 0.515625   | 0.507812   | 0.002275      |\\n|     7     | 0.507812  | 0.515625   | 0.511719   | -0.012336     |\\n|     8     | 0.507812  | 0.511719   | 0.509766   | -0.005021     |\\n|     9     | 0.507812  | 0.509766   | 0.508789   | -0.001370     |\\n|    10     | 0.507812  | 0.508789   | 0.508301   | 0.000453      |\\n|    11     | 0.508301  | 0.508789   | 0.508545   | -0.000459     |\\n|    12     | 0.508301  | 0.508545   | 0.508423   | -0.000003     |\\n|    13     | 0.508301  | 0.508423   | 0.508362   | 0.000225      |\\n|    14     | 0.508362  | 0.508423   | 0.508392   | 0.000111      |\\n|    15     | 0.508392  | 0.508423   | 0.508408   | 0.000054      |\\n|    16     | 0.508408  | 0.508423   | 0.508415   | 0.000026      |\\n|    17     | 0.508415  | 0.508423   | 0.508419   | 0.000011      |\\n|    18     | 0.508419  | 0.508423   | 0.508421   | 0.000004      |\\n\\n이 결과로 보아, 이분법이 근을 찾는 데 성공했습니다. 함수 그래프에서도 잘 나타나네요.'), type='text')], created_at=1753247543, incomplete_at=None, incomplete_details=None, metadata={}, object='thread.message', role='assistant', run_id='run_VmKL1RRGQuRXDXAflVsI12TL', status=None, thread_id='thread_Z0lZdSjE6n9CFp5N8XOvuJVo'), Message(id='msg_TU8tWssl2bjH3gauKvV0Ztvc', assistant_id='asst_H9Exy4mIzFhqRSirl8CPP1zd', attachments=[], completed_at=None, content=[TextContentBlock(text=Text(annotations=[], value='\\\\( f(1) = -2 \\\\)인 것을 확인했습니다. 이는 \\\\( f(0) \\\\)와 \\\\( f(1) \\\\)의 값이 각각 1과 -2로 서로 다른 부호를 가지고 있음을 나타냅니다. 이제 이분법을 이 구간 \\\\([0, 1]\\\\)에 대해 수행할 수 있습니다.  \\n\\n이제 이분법을 사용해 구간 \\\\([0, 1]\\\\)에 대한 근을 찾고, 반복 과정을 표 형태로 정리하겠습니다.'), type='text')], created_at=1753247536, incomplete_at=None, incomplete_details=None, metadata={}, object='thread.message', role='assistant', run_id='run_VmKL1RRGQuRXDXAflVsI12TL', status=None, thread_id='thread_Z0lZdSjE6n9CFp5N8XOvuJVo'), Message(id='msg_jHmdcA4F6CNRNA8lcO4vqbSV', assistant_id='asst_H9Exy4mIzFhqRSirl8CPP1zd', attachments=[], completed_at=None, content=[TextContentBlock(text=Text(annotations=[], value='현재 \\\\( f(0) = 1 \\\\)이고 \\\\( f(2) = 17 \\\\)입니다. 이 값을 통해 방정식의 두 끝 점에 대한 함수 값이 같은 부호를 가지고 있다는 것을 확인했습니다. 이는 이분법이 적용될 수 없음을 의미합니다. 따라서, 특정 구간을 다시 설정할 필요가 있습니다.\\n\\n주어진 구간 \\\\([0, 2]\\\\) 안에서 적절한 근을 찾기 위해, 이를 통해 \\\\( f(x) \\\\)의 다른 값을 찾아보겠습니다. 구간을 \\\\([0, 2]\\\\) 내에서 하나의 값을 변경하여 작업을 수행하겠습니다. \\\\( f(1) \\\\)의 값을 확인해보겠습니다.'), type='text')], created_at=1753247534, incomplete_at=None, incomplete_details=None, metadata={}, object='thread.message', role='assistant', run_id='run_VmKL1RRGQuRXDXAflVsI12TL', status=None, thread_id='thread_Z0lZdSjE6n9CFp5N8XOvuJVo'), Message(id='msg_bk1UpEHpIuDukSaeacN1GdvB', assistant_id=None, attachments=[], completed_at=None, content=[TextContentBlock(text=Text(annotations=[], value='\\n다음 다항 방정식의 근을 이분법(bisection method)으로 찾아줘.  \\n반드시 Python 코드를 사용해서 아래 조건에 따라 직접 계산하고,  \\n반복 과정을 표 형태로 정리해줘.  \\n\\n방정식:  \\nx^5 - 4*x^2 + 1 = 0  \\n\\n조건:  \\n- 해는 x ∈ [0, 2] 구간 안에 있음  \\n- 오차 허용 범위: 0.000001 이하  \\n- 이분법 알고리즘으로 몇 번 반복했는지, 각 단계에서 low, high, mid, f(mid) 값을 테이블로 출력  \\n- 마지막에 f(mid)가 얼마나 0에 가까운지도 출력  \\n- 그래프도 함께 보여줘 (함수 그래프와 근의 위치를 함께 시각화)\\n\\n**반드시 Python 코드를 실행해서 직접 계산한 결과만 사용해줘.**\\n'), type='text')], created_at=1753247436, incomplete_at=None, incomplete_details=None, metadata={}, object='thread.message', role='user', run_id=None, status=None, thread_id='thread_Z0lZdSjE6n9CFp5N8XOvuJVo')]\n"
     ]
    }
   ],
   "source": [
    "thread_messages = client.beta.threads.messages.list(thread.id)\n",
    "print(thread_messages.data)"
   ]
  }
 ],
 "metadata": {
  "kernelspec": {
   "display_name": "Python 3",
   "language": "python",
   "name": "python3"
  },
  "language_info": {
   "codemirror_mode": {
    "name": "ipython",
    "version": 3
   },
   "file_extension": ".py",
   "mimetype": "text/x-python",
   "name": "python",
   "nbconvert_exporter": "python",
   "pygments_lexer": "ipython3",
   "version": "3.10.12"
  }
 },
 "nbformat": 4,
 "nbformat_minor": 2
}
