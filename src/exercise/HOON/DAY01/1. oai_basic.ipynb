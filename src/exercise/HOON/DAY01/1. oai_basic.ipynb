{
 "cells": [
  {
   "cell_type": "code",
   "execution_count": 1,
   "id": "846cf1f2",
   "metadata": {},
   "outputs": [
    {
     "name": "stdout",
     "output_type": "stream",
     "text": [
      "\n",
      "\n",
      "こんにちは？今日の天気は本当に良いですね！\n"
     ]
    }
   ],
   "source": [
    "# Completion mode, 지시와 명령을 하나의 prompt로 전달\n",
    "import os\n",
    "import openai\n",
    "\n",
    "openai.api_key = os.getenv(\"OPENAI_API_KEY\")\n",
    "# 텍스트 생성 요청을 보냅니다.\n",
    "response = openai.completions.create(\n",
    "    model=\"gpt-3.5-turbo-instruct\",\n",
    "    prompt = \"다음을 일본어로 번역하세요: 안녕하세요? 오늘 날씨가 참 좋군요!\",\n",
    "    max_tokens=256,  # 생성된 텍스트의 최대 길이를 설정합니다.\n",
    ")\n",
    "\n",
    "print(response.choices[0].text)"
   ]
  },
  {
   "cell_type": "code",
   "execution_count": 2,
   "id": "ab58eec5",
   "metadata": {},
   "outputs": [
    {
     "name": "stdout",
     "output_type": "stream",
     "text": [
      " 프로틴 섭취량을 늘리고 꾸준하게 운동을 해야합니다. 일반적으로 일일 단백질 섭취량의 20-40%를 지방으로 대체하는 것이 좋습니다. 이를 위해 고등어, 연어, 닭고기, 계란, 두부 등 단백질이 풍부한 음식을 섭취하고 지방 섭취는 과도하지 않게 조절하는 것이 좋습니다. 또한 단백질 보충제를 섭취하면 더욱 효과적인 근육량 증가가 가능합니다. 하지만 단백질은 무작위로 섭취하는 것보다는 운동 전후에 근육 트레이닝에 특화된 형태로 섭취하는 것이 좋습니다.\n",
      "\n",
      "\n"
     ]
    }
   ],
   "source": [
    "# Completion mode, 문장을 이어서 완성하게 함\n",
    "import os\n",
    "import openai\n",
    "\n",
    "openai.api_key = os.getenv(\"OPENAI_API_KEY\")\n",
    "# 텍스트 생성 요청을 보냅니다.\n",
    "response = openai.completions.create(\n",
    "    model=\"gpt-3.5-turbo-instruct\",\n",
    "    prompt=\"근육이 커지려면\",\n",
    "    max_tokens=256,  # 생성된 텍스트의 최대 길이를 설정합니다.\n",
    ")\n",
    "\n",
    "# 생성된 텍스트를 출력합니다.\n",
    "print(response.choices[0].text)"
   ]
  },
  {
   "cell_type": "code",
   "execution_count": 3,
   "id": "c69325fd",
   "metadata": {},
   "outputs": [
    {
     "name": "stdout",
     "output_type": "stream",
     "text": [
      "Completion(id='cmpl-BvctsnU7pgzGTn4ouYWLiwFlfdrbJ', choices=[CompletionChoice(finish_reason='length', index=0, logprobs=None, text=' 프로틴 섭취량을 늘리고 꾸준하게 운동을 해야합니다. 일반적으로 일일 단백질 섭취량의 20-40%를 지방으로 대체하는 것이 좋습니다. 이를 위해 고등어, 연어, 닭고기, 계란, 두부 등 단백질이 풍부한 음식을 섭취하고 지방 섭취는 과도하지 않게 조절하는 것이 좋습니다. 또한 단백질 보충제를 섭취하면 더욱 효과적인 근육량 증가가 가능합니다. 하지만 단백질은 무작위로 섭취하는 것보다는 운동 전후에 근육 트레이닝에 특화된 형태로 섭취하는 것이 좋습니다.\\n\\n')], created=1753073928, model='gpt-3.5-turbo-instruct:20230824-v2', object='text_completion', system_fingerprint=None, usage=CompletionUsage(completion_tokens=255, prompt_tokens=11, total_tokens=266, completion_tokens_details=None, prompt_tokens_details=None))\n"
     ]
    }
   ],
   "source": [
    "print(response)"
   ]
  },
  {
   "cell_type": "code",
   "execution_count": 4,
   "id": "f1f0e3b2",
   "metadata": {},
   "outputs": [
    {
     "name": "stdout",
     "output_type": "stream",
     "text": [
      "안녕하세요? 오늘 날씨가 참 좋군요!는 일본어로 다음과 같이 번역됩니다:\n",
      "\n",
      "こんにちは！今日は天気がとても良いですね！\n"
     ]
    }
   ],
   "source": [
    "# 표준적인 Chat completion mode\n",
    "\n",
    "import openai\n",
    "\n",
    "res = openai.chat.completions.create(\n",
    "  model=\"gpt-4o-mini\",\n",
    "  messages=[{\"role\": \"user\", \"content\": \"다음을 일본어로 번역하세요: 안녕하세요? 오늘 날씨가 참 좋군요!\"}]\n",
    ")\n",
    "print(res.choices[0].message.content)"
   ]
  },
  {
   "cell_type": "code",
   "execution_count": 5,
   "id": "94bec629",
   "metadata": {},
   "outputs": [
    {
     "name": "stdout",
     "output_type": "stream",
     "text": [
      "ChatCompletion(id='chatcmpl-BvcuB38qdCBVnhiyz1mr5UZS3Fbj6', choices=[Choice(finish_reason='stop', index=0, logprobs=None, message=ChatCompletionMessage(content='안녕하세요? 오늘 날씨가 참 좋군요!는 일본어로 다음과 같이 번역됩니다:\\n\\nこんにちは！今日は天気がとても良いですね！', refusal=None, role='assistant', annotations=[], audio=None, function_call=None, tool_calls=None))], created=1753073947, model='gpt-4o-mini-2024-07-18', object='chat.completion', service_tier='default', system_fingerprint=None, usage=CompletionUsage(completion_tokens=35, prompt_tokens=28, total_tokens=63, completion_tokens_details=CompletionTokensDetails(accepted_prediction_tokens=0, audio_tokens=0, reasoning_tokens=0, rejected_prediction_tokens=0), prompt_tokens_details=PromptTokensDetails(audio_tokens=0, cached_tokens=0)))\n"
     ]
    }
   ],
   "source": [
    "print(res)"
   ]
  }
 ],
 "metadata": {
  "kernelspec": {
   "display_name": "Python 3",
   "language": "python",
   "name": "python3"
  },
  "language_info": {
   "codemirror_mode": {
    "name": "ipython",
    "version": 3
   },
   "file_extension": ".py",
   "mimetype": "text/x-python",
   "name": "python",
   "nbconvert_exporter": "python",
   "pygments_lexer": "ipython3",
   "version": "3.10.12"
  }
 },
 "nbformat": 4,
 "nbformat_minor": 5
}
