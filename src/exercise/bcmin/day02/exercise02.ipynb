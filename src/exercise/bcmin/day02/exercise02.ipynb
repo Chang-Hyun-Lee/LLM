{
 "cells": [
  {
   "cell_type": "code",
   "execution_count": null,
   "id": "823db971",
   "metadata": {},
   "outputs": [],
   "source": [
    "# 주가 연습\n",
    "\n",
    "import os\n",
    "import openai\n",
    "from pykrx import stock\n",
    "\n",
    "openai.api_key = os.getenv(\"OPENAI_API_KEY\")\n",
    "\n",
    "import yfinance as yf\n",
    "\n",
    "# 엔비디아(NVDA) 데이터 다운로드\n",
    "nvda = yf.Ticker(\"NVDA\")\n",
    "data = nvda.history(period=\"1y\")  # 최근 1년치 데이터\n",
    "\n",
    "\n",
    "response = openai.chat.completions.create(\n",
    "  model=\"gpt-4o-mini\",\n",
    "  messages=[\n",
    "    {\n",
    "      \"role\": \"system\",\n",
    "      \"content\": \"주어진 정보를 바탕으로 주가 분석을 해줘.\"\n",
    "    },\n",
    "    {\n",
    "      \"role\": \"user\",\n",
    "      \"content\": data.to_string()  # DataFrame을 문자열로 변환하여 전달\n",
    "              }\n",
    "  ],\n",
    "  temperature=0,\n",
    "  max_tokens=1024,\n",
    "  top_p=1,\n",
    "  frequency_penalty=0,\n",
    "  presence_penalty=0\n",
    ")\n",
    "\n",
    "print(response.choices[0].message.content)"
   ]
  },
  {
   "cell_type": "code",
   "execution_count": 1,
   "id": "b8769858",
   "metadata": {},
   "outputs": [
    {
     "name": "stdout",
     "output_type": "stream",
     "text": [
      "Defaulting to user installation because normal site-packages is not writeable\n",
      "Collecting yfinance\n",
      "  Downloading yfinance-0.2.65-py2.py3-none-any.whl (119 kB)\n",
      "\u001b[2K     \u001b[90m━━━━━━━━━━━━━━━━━━━━━━━━━━━━━━━━━━━━━━━\u001b[0m \u001b[32m119.4/119.4 KB\u001b[0m \u001b[31m4.7 MB/s\u001b[0m eta \u001b[36m0:00:00\u001b[0m\n",
      "\u001b[?25hCollecting beautifulsoup4>=4.11.1\n",
      "  Downloading beautifulsoup4-4.13.4-py3-none-any.whl (187 kB)\n",
      "\u001b[2K     \u001b[90m━━━━━━━━━━━━━━━━━━━━━━━━━━━━━━━━━━━━━━\u001b[0m \u001b[32m187.3/187.3 KB\u001b[0m \u001b[31m10.3 MB/s\u001b[0m eta \u001b[36m0:00:00\u001b[0m\n",
      "\u001b[?25hCollecting frozendict>=2.3.4\n",
      "  Downloading frozendict-2.4.6-cp310-cp310-manylinux_2_17_x86_64.manylinux2014_x86_64.whl (117 kB)\n",
      "\u001b[2K     \u001b[90m━━━━━━━━━━━━━━━━━━━━━━━━━━━━━━━━━━━━━━\u001b[0m \u001b[32m117.4/117.4 KB\u001b[0m \u001b[31m14.7 MB/s\u001b[0m eta \u001b[36m0:00:00\u001b[0m\n",
      "\u001b[?25hCollecting requests>=2.31\n",
      "  Downloading requests-2.32.4-py3-none-any.whl (64 kB)\n",
      "\u001b[2K     \u001b[90m━━━━━━━━━━━━━━━━━━━━━━━━━━━━━━━━━━━━━━━━\u001b[0m \u001b[32m64.8/64.8 KB\u001b[0m \u001b[31m12.9 MB/s\u001b[0m eta \u001b[36m0:00:00\u001b[0m\n",
      "\u001b[?25hRequirement already satisfied: numpy>=1.16.5 in /home/bcmin/.local/lib/python3.10/site-packages (from yfinance) (2.2.6)\n",
      "Collecting multitasking>=0.0.7\n",
      "  Downloading multitasking-0.0.12.tar.gz (19 kB)\n",
      "  Preparing metadata (setup.py) ... \u001b[?25ldone\n",
      "\u001b[?25hCollecting peewee>=3.16.2\n",
      "  Downloading peewee-3.18.2.tar.gz (949 kB)\n",
      "\u001b[2K     \u001b[90m━━━━━━━━━━━━━━━━━━━━━━━━━━━━━━━━━━━━━━\u001b[0m \u001b[32m949.2/949.2 KB\u001b[0m \u001b[31m15.6 MB/s\u001b[0m eta \u001b[36m0:00:00\u001b[0ma \u001b[36m0:00:01\u001b[0m\n",
      "\u001b[?25h  Installing build dependencies ... \u001b[?25ldone\n",
      "\u001b[?25h  Getting requirements to build wheel ... \u001b[?25ldone\n",
      "\u001b[?25h  Preparing metadata (pyproject.toml) ... \u001b[?25ldone\n",
      "\u001b[?25hCollecting curl_cffi>=0.7\n",
      "  Downloading curl_cffi-0.12.0-cp39-abi3-manylinux_2_17_x86_64.manylinux2014_x86_64.whl (8.3 MB)\n",
      "\u001b[2K     \u001b[90m━━━━━━━━━━━━━━━━━━━━━━━━━━━━━━━━━━━━━━━━\u001b[0m \u001b[32m8.3/8.3 MB\u001b[0m \u001b[31m35.5 MB/s\u001b[0m eta \u001b[36m0:00:00\u001b[0ma \u001b[36m0:00:01\u001b[0m\n",
      "\u001b[?25hCollecting pytz>=2022.5\n",
      "  Downloading pytz-2025.2-py2.py3-none-any.whl (509 kB)\n",
      "\u001b[2K     \u001b[90m━━━━━━━━━━━━━━━━━━━━━━━━━━━━━━━━━━━━━━\u001b[0m \u001b[32m509.2/509.2 KB\u001b[0m \u001b[31m40.2 MB/s\u001b[0m eta \u001b[36m0:00:00\u001b[0m\n",
      "\u001b[?25hRequirement already satisfied: platformdirs>=2.0.0 in /home/bcmin/.local/lib/python3.10/site-packages (from yfinance) (4.3.8)\n",
      "Collecting websockets>=13.0\n",
      "  Downloading websockets-15.0.1-cp310-cp310-manylinux_2_5_x86_64.manylinux1_x86_64.manylinux_2_17_x86_64.manylinux2014_x86_64.whl (181 kB)\n",
      "\u001b[2K     \u001b[90m━━━━━━━━━━━━━━━━━━━━━━━━━━━━━━━━━━━━━━\u001b[0m \u001b[32m181.6/181.6 KB\u001b[0m \u001b[31m37.0 MB/s\u001b[0m eta \u001b[36m0:00:00\u001b[0m\n",
      "\u001b[?25hRequirement already satisfied: pandas>=1.3.0 in /home/bcmin/.local/lib/python3.10/site-packages (from yfinance) (2.3.1)\n",
      "Collecting protobuf>=3.19.0\n",
      "  Downloading protobuf-6.31.1-cp39-abi3-manylinux2014_x86_64.whl (321 kB)\n",
      "\u001b[2K     \u001b[90m━━━━━━━━━━━━━━━━━━━━━━━━━━━━━━━━━━━━━━\u001b[0m \u001b[32m321.1/321.1 KB\u001b[0m \u001b[31m45.9 MB/s\u001b[0m eta \u001b[36m0:00:00\u001b[0m\n",
      "\u001b[?25hRequirement already satisfied: typing-extensions>=4.0.0 in /home/bcmin/.local/lib/python3.10/site-packages (from beautifulsoup4>=4.11.1->yfinance) (4.14.1)\n",
      "Collecting soupsieve>1.2\n",
      "  Downloading soupsieve-2.7-py3-none-any.whl (36 kB)\n",
      "Collecting cffi>=1.12.0\n",
      "  Downloading cffi-1.17.1-cp310-cp310-manylinux_2_17_x86_64.manylinux2014_x86_64.whl (446 kB)\n",
      "\u001b[2K     \u001b[90m━━━━━━━━━━━━━━━━━━━━━━━━━━━━━━━━━━━━━━\u001b[0m \u001b[32m446.2/446.2 KB\u001b[0m \u001b[31m68.4 MB/s\u001b[0m eta \u001b[36m0:00:00\u001b[0m\n",
      "\u001b[?25hCollecting certifi>=2024.2.2\n",
      "  Downloading certifi-2025.7.14-py3-none-any.whl (162 kB)\n",
      "\u001b[2K     \u001b[90m━━━━━━━━━━━━━━━━━━━━━━━━━━━━━━━━━━━━━━\u001b[0m \u001b[32m162.7/162.7 KB\u001b[0m \u001b[31m39.5 MB/s\u001b[0m eta \u001b[36m0:00:00\u001b[0m\n",
      "\u001b[?25hRequirement already satisfied: python-dateutil>=2.8.2 in /home/bcmin/.local/lib/python3.10/site-packages (from pandas>=1.3.0->yfinance) (2.9.0.post0)\n",
      "Requirement already satisfied: tzdata>=2022.7 in /home/bcmin/.local/lib/python3.10/site-packages (from pandas>=1.3.0->yfinance) (2025.2)\n",
      "Collecting charset_normalizer<4,>=2\n",
      "  Downloading charset_normalizer-3.4.2-cp310-cp310-manylinux_2_17_x86_64.manylinux2014_x86_64.whl (149 kB)\n",
      "\u001b[2K     \u001b[90m━━━━━━━━━━━━━━━━━━━━━━━━━━━━━━━━━━━━━━\u001b[0m \u001b[32m149.5/149.5 KB\u001b[0m \u001b[31m35.5 MB/s\u001b[0m eta \u001b[36m0:00:00\u001b[0m\n",
      "\u001b[?25hRequirement already satisfied: idna<4,>=2.5 in /usr/lib/python3/dist-packages (from requests>=2.31->yfinance) (3.3)\n",
      "Requirement already satisfied: urllib3<3,>=1.21.1 in /usr/lib/python3/dist-packages (from requests>=2.31->yfinance) (1.26.5)\n",
      "Collecting pycparser\n",
      "  Downloading pycparser-2.22-py3-none-any.whl (117 kB)\n",
      "\u001b[2K     \u001b[90m━━━━━━━━━━━━━━━━━━━━━━━━━━━━━━━━━━━━━━\u001b[0m \u001b[32m117.6/117.6 KB\u001b[0m \u001b[31m28.3 MB/s\u001b[0m eta \u001b[36m0:00:00\u001b[0m\n",
      "\u001b[?25hRequirement already satisfied: six>=1.5 in /usr/lib/python3/dist-packages (from python-dateutil>=2.8.2->pandas>=1.3.0->yfinance) (1.16.0)\n",
      "Building wheels for collected packages: multitasking, peewee\n",
      "  Building wheel for multitasking (setup.py) ... \u001b[?25ldone\n",
      "\u001b[?25h  Created wheel for multitasking: filename=multitasking-0.0.12-py3-none-any.whl size=15550 sha256=4ec7c803c4e22cea1c2b0a5409ab5c0c4da79e768f137cd020bfecb0e1c380b6\n",
      "  Stored in directory: /home/bcmin/.cache/pip/wheels/e9/25/85/25d2e1cfc0ece64b930b16972f7e4cc3599c43b531f1eba06d\n",
      "  Building wheel for peewee (pyproject.toml) ... \u001b[?25ldone\n",
      "\u001b[?25h  Created wheel for peewee: filename=peewee-3.18.2-py3-none-any.whl size=139023 sha256=5cb94a31c6833c424db054f75ad227893aa2835a46635ecbd03ab5acd33f4cf3\n",
      "  Stored in directory: /home/bcmin/.cache/pip/wheels/29/22/6c/745744e946d21fdbad1d89887af15cf0659ea76d1a884417ca\n",
      "Successfully built multitasking peewee\n",
      "Installing collected packages: pytz, peewee, multitasking, websockets, soupsieve, pycparser, protobuf, frozendict, charset_normalizer, certifi, requests, cffi, beautifulsoup4, curl_cffi, yfinance\n",
      "Successfully installed beautifulsoup4-4.13.4 certifi-2025.7.14 cffi-1.17.1 charset_normalizer-3.4.2 curl_cffi-0.12.0 frozendict-2.4.6 multitasking-0.0.12 peewee-3.18.2 protobuf-6.31.1 pycparser-2.22 pytz-2025.2 requests-2.32.4 soupsieve-2.7 websockets-15.0.1 yfinance-0.2.65\n",
      "Note: you may need to restart the kernel to use updated packages.\n"
     ]
    }
   ],
   "source": [
    "pip install yfinance"
   ]
  },
  {
   "cell_type": "code",
   "execution_count": null,
   "id": "83d35c31",
   "metadata": {},
   "outputs": [],
   "source": [
    "import yfinance as yf\n",
    "\n",
    "# 엔비디아(NVDA) 데이터 다운로드\n",
    "nvda = yf.Ticker(\"NVDA\")\n",
    "data = nvda.history(period=\"1y\")  # 최근 1년치 데이터\n",
    "\n",
    "print(data)"
   ]
  },
  {
   "cell_type": "code",
   "execution_count": null,
   "id": "e5e7cb6e",
   "metadata": {},
   "outputs": [],
   "source": []
  },
  {
   "cell_type": "code",
   "execution_count": 20,
   "id": "612b7ccb",
   "metadata": {},
   "outputs": [
    {
     "name": "stdout",
     "output_type": "stream",
     "text": [
      "{'documents': [{'address_name': '경기 성남시 분당구 삼평동 680', 'category_group_code': 'FD6', 'category_group_name': '음식점', 'category_name': '음식점 > 양식 > 이탈리안', 'distance': '87', 'id': '17772351', 'phone': '0503-7151-9660', 'place_name': '빈티지1988', 'place_url': 'http://place.map.kakao.com/17772351', 'road_address_name': '경기 성남시 분당구 판교역로 231', 'x': '127.10802840454299', 'y': '37.4014597360053'}, {'address_name': '경기 성남시 분당구 삼평동 740', 'category_group_code': 'FD6', 'category_group_name': '음식점', 'category_name': '음식점 > 양식 > 이탈리안 > 더플레이스', 'distance': '714', 'id': '1705454349', 'phone': '031-701-0421', 'place_name': '더플레이스 판교점', 'place_url': 'http://place.map.kakao.com/1705454349', 'road_address_name': '경기 성남시 분당구 동판교로177번길 25', 'x': '127.11328225957783', 'y': '37.39684159130568'}, {'address_name': '경기 성남시 분당구 백현동 532', 'category_group_code': 'FD6', 'category_group_name': '음식점', 'category_name': '음식점 > 양식 > 이탈리안', 'distance': '773', 'id': '325713516', 'phone': '031-707-0999', 'place_name': '라그릴리아 판교점', 'place_url': 'http://place.map.kakao.com/325713516', 'road_address_name': '경기 성남시 분당구 판교역로 166', 'x': '127.1102408570992', 'y': '37.39524515262903'}, {'address_name': '경기 성남시 분당구 삼평동 670', 'category_group_code': 'FD6', 'category_group_name': '음식점', 'category_name': '음식점 > 양식 > 이탈리안', 'distance': '232', 'id': '20102772', 'phone': '031-628-4545', 'place_name': '챠오바라이트', 'place_url': 'http://place.map.kakao.com/20102772', 'road_address_name': '경기 성남시 분당구 대왕판교로 660', 'x': '127.1068355870884', 'y': '37.40055349179442'}, {'address_name': '경기 성남시 분당구 삼평동 632', 'category_group_code': 'FD6', 'category_group_name': '음식점', 'category_name': '음식점 > 양식 > 이탈리안', 'distance': '608', 'id': '1321041282', 'phone': '031-606-8511', 'place_name': '비스트로바이콘', 'place_url': 'http://place.map.kakao.com/1321041282', 'road_address_name': '경기 성남시 분당구 대왕판교로645번길 36', 'x': '127.102084009388', 'y': '37.4004108231145'}, {'address_name': '경기 성남시 분당구 백현동 541', 'category_group_code': 'FD6', 'category_group_name': '음식점', 'category_name': '음식점 > 양식 > 이탈리안', 'distance': '1048', 'id': '27517572', 'phone': '031-5170-1061', 'place_name': '이탈리 판교점', 'place_url': 'http://place.map.kakao.com/27517572', 'road_address_name': '경기 성남시 분당구 판교역로146번길 20', 'x': '127.11249187537746', 'y': '37.393167979334855'}, {'address_name': '경기 성남시 분당구 백현동 534', 'category_group_code': 'FD6', 'category_group_name': '음식점', 'category_name': '음식점 > 양식 > 이탈리안', 'distance': '789', 'id': '1701818961', 'phone': '', 'place_name': '더이탈리안클럽 판교테크원점', 'place_url': 'http://place.map.kakao.com/1701818961', 'road_address_name': '경기 성남시 분당구 분당내곡로 131', 'x': '127.11213406036237', 'y': '37.395556026981'}, {'address_name': '경기 성남시 분당구 삼평동 670', 'category_group_code': 'FD6', 'category_group_name': '음식점', 'category_name': '음식점 > 양식 > 이탈리안', 'distance': '242', 'id': '163419943', 'phone': '0502-5551-9865', 'place_name': '까사논나', 'place_url': 'http://place.map.kakao.com/163419943', 'road_address_name': '경기 성남시 분당구 대왕판교로 660', 'x': '127.10716266990825', 'y': '37.40024234358203'}, {'address_name': '경기 성남시 분당구 백현동 534', 'category_group_code': 'FD6', 'category_group_name': '음식점', 'category_name': '음식점 > 양식 > 이탈리안', 'distance': '781', 'id': '217339810', 'phone': '031-601-7559', 'place_name': '판교의하루일과', 'place_url': 'http://place.map.kakao.com/217339810', 'road_address_name': '경기 성남시 분당구 분당내곡로 131', 'x': '127.11203474565635', 'y': '37.395600271179134'}, {'address_name': '경기 성남시 분당구 백현동 541', 'category_group_code': 'FD6', 'category_group_name': '음식점', 'category_name': '음식점 > 양식 > 이탈리안', 'distance': '1105', 'id': '1165840853', 'phone': '031-5170-2541', 'place_name': 'H541 현대백화점판교점', 'place_url': 'http://place.map.kakao.com/1165840853', 'road_address_name': '경기 성남시 분당구 판교역로146번길 20', 'x': '127.11227415456291', 'y': '37.39256630353006'}, {'address_name': '경기 성남시 분당구 삼평동 651', 'category_group_code': 'FD6', 'category_group_name': '음식점', 'category_name': '음식점 > 양식 > 이탈리안', 'distance': '673', 'id': '17154235', 'phone': '', 'place_name': '빔스', 'place_url': 'http://place.map.kakao.com/17154235', 'road_address_name': '경기 성남시 분당구 대왕판교로606번길 39', 'x': '127.11149736227154', 'y': '37.39648107718199'}, {'address_name': '경기 성남시 분당구 삼평동 655', 'category_group_code': 'FD6', 'category_group_name': '음식점', 'category_name': '음식점 > 양식 > 이탈리안', 'distance': '669', 'id': '26797176', 'phone': '031-625-1232', 'place_name': '오말리 판교점', 'place_url': 'http://place.map.kakao.com/26797176', 'road_address_name': '경기 성남시 분당구 대왕판교로606번길 47', 'x': '127.11253251375311', 'y': '37.3969342113948'}, {'address_name': '경기 성남시 수정구 사송동 562-3', 'category_group_code': 'FD6', 'category_group_name': '음식점', 'category_name': '음식점 > 양식 > 이탈리안', 'distance': '1487', 'id': '904259567', 'phone': '070-8870-9990', 'place_name': '토브나인', 'place_url': 'http://place.map.kakao.com/904259567', 'road_address_name': '경기 성남시 수정구 사송로 56', 'x': '127.113426984783', 'y': '37.4149357370705'}, {'address_name': '경기 성남시 분당구 백현동 541', 'category_group_code': 'FD6', 'category_group_name': '음식점', 'category_name': '음식점 > 양식 > 이탈리안', 'distance': '1080', 'id': '160554702', 'phone': '031-5170-1592', 'place_name': '더키친 일뽀르노 현대백화점판교점', 'place_url': 'http://place.map.kakao.com/160554702', 'road_address_name': '경기 성남시 분당구 판교역로146번길 20', 'x': '127.11241911255539', 'y': '37.39284097753938'}, {'address_name': '경기 성남시 수정구 사송동 520-9', 'category_group_code': 'FD6', 'category_group_name': '음식점', 'category_name': '음식점 > 양식 > 이탈리안', 'distance': '1544', 'id': '17411335', 'phone': '02-596-2000', 'place_name': '푸른언덕', 'place_url': 'http://place.map.kakao.com/17411335', 'road_address_name': '경기 성남시 수정구 사송로80번길 25-1', 'x': '127.10871351812831', 'y': '37.41600697128001'}], 'meta': {'is_end': False, 'pageable_count': 27, 'same_name': {'keyword': '이탈리안', 'region': [], 'selected_region': ''}, 'total_count': 27}}\n"
     ]
    }
   ],
   "source": [
    "import requests\n",
    "\n",
    "url = \"https://dapi.kakao.com/v2/local/search/keyword.json\"\n",
    "headers = {\"Authorization\": \"KakaoAK fec0d451a44400e161bb68d466933d9d\"}\n",
    "params = {\n",
    "    \"query\": \"이탈리안\",\n",
    "    \"x\": \"127.1086228\",  # 판교역 경도\n",
    "    \"y\": \"37.402095\",    # 판교역 위도\n",
    "    \"radius\": 2000       # 반경(m), 정수로 입력\n",
    "}\n",
    "\n",
    "response = requests.get(url, headers=headers, params=params)\n",
    "\n",
    "if response.status_code == 200:\n",
    "    print(response.json())\n",
    "else:\n",
    "    print(\"Error:\", response.status_code, response.text)"
   ]
  },
  {
   "cell_type": "code",
   "execution_count": null,
   "id": "4d4f00f4",
   "metadata": {},
   "outputs": [],
   "source": [
    "import requests\n",
    "\n",
    "url = \"https://dapi.kakao.com/v2/local/search/keyword.json\"\n",
    "params = {\"query\":\"편의점\", \n",
    "          \"x\":\"127.06283102249932\", \n",
    "          \"y\":\"37.514322572335935\", \n",
    "          \"radius\":\"20000\",\n",
    "          \"size\":3,\n",
    "          \"page\":5 }\n",
    "    \n",
    "headers = {\"Authorization\": \"KakaoAK \" + 'fec0d451a44400e161bb68d466933d9d'}\n",
    "response = requests.get(url, headers=headers, params=params)\n",
    "    \n",
    "for item in response.json()[\"documents\"]:\n",
    "    # 각 아이템에서 필요한 정보 추출\n",
    "    print('--------')\n",
    "    print(item['place_name'])\n",
    "    print(item['road_address_name'])\n",
    "    print(item['phone']) \n",
    "    print(item['category_name'])\n"
   ]
  },
  {
   "cell_type": "code",
   "execution_count": null,
   "id": "db143971",
   "metadata": {},
   "outputs": [],
   "source": [
    "import os\n",
    "import openai\n",
    "import json\n",
    "openai.api_key = os.getenv(\"OPENAI_API_KEY\")\n",
    "\n",
    "import requests\n",
    "\n",
    "url = \"https://dapi.kakao.com/v2/local/search/keyword.json\"\n",
    "headers = {\"Authorization\": \"KakaoAK fec0d451a44400e161bb68d466933d9d\"}\n",
    "params = {\n",
    "    \"query\": \"국밥\",\n",
    "    \"x\": \"128.6233556\",  # 거제시 경도\n",
    "    \"y\": \"34.87735833\",  # 거제시 위도\n",
    "    \"radius\": 2000       # 반경(m), 정수로 입력\n",
    "}\n",
    "\n",
    "response1 = requests.get(url, headers=headers, params=params)\n",
    "response_text = json.dumps(response1.json(), ensure_ascii=False, indent=2)\n",
    "\n",
    "\n",
    "response = openai.chat.completions.create(\n",
    "  model=\"gpt-4o-mini\",\n",
    "  messages=[\n",
    "    {\n",
    "      \"role\": \"system\",\n",
    "      \"content\": \"주어진 정보를 바탕으로 돼지국밥집을 추천해줘.\"\n",
    "    },\n",
    "    {\n",
    "      \"role\": \"user\",\n",
    "      \"content\": response_text  # DataFrame을 문자열로 변환하여 전달\n",
    "                                  }\n",
    "  ],\n",
    "  temperature=0,\n",
    "  max_tokens=1024,\n",
    "  top_p=1,\n",
    "  frequency_penalty=0,\n",
    "  presence_penalty=0\n",
    ")\n",
    "\n",
    "print(response.choices[0].message.content)"
   ]
  },
  {
   "cell_type": "code",
   "execution_count": 43,
   "id": "55fd8013",
   "metadata": {},
   "outputs": [],
   "source": [
    "import os\n",
    "import json\n",
    "from openai import OpenAI\n",
    "\n",
    "client = OpenAI()\n",
    "client.api_key = os.getenv(\"OPENAI_API_KEY\")"
   ]
  },
  {
   "cell_type": "code",
   "execution_count": 76,
   "id": "f6d4ed66",
   "metadata": {},
   "outputs": [],
   "source": [
    "def get_stock(company):\n",
    "    from pykrx import stock\n",
    "    codes = stock.get_market_ticker_list(market=\"KOSPI\")\n",
    "    for code in codes:\n",
    "        if stock.get_market_ticker_name(code) == company:\n",
    "            CodeInfo = code\n",
    "    df = stock.get_market_trading_value_by_date(\"20250701\", \"20250720\", CodeInfo)    \n",
    "    return df.to_json(orient=\"records\", force_ascii=False)\n",
    "\n",
    "messages = [{\"role\": \"user\", \"content\": \"주가 분석해줘\"}]\n",
    "functions = [\n",
    "    {\n",
    "        \"name\": \"get_stock\",\n",
    "        \"description\": \"회사 주가를 알려줍니다.\",\n",
    "        \"parameters\": {\n",
    "            \"type\": \"object\",\n",
    "            \"properties\": {\n",
    "                \"company\": {\n",
    "                    \"type\": \"string\",\n",
    "                    \"description\": \"한미반도체\"\n",
    "                }\n",
    "                #\"unit\": {\"type\": \"string\", \"enum\": [\"섭씨\", \"화씨\"]},\n",
    "            }\n",
    "            #\"required\": [\"location\"],\n",
    "        },\n",
    "    }\n",
    "]"
   ]
  },
  {
   "cell_type": "code",
   "execution_count": 75,
   "id": "8acb6f7b",
   "metadata": {},
   "outputs": [
    {
     "name": "stdout",
     "output_type": "stream",
     "text": [
      "[{\"기관합계\":-12583618450,\"기타법인\":-66195850,\"개인\":11525321950,\"외국인합계\":1124492350,\"전체\":0},{\"기관합계\":-3880755950,\"기타법인\":62611000,\"개인\":-885484050,\"외국인합계\":4703629000,\"전체\":0},{\"기관합계\":-1048699350,\"기타법인\":308229900,\"개인\":3867340000,\"외국인합계\":-3126870550,\"전체\":0},{\"기관합계\":-412137200,\"기타법인\":90129950,\"개인\":5440082150,\"외국인합계\":-5118074900,\"전체\":0},{\"기관합계\":1130056850,\"기타법인\":120785900,\"개인\":-2012973750,\"외국인합계\":762131000,\"전체\":0},{\"기관합계\":4324691750,\"기타법인\":278232300,\"개인\":-4519757350,\"외국인합계\":-83166700,\"전체\":0},{\"기관합계\":-4278349550,\"기타법인\":27350050,\"개인\":7371504000,\"외국인합계\":-3120504500,\"전체\":0},{\"기관합계\":7910200650,\"기타법인\":673155000,\"개인\":13545042150,\"외국인합계\":-22128397800,\"전체\":0},{\"기관합계\":-7639745150,\"기타법인\":509332200,\"개인\":16803900150,\"외국인합계\":-9673487200,\"전체\":0},{\"기관합계\":-18934089300,\"기타법인\":149631750,\"개인\":31675752750,\"외국인합계\":-12891295200,\"전체\":0},{\"기관합계\":-2613679300,\"기타법인\":1173408750,\"개인\":592855750,\"외국인합계\":847414800,\"전체\":0},{\"기관합계\":-5772602100,\"기타법인\":811555600,\"개인\":8197361750,\"외국인합계\":-3236315250,\"전체\":0},{\"기관합계\":-6961914450,\"기타법인\":125412800,\"개인\":12350254400,\"외국인합계\":-5513752750,\"전체\":0},{\"기관합계\":-3785764700,\"기타법인\":-37547000,\"개인\":5630725100,\"외국인합계\":-1807413400,\"전체\":0}]\n"
     ]
    }
   ],
   "source": [
    "print (get_stock(\"한미반도체\"))"
   ]
  },
  {
   "cell_type": "code",
   "execution_count": 77,
   "id": "8bfefd51",
   "metadata": {},
   "outputs": [
    {
     "name": "stdout",
     "output_type": "stream",
     "text": [
      "ChatCompletionMessage(content=None, refusal=None, role='assistant', annotations=[], audio=None, function_call=FunctionCall(arguments='{\"company\":\"한미반도체\"}', name='get_stock'), tool_calls=None)\n"
     ]
    }
   ],
   "source": [
    "response = client.chat.completions.create(\n",
    "    model=\"gpt-4o-mini\",\n",
    "    messages=messages,\n",
    "    functions=functions,\n",
    "    function_call=\"auto\",\n",
    "    )\n",
    "response_message = response.choices[0].message\n",
    "print(response_message)"
   ]
  },
  {
   "cell_type": "code",
   "execution_count": 78,
   "id": "bcdbca37",
   "metadata": {},
   "outputs": [
    {
     "name": "stdout",
     "output_type": "stream",
     "text": [
      "한미반도체의 주가 거래 분석 결과는 다음과 같습니다.\n",
      "\n",
      "1. **거래 참여자별 자금 흐름**\n",
      "   - **기관**: 최근 거래에서 기관은 지속적으로 매도세를 보이고 있습니다. 특히 큰 규모의 매도도 발생하며, 총 매도액은 약 189억 원에 달합니다.\n",
      "   - **개인**: 개인 투자자들은 기관의 매도에도 불구하고 꾸준히 매수세를 유지하고 있으며, 최근 거래에서 약 316억 원을 순매수하였습니다.\n",
      "   - **외국인**: 외국인은 대체로 매도세를 유지하고 있으며, 총 매도액은 약 129억 원입니다.\n",
      "\n",
      "2. **추세**\n",
      "   - 최근의 자금 흐름을 보면, 기관의 강한 매도에 반해 개인 투자자들이 적극적으로 매수하고 있는 모습입니다. 이는 주가가 하락세일 때 개인 투자자들이 주식 매수를 확대하는 경향을 보여줍니다.\n",
      "   - FX 시장에서는 외국인들도 자금을 이탈시키는 모습을 보이고 있으며, 이는 주가에 부정적인 영향을 미칠 수 있습니다.\n",
      "\n",
      "3. **시장 심리**\n",
      "   - 기관의 지속적인 매도에도 개인 투자자들이 긍정적인 심리를 유지하고 있으며, 이는 향후 주가 반등에 대한 기대감을 가질 수 있게 합니다.\n",
      "   - 따라서 개인 투자자들이 어느 정도의 심리를 유지할지, 그리고 기관의 매도세가 언제까지 지속될지는 향후 주가에 중요한 변수로 작용할 것입니다.\n",
      "\n",
      "결론적으로, 현재는 기관들의 매도세와 개인들의 매수세가 엇갈리는 상황입니다. 앞으로 주가가 어떻게 움직일지는 이러한 자금 흐름의 변화에 달려있습니다.\n"
     ]
    }
   ],
   "source": [
    "if response_message.function_call is not None:\n",
    "    # Note: the JSON response may not always be valid; be sure to handle errors\n",
    "    available_functions = {\n",
    "        \"get_stock\": get_stock\n",
    "    }\n",
    "    function_name = response_message.function_call.name\n",
    "    function_to_call = available_functions[function_name]\n",
    "    function_args = json.loads(response_message.function_call.arguments)\n",
    "    function_response = function_to_call(\n",
    "        company=function_args['company']        \n",
    "    )\n",
    "\n",
    "    messages.append(response_message)\n",
    "    messages.append(\n",
    "        {\n",
    "            \"role\": \"function\",\n",
    "            \"name\": function_name,\n",
    "            \"content\": function_response,\n",
    "        }\n",
    "    )\n",
    "    second_response = client.chat.completions.create(\n",
    "        model=\"gpt-4o-mini\",\n",
    "        messages=messages,\n",
    "    )  # get a new response from GPT where it can see the function response\n",
    "\n",
    "    print(second_response.choices[0].message.content)"
   ]
  }
 ],
 "metadata": {
  "kernelspec": {
   "display_name": "Python 3",
   "language": "python",
   "name": "python3"
  },
  "language_info": {
   "codemirror_mode": {
    "name": "ipython",
    "version": 3
   },
   "file_extension": ".py",
   "mimetype": "text/x-python",
   "name": "python",
   "nbconvert_exporter": "python",
   "pygments_lexer": "ipython3",
   "version": "3.10.12"
  }
 },
 "nbformat": 4,
 "nbformat_minor": 5
}
