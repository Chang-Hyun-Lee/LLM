{
 "cells": [
  {
   "cell_type": "code",
   "execution_count": 1,
   "id": "763c3819",
   "metadata": {},
   "outputs": [],
   "source": [
    "import os\n",
    "from dotenv import load_dotenv\n",
    "\n",
    "# .env 파일에서 환경 변수 로드\n",
    "load_dotenv()\n",
    "\n",
    "# 환경 변수 사용\n",
    "api_key = os.getenv(\"API_KEY\")\n",
    "debug_mode = os.getenv(\"DEBUG\")"
   ]
  },
  {
   "cell_type": "code",
   "execution_count": null,
   "id": "02bcefc5",
   "metadata": {},
   "outputs": [
    {
     "name": "stdout",
     "output_type": "stream",
     "text": [
      "* Running on local URL:  http://0.0.0.0:7880\n",
      "* To create a public link, set `share=True` in `launch()`.\n"
     ]
    },
    {
     "data": {
      "text/html": [
       "<div><iframe src=\"http://localhost:7880/\" width=\"100%\" height=\"500\" allow=\"autoplay; camera; microphone; clipboard-read; clipboard-write;\" frameborder=\"0\" allowfullscreen></iframe></div>"
      ],
      "text/plain": [
       "<IPython.core.display.HTML object>"
      ]
     },
     "metadata": {},
     "output_type": "display_data"
    },
    {
     "data": {
      "text/plain": []
     },
     "execution_count": 19,
     "metadata": {},
     "output_type": "execute_result"
    },
    {
     "name": "stdout",
     "output_type": "stream",
     "text": [
      "[{'role': 'user', 'content': 'hello'}, {'role': 'assistant', 'content': 'Hello! How can I assist you today?'}]\n",
      "[{'role': 'user', 'content': 'hello'}, {'role': 'assistant', 'content': 'Hello! How can I assist you today?'}, {'role': 'user', 'content': '너의 취미는?'}, {'role': 'assistant', 'content': '저는 인공지능이라 취미가 없지만, 다양한 주제에 대해 이야기하는 것을 좋아합니다. 당신의 취미는 무엇인가요?'}]\n",
      "[{'role': 'user', 'content': 'hello'}, {'role': 'assistant', 'content': 'Hello! How can I assist you today?'}, {'role': 'user', 'content': '너의 취미는?'}, {'role': 'assistant', 'content': '저는 인공지능이라 취미가 없지만, 다양한 주제에 대해 이야기하는 것을 좋아합니다. 당신의 취미는 무엇인가요?'}, {'role': 'user', 'content': '1+1은 귀요미?'}, {'role': 'assistant', 'content': '\"1+1은 귀요미\"라는 표현은 재미있고 귀여운 방식으로 수학 문제를 다루는 것이죠! 실제로 1+1은 2이지만, 귀여운 표현으로 분위기를 즐겁게 만드는 것도 좋습니다. 다른 질문이나 이야기하고 싶은 주제가 있나요?'}]\n",
      "[{'role': 'user', 'content': 'hello'}, {'role': 'assistant', 'content': 'Hello! How can I assist you today?'}, {'role': 'user', 'content': '너의 취미는?'}, {'role': 'assistant', 'content': '저는 인공지능이라 취미가 없지만, 다양한 주제에 대해 이야기하는 것을 좋아합니다. 당신의 취미는 무엇인가요?'}, {'role': 'user', 'content': '1+1은 귀요미?'}, {'role': 'assistant', 'content': '\"1+1은 귀요미\"라는 표현은 재미있고 귀여운 방식으로 수학 문제를 다루는 것이죠! 실제로 1+1은 2이지만, 귀여운 표현으로 분위기를 즐겁게 만드는 것도 좋습니다. 다른 질문이나 이야기하고 싶은 주제가 있나요?'}, {'role': 'user', 'content': '지금까지 한 대화를 json형태로 만들어줘'}, {'role': 'assistant', 'content': '물론입니다! 지금까지의 대화를 JSON 형식으로 표현하면 다음과 같습니다:\\n\\n```json\\n{\\n  \"conversation\": [\\n    {\\n      \"user\": \"hello\"\\n    },\\n    {\\n      \"assistant\": \"Hello! How can I assist you today?\"\\n    },\\n    {\\n      \"user\": \"너의 취미는?\"\\n    },\\n    {\\n      \"assistant\": \"저는 인공지능이라 취미가 없지만, 다양한 주제에 대해 이야기하는 것을 좋아합니다. 당신의 취미는 무엇인가요?\"\\n    },\\n    {\\n      \"user\": \"1+1은 귀요미?\"\\n    },\\n    {\\n      \"assistant\": \"1+1은 귀요미라는 표현은 재미있고 귀여운 방식으로 수학 문제를 다루는 것이죠! 실제로 1+1은 2이지만, 귀여운 표현으로 분위기를 즐겁게 만드는 것도 좋습니다. 다른 질문이나 이야기하고 싶은 주제가 있나요?\"\\n    }\\n  ]\\n}\\n```\\n\\n이 형식이 도움이 되길 바랍니다! 추가로 궁금한 점이 있으면 말씀해 주세요.'}]\n",
      "[{'role': 'user', 'content': 'hello'}, {'role': 'assistant', 'content': 'Hello! How can I assist you today?'}, {'role': 'user', 'content': '너의 취미는?'}, {'role': 'assistant', 'content': '저는 인공지능이라 취미가 없지만, 다양한 주제에 대해 이야기하는 것을 좋아합니다. 당신의 취미는 무엇인가요?'}, {'role': 'user', 'content': '1+1은 귀요미?'}, {'role': 'assistant', 'content': '\"1+1은 귀요미\"라는 표현은 재미있고 귀여운 방식으로 수학 문제를 다루는 것이죠! 실제로 1+1은 2이지만, 귀여운 표현으로 분위기를 즐겁게 만드는 것도 좋습니다. 다른 질문이나 이야기하고 싶은 주제가 있나요?'}, {'role': 'user', 'content': '지금까지 한 대화를 json형태로 만들어줘'}, {'role': 'assistant', 'content': '물론입니다! 지금까지의 대화를 JSON 형식으로 표현하면 다음과 같습니다:\\n\\n```json\\n{\\n  \"conversation\": [\\n    {\\n      \"user\": \"hello\"\\n    },\\n    {\\n      \"assistant\": \"Hello! How can I assist you today?\"\\n    },\\n    {\\n      \"user\": \"너의 취미는?\"\\n    },\\n    {\\n      \"assistant\": \"저는 인공지능이라 취미가 없지만, 다양한 주제에 대해 이야기하는 것을 좋아합니다. 당신의 취미는 무엇인가요?\"\\n    },\\n    {\\n      \"user\": \"1+1은 귀요미?\"\\n    },\\n    {\\n      \"assistant\": \"1+1은 귀요미라는 표현은 재미있고 귀여운 방식으로 수학 문제를 다루는 것이죠! 실제로 1+1은 2이지만, 귀여운 표현으로 분위기를 즐겁게 만드는 것도 좋습니다. 다른 질문이나 이야기하고 싶은 주제가 있나요?\"\\n    }\\n  ]\\n}\\n```\\n\\n이 형식이 도움이 되길 바랍니다! 추가로 궁금한 점이 있으면 말씀해 주세요.'}, {'role': 'user', 'content': '회사내에서 자료를 주고 그것을 학습시킨 후에 너 처럼 인공지능으로 사용할 수 있는 방법은 무엇이야? 단 OpenAI는 안돼 .왜냐면 정보유출은 안되기 때문이야'}, {'role': 'assistant', 'content': '회사의 내부 자료를 사용하여 인공지능 모델을 학습시키고 활용하는 방법에는 여러 가지가 있습니다. OpenAI의 모델을 사용하지 않고도 다양한 접근 방식을 취할 수 있습니다. 다음은 몇 가지 방법입니다:\\n\\n1. **자체 모델 구축**:\\n   - **프레임워크 선택**: TensorFlow, PyTorch와 같은 딥러닝 프레임워크를 선택하여 자체 모델을 구축할 수 있습니다.\\n   - **데이터 준비**: 회사의 데이터를 정제하고 전처리하여 모델 학습에 적합한 형식으로 변환합니다.\\n   - **모델 설계**: 특정 용도에 맞는 모델 아키텍처를 설계합니다. 예를 들어 자연어 처리(NLP) 작업을 위해 LSTM, Transformer 등의 아키텍처를 사용할 수 있습니다.\\n   - **학습**: 준비된 데이터를 사용하여 모델을 학습시킵니다.\\n\\n2. **사전 학습된 모델 활용**:\\n   - Hugging Face의 Transformers 라이브러리와 같은 플랫폼을 사용하여 사전 학습된 모델을 가져오고, 회사의 특정 데이터에 맞게 Fine-tuning을 수행할 수 있습니다.\\n  '}]\n"
     ]
    }
   ],
   "source": [
    "import os\n",
    "import openai\n",
    "\n",
    "import gradio as gr\n",
    "openai.api_key = os.getenv(\"OPENAI_API_KEY\")\n",
    "\n",
    "conversation_history = []\n",
    "\n",
    "def greet(input_string):\n",
    "    conversation_history.append({\"role\": \"user\", \"content\": input_string})\n",
    "\n",
    "    response = openai.chat.completions.create(\n",
    "    model=\"gpt-4o-mini\",\n",
    "    messages=conversation_history,\n",
    "    temperature=0.5,\n",
    "    max_tokens=256,\n",
    "    top_p=1,\n",
    "    frequency_penalty=0,\n",
    "    presence_penalty=0\n",
    "    )\n",
    "\n",
    "    response_text = response.choices[0].message.content\n",
    "    conversation_history.append({\"role\": \"assistant\", \"content\": response_text})\n",
    "    print(conversation_history)\n",
    "    return response_text\n",
    "\n",
    "demo = gr.Interface(\n",
    "    fn=greet,\n",
    "    inputs=gr.Textbox(lines=2, placeholder=\"여기에 대화를 해봐요\"), # TextBox의 속성을 변경\n",
    "    outputs=\"text\",\n",
    ") \n",
    "\n",
    "demo.launch(server_name='0.0.0.0') \n"
   ]
  }
 ],
 "metadata": {
  "kernelspec": {
   "display_name": "Python 3",
   "language": "python",
   "name": "python3"
  },
  "language_info": {
   "codemirror_mode": {
    "name": "ipython",
    "version": 3
   },
   "file_extension": ".py",
   "mimetype": "text/x-python",
   "name": "python",
   "nbconvert_exporter": "python",
   "pygments_lexer": "ipython3",
   "version": "3.10.12"
  }
 },
 "nbformat": 4,
 "nbformat_minor": 5
}
