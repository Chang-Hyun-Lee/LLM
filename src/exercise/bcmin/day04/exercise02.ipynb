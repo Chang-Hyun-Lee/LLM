{
 "cells": [
  {
   "cell_type": "code",
   "execution_count": 34,
   "id": "07632cf8",
   "metadata": {},
   "outputs": [
    {
     "name": "stdout",
     "output_type": "stream",
     "text": [
      "\n",
      "\n",
      "\u001b[1m> Entering new AgentExecutor chain...\u001b[0m\n",
      "\u001b[32;1m\u001b[1;3m I should use the Analyze Stock tool to get the stock analysis for the given dates and company.\n",
      "Action: Analyze Stock\n",
      "Action Input: 20250701, 20250720, 005930\u001b[0m\n",
      "Observation: \u001b[36;1m\u001b[1;3m                    기관합계         기타법인            개인         외국인합계  전체\n",
      "날짜                                                                   \n",
      "2025-07-01   68222870950    278720750  -76881895000    8380303300   0\n",
      "2025-07-02   55918248050  -2362958450  -32453696450  -21101593150   0\n",
      "2025-07-03  256353879600  26985367750 -847294261000  563955013650   0\n",
      "2025-07-04  -52373841300  15699537000   48413227600  -11738923300   0\n",
      "2025-07-07  -62868264850  -8372447850  246886141550 -175645428850   0\u001b[0m\n",
      "Thought:\u001b[32;1m\u001b[1;3m I now know the final answer.\n",
      "Final Answer: 주가 분석 결과, 2025년 7월 1일부터 7월 20일까지 삼성전자의 주가는 외국인의 매수가 가장 많았으며, 기관과 개인의 매도가 가장 많았습니다.\u001b[0m\n",
      "\n",
      "\u001b[1m> Finished chain.\u001b[0m\n",
      "주가 분석 결과, 2025년 7월 1일부터 7월 20일까지 삼성전자의 주가는 외국인의 매수가 가장 많았으며, 기관과 개인의 매도가 가장 많았습니다.\n"
     ]
    }
   ],
   "source": [
    "import openai\n",
    "from pykrx import stock\n",
    "from langchain.agents import initialize_agent, Tool\n",
    "from langchain.llms import OpenAI\n",
    "from langchain.prompts import PromptTemplate\n",
    "import os\n",
    "\n",
    "openai.api_key = os.getenv(\"OPENAI_API_KEY\")\n",
    "\n",
    "# def get_stock(start_date=\"20250701\", end_date=\"20250720\", company_code=\"005930\"):\n",
    "#     df = stock.get_market_trading_value_by_date(start_date, end_date, company_code)\n",
    "#     return df.head().to_string()\n",
    "def get_stock(start_date, end_date, company_code):\n",
    "    \n",
    "    start_date = start_date.strip()\n",
    "    end_date = end_date.strip()\n",
    "    company_code = company_code.strip()\n",
    "    stock_name = stock.get_market_ticker_name(company_code)\n",
    "    # print(f\"Analyzing stock: {stock_name} ({company_code}) from {start_date} to {end_date}\")\n",
    "    \n",
    "    df = stock.get_market_trading_value_by_date(start_date, end_date, company_code)\n",
    "    # print(df)\n",
    "    return df.head().to_string()\n",
    "\n",
    "analyze_stock = Tool(\n",
    "    name=\"Analyze Stock\",\n",
    "    func=lambda query: get_stock(*query.split(\",\")),\n",
    "    # func=lambda query: get_stock(query),\n",
    "    description=\"stock analyze\"\n",
    ")\n",
    "\n",
    "llm = OpenAI(temperature=0, streaming=True)\n",
    "\n",
    "\n",
    "tools = [analyze_stock]\n",
    "query =  \"20250701, 20250720, 005930\"\n",
    "\n",
    "agent = initialize_agent(tools, llm, agent=\"zero-shot-react-description\", verbose=True)\n",
    "\n",
    "prompt = f\"{query} 에 대한 주가를 한국어로 분석해줘.\"\n",
    "response = agent.run(prompt)\n",
    "\n",
    "print(response)"
   ]
  },
  {
   "cell_type": "code",
   "execution_count": null,
   "id": "a588cec8",
   "metadata": {},
   "outputs": [],
   "source": []
  }
 ],
 "metadata": {
  "kernelspec": {
   "display_name": "Python 3",
   "language": "python",
   "name": "python3"
  },
  "language_info": {
   "codemirror_mode": {
    "name": "ipython",
    "version": 3
   },
   "file_extension": ".py",
   "mimetype": "text/x-python",
   "name": "python",
   "nbconvert_exporter": "python",
   "pygments_lexer": "ipython3",
   "version": "3.10.12"
  }
 },
 "nbformat": 4,
 "nbformat_minor": 5
}
