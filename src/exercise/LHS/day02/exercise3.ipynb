{
 "cells": [
  {
   "cell_type": "code",
   "execution_count": null,
   "id": "863b95d2",
   "metadata": {},
   "outputs": [
    {
     "name": "stderr",
     "output_type": "stream",
     "text": [
      "/tmp/ipykernel_72164/156672551.py:35: UserWarning: You have not specified a value for the `type` parameter. Defaulting to the 'tuples' format for chatbot messages, but this is deprecated and will be removed in a future version of Gradio. Please set type='messages' instead, which uses openai-style dictionaries with 'role' and 'content' keys.\n",
      "  chatbot=gr.Chatbot(),\n"
     ]
    },
    {
     "ename": "TypeError",
     "evalue": "ChatInterface.__init__() got an unexpected keyword argument 'stream'",
     "output_type": "error",
     "traceback": [
      "\u001b[0;31m---------------------------------------------------------------------------\u001b[0m",
      "\u001b[0;31mTypeError\u001b[0m                                 Traceback (most recent call last)",
      "Cell \u001b[0;32mIn[8], line 33\u001b[0m\n\u001b[1;32m     30\u001b[0m             partial \u001b[38;5;241m+\u001b[39m\u001b[38;5;241m=\u001b[39m delta\u001b[38;5;241m.\u001b[39mcontent\n\u001b[1;32m     31\u001b[0m             \u001b[38;5;28;01myield\u001b[39;00m partial  \u001b[38;5;66;03m# Gradio에 현재까지의 응답 전달\u001b[39;00m\n\u001b[0;32m---> 33\u001b[0m chat_interface \u001b[38;5;241m=\u001b[39m \u001b[43mgr\u001b[49m\u001b[38;5;241;43m.\u001b[39;49m\u001b[43mChatInterface\u001b[49m\u001b[43m(\u001b[49m\n\u001b[1;32m     34\u001b[0m \u001b[43m    \u001b[49m\u001b[43mfn\u001b[49m\u001b[38;5;241;43m=\u001b[39;49m\u001b[43mchatgpt_stream\u001b[49m\u001b[43m,\u001b[49m\n\u001b[1;32m     35\u001b[0m \u001b[43m    \u001b[49m\u001b[43mchatbot\u001b[49m\u001b[38;5;241;43m=\u001b[39;49m\u001b[43mgr\u001b[49m\u001b[38;5;241;43m.\u001b[39;49m\u001b[43mChatbot\u001b[49m\u001b[43m(\u001b[49m\u001b[43m)\u001b[49m\u001b[43m,\u001b[49m\n\u001b[1;32m     36\u001b[0m \u001b[43m    \u001b[49m\u001b[43mtitle\u001b[49m\u001b[38;5;241;43m=\u001b[39;49m\u001b[38;5;124;43m\"\u001b[39;49m\u001b[38;5;124;43mChatGPT 스트리밍 챗봇\u001b[39;49m\u001b[38;5;124;43m\"\u001b[39;49m\u001b[43m,\u001b[49m\n\u001b[1;32m     37\u001b[0m \u001b[43m    \u001b[49m\u001b[43mtheme\u001b[49m\u001b[38;5;241;43m=\u001b[39;49m\u001b[38;5;124;43m\"\u001b[39;49m\u001b[38;5;124;43msoft\u001b[39;49m\u001b[38;5;124;43m\"\u001b[39;49m\u001b[43m,\u001b[49m\n\u001b[1;32m     38\u001b[0m \u001b[43m    \u001b[49m\u001b[43mexamples\u001b[49m\u001b[38;5;241;43m=\u001b[39;49m\u001b[43m[\u001b[49m\u001b[38;5;124;43m\"\u001b[39;49m\u001b[38;5;124;43m안녕!\u001b[39;49m\u001b[38;5;124;43m\"\u001b[39;49m\u001b[43m,\u001b[49m\u001b[43m \u001b[49m\u001b[38;5;124;43m\"\u001b[39;49m\u001b[38;5;124;43m수영장이 있는 캠핑장 추천해줘\u001b[39;49m\u001b[38;5;124;43m\"\u001b[39;49m\u001b[43m,\u001b[49m\u001b[43m \u001b[49m\u001b[38;5;124;43m\"\u001b[39;49m\u001b[38;5;124;43m오늘 날씨 어때?\u001b[39;49m\u001b[38;5;124;43m\"\u001b[39;49m\u001b[43m]\u001b[49m\u001b[43m,\u001b[49m\n\u001b[1;32m     39\u001b[0m \u001b[43m    \u001b[49m\u001b[43mstream\u001b[49m\u001b[38;5;241;43m=\u001b[39;49m\u001b[38;5;28;43;01mTrue\u001b[39;49;00m\u001b[43m,\u001b[49m\n\u001b[1;32m     40\u001b[0m \u001b[43m    \u001b[49m\u001b[38;5;66;43;03m#retry_btn=\"다시 요청\",\u001b[39;49;00m\n\u001b[1;32m     41\u001b[0m \u001b[43m    \u001b[49m\u001b[38;5;66;43;03m#undo_btn=\"입력 취소\",\u001b[39;49;00m\n\u001b[1;32m     42\u001b[0m \u001b[43m    \u001b[49m\u001b[38;5;66;43;03m#clear_btn=\"초기화\",\u001b[39;49;00m\n\u001b[1;32m     43\u001b[0m \u001b[43m)\u001b[49m\n\u001b[1;32m     45\u001b[0m chat_interface\u001b[38;5;241m.\u001b[39mlaunch()\n",
      "\u001b[0;31mTypeError\u001b[0m: ChatInterface.__init__() got an unexpected keyword argument 'stream'"
     ]
    }
   ],
   "source": [
    "import openai\n",
    "import gradio as gr\n",
    "import os\n",
    "\n",
    "# 환경변수 또는 직접 입력\n",
    "openai.api_key = os.getenv(\"OPENAI_API_KEY\")\n",
    "\n",
    "# GPT와 스트리밍 대화 함수\n",
    "def chatgpt_stream(user_input, history):\n",
    "    history_openai = [\n",
    "        {\"role\": \"system\", \"content\": \"당신은 유용하고 친절한 AI 비서입니다.\"}\n",
    "    ]\n",
    "    for user, bot in history:\n",
    "        history_openai.append({\"role\": \"user\", \"content\": user})\n",
    "        history_openai.append({\"role\": \"assistant\", \"content\": bot})\n",
    "\n",
    "    history_openai.append({\"role\": \"user\", \"content\": user_input})\n",
    "\n",
    "    # 스트리밍 시작\n",
    "    response = openai.chat.completions.create(\n",
    "        model=\"gpt-3.5-turbo\",  # 또는 gpt-3.5-turbo\n",
    "        messages=history_openai,\n",
    "        stream=True,\n",
    "    )\n",
    "\n",
    "    partial = \"\"\n",
    "    for chunk in response:\n",
    "        delta = chunk.choices[0].delta\n",
    "        if \"content\" in delta:\n",
    "            partial += delta.content\n",
    "            yield partial  # Gradio에 현재까지의 응답 전달\n",
    "\n",
    "chat_interface = gr.ChatInterface(\n",
    "    fn=chatgpt_stream,\n",
    "    chatbot=gr.Chatbot(),\n",
    "    title=\"ChatGPT 스트리밍 챗봇\",\n",
    "    theme=\"soft\",\n",
    "    examples=[\"안녕!\", \"수영장이 있는 캠핑장 추천해줘\", \"오늘 날씨 어때?\"],\n",
    "    #retry_btn=\"다시 요청\",\n",
    "    #undo_btn=\"입력 취소\",\n",
    "    #clear_btn=\"초기화\",\n",
    ")\n",
    "\n",
    "chat_interface.launch()\n"
   ]
  }
 ],
 "metadata": {
  "kernelspec": {
   "display_name": "Python 3",
   "language": "python",
   "name": "python3"
  },
  "language_info": {
   "codemirror_mode": {
    "name": "ipython",
    "version": 3
   },
   "file_extension": ".py",
   "mimetype": "text/x-python",
   "name": "python",
   "nbconvert_exporter": "python",
   "pygments_lexer": "ipython3",
   "version": "3.10.12"
  }
 },
 "nbformat": 4,
 "nbformat_minor": 5
}
