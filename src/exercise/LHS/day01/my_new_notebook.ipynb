{
 "cells": [
  {
   "cell_type": "code",
   "execution_count": 12,
   "id": "841ac938",
   "metadata": {},
   "outputs": [
    {
     "name": "stdout",
     "output_type": "stream",
     "text": [
      "Hello World\n"
     ]
    }
   ],
   "source": [
    "print(\"Hello World\")"
   ]
  },
  {
   "cell_type": "code",
   "execution_count": null,
   "id": "c36ec74b",
   "metadata": {},
   "outputs": [
    {
     "name": "stdout",
     "output_type": "stream",
     "text": [
      "주가 데이터를 분석해보겠습니다. 주어진 데이터는 시가, 고가, 저가, 종가, 거래량, 등락률로 구성되어 있습니다. 각 항목에 대해 간단히 설명하고, 전체적인 추세를 분석하겠습니다.\n",
      "\n",
      "### 데이터 요약\n",
      "1. **시가 (Opening Price)**: 주식이 거래를 시작할 때의 가격.\n",
      "2. **고가 (Highest Price)**: 해당 기간 동안의 최고 가격.\n",
      "3. **저가 (Lowest Price)**: 해당 기간 동안의 최저 가격.\n",
      "4. **종가 (Closing Price)**: 주식이 거래를 마감할 때의 가격.\n",
      "5. **거래량 (Volume)**: 해당 기간 동안 거래된 주식의 수.\n",
      "6. **등락률 (Change Rate)**: 전일 대비 가격 변화 비율.\n",
      "\n",
      "### 데이터 분석\n",
      "1. **가격 추세**:\n",
      "   - 첫 번째 거래일의 종가는 62,500원이었고, 마지막 거래일의 종가는 67,100원으로, 전체적으로 상승세를 보였습니다.\n",
      "   - 종가는 62,500원에서 시작하여 67,100원으로 증가하였으며, 이는 약 7.5%의 상승을 의미합니다.\n",
      "\n",
      "2. **거래량**:\n",
      "   - 거래량은 첫 번째 거래일 13,563,800주에서 시작하여 마지막 거래일 23,951,500주로 증가했습니다. 이는 투자자들의 관심이 증가하고 있음을 나타냅니다.\n",
      "\n",
      "3. **등락률**:\n",
      "   - 등락률은 첫 번째 거래일에 -0.16%로 시작하여, 두 번째 거래일에 1.92%, 세 번째 거래일에 1.57%, 네 번째 거래일에 3.09%, 마지막 거래일에 0.60%로 변동했습니다. \n",
      "   - 특히 네 번째 거래일의 등락률이 가장 높았으며, 이는 주가가 급등했음을 나타냅니다.\n",
      "\n",
      "### 결론\n",
      "- 전체적으로 주가는 상승세를 보였으며, 거래량도 증가하여 시장의 관심이 높아지고 있음을 알 수 있습니다.\n",
      "- 등락률의 변동이 크기 때문에, 향후 주가의 변동성을 주의 깊게 살펴볼 필요가 있습니다.\n",
      "- 이러한 데이터는 투자 결정을 내리는 데 유용할 수 있으며, 추가적인 기술적 분석이나 시장 뉴스와 결합하여 더 깊이 있는 분석을 할 수 있습니다.\n"
     ]
    }
   ],
   "source": [
    "import os\n",
    "import openai\n",
    "from pykrx import stock\n",
    "from pykrx import bond\n",
    "import pandas as pd\n",
    "\n",
    "openai.api_key = os.getenv(\"OPENAI_API_KEY\")\n",
    "\n",
    "ticker = '005930'\n",
    "date_s = \"20250714\"\n",
    "date_e = \"20250718\"\n",
    "\n",
    "df1 = stock.get_market_ohlcv(date_s, date_e, ticker)\n",
    "df2 = stock.get_market_fundamental(date_s, date_e, ticker)\n",
    "df3 = stock.get_market_trading_value_by_date(date_s, date_e, \"005930\")\n",
    "# print(df1.head())\n",
    "# print(df2.head())\n",
    "# print(df3.head())\n",
    "table_str1 = df1.to_markdown(index=False)\n",
    "table_str2 = df2.to_markdown(index=False)\n",
    "table_str3 = df3.to_markdown(index=False)\n",
    "\n",
    "response = openai.chat.completions.create(\n",
    "    model = \"gpt-4o-mini\",\n",
    "    messages=[\n",
    "        {\n",
    "            \"role\": \"system\",\n",
    "            \"content\": \"주가 데이터를 분석해줘\"\n",
    "        },\n",
    "        {\n",
    "            \"role\": \"user\",\n",
    "            \"content\":table_str1\n",
    "        }\n",
    "    ],\n",
    "    temperature=0,\n",
    "    max_tokens=1024,\n",
    "    top_p=1,\n",
    "    frequency_penalty=0,\n",
    "    presence_penalty=0\n",
    ")\n",
    "\n",
    "print(response.choices[0].message.content)"
   ]
  }
 ],
 "metadata": {
  "kernelspec": {
   "display_name": "Python 3",
   "language": "python",
   "name": "python3"
  },
  "language_info": {
   "codemirror_mode": {
    "name": "ipython",
    "version": 3
   },
   "file_extension": ".py",
   "mimetype": "text/x-python",
   "name": "python",
   "nbconvert_exporter": "python",
   "pygments_lexer": "ipython3",
   "version": "3.10.12"
  }
 },
 "nbformat": 4,
 "nbformat_minor": 5
}
