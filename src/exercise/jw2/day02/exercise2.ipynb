{
 "cells": [
  {
   "cell_type": "code",
   "execution_count": null,
   "id": "df3dddf1",
   "metadata": {},
   "outputs": [],
   "source": [
    "# 실습: 삼성전자 주가 데이터를 분석하는 어플리케이션을 function(tool)으로 수정하여, 다른 종목의 데이터를 정해진 내용대로 가져와서 답하는 어플리케이션을 작성하시오."
   ]
  },
  {
   "cell_type": "code",
   "execution_count": 1,
   "id": "4aa4addd",
   "metadata": {},
   "outputs": [
    {
     "name": "stdout",
     "output_type": "stream",
     "text": [
      "Defaulting to user installation because normal site-packages is not writeable\n",
      "Requirement already satisfied: pykrx in /home/jw2/.local/lib/python3.10/site-packages (1.0.51)\n",
      "Requirement already satisfied: requests in /home/jw2/.local/lib/python3.10/site-packages (from pykrx) (2.32.4)\n",
      "Requirement already satisfied: deprecated in /home/jw2/.local/lib/python3.10/site-packages (from pykrx) (1.2.18)\n",
      "Requirement already satisfied: numpy in /home/jw2/.local/lib/python3.10/site-packages (from pykrx) (2.2.6)\n",
      "Requirement already satisfied: matplotlib in /home/jw2/.local/lib/python3.10/site-packages (from pykrx) (3.10.3)\n",
      "Requirement already satisfied: datetime in /home/jw2/.local/lib/python3.10/site-packages (from pykrx) (5.5)\n",
      "Requirement already satisfied: multipledispatch in /home/jw2/.local/lib/python3.10/site-packages (from pykrx) (1.0.0)\n",
      "Requirement already satisfied: pandas in /home/jw2/.local/lib/python3.10/site-packages (from pykrx) (2.3.1)\n",
      "Requirement already satisfied: xlrd in /home/jw2/.local/lib/python3.10/site-packages (from pykrx) (2.0.2)\n",
      "Requirement already satisfied: zope.interface in /usr/lib/python3/dist-packages (from datetime->pykrx) (5.4.0)\n",
      "Requirement already satisfied: pytz in /home/jw2/.local/lib/python3.10/site-packages (from datetime->pykrx) (2025.2)\n",
      "Requirement already satisfied: wrapt<2,>=1.10 in /home/jw2/.local/lib/python3.10/site-packages (from deprecated->pykrx) (1.17.2)\n",
      "Requirement already satisfied: kiwisolver>=1.3.1 in /home/jw2/.local/lib/python3.10/site-packages (from matplotlib->pykrx) (1.4.8)\n",
      "Requirement already satisfied: pyparsing>=2.3.1 in /usr/lib/python3/dist-packages (from matplotlib->pykrx) (2.4.7)\n",
      "Requirement already satisfied: packaging>=20.0 in /home/jw2/.local/lib/python3.10/site-packages (from matplotlib->pykrx) (25.0)\n",
      "Requirement already satisfied: python-dateutil>=2.7 in /home/jw2/.local/lib/python3.10/site-packages (from matplotlib->pykrx) (2.9.0.post0)\n",
      "Requirement already satisfied: fonttools>=4.22.0 in /home/jw2/.local/lib/python3.10/site-packages (from matplotlib->pykrx) (4.59.0)\n",
      "Requirement already satisfied: pillow>=8 in /home/jw2/.local/lib/python3.10/site-packages (from matplotlib->pykrx) (11.3.0)\n",
      "Requirement already satisfied: cycler>=0.10 in /home/jw2/.local/lib/python3.10/site-packages (from matplotlib->pykrx) (0.12.1)\n",
      "Requirement already satisfied: contourpy>=1.0.1 in /home/jw2/.local/lib/python3.10/site-packages (from matplotlib->pykrx) (1.3.2)\n",
      "Requirement already satisfied: tzdata>=2022.7 in /home/jw2/.local/lib/python3.10/site-packages (from pandas->pykrx) (2025.2)\n",
      "Requirement already satisfied: certifi>=2017.4.17 in /home/jw2/.local/lib/python3.10/site-packages (from requests->pykrx) (2025.7.14)\n",
      "Requirement already satisfied: charset_normalizer<4,>=2 in /home/jw2/.local/lib/python3.10/site-packages (from requests->pykrx) (3.4.2)\n",
      "Requirement already satisfied: urllib3<3,>=1.21.1 in /usr/lib/python3/dist-packages (from requests->pykrx) (1.26.5)\n",
      "Requirement already satisfied: idna<4,>=2.5 in /usr/lib/python3/dist-packages (from requests->pykrx) (3.3)\n",
      "Requirement already satisfied: six>=1.5 in /usr/lib/python3/dist-packages (from python-dateutil>=2.7->matplotlib->pykrx) (1.16.0)\n"
     ]
    }
   ],
   "source": [
    "! pip install pykrx"
   ]
  },
  {
   "cell_type": "code",
   "execution_count": 2,
   "id": "601b723f",
   "metadata": {},
   "outputs": [
    {
     "name": "stdout",
     "output_type": "stream",
     "text": [
      "['DataFrame', '__builtins__', '__cached__', '__doc__', '__file__', '__loader__', '__name__', '__package__', '__path__', '__spec__', 'datetime', 'deprecated', 'dispatch', 'functools', 'future_api', 'get_business_days', 'get_elw_ticker_list', 'get_elw_ticker_name', 'get_etf_isin', 'get_etf_ohlcv_by_date', 'get_etf_ohlcv_by_ticker', 'get_etf_portfolio_deposit_file', 'get_etf_price_change_by_ticker', 'get_etf_price_deviation', 'get_etf_ticker_list', 'get_etf_ticker_name', 'get_etf_tracking_error', 'get_etf_trading_volume_and_value', 'get_etn_ticker_list', 'get_etn_ticker_name', 'get_etx_ticker_list', 'get_exhaustion_rates_of_foreign_investment', 'get_exhaustion_rates_of_foreign_investment_by_date', 'get_exhaustion_rates_of_foreign_investment_by_ticker', 'get_future_ohlcv', 'get_future_ohlcv_by_ticker', 'get_future_ticker_list', 'get_future_ticker_name', 'get_index_fundamental', 'get_index_fundamental_by_date', 'get_index_fundamental_by_ticker', 'get_index_listing_date', 'get_index_ohlcv', 'get_index_ohlcv_by_date', 'get_index_ohlcv_by_ticker', 'get_index_portfolio_deposit_file', 'get_index_price_change', 'get_index_price_change_by_name', 'get_index_price_change_by_ticker', 'get_index_ticker_list', 'get_index_ticker_name', 'get_market_cap', 'get_market_cap_by_date', 'get_market_cap_by_ticker', 'get_market_fundamental', 'get_market_fundamental_by_date', 'get_market_fundamental_by_ticker', 'get_market_net_purchases_of_equities', 'get_market_net_purchases_of_equities_by_ticker', 'get_market_ohlcv', 'get_market_ohlcv_by_date', 'get_market_ohlcv_by_ticker', 'get_market_price_change', 'get_market_price_change_by_ticker', 'get_market_sector_classifications', 'get_market_ticker_list', 'get_market_ticker_name', 'get_market_trading_value_and_volume_by_ticker', 'get_market_trading_value_by_date', 'get_market_trading_value_by_investor', 'get_market_trading_volume_by_date', 'get_market_trading_volume_by_investor', 'get_nearest_business_day_in_a_week', 'get_previous_business_days', 'get_shorting_balance', 'get_shorting_balance_by_date', 'get_shorting_balance_by_ticker', 'get_shorting_balance_top50', 'get_shorting_investor_value_by_date', 'get_shorting_investor_volume_by_date', 'get_shorting_status_by_date', 'get_shorting_value_by_date', 'get_shorting_value_by_ticker', 'get_shorting_volume_by_date', 'get_shorting_volume_by_ticker', 'get_shorting_volume_top50', 'get_stock_major_changes', 'inspect', 'krx', 'market_valid_check', 'naver', 'overload', 'pd', 're', 'regex_yymmdd', 'resample_ohlcv', 'stock_api', 'yymmdd']\n"
     ]
    }
   ],
   "source": [
    "from pykrx import stock\n",
    "print(dir(stock))"
   ]
  },
  {
   "cell_type": "code",
   "execution_count": 5,
   "id": "2343755a",
   "metadata": {},
   "outputs": [
    {
     "name": "stdout",
     "output_type": "stream",
     "text": [
      "KOSPI 종목 수: 962\n",
      "['095570', '006840', '027410', '282330', '138930']\n"
     ]
    }
   ],
   "source": [
    "# 1. KOSPI 종목 리스트 조회\n",
    "df_kospi = stock.get_market_ticker_list(market=\"KOSPI\")\n",
    "print(\"KOSPI 종목 수:\", len(df_kospi))\n",
    "print(df_kospi[:5])  # 상위 5개 종목 코드"
   ]
  },
  {
   "cell_type": "code",
   "execution_count": 30,
   "id": "7e2cc23d",
   "metadata": {},
   "outputs": [],
   "source": [
    "import os\n",
    "import json\n",
    "from openai import OpenAI\n",
    "\n",
    "client = OpenAI()\n",
    "client.api_key = os.getenv(\"OPENAI_API_KEY\")"
   ]
  },
  {
   "cell_type": "code",
   "execution_count": 40,
   "id": "f1e572a5",
   "metadata": {},
   "outputs": [],
   "source": [
    "def get_stock_analysis(ticker : str, start_date=\"20240101\", end_date=\"20240722\"):\n",
    "    df = stock.get_market_ohlcv_by_date(start_date, end_date, ticker)\n",
    "\n",
    "    closing_prices = df[\"종가\"]\n",
    "    stock_info = {\n",
    "        \"ticker\": ticker,\n",
    "        \"start_date\": start_date,\n",
    "        \"end_date\": end_date,\n",
    "        \"latest_price\": int(closing_prices.iloc[-1]),\n",
    "        \"max_price\": int(closing_prices.max()),\n",
    "        \"min_price\": int(closing_prices.min()),\n",
    "        \"avg_price\": round(closing_prices.mean(), 2),\n",
    "    }\n",
    "\n",
    "    return json.dumps(stock_info, ensure_ascii=False)\n",
    "\n",
    "messages = [{\"role\": \"user\", \"content\": \"에이피알 주가를 2024년 1월부터 7월까지 분석해줘.\"}]\n",
    "functions = [\n",
    "    {\n",
    "        \"name\": \"get_stock_analysis\",\n",
    "        \"description\": \"특정 종목의 주가 데이터를 분석하여 최대, 최소, 평균 종가를 제공합니다.\",\n",
    "        \"parameters\": {\n",
    "            \"type\": \"object\",\n",
    "            \"properties\": {\n",
    "                \"ticker\": {\n",
    "                    \"type\": \"string\",\n",
    "                    \"description\": \"종목 코드. 예: 삼성전자 = 005930\",\n",
    "                },\n",
    "                \"start_date\": {\n",
    "                    \"type\": \"string\",\n",
    "                    \"description\": \"조회 시작일 (YYYYMMDD 형식)\",\n",
    "                },\n",
    "                \"end_date\": {\n",
    "                    \"type\": \"string\",\n",
    "                    \"description\": \"조회 종료일 (YYYYMMDD 형식)\",\n",
    "                },\n",
    "            },\n",
    "            \"required\": [\"ticker\", \"start_date\", \"end_date\"],\n",
    "        },\n",
    "    }\n",
    "]"
   ]
  },
  {
   "cell_type": "code",
   "execution_count": 41,
   "id": "f93e48ce",
   "metadata": {},
   "outputs": [
    {
     "name": "stdout",
     "output_type": "stream",
     "text": [
      "ChatCompletionMessage(content=None, refusal=None, role='assistant', annotations=[], audio=None, function_call=FunctionCall(arguments='{\"ticker\":\"261780\",\"start_date\":\"20240101\",\"end_date\":\"20240731\"}', name='get_stock_analysis'), tool_calls=None)\n"
     ]
    }
   ],
   "source": [
    "response = client.chat.completions.create(\n",
    "    model=\"gpt-4o-mini\",\n",
    "    messages=messages,\n",
    "    functions=functions,\n",
    "    function_call=\"auto\",\n",
    "    )\n",
    "response_message = response.choices[0].message\n",
    "print(response_message)"
   ]
  },
  {
   "cell_type": "code",
   "execution_count": 42,
   "id": "929bfb21",
   "metadata": {},
   "outputs": [
    {
     "name": "stdout",
     "output_type": "stream",
     "text": [
      "에이피알(261780)의 2024년 1월부터 7월까지 주가 분석 결과는 다음과 같습니다.\n",
      "\n",
      "- **최신 주가**: 4,505원\n",
      "- **최고 주가**: 5,710원\n",
      "- **최저 주가**: 4,490원\n",
      "- **평균 주가**: 4,929.97원\n",
      "\n",
      "이 분석은 해당 기간 동안의 주가 변동을 반영하고 있으며, 현재 주가는 지난 최고가에 비해 낮은 상황입니다. 평균 주가 또한 이를 고려할 때 안정적인 흐름을 보이고 있음을 나타냅니다.\n"
     ]
    }
   ],
   "source": [
    "if response_message.function_call is not None:\n",
    "    # Note: the JSON response may not always be valid; be sure to handle errors\n",
    "    available_functions = {\n",
    "        \"get_stock_analysis\": get_stock_analysis,\n",
    "    }\n",
    "    function_name = response_message.function_call.name\n",
    "    function_to_call = available_functions[function_name]\n",
    "    function_args = json.loads(response_message.function_call.arguments)\n",
    "    function_response = function_to_call(\n",
    "        ticker=function_args['ticker'],\n",
    "        start_date=function_args['start_date'],\n",
    "        end_date=function_args['end_date']\n",
    "    )\n",
    "\n",
    "    messages.append(response_message)\n",
    "    messages.append(\n",
    "        {\n",
    "            \"role\": \"function\",\n",
    "            \"name\": function_name,\n",
    "            \"content\": function_response,\n",
    "        }\n",
    "    )\n",
    "    second_response = client.chat.completions.create(\n",
    "        model=\"gpt-4o-mini\",\n",
    "        messages=messages,\n",
    "    )  # get a new response from GPT where it can see the function response\n",
    "\n",
    "    print(second_response.choices[0].message.content)"
   ]
  }
 ],
 "metadata": {
  "kernelspec": {
   "display_name": "Python 3",
   "language": "python",
   "name": "python3"
  },
  "language_info": {
   "codemirror_mode": {
    "name": "ipython",
    "version": 3
   },
   "file_extension": ".py",
   "mimetype": "text/x-python",
   "name": "python",
   "nbconvert_exporter": "python",
   "pygments_lexer": "ipython3",
   "version": "3.10.12"
  }
 },
 "nbformat": 4,
 "nbformat_minor": 5
}
