{
 "cells": [
  {
   "cell_type": "code",
   "execution_count": 7,
   "metadata": {},
   "outputs": [],
   "source": [
    "# !pip install pydantic==2.7.1\n",
    "# !pip install pydantic_core==2.18.2"
   ]
  },
  {
   "cell_type": "code",
   "execution_count": 8,
   "metadata": {},
   "outputs": [],
   "source": [
    "# !pip install -U llama-index"
   ]
  },
  {
   "cell_type": "code",
   "execution_count": 9,
   "metadata": {},
   "outputs": [],
   "source": [
    "# !pip install docx2txt"
   ]
  },
  {
   "cell_type": "code",
   "execution_count": 10,
   "metadata": {},
   "outputs": [],
   "source": [
    "from llama_index.core import VectorStoreIndex, SimpleDirectoryReader\n",
    "\n",
    "documents = SimpleDirectoryReader(\"data\").load_data()\n",
    "index = VectorStoreIndex.from_documents(documents)"
   ]
  },
  {
   "cell_type": "code",
   "execution_count": 11,
   "metadata": {},
   "outputs": [
    {
     "name": "stdout",
     "output_type": "stream",
     "text": [
      "개울가에서 처음 만났다.\n"
     ]
    }
   ],
   "source": [
    "query_engine = index.as_query_engine()\n",
    "response = query_engine.query(\"소년과 소녀는 어디에서 처음 만났나? 한국어로 대답해줘.\")\n",
    "print(response)"
   ]
  },
  {
   "cell_type": "code",
   "execution_count": 12,
   "metadata": {},
   "outputs": [
    {
     "name": "stdout",
     "output_type": "stream",
     "text": [
      "근육이 커지려면 꾸준한 운동과 올바른 식이요법이 필요합니다. 근육을 키우기 위해서는 저항 운동을 통해 근육을 자극하고 성장시키는 것이 중요합니다. 또한 단백질 섭취를 증가시키고 충분한 수면을 취하는 것도 근육을 키우는데 도움이 됩니다. 또한 적절한 휴식과 회복을 취하는 것도 중요합니다. 꾸준한 노력과 신경쓰기를 통해 근육을 키울 수 있습니다.\n"
     ]
    }
   ],
   "source": [
    "from llama_index.llms.openai import OpenAI\n",
    "\n",
    "response = OpenAI().complete(\"근육이 커지려면\")\n",
    "print(response)"
   ]
  },
  {
   "cell_type": "code",
   "execution_count": 13,
   "metadata": {},
   "outputs": [],
   "source": [
    "from llama_index.llms.openai import OpenAI\n",
    "from llama_index.core import Settings\n",
    "from llama_index.core import VectorStoreIndex, SimpleDirectoryReader\n",
    "\n",
    "Settings.llm = OpenAI(temperature=0.2, model=\"gpt-4o-mini\")\n",
    "\n",
    "documents = SimpleDirectoryReader(\"data\").load_data()\n",
    "index = VectorStoreIndex.from_documents(\n",
    "    documents,\n",
    ")"
   ]
  },
  {
   "cell_type": "code",
   "execution_count": 14,
   "metadata": {},
   "outputs": [
    {
     "name": "stdout",
     "output_type": "stream",
     "text": [
      "소녀는 윤 초시의 증손녀입니다.\n"
     ]
    }
   ],
   "source": [
    "query_engine = index.as_query_engine()\n",
    "response = query_engine.query(\"소녀와 윤초시는 어떤 관계인가? 한국어로 대답해줘.\")\n",
    "print(response)"
   ]
  },
  {
   "cell_type": "code",
   "execution_count": 15,
   "metadata": {},
   "outputs": [
    {
     "name": "stdout",
     "output_type": "stream",
     "text": [
      "소년은 소녀에게 덕쇠 할아버지네 호두를 맛보여 주려고 했습니다.\n"
     ]
    }
   ],
   "source": [
    "query_engine = index.as_query_engine()\n",
    "response = query_engine.query(\"소년은 소녀에게 무엇을 주려고 했나? 한국어로 대답해줘.\")\n",
    "print(response)"
   ]
  },
  {
   "cell_type": "code",
   "execution_count": 16,
   "metadata": {},
   "outputs": [],
   "source": [
    "import logging\n",
    "import sys\n",
    "\n",
    "logging.basicConfig(stream=sys.stdout, level=logging.DEBUG) # logging.INFO\n",
    "logging.getLogger().addHandler(logging.StreamHandler(stream=sys.stdout))"
   ]
  },
  {
   "cell_type": "code",
   "execution_count": 17,
   "metadata": {},
   "outputs": [
    {
     "name": "stdout",
     "output_type": "stream",
     "text": [
      "DEBUG:openai._base_client:Request options: {'method': 'post', 'url': '/embeddings', 'files': None, 'idempotency_key': 'stainless-python-retry-ca6e8fb9-fa19-41e7-a4c0-2343f5a239ea', 'post_parser': <function Embeddings.create.<locals>.parser at 0x7fbb07a649d0>, 'json_data': {'input': ['아카키의 월급은 얼마인가?'], 'model': 'text-embedding-ada-002', 'encoding_format': 'base64'}}\n",
      "Request options: {'method': 'post', 'url': '/embeddings', 'files': None, 'idempotency_key': 'stainless-python-retry-ca6e8fb9-fa19-41e7-a4c0-2343f5a239ea', 'post_parser': <function Embeddings.create.<locals>.parser at 0x7fbb07a649d0>, 'json_data': {'input': ['아카키의 월급은 얼마인가?'], 'model': 'text-embedding-ada-002', 'encoding_format': 'base64'}}\n",
      "DEBUG:openai._base_client:Sending HTTP Request: POST https://api.openai.com/v1/embeddings\n",
      "Sending HTTP Request: POST https://api.openai.com/v1/embeddings\n",
      "DEBUG:httpcore.http11:send_request_headers.started request=<Request [b'POST']>\n",
      "send_request_headers.started request=<Request [b'POST']>\n",
      "DEBUG:httpcore.http11:send_request_headers.complete\n",
      "send_request_headers.complete\n",
      "DEBUG:httpcore.http11:send_request_body.started request=<Request [b'POST']>\n",
      "send_request_body.started request=<Request [b'POST']>\n",
      "DEBUG:httpcore.http11:send_request_body.complete\n",
      "send_request_body.complete\n",
      "DEBUG:httpcore.http11:receive_response_headers.started request=<Request [b'POST']>\n",
      "receive_response_headers.started request=<Request [b'POST']>\n",
      "DEBUG:httpcore.http11:receive_response_headers.complete return_value=(b'HTTP/1.1', 200, b'OK', [(b'Date', b'Wed, 23 Jul 2025 06:48:53 GMT'), (b'Content-Type', b'application/json'), (b'Transfer-Encoding', b'chunked'), (b'Connection', b'keep-alive'), (b'access-control-allow-origin', b'*'), (b'access-control-expose-headers', b'X-Request-ID'), (b'openai-model', b'text-embedding-ada-002-v2'), (b'openai-organization', b'weable-inc'), (b'openai-processing-ms', b'50'), (b'openai-project', b'proj_W8BgdzHlUbC22dU3x8XdXgqH'), (b'openai-version', b'2020-10-01'), (b'strict-transport-security', b'max-age=31536000; includeSubDomains; preload'), (b'via', b'envoy-router-655d94b895-grf25'), (b'x-envoy-upstream-service-time', b'52'), (b'x-ratelimit-limit-requests', b'10000'), (b'x-ratelimit-limit-tokens', b'5000000'), (b'x-ratelimit-remaining-requests', b'9999'), (b'x-ratelimit-remaining-tokens', b'4999991'), (b'x-ratelimit-reset-requests', b'6ms'), (b'x-ratelimit-reset-tokens', b'0s'), (b'x-request-id', b'req_6c682cfa2e8a6718f7736ca30f9b97e4'), (b'cf-cache-status', b'DYNAMIC'), (b'X-Content-Type-Options', b'nosniff'), (b'Server', b'cloudflare'), (b'CF-RAY', b'96393c10e924a7c0-ICN'), (b'Content-Encoding', b'br'), (b'alt-svc', b'h3=\":443\"; ma=86400')])\n",
      "receive_response_headers.complete return_value=(b'HTTP/1.1', 200, b'OK', [(b'Date', b'Wed, 23 Jul 2025 06:48:53 GMT'), (b'Content-Type', b'application/json'), (b'Transfer-Encoding', b'chunked'), (b'Connection', b'keep-alive'), (b'access-control-allow-origin', b'*'), (b'access-control-expose-headers', b'X-Request-ID'), (b'openai-model', b'text-embedding-ada-002-v2'), (b'openai-organization', b'weable-inc'), (b'openai-processing-ms', b'50'), (b'openai-project', b'proj_W8BgdzHlUbC22dU3x8XdXgqH'), (b'openai-version', b'2020-10-01'), (b'strict-transport-security', b'max-age=31536000; includeSubDomains; preload'), (b'via', b'envoy-router-655d94b895-grf25'), (b'x-envoy-upstream-service-time', b'52'), (b'x-ratelimit-limit-requests', b'10000'), (b'x-ratelimit-limit-tokens', b'5000000'), (b'x-ratelimit-remaining-requests', b'9999'), (b'x-ratelimit-remaining-tokens', b'4999991'), (b'x-ratelimit-reset-requests', b'6ms'), (b'x-ratelimit-reset-tokens', b'0s'), (b'x-request-id', b'req_6c682cfa2e8a6718f7736ca30f9b97e4'), (b'cf-cache-status', b'DYNAMIC'), (b'X-Content-Type-Options', b'nosniff'), (b'Server', b'cloudflare'), (b'CF-RAY', b'96393c10e924a7c0-ICN'), (b'Content-Encoding', b'br'), (b'alt-svc', b'h3=\":443\"; ma=86400')])\n",
      "INFO:httpx:HTTP Request: POST https://api.openai.com/v1/embeddings \"HTTP/1.1 200 OK\"\n",
      "HTTP Request: POST https://api.openai.com/v1/embeddings \"HTTP/1.1 200 OK\"\n",
      "DEBUG:httpcore.http11:receive_response_body.started request=<Request [b'POST']>\n",
      "receive_response_body.started request=<Request [b'POST']>\n",
      "DEBUG:httpcore.http11:receive_response_body.complete\n",
      "receive_response_body.complete\n",
      "DEBUG:httpcore.http11:response_closed.started\n",
      "response_closed.started\n",
      "DEBUG:httpcore.http11:response_closed.complete\n",
      "response_closed.complete\n",
      "DEBUG:openai._base_client:HTTP Response: POST https://api.openai.com/v1/embeddings \"200 OK\" Headers({'date': 'Wed, 23 Jul 2025 06:48:53 GMT', 'content-type': 'application/json', 'transfer-encoding': 'chunked', 'connection': 'keep-alive', 'access-control-allow-origin': '*', 'access-control-expose-headers': 'X-Request-ID', 'openai-model': 'text-embedding-ada-002-v2', 'openai-organization': 'weable-inc', 'openai-processing-ms': '50', 'openai-project': 'proj_W8BgdzHlUbC22dU3x8XdXgqH', 'openai-version': '2020-10-01', 'strict-transport-security': 'max-age=31536000; includeSubDomains; preload', 'via': 'envoy-router-655d94b895-grf25', 'x-envoy-upstream-service-time': '52', 'x-ratelimit-limit-requests': '10000', 'x-ratelimit-limit-tokens': '5000000', 'x-ratelimit-remaining-requests': '9999', 'x-ratelimit-remaining-tokens': '4999991', 'x-ratelimit-reset-requests': '6ms', 'x-ratelimit-reset-tokens': '0s', 'x-request-id': 'req_6c682cfa2e8a6718f7736ca30f9b97e4', 'cf-cache-status': 'DYNAMIC', 'x-content-type-options': 'nosniff', 'server': 'cloudflare', 'cf-ray': '96393c10e924a7c0-ICN', 'content-encoding': 'br', 'alt-svc': 'h3=\":443\"; ma=86400'})\n",
      "HTTP Response: POST https://api.openai.com/v1/embeddings \"200 OK\" Headers({'date': 'Wed, 23 Jul 2025 06:48:53 GMT', 'content-type': 'application/json', 'transfer-encoding': 'chunked', 'connection': 'keep-alive', 'access-control-allow-origin': '*', 'access-control-expose-headers': 'X-Request-ID', 'openai-model': 'text-embedding-ada-002-v2', 'openai-organization': 'weable-inc', 'openai-processing-ms': '50', 'openai-project': 'proj_W8BgdzHlUbC22dU3x8XdXgqH', 'openai-version': '2020-10-01', 'strict-transport-security': 'max-age=31536000; includeSubDomains; preload', 'via': 'envoy-router-655d94b895-grf25', 'x-envoy-upstream-service-time': '52', 'x-ratelimit-limit-requests': '10000', 'x-ratelimit-limit-tokens': '5000000', 'x-ratelimit-remaining-requests': '9999', 'x-ratelimit-remaining-tokens': '4999991', 'x-ratelimit-reset-requests': '6ms', 'x-ratelimit-reset-tokens': '0s', 'x-request-id': 'req_6c682cfa2e8a6718f7736ca30f9b97e4', 'cf-cache-status': 'DYNAMIC', 'x-content-type-options': 'nosniff', 'server': 'cloudflare', 'cf-ray': '96393c10e924a7c0-ICN', 'content-encoding': 'br', 'alt-svc': 'h3=\":443\"; ma=86400'})\n",
      "DEBUG:openai._base_client:request_id: req_6c682cfa2e8a6718f7736ca30f9b97e4\n",
      "request_id: req_6c682cfa2e8a6718f7736ca30f9b97e4\n",
      "DEBUG:llama_index.core.indices.utils:> Top 2 nodes:\n",
      "> [Node 49111e58-2013-4edf-95f8-b13ae9501fb4] [Similarity score:             0.776237] 쓸 만큼 다 쓰고 나면 ‘내일은 또 무엇을 정서해야 \n",
      "하나?’ 하고 미리 내일을 상상해 보며 그는 미소 띤 얼굴로 잠자리에 드는 것이었다. 400 루블의 급료로 \n",
      "자신의 운명...\n",
      "> [Node 891d697d-db52-47d8-9e1e-50bc4c1c278e] [Similarity score:             0.776014] 외투니콜라이 고골 \n",
      "7 \n",
      "아주 위대한 고전: 문학 \n",
      " \n",
      "“제가 새 걸로 하나 반드시 해드릴 테니 저만 믿으세요. 최선을 다해 보지요. 유행에 맞게 옷깃을 은도금한 \n",
      "단추로 ...\n",
      "> Top 2 nodes:\n",
      "> [Node 49111e58-2013-4edf-95f8-b13ae9501fb4] [Similarity score:             0.776237] 쓸 만큼 다 쓰고 나면 ‘내일은 또 무엇을 정서해야 \n",
      "하나?’ 하고 미리 내일을 상상해 보며 그는 미소 띤 얼굴로 잠자리에 드는 것이었다. 400 루블의 급료로 \n",
      "자신의 운명...\n",
      "> [Node 891d697d-db52-47d8-9e1e-50bc4c1c278e] [Similarity score:             0.776014] 외투니콜라이 고골 \n",
      "7 \n",
      "아주 위대한 고전: 문학 \n",
      " \n",
      "“제가 새 걸로 하나 반드시 해드릴 테니 저만 믿으세요. 최선을 다해 보지요. 유행에 맞게 옷깃을 은도금한 \n",
      "단추로 ...\n",
      "DEBUG:openai._base_client:Request options: {'method': 'post', 'url': '/chat/completions', 'files': None, 'idempotency_key': 'stainless-python-retry-25e08248-fcfa-4b4a-9d25-d776feb60ebb', 'json_data': {'messages': [{'role': 'system', 'content': \"You are an expert Q&A system that is trusted around the world.\\nAlways answer the query using the provided context information, and not prior knowledge.\\nSome rules to follow:\\n1. Never directly reference the given context in your answer.\\n2. Avoid statements like 'Based on the context, ...' or 'The context information ...' or anything along those lines.\"}, {'role': 'user', 'content': 'Context information is below.\\n---------------------\\npage_label: 3\\nfile_path: /home/ubuntu/work/koshipa-llm-2025-1st/src/exercise/junhee/day03/data/외투-고골.pdf\\n\\n쓸 만큼 다 쓰고 나면 ‘내일은 또 무엇을 정서해야 \\n하나?’ 하고 미리 내일을 상상해 보며 그는 미소 띤 얼굴로 잠자리에 드는 것이었다. 400 루블의 급료로 \\n자신의 운명에 만족하며 살아가던 한 인간의 평화로운 삶은 그렇게 흘러가고 있었고 아마 또 그렇게 \\n순조롭게 말년을 맞이할 수도 있었을 것이다. 9급이든, 3급이든, 7급이든, 또 어떤 공직자이든, 관청 근처에도 \\n안 가본 사람이든 인간이라면 누구에게나 닥치는 삶의 길에 뿌려진 갖가지 큰 불행이 없었다면 말이다. \\n뻬쩨르부르그에서 연봉 400루블 정도의 급료로 생계를 꾸려가는 사람들에게는 강력한 적이 있다. 이 \\n적이란 다름 아닌 북풍이다. 하기야 북풍이 건강에 좋다는 말들도 한다. 하지만 적은 바로 러시아의 \\n북풍이다. 아침 아홉시, 거리가 온통 관청으로 출근하는 사람들로 꽉 메워지는 시각에 코끝을 에리는 \\n바람의 세찬 일격이 부차별적으로 가해지면 불쌍한 관리들은 코를 어디에 감추어야 할지 어찌할 바를 \\n모른다. 높은 직책의 나리들도 혹한에 이마가 아파지고 눈에서 눈물이 찔끔 쏟아지는 이 순간에 가난한 \\n9급 관리들은 항상 속수무책이다. 유일한 해결책은 얇은 외투 자락에 몸을 숨기고 대여섯 개 거리를 \\n가능한 한 재빨리 지나 길에서 꽁꽁 얼어붙은 몸이 녹아 일을 시작할 수 있을 때까지 경비실에서 발을 \\n동동 구르는 것이다. 아까끼 아까끼예비치는 있는 힘을 다해 똑같은 지역을 달려가는데도 얼마 전부터 \\n등과 어깨가 유난히 시린 듯 한 느낌을 받았다. 마침내 그는 외투에 무슨 흠이 생겼을지도 모른다는 \\n생각이 들었다. 집에 와서 외투를 잘 살펴보니 등과 어깨 부분에 두세 군데 구멍이 뚫려 거친 무명이 \\n들여다보였고, 양복지는 거의 속이 비칠 정도였으며, 안감도 낡아 누더기가 되어 있었다.\\n\\npage_label: 7\\nfile_path: /home/ubuntu/work/koshipa-llm-2025-1st/src/exercise/junhee/day03/data/외투-고골.pdf\\n\\n외투\\uf07c니콜라이 고골 \\n7 \\n아주 위대한 고전: 문학 \\n \\n“제가 새 걸로 하나 반드시 해드릴 테니 저만 믿으세요. 최선을 다해 보지요. 유행에 맞게 옷깃을 은도금한 \\n단추로 채우도록 해드릴 수도 있어요.” \\n이제는 아까끼 아까끼예비치도 새 외투를 맞출 수밖에 없다는 것을 알고 한풀 꺾이고 말았다. 이제 사실 \\n무슨 돈으로 어떻게 외투를 맞춘단 말인가? 물론 일부는 명절 보너스ㅡ를 미리 가불해 쓰는 방법도 생각해 \\n볼 수 있다. 그러나 그 돈도 다 쓸 곳을 따로 정해놓았다. 새 바지도 구해야 하고 헌 장화에 새 가죽을 \\n덧대느라 구두 수선공에게 빚진 것도 갚아야했다. 셔츠 세 벌과, 이런 데서 말하긴 민망하지만, 속옷도 두 \\n벌 여자 재봉사에게 주문해야 했다. 한마디로 여기저기 돈 나갈 곳 투성이였다. 국장이 아주 관대하여 \\n선심으로 40루블이 아니라 45루블이나 50루블을 보너스로 준다 해도, 다 쓰고 나면 남는 돈이라야 외투를 \\n맞추기에는 새 발의 피일 정도로 시시한 푼돈이 될 것이다. 그는 뻬뜨로비치가 변덕이 심한 사람이라 가끔 \\n터무니없는 값을 불러 그의 아내조차도 참다못해 이렇게 소리를 질러대는 것을 알고 있었다. \\n“이런 바보, 정신이 나갔어! 언제는 형편없는 ㅡ 값에 일을 맡더니, 이젠 또 뭔 귀신이 들렸나, 주제넘게 \\n그런 값을 부르고 그래!” \\n물론 뻬뜨로비치가 80루블을 받고도 일을 할 사람이라는 것도 모르는 바는 아니다. 그렇다 해도 그 \\n80루블은 대체 어디서 가져온단 말인가? 절반 정도라면 또 모르지, 그 정도는 어떻게 구해볼 수 있을 것도 \\n같은데, 아니 어쩌면 반 이상도 가능할지 모르지만, 그러면 나머지 반은 어디서? …… 그러니 무엇보다도 \\n먼저 독자들도 잠깐 아까끼 아까끼예비치가 비용의 절반을 대체 어디서 구할 수 있는지 알 필요가 있다.\\n---------------------\\nGiven the context information and not prior knowledge, answer the query.\\nQuery: 아카키의 월급은 얼마인가?\\nAnswer: '}], 'model': 'gpt-4o-mini', 'stream': False, 'temperature': 0.2}}\n",
      "Request options: {'method': 'post', 'url': '/chat/completions', 'files': None, 'idempotency_key': 'stainless-python-retry-25e08248-fcfa-4b4a-9d25-d776feb60ebb', 'json_data': {'messages': [{'role': 'system', 'content': \"You are an expert Q&A system that is trusted around the world.\\nAlways answer the query using the provided context information, and not prior knowledge.\\nSome rules to follow:\\n1. Never directly reference the given context in your answer.\\n2. Avoid statements like 'Based on the context, ...' or 'The context information ...' or anything along those lines.\"}, {'role': 'user', 'content': 'Context information is below.\\n---------------------\\npage_label: 3\\nfile_path: /home/ubuntu/work/koshipa-llm-2025-1st/src/exercise/junhee/day03/data/외투-고골.pdf\\n\\n쓸 만큼 다 쓰고 나면 ‘내일은 또 무엇을 정서해야 \\n하나?’ 하고 미리 내일을 상상해 보며 그는 미소 띤 얼굴로 잠자리에 드는 것이었다. 400 루블의 급료로 \\n자신의 운명에 만족하며 살아가던 한 인간의 평화로운 삶은 그렇게 흘러가고 있었고 아마 또 그렇게 \\n순조롭게 말년을 맞이할 수도 있었을 것이다. 9급이든, 3급이든, 7급이든, 또 어떤 공직자이든, 관청 근처에도 \\n안 가본 사람이든 인간이라면 누구에게나 닥치는 삶의 길에 뿌려진 갖가지 큰 불행이 없었다면 말이다. \\n뻬쩨르부르그에서 연봉 400루블 정도의 급료로 생계를 꾸려가는 사람들에게는 강력한 적이 있다. 이 \\n적이란 다름 아닌 북풍이다. 하기야 북풍이 건강에 좋다는 말들도 한다. 하지만 적은 바로 러시아의 \\n북풍이다. 아침 아홉시, 거리가 온통 관청으로 출근하는 사람들로 꽉 메워지는 시각에 코끝을 에리는 \\n바람의 세찬 일격이 부차별적으로 가해지면 불쌍한 관리들은 코를 어디에 감추어야 할지 어찌할 바를 \\n모른다. 높은 직책의 나리들도 혹한에 이마가 아파지고 눈에서 눈물이 찔끔 쏟아지는 이 순간에 가난한 \\n9급 관리들은 항상 속수무책이다. 유일한 해결책은 얇은 외투 자락에 몸을 숨기고 대여섯 개 거리를 \\n가능한 한 재빨리 지나 길에서 꽁꽁 얼어붙은 몸이 녹아 일을 시작할 수 있을 때까지 경비실에서 발을 \\n동동 구르는 것이다. 아까끼 아까끼예비치는 있는 힘을 다해 똑같은 지역을 달려가는데도 얼마 전부터 \\n등과 어깨가 유난히 시린 듯 한 느낌을 받았다. 마침내 그는 외투에 무슨 흠이 생겼을지도 모른다는 \\n생각이 들었다. 집에 와서 외투를 잘 살펴보니 등과 어깨 부분에 두세 군데 구멍이 뚫려 거친 무명이 \\n들여다보였고, 양복지는 거의 속이 비칠 정도였으며, 안감도 낡아 누더기가 되어 있었다.\\n\\npage_label: 7\\nfile_path: /home/ubuntu/work/koshipa-llm-2025-1st/src/exercise/junhee/day03/data/외투-고골.pdf\\n\\n외투\\uf07c니콜라이 고골 \\n7 \\n아주 위대한 고전: 문학 \\n \\n“제가 새 걸로 하나 반드시 해드릴 테니 저만 믿으세요. 최선을 다해 보지요. 유행에 맞게 옷깃을 은도금한 \\n단추로 채우도록 해드릴 수도 있어요.” \\n이제는 아까끼 아까끼예비치도 새 외투를 맞출 수밖에 없다는 것을 알고 한풀 꺾이고 말았다. 이제 사실 \\n무슨 돈으로 어떻게 외투를 맞춘단 말인가? 물론 일부는 명절 보너스ㅡ를 미리 가불해 쓰는 방법도 생각해 \\n볼 수 있다. 그러나 그 돈도 다 쓸 곳을 따로 정해놓았다. 새 바지도 구해야 하고 헌 장화에 새 가죽을 \\n덧대느라 구두 수선공에게 빚진 것도 갚아야했다. 셔츠 세 벌과, 이런 데서 말하긴 민망하지만, 속옷도 두 \\n벌 여자 재봉사에게 주문해야 했다. 한마디로 여기저기 돈 나갈 곳 투성이였다. 국장이 아주 관대하여 \\n선심으로 40루블이 아니라 45루블이나 50루블을 보너스로 준다 해도, 다 쓰고 나면 남는 돈이라야 외투를 \\n맞추기에는 새 발의 피일 정도로 시시한 푼돈이 될 것이다. 그는 뻬뜨로비치가 변덕이 심한 사람이라 가끔 \\n터무니없는 값을 불러 그의 아내조차도 참다못해 이렇게 소리를 질러대는 것을 알고 있었다. \\n“이런 바보, 정신이 나갔어! 언제는 형편없는 ㅡ 값에 일을 맡더니, 이젠 또 뭔 귀신이 들렸나, 주제넘게 \\n그런 값을 부르고 그래!” \\n물론 뻬뜨로비치가 80루블을 받고도 일을 할 사람이라는 것도 모르는 바는 아니다. 그렇다 해도 그 \\n80루블은 대체 어디서 가져온단 말인가? 절반 정도라면 또 모르지, 그 정도는 어떻게 구해볼 수 있을 것도 \\n같은데, 아니 어쩌면 반 이상도 가능할지 모르지만, 그러면 나머지 반은 어디서? …… 그러니 무엇보다도 \\n먼저 독자들도 잠깐 아까끼 아까끼예비치가 비용의 절반을 대체 어디서 구할 수 있는지 알 필요가 있다.\\n---------------------\\nGiven the context information and not prior knowledge, answer the query.\\nQuery: 아카키의 월급은 얼마인가?\\nAnswer: '}], 'model': 'gpt-4o-mini', 'stream': False, 'temperature': 0.2}}\n",
      "DEBUG:openai._base_client:Sending HTTP Request: POST https://api.openai.com/v1/chat/completions\n",
      "Sending HTTP Request: POST https://api.openai.com/v1/chat/completions\n",
      "DEBUG:httpcore.http11:send_request_headers.started request=<Request [b'POST']>\n",
      "send_request_headers.started request=<Request [b'POST']>\n",
      "DEBUG:httpcore.http11:send_request_headers.complete\n",
      "send_request_headers.complete\n",
      "DEBUG:httpcore.http11:send_request_body.started request=<Request [b'POST']>\n",
      "send_request_body.started request=<Request [b'POST']>\n",
      "DEBUG:httpcore.http11:send_request_body.complete\n",
      "send_request_body.complete\n",
      "DEBUG:httpcore.http11:receive_response_headers.started request=<Request [b'POST']>\n",
      "receive_response_headers.started request=<Request [b'POST']>\n",
      "DEBUG:httpcore.http11:receive_response_headers.complete return_value=(b'HTTP/1.1', 200, b'OK', [(b'Date', b'Wed, 23 Jul 2025 06:48:53 GMT'), (b'Content-Type', b'application/json'), (b'Transfer-Encoding', b'chunked'), (b'Connection', b'keep-alive'), (b'access-control-expose-headers', b'X-Request-ID'), (b'openai-organization', b'weable-inc'), (b'openai-processing-ms', b'482'), (b'openai-project', b'proj_W8BgdzHlUbC22dU3x8XdXgqH'), (b'openai-version', b'2020-10-01'), (b'x-envoy-upstream-service-time', b'486'), (b'x-ratelimit-limit-requests', b'10000'), (b'x-ratelimit-limit-tokens', b'10000000'), (b'x-ratelimit-remaining-requests', b'9999'), (b'x-ratelimit-remaining-tokens', b'9998749'), (b'x-ratelimit-reset-requests', b'6ms'), (b'x-ratelimit-reset-tokens', b'7ms'), (b'x-request-id', b'req_7474b8b1dbf5a07ab8ea1dcdcc324cbe'), (b'strict-transport-security', b'max-age=31536000; includeSubDomains; preload'), (b'cf-cache-status', b'DYNAMIC'), (b'X-Content-Type-Options', b'nosniff'), (b'Server', b'cloudflare'), (b'CF-RAY', b'96393c13ffd1ea1f-ICN'), (b'Content-Encoding', b'br'), (b'alt-svc', b'h3=\":443\"; ma=86400')])\n",
      "receive_response_headers.complete return_value=(b'HTTP/1.1', 200, b'OK', [(b'Date', b'Wed, 23 Jul 2025 06:48:53 GMT'), (b'Content-Type', b'application/json'), (b'Transfer-Encoding', b'chunked'), (b'Connection', b'keep-alive'), (b'access-control-expose-headers', b'X-Request-ID'), (b'openai-organization', b'weable-inc'), (b'openai-processing-ms', b'482'), (b'openai-project', b'proj_W8BgdzHlUbC22dU3x8XdXgqH'), (b'openai-version', b'2020-10-01'), (b'x-envoy-upstream-service-time', b'486'), (b'x-ratelimit-limit-requests', b'10000'), (b'x-ratelimit-limit-tokens', b'10000000'), (b'x-ratelimit-remaining-requests', b'9999'), (b'x-ratelimit-remaining-tokens', b'9998749'), (b'x-ratelimit-reset-requests', b'6ms'), (b'x-ratelimit-reset-tokens', b'7ms'), (b'x-request-id', b'req_7474b8b1dbf5a07ab8ea1dcdcc324cbe'), (b'strict-transport-security', b'max-age=31536000; includeSubDomains; preload'), (b'cf-cache-status', b'DYNAMIC'), (b'X-Content-Type-Options', b'nosniff'), (b'Server', b'cloudflare'), (b'CF-RAY', b'96393c13ffd1ea1f-ICN'), (b'Content-Encoding', b'br'), (b'alt-svc', b'h3=\":443\"; ma=86400')])\n",
      "INFO:httpx:HTTP Request: POST https://api.openai.com/v1/chat/completions \"HTTP/1.1 200 OK\"\n",
      "HTTP Request: POST https://api.openai.com/v1/chat/completions \"HTTP/1.1 200 OK\"\n",
      "DEBUG:httpcore.http11:receive_response_body.started request=<Request [b'POST']>\n",
      "receive_response_body.started request=<Request [b'POST']>\n",
      "DEBUG:httpcore.http11:receive_response_body.complete\n",
      "receive_response_body.complete\n",
      "DEBUG:httpcore.http11:response_closed.started\n",
      "response_closed.started\n",
      "DEBUG:httpcore.http11:response_closed.complete\n",
      "response_closed.complete\n",
      "DEBUG:openai._base_client:HTTP Response: POST https://api.openai.com/v1/chat/completions \"200 OK\" Headers({'date': 'Wed, 23 Jul 2025 06:48:53 GMT', 'content-type': 'application/json', 'transfer-encoding': 'chunked', 'connection': 'keep-alive', 'access-control-expose-headers': 'X-Request-ID', 'openai-organization': 'weable-inc', 'openai-processing-ms': '482', 'openai-project': 'proj_W8BgdzHlUbC22dU3x8XdXgqH', 'openai-version': '2020-10-01', 'x-envoy-upstream-service-time': '486', 'x-ratelimit-limit-requests': '10000', 'x-ratelimit-limit-tokens': '10000000', 'x-ratelimit-remaining-requests': '9999', 'x-ratelimit-remaining-tokens': '9998749', 'x-ratelimit-reset-requests': '6ms', 'x-ratelimit-reset-tokens': '7ms', 'x-request-id': 'req_7474b8b1dbf5a07ab8ea1dcdcc324cbe', 'strict-transport-security': 'max-age=31536000; includeSubDomains; preload', 'cf-cache-status': 'DYNAMIC', 'x-content-type-options': 'nosniff', 'server': 'cloudflare', 'cf-ray': '96393c13ffd1ea1f-ICN', 'content-encoding': 'br', 'alt-svc': 'h3=\":443\"; ma=86400'})\n",
      "HTTP Response: POST https://api.openai.com/v1/chat/completions \"200 OK\" Headers({'date': 'Wed, 23 Jul 2025 06:48:53 GMT', 'content-type': 'application/json', 'transfer-encoding': 'chunked', 'connection': 'keep-alive', 'access-control-expose-headers': 'X-Request-ID', 'openai-organization': 'weable-inc', 'openai-processing-ms': '482', 'openai-project': 'proj_W8BgdzHlUbC22dU3x8XdXgqH', 'openai-version': '2020-10-01', 'x-envoy-upstream-service-time': '486', 'x-ratelimit-limit-requests': '10000', 'x-ratelimit-limit-tokens': '10000000', 'x-ratelimit-remaining-requests': '9999', 'x-ratelimit-remaining-tokens': '9998749', 'x-ratelimit-reset-requests': '6ms', 'x-ratelimit-reset-tokens': '7ms', 'x-request-id': 'req_7474b8b1dbf5a07ab8ea1dcdcc324cbe', 'strict-transport-security': 'max-age=31536000; includeSubDomains; preload', 'cf-cache-status': 'DYNAMIC', 'x-content-type-options': 'nosniff', 'server': 'cloudflare', 'cf-ray': '96393c13ffd1ea1f-ICN', 'content-encoding': 'br', 'alt-svc': 'h3=\":443\"; ma=86400'})\n",
      "DEBUG:openai._base_client:request_id: req_7474b8b1dbf5a07ab8ea1dcdcc324cbe\n",
      "request_id: req_7474b8b1dbf5a07ab8ea1dcdcc324cbe\n",
      "아카키의 월급은 400 루블입니다.\n"
     ]
    }
   ],
   "source": [
    "query_engine = index.as_query_engine()\n",
    "response = query_engine.query(\"아카키의 월급은 얼마인가?\")\n",
    "print(response)"
   ]
  },
  {
   "cell_type": "code",
   "execution_count": 18,
   "metadata": {},
   "outputs": [],
   "source": [
    "logging.disable(logging.CRITICAL)"
   ]
  },
  {
   "cell_type": "code",
   "execution_count": 19,
   "metadata": {},
   "outputs": [
    {
     "name": "stdout",
     "output_type": "stream",
     "text": [
      "아카키 아카끼예비치의 죽음에 대한 구체적인 이유는 명시되어 있지 않지만, 그의 삶의 고달픔과 외투를 잃은 후 겪은 불행이 그에게 큰 영향을 미쳤음을 알 수 있습니다. 그는 생전에 동료 관리들로부터 조롱을 당하고, 자신의 존재가 아무런 주목도 받지 못하는 외로운 삶을 살았습니다. 외투를 통해 잠시 인생의 소중한 순간을 경험했지만, 그 외투를 잃은 후에는 더욱 심각한 불행이 닥쳤습니다. 결국, 그의 죽음은 이러한 고통과 외로움의 연장선상에서 발생한 것으로 해석될 수 있습니다. 그의 죽음 이후에도 여전히 그의 존재에 대한 이야기가 이어지며, 이는 그가 생전에 받지 못했던 주목을 죽음 이후에야 비로소 받게 되는 아이러니한 상황을 보여줍니다.\n"
     ]
    }
   ],
   "source": [
    "query_engine = index.as_query_engine()\n",
    "response = query_engine.query(\"아카키가 죽은 이유는 무엇인가? 상세하게 한국어로 답하세요.\")\n",
    "print(response)"
   ]
  },
  {
   "cell_type": "code",
   "execution_count": 20,
   "metadata": {},
   "outputs": [
    {
     "name": "stdout",
     "output_type": "stream",
     "text": [
      "아카키의 직업은 정서하는 일, 즉 문서를 작성하는 업무입니다.\n"
     ]
    }
   ],
   "source": [
    "import os.path\n",
    "from llama_index.core import (\n",
    "    VectorStoreIndex,\n",
    "    SimpleDirectoryReader,\n",
    "    StorageContext,\n",
    "    load_index_from_storage,\n",
    ")\n",
    "\n",
    "PERSIST_DIR = \"./storage\"\n",
    "if not os.path.exists(PERSIST_DIR):\n",
    "    documents = SimpleDirectoryReader(\"data\").load_data()\n",
    "    index = VectorStoreIndex.from_documents(documents)\n",
    "    index.storage_context.persist(persist_dir=PERSIST_DIR)\n",
    "else:\n",
    "    storage_context = StorageContext.from_defaults(persist_dir=PERSIST_DIR)\n",
    "    index = load_index_from_storage(storage_context)\n",
    "\n",
    "query_engine = index.as_query_engine()\n",
    "response = query_engine.query(\"아카키의 직업은 무엇인가요? 한국어로 대답하세요.\")\n",
    "print(response)"
   ]
  },
  {
   "cell_type": "code",
   "execution_count": 21,
   "metadata": {},
   "outputs": [],
   "source": [
    "from llama_index.embeddings.openai import OpenAIEmbedding\n",
    "from llama_index.core.node_parser import SentenceSplitter\n",
    "from llama_index.llms.openai import OpenAI\n",
    "from llama_index.core import Settings\n",
    "\n",
    "Settings.llm = OpenAI(model=\"gpt-4o-mini\")\n",
    "Settings.embed_model = OpenAIEmbedding(model=\"text-embedding-3-small\")\n",
    "Settings.node_parser = SentenceSplitter(chunk_size=512, chunk_overlap=20)\n",
    "Settings.num_output = 512\n",
    "Settings.context_window = 3900"
   ]
  },
  {
   "cell_type": "code",
   "execution_count": 22,
   "metadata": {},
   "outputs": [
    {
     "name": "stdout",
     "output_type": "stream",
     "text": [
      "Loading llama_index.core.storage.kvstore.simple_kvstore from ./storage/docstore.json.\n",
      "Loading llama_index.core.storage.kvstore.simple_kvstore from ./storage/index_store.json.\n",
      "아카키의 직업은 관료입니다.\n"
     ]
    }
   ],
   "source": [
    "import os.path\n",
    "from llama_index.core import (\n",
    "    VectorStoreIndex,\n",
    "    SimpleDirectoryReader,\n",
    "    StorageContext,\n",
    "    load_index_from_storage,\n",
    ")\n",
    "\n",
    "PERSIST_DIR = \"./storage\"\n",
    "if not os.path.exists(PERSIST_DIR):\n",
    "    documents = SimpleDirectoryReader(\"data\").load_data()\n",
    "    index = VectorStoreIndex.from_documents(documents, Settings=Settings)\n",
    "    index.storage_context.persist(persist_dir=PERSIST_DIR)\n",
    "else:\n",
    "    storage_context = StorageContext.from_defaults(persist_dir=PERSIST_DIR)\n",
    "    index = load_index_from_storage(storage_context)\n",
    "\n",
    "query_engine = index.as_query_engine()\n",
    "response = query_engine.query(\"아카키의 직업은 무엇인가요? 한국어로 대답하세요.\")\n",
    "print(response)"
   ]
  },
  {
   "cell_type": "code",
   "execution_count": 23,
   "metadata": {},
   "outputs": [
    {
     "name": "stdout",
     "output_type": "stream",
     "text": [
      "Loading llama_index.core.storage.kvstore.simple_kvstore from ./storage/docstore.json.\n",
      "Loading llama_index.core.storage.kvstore.simple_kvstore from ./storage/index_store.json.\n",
      "소년과 소녀가 처음 만난 장소에 대한 정보는 제공된 내용에 포함되어 있지 않습니다.\n"
     ]
    }
   ],
   "source": [
    "# Global settings\n",
    "from llama_index.core import Settings\n",
    "\n",
    "Settings.chunk_size = 512\n",
    "\n",
    "# Local settings\n",
    "from llama_index.core.node_parser import SentenceSplitter\n",
    "\n",
    "PERSIST_DIR = \"./storage\"\n",
    "if not os.path.exists(PERSIST_DIR):\n",
    "    documents = SimpleDirectoryReader(\"data\").load_data()\n",
    "    index = VectorStoreIndex.from_documents(\n",
    "        documents, transformations=[SentenceSplitter(chunk_size=512)]\n",
    "    )\n",
    "    index.storage_context.persist(persist_dir=PERSIST_DIR)\n",
    "else:\n",
    "    storage_context = StorageContext.from_defaults(persist_dir=PERSIST_DIR)\n",
    "    index = load_index_from_storage(storage_context)\n",
    "\n",
    "query_engine = index.as_query_engine()\n",
    "response = query_engine.query(\"소년과 소녀는 어디에서 처음 만났나? 한국어로 대답하세요.\")\n",
    "print(response)"
   ]
  },
  {
   "cell_type": "code",
   "execution_count": 24,
   "metadata": {},
   "outputs": [
    {
     "name": "stdout",
     "output_type": "stream",
     "text": [
      "Defaulting to user installation because normal site-packages is not writeable\n",
      "Collecting chromadb\n",
      "  Downloading chromadb-1.0.15-cp39-abi3-manylinux_2_17_x86_64.manylinux2014_x86_64.whl (19.5 MB)\n",
      "\u001b[2K     \u001b[90m━━━━━━━━━━━━━━━━━━━━━━━━━━━━━━━━━━━━━━━━\u001b[0m \u001b[32m19.5/19.5 MB\u001b[0m \u001b[31m78.7 MB/s\u001b[0m eta \u001b[36m0:00:00\u001b[0m00:01\u001b[0m00:01\u001b[0m\n",
      "\u001b[?25hRequirement already satisfied: attrs in /usr/lib/python3/dist-packages (21.2.0)\n",
      "Collecting attrs\n",
      "  Using cached attrs-25.3.0-py3-none-any.whl (63 kB)\n",
      "Collecting overrides>=7.3.1\n",
      "  Downloading overrides-7.7.0-py3-none-any.whl (17 kB)\n",
      "Collecting pybase64>=1.4.1\n",
      "  Downloading pybase64-1.4.1-cp310-cp310-manylinux_2_5_x86_64.manylinux1_x86_64.manylinux_2_17_x86_64.manylinux2014_x86_64.whl (68 kB)\n",
      "\u001b[2K     \u001b[90m━━━━━━━━━━━━━━━━━━━━━━━━━━━━━━━━━━━━━━━━\u001b[0m \u001b[32m68.7/68.7 KB\u001b[0m \u001b[31m19.2 MB/s\u001b[0m eta \u001b[36m0:00:00\u001b[0m\n",
      "\u001b[?25hRequirement already satisfied: pyyaml>=6.0.0 in /home/ubuntu/.local/lib/python3.10/site-packages (from chromadb) (6.0.2)\n",
      "Requirement already satisfied: uvicorn[standard]>=0.18.3 in /home/ubuntu/.local/lib/python3.10/site-packages (from chromadb) (0.35.0)\n",
      "Requirement already satisfied: pydantic>=1.9 in /home/ubuntu/.local/lib/python3.10/site-packages (from chromadb) (2.11.7)\n",
      "Collecting bcrypt>=4.0.1\n",
      "  Downloading bcrypt-4.3.0-cp39-abi3-manylinux_2_34_x86_64.whl (284 kB)\n",
      "\u001b[2K     \u001b[90m━━━━━━━━━━━━━━━━━━━━━━━━━━━━━━━━━━━━━━\u001b[0m \u001b[32m284.2/284.2 KB\u001b[0m \u001b[31m53.8 MB/s\u001b[0m eta \u001b[36m0:00:00\u001b[0m\n",
      "\u001b[?25hRequirement already satisfied: tenacity>=8.2.3 in /home/ubuntu/.local/lib/python3.10/site-packages (from chromadb) (9.1.2)\n",
      "Collecting onnxruntime>=1.14.1\n",
      "  Downloading onnxruntime-1.22.1-cp310-cp310-manylinux_2_27_x86_64.manylinux_2_28_x86_64.whl (16.5 MB)\n",
      "\u001b[2K     \u001b[90m━━━━━━━━━━━━━━━━━━━━━━━━━━━━━━━━━━━━━━━━\u001b[0m \u001b[32m16.5/16.5 MB\u001b[0m \u001b[31m41.3 MB/s\u001b[0m eta \u001b[36m0:00:00\u001b[0ma \u001b[36m0:00:01\u001b[0m\n",
      "\u001b[?25hRequirement already satisfied: typing-extensions>=4.5.0 in /home/ubuntu/.local/lib/python3.10/site-packages (from chromadb) (4.14.1)\n",
      "Collecting mmh3>=4.0.1\n",
      "  Downloading mmh3-5.1.0-cp310-cp310-manylinux_2_5_x86_64.manylinux1_x86_64.manylinux_2_17_x86_64.manylinux2014_x86_64.whl (99 kB)\n",
      "\u001b[2K     \u001b[90m━━━━━━━━━━━━━━━━━━━━━━━━━━━━━━━━━━━━━━━━\u001b[0m \u001b[32m99.2/99.2 KB\u001b[0m \u001b[31m30.6 MB/s\u001b[0m eta \u001b[36m0:00:00\u001b[0m\n",
      "\u001b[?25hRequirement already satisfied: orjson>=3.9.12 in /home/ubuntu/.local/lib/python3.10/site-packages (from chromadb) (3.11.0)\n",
      "Requirement already satisfied: typer>=0.9.0 in /home/ubuntu/.local/lib/python3.10/site-packages (from chromadb) (0.16.0)\n",
      "Collecting kubernetes>=28.1.0\n",
      "  Downloading kubernetes-33.1.0-py2.py3-none-any.whl (1.9 MB)\n",
      "\u001b[2K     \u001b[90m━━━━━━━━━━━━━━━━━━━━━━━━━━━━━━━━━━━━━━━━\u001b[0m \u001b[32m1.9/1.9 MB\u001b[0m \u001b[31m90.7 MB/s\u001b[0m eta \u001b[36m0:00:00\u001b[0m\n",
      "\u001b[?25hCollecting posthog<6.0.0,>=2.4.0\n",
      "  Downloading posthog-5.4.0-py3-none-any.whl (105 kB)\n",
      "\u001b[2K     \u001b[90m━━━━━━━━━━━━━━━━━━━━━━━━━━━━━━━━━━━━━━\u001b[0m \u001b[32m105.4/105.4 KB\u001b[0m \u001b[31m32.4 MB/s\u001b[0m eta \u001b[36m0:00:00\u001b[0m\n",
      "\u001b[?25hCollecting pypika>=0.48.9\n",
      "  Downloading PyPika-0.48.9.tar.gz (67 kB)\n",
      "\u001b[2K     \u001b[90m━━━━━━━━━━━━━━━━━━━━━━━━━━━━━━━━━━━━━━━━\u001b[0m \u001b[32m67.3/67.3 KB\u001b[0m \u001b[31m18.0 MB/s\u001b[0m eta \u001b[36m0:00:00\u001b[0m\n",
      "\u001b[?25h  Installing build dependencies ... \u001b[?25ldone\n",
      "\u001b[?25h  Getting requirements to build wheel ... \u001b[?25ldone\n",
      "\u001b[?25h  Preparing metadata (pyproject.toml) ... \u001b[?25ldone\n",
      "\u001b[?25hCollecting grpcio>=1.58.0\n",
      "  Downloading grpcio-1.73.1-cp310-cp310-manylinux_2_17_x86_64.manylinux2014_x86_64.whl (6.0 MB)\n",
      "\u001b[2K     \u001b[90m━━━━━━━━━━━━━━━━━━━━━━━━━━━━━━━━━━━━━━━━\u001b[0m \u001b[32m6.0/6.0 MB\u001b[0m \u001b[31m100.7 MB/s\u001b[0m eta \u001b[36m0:00:00\u001b[0ma \u001b[36m0:00:01\u001b[0m\n",
      "\u001b[?25hRequirement already satisfied: httpx>=0.27.0 in /home/ubuntu/.local/lib/python3.10/site-packages (from chromadb) (0.28.1)\n",
      "Collecting opentelemetry-api>=1.2.0\n",
      "  Downloading opentelemetry_api-1.35.0-py3-none-any.whl (65 kB)\n",
      "\u001b[2K     \u001b[90m━━━━━━━━━━━━━━━━━━━━━━━━━━━━━━━━━━━━━━━━\u001b[0m \u001b[32m65.6/65.6 KB\u001b[0m \u001b[31m16.3 MB/s\u001b[0m eta \u001b[36m0:00:00\u001b[0m\n",
      "\u001b[?25hRequirement already satisfied: numpy>=1.22.5 in /home/ubuntu/.local/lib/python3.10/site-packages (from chromadb) (2.2.6)\n",
      "Requirement already satisfied: rich>=10.11.0 in /home/ubuntu/.local/lib/python3.10/site-packages (from chromadb) (14.0.0)\n",
      "Collecting jsonschema>=4.19.0\n",
      "  Downloading jsonschema-4.25.0-py3-none-any.whl (89 kB)\n",
      "\u001b[2K     \u001b[90m━━━━━━━━━━━━━━━━━━━━━━━━━━━━━━━━━━━━━━━━\u001b[0m \u001b[32m89.2/89.2 KB\u001b[0m \u001b[31m24.8 MB/s\u001b[0m eta \u001b[36m0:00:00\u001b[0m\n",
      "\u001b[?25hRequirement already satisfied: tokenizers>=0.13.2 in /home/ubuntu/.local/lib/python3.10/site-packages (from chromadb) (0.21.2)\n",
      "Collecting build>=1.0.3\n",
      "  Downloading build-1.2.2.post1-py3-none-any.whl (22 kB)\n",
      "Collecting opentelemetry-exporter-otlp-proto-grpc>=1.2.0\n",
      "  Downloading opentelemetry_exporter_otlp_proto_grpc-1.35.0-py3-none-any.whl (18 kB)\n",
      "Requirement already satisfied: tqdm>=4.65.0 in /home/ubuntu/.local/lib/python3.10/site-packages (from chromadb) (4.67.1)\n",
      "Collecting opentelemetry-sdk>=1.2.0\n",
      "  Downloading opentelemetry_sdk-1.35.0-py3-none-any.whl (119 kB)\n",
      "\u001b[2K     \u001b[90m━━━━━━━━━━━━━━━━━━━━━━━━━━━━━━━━━━━━━━\u001b[0m \u001b[32m119.4/119.4 KB\u001b[0m \u001b[31m23.4 MB/s\u001b[0m eta \u001b[36m0:00:00\u001b[0m\n",
      "\u001b[?25hCollecting importlib-resources\n",
      "  Downloading importlib_resources-6.5.2-py3-none-any.whl (37 kB)\n",
      "Collecting pyproject_hooks\n",
      "  Downloading pyproject_hooks-1.2.0-py3-none-any.whl (10 kB)\n",
      "Collecting tomli>=1.1.0\n",
      "  Downloading tomli-2.2.1-py3-none-any.whl (14 kB)\n",
      "Requirement already satisfied: packaging>=19.1 in /home/ubuntu/.local/lib/python3.10/site-packages (from build>=1.0.3->chromadb) (25.0)\n",
      "Requirement already satisfied: idna in /usr/lib/python3/dist-packages (from httpx>=0.27.0->chromadb) (3.3)\n",
      "Requirement already satisfied: certifi in /home/ubuntu/.local/lib/python3.10/site-packages (from httpx>=0.27.0->chromadb) (2025.7.14)\n",
      "Requirement already satisfied: httpcore==1.* in /home/ubuntu/.local/lib/python3.10/site-packages (from httpx>=0.27.0->chromadb) (1.0.9)\n",
      "Requirement already satisfied: anyio in /home/ubuntu/.local/lib/python3.10/site-packages (from httpx>=0.27.0->chromadb) (4.9.0)\n",
      "Requirement already satisfied: h11>=0.16 in /home/ubuntu/.local/lib/python3.10/site-packages (from httpcore==1.*->httpx>=0.27.0->chromadb) (0.16.0)\n",
      "Collecting rpds-py>=0.7.1\n",
      "  Downloading rpds_py-0.26.0-cp310-cp310-manylinux_2_17_x86_64.manylinux2014_x86_64.whl (383 kB)\n",
      "\u001b[2K     \u001b[90m━━━━━━━━━━━━━━━━━━━━━━━━━━━━━━━━━━━━━━\u001b[0m \u001b[32m383.8/383.8 KB\u001b[0m \u001b[31m63.4 MB/s\u001b[0m eta \u001b[36m0:00:00\u001b[0m\n",
      "\u001b[?25hCollecting jsonschema-specifications>=2023.03.6\n",
      "  Downloading jsonschema_specifications-2025.4.1-py3-none-any.whl (18 kB)\n",
      "Collecting referencing>=0.28.4\n",
      "  Downloading referencing-0.36.2-py3-none-any.whl (26 kB)\n",
      "Requirement already satisfied: urllib3>=1.24.2 in /usr/lib/python3/dist-packages (from kubernetes>=28.1.0->chromadb) (1.26.5)\n",
      "Collecting google-auth>=1.0.1\n",
      "  Downloading google_auth-2.40.3-py2.py3-none-any.whl (216 kB)\n",
      "\u001b[2K     \u001b[90m━━━━━━━━━━━━━━━━━━━━━━━━━━━━━━━━━━━━━━\u001b[0m \u001b[32m216.1/216.1 KB\u001b[0m \u001b[31m33.5 MB/s\u001b[0m eta \u001b[36m0:00:00\u001b[0m\n",
      "\u001b[?25hRequirement already satisfied: six>=1.9.0 in /usr/lib/python3/dist-packages (from kubernetes>=28.1.0->chromadb) (1.16.0)\n",
      "Collecting requests-oauthlib\n",
      "  Downloading requests_oauthlib-2.0.0-py2.py3-none-any.whl (24 kB)\n",
      "Requirement already satisfied: requests in /home/ubuntu/.local/lib/python3.10/site-packages (from kubernetes>=28.1.0->chromadb) (2.32.4)\n",
      "Collecting oauthlib>=3.2.2\n",
      "  Downloading oauthlib-3.3.1-py3-none-any.whl (160 kB)\n",
      "\u001b[2K     \u001b[90m━━━━━━━━━━━━━━━━━━━━━━━━━━━━━━━━━━━━━━\u001b[0m \u001b[32m160.1/160.1 KB\u001b[0m \u001b[31m47.6 MB/s\u001b[0m eta \u001b[36m0:00:00\u001b[0m\n",
      "\u001b[?25hCollecting websocket-client!=0.40.0,!=0.41.*,!=0.42.*,>=0.32.0\n",
      "  Downloading websocket_client-1.8.0-py3-none-any.whl (58 kB)\n",
      "\u001b[2K     \u001b[90m━━━━━━━━━━━━━━━━━━━━━━━━━━━━━━━━━━━━━━━━\u001b[0m \u001b[32m58.8/58.8 KB\u001b[0m \u001b[31m16.6 MB/s\u001b[0m eta \u001b[36m0:00:00\u001b[0m\n",
      "\u001b[?25hCollecting durationpy>=0.7\n",
      "  Downloading durationpy-0.10-py3-none-any.whl (3.9 kB)\n",
      "Requirement already satisfied: python-dateutil>=2.5.3 in /home/ubuntu/.local/lib/python3.10/site-packages (from kubernetes>=28.1.0->chromadb) (2.9.0.post0)\n",
      "Requirement already satisfied: sympy in /home/ubuntu/.local/lib/python3.10/site-packages (from onnxruntime>=1.14.1->chromadb) (1.14.0)\n",
      "Requirement already satisfied: protobuf in /home/ubuntu/.local/lib/python3.10/site-packages (from onnxruntime>=1.14.1->chromadb) (6.31.1)\n",
      "Collecting coloredlogs\n",
      "  Downloading coloredlogs-15.0.1-py2.py3-none-any.whl (46 kB)\n",
      "\u001b[2K     \u001b[90m━━━━━━━━━━━━━━━━━━━━━━━━━━━━━━━━━━━━━━━━\u001b[0m \u001b[32m46.0/46.0 KB\u001b[0m \u001b[31m13.1 MB/s\u001b[0m eta \u001b[36m0:00:00\u001b[0m\n",
      "\u001b[?25hCollecting flatbuffers\n",
      "  Downloading flatbuffers-25.2.10-py2.py3-none-any.whl (30 kB)\n",
      "Collecting importlib-metadata<8.8.0,>=6.0\n",
      "  Downloading importlib_metadata-8.7.0-py3-none-any.whl (27 kB)\n",
      "Collecting opentelemetry-exporter-otlp-proto-common==1.35.0\n",
      "  Downloading opentelemetry_exporter_otlp_proto_common-1.35.0-py3-none-any.whl (18 kB)\n",
      "Collecting opentelemetry-proto==1.35.0\n",
      "  Downloading opentelemetry_proto-1.35.0-py3-none-any.whl (72 kB)\n",
      "\u001b[2K     \u001b[90m━━━━━━━━━━━━━━━━━━━━━━━━━━━━━━━━━━━━━━━━\u001b[0m \u001b[32m72.5/72.5 KB\u001b[0m \u001b[31m16.5 MB/s\u001b[0m eta \u001b[36m0:00:00\u001b[0m\n",
      "\u001b[?25hCollecting googleapis-common-protos~=1.57\n",
      "  Downloading googleapis_common_protos-1.70.0-py3-none-any.whl (294 kB)\n",
      "\u001b[2K     \u001b[90m━━━━━━━━━━━━━━━━━━━━━━━━━━━━━━━━━━━━━━\u001b[0m \u001b[32m294.5/294.5 KB\u001b[0m \u001b[31m49.6 MB/s\u001b[0m eta \u001b[36m0:00:00\u001b[0m\n",
      "\u001b[?25hCollecting opentelemetry-semantic-conventions==0.56b0\n",
      "  Downloading opentelemetry_semantic_conventions-0.56b0-py3-none-any.whl (201 kB)\n",
      "\u001b[2K     \u001b[90m━━━━━━━━━━━━━━━━━━━━━━━━━━━━━━━━━━━━━━\u001b[0m \u001b[32m201.6/201.6 KB\u001b[0m \u001b[31m38.9 MB/s\u001b[0m eta \u001b[36m0:00:00\u001b[0m\n",
      "\u001b[?25hRequirement already satisfied: distro>=1.5.0 in /usr/lib/python3/dist-packages (from posthog<6.0.0,>=2.4.0->chromadb) (1.7.0)\n",
      "Collecting backoff>=1.10.0\n",
      "  Downloading backoff-2.2.1-py3-none-any.whl (15 kB)\n",
      "Requirement already satisfied: typing-inspection>=0.4.0 in /home/ubuntu/.local/lib/python3.10/site-packages (from pydantic>=1.9->chromadb) (0.4.1)\n",
      "Requirement already satisfied: annotated-types>=0.6.0 in /home/ubuntu/.local/lib/python3.10/site-packages (from pydantic>=1.9->chromadb) (0.7.0)\n",
      "Requirement already satisfied: pydantic-core==2.33.2 in /home/ubuntu/.local/lib/python3.10/site-packages (from pydantic>=1.9->chromadb) (2.33.2)\n",
      "Requirement already satisfied: pygments<3.0.0,>=2.13.0 in /home/ubuntu/.local/lib/python3.10/site-packages (from rich>=10.11.0->chromadb) (2.19.2)\n",
      "Requirement already satisfied: markdown-it-py>=2.2.0 in /home/ubuntu/.local/lib/python3.10/site-packages (from rich>=10.11.0->chromadb) (3.0.0)\n",
      "Requirement already satisfied: huggingface-hub<1.0,>=0.16.4 in /home/ubuntu/.local/lib/python3.10/site-packages (from tokenizers>=0.13.2->chromadb) (0.33.4)\n",
      "Requirement already satisfied: shellingham>=1.3.0 in /home/ubuntu/.local/lib/python3.10/site-packages (from typer>=0.9.0->chromadb) (1.5.4)\n",
      "Requirement already satisfied: click>=8.0.0 in /home/ubuntu/.local/lib/python3.10/site-packages (from typer>=0.9.0->chromadb) (8.2.1)\n",
      "Requirement already satisfied: websockets>=10.4 in /home/ubuntu/.local/lib/python3.10/site-packages (from uvicorn[standard]>=0.18.3->chromadb) (15.0.1)\n",
      "Collecting uvloop>=0.15.1\n",
      "  Downloading uvloop-0.21.0-cp310-cp310-manylinux_2_17_x86_64.manylinux2014_x86_64.whl (3.8 MB)\n",
      "\u001b[2K     \u001b[90m━━━━━━━━━━━━━━━━━━━━━━━━━━━━━━━━━━━━━━━━\u001b[0m \u001b[32m3.8/3.8 MB\u001b[0m \u001b[31m91.4 MB/s\u001b[0m eta \u001b[36m0:00:00\u001b[0m:00:01\u001b[0m\n",
      "\u001b[?25hRequirement already satisfied: python-dotenv>=0.13 in /home/ubuntu/.local/lib/python3.10/site-packages (from uvicorn[standard]>=0.18.3->chromadb) (1.1.1)\n",
      "Collecting httptools>=0.6.3\n",
      "  Downloading httptools-0.6.4-cp310-cp310-manylinux_2_5_x86_64.manylinux1_x86_64.manylinux_2_17_x86_64.manylinux2014_x86_64.whl (442 kB)\n",
      "\u001b[2K     \u001b[90m━━━━━━━━━━━━━━━━━━━━━━━━━━━━━━━━━━━━━━\u001b[0m \u001b[32m442.1/442.1 KB\u001b[0m \u001b[31m77.7 MB/s\u001b[0m eta \u001b[36m0:00:00\u001b[0m\n",
      "\u001b[?25hCollecting watchfiles>=0.13\n",
      "  Downloading watchfiles-1.1.0-cp310-cp310-manylinux_2_17_x86_64.manylinux2014_x86_64.whl (453 kB)\n",
      "\u001b[2K     \u001b[90m━━━━━━━━━━━━━━━━━━━━━━━━━━━━━━━━━━━━━━\u001b[0m \u001b[32m453.1/453.1 KB\u001b[0m \u001b[31m63.3 MB/s\u001b[0m eta \u001b[36m0:00:00\u001b[0m\n",
      "\u001b[?25hCollecting rsa<5,>=3.1.4\n",
      "  Downloading rsa-4.9.1-py3-none-any.whl (34 kB)\n",
      "Requirement already satisfied: pyasn1-modules>=0.2.1 in /usr/lib/python3/dist-packages (from google-auth>=1.0.1->kubernetes>=28.1.0->chromadb) (0.2.1)\n",
      "Collecting cachetools<6.0,>=2.0.0\n",
      "  Downloading cachetools-5.5.2-py3-none-any.whl (10 kB)\n",
      "Requirement already satisfied: filelock in /home/ubuntu/.local/lib/python3.10/site-packages (from huggingface-hub<1.0,>=0.16.4->tokenizers>=0.13.2->chromadb) (3.18.0)\n",
      "Requirement already satisfied: fsspec>=2023.5.0 in /home/ubuntu/.local/lib/python3.10/site-packages (from huggingface-hub<1.0,>=0.16.4->tokenizers>=0.13.2->chromadb) (2025.7.0)\n",
      "Requirement already satisfied: hf-xet<2.0.0,>=1.1.2 in /home/ubuntu/.local/lib/python3.10/site-packages (from huggingface-hub<1.0,>=0.16.4->tokenizers>=0.13.2->chromadb) (1.1.5)\n",
      "Collecting zipp>=3.20\n",
      "  Downloading zipp-3.23.0-py3-none-any.whl (10 kB)\n",
      "Requirement already satisfied: mdurl~=0.1 in /home/ubuntu/.local/lib/python3.10/site-packages (from markdown-it-py>=2.2.0->rich>=10.11.0->chromadb) (0.1.2)\n",
      "Requirement already satisfied: charset_normalizer<4,>=2 in /home/ubuntu/.local/lib/python3.10/site-packages (from requests->kubernetes>=28.1.0->chromadb) (3.4.2)\n",
      "Requirement already satisfied: exceptiongroup>=1.0.2 in /home/ubuntu/.local/lib/python3.10/site-packages (from anyio->httpx>=0.27.0->chromadb) (1.3.0)\n",
      "Requirement already satisfied: sniffio>=1.1 in /home/ubuntu/.local/lib/python3.10/site-packages (from anyio->httpx>=0.27.0->chromadb) (1.3.1)\n",
      "Collecting humanfriendly>=9.1\n",
      "  Downloading humanfriendly-10.0-py2.py3-none-any.whl (86 kB)\n",
      "\u001b[2K     \u001b[90m━━━━━━━━━━━━━━━━━━━━━━━━━━━━━━━━━━━━━━━━\u001b[0m \u001b[32m86.8/86.8 KB\u001b[0m \u001b[31m24.4 MB/s\u001b[0m eta \u001b[36m0:00:00\u001b[0m\n",
      "\u001b[?25hRequirement already satisfied: mpmath<1.4,>=1.1.0 in /home/ubuntu/.local/lib/python3.10/site-packages (from sympy->onnxruntime>=1.14.1->chromadb) (1.3.0)\n",
      "Requirement already satisfied: pyasn1>=0.1.3 in /usr/lib/python3/dist-packages (from rsa<5,>=3.1.4->google-auth>=1.0.1->kubernetes>=28.1.0->chromadb) (0.4.8)\n",
      "Building wheels for collected packages: pypika\n",
      "  Building wheel for pypika (pyproject.toml) ... \u001b[?25ldone\n",
      "\u001b[?25h  Created wheel for pypika: filename=PyPika-0.48.9-py2.py3-none-any.whl size=53738 sha256=7d4e27fe8aa09a708e54b10be2c8dd9168c8c7f2b7823dc1a3c145036951e2de\n",
      "  Stored in directory: /home/ubuntu/.cache/pip/wheels/e1/26/51/d0bffb3d2fd82256676d7ad3003faea3bd6dddc9577af665f4\n",
      "Successfully built pypika\n",
      "Installing collected packages: pypika, flatbuffers, durationpy, zipp, websocket-client, uvloop, tomli, rsa, rpds-py, pyproject_hooks, pybase64, overrides, opentelemetry-proto, oauthlib, mmh3, importlib-resources, humanfriendly, httptools, grpcio, googleapis-common-protos, cachetools, bcrypt, backoff, attrs, requests-oauthlib, referencing, posthog, opentelemetry-exporter-otlp-proto-common, importlib-metadata, google-auth, coloredlogs, build, watchfiles, opentelemetry-api, onnxruntime, kubernetes, jsonschema-specifications, opentelemetry-semantic-conventions, jsonschema, opentelemetry-sdk, opentelemetry-exporter-otlp-proto-grpc, chromadb\n",
      "  Attempting uninstall: cachetools\n",
      "    Found existing installation: cachetools 6.1.0\n",
      "    Uninstalling cachetools-6.1.0:\n",
      "      Successfully uninstalled cachetools-6.1.0\n",
      "Successfully installed attrs-25.3.0 backoff-2.2.1 bcrypt-4.3.0 build-1.2.2.post1 cachetools-5.5.2 chromadb-1.0.15 coloredlogs-15.0.1 durationpy-0.10 flatbuffers-25.2.10 google-auth-2.40.3 googleapis-common-protos-1.70.0 grpcio-1.73.1 httptools-0.6.4 humanfriendly-10.0 importlib-metadata-8.7.0 importlib-resources-6.5.2 jsonschema-4.25.0 jsonschema-specifications-2025.4.1 kubernetes-33.1.0 mmh3-5.1.0 oauthlib-3.3.1 onnxruntime-1.22.1 opentelemetry-api-1.35.0 opentelemetry-exporter-otlp-proto-common-1.35.0 opentelemetry-exporter-otlp-proto-grpc-1.35.0 opentelemetry-proto-1.35.0 opentelemetry-sdk-1.35.0 opentelemetry-semantic-conventions-0.56b0 overrides-7.7.0 posthog-5.4.0 pybase64-1.4.1 pypika-0.48.9 pyproject_hooks-1.2.0 referencing-0.36.2 requests-oauthlib-2.0.0 rpds-py-0.26.0 rsa-4.9.1 tomli-2.2.1 uvloop-0.21.0 watchfiles-1.1.0 websocket-client-1.8.0 zipp-3.23.0\n"
     ]
    }
   ],
   "source": [
    "!pip install -U chromadb attrs"
   ]
  },
  {
   "cell_type": "code",
   "execution_count": 25,
   "metadata": {},
   "outputs": [
    {
     "name": "stdout",
     "output_type": "stream",
     "text": [
      "Defaulting to user installation because normal site-packages is not writeable\n",
      "Collecting llama-index-vector-stores-chroma\n",
      "  Downloading llama_index_vector_stores_chroma-0.4.2-py3-none-any.whl (6.0 kB)\n",
      "Requirement already satisfied: chromadb>=0.5.17 in /home/ubuntu/.local/lib/python3.10/site-packages (from llama-index-vector-stores-chroma) (1.0.15)\n",
      "Requirement already satisfied: llama-index-core<0.13,>=0.12.0 in /home/ubuntu/.local/lib/python3.10/site-packages (from llama-index-vector-stores-chroma) (0.12.52)\n",
      "Requirement already satisfied: mmh3>=4.0.1 in /home/ubuntu/.local/lib/python3.10/site-packages (from chromadb>=0.5.17->llama-index-vector-stores-chroma) (5.1.0)\n",
      "Requirement already satisfied: onnxruntime>=1.14.1 in /home/ubuntu/.local/lib/python3.10/site-packages (from chromadb>=0.5.17->llama-index-vector-stores-chroma) (1.22.1)\n",
      "Requirement already satisfied: jsonschema>=4.19.0 in /home/ubuntu/.local/lib/python3.10/site-packages (from chromadb>=0.5.17->llama-index-vector-stores-chroma) (4.25.0)\n",
      "Requirement already satisfied: tokenizers>=0.13.2 in /home/ubuntu/.local/lib/python3.10/site-packages (from chromadb>=0.5.17->llama-index-vector-stores-chroma) (0.21.2)\n",
      "Requirement already satisfied: opentelemetry-exporter-otlp-proto-grpc>=1.2.0 in /home/ubuntu/.local/lib/python3.10/site-packages (from chromadb>=0.5.17->llama-index-vector-stores-chroma) (1.35.0)\n",
      "Requirement already satisfied: build>=1.0.3 in /home/ubuntu/.local/lib/python3.10/site-packages (from chromadb>=0.5.17->llama-index-vector-stores-chroma) (1.2.2.post1)\n",
      "Requirement already satisfied: tqdm>=4.65.0 in /home/ubuntu/.local/lib/python3.10/site-packages (from chromadb>=0.5.17->llama-index-vector-stores-chroma) (4.67.1)\n",
      "Requirement already satisfied: grpcio>=1.58.0 in /home/ubuntu/.local/lib/python3.10/site-packages (from chromadb>=0.5.17->llama-index-vector-stores-chroma) (1.73.1)\n",
      "Requirement already satisfied: numpy>=1.22.5 in /home/ubuntu/.local/lib/python3.10/site-packages (from chromadb>=0.5.17->llama-index-vector-stores-chroma) (2.2.6)\n",
      "Requirement already satisfied: importlib-resources in /home/ubuntu/.local/lib/python3.10/site-packages (from chromadb>=0.5.17->llama-index-vector-stores-chroma) (6.5.2)\n",
      "Requirement already satisfied: posthog<6.0.0,>=2.4.0 in /home/ubuntu/.local/lib/python3.10/site-packages (from chromadb>=0.5.17->llama-index-vector-stores-chroma) (5.4.0)\n",
      "Requirement already satisfied: rich>=10.11.0 in /home/ubuntu/.local/lib/python3.10/site-packages (from chromadb>=0.5.17->llama-index-vector-stores-chroma) (14.0.0)\n",
      "Requirement already satisfied: httpx>=0.27.0 in /home/ubuntu/.local/lib/python3.10/site-packages (from chromadb>=0.5.17->llama-index-vector-stores-chroma) (0.28.1)\n",
      "Requirement already satisfied: bcrypt>=4.0.1 in /home/ubuntu/.local/lib/python3.10/site-packages (from chromadb>=0.5.17->llama-index-vector-stores-chroma) (4.3.0)\n",
      "Requirement already satisfied: tenacity>=8.2.3 in /home/ubuntu/.local/lib/python3.10/site-packages (from chromadb>=0.5.17->llama-index-vector-stores-chroma) (9.1.2)\n",
      "Requirement already satisfied: pyyaml>=6.0.0 in /home/ubuntu/.local/lib/python3.10/site-packages (from chromadb>=0.5.17->llama-index-vector-stores-chroma) (6.0.2)\n",
      "Requirement already satisfied: typer>=0.9.0 in /home/ubuntu/.local/lib/python3.10/site-packages (from chromadb>=0.5.17->llama-index-vector-stores-chroma) (0.16.0)\n",
      "Requirement already satisfied: kubernetes>=28.1.0 in /home/ubuntu/.local/lib/python3.10/site-packages (from chromadb>=0.5.17->llama-index-vector-stores-chroma) (33.1.0)\n",
      "Requirement already satisfied: typing-extensions>=4.5.0 in /home/ubuntu/.local/lib/python3.10/site-packages (from chromadb>=0.5.17->llama-index-vector-stores-chroma) (4.14.1)\n",
      "Requirement already satisfied: opentelemetry-sdk>=1.2.0 in /home/ubuntu/.local/lib/python3.10/site-packages (from chromadb>=0.5.17->llama-index-vector-stores-chroma) (1.35.0)\n",
      "Requirement already satisfied: pypika>=0.48.9 in /home/ubuntu/.local/lib/python3.10/site-packages (from chromadb>=0.5.17->llama-index-vector-stores-chroma) (0.48.9)\n",
      "Requirement already satisfied: pydantic>=1.9 in /home/ubuntu/.local/lib/python3.10/site-packages (from chromadb>=0.5.17->llama-index-vector-stores-chroma) (2.11.7)\n",
      "Requirement already satisfied: pybase64>=1.4.1 in /home/ubuntu/.local/lib/python3.10/site-packages (from chromadb>=0.5.17->llama-index-vector-stores-chroma) (1.4.1)\n",
      "Requirement already satisfied: opentelemetry-api>=1.2.0 in /home/ubuntu/.local/lib/python3.10/site-packages (from chromadb>=0.5.17->llama-index-vector-stores-chroma) (1.35.0)\n",
      "Requirement already satisfied: orjson>=3.9.12 in /home/ubuntu/.local/lib/python3.10/site-packages (from chromadb>=0.5.17->llama-index-vector-stores-chroma) (3.11.0)\n",
      "Requirement already satisfied: overrides>=7.3.1 in /home/ubuntu/.local/lib/python3.10/site-packages (from chromadb>=0.5.17->llama-index-vector-stores-chroma) (7.7.0)\n",
      "Requirement already satisfied: uvicorn[standard]>=0.18.3 in /home/ubuntu/.local/lib/python3.10/site-packages (from chromadb>=0.5.17->llama-index-vector-stores-chroma) (0.35.0)\n",
      "Requirement already satisfied: typing-inspect>=0.8.0 in /home/ubuntu/.local/lib/python3.10/site-packages (from llama-index-core<0.13,>=0.12.0->llama-index-vector-stores-chroma) (0.9.0)\n",
      "Requirement already satisfied: sqlalchemy[asyncio]>=1.4.49 in /home/ubuntu/.local/lib/python3.10/site-packages (from llama-index-core<0.13,>=0.12.0->llama-index-vector-stores-chroma) (2.0.41)\n",
      "Requirement already satisfied: networkx>=3.0 in /home/ubuntu/.local/lib/python3.10/site-packages (from llama-index-core<0.13,>=0.12.0->llama-index-vector-stores-chroma) (3.4.2)\n",
      "Requirement already satisfied: requests>=2.31.0 in /home/ubuntu/.local/lib/python3.10/site-packages (from llama-index-core<0.13,>=0.12.0->llama-index-vector-stores-chroma) (2.32.4)\n",
      "Requirement already satisfied: filetype<2,>=1.2.0 in /home/ubuntu/.local/lib/python3.10/site-packages (from llama-index-core<0.13,>=0.12.0->llama-index-vector-stores-chroma) (1.2.0)\n",
      "Requirement already satisfied: fsspec>=2023.5.0 in /home/ubuntu/.local/lib/python3.10/site-packages (from llama-index-core<0.13,>=0.12.0->llama-index-vector-stores-chroma) (2025.7.0)\n",
      "Requirement already satisfied: llama-index-workflows<2,>=1.0.1 in /home/ubuntu/.local/lib/python3.10/site-packages (from llama-index-core<0.13,>=0.12.0->llama-index-vector-stores-chroma) (1.1.0)\n",
      "Requirement already satisfied: deprecated>=1.2.9.3 in /home/ubuntu/.local/lib/python3.10/site-packages (from llama-index-core<0.13,>=0.12.0->llama-index-vector-stores-chroma) (1.2.18)\n",
      "Requirement already satisfied: tiktoken>=0.7.0 in /home/ubuntu/.local/lib/python3.10/site-packages (from llama-index-core<0.13,>=0.12.0->llama-index-vector-stores-chroma) (0.9.0)\n",
      "Requirement already satisfied: wrapt in /home/ubuntu/.local/lib/python3.10/site-packages (from llama-index-core<0.13,>=0.12.0->llama-index-vector-stores-chroma) (1.17.2)\n",
      "Requirement already satisfied: aiohttp<4,>=3.8.6 in /home/ubuntu/.local/lib/python3.10/site-packages (from llama-index-core<0.13,>=0.12.0->llama-index-vector-stores-chroma) (3.12.14)\n",
      "Requirement already satisfied: platformdirs in /home/ubuntu/.local/lib/python3.10/site-packages (from llama-index-core<0.13,>=0.12.0->llama-index-vector-stores-chroma) (4.3.8)\n",
      "Requirement already satisfied: nltk>3.8.1 in /home/ubuntu/.local/lib/python3.10/site-packages (from llama-index-core<0.13,>=0.12.0->llama-index-vector-stores-chroma) (3.9.1)\n",
      "Requirement already satisfied: aiosqlite in /home/ubuntu/.local/lib/python3.10/site-packages (from llama-index-core<0.13,>=0.12.0->llama-index-vector-stores-chroma) (0.21.0)\n",
      "Requirement already satisfied: dataclasses-json in /home/ubuntu/.local/lib/python3.10/site-packages (from llama-index-core<0.13,>=0.12.0->llama-index-vector-stores-chroma) (0.6.7)\n",
      "Requirement already satisfied: pillow>=9.0.0 in /home/ubuntu/.local/lib/python3.10/site-packages (from llama-index-core<0.13,>=0.12.0->llama-index-vector-stores-chroma) (11.3.0)\n",
      "Requirement already satisfied: dirtyjson<2,>=1.0.8 in /home/ubuntu/.local/lib/python3.10/site-packages (from llama-index-core<0.13,>=0.12.0->llama-index-vector-stores-chroma) (1.0.8)\n",
      "Requirement already satisfied: banks<3,>=2.2.0 in /home/ubuntu/.local/lib/python3.10/site-packages (from llama-index-core<0.13,>=0.12.0->llama-index-vector-stores-chroma) (2.2.0)\n",
      "Requirement already satisfied: nest-asyncio<2,>=1.5.8 in /home/ubuntu/.local/lib/python3.10/site-packages (from llama-index-core<0.13,>=0.12.0->llama-index-vector-stores-chroma) (1.6.0)\n",
      "Requirement already satisfied: setuptools>=80.9.0 in /home/ubuntu/.local/lib/python3.10/site-packages (from llama-index-core<0.13,>=0.12.0->llama-index-vector-stores-chroma) (80.9.0)\n",
      "Requirement already satisfied: async-timeout<6.0,>=4.0 in /home/ubuntu/.local/lib/python3.10/site-packages (from aiohttp<4,>=3.8.6->llama-index-core<0.13,>=0.12.0->llama-index-vector-stores-chroma) (4.0.3)\n",
      "Requirement already satisfied: attrs>=17.3.0 in /home/ubuntu/.local/lib/python3.10/site-packages (from aiohttp<4,>=3.8.6->llama-index-core<0.13,>=0.12.0->llama-index-vector-stores-chroma) (25.3.0)\n",
      "Requirement already satisfied: multidict<7.0,>=4.5 in /home/ubuntu/.local/lib/python3.10/site-packages (from aiohttp<4,>=3.8.6->llama-index-core<0.13,>=0.12.0->llama-index-vector-stores-chroma) (6.6.3)\n",
      "Requirement already satisfied: propcache>=0.2.0 in /home/ubuntu/.local/lib/python3.10/site-packages (from aiohttp<4,>=3.8.6->llama-index-core<0.13,>=0.12.0->llama-index-vector-stores-chroma) (0.3.2)\n",
      "Requirement already satisfied: aiohappyeyeballs>=2.5.0 in /home/ubuntu/.local/lib/python3.10/site-packages (from aiohttp<4,>=3.8.6->llama-index-core<0.13,>=0.12.0->llama-index-vector-stores-chroma) (2.6.1)\n",
      "Requirement already satisfied: yarl<2.0,>=1.17.0 in /home/ubuntu/.local/lib/python3.10/site-packages (from aiohttp<4,>=3.8.6->llama-index-core<0.13,>=0.12.0->llama-index-vector-stores-chroma) (1.20.1)\n",
      "Requirement already satisfied: frozenlist>=1.1.1 in /home/ubuntu/.local/lib/python3.10/site-packages (from aiohttp<4,>=3.8.6->llama-index-core<0.13,>=0.12.0->llama-index-vector-stores-chroma) (1.7.0)\n",
      "Requirement already satisfied: aiosignal>=1.4.0 in /home/ubuntu/.local/lib/python3.10/site-packages (from aiohttp<4,>=3.8.6->llama-index-core<0.13,>=0.12.0->llama-index-vector-stores-chroma) (1.4.0)\n",
      "Requirement already satisfied: jinja2 in /usr/lib/python3/dist-packages (from banks<3,>=2.2.0->llama-index-core<0.13,>=0.12.0->llama-index-vector-stores-chroma) (3.0.3)\n",
      "Requirement already satisfied: griffe in /home/ubuntu/.local/lib/python3.10/site-packages (from banks<3,>=2.2.0->llama-index-core<0.13,>=0.12.0->llama-index-vector-stores-chroma) (1.8.0)\n",
      "Requirement already satisfied: tomli>=1.1.0 in /home/ubuntu/.local/lib/python3.10/site-packages (from build>=1.0.3->chromadb>=0.5.17->llama-index-vector-stores-chroma) (2.2.1)\n",
      "Requirement already satisfied: pyproject_hooks in /home/ubuntu/.local/lib/python3.10/site-packages (from build>=1.0.3->chromadb>=0.5.17->llama-index-vector-stores-chroma) (1.2.0)\n",
      "Requirement already satisfied: packaging>=19.1 in /home/ubuntu/.local/lib/python3.10/site-packages (from build>=1.0.3->chromadb>=0.5.17->llama-index-vector-stores-chroma) (25.0)\n",
      "Requirement already satisfied: certifi in /home/ubuntu/.local/lib/python3.10/site-packages (from httpx>=0.27.0->chromadb>=0.5.17->llama-index-vector-stores-chroma) (2025.7.14)\n",
      "Requirement already satisfied: idna in /usr/lib/python3/dist-packages (from httpx>=0.27.0->chromadb>=0.5.17->llama-index-vector-stores-chroma) (3.3)\n",
      "Requirement already satisfied: httpcore==1.* in /home/ubuntu/.local/lib/python3.10/site-packages (from httpx>=0.27.0->chromadb>=0.5.17->llama-index-vector-stores-chroma) (1.0.9)\n",
      "Requirement already satisfied: anyio in /home/ubuntu/.local/lib/python3.10/site-packages (from httpx>=0.27.0->chromadb>=0.5.17->llama-index-vector-stores-chroma) (4.9.0)\n",
      "Requirement already satisfied: h11>=0.16 in /home/ubuntu/.local/lib/python3.10/site-packages (from httpcore==1.*->httpx>=0.27.0->chromadb>=0.5.17->llama-index-vector-stores-chroma) (0.16.0)\n",
      "Requirement already satisfied: rpds-py>=0.7.1 in /home/ubuntu/.local/lib/python3.10/site-packages (from jsonschema>=4.19.0->chromadb>=0.5.17->llama-index-vector-stores-chroma) (0.26.0)\n",
      "Requirement already satisfied: referencing>=0.28.4 in /home/ubuntu/.local/lib/python3.10/site-packages (from jsonschema>=4.19.0->chromadb>=0.5.17->llama-index-vector-stores-chroma) (0.36.2)\n",
      "Requirement already satisfied: jsonschema-specifications>=2023.03.6 in /home/ubuntu/.local/lib/python3.10/site-packages (from jsonschema>=4.19.0->chromadb>=0.5.17->llama-index-vector-stores-chroma) (2025.4.1)\n",
      "Requirement already satisfied: google-auth>=1.0.1 in /home/ubuntu/.local/lib/python3.10/site-packages (from kubernetes>=28.1.0->chromadb>=0.5.17->llama-index-vector-stores-chroma) (2.40.3)\n",
      "Requirement already satisfied: requests-oauthlib in /home/ubuntu/.local/lib/python3.10/site-packages (from kubernetes>=28.1.0->chromadb>=0.5.17->llama-index-vector-stores-chroma) (2.0.0)\n",
      "Requirement already satisfied: oauthlib>=3.2.2 in /home/ubuntu/.local/lib/python3.10/site-packages (from kubernetes>=28.1.0->chromadb>=0.5.17->llama-index-vector-stores-chroma) (3.3.1)\n",
      "Requirement already satisfied: durationpy>=0.7 in /home/ubuntu/.local/lib/python3.10/site-packages (from kubernetes>=28.1.0->chromadb>=0.5.17->llama-index-vector-stores-chroma) (0.10)\n",
      "Requirement already satisfied: websocket-client!=0.40.0,!=0.41.*,!=0.42.*,>=0.32.0 in /home/ubuntu/.local/lib/python3.10/site-packages (from kubernetes>=28.1.0->chromadb>=0.5.17->llama-index-vector-stores-chroma) (1.8.0)\n",
      "Requirement already satisfied: urllib3>=1.24.2 in /usr/lib/python3/dist-packages (from kubernetes>=28.1.0->chromadb>=0.5.17->llama-index-vector-stores-chroma) (1.26.5)\n",
      "Requirement already satisfied: six>=1.9.0 in /usr/lib/python3/dist-packages (from kubernetes>=28.1.0->chromadb>=0.5.17->llama-index-vector-stores-chroma) (1.16.0)\n",
      "Requirement already satisfied: python-dateutil>=2.5.3 in /home/ubuntu/.local/lib/python3.10/site-packages (from kubernetes>=28.1.0->chromadb>=0.5.17->llama-index-vector-stores-chroma) (2.9.0.post0)\n",
      "Requirement already satisfied: llama-index-instrumentation>=0.1.0 in /home/ubuntu/.local/lib/python3.10/site-packages (from llama-index-workflows<2,>=1.0.1->llama-index-core<0.13,>=0.12.0->llama-index-vector-stores-chroma) (0.3.0)\n",
      "Requirement already satisfied: click in /home/ubuntu/.local/lib/python3.10/site-packages (from nltk>3.8.1->llama-index-core<0.13,>=0.12.0->llama-index-vector-stores-chroma) (8.2.1)\n",
      "Requirement already satisfied: joblib in /home/ubuntu/.local/lib/python3.10/site-packages (from nltk>3.8.1->llama-index-core<0.13,>=0.12.0->llama-index-vector-stores-chroma) (1.5.1)\n",
      "Requirement already satisfied: regex>=2021.8.3 in /home/ubuntu/.local/lib/python3.10/site-packages (from nltk>3.8.1->llama-index-core<0.13,>=0.12.0->llama-index-vector-stores-chroma) (2024.11.6)\n",
      "Requirement already satisfied: protobuf in /home/ubuntu/.local/lib/python3.10/site-packages (from onnxruntime>=1.14.1->chromadb>=0.5.17->llama-index-vector-stores-chroma) (6.31.1)\n",
      "Requirement already satisfied: flatbuffers in /home/ubuntu/.local/lib/python3.10/site-packages (from onnxruntime>=1.14.1->chromadb>=0.5.17->llama-index-vector-stores-chroma) (25.2.10)\n",
      "Requirement already satisfied: coloredlogs in /home/ubuntu/.local/lib/python3.10/site-packages (from onnxruntime>=1.14.1->chromadb>=0.5.17->llama-index-vector-stores-chroma) (15.0.1)\n",
      "Requirement already satisfied: sympy in /home/ubuntu/.local/lib/python3.10/site-packages (from onnxruntime>=1.14.1->chromadb>=0.5.17->llama-index-vector-stores-chroma) (1.14.0)\n",
      "Requirement already satisfied: importlib-metadata<8.8.0,>=6.0 in /home/ubuntu/.local/lib/python3.10/site-packages (from opentelemetry-api>=1.2.0->chromadb>=0.5.17->llama-index-vector-stores-chroma) (8.7.0)\n",
      "Requirement already satisfied: opentelemetry-exporter-otlp-proto-common==1.35.0 in /home/ubuntu/.local/lib/python3.10/site-packages (from opentelemetry-exporter-otlp-proto-grpc>=1.2.0->chromadb>=0.5.17->llama-index-vector-stores-chroma) (1.35.0)\n",
      "Requirement already satisfied: googleapis-common-protos~=1.57 in /home/ubuntu/.local/lib/python3.10/site-packages (from opentelemetry-exporter-otlp-proto-grpc>=1.2.0->chromadb>=0.5.17->llama-index-vector-stores-chroma) (1.70.0)\n",
      "Requirement already satisfied: opentelemetry-proto==1.35.0 in /home/ubuntu/.local/lib/python3.10/site-packages (from opentelemetry-exporter-otlp-proto-grpc>=1.2.0->chromadb>=0.5.17->llama-index-vector-stores-chroma) (1.35.0)\n",
      "Requirement already satisfied: opentelemetry-semantic-conventions==0.56b0 in /home/ubuntu/.local/lib/python3.10/site-packages (from opentelemetry-sdk>=1.2.0->chromadb>=0.5.17->llama-index-vector-stores-chroma) (0.56b0)\n",
      "Requirement already satisfied: distro>=1.5.0 in /usr/lib/python3/dist-packages (from posthog<6.0.0,>=2.4.0->chromadb>=0.5.17->llama-index-vector-stores-chroma) (1.7.0)\n",
      "Requirement already satisfied: backoff>=1.10.0 in /home/ubuntu/.local/lib/python3.10/site-packages (from posthog<6.0.0,>=2.4.0->chromadb>=0.5.17->llama-index-vector-stores-chroma) (2.2.1)\n",
      "Requirement already satisfied: pydantic-core==2.33.2 in /home/ubuntu/.local/lib/python3.10/site-packages (from pydantic>=1.9->chromadb>=0.5.17->llama-index-vector-stores-chroma) (2.33.2)\n",
      "Requirement already satisfied: annotated-types>=0.6.0 in /home/ubuntu/.local/lib/python3.10/site-packages (from pydantic>=1.9->chromadb>=0.5.17->llama-index-vector-stores-chroma) (0.7.0)\n",
      "Requirement already satisfied: typing-inspection>=0.4.0 in /home/ubuntu/.local/lib/python3.10/site-packages (from pydantic>=1.9->chromadb>=0.5.17->llama-index-vector-stores-chroma) (0.4.1)\n",
      "Requirement already satisfied: charset_normalizer<4,>=2 in /home/ubuntu/.local/lib/python3.10/site-packages (from requests>=2.31.0->llama-index-core<0.13,>=0.12.0->llama-index-vector-stores-chroma) (3.4.2)\n",
      "Requirement already satisfied: pygments<3.0.0,>=2.13.0 in /home/ubuntu/.local/lib/python3.10/site-packages (from rich>=10.11.0->chromadb>=0.5.17->llama-index-vector-stores-chroma) (2.19.2)\n",
      "Requirement already satisfied: markdown-it-py>=2.2.0 in /home/ubuntu/.local/lib/python3.10/site-packages (from rich>=10.11.0->chromadb>=0.5.17->llama-index-vector-stores-chroma) (3.0.0)\n",
      "Requirement already satisfied: greenlet>=1 in /home/ubuntu/.local/lib/python3.10/site-packages (from sqlalchemy[asyncio]>=1.4.49->llama-index-core<0.13,>=0.12.0->llama-index-vector-stores-chroma) (3.2.3)\n",
      "Requirement already satisfied: huggingface-hub<1.0,>=0.16.4 in /home/ubuntu/.local/lib/python3.10/site-packages (from tokenizers>=0.13.2->chromadb>=0.5.17->llama-index-vector-stores-chroma) (0.33.4)\n",
      "Requirement already satisfied: shellingham>=1.3.0 in /home/ubuntu/.local/lib/python3.10/site-packages (from typer>=0.9.0->chromadb>=0.5.17->llama-index-vector-stores-chroma) (1.5.4)\n",
      "Requirement already satisfied: mypy-extensions>=0.3.0 in /home/ubuntu/.local/lib/python3.10/site-packages (from typing-inspect>=0.8.0->llama-index-core<0.13,>=0.12.0->llama-index-vector-stores-chroma) (1.1.0)\n",
      "Requirement already satisfied: uvloop>=0.15.1 in /home/ubuntu/.local/lib/python3.10/site-packages (from uvicorn[standard]>=0.18.3->chromadb>=0.5.17->llama-index-vector-stores-chroma) (0.21.0)\n",
      "Requirement already satisfied: httptools>=0.6.3 in /home/ubuntu/.local/lib/python3.10/site-packages (from uvicorn[standard]>=0.18.3->chromadb>=0.5.17->llama-index-vector-stores-chroma) (0.6.4)\n",
      "Requirement already satisfied: python-dotenv>=0.13 in /home/ubuntu/.local/lib/python3.10/site-packages (from uvicorn[standard]>=0.18.3->chromadb>=0.5.17->llama-index-vector-stores-chroma) (1.1.1)\n",
      "Requirement already satisfied: websockets>=10.4 in /home/ubuntu/.local/lib/python3.10/site-packages (from uvicorn[standard]>=0.18.3->chromadb>=0.5.17->llama-index-vector-stores-chroma) (15.0.1)\n",
      "Requirement already satisfied: watchfiles>=0.13 in /home/ubuntu/.local/lib/python3.10/site-packages (from uvicorn[standard]>=0.18.3->chromadb>=0.5.17->llama-index-vector-stores-chroma) (1.1.0)\n",
      "Requirement already satisfied: marshmallow<4.0.0,>=3.18.0 in /home/ubuntu/.local/lib/python3.10/site-packages (from dataclasses-json->llama-index-core<0.13,>=0.12.0->llama-index-vector-stores-chroma) (3.26.1)\n",
      "Requirement already satisfied: rsa<5,>=3.1.4 in /home/ubuntu/.local/lib/python3.10/site-packages (from google-auth>=1.0.1->kubernetes>=28.1.0->chromadb>=0.5.17->llama-index-vector-stores-chroma) (4.9.1)\n",
      "Requirement already satisfied: cachetools<6.0,>=2.0.0 in /home/ubuntu/.local/lib/python3.10/site-packages (from google-auth>=1.0.1->kubernetes>=28.1.0->chromadb>=0.5.17->llama-index-vector-stores-chroma) (5.5.2)\n",
      "Requirement already satisfied: pyasn1-modules>=0.2.1 in /usr/lib/python3/dist-packages (from google-auth>=1.0.1->kubernetes>=28.1.0->chromadb>=0.5.17->llama-index-vector-stores-chroma) (0.2.1)\n",
      "Requirement already satisfied: hf-xet<2.0.0,>=1.1.2 in /home/ubuntu/.local/lib/python3.10/site-packages (from huggingface-hub<1.0,>=0.16.4->tokenizers>=0.13.2->chromadb>=0.5.17->llama-index-vector-stores-chroma) (1.1.5)\n",
      "Requirement already satisfied: filelock in /home/ubuntu/.local/lib/python3.10/site-packages (from huggingface-hub<1.0,>=0.16.4->tokenizers>=0.13.2->chromadb>=0.5.17->llama-index-vector-stores-chroma) (3.18.0)\n",
      "Requirement already satisfied: zipp>=3.20 in /home/ubuntu/.local/lib/python3.10/site-packages (from importlib-metadata<8.8.0,>=6.0->opentelemetry-api>=1.2.0->chromadb>=0.5.17->llama-index-vector-stores-chroma) (3.23.0)\n",
      "Requirement already satisfied: mdurl~=0.1 in /home/ubuntu/.local/lib/python3.10/site-packages (from markdown-it-py>=2.2.0->rich>=10.11.0->chromadb>=0.5.17->llama-index-vector-stores-chroma) (0.1.2)\n",
      "Requirement already satisfied: sniffio>=1.1 in /home/ubuntu/.local/lib/python3.10/site-packages (from anyio->httpx>=0.27.0->chromadb>=0.5.17->llama-index-vector-stores-chroma) (1.3.1)\n",
      "Requirement already satisfied: exceptiongroup>=1.0.2 in /home/ubuntu/.local/lib/python3.10/site-packages (from anyio->httpx>=0.27.0->chromadb>=0.5.17->llama-index-vector-stores-chroma) (1.3.0)\n",
      "Requirement already satisfied: humanfriendly>=9.1 in /home/ubuntu/.local/lib/python3.10/site-packages (from coloredlogs->onnxruntime>=1.14.1->chromadb>=0.5.17->llama-index-vector-stores-chroma) (10.0)\n",
      "Requirement already satisfied: colorama>=0.4 in /usr/lib/python3/dist-packages (from griffe->banks<3,>=2.2.0->llama-index-core<0.13,>=0.12.0->llama-index-vector-stores-chroma) (0.4.4)\n",
      "Requirement already satisfied: mpmath<1.4,>=1.1.0 in /home/ubuntu/.local/lib/python3.10/site-packages (from sympy->onnxruntime>=1.14.1->chromadb>=0.5.17->llama-index-vector-stores-chroma) (1.3.0)\n",
      "Requirement already satisfied: pyasn1>=0.1.3 in /usr/lib/python3/dist-packages (from rsa<5,>=3.1.4->google-auth>=1.0.1->kubernetes>=28.1.0->chromadb>=0.5.17->llama-index-vector-stores-chroma) (0.4.8)\n",
      "Installing collected packages: llama-index-vector-stores-chroma\n",
      "Successfully installed llama-index-vector-stores-chroma-0.4.2\n"
     ]
    }
   ],
   "source": [
    "!pip install llama-index-vector-stores-chroma"
   ]
  },
  {
   "cell_type": "code",
   "execution_count": 26,
   "metadata": {},
   "outputs": [
    {
     "name": "stdout",
     "output_type": "stream",
     "text": [
      "Defaulting to user installation because normal site-packages is not writeable\n",
      "Requirement already satisfied: chromadb in /home/ubuntu/.local/lib/python3.10/site-packages (1.0.15)\n",
      "Requirement already satisfied: pyyaml>=6.0.0 in /home/ubuntu/.local/lib/python3.10/site-packages (from chromadb) (6.0.2)\n",
      "Requirement already satisfied: mmh3>=4.0.1 in /home/ubuntu/.local/lib/python3.10/site-packages (from chromadb) (5.1.0)\n",
      "Requirement already satisfied: opentelemetry-sdk>=1.2.0 in /home/ubuntu/.local/lib/python3.10/site-packages (from chromadb) (1.35.0)\n",
      "Requirement already satisfied: kubernetes>=28.1.0 in /home/ubuntu/.local/lib/python3.10/site-packages (from chromadb) (33.1.0)\n",
      "Requirement already satisfied: rich>=10.11.0 in /home/ubuntu/.local/lib/python3.10/site-packages (from chromadb) (14.0.0)\n",
      "Requirement already satisfied: build>=1.0.3 in /home/ubuntu/.local/lib/python3.10/site-packages (from chromadb) (1.2.2.post1)\n",
      "Requirement already satisfied: bcrypt>=4.0.1 in /home/ubuntu/.local/lib/python3.10/site-packages (from chromadb) (4.3.0)\n",
      "Requirement already satisfied: jsonschema>=4.19.0 in /home/ubuntu/.local/lib/python3.10/site-packages (from chromadb) (4.25.0)\n",
      "Requirement already satisfied: tenacity>=8.2.3 in /home/ubuntu/.local/lib/python3.10/site-packages (from chromadb) (9.1.2)\n",
      "Requirement already satisfied: opentelemetry-exporter-otlp-proto-grpc>=1.2.0 in /home/ubuntu/.local/lib/python3.10/site-packages (from chromadb) (1.35.0)\n",
      "Requirement already satisfied: httpx>=0.27.0 in /home/ubuntu/.local/lib/python3.10/site-packages (from chromadb) (0.28.1)\n",
      "Requirement already satisfied: orjson>=3.9.12 in /home/ubuntu/.local/lib/python3.10/site-packages (from chromadb) (3.11.0)\n",
      "Requirement already satisfied: uvicorn[standard]>=0.18.3 in /home/ubuntu/.local/lib/python3.10/site-packages (from chromadb) (0.35.0)\n",
      "Requirement already satisfied: grpcio>=1.58.0 in /home/ubuntu/.local/lib/python3.10/site-packages (from chromadb) (1.73.1)\n",
      "Requirement already satisfied: opentelemetry-api>=1.2.0 in /home/ubuntu/.local/lib/python3.10/site-packages (from chromadb) (1.35.0)\n",
      "Requirement already satisfied: importlib-resources in /home/ubuntu/.local/lib/python3.10/site-packages (from chromadb) (6.5.2)\n",
      "Requirement already satisfied: typer>=0.9.0 in /home/ubuntu/.local/lib/python3.10/site-packages (from chromadb) (0.16.0)\n",
      "Requirement already satisfied: numpy>=1.22.5 in /home/ubuntu/.local/lib/python3.10/site-packages (from chromadb) (2.2.6)\n",
      "Requirement already satisfied: tqdm>=4.65.0 in /home/ubuntu/.local/lib/python3.10/site-packages (from chromadb) (4.67.1)\n",
      "Requirement already satisfied: onnxruntime>=1.14.1 in /home/ubuntu/.local/lib/python3.10/site-packages (from chromadb) (1.22.1)\n",
      "Requirement already satisfied: typing-extensions>=4.5.0 in /home/ubuntu/.local/lib/python3.10/site-packages (from chromadb) (4.14.1)\n",
      "Requirement already satisfied: tokenizers>=0.13.2 in /home/ubuntu/.local/lib/python3.10/site-packages (from chromadb) (0.21.2)\n",
      "Requirement already satisfied: pydantic>=1.9 in /home/ubuntu/.local/lib/python3.10/site-packages (from chromadb) (2.11.7)\n",
      "Requirement already satisfied: overrides>=7.3.1 in /home/ubuntu/.local/lib/python3.10/site-packages (from chromadb) (7.7.0)\n",
      "Requirement already satisfied: pypika>=0.48.9 in /home/ubuntu/.local/lib/python3.10/site-packages (from chromadb) (0.48.9)\n",
      "Requirement already satisfied: posthog<6.0.0,>=2.4.0 in /home/ubuntu/.local/lib/python3.10/site-packages (from chromadb) (5.4.0)\n",
      "Requirement already satisfied: pybase64>=1.4.1 in /home/ubuntu/.local/lib/python3.10/site-packages (from chromadb) (1.4.1)\n",
      "Requirement already satisfied: tomli>=1.1.0 in /home/ubuntu/.local/lib/python3.10/site-packages (from build>=1.0.3->chromadb) (2.2.1)\n",
      "Requirement already satisfied: pyproject_hooks in /home/ubuntu/.local/lib/python3.10/site-packages (from build>=1.0.3->chromadb) (1.2.0)\n",
      "Requirement already satisfied: packaging>=19.1 in /home/ubuntu/.local/lib/python3.10/site-packages (from build>=1.0.3->chromadb) (25.0)\n",
      "Requirement already satisfied: idna in /usr/lib/python3/dist-packages (from httpx>=0.27.0->chromadb) (3.3)\n",
      "Requirement already satisfied: httpcore==1.* in /home/ubuntu/.local/lib/python3.10/site-packages (from httpx>=0.27.0->chromadb) (1.0.9)\n",
      "Requirement already satisfied: anyio in /home/ubuntu/.local/lib/python3.10/site-packages (from httpx>=0.27.0->chromadb) (4.9.0)\n",
      "Requirement already satisfied: certifi in /home/ubuntu/.local/lib/python3.10/site-packages (from httpx>=0.27.0->chromadb) (2025.7.14)\n",
      "Requirement already satisfied: h11>=0.16 in /home/ubuntu/.local/lib/python3.10/site-packages (from httpcore==1.*->httpx>=0.27.0->chromadb) (0.16.0)\n",
      "Requirement already satisfied: jsonschema-specifications>=2023.03.6 in /home/ubuntu/.local/lib/python3.10/site-packages (from jsonschema>=4.19.0->chromadb) (2025.4.1)\n",
      "Requirement already satisfied: referencing>=0.28.4 in /home/ubuntu/.local/lib/python3.10/site-packages (from jsonschema>=4.19.0->chromadb) (0.36.2)\n",
      "Requirement already satisfied: rpds-py>=0.7.1 in /home/ubuntu/.local/lib/python3.10/site-packages (from jsonschema>=4.19.0->chromadb) (0.26.0)\n",
      "Requirement already satisfied: attrs>=22.2.0 in /home/ubuntu/.local/lib/python3.10/site-packages (from jsonschema>=4.19.0->chromadb) (25.3.0)\n",
      "Requirement already satisfied: google-auth>=1.0.1 in /home/ubuntu/.local/lib/python3.10/site-packages (from kubernetes>=28.1.0->chromadb) (2.40.3)\n",
      "Requirement already satisfied: websocket-client!=0.40.0,!=0.41.*,!=0.42.*,>=0.32.0 in /home/ubuntu/.local/lib/python3.10/site-packages (from kubernetes>=28.1.0->chromadb) (1.8.0)\n",
      "Requirement already satisfied: python-dateutil>=2.5.3 in /home/ubuntu/.local/lib/python3.10/site-packages (from kubernetes>=28.1.0->chromadb) (2.9.0.post0)\n",
      "Requirement already satisfied: urllib3>=1.24.2 in /usr/lib/python3/dist-packages (from kubernetes>=28.1.0->chromadb) (1.26.5)\n",
      "Requirement already satisfied: oauthlib>=3.2.2 in /home/ubuntu/.local/lib/python3.10/site-packages (from kubernetes>=28.1.0->chromadb) (3.3.1)\n",
      "Requirement already satisfied: six>=1.9.0 in /usr/lib/python3/dist-packages (from kubernetes>=28.1.0->chromadb) (1.16.0)\n",
      "Requirement already satisfied: requests-oauthlib in /home/ubuntu/.local/lib/python3.10/site-packages (from kubernetes>=28.1.0->chromadb) (2.0.0)\n",
      "Requirement already satisfied: requests in /home/ubuntu/.local/lib/python3.10/site-packages (from kubernetes>=28.1.0->chromadb) (2.32.4)\n",
      "Requirement already satisfied: durationpy>=0.7 in /home/ubuntu/.local/lib/python3.10/site-packages (from kubernetes>=28.1.0->chromadb) (0.10)\n",
      "Requirement already satisfied: coloredlogs in /home/ubuntu/.local/lib/python3.10/site-packages (from onnxruntime>=1.14.1->chromadb) (15.0.1)\n",
      "Requirement already satisfied: flatbuffers in /home/ubuntu/.local/lib/python3.10/site-packages (from onnxruntime>=1.14.1->chromadb) (25.2.10)\n",
      "Requirement already satisfied: protobuf in /home/ubuntu/.local/lib/python3.10/site-packages (from onnxruntime>=1.14.1->chromadb) (6.31.1)\n",
      "Requirement already satisfied: sympy in /home/ubuntu/.local/lib/python3.10/site-packages (from onnxruntime>=1.14.1->chromadb) (1.14.0)\n",
      "Requirement already satisfied: importlib-metadata<8.8.0,>=6.0 in /home/ubuntu/.local/lib/python3.10/site-packages (from opentelemetry-api>=1.2.0->chromadb) (8.7.0)\n",
      "Requirement already satisfied: opentelemetry-exporter-otlp-proto-common==1.35.0 in /home/ubuntu/.local/lib/python3.10/site-packages (from opentelemetry-exporter-otlp-proto-grpc>=1.2.0->chromadb) (1.35.0)\n",
      "Requirement already satisfied: googleapis-common-protos~=1.57 in /home/ubuntu/.local/lib/python3.10/site-packages (from opentelemetry-exporter-otlp-proto-grpc>=1.2.0->chromadb) (1.70.0)\n",
      "Requirement already satisfied: opentelemetry-proto==1.35.0 in /home/ubuntu/.local/lib/python3.10/site-packages (from opentelemetry-exporter-otlp-proto-grpc>=1.2.0->chromadb) (1.35.0)\n",
      "Requirement already satisfied: opentelemetry-semantic-conventions==0.56b0 in /home/ubuntu/.local/lib/python3.10/site-packages (from opentelemetry-sdk>=1.2.0->chromadb) (0.56b0)\n",
      "Requirement already satisfied: distro>=1.5.0 in /usr/lib/python3/dist-packages (from posthog<6.0.0,>=2.4.0->chromadb) (1.7.0)\n",
      "Requirement already satisfied: backoff>=1.10.0 in /home/ubuntu/.local/lib/python3.10/site-packages (from posthog<6.0.0,>=2.4.0->chromadb) (2.2.1)\n",
      "Requirement already satisfied: pydantic-core==2.33.2 in /home/ubuntu/.local/lib/python3.10/site-packages (from pydantic>=1.9->chromadb) (2.33.2)\n",
      "Requirement already satisfied: typing-inspection>=0.4.0 in /home/ubuntu/.local/lib/python3.10/site-packages (from pydantic>=1.9->chromadb) (0.4.1)\n",
      "Requirement already satisfied: annotated-types>=0.6.0 in /home/ubuntu/.local/lib/python3.10/site-packages (from pydantic>=1.9->chromadb) (0.7.0)\n",
      "Requirement already satisfied: pygments<3.0.0,>=2.13.0 in /home/ubuntu/.local/lib/python3.10/site-packages (from rich>=10.11.0->chromadb) (2.19.2)\n",
      "Requirement already satisfied: markdown-it-py>=2.2.0 in /home/ubuntu/.local/lib/python3.10/site-packages (from rich>=10.11.0->chromadb) (3.0.0)\n",
      "Requirement already satisfied: huggingface-hub<1.0,>=0.16.4 in /home/ubuntu/.local/lib/python3.10/site-packages (from tokenizers>=0.13.2->chromadb) (0.33.4)\n",
      "Requirement already satisfied: click>=8.0.0 in /home/ubuntu/.local/lib/python3.10/site-packages (from typer>=0.9.0->chromadb) (8.2.1)\n",
      "Requirement already satisfied: shellingham>=1.3.0 in /home/ubuntu/.local/lib/python3.10/site-packages (from typer>=0.9.0->chromadb) (1.5.4)\n",
      "Requirement already satisfied: httptools>=0.6.3 in /home/ubuntu/.local/lib/python3.10/site-packages (from uvicorn[standard]>=0.18.3->chromadb) (0.6.4)\n",
      "Requirement already satisfied: watchfiles>=0.13 in /home/ubuntu/.local/lib/python3.10/site-packages (from uvicorn[standard]>=0.18.3->chromadb) (1.1.0)\n",
      "Requirement already satisfied: websockets>=10.4 in /home/ubuntu/.local/lib/python3.10/site-packages (from uvicorn[standard]>=0.18.3->chromadb) (15.0.1)\n",
      "Requirement already satisfied: uvloop>=0.15.1 in /home/ubuntu/.local/lib/python3.10/site-packages (from uvicorn[standard]>=0.18.3->chromadb) (0.21.0)\n",
      "Requirement already satisfied: python-dotenv>=0.13 in /home/ubuntu/.local/lib/python3.10/site-packages (from uvicorn[standard]>=0.18.3->chromadb) (1.1.1)\n",
      "Requirement already satisfied: pyasn1-modules>=0.2.1 in /usr/lib/python3/dist-packages (from google-auth>=1.0.1->kubernetes>=28.1.0->chromadb) (0.2.1)\n",
      "Requirement already satisfied: rsa<5,>=3.1.4 in /home/ubuntu/.local/lib/python3.10/site-packages (from google-auth>=1.0.1->kubernetes>=28.1.0->chromadb) (4.9.1)\n",
      "Requirement already satisfied: cachetools<6.0,>=2.0.0 in /home/ubuntu/.local/lib/python3.10/site-packages (from google-auth>=1.0.1->kubernetes>=28.1.0->chromadb) (5.5.2)\n",
      "Requirement already satisfied: filelock in /home/ubuntu/.local/lib/python3.10/site-packages (from huggingface-hub<1.0,>=0.16.4->tokenizers>=0.13.2->chromadb) (3.18.0)\n",
      "Requirement already satisfied: hf-xet<2.0.0,>=1.1.2 in /home/ubuntu/.local/lib/python3.10/site-packages (from huggingface-hub<1.0,>=0.16.4->tokenizers>=0.13.2->chromadb) (1.1.5)\n",
      "Requirement already satisfied: fsspec>=2023.5.0 in /home/ubuntu/.local/lib/python3.10/site-packages (from huggingface-hub<1.0,>=0.16.4->tokenizers>=0.13.2->chromadb) (2025.7.0)\n",
      "Requirement already satisfied: zipp>=3.20 in /home/ubuntu/.local/lib/python3.10/site-packages (from importlib-metadata<8.8.0,>=6.0->opentelemetry-api>=1.2.0->chromadb) (3.23.0)\n",
      "Requirement already satisfied: mdurl~=0.1 in /home/ubuntu/.local/lib/python3.10/site-packages (from markdown-it-py>=2.2.0->rich>=10.11.0->chromadb) (0.1.2)\n",
      "Requirement already satisfied: charset_normalizer<4,>=2 in /home/ubuntu/.local/lib/python3.10/site-packages (from requests->kubernetes>=28.1.0->chromadb) (3.4.2)\n",
      "Requirement already satisfied: sniffio>=1.1 in /home/ubuntu/.local/lib/python3.10/site-packages (from anyio->httpx>=0.27.0->chromadb) (1.3.1)\n",
      "Requirement already satisfied: exceptiongroup>=1.0.2 in /home/ubuntu/.local/lib/python3.10/site-packages (from anyio->httpx>=0.27.0->chromadb) (1.3.0)\n",
      "Requirement already satisfied: humanfriendly>=9.1 in /home/ubuntu/.local/lib/python3.10/site-packages (from coloredlogs->onnxruntime>=1.14.1->chromadb) (10.0)\n",
      "Requirement already satisfied: mpmath<1.4,>=1.1.0 in /home/ubuntu/.local/lib/python3.10/site-packages (from sympy->onnxruntime>=1.14.1->chromadb) (1.3.0)\n",
      "Requirement already satisfied: pyasn1>=0.1.3 in /usr/lib/python3/dist-packages (from rsa<5,>=3.1.4->google-auth>=1.0.1->kubernetes>=28.1.0->chromadb) (0.4.8)\n"
     ]
    }
   ],
   "source": [
    "!pip install -U chromadb"
   ]
  },
  {
   "cell_type": "code",
   "execution_count": 27,
   "metadata": {},
   "outputs": [
    {
     "ename": "ImportError",
     "evalue": "cannot import name 'AttrsInstance' from 'attr' (/usr/lib/python3/dist-packages/attr/__init__.py)",
     "output_type": "error",
     "traceback": [
      "\u001b[0;31m---------------------------------------------------------------------------\u001b[0m",
      "\u001b[0;31mImportError\u001b[0m                               Traceback (most recent call last)",
      "Cell \u001b[0;32mIn[27], line 1\u001b[0m\n\u001b[0;32m----> 1\u001b[0m \u001b[38;5;28;01mimport\u001b[39;00m\u001b[38;5;250m \u001b[39m\u001b[38;5;21;01mchromadb\u001b[39;00m\n\u001b[1;32m      2\u001b[0m \u001b[38;5;28;01mfrom\u001b[39;00m\u001b[38;5;250m \u001b[39m\u001b[38;5;21;01mllama_index\u001b[39;00m\u001b[38;5;21;01m.\u001b[39;00m\u001b[38;5;21;01mvector_stores\u001b[39;00m\u001b[38;5;21;01m.\u001b[39;00m\u001b[38;5;21;01mchroma\u001b[39;00m\u001b[38;5;250m \u001b[39m\u001b[38;5;28;01mimport\u001b[39;00m ChromaVectorStore\n\u001b[1;32m      3\u001b[0m \u001b[38;5;28;01mfrom\u001b[39;00m\u001b[38;5;250m \u001b[39m\u001b[38;5;21;01mllama_index\u001b[39;00m\u001b[38;5;21;01m.\u001b[39;00m\u001b[38;5;21;01mcore\u001b[39;00m\u001b[38;5;250m \u001b[39m\u001b[38;5;28;01mimport\u001b[39;00m StorageContext\n",
      "File \u001b[0;32m~/.local/lib/python3.10/site-packages/chromadb/__init__.py:3\u001b[0m\n\u001b[1;32m      1\u001b[0m \u001b[38;5;28;01mfrom\u001b[39;00m\u001b[38;5;250m \u001b[39m\u001b[38;5;21;01mtyping\u001b[39;00m\u001b[38;5;250m \u001b[39m\u001b[38;5;28;01mimport\u001b[39;00m Dict, Optional, Union\n\u001b[1;32m      2\u001b[0m \u001b[38;5;28;01mimport\u001b[39;00m\u001b[38;5;250m \u001b[39m\u001b[38;5;21;01mlogging\u001b[39;00m\n\u001b[0;32m----> 3\u001b[0m \u001b[38;5;28;01mfrom\u001b[39;00m\u001b[38;5;250m \u001b[39m\u001b[38;5;21;01mchromadb\u001b[39;00m\u001b[38;5;21;01m.\u001b[39;00m\u001b[38;5;21;01mapi\u001b[39;00m\u001b[38;5;21;01m.\u001b[39;00m\u001b[38;5;21;01mclient\u001b[39;00m\u001b[38;5;250m \u001b[39m\u001b[38;5;28;01mimport\u001b[39;00m Client \u001b[38;5;28;01mas\u001b[39;00m ClientCreator\n\u001b[1;32m      4\u001b[0m \u001b[38;5;28;01mfrom\u001b[39;00m\u001b[38;5;250m \u001b[39m\u001b[38;5;21;01mchromadb\u001b[39;00m\u001b[38;5;21;01m.\u001b[39;00m\u001b[38;5;21;01mapi\u001b[39;00m\u001b[38;5;21;01m.\u001b[39;00m\u001b[38;5;21;01mclient\u001b[39;00m\u001b[38;5;250m \u001b[39m\u001b[38;5;28;01mimport\u001b[39;00m AdminClient \u001b[38;5;28;01mas\u001b[39;00m AdminClientCreator\n\u001b[1;32m      5\u001b[0m \u001b[38;5;28;01mfrom\u001b[39;00m\u001b[38;5;250m \u001b[39m\u001b[38;5;21;01mchromadb\u001b[39;00m\u001b[38;5;21;01m.\u001b[39;00m\u001b[38;5;21;01mapi\u001b[39;00m\u001b[38;5;21;01m.\u001b[39;00m\u001b[38;5;21;01masync_client\u001b[39;00m\u001b[38;5;250m \u001b[39m\u001b[38;5;28;01mimport\u001b[39;00m AsyncClient \u001b[38;5;28;01mas\u001b[39;00m AsyncClientCreator\n",
      "File \u001b[0;32m~/.local/lib/python3.10/site-packages/chromadb/api/__init__.py:6\u001b[0m\n\u001b[1;32m      3\u001b[0m \u001b[38;5;28;01mfrom\u001b[39;00m\u001b[38;5;250m \u001b[39m\u001b[38;5;21;01muuid\u001b[39;00m\u001b[38;5;250m \u001b[39m\u001b[38;5;28;01mimport\u001b[39;00m UUID\n\u001b[1;32m      5\u001b[0m \u001b[38;5;28;01mfrom\u001b[39;00m\u001b[38;5;250m \u001b[39m\u001b[38;5;21;01moverrides\u001b[39;00m\u001b[38;5;250m \u001b[39m\u001b[38;5;28;01mimport\u001b[39;00m override\n\u001b[0;32m----> 6\u001b[0m \u001b[38;5;28;01mfrom\u001b[39;00m\u001b[38;5;250m \u001b[39m\u001b[38;5;21;01mchromadb\u001b[39;00m\u001b[38;5;21;01m.\u001b[39;00m\u001b[38;5;21;01mapi\u001b[39;00m\u001b[38;5;21;01m.\u001b[39;00m\u001b[38;5;21;01mcollection_configuration\u001b[39;00m\u001b[38;5;250m \u001b[39m\u001b[38;5;28;01mimport\u001b[39;00m (\n\u001b[1;32m      7\u001b[0m     CreateCollectionConfiguration,\n\u001b[1;32m      8\u001b[0m     UpdateCollectionConfiguration,\n\u001b[1;32m      9\u001b[0m )\n\u001b[1;32m     10\u001b[0m \u001b[38;5;28;01mfrom\u001b[39;00m\u001b[38;5;250m \u001b[39m\u001b[38;5;21;01mchromadb\u001b[39;00m\u001b[38;5;21;01m.\u001b[39;00m\u001b[38;5;21;01mconfig\u001b[39;00m\u001b[38;5;250m \u001b[39m\u001b[38;5;28;01mimport\u001b[39;00m DEFAULT_DATABASE, DEFAULT_TENANT\n\u001b[1;32m     11\u001b[0m \u001b[38;5;28;01mfrom\u001b[39;00m\u001b[38;5;250m \u001b[39m\u001b[38;5;21;01mchromadb\u001b[39;00m\u001b[38;5;21;01m.\u001b[39;00m\u001b[38;5;21;01mapi\u001b[39;00m\u001b[38;5;21;01m.\u001b[39;00m\u001b[38;5;21;01mtypes\u001b[39;00m\u001b[38;5;250m \u001b[39m\u001b[38;5;28;01mimport\u001b[39;00m (\n\u001b[1;32m     12\u001b[0m     CollectionMetadata,\n\u001b[1;32m     13\u001b[0m     Documents,\n\u001b[0;32m   (...)\u001b[0m\n\u001b[1;32m     28\u001b[0m     WhereDocument,\n\u001b[1;32m     29\u001b[0m )\n",
      "File \u001b[0;32m~/.local/lib/python3.10/site-packages/chromadb/api/collection_configuration.py:9\u001b[0m\n\u001b[1;32m      2\u001b[0m \u001b[38;5;28;01mimport\u001b[39;00m\u001b[38;5;250m \u001b[39m\u001b[38;5;21;01mjson\u001b[39;00m\n\u001b[1;32m      3\u001b[0m \u001b[38;5;28;01mfrom\u001b[39;00m\u001b[38;5;250m \u001b[39m\u001b[38;5;21;01mchromadb\u001b[39;00m\u001b[38;5;21;01m.\u001b[39;00m\u001b[38;5;21;01mapi\u001b[39;00m\u001b[38;5;21;01m.\u001b[39;00m\u001b[38;5;21;01mtypes\u001b[39;00m\u001b[38;5;250m \u001b[39m\u001b[38;5;28;01mimport\u001b[39;00m (\n\u001b[1;32m      4\u001b[0m     Space,\n\u001b[1;32m      5\u001b[0m     CollectionMetadata,\n\u001b[1;32m      6\u001b[0m     UpdateMetadata,\n\u001b[1;32m      7\u001b[0m     EmbeddingFunction,\n\u001b[1;32m      8\u001b[0m )\n\u001b[0;32m----> 9\u001b[0m \u001b[38;5;28;01mfrom\u001b[39;00m\u001b[38;5;250m \u001b[39m\u001b[38;5;21;01mchromadb\u001b[39;00m\u001b[38;5;21;01m.\u001b[39;00m\u001b[38;5;21;01mutils\u001b[39;00m\u001b[38;5;21;01m.\u001b[39;00m\u001b[38;5;21;01membedding_functions\u001b[39;00m\u001b[38;5;250m \u001b[39m\u001b[38;5;28;01mimport\u001b[39;00m (\n\u001b[1;32m     10\u001b[0m     known_embedding_functions,\n\u001b[1;32m     11\u001b[0m     register_embedding_function,\n\u001b[1;32m     12\u001b[0m )\n\u001b[1;32m     13\u001b[0m \u001b[38;5;28;01mfrom\u001b[39;00m\u001b[38;5;250m \u001b[39m\u001b[38;5;21;01mmultiprocessing\u001b[39;00m\u001b[38;5;250m \u001b[39m\u001b[38;5;28;01mimport\u001b[39;00m cpu_count\n\u001b[1;32m     14\u001b[0m \u001b[38;5;28;01mimport\u001b[39;00m\u001b[38;5;250m \u001b[39m\u001b[38;5;21;01mwarnings\u001b[39;00m\n",
      "File \u001b[0;32m~/.local/lib/python3.10/site-packages/chromadb/utils/embedding_functions/__init__.py:9\u001b[0m\n\u001b[1;32m      2\u001b[0m \u001b[38;5;28;01mfrom\u001b[39;00m\u001b[38;5;250m \u001b[39m\u001b[38;5;21;01mchromadb\u001b[39;00m\u001b[38;5;21;01m.\u001b[39;00m\u001b[38;5;21;01mapi\u001b[39;00m\u001b[38;5;21;01m.\u001b[39;00m\u001b[38;5;21;01mtypes\u001b[39;00m\u001b[38;5;250m \u001b[39m\u001b[38;5;28;01mimport\u001b[39;00m (\n\u001b[1;32m      3\u001b[0m     EmbeddingFunction,\n\u001b[1;32m      4\u001b[0m     Embeddings,\n\u001b[1;32m      5\u001b[0m     Documents,\n\u001b[1;32m      6\u001b[0m )\n\u001b[1;32m      8\u001b[0m \u001b[38;5;66;03m# Import all embedding functions\u001b[39;00m\n\u001b[0;32m----> 9\u001b[0m \u001b[38;5;28;01mfrom\u001b[39;00m\u001b[38;5;250m \u001b[39m\u001b[38;5;21;01mchromadb\u001b[39;00m\u001b[38;5;21;01m.\u001b[39;00m\u001b[38;5;21;01mutils\u001b[39;00m\u001b[38;5;21;01m.\u001b[39;00m\u001b[38;5;21;01membedding_functions\u001b[39;00m\u001b[38;5;21;01m.\u001b[39;00m\u001b[38;5;21;01mcohere_embedding_function\u001b[39;00m\u001b[38;5;250m \u001b[39m\u001b[38;5;28;01mimport\u001b[39;00m (\n\u001b[1;32m     10\u001b[0m     CohereEmbeddingFunction,\n\u001b[1;32m     11\u001b[0m )\n\u001b[1;32m     12\u001b[0m \u001b[38;5;28;01mfrom\u001b[39;00m\u001b[38;5;250m \u001b[39m\u001b[38;5;21;01mchromadb\u001b[39;00m\u001b[38;5;21;01m.\u001b[39;00m\u001b[38;5;21;01mutils\u001b[39;00m\u001b[38;5;21;01m.\u001b[39;00m\u001b[38;5;21;01membedding_functions\u001b[39;00m\u001b[38;5;21;01m.\u001b[39;00m\u001b[38;5;21;01mopenai_embedding_function\u001b[39;00m\u001b[38;5;250m \u001b[39m\u001b[38;5;28;01mimport\u001b[39;00m (\n\u001b[1;32m     13\u001b[0m     OpenAIEmbeddingFunction,\n\u001b[1;32m     14\u001b[0m )\n\u001b[1;32m     15\u001b[0m \u001b[38;5;28;01mfrom\u001b[39;00m\u001b[38;5;250m \u001b[39m\u001b[38;5;21;01mchromadb\u001b[39;00m\u001b[38;5;21;01m.\u001b[39;00m\u001b[38;5;21;01mutils\u001b[39;00m\u001b[38;5;21;01m.\u001b[39;00m\u001b[38;5;21;01membedding_functions\u001b[39;00m\u001b[38;5;21;01m.\u001b[39;00m\u001b[38;5;21;01mhuggingface_embedding_function\u001b[39;00m\u001b[38;5;250m \u001b[39m\u001b[38;5;28;01mimport\u001b[39;00m (\n\u001b[1;32m     16\u001b[0m     HuggingFaceEmbeddingFunction,\n\u001b[1;32m     17\u001b[0m     HuggingFaceEmbeddingServer,\n\u001b[1;32m     18\u001b[0m )\n",
      "File \u001b[0;32m~/.local/lib/python3.10/site-packages/chromadb/utils/embedding_functions/cohere_embedding_function.py:12\u001b[0m\n\u001b[1;32m     10\u001b[0m \u001b[38;5;28;01mimport\u001b[39;00m\u001b[38;5;250m \u001b[39m\u001b[38;5;21;01mos\u001b[39;00m\n\u001b[1;32m     11\u001b[0m \u001b[38;5;28;01mimport\u001b[39;00m\u001b[38;5;250m \u001b[39m\u001b[38;5;21;01mnumpy\u001b[39;00m\u001b[38;5;250m \u001b[39m\u001b[38;5;28;01mas\u001b[39;00m\u001b[38;5;250m \u001b[39m\u001b[38;5;21;01mnp\u001b[39;00m\n\u001b[0;32m---> 12\u001b[0m \u001b[38;5;28;01mfrom\u001b[39;00m\u001b[38;5;250m \u001b[39m\u001b[38;5;21;01mchromadb\u001b[39;00m\u001b[38;5;21;01m.\u001b[39;00m\u001b[38;5;21;01mutils\u001b[39;00m\u001b[38;5;21;01m.\u001b[39;00m\u001b[38;5;21;01membedding_functions\u001b[39;00m\u001b[38;5;21;01m.\u001b[39;00m\u001b[38;5;21;01mschemas\u001b[39;00m\u001b[38;5;250m \u001b[39m\u001b[38;5;28;01mimport\u001b[39;00m validate_config_schema\n\u001b[1;32m     13\u001b[0m \u001b[38;5;28;01mimport\u001b[39;00m\u001b[38;5;250m \u001b[39m\u001b[38;5;21;01mbase64\u001b[39;00m\n\u001b[1;32m     14\u001b[0m \u001b[38;5;28;01mimport\u001b[39;00m\u001b[38;5;250m \u001b[39m\u001b[38;5;21;01mio\u001b[39;00m\n",
      "File \u001b[0;32m~/.local/lib/python3.10/site-packages/chromadb/utils/embedding_functions/schemas/__init__.py:1\u001b[0m\n\u001b[0;32m----> 1\u001b[0m \u001b[38;5;28;01mfrom\u001b[39;00m\u001b[38;5;250m \u001b[39m\u001b[38;5;21;01mchromadb\u001b[39;00m\u001b[38;5;21;01m.\u001b[39;00m\u001b[38;5;21;01mutils\u001b[39;00m\u001b[38;5;21;01m.\u001b[39;00m\u001b[38;5;21;01membedding_functions\u001b[39;00m\u001b[38;5;21;01m.\u001b[39;00m\u001b[38;5;21;01mschemas\u001b[39;00m\u001b[38;5;21;01m.\u001b[39;00m\u001b[38;5;21;01mschema_utils\u001b[39;00m\u001b[38;5;250m \u001b[39m\u001b[38;5;28;01mimport\u001b[39;00m (\n\u001b[1;32m      2\u001b[0m     validate_config_schema,\n\u001b[1;32m      3\u001b[0m     load_schema,\n\u001b[1;32m      4\u001b[0m     get_schema_version,\n\u001b[1;32m      5\u001b[0m )\n\u001b[1;32m      6\u001b[0m \u001b[38;5;28;01mfrom\u001b[39;00m\u001b[38;5;250m \u001b[39m\u001b[38;5;21;01mchromadb\u001b[39;00m\u001b[38;5;21;01m.\u001b[39;00m\u001b[38;5;21;01mutils\u001b[39;00m\u001b[38;5;21;01m.\u001b[39;00m\u001b[38;5;21;01membedding_functions\u001b[39;00m\u001b[38;5;21;01m.\u001b[39;00m\u001b[38;5;21;01mschemas\u001b[39;00m\u001b[38;5;21;01m.\u001b[39;00m\u001b[38;5;21;01mregistry\u001b[39;00m\u001b[38;5;250m \u001b[39m\u001b[38;5;28;01mimport\u001b[39;00m (\n\u001b[1;32m      7\u001b[0m     get_available_schemas,\n\u001b[1;32m      8\u001b[0m     get_schema_info,\n\u001b[1;32m      9\u001b[0m     get_embedding_function_names,\n\u001b[1;32m     10\u001b[0m )\n\u001b[1;32m     12\u001b[0m __all__ \u001b[38;5;241m=\u001b[39m [\n\u001b[1;32m     13\u001b[0m     \u001b[38;5;124m\"\u001b[39m\u001b[38;5;124mvalidate_config_schema\u001b[39m\u001b[38;5;124m\"\u001b[39m,\n\u001b[1;32m     14\u001b[0m     \u001b[38;5;124m\"\u001b[39m\u001b[38;5;124mload_schema\u001b[39m\u001b[38;5;124m\"\u001b[39m,\n\u001b[0;32m   (...)\u001b[0m\n\u001b[1;32m     18\u001b[0m     \u001b[38;5;124m\"\u001b[39m\u001b[38;5;124mget_embedding_function_names\u001b[39m\u001b[38;5;124m\"\u001b[39m,\n\u001b[1;32m     19\u001b[0m ]\n",
      "File \u001b[0;32m~/.local/lib/python3.10/site-packages/chromadb/utils/embedding_functions/schemas/schema_utils.py:4\u001b[0m\n\u001b[1;32m      2\u001b[0m \u001b[38;5;28;01mimport\u001b[39;00m\u001b[38;5;250m \u001b[39m\u001b[38;5;21;01mos\u001b[39;00m\n\u001b[1;32m      3\u001b[0m \u001b[38;5;28;01mfrom\u001b[39;00m\u001b[38;5;250m \u001b[39m\u001b[38;5;21;01mtyping\u001b[39;00m\u001b[38;5;250m \u001b[39m\u001b[38;5;28;01mimport\u001b[39;00m Dict, Any, cast\n\u001b[0;32m----> 4\u001b[0m \u001b[38;5;28;01mimport\u001b[39;00m\u001b[38;5;250m \u001b[39m\u001b[38;5;21;01mjsonschema\u001b[39;00m\n\u001b[1;32m      5\u001b[0m \u001b[38;5;28;01mfrom\u001b[39;00m\u001b[38;5;250m \u001b[39m\u001b[38;5;21;01mjsonschema\u001b[39;00m\u001b[38;5;250m \u001b[39m\u001b[38;5;28;01mimport\u001b[39;00m ValidationError\n\u001b[1;32m      7\u001b[0m \u001b[38;5;66;03m# Path to the schemas directory\u001b[39;00m\n",
      "File \u001b[0;32m~/.local/lib/python3.10/site-packages/jsonschema/__init__.py:13\u001b[0m\n\u001b[1;32m      1\u001b[0m \u001b[38;5;124;03m\"\"\"\u001b[39;00m\n\u001b[1;32m      2\u001b[0m \u001b[38;5;124;03mAn implementation of JSON Schema for Python.\u001b[39;00m\n\u001b[1;32m      3\u001b[0m \n\u001b[0;32m   (...)\u001b[0m\n\u001b[1;32m      9\u001b[0m \u001b[38;5;124;03mfor you.\u001b[39;00m\n\u001b[1;32m     10\u001b[0m \u001b[38;5;124;03m\"\"\"\u001b[39;00m\n\u001b[1;32m     11\u001b[0m \u001b[38;5;28;01mimport\u001b[39;00m\u001b[38;5;250m \u001b[39m\u001b[38;5;21;01mwarnings\u001b[39;00m\n\u001b[0;32m---> 13\u001b[0m \u001b[38;5;28;01mfrom\u001b[39;00m\u001b[38;5;250m \u001b[39m\u001b[38;5;21;01mjsonschema\u001b[39;00m\u001b[38;5;21;01m.\u001b[39;00m\u001b[38;5;21;01m_format\u001b[39;00m\u001b[38;5;250m \u001b[39m\u001b[38;5;28;01mimport\u001b[39;00m FormatChecker\n\u001b[1;32m     14\u001b[0m \u001b[38;5;28;01mfrom\u001b[39;00m\u001b[38;5;250m \u001b[39m\u001b[38;5;21;01mjsonschema\u001b[39;00m\u001b[38;5;21;01m.\u001b[39;00m\u001b[38;5;21;01m_types\u001b[39;00m\u001b[38;5;250m \u001b[39m\u001b[38;5;28;01mimport\u001b[39;00m TypeChecker\n\u001b[1;32m     15\u001b[0m \u001b[38;5;28;01mfrom\u001b[39;00m\u001b[38;5;250m \u001b[39m\u001b[38;5;21;01mjsonschema\u001b[39;00m\u001b[38;5;21;01m.\u001b[39;00m\u001b[38;5;21;01mexceptions\u001b[39;00m\u001b[38;5;250m \u001b[39m\u001b[38;5;28;01mimport\u001b[39;00m SchemaError, ValidationError\n",
      "File \u001b[0;32m~/.local/lib/python3.10/site-packages/jsonschema/_format.py:11\u001b[0m\n\u001b[1;32m      8\u001b[0m \u001b[38;5;28;01mimport\u001b[39;00m\u001b[38;5;250m \u001b[39m\u001b[38;5;21;01mtyping\u001b[39;00m\n\u001b[1;32m      9\u001b[0m \u001b[38;5;28;01mimport\u001b[39;00m\u001b[38;5;250m \u001b[39m\u001b[38;5;21;01mwarnings\u001b[39;00m\n\u001b[0;32m---> 11\u001b[0m \u001b[38;5;28;01mfrom\u001b[39;00m\u001b[38;5;250m \u001b[39m\u001b[38;5;21;01mjsonschema\u001b[39;00m\u001b[38;5;21;01m.\u001b[39;00m\u001b[38;5;21;01mexceptions\u001b[39;00m\u001b[38;5;250m \u001b[39m\u001b[38;5;28;01mimport\u001b[39;00m FormatError\n\u001b[1;32m     13\u001b[0m _FormatCheckCallable \u001b[38;5;241m=\u001b[39m typing\u001b[38;5;241m.\u001b[39mCallable[[\u001b[38;5;28mobject\u001b[39m], \u001b[38;5;28mbool\u001b[39m]\n\u001b[1;32m     14\u001b[0m \u001b[38;5;66;03m#: A format checker callable.\u001b[39;00m\n",
      "File \u001b[0;32m~/.local/lib/python3.10/site-packages/jsonschema/exceptions.py:14\u001b[0m\n\u001b[1;32m     11\u001b[0m \u001b[38;5;28;01mimport\u001b[39;00m\u001b[38;5;250m \u001b[39m\u001b[38;5;21;01mre\u001b[39;00m\n\u001b[1;32m     12\u001b[0m \u001b[38;5;28;01mimport\u001b[39;00m\u001b[38;5;250m \u001b[39m\u001b[38;5;21;01mwarnings\u001b[39;00m\n\u001b[0;32m---> 14\u001b[0m \u001b[38;5;28;01mfrom\u001b[39;00m\u001b[38;5;250m \u001b[39m\u001b[38;5;21;01mattrs\u001b[39;00m\u001b[38;5;250m \u001b[39m\u001b[38;5;28;01mimport\u001b[39;00m define\n\u001b[1;32m     15\u001b[0m \u001b[38;5;28;01mfrom\u001b[39;00m\u001b[38;5;250m \u001b[39m\u001b[38;5;21;01mreferencing\u001b[39;00m\u001b[38;5;21;01m.\u001b[39;00m\u001b[38;5;21;01mexceptions\u001b[39;00m\u001b[38;5;250m \u001b[39m\u001b[38;5;28;01mimport\u001b[39;00m Unresolvable \u001b[38;5;28;01mas\u001b[39;00m _Unresolvable\n\u001b[1;32m     17\u001b[0m \u001b[38;5;28;01mfrom\u001b[39;00m\u001b[38;5;250m \u001b[39m\u001b[38;5;21;01mjsonschema\u001b[39;00m\u001b[38;5;250m \u001b[39m\u001b[38;5;28;01mimport\u001b[39;00m _utils\n",
      "File \u001b[0;32m~/.local/lib/python3.10/site-packages/attrs/__init__.py:3\u001b[0m\n\u001b[1;32m      1\u001b[0m \u001b[38;5;66;03m# SPDX-License-Identifier: MIT\u001b[39;00m\n\u001b[0;32m----> 3\u001b[0m \u001b[38;5;28;01mfrom\u001b[39;00m\u001b[38;5;250m \u001b[39m\u001b[38;5;21;01mattr\u001b[39;00m\u001b[38;5;250m \u001b[39m\u001b[38;5;28;01mimport\u001b[39;00m (\n\u001b[1;32m      4\u001b[0m     NOTHING,\n\u001b[1;32m      5\u001b[0m     Attribute,\n\u001b[1;32m      6\u001b[0m     AttrsInstance,\n\u001b[1;32m      7\u001b[0m     Converter,\n\u001b[1;32m      8\u001b[0m     Factory,\n\u001b[1;32m      9\u001b[0m     NothingType,\n\u001b[1;32m     10\u001b[0m     _make_getattr,\n\u001b[1;32m     11\u001b[0m     assoc,\n\u001b[1;32m     12\u001b[0m     cmp_using,\n\u001b[1;32m     13\u001b[0m     define,\n\u001b[1;32m     14\u001b[0m     evolve,\n\u001b[1;32m     15\u001b[0m     field,\n\u001b[1;32m     16\u001b[0m     fields,\n\u001b[1;32m     17\u001b[0m     fields_dict,\n\u001b[1;32m     18\u001b[0m     frozen,\n\u001b[1;32m     19\u001b[0m     has,\n\u001b[1;32m     20\u001b[0m     make_class,\n\u001b[1;32m     21\u001b[0m     mutable,\n\u001b[1;32m     22\u001b[0m     resolve_types,\n\u001b[1;32m     23\u001b[0m     validate,\n\u001b[1;32m     24\u001b[0m )\n\u001b[1;32m     25\u001b[0m \u001b[38;5;28;01mfrom\u001b[39;00m\u001b[38;5;250m \u001b[39m\u001b[38;5;21;01mattr\u001b[39;00m\u001b[38;5;21;01m.\u001b[39;00m\u001b[38;5;21;01m_next_gen\u001b[39;00m\u001b[38;5;250m \u001b[39m\u001b[38;5;28;01mimport\u001b[39;00m asdict, astuple\n\u001b[1;32m     27\u001b[0m \u001b[38;5;28;01mfrom\u001b[39;00m\u001b[38;5;250m \u001b[39m\u001b[38;5;21;01m.\u001b[39;00m\u001b[38;5;250m \u001b[39m\u001b[38;5;28;01mimport\u001b[39;00m converters, exceptions, filters, setters, validators\n",
      "\u001b[0;31mImportError\u001b[0m: cannot import name 'AttrsInstance' from 'attr' (/usr/lib/python3/dist-packages/attr/__init__.py)"
     ]
    }
   ],
   "source": [
    "import chromadb\n",
    "from llama_index.vector_stores.chroma import ChromaVectorStore\n",
    "from llama_index.core import StorageContext\n",
    "\n",
    "chroma_client = chromadb.PersistentClient()\n",
    "chroma_collection = chroma_client.create_collection(\"novels\")\n",
    "vector_store = ChromaVectorStore(chroma_collection=chroma_collection)\n",
    "storage_context = StorageContext.from_defaults(vector_store=vector_store)"
   ]
  },
  {
   "cell_type": "code",
   "execution_count": null,
   "metadata": {},
   "outputs": [
    {
     "name": "stdout",
     "output_type": "stream",
     "text": [
      "아카키는 사무실에서 서기로서 같은 업무를 반복하며 종이를 받아 글씨를 써내려가는 일을 했습니다. 그는 자신의 직위와 관계없이 주어진 서류를 바라보며 일을 맡았고, 상관들에게는 냉정하게 대우받았습니다.\n"
     ]
    }
   ],
   "source": [
    "from llama_index.core import VectorStoreIndex, SimpleDirectoryReader\n",
    "\n",
    "documents = SimpleDirectoryReader(\"data\").load_data()\n",
    "index = VectorStoreIndex.from_documents(\n",
    "    documents, storage_context=storage_context\n",
    ")\n",
    "query_engine = index.as_query_engine()\n",
    "response = query_engine.query(\"아카키가 사무실에서 하는 일은 무엇이었나? 한국어로 답하세요.\")\n",
    "print(response)"
   ]
  },
  {
   "cell_type": "code",
   "execution_count": null,
   "metadata": {},
   "outputs": [
    {
     "name": "stdout",
     "output_type": "stream",
     "text": [
      "소년과 소녀는 개울가에서 처음 만났습니다.\n"
     ]
    }
   ],
   "source": [
    "from llama_index.core import VectorStoreIndex, SimpleDirectoryReader\n",
    "\n",
    "documents = SimpleDirectoryReader(\"data\").load_data()\n",
    "index = VectorStoreIndex.from_documents(documents)\n",
    "query_engine = index.as_query_engine(similarity_top_k=5)\n",
    "response = query_engine.query(\"소년과 소녀는 어디에서 처음 만났나? 한국어로 답하세요.\")\n",
    "print(response)"
   ]
  },
  {
   "cell_type": "code",
   "execution_count": null,
   "metadata": {},
   "outputs": [
    {
     "name": "stdout",
     "output_type": "stream",
     "text": [
      "'외투'는 주인공 아까끼 아까끼예비치가 자신의 낡은 외투를 수선하려고 하는 이야기로 시작됩니다. 그는 자신의 외투가 낡고 구멍이 나서 수선이 필요하다고 생각하지만, 수선비용이 부담스러워 새로운 외투를 맞추는 것이 더 나을지 고민합니다. 그의 동료인 뻬뜨로비치는 외투를 새로 맞추라고 권유하며, 그 과정에서 아까끼의 경제적 어려움과 사회적 지위를 드러냅니다. 아까끼는 외투를 새로 맞추는 것이 불가능하다고 느끼고, 자신의 처지를 한탄하게 됩니다. 결국, 외투는 단순한 의복을 넘어 아까끼의 삶과 정체성을 상징하게 되며, 그의 고난과 사회적 고립을 반영하는 중요한 요소로 작용합니다. 이야기는 아까끼가 외투를 통해 겪는 갈등과 그로 인해 발생하는 비극적인 상황을 중심으로 전개됩니다.\n"
     ]
    }
   ],
   "source": [
    "from llama_index.core import VectorStoreIndex, SimpleDirectoryReader\n",
    "\n",
    "documents = SimpleDirectoryReader(\"data\").load_data()\n",
    "index = VectorStoreIndex.from_documents(documents)\n",
    "query_engine = index.as_query_engine(response_mode=\"tree_summarize\")\n",
    "response = query_engine.query(\"'외투'의 줄거리를 전체적으로, 한국어로 설명해줘.\")\n",
    "print(response)"
   ]
  },
  {
   "cell_type": "code",
   "execution_count": null,
   "metadata": {},
   "outputs": [
    {
     "name": "stdout",
     "output_type": "stream",
     "text": [
      "소녀는 소년에게 비단조개를 보여주며 그 이름이 참 곱다고 말했습니다."
     ]
    }
   ],
   "source": [
    "from llama_index.core import VectorStoreIndex, SimpleDirectoryReader\n",
    "\n",
    "documents = SimpleDirectoryReader(\"data\").load_data()\n",
    "index = VectorStoreIndex.from_documents(documents)\n",
    "query_engine = index.as_query_engine(streaming=True)\n",
    "response = query_engine.query(\"소녀는 소년에게 무엇을 주었나?\")\n",
    "response.print_response_stream()"
   ]
  },
  {
   "cell_type": "code",
   "execution_count": null,
   "metadata": {},
   "outputs": [
    {
     "name": "stderr",
     "output_type": "stream",
     "text": [
      "/home/ubuntu/.local/lib/python3.10/site-packages/llama_index/agent/openai/base.py:144: DeprecationWarning: Call to deprecated class OpenAIAgent. (OpenAIAgent has been deprecated and is not maintained.\n",
      "\n",
      "`FunctionAgent` is the recommended replacement.\n",
      "\n",
      "See the docs for more information on updated agent usage: https://docs.llamaindex.ai/en/stable/understanding/agent/)\n",
      "  return cls(\n",
      "/home/ubuntu/.local/lib/python3.10/site-packages/deprecated/classic.py:184: DeprecationWarning: Call to deprecated class AgentRunner. (AgentRunner has been deprecated and is not maintained.\n",
      "\n",
      "This implementation will be removed in a v0.13.0.\n",
      "\n",
      "See the docs for more information on updated agent usage: https://docs.llamaindex.ai/en/stable/understanding/agent/)\n",
      "  return old_new1(cls, *args, **kwargs)\n",
      "/home/ubuntu/.local/lib/python3.10/site-packages/llama_index/agent/openai/step.py:213: DeprecationWarning: Call to deprecated class OpenAIAgentWorker. (OpenAIAgentWorker has been deprecated and is not maintained.\n",
      "\n",
      "`FunctionAgent` is the recommended replacement.\n",
      "\n",
      "See the docs for more information on updated agent usage: https://docs.llamaindex.ai/en/stable/understanding/agent/)\n",
      "  return cls(\n"
     ]
    },
    {
     "name": "stdout",
     "output_type": "stream",
     "text": [
      "소년과 소녀는 처음 만난 장소에 대한 구체적인 이야기나 전설은 없지만, 그들의 만남은 자연 속에서 이루어졌습니다. 소년이 소녀를 발견하고 달리기를 시작하는 장면이 그들의 첫 만남을 묘사하고 있습니다.\n",
      "소녀는 소년에게 \"얘, 이게 무슨 조개지?\"라고 말했습니다.\n"
     ]
    }
   ],
   "source": [
    "from llama_index.core import VectorStoreIndex, SimpleDirectoryReader\n",
    "\n",
    "documents = SimpleDirectoryReader(\"data\").load_data()\n",
    "index = VectorStoreIndex.from_documents(documents)\n",
    "query_engine = index.as_chat_engine()\n",
    "response = query_engine.chat(\"소년과 소녀는 어디에서 처음 만났지? 한국어로 대답해줘.\")\n",
    "print(response)\n",
    "\n",
    "response = query_engine.chat(\"소녀는 그때 뭐라고 말했어? 한국어로 대답해줘.\")\n",
    "print(response)"
   ]
  }
 ],
 "metadata": {
  "kernelspec": {
   "display_name": "Python 3",
   "language": "python",
   "name": "python3"
  },
  "language_info": {
   "codemirror_mode": {
    "name": "ipython",
    "version": 3
   },
   "file_extension": ".py",
   "mimetype": "text/x-python",
   "name": "python",
   "nbconvert_exporter": "python",
   "pygments_lexer": "ipython3",
   "version": "3.10.12"
  }
 },
 "nbformat": 4,
 "nbformat_minor": 2
}
