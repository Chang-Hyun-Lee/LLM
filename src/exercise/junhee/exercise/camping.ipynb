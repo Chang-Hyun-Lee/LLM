{
 "cells": [
  {
   "cell_type": "code",
   "execution_count": 1,
   "id": "c7b7ece3-d09c-430c-9496-93086756d69e",
   "metadata": {},
   "outputs": [],
   "source": [
    "# https://www.data.go.kr/data/15101933/openapi.do 고캠핑 API"
   ]
  },
  {
   "cell_type": "code",
   "execution_count": 2,
   "id": "96343cfc-f053-4f64-9536-9e366571666e",
   "metadata": {},
   "outputs": [],
   "source": [
    "import os\n",
    "ServiceKey = os.getenv(\"GOCAMPING_SERVICE_KEY\")"
   ]
  },
  {
   "cell_type": "code",
   "execution_count": 3,
   "id": "58bf5c85-8c0b-44cf-a642-7e98c64305d9",
   "metadata": {},
   "outputs": [
    {
     "name": "stdout",
     "output_type": "stream",
     "text": [
      "%EA%B3%84%EA%B3%A1\n"
     ]
    }
   ],
   "source": [
    "from urllib.parse import quote\n",
    "\n",
    "KeyWord = quote(\"계곡\")\n",
    "print(KeyWord)"
   ]
  },
  {
   "cell_type": "code",
   "execution_count": 4,
   "id": "911444e6-6694-4cbd-9f07-2fe672147ca3",
   "metadata": {},
   "outputs": [],
   "source": [
    "url = f\"http://apis.data.go.kr/B551011/GoCamping/searchList?serviceKey={ServiceKey}&keyword={KeyWord}&numOfRows=10&pageNo=1&MobileOS=ETC&MobileApp=TestApp&_type=json\""
   ]
  },
  {
   "cell_type": "code",
   "execution_count": 5,
   "id": "06e3063a-93b2-480b-a53b-db66ae1ce7d3",
   "metadata": {},
   "outputs": [
    {
     "name": "stdout",
     "output_type": "stream",
     "text": [
      "<OpenAPI_ServiceResponse>\n",
      "\t<cmmMsgHeader>\n",
      "\t\t<errMsg>SERVICE ERROR</errMsg>\n",
      "\t\t<returnAuthMsg>SERVICE_KEY_IS_NOT_REGISTERED_ERROR</returnAuthMsg>\n",
      "\t\t<returnReasonCode>30</returnReasonCode>\n",
      "\t</cmmMsgHeader>\n",
      "</OpenAPI_ServiceResponse>\n"
     ]
    }
   ],
   "source": [
    "import requests\n",
    "\n",
    "def get_url_content(url):\n",
    "    try:\n",
    "        response = requests.get(url)\n",
    "        if response.status_code == 200:\n",
    "            return response.text\n",
    "        else:\n",
    "            response.raise_for_status()\n",
    "\n",
    "    except requests.exceptions.RequestException as e:\n",
    "        print(f\"Request Exception: {e}\")\n",
    "        return None\n",
    "\n",
    "result = get_url_content(url)\n",
    "if result is not None:\n",
    "    print(result)\n",
    "else:\n",
    "    print(\"Failed to retrieve URL content.\")"
   ]
  },
  {
   "cell_type": "code",
   "execution_count": 6,
   "id": "d9176bd8-d696-44b8-bb3b-346602139300",
   "metadata": {},
   "outputs": [
    {
     "ename": "JSONDecodeError",
     "evalue": "Expecting value: line 1 column 1 (char 0)",
     "output_type": "error",
     "traceback": [
      "\u001b[0;31m---------------------------------------------------------------------------\u001b[0m",
      "\u001b[0;31mJSONDecodeError\u001b[0m                           Traceback (most recent call last)",
      "Cell \u001b[0;32mIn[6], line 3\u001b[0m\n\u001b[1;32m      1\u001b[0m \u001b[38;5;28;01mimport\u001b[39;00m\u001b[38;5;250m \u001b[39m\u001b[38;5;21;01mjson\u001b[39;00m\n\u001b[0;32m----> 3\u001b[0m data \u001b[38;5;241m=\u001b[39m \u001b[43mjson\u001b[49m\u001b[38;5;241;43m.\u001b[39;49m\u001b[43mloads\u001b[49m\u001b[43m(\u001b[49m\u001b[43mresult\u001b[49m\u001b[43m)\u001b[49m\n\u001b[1;32m      4\u001b[0m data\n",
      "File \u001b[0;32m/usr/lib/python3.10/json/__init__.py:346\u001b[0m, in \u001b[0;36mloads\u001b[0;34m(s, cls, object_hook, parse_float, parse_int, parse_constant, object_pairs_hook, **kw)\u001b[0m\n\u001b[1;32m    341\u001b[0m     s \u001b[38;5;241m=\u001b[39m s\u001b[38;5;241m.\u001b[39mdecode(detect_encoding(s), \u001b[38;5;124m'\u001b[39m\u001b[38;5;124msurrogatepass\u001b[39m\u001b[38;5;124m'\u001b[39m)\n\u001b[1;32m    343\u001b[0m \u001b[38;5;28;01mif\u001b[39;00m (\u001b[38;5;28mcls\u001b[39m \u001b[38;5;129;01mis\u001b[39;00m \u001b[38;5;28;01mNone\u001b[39;00m \u001b[38;5;129;01mand\u001b[39;00m object_hook \u001b[38;5;129;01mis\u001b[39;00m \u001b[38;5;28;01mNone\u001b[39;00m \u001b[38;5;129;01mand\u001b[39;00m\n\u001b[1;32m    344\u001b[0m         parse_int \u001b[38;5;129;01mis\u001b[39;00m \u001b[38;5;28;01mNone\u001b[39;00m \u001b[38;5;129;01mand\u001b[39;00m parse_float \u001b[38;5;129;01mis\u001b[39;00m \u001b[38;5;28;01mNone\u001b[39;00m \u001b[38;5;129;01mand\u001b[39;00m\n\u001b[1;32m    345\u001b[0m         parse_constant \u001b[38;5;129;01mis\u001b[39;00m \u001b[38;5;28;01mNone\u001b[39;00m \u001b[38;5;129;01mand\u001b[39;00m object_pairs_hook \u001b[38;5;129;01mis\u001b[39;00m \u001b[38;5;28;01mNone\u001b[39;00m \u001b[38;5;129;01mand\u001b[39;00m \u001b[38;5;129;01mnot\u001b[39;00m kw):\n\u001b[0;32m--> 346\u001b[0m     \u001b[38;5;28;01mreturn\u001b[39;00m \u001b[43m_default_decoder\u001b[49m\u001b[38;5;241;43m.\u001b[39;49m\u001b[43mdecode\u001b[49m\u001b[43m(\u001b[49m\u001b[43ms\u001b[49m\u001b[43m)\u001b[49m\n\u001b[1;32m    347\u001b[0m \u001b[38;5;28;01mif\u001b[39;00m \u001b[38;5;28mcls\u001b[39m \u001b[38;5;129;01mis\u001b[39;00m \u001b[38;5;28;01mNone\u001b[39;00m:\n\u001b[1;32m    348\u001b[0m     \u001b[38;5;28mcls\u001b[39m \u001b[38;5;241m=\u001b[39m JSONDecoder\n",
      "File \u001b[0;32m/usr/lib/python3.10/json/decoder.py:337\u001b[0m, in \u001b[0;36mJSONDecoder.decode\u001b[0;34m(self, s, _w)\u001b[0m\n\u001b[1;32m    332\u001b[0m \u001b[38;5;28;01mdef\u001b[39;00m\u001b[38;5;250m \u001b[39m\u001b[38;5;21mdecode\u001b[39m(\u001b[38;5;28mself\u001b[39m, s, _w\u001b[38;5;241m=\u001b[39mWHITESPACE\u001b[38;5;241m.\u001b[39mmatch):\n\u001b[1;32m    333\u001b[0m \u001b[38;5;250m    \u001b[39m\u001b[38;5;124;03m\"\"\"Return the Python representation of ``s`` (a ``str`` instance\u001b[39;00m\n\u001b[1;32m    334\u001b[0m \u001b[38;5;124;03m    containing a JSON document).\u001b[39;00m\n\u001b[1;32m    335\u001b[0m \n\u001b[1;32m    336\u001b[0m \u001b[38;5;124;03m    \"\"\"\u001b[39;00m\n\u001b[0;32m--> 337\u001b[0m     obj, end \u001b[38;5;241m=\u001b[39m \u001b[38;5;28;43mself\u001b[39;49m\u001b[38;5;241;43m.\u001b[39;49m\u001b[43mraw_decode\u001b[49m\u001b[43m(\u001b[49m\u001b[43ms\u001b[49m\u001b[43m,\u001b[49m\u001b[43m \u001b[49m\u001b[43midx\u001b[49m\u001b[38;5;241;43m=\u001b[39;49m\u001b[43m_w\u001b[49m\u001b[43m(\u001b[49m\u001b[43ms\u001b[49m\u001b[43m,\u001b[49m\u001b[43m \u001b[49m\u001b[38;5;241;43m0\u001b[39;49m\u001b[43m)\u001b[49m\u001b[38;5;241;43m.\u001b[39;49m\u001b[43mend\u001b[49m\u001b[43m(\u001b[49m\u001b[43m)\u001b[49m\u001b[43m)\u001b[49m\n\u001b[1;32m    338\u001b[0m     end \u001b[38;5;241m=\u001b[39m _w(s, end)\u001b[38;5;241m.\u001b[39mend()\n\u001b[1;32m    339\u001b[0m     \u001b[38;5;28;01mif\u001b[39;00m end \u001b[38;5;241m!=\u001b[39m \u001b[38;5;28mlen\u001b[39m(s):\n",
      "File \u001b[0;32m/usr/lib/python3.10/json/decoder.py:355\u001b[0m, in \u001b[0;36mJSONDecoder.raw_decode\u001b[0;34m(self, s, idx)\u001b[0m\n\u001b[1;32m    353\u001b[0m     obj, end \u001b[38;5;241m=\u001b[39m \u001b[38;5;28mself\u001b[39m\u001b[38;5;241m.\u001b[39mscan_once(s, idx)\n\u001b[1;32m    354\u001b[0m \u001b[38;5;28;01mexcept\u001b[39;00m \u001b[38;5;167;01mStopIteration\u001b[39;00m \u001b[38;5;28;01mas\u001b[39;00m err:\n\u001b[0;32m--> 355\u001b[0m     \u001b[38;5;28;01mraise\u001b[39;00m JSONDecodeError(\u001b[38;5;124m\"\u001b[39m\u001b[38;5;124mExpecting value\u001b[39m\u001b[38;5;124m\"\u001b[39m, s, err\u001b[38;5;241m.\u001b[39mvalue) \u001b[38;5;28;01mfrom\u001b[39;00m\u001b[38;5;250m \u001b[39m\u001b[38;5;28;01mNone\u001b[39;00m\n\u001b[1;32m    356\u001b[0m \u001b[38;5;28;01mreturn\u001b[39;00m obj, end\n",
      "\u001b[0;31mJSONDecodeError\u001b[0m: Expecting value: line 1 column 1 (char 0)"
     ]
    }
   ],
   "source": [
    "import json\n",
    "\n",
    "data = json.loads(result)\n",
    "data"
   ]
  },
  {
   "cell_type": "code",
   "execution_count": null,
   "id": "cbb4d341",
   "metadata": {},
   "outputs": [],
   "source": [
    "sites = data['response']['body']['items']['item']"
   ]
  },
  {
   "cell_type": "code",
   "execution_count": null,
   "id": "94a5887d-4ef7-432c-96b6-ad976e466799",
   "metadata": {},
   "outputs": [
    {
     "name": "stdout",
     "output_type": "stream",
     "text": [
      "백운계곡캠핑장:백운계곡캠핑장은 백운계곡에 있는 캠핑장으로 예전에는 (구)도마치농원이었다. 지금은 글램핑장과 오토캠핑장을 겸하고 있다. 이곳의 주요 업종인 글램핑은 개별 데크에서 바비큐가 가능하고 커플동, 패밀리동, 프리미엄동으로 나뉘어져 있는데 차이점은 프리미엄동은 내부에 개별 화장실이 있고 씻을 수 있는 시설이 갖추어져 있다는 점이다. 캠핑장은 데크 사이트가 다른 캠핑장에 비해서 넓어 여유 있는 공간에서 캠핑을 할 수 있다.     주차장이 넓어 이용객이 많더라도 주차 걱정이 없고 숙박 및 캠핑고객님들께는 계곡 바로 옆 방갈로가 제공된다는 장점이 있다. 또한 소나무가 우거져 그늘이 곳곳에 많다. 백운계곡은 폭이 넓고 상류에서 내려오는 깨끗하고 시원한 물로 피서를 즐기기 좋다. 수심은 아이들이 놀만한 깊이부터 성인들이 놀만한 깊이까지 다양해 골라 놀 수 있는 재미가 있다. 계곡 옆으로 오솔길이 잘 형성되어 있어 아이들 이동 시 안전문제도 걱정 없으며, 추억의 오락실이 있으니 한 두판 즐기며 추억에 잠겨보는 것도 좋다. \n",
      "횡성동당미계곡캠핑장:청정지역 횡성군 서원면 압곡리 동당미계곡이 있는 깊은 산속에 청정 자연과 함께 계곡이 흐르는 천혜의 자연 환경속에 횡성동당미계곡캠핑장이 자리하고 있다. 경기도와 인접해 접근성도 뛰어나며 무엇보다 산과 계곡이 어우러진 포근하고 편안한 휴식의 공간이다. 가까운 거리에 최첨단 시설의 오크밸리리조트가 있고 서원 참숯가마와 풍수원성당 등 볼거리도 다양하다. 캠핑장 전 지역에 와이파이가 설치되어 있다.\n",
      "산청지막계곡캠핑장:산청 지막계곡캠핑장은 경남 산청에 위치한 아름다운 오토캠핑장으로, 온통 산으로 둘러싸여 있어 공기도 좋고, 전망도 좋은 캠핑장이다. 계곡을 경계로 사이트가 나눠져 있으며, 사이트를 잇는 빨간 구름다리는 이동통로인 동시에 산청 지막계곡캠핑장의 상징물이다.     신설 캠핑장으로서 편의시설의 깨끗함은 물론 샤워장 및 개수대의 온수 사용과 60여개의 자연석 강자갈을 사용한 넓은 사이트는, 여유 있고 편안하게 사용할 수 있어 캠퍼들이 좋아하는 곳이다. 파쇄 석 이용 시 먼지 발생 및 불편함을 최소화 하였다.      산 아래로 보이는 아름다운 경치는 도시를 벗어난 현대인에게 휴식과 힐링을 제공할 것이며, 오염되지 않은 맑고 시원한 계곡물은 아이들에게 자연 속 놀이터를 제공하기에 충분하다. 주변관광지로는 동의보감촌, 생초국제조각공원 등이 있다.\n",
      "든해솔 계곡캠핑장:\n",
      "소호랑계곡 캠핑장:울산 근교 가지산, 고헌산에 둘러 싸인 소호리 계곡에 위치하고 있으며, 언양 IC에서 20분 거리로 울산, 부산, 양산, 경주 등에서 1시간 이내에 접근할수 있는 천혜의 자연 환경을 갖추고 있습니다.\n",
      "유명산 계곡 캠핑장:\n",
      "옥수골계곡펜션야영장:옥수골계곡펜션야영장은 전북 무주군 적상면에 자리했다. 무주군청을 기점으로 자동차에 몸을 싣고 당산강변로, 괴목로, 옥소동길을 차례로 거치면 닿는다. 도착까지 걸리는 시간은 30분가량이다. 캠핑장에 발을 들이면 곳곳에 우거진 수목이 맑은 그늘을 드리운다. 게다가 캠핑장 한가운데를 관통하는 계곡 덕분에 한여름 무더위도 두렵지 않다. 특히 비가 내린 후에는 수량이 많아 장쾌함까지 맛볼 수 있다. 캠핑장에는 6대의 카라반을 마련했다. 객실 내부는 일상생활을 해도 불편함이 없을 물품과 시설을 구비했다. 매년 11월경부터 이듬해 4월까지 휴장에 돌입하지만, 펜션 4개 동은 쉬지 않고 영업한다. 캠핑장 인근에 무주호, 마루와인동굴 등 관광지가 많아 연계 여행이 순조롭다. 가까운 거리에 여러 음식점이 성업 중인 덕택에 맘에 드는 음식도 맛볼 수 있다.\n",
      "달빛 계곡 캠핑장:  모든 사이트가 계곡 뷰  달빛 계곡 캠핑장은 전남 장흥군 유치면에 자리 잡고 있다. 숲속에 요새처럼 둥지 트고 있으며, 모든 사이트에서 계곡을 조망할 수 있다는 장점을 지녔다. 캠핑장에는 파쇄석으로 이루어진 오토캠핑 사이트 12면이 마련되어 있다. 모든 사이트 크기가 널찍해 대형 텐트를 설치하는 데 무리가 없다. 인근에 보림사, 정남진물과학관 등 장흥의 유명 관광지가 수두룩하다.\n",
      "금천계곡 야영장:오토캠핑, 글램핑, 카라반이 한꺼번에  금천계곡 야영장은 전남 광양시 다압면에 자리 잡고 있다. 명칭처럼 금천계곡에 위치한 덕분에 한여름에 물놀이로 무더위를 날리면 캠핑을 만끽하기 좋다. 캠핑장에는 데크와 파쇄석으로 이루어진 오토캠핑장과 더불어 카라반 3대, 글램핑 2개 동이 마련되어 있다. 부대시설로는 트램펄린, 놀이터 등이 갖추어져 있다. 주변에 지리산국립공원이 있어 캠핑을 겸해 여행에 나서기 수월하다.\n",
      "증산수도계곡캠핑장:증산수도계곡캠핑장은 경북 김천시 증산면에 자리 잡고 있다. 김천시청을 기점으로 37㎞가량 떨어졌다. 자동차를 타고 남김천대로, 구성지례로, 증산1로를 번갈아 달리면 닿는다. 도착까지 걸리는 시간은 50분 안팎이다. 고즈넉한 시골길을 달려 캠핑장에 다다르면 깔끔함이 돋보이는 캠핑장이 캠퍼를 반긴다. 데크로 이뤄진 자동차 야영장 27면을 마련했는데, 사이트 크기는 가로 3.5m 세로 5m로 모두 동일하다. 한 사이트 당 텐트와 타프 1동씩 설치하는 게 원칙이다. 입실 시간은 오후 2시이며 퇴실을 다음날 정오다. 반려동물 출입이 가능하며, 이 경우 배설물 등으로 캠핑장을 더럽히지 않게 관리해야 한다. 아울러 캠핑장 내에서는 반드시 목줄을 착용해야 한다. 사계절 내내 운영하며, 예약은 전화로 가능하다.  캠핑장 인근에 무흘구곡 선바위, 수도산, 섬계서원 등 관광자원이 풍부하다. 캠핑장 주변에 음식점도 즐비해 식도락의 즐거움도 만끽할 수 있다.\n"
     ]
    }
   ],
   "source": [
    "for site in sites:\n",
    "    print(site['facltNm'] + \":\" + site['intro'])"
   ]
  },
  {
   "cell_type": "code",
   "execution_count": 8,
   "id": "f84c36ae-69b8-4a42-b736-23bbe17a164f",
   "metadata": {},
   "outputs": [],
   "source": [
    "question = \"수영장이 있는 캠핑장을 두어개 추천해줘.\""
   ]
  },
  {
   "cell_type": "code",
   "execution_count": 9,
   "id": "8ceed593-a00e-4195-93c3-83c0cfe0804b",
   "metadata": {},
   "outputs": [
    {
     "name": "stdout",
     "output_type": "stream",
     "text": [
      "수영장\n"
     ]
    }
   ],
   "source": [
    "import os\n",
    "import openai\n",
    "\n",
    "openai.api_key = os.getenv(\"OPENAI_API_KEY\")\n",
    "\n",
    "response = openai.chat.completions.create(\n",
    "  model=\"gpt-3.5-turbo\",\n",
    "  messages=[\n",
    "    {\n",
    "      \"role\": \"system\",\n",
    "      \"content\": \"다음 질문에서 가장 중요한 키워드 단어 하나만 뽑아줘.\"\n",
    "    },\n",
    "    {\n",
    "      \"role\": \"user\",\n",
    "      \"content\": question\n",
    "    }\n",
    "  ],\n",
    "  temperature=0,\n",
    "  max_tokens=1024,\n",
    "  top_p=1,\n",
    "  frequency_penalty=0,\n",
    "  presence_penalty=0\n",
    ")\n",
    "\n",
    "print(response.choices[0].message.content)"
   ]
  },
  {
   "cell_type": "code",
   "execution_count": 10,
   "id": "a1f34bc0-7ff5-4f4a-99a4-80874f826ba3",
   "metadata": {},
   "outputs": [],
   "source": [
    "KeyWord = response.choices[0].message.content"
   ]
  },
  {
   "cell_type": "code",
   "execution_count": 11,
   "id": "b6e4d063-b717-4aa4-8a90-155a311779c4",
   "metadata": {},
   "outputs": [],
   "source": [
    "url = f\"http://apis.data.go.kr/B551011/GoCamping/searchList?serviceKey={ServiceKey}&keyword={KeyWord}&numOfRows=10&pageNo=1&MobileOS=ETC&MobileApp=TestApp&_type=json\""
   ]
  },
  {
   "cell_type": "code",
   "execution_count": 12,
   "id": "ff6e3f69-41c0-4846-b708-080a5dcb0b51",
   "metadata": {},
   "outputs": [
    {
     "ename": "JSONDecodeError",
     "evalue": "Expecting value: line 1 column 1 (char 0)",
     "output_type": "error",
     "traceback": [
      "\u001b[0;31m---------------------------------------------------------------------------\u001b[0m",
      "\u001b[0;31mJSONDecodeError\u001b[0m                           Traceback (most recent call last)",
      "Cell \u001b[0;32mIn[12], line 5\u001b[0m\n\u001b[1;32m      1\u001b[0m result \u001b[38;5;241m=\u001b[39m get_url_content(url)\n\u001b[1;32m      3\u001b[0m \u001b[38;5;28;01mimport\u001b[39;00m\u001b[38;5;250m \u001b[39m\u001b[38;5;21;01mjson\u001b[39;00m\n\u001b[0;32m----> 5\u001b[0m data \u001b[38;5;241m=\u001b[39m \u001b[43mjson\u001b[49m\u001b[38;5;241;43m.\u001b[39;49m\u001b[43mloads\u001b[49m\u001b[43m(\u001b[49m\u001b[43mresult\u001b[49m\u001b[43m)\u001b[49m\n\u001b[1;32m      6\u001b[0m sites \u001b[38;5;241m=\u001b[39m data[\u001b[38;5;124m'\u001b[39m\u001b[38;5;124mresponse\u001b[39m\u001b[38;5;124m'\u001b[39m][\u001b[38;5;124m'\u001b[39m\u001b[38;5;124mbody\u001b[39m\u001b[38;5;124m'\u001b[39m][\u001b[38;5;124m'\u001b[39m\u001b[38;5;124mitems\u001b[39m\u001b[38;5;124m'\u001b[39m][\u001b[38;5;124m'\u001b[39m\u001b[38;5;124mitem\u001b[39m\u001b[38;5;124m'\u001b[39m]\n\u001b[1;32m      8\u001b[0m context \u001b[38;5;241m=\u001b[39m \u001b[38;5;124m'\u001b[39m\u001b[38;5;124m'\u001b[39m\n",
      "File \u001b[0;32m/usr/lib/python3.10/json/__init__.py:346\u001b[0m, in \u001b[0;36mloads\u001b[0;34m(s, cls, object_hook, parse_float, parse_int, parse_constant, object_pairs_hook, **kw)\u001b[0m\n\u001b[1;32m    341\u001b[0m     s \u001b[38;5;241m=\u001b[39m s\u001b[38;5;241m.\u001b[39mdecode(detect_encoding(s), \u001b[38;5;124m'\u001b[39m\u001b[38;5;124msurrogatepass\u001b[39m\u001b[38;5;124m'\u001b[39m)\n\u001b[1;32m    343\u001b[0m \u001b[38;5;28;01mif\u001b[39;00m (\u001b[38;5;28mcls\u001b[39m \u001b[38;5;129;01mis\u001b[39;00m \u001b[38;5;28;01mNone\u001b[39;00m \u001b[38;5;129;01mand\u001b[39;00m object_hook \u001b[38;5;129;01mis\u001b[39;00m \u001b[38;5;28;01mNone\u001b[39;00m \u001b[38;5;129;01mand\u001b[39;00m\n\u001b[1;32m    344\u001b[0m         parse_int \u001b[38;5;129;01mis\u001b[39;00m \u001b[38;5;28;01mNone\u001b[39;00m \u001b[38;5;129;01mand\u001b[39;00m parse_float \u001b[38;5;129;01mis\u001b[39;00m \u001b[38;5;28;01mNone\u001b[39;00m \u001b[38;5;129;01mand\u001b[39;00m\n\u001b[1;32m    345\u001b[0m         parse_constant \u001b[38;5;129;01mis\u001b[39;00m \u001b[38;5;28;01mNone\u001b[39;00m \u001b[38;5;129;01mand\u001b[39;00m object_pairs_hook \u001b[38;5;129;01mis\u001b[39;00m \u001b[38;5;28;01mNone\u001b[39;00m \u001b[38;5;129;01mand\u001b[39;00m \u001b[38;5;129;01mnot\u001b[39;00m kw):\n\u001b[0;32m--> 346\u001b[0m     \u001b[38;5;28;01mreturn\u001b[39;00m \u001b[43m_default_decoder\u001b[49m\u001b[38;5;241;43m.\u001b[39;49m\u001b[43mdecode\u001b[49m\u001b[43m(\u001b[49m\u001b[43ms\u001b[49m\u001b[43m)\u001b[49m\n\u001b[1;32m    347\u001b[0m \u001b[38;5;28;01mif\u001b[39;00m \u001b[38;5;28mcls\u001b[39m \u001b[38;5;129;01mis\u001b[39;00m \u001b[38;5;28;01mNone\u001b[39;00m:\n\u001b[1;32m    348\u001b[0m     \u001b[38;5;28mcls\u001b[39m \u001b[38;5;241m=\u001b[39m JSONDecoder\n",
      "File \u001b[0;32m/usr/lib/python3.10/json/decoder.py:337\u001b[0m, in \u001b[0;36mJSONDecoder.decode\u001b[0;34m(self, s, _w)\u001b[0m\n\u001b[1;32m    332\u001b[0m \u001b[38;5;28;01mdef\u001b[39;00m\u001b[38;5;250m \u001b[39m\u001b[38;5;21mdecode\u001b[39m(\u001b[38;5;28mself\u001b[39m, s, _w\u001b[38;5;241m=\u001b[39mWHITESPACE\u001b[38;5;241m.\u001b[39mmatch):\n\u001b[1;32m    333\u001b[0m \u001b[38;5;250m    \u001b[39m\u001b[38;5;124;03m\"\"\"Return the Python representation of ``s`` (a ``str`` instance\u001b[39;00m\n\u001b[1;32m    334\u001b[0m \u001b[38;5;124;03m    containing a JSON document).\u001b[39;00m\n\u001b[1;32m    335\u001b[0m \n\u001b[1;32m    336\u001b[0m \u001b[38;5;124;03m    \"\"\"\u001b[39;00m\n\u001b[0;32m--> 337\u001b[0m     obj, end \u001b[38;5;241m=\u001b[39m \u001b[38;5;28;43mself\u001b[39;49m\u001b[38;5;241;43m.\u001b[39;49m\u001b[43mraw_decode\u001b[49m\u001b[43m(\u001b[49m\u001b[43ms\u001b[49m\u001b[43m,\u001b[49m\u001b[43m \u001b[49m\u001b[43midx\u001b[49m\u001b[38;5;241;43m=\u001b[39;49m\u001b[43m_w\u001b[49m\u001b[43m(\u001b[49m\u001b[43ms\u001b[49m\u001b[43m,\u001b[49m\u001b[43m \u001b[49m\u001b[38;5;241;43m0\u001b[39;49m\u001b[43m)\u001b[49m\u001b[38;5;241;43m.\u001b[39;49m\u001b[43mend\u001b[49m\u001b[43m(\u001b[49m\u001b[43m)\u001b[49m\u001b[43m)\u001b[49m\n\u001b[1;32m    338\u001b[0m     end \u001b[38;5;241m=\u001b[39m _w(s, end)\u001b[38;5;241m.\u001b[39mend()\n\u001b[1;32m    339\u001b[0m     \u001b[38;5;28;01mif\u001b[39;00m end \u001b[38;5;241m!=\u001b[39m \u001b[38;5;28mlen\u001b[39m(s):\n",
      "File \u001b[0;32m/usr/lib/python3.10/json/decoder.py:355\u001b[0m, in \u001b[0;36mJSONDecoder.raw_decode\u001b[0;34m(self, s, idx)\u001b[0m\n\u001b[1;32m    353\u001b[0m     obj, end \u001b[38;5;241m=\u001b[39m \u001b[38;5;28mself\u001b[39m\u001b[38;5;241m.\u001b[39mscan_once(s, idx)\n\u001b[1;32m    354\u001b[0m \u001b[38;5;28;01mexcept\u001b[39;00m \u001b[38;5;167;01mStopIteration\u001b[39;00m \u001b[38;5;28;01mas\u001b[39;00m err:\n\u001b[0;32m--> 355\u001b[0m     \u001b[38;5;28;01mraise\u001b[39;00m JSONDecodeError(\u001b[38;5;124m\"\u001b[39m\u001b[38;5;124mExpecting value\u001b[39m\u001b[38;5;124m\"\u001b[39m, s, err\u001b[38;5;241m.\u001b[39mvalue) \u001b[38;5;28;01mfrom\u001b[39;00m\u001b[38;5;250m \u001b[39m\u001b[38;5;28;01mNone\u001b[39;00m\n\u001b[1;32m    356\u001b[0m \u001b[38;5;28;01mreturn\u001b[39;00m obj, end\n",
      "\u001b[0;31mJSONDecodeError\u001b[0m: Expecting value: line 1 column 1 (char 0)"
     ]
    }
   ],
   "source": [
    "result = get_url_content(url)\n",
    "\n",
    "import json\n",
    "\n",
    "data = json.loads(result)\n",
    "sites = data['response']['body']['items']['item']\n",
    "\n",
    "context = ''\n",
    "i = 1;\n",
    "for site in sites:\n",
    "    context = context + str(i) + \") \" + site['facltNm'] + \":\" + site['intro'] + \"\\n\"\n",
    "    i = i + 1\n",
    "context"
   ]
  },
  {
   "cell_type": "code",
   "execution_count": null,
   "id": "ee440a77-5384-4ebb-a2bd-66c05f515722",
   "metadata": {},
   "outputs": [
    {
     "name": "stdout",
     "output_type": "stream",
     "text": [
      "추천할 수영장이 있는 캠핑장은 다음과 같습니다:\n",
      "\n",
      "1. **트리풀하우스 글램핑 풀빌라** - 포천에 위치한 애견동반 글램핑장으로, 독채에서 편안하게 숙박하며 수영장과 바베큐 시설을 이용할 수 있습니다.\n",
      "\n",
      "2. **제주인포항 개별 수영장 카라반** - 제주에 위치한 카라반으로, 개별 수영장이 있어 프라이빗한 수영을 즐길 수 있는 캠핑장입니다.\n",
      "\n",
      "이 두 곳은 수영장을 갖추고 있어 여름철에 특히 즐기기 좋은 장소입니다.\n"
     ]
    }
   ],
   "source": [
    "import os\n",
    "import openai\n",
    "\n",
    "openai.api_key = os.getenv(\"OPENAI_API_KEY\")\n",
    "\n",
    "response = openai.chat.completions.create(\n",
    "  model=\"gpt-4o-mini\",\n",
    "  messages=[\n",
    "    {\n",
    "      \"role\": \"system\",\n",
    "      \"content\": f\"주어진 문단을 보고 다음 질문에 답해줘: {question}\"\n",
    "    },\n",
    "    {\n",
    "      \"role\": \"user\",\n",
    "      \"content\": context\n",
    "    }\n",
    "  ],\n",
    "  temperature=0,\n",
    "  max_tokens=1024,\n",
    "  top_p=1,\n",
    "  frequency_penalty=0,\n",
    "  presence_penalty=0\n",
    ")\n",
    "\n",
    "print(response.choices[0].message.content)"
   ]
  },
  {
   "cell_type": "code",
   "execution_count": null,
   "id": "8fe5ff5b-e5da-4f30-8e41-4f8a9fe445e9",
   "metadata": {},
   "outputs": [],
   "source": []
  }
 ],
 "metadata": {
  "kernelspec": {
   "display_name": "Python 3",
   "language": "python",
   "name": "python3"
  },
  "language_info": {
   "codemirror_mode": {
    "name": "ipython",
    "version": 3
   },
   "file_extension": ".py",
   "mimetype": "text/x-python",
   "name": "python",
   "nbconvert_exporter": "python",
   "pygments_lexer": "ipython3",
   "version": "3.10.12"
  }
 },
 "nbformat": 4,
 "nbformat_minor": 5
}
