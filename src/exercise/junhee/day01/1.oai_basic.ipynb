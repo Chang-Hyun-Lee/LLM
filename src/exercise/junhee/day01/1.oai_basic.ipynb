{
 "cells": [
  {
   "cell_type": "code",
   "execution_count": 7,
   "id": "c7e165d2",
   "metadata": {},
   "outputs": [
    {
     "name": "stdout",
     "output_type": "stream",
     "text": [
      "\n",
      "\n",
      "こんにちは？今日の天気は本当にいいですね！\n"
     ]
    }
   ],
   "source": [
    "# Completion mode, 지시와 명령을 하나의 prompt로 전달\n",
    "import os\n",
    "import openai\n",
    "\n",
    "openai.api_key = os.getenv(\"OPENAI_API_KEY\")\n",
    "# 텍스트 생성 요청을 보냅니다.\n",
    "response = openai.completions.create(\n",
    "    model = \"gpt-3.5-turbo-instruct\",\n",
    "    prompt = \"다음을 일본어로 번역하세요: 안녕하세요? 오늘 날씨가 참 좋군요!\",\n",
    "    max_tokens=256,  # 생성된 텍스트의 최대 길이를 설정합니다.\n",
    ")\n",
    "\n",
    "print(response.choices[0].text)"
   ]
  },
  {
   "cell_type": "code",
   "execution_count": 8,
   "id": "5ac0fc96",
   "metadata": {},
   "outputs": [
    {
     "name": "stdout",
     "output_type": "stream",
     "text": [
      " 100g당 0.15g의 철분이 필요한데, 철분은 몸의 가장 중요한 영양소입니다.\n",
      "\n",
      " 1) 식학 수정안: 내 철의 20%를 제공하는 그램당 0.3g의 철분을 섭취해야 합니다.\n",
      "(내 철의 양이 얼마인지 제공하지 않아 수정안으로 보완합니다.)\n",
      "\n",
      "2) 식학 원본: 하루에 100g을 섭취하는 것만으로 아마도 충분한 철분을 섭취할 수 있습니다.\n",
      "(100g으로만 섭취하는 것이 아니라 내 철의 양을 고려해 철분을 섭취하는 것이 더 정확하므로 수정안으로 보완합니다.)\n",
      "\n",
      "수정안: 하루에 100g을 섭취하는 것뿐만 아니라 내 철의 양을 고려해 그\n"
     ]
    }
   ],
   "source": [
    "# Completion mode, 문장을 이어서 완성하게 함\n",
    "import os\n",
    "import openai\n",
    "\n",
    "openai.api_key = os.getenv(\"OPENAI_API_KEY\")\n",
    "# 텍스트 생성 요청을 보냅니다.\n",
    "response = openai.completions.create(\n",
    "    model=\"gpt-3.5-turbo-instruct\",\n",
    "    prompt=\"근육이 커지려면\",\n",
    "    max_tokens=256,  # 생성된 텍스트의 최대 길이를 설정합니다.\n",
    ")\n",
    "\n",
    "# 생성된 텍스트를 출력합니다.\n",
    "print(response.choices[0].text)"
   ]
  },
  {
   "cell_type": "code",
   "execution_count": 9,
   "id": "a7ef758d",
   "metadata": {},
   "outputs": [
    {
     "name": "stdout",
     "output_type": "stream",
     "text": [
      "Completion(id='cmpl-Bvd23pUQiYMAtOB5mFXgmm9iwqaRt', choices=[CompletionChoice(finish_reason='length', index=0, logprobs=None, text=' 100g당 0.15g의 철분이 필요한데, 철분은 몸의 가장 중요한 영양소입니다.\\n\\n 1) 식학 수정안: 내 철의 20%를 제공하는 그램당 0.3g의 철분을 섭취해야 합니다.\\n(내 철의 양이 얼마인지 제공하지 않아 수정안으로 보완합니다.)\\n\\n2) 식학 원본: 하루에 100g을 섭취하는 것만으로 아마도 충분한 철분을 섭취할 수 있습니다.\\n(100g으로만 섭취하는 것이 아니라 내 철의 양을 고려해 철분을 섭취하는 것이 더 정확하므로 수정안으로 보완합니다.)\\n\\n수정안: 하루에 100g을 섭취하는 것뿐만 아니라 내 철의 양을 고려해 그')], created=1753074435, model='gpt-3.5-turbo-instruct:20230824-v2', object='text_completion', system_fingerprint=None, usage=CompletionUsage(completion_tokens=256, prompt_tokens=11, total_tokens=267, completion_tokens_details=None, prompt_tokens_details=None))\n"
     ]
    }
   ],
   "source": [
    "print(response)"
   ]
  },
  {
   "cell_type": "code",
   "execution_count": null,
   "id": "a4552a1b",
   "metadata": {},
   "outputs": [
    {
     "name": "stdout",
     "output_type": "stream",
     "text": [
      "안녕하세요? 오늘 날씨가 참 좋군요!  \n",
      "こんにちは！今日は本当に良い天気ですね！\n"
     ]
    }
   ],
   "source": [
    "# 표준적인 Chat completion mode\n",
    "\n",
    "import openai\n",
    "\n",
    "res = openai.chat.completions.create(\n",
    "  model=\"gpt-4o-mini\",\n",
    "  messages=[{\n",
    "    \"role\": \"user\", \n",
    "    \"content\": \"다음을 일본어로 번역하세요: 안녕하세요? 오늘 날씨가 참 좋군요!\"\n",
    "  }]\n",
    ")\n",
    "print(res.choices[0].message.content)"
   ]
  },
  {
   "cell_type": "code",
   "execution_count": 23,
   "id": "664b3613",
   "metadata": {},
   "outputs": [
    {
     "name": "stdout",
     "output_type": "stream",
     "text": [
      "ChatCompletionMessage(content='안녕하세요? 오늘 날씨가 참 좋군요!  \\nこんにちは！今日は本当に良い天気ですね！', refusal=None, role='assistant', annotations=[], audio=None, function_call=None, tool_calls=None)\n"
     ]
    }
   ],
   "source": [
    "print(res.choices[0].message)"
   ]
  }
 ],
 "metadata": {
  "kernelspec": {
   "display_name": "Python 3",
   "language": "python",
   "name": "python3"
  },
  "language_info": {
   "codemirror_mode": {
    "name": "ipython",
    "version": 3
   },
   "file_extension": ".py",
   "mimetype": "text/x-python",
   "name": "python",
   "nbconvert_exporter": "python",
   "pygments_lexer": "ipython3",
   "version": "3.10.12"
  }
 },
 "nbformat": 4,
 "nbformat_minor": 5
}
