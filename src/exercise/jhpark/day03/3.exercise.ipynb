{
 "cells": [
  {
   "cell_type": "code",
   "execution_count": null,
   "id": "bded8403",
   "metadata": {},
   "outputs": [],
   "source": [
    "import os\n",
    "import streamlit as st\n",
    "import openai\n",
    "\n",
    "openai.api_key = os.getenv(\"OPENAI_API_KEY\")\n",
    "\n",
    "assistant_id=asst_UIoILByMFhNJ0Q18C0m69eko\n",
    "\n",
    "def chat_with_bot(messages):\n",
    "    gen = openai.chat.completions.create(\n",
    "        model=\"gpt-4o-mini\",\n",
    "        messages=messages,\n",
    "        temperature=0.7,\n",
    "        max_tokens=4096,\n",
    "        stream=True\n",
    "    )\n",
    "    return gen\n",
    "\n",
    "\n",
    "# Streamlit 앱 정의\n",
    "def main():\n",
    "    st.title(\"Multi-turn Chatbot with Streamlit and OpenAI\")\n",
    "    st.chat_input(placeholder=\"대화를 입력해주세요.\", key=\"chat_input\")\n",
    "\n",
    "    if \"messages\" not in st.session_state:\n",
    "        st.session_state.messages = []        \n",
    "\n",
    "    for message in st.session_state.messages:\n",
    "        with st.chat_message(message[\"role\"]):\n",
    "            st.markdown(message[\"content\"])\n",
    "\n",
    "    if user_input := st.session_state[\"chat_input\"]:\n",
    "        with st.chat_message(\"user\"):\n",
    "            st.markdown(user_input)\n",
    "        st.session_state.messages.append({\"role\": \"user\", \"content\":user_input})\n",
    "\n",
    "        gen = chat_with_bot(st.session_state.messages)\n",
    "        with st.chat_message(\"assistant\"):\n",
    "            message_placeholder = st.empty()\n",
    "            full_response = \"\"        \n",
    "            for chunk in gen:\n",
    "                if chunk.choices[0].delta.content is not None:\n",
    "                    full_response += chunk.choices[0].delta.content\n",
    "                    message_placeholder.markdown(full_response + \"▌\")\n",
    "            message_placeholder.markdown(full_response)\n",
    "            st.session_state.messages.append({\"role\": \"assistant\", \"content\":full_response})\n",
    "\n",
    "if __name__ == \"__main__\":\n",
    "    main()"
   ]
  },
  {
   "cell_type": "code",
   "execution_count": null,
   "id": "d2ef0854",
   "metadata": {},
   "outputs": [],
   "source": [
    "!pip install -U "
   ]
  }
 ],
 "metadata": {
  "language_info": {
   "name": "python"
  }
 },
 "nbformat": 4,
 "nbformat_minor": 5
}
