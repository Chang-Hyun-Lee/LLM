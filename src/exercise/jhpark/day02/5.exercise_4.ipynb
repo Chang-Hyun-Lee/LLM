{
 "cells": [
  {
   "cell_type": "code",
   "execution_count": 1,
   "id": "d00efab6",
   "metadata": {},
   "outputs": [],
   "source": [
    "!pip install -qU pypdf"
   ]
  },
  {
   "cell_type": "code",
   "execution_count": 15,
   "id": "e8f9031e",
   "metadata": {},
   "outputs": [],
   "source": [
    "from langchain_community.document_loaders import PyPDFLoader\n",
    "\n",
    "file_path = \"외투-고골.pdf\"\n",
    "loader = PyPDFLoader(file_path)\n",
    "pages = []\n",
    "async for page in loader.alazy_load():\n",
    "    pages.append(page)"
   ]
  },
  {
   "cell_type": "code",
   "execution_count": 16,
   "id": "bf6d8496",
   "metadata": {},
   "outputs": [
    {
     "name": "stdout",
     "output_type": "stream",
     "text": [
      "{'producer': 'Microsoft® Word 2013', 'creator': 'Microsoft® Word 2013', 'creationdate': '2013-02-18T17:39:17+09:00', 'author': '정재영', 'moddate': '2013-02-18T17:39:17+09:00', 'source': '외투-고골.pdf', 'total_pages': 15, 'page': 0, 'page_label': '1'}\n",
      "\n",
      "외외투투//고고골골  \n",
      "발췌 \n",
      " \n",
      " 그가 근무하던 관청은 …… 아니, 어느 관청인지 밝히지 않는 게 좋을 것 같다. 어느 관청이건, 어느 \n",
      "연대이건, 어느 사무실이건, 하여튼 관리만큼 화를 잘 내는 사람들도 없다. 이제는 개인들까지 자기가 당한 \n",
      "일을 마치 사회 전체에 대한 모욕처럼 생각한다. 어느 도시인지 기억할 순 없지만 아주 최근에 어느 지역 \n",
      "경찰서장이라는 사람이 국가 기강이 무너지고 자신의 거룩한 이름이 함부로 남용된다는 내용의 탄원서를 \n",
      "제출했다고 한다. 그리고 다소 낭만적인 내용이 적힌 어마어마한 분량의 증빙 서류를 첨부했는데, 그 \n",
      "서류에는 10쪽에 한 번씩 경찰서장이 등장하고, 심지어 완전히 술에 취한 모습으로 묘사되어 있었다. 그러니 \n",
      "불미스러운 일에서 벗어나려면, 문제가 되는 곳을 그냥 ‘어느 관청’이라 부르는 것이 낫다. 그 ‘어느 관청’에 \n",
      "‘어떤 관리’가 근무하고 있었다. 아주 뛰어나다고 할 수 없고 키가 작은 그 관리는 약간 얽은 자국이 있는 \n",
      "불그스름한 얼굴에 눈에 띄게 시력이 안 좋았으며, 이마가 조금 벗겨지고, 양 볼에 주름이 진 데다 치질 환자 \n",
      "같은 얼굴빛을 하고 있었다. 어쩌겠는가! 뻬쩨르부르그 기후 탓인 것을, 관등에 관한 한(우리나라에서는 우선 \n",
      "관등부터 밝혀야 한다) 그는 만년 9급 관리였다. 아시다시피 밟혀도 끽소리 한 번 못하는 사람들을 억압하는 \n",
      "훌륭한 습성이 있는 온갖 종류의 작가들이 마음껏 놀려대고 마구 비꼬는 바로 그 9급이다. 그 관리의 성은 \n",
      "바쉬마취낀이었다. 이름만 보아도 바쉬마끄에서 유래한 성임을 알 수 있다. 그러나 언제 어느 시대에 어떻게 \n",
      "바쉬마끄와 연관되었는지 알 수 없다. 아버지도, 할아버지도, 심지어 외가 쪽 식구까지도 바쉬마취낀 집안 \n",
      "사람들은 모두 보통 구두를 신고 다녔고, 밑창도 1년에 세 번 정도만 갈았다. 그의 이름은 아까끼 \n",
      "아까끼예비치 였다. 아마 독자들에게 이름이 약간 이상하고 진기하게 여겨지겠지만 일부러 그런 이름을 \n",
      "찾아낸 것이 아니라 다른 이름으로 부를 수 없는 사정이 생겼고 결국엔 그렇게 된 것이다. 기억이 틀리지 \n",
      "않다면, 아까끼 아까끼예비치는 3월 23일 저녁 무렵에 태어났다. 고인이 된 그의 어머니는 관리의 아내로서 \n",
      "마음씨가 아주 착한 여자였으며, 당연히 해야 할 일이지만 아기에게 세례를 주어야 했다. 엄마는 문을 향한 \n",
      "채 아직 침대에 누워 있었고, 오른쪽에는 의회에서 의장으로 일한 적이 있는 뛰어난 대부 이반 이바노비치 \n",
      "예로쉬낀과, 그 경찰관의 아내이자 선행을 잘 베푸는 대모 아리나 세묘노브나 벨로브류쉬꼬바가 서 있었다. \n",
      "산모에게 세 가지 이름 가운데 마음에 드는 것을 고르라고 했다. 목끼나 솟시로 부르든지 아니면 순교자의 \n",
      "이름을 따서 호즈다자뜨라고 부르라는 것이었다. 산모는 잠시 생각하더니 “싫어요.”라고 말했다. “무슨 \n",
      "이름이 다들 그 모양이람.” 산모를 기쁘게 하기 위해 달력을 한 장 넘겼다. 이번엔 다시 뜨리필리, 둘라, \n",
      "바라하씨 이렇게 세 개의 이름이 나왔다. “아이구, 맙소사.” 산모가 내뱉은 말이었다. “무슨 이름들이 다 \n",
      "그래. 정말로 한 번도 들어보지 못한 이름들이네. 바라다뜨나 바루흐라면 또 모르지만 뜨리필리와 \n",
      "바라하씨라니.” 달력을 또 한 장 넘겼다. ―빠프시까히와 바흐찌시. “이젠 더 볼 것도 없어요.” 산모가 \n",
      "말했다. “그 애 운명이 그런가 보군요. 그렇다면 차라리 아버지의 이름을 따서 부르는 것이 더 낫겠어요. \n",
      "아버지가 아까끼였으니 아들도 똑같이 아까끼라고 하지요.” 이렇게 해서 아까끼 아까끼예비치라는 이름이 \n",
      "생겨난 것이다. 세례를 받을 때 아기는 울어버렸고, 마치 9급 관리가 될 것을 마치 예상이라도 한 듯 얼굴을 \n",
      "찡그렸다. 모든 일이 바로 이렇게 일어난 것이다. 이런 이야기는 불가피한 것이었고 또한 다른 방법이 \n",
      "없었다는 점을 독자가 직접 알 수 있도록 하기 위해서 했다. 그가 언제 어떤 시기에 관청에 들어왔는지, 또 \n",
      "그를 관직에 앉힌 사람이 누구인지는 아무도 기억할 수 없었다. 부장과 국장이 수없이 갈리는 동안, 그는 \n",
      "언제나 같은 자리와 같은 직위에서 서기로서 같은 업무를 되풀이하였다. 나중에는 그가 제복을 입고 이마가 \n",
      "벗겨진 모습을 한 채 9급 관리가 되기 위해 이미 완전한 준비를 하고 세상에 태어난 것처럼 보인다고 다들 \n",
      "믿게 되었다. 관청에서는 모두 그를 아무렇게나 대했다. 경비는 그가 지나가도 자리에서 일어나지 않았을 \n",
      "뿐만 아니라, 날아온 파리 한 마리가 응접실을 지나가는 듯 전혀 거들떠보지도 않았다. 상관들은 그를 \n",
      "냉정하고 난폭하게 대했다. 계장인지 무슨 대리라는 작자는 ‘정서해 주시오.’라든가 ‘이거 재미있고 좋은 \n",
      "일감이지요.’라고 예의를 지켜 해야 하는, 업무에서 사용되는 기분 좋은 말 한마디 없이 코앞에 서류 뭉치를 \n",
      "불쑥 들이밀었다. 그러면 그는 누가 일을 맡기는지, 그 사람이 그럴 권리가 있는지 어떤지에 관계없이 종이만 \n",
      "바라보고는 일을 맡았다. 그는 종이를 받는 대로 즉시 글씨를 써 내려 갔다. 젊은 관리들은 사무적인 기지를 \n",
      "발휘하여 그를 조롱했고, 그의 면전에서 그에 대한 꾸며낸 여러 가지 이야기들을 주고받았다. 그의 집주인인 \n",
      "일흔 살 먹은 노파까지 등장시켜, 그가 노파에게 맞고 산다고 말하거나 언제 노파하고 결혼하느냐고 묻기도 \n",
      "하고, 눈이 내린다며 종이 부스러기를 그의 머리 위에 뿌리기도 했다. 그러나 아까끼 아까끼예비치는 눈앞의\n"
     ]
    }
   ],
   "source": [
    "print(f\"{pages[0].metadata}\\n\")\n",
    "print(pages[0].page_content)"
   ]
  },
  {
   "cell_type": "code",
   "execution_count": 4,
   "id": "f6f534f7",
   "metadata": {},
   "outputs": [],
   "source": [
    "!pip install -qU langchain-openai"
   ]
  },
  {
   "cell_type": "code",
   "execution_count": 17,
   "id": "dafd2dcb",
   "metadata": {},
   "outputs": [],
   "source": [
    "import getpass\n",
    "import os\n",
    "\n",
    "if \"OPENAI_API_KEY\" not in os.environ:\n",
    "    os.environ[\"OPENAI_API_KEY\"] = getpass.getpass(\"OpenAI API Key:\")"
   ]
  },
  {
   "cell_type": "code",
   "execution_count": 18,
   "id": "dd0b616f",
   "metadata": {},
   "outputs": [
    {
     "name": "stdout",
     "output_type": "stream",
     "text": [
      "Page 2: 외투니콜라이 고골 \n",
      "3 \n",
      "아주 위대한 고전: 문학 \n",
      " \n",
      "배불리 식사를 마친 뒤, 펜 놀리는 소리와 분주함, 자신과 다른 사람들의 불가피한 일들, 일에 미친 사람들이 \n",
      "자진해서 때로는 필요 이상으로 떠맡았던 업무들을 끝내고 모두들 휴식에 들어갈 무렵, 나머지 저녁시간을 \n",
      "즐기고자 마음먹은 관리들은 극장으로, 화사한 옷차림의 여인들이 있는 거리고, 또 크지 않은 관리사회의 새 \n",
      "우상으로 떠오른 어느 용모가 아름다운 아가씨에게 너도 나도 달콤한 말을 속삭이는 연회장으로 달려간다. \n",
      "이도 저도 아닌 대부분의 사람들은 그저 4층이나 3층에\n",
      "\n",
      "Page 10: 외투니콜라이 고골 \n",
      "11 \n",
      "아주 위대한 고전: 문학 \n",
      " \n",
      "외투를 입고 출근했다. 외투 강도 이야기에 기회를 놓칠세라 아까끼 아까끼예비치를 비웃는 사람들도 \n",
      "있었지만 많은 사람들은 그를 동정했다. 그를 위해 모금을 하자는 의견이 있었다. 그러나 국장의 초상화를 \n",
      "주문하고 부장이 아는 사람이 썼다는 무슨 책인가를 구입해야 했다. 그런 일에 주머니가 가벼워지는 \n",
      "관리들인지라 모은 돈은 푼돈에 불과했다. 그중 누군가가 동정심에 이끌려 적어도 그를 도울 수 있는 \n",
      "충고라도 한마디 하겠다며, 경찰서장에게는 가지 않는 것이 좋다, 경찰서장은 \n",
      "\n",
      "Page 0: 외외투투//고고골골  \n",
      "발췌 \n",
      " \n",
      " 그가 근무하던 관청은 …… 아니, 어느 관청인지 밝히지 않는 게 좋을 것 같다. 어느 관청이건, 어느 \n",
      "연대이건, 어느 사무실이건, 하여튼 관리만큼 화를 잘 내는 사람들도 없다. 이제는 개인들까지 자기가 당한 \n",
      "일을 마치 사회 전체에 대한 모욕처럼 생각한다. 어느 도시인지 기억할 순 없지만 아주 최근에 어느 지역 \n",
      "경찰서장이라는 사람이 국가 기강이 무너지고 자신의 거룩한 이름이 함부로 남용된다는 내용의 탄원서를 \n",
      "제출했다고 한다. 그리고 다소 낭만적인 내용이 적힌 어마어마한 분량의 증빙 서류를 첨\n",
      "\n",
      "Page 1: 외투니콜라이 고골 \n",
      "2 \n",
      "아주 위대한 고전: 문학 \n",
      " \n",
      "사람들은 안중에도 없다는 듯 아무런 대꾸도 하지 않았다. 그가 하는 일에도 지장을 받지 않았다. 그런 \n",
      "와중에도 그는 글을 쓰는 데 아무런 실수도 하지 않았다. 농담이 도를 넘어 너무 지나치게 그의 팔을 \n",
      "건드리며 일을 방해하면, 그제서야 “날 좀 내버려둬요, 왜 그렇게 나를 못살게 구는 거요?”라고 말하는 \n",
      "것이었다. 그가 말한 단어들과 목소리에는 어떤 이상한 힘이 있었다. 그 말을 듣고 있노라면 어느새 연민의 \n",
      "정이 솟아나, 취직한 지 얼마 안 되어 남들 따라 아무 생각 \n",
      "\n"
     ]
    }
   ],
   "source": [
    "from langchain_core.vectorstores import InMemoryVectorStore\n",
    "from langchain_openai import OpenAIEmbeddings\n",
    "\n",
    "vector_store = InMemoryVectorStore.from_documents(pages, OpenAIEmbeddings())\n",
    "docs = vector_store.similarity_search(\"What is LayoutParser?\")\n",
    "for doc in docs:\n",
    "    print(f\"Page {doc.metadata['page']}: {doc.page_content[:300]}\\n\")"
   ]
  },
  {
   "cell_type": "code",
   "execution_count": 19,
   "id": "70a2e395",
   "metadata": {},
   "outputs": [
    {
     "data": {
      "text/plain": [
       "7"
      ]
     },
     "execution_count": 19,
     "metadata": {},
     "output_type": "execute_result"
    }
   ],
   "source": [
    "from langchain.document_loaders import PyPDFLoader\n",
    "\n",
    "loader = PyPDFLoader('소나기.pdf')\n",
    "documents = loader.load()\n",
    "\n",
    "from langchain.text_splitter import CharacterTextSplitter\n",
    "\n",
    "text_splitter = CharacterTextSplitter(chunk_size=1000, chunk_overlap=0)\n",
    "docs = text_splitter.split_documents(documents)\n",
    "len(docs)"
   ]
  },
  {
   "cell_type": "code",
   "execution_count": 20,
   "id": "be4bd570",
   "metadata": {},
   "outputs": [
    {
     "data": {
      "text/plain": [
       "[Document(metadata={'producer': 'Hancom PDF 1.3.0.542', 'creator': 'Hwp 2018 10.0.0.11131', 'creationdate': '2021-11-29T20:05:50+09:00', 'author': 'MYHOME', 'moddate': '2021-11-29T20:05:50+09:00', 'pdfversion': '1.4', 'source': '소나기.pdf', 'total_pages': 7, 'page': 0, 'page_label': '1'}, page_content='- 1 -\\n소나기황순원소년은 개울가에서 소녀를 보자 곧 윤 초시네 증손녀(曾孫女)딸이라는 걸 알 수 있었다. 소녀는 개울에다 손을 잠그고 물장난을 하고 있는 것이다. 서울서는 이런 개울물을 보지 못하기나 한 듯이.벌써 며칠째 소녀는, 학교에서 돌아오는 길에 물장난이었다. 그런데, 어제까지 개울 기슭에서 하더니, 오늘은 징검다리 한가운데 앉아서 하고 있다.소년은 개울둑에 앉아 버렸다. 소녀가 비키기를 기다리자는 것이다.요행 지나가는 사람이 있어, 소녀가 길을 비켜 주었다.다음 날은 좀 늦게 개울가로 나왔다.이 날은 소녀가 징검다리 한가운데 앉아 세수를 하고 있었다. 분홍 스웨터 소매를 걷어올린 목덜미가 마냥 희었다.한참 세수를 하고 나더니, 이번에는 물 속을 빤히 들여다 본다. 얼굴이라도 비추어 보는 것이리라. 갑자기 물을 움켜 낸다. 고기 새끼라도 지나가는 듯.소녀는 소년이 개울둑에 앉아 있는 걸 아는지 모르는지 그냥 날쌔게 물만 움켜 낸다. 그러나, 번번이 허탕이다. 그대로 재미있는 양, 자꾸 물만 움킨다. 어제처럼 개울을 건너는 사람이 있어야 길을 비킬 모양이다.그러다가 소녀가 물 속에서 무엇을 하나 집어 낸다. 하얀 조약돌이었다. 그리고는 벌떡 일어나 팔짝팔짝 징검다리를 뛰어 건너간다.다 건너가더니만 홱 이리로 돌아서며,“이 바보.”조약돌이 날아왔다.소년은 저도 모르게 벌떡 일어섰다.단발 머리를 나풀거리며 소녀가 막 달린다. 갈밭 사잇길로 들어섰다. 뒤에는 청량한 가을 햇살 아래 빛나는 갈꽃뿐.이제 저쯤 갈밭머리로 소녀가 나타나리라. 꽤 오랜 시간이 지났다고 생각됐다. 그런데도 소녀는 나타나지 않는다. 발돋움을 했다. 그러고도 상당한 시간이 지났다고 생각됐다.저 쪽 갈밭머리에 갈꽃이 한 옴큼 움직였다. 소녀가 갈꽃을 안고 있었다. 그리고, 이제는 천천한 걸음이었다. 유난히 맑은 가을 햇살이 소녀의 갈꽃머리에서 반짝거렸다. 소녀 아닌 갈꽃이 들길을 걸어가는 것만 같았다.소년은 이 갈꽃이 아주 뵈지 않게 되기까지 그대로 서 있었다. 문득, 소녀가 던지 조약돌을 내려다보았다. 물기가 걷혀 있었다. 소년은 조약돌을 집어 주머니에 넣었다.다음 날부터 좀더 늦게 개울가로 나왔다. 소녀의 그림자가 뵈지 않았다. 다행이었다.그러나, 이상한 일이었다. 소녀의 그림자가 뵈지 않는 날이 계속될수록 소년의 가슴 한 구석에는 어딘가 허전함이 자리 잡는 것이었다. 주머니 속 조약돌을 주무르는 버릇이 생겼다.그러한 어떤 날, 소년은 전에 소녀가 앉아 물장난을 하던 징검다리 한가운데에 앉아 보았다. 물 속에 손을 잠갔다. 세수를 하였다. 물 속을 들여다보았다. 검게 탄 얼굴이 그대로 비치었다. 싫었다.'),\n",
       " Document(metadata={'producer': 'Hancom PDF 1.3.0.542', 'creator': 'Hwp 2018 10.0.0.11131', 'creationdate': '2021-11-29T20:05:50+09:00', 'author': 'MYHOME', 'moddate': '2021-11-29T20:05:50+09:00', 'pdfversion': '1.4', 'source': '소나기.pdf', 'total_pages': 7, 'page': 1, 'page_label': '2'}, page_content='- 2 -\\n소년은 두 손으로 물 속의 얼굴을 움키었다. 몇 번이고 움키었다. 그러다가 깜짝 놀라 일어나고 말았다. 소녀가 이리로 건너오고 있지 않느냐.‘숨어서 내가 하는 일을 엿보고 있었구나.’ 소년은 달리기를 시작했다. 디딤돌을 헛디뎠다. 한 발이 물 속에 빠졌다. 더 달렸다.몸을 가릴 데가 있어 줬으면 좋겠다. 이 쪽 길에는 갈밭도 없다. 메밀밭이다. 전에 없이 메밀꽃 냄새가 짜릿하게 코를 찌른다고 생각됐다. 미간이 아찔했다. 찝찔한 액체가 입술에 흘러들었다. 코피였다.소년은 한 손으로 코피를 훔쳐내면서 그냥 달렸다. 어디선가 ‘바보, 바보’ 하는 소리가 자꾸만 뒤따라오는 것 같았다.토요일이었다.개울가에 이르니, 며칠째 보이지 않던 소녀가 건너편 가에 앉아 물장난을 하고 있었다. 모르는 체 징검다리를 건너기 시작했다. 얼마 전에 소녀 앞에서 한 번 실수를 했을 뿐, 여태 큰길 가듯이 건너던 징검다리를 오늘은 조심스럽게 건넌다.“얘.”못 들은 체했다. 둑 위로 올라섰다.“얘, 이게 무슨 조개지?”자기도 모르게 돌아섰다. 소녀의 맑고 검은 눈과 마주쳤다. 얼른 소녀의 손바닥으로 눈을 떨구었다.“비단조개.”“이름도 참 곱다.”갈림길에 왔다. 여기서 소녀는 아래편으로 한 삼 마장쯤, 소년은 우대로 한 십 리 가까운 길을 가야 한다.소녀가 걸음을 멈추며,“너, 저 산 너머에 가 본 일 있니?”벌 끝을 가리켰다.“없다.”“우리, 가 보지 않으련? 시골 오니까 혼자서 심심해 못 견디겠다.”“저래 봬도 멀다.”“멀면 얼마나 멀기에? 서울 있을 땐 사뭇 먼 데까지 소풍 갔었다.”소녀의 눈이 금새 ‘바보,바보,’할 것만 같았다.논 사잇길로 들어섰다. 벼 가을걷이하는 곁을 지났다.허수아비가 서 있었다. 소년이 새끼줄을 흔들었다. 참새가 몇 마리 날아간다. ‘참, 오늘은 일찍 집으로 돌아가 텃논의 참새를 봐야 할걸.’ 하는 생각이 든다.“야, 재밌다!”소녀가 허수아비 줄을 잡더니 흔들어 댄다. 허수아비가 자꾸 우쭐거리며 춤을 춘다. 소녀의 왼쪽 볼에 살포시 보조개가 패었다.저만큼 허수아비가 또 서 있다. 소녀가 그리로 달려간다. 그 뒤를 소년도 달렸다. 오늘 같은 날은 일찍 집으로 돌아가 집안일을 도와야 한다는 생각을 잊어버리기라도 하려는 듯이.소녀의 곁을 스쳐 그냥 달린다. 메뚜기가 따끔따끔 얼굴에 와 부딪친다. 쪽빛으로 한껏 갠 가을 하늘이 소년의 눈앞에서 맴을 돈다. 어지럽다. 저놈의 독수리, 저놈의 독수리, 저놈의 독수리가 맴을 돌고 있기 때문이다.'),\n",
       " Document(metadata={'producer': 'Hancom PDF 1.3.0.542', 'creator': 'Hwp 2018 10.0.0.11131', 'creationdate': '2021-11-29T20:05:50+09:00', 'author': 'MYHOME', 'moddate': '2021-11-29T20:05:50+09:00', 'pdfversion': '1.4', 'source': '소나기.pdf', 'total_pages': 7, 'page': 2, 'page_label': '3'}, page_content='- 3 -\\n돌아다보니, 소녀는 지금 자기가 지나쳐 온 허수아비를 흔들고 있다. 좀 전 허수아비보다 더 우쭐거린다.논이 끝난 곳에 도랑이 하나 있었다. 소녀가 먼저 뛰어 건넜다.거기서부터 산 밑까지는 밭이었다.수숫단을 세워 놓은 밭머리를 지났다.“저게 뭐니?”“원두막.”“여기 참외, 맛있니?”“그럼, 참외 맛도 좋지만 수박 맛은 더 좋다.”“하나 먹어 봤으면.”소년이 참외 그루에 심은 무우밭으로 들어가, 무우 두 밑을 뽑아 왔다. 아직 밑이 덜 들어 있었다. 잎을 비틀어 팽개친 후, 소녀에게 한개 건넨다. 그리고는 이렇게 먹어야 한다는 듯이, 먼저 대강이를 한 입 베물어 낸 다음, 손톱으로 한 돌이 껍질을 벗겨 우쩍 깨문다.소녀도 따라 했다. 그러나, 세 입도 못 먹고,“아, 맵고 지려.”하며 집어던지고 만다.“참, 맛 없어 못 먹겠다.”소년이 더 멀리 팽개쳐 버렸다.산이 가까워졌다.단풍이 눈에 따가웠다.“야아!”소녀가 산을 향해 달려갔다. 이번은 소년이 뒤따라 달리지 않았다. 그러고도 곧 소녀보다 더 많은 꽃을 꺾었다.“이게 들국화, 이게 싸리꽃, 이게 도라지꽃,…….”“도라지꽃이 이렇게 예쁜 줄은 몰랐네. 난 보랏빛이 좋아!…… 그런데, 이 양산 같이 생긴 노란 꽃이 뭐지?”“마타리꽃.”소녀는 마타리꽃을 양산 받듯이 해 보인다. 약간 상기된 얼굴에 살포시 보조개를 떠올리며.다시 소년은 꽃 한 옴큼을 꺾어 왔다. 싱싱한 꽃가지만 골라 소녀에게 건넨다.그러나 소녀는“하나도 버리지 마라.”산마루께로 올라갔다.맞은편 골짜기에 오순도순 초가집이 몇 모여 있었다.누가 말할 것도 아닌데, 바위에 나란히 걸터앉았다. 유달리 주위가 조용해진 것 같았다. 따가운 가을 햇살만이 말라가는 풀 냄새를 퍼뜨리고 있었다.“저건 또 무슨 꽃이지?”적잖이 비탈진 곳에 칡덩굴이 엉키어 꽃을 달고 있었다.“꼭 등꽃 같네. 서울 우리 학교에 큰 등나무가 있었단다. 저 꽃을 보니까 등나무 밑에서 놀던 동무들 생각이 난다.”소녀가 조용히 일어나 비탈진 곳으로 간다. 꽃송이가 많이 달린 줄기를 잡고 끊기 시작한')]"
      ]
     },
     "execution_count": 20,
     "metadata": {},
     "output_type": "execute_result"
    }
   ],
   "source": [
    "docs[:3]"
   ]
  },
  {
   "cell_type": "code",
   "execution_count": 21,
   "id": "5f0bb270",
   "metadata": {},
   "outputs": [],
   "source": [
    "from langchain_openai import ChatOpenAI\n",
    "\n",
    "chat = ChatOpenAI(model_name='gpt-4o-mini', temperature=0.9)"
   ]
  },
  {
   "cell_type": "code",
   "execution_count": 22,
   "id": "9a7f57c5",
   "metadata": {},
   "outputs": [
    {
     "ename": "TypeError",
     "evalue": "FAISS.save_local() got an unexpected keyword argument 'allow_dangerous_deserialization'",
     "output_type": "error",
     "traceback": [
      "\u001b[0;31m---------------------------------------------------------------------------\u001b[0m",
      "\u001b[0;31mTypeError\u001b[0m                                 Traceback (most recent call last)",
      "Cell \u001b[0;32mIn[22], line 16\u001b[0m\n\u001b[1;32m     10\u001b[0m index \u001b[38;5;241m=\u001b[39m VectorstoreIndexCreator(\n\u001b[1;32m     11\u001b[0m     vectorstore_cls\u001b[38;5;241m=\u001b[39mFAISS,\n\u001b[1;32m     12\u001b[0m     embedding\u001b[38;5;241m=\u001b[39membeddings,\n\u001b[1;32m     13\u001b[0m     )\u001b[38;5;241m.\u001b[39mfrom_loaders([loader])\n\u001b[1;32m     15\u001b[0m \u001b[38;5;66;03m# 파일로 저장\u001b[39;00m\n\u001b[0;32m---> 16\u001b[0m \u001b[43mindex\u001b[49m\u001b[38;5;241;43m.\u001b[39;49m\u001b[43mvectorstore\u001b[49m\u001b[38;5;241;43m.\u001b[39;49m\u001b[43msave_local\u001b[49m\u001b[43m(\u001b[49m\u001b[38;5;124;43m\"\u001b[39;49m\u001b[38;5;124;43moutdoor\u001b[39;49m\u001b[38;5;124;43m\"\u001b[39;49m\u001b[43m,\u001b[49m\u001b[43m \u001b[49m\u001b[43mallow_dangerous_deserialization\u001b[49m\u001b[38;5;241;43m=\u001b[39;49m\u001b[38;5;28;43;01mTrue\u001b[39;49;00m\u001b[43m)\u001b[49m\n",
      "\u001b[0;31mTypeError\u001b[0m: FAISS.save_local() got an unexpected keyword argument 'allow_dangerous_deserialization'"
     ]
    }
   ],
   "source": [
    "from langchain.embeddings import HuggingFaceEmbeddings\n",
    "from langchain_openai import OpenAIEmbeddings\n",
    "\n",
    "embeddings = OpenAIEmbeddings()\n",
    "#embeddings = HuggingFaceEmbeddings()\n",
    "\n",
    "from langchain.indexes import VectorstoreIndexCreator\n",
    "from langchain.vectorstores import FAISS\n",
    "\n",
    "index = VectorstoreIndexCreator(\n",
    "    vectorstore_cls=FAISS,\n",
    "    embedding=embeddings,\n",
    "    ).from_loaders([loader])\n",
    "\n",
    "# 파일로 저장\n",
    "index.vectorstore.save_local(\"outdoor\", allow_dangerous_deserialization=True)"
   ]
  },
  {
   "cell_type": "code",
   "execution_count": 12,
   "id": "fbea0960",
   "metadata": {},
   "outputs": [
    {
     "name": "stdout",
     "output_type": "stream",
     "text": [
      "\n",
      "\n",
      "\u001b[1m> Entering new RetrievalQA chain...\u001b[0m\n",
      "\n",
      "\u001b[1m> Finished chain.\u001b[0m\n"
     ]
    },
    {
     "data": {
      "text/plain": [
       "'소년은 개울가에서 처음 소녀를 만났습니다.'"
      ]
     },
     "execution_count": 12,
     "metadata": {},
     "output_type": "execute_result"
    }
   ],
   "source": [
    "index.query(\"소년은 어디에서 처음 소녀를 만났나?\", llm=chat, verbose=True)"
   ]
  },
  {
   "cell_type": "code",
   "execution_count": 13,
   "id": "d3bf6f68",
   "metadata": {},
   "outputs": [
    {
     "name": "stdout",
     "output_type": "stream",
     "text": [
      "\n",
      "\n",
      "\u001b[1m> Entering new RetrievalQA chain...\u001b[0m\n",
      "\n",
      "\u001b[1m> Finished chain.\u001b[0m\n"
     ]
    },
    {
     "data": {
      "text/plain": [
       "'소년은 소녀에게 덕쇠 할아버지네 호두를 맛보여 주고 싶어 했습니다.'"
      ]
     },
     "execution_count": 13,
     "metadata": {},
     "output_type": "execute_result"
    }
   ],
   "source": [
    "index.query(\"소년은 소녀에게 무엇을 주려고 했나?\", llm=chat, verbose=True)"
   ]
  },
  {
   "cell_type": "code",
   "execution_count": 14,
   "id": "e9e3aa0a",
   "metadata": {},
   "outputs": [
    {
     "name": "stdout",
     "output_type": "stream",
     "text": [
      "\n",
      "\n",
      "\u001b[1m> Entering new RetrievalQA chain...\u001b[0m\n",
      "\n",
      "\u001b[1m> Finished chain.\u001b[0m\n"
     ]
    },
    {
     "data": {
      "text/plain": [
       "'소녀는 소년에게 하얀 조약돌을 주었습니다.'"
      ]
     },
     "execution_count": 14,
     "metadata": {},
     "output_type": "execute_result"
    }
   ],
   "source": [
    "index.query(\"소녀는 소년에게 무엇을 주었나?\", llm=chat, verbose=True)"
   ]
  }
 ],
 "metadata": {
  "kernelspec": {
   "display_name": "Python 3",
   "language": "python",
   "name": "python3"
  },
  "language_info": {
   "codemirror_mode": {
    "name": "ipython",
    "version": 3
   },
   "file_extension": ".py",
   "mimetype": "text/x-python",
   "name": "python",
   "nbconvert_exporter": "python",
   "pygments_lexer": "ipython3",
   "version": "3.10.12"
  }
 },
 "nbformat": 4,
 "nbformat_minor": 5
}
