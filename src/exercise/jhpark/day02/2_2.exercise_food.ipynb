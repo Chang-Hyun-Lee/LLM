{
 "cells": [
  {
   "cell_type": "code",
   "execution_count": null,
   "id": "b50aedfe",
   "metadata": {},
   "outputs": [],
   "source": [
    "# https://www.data.go.kr/data/15045016/fileData.do"
   ]
  },
  {
   "cell_type": "code",
   "execution_count": 14,
   "id": "6c5766a9",
   "metadata": {},
   "outputs": [
    {
     "name": "stdout",
     "output_type": "stream",
     "text": [
      "Defaulting to user installation because normal site-packages is not writeable\n",
      "Collecting load_dotenv\n",
      "  Downloading load_dotenv-0.1.0-py3-none-any.whl (7.2 kB)\n",
      "Collecting python-dotenv\n",
      "  Downloading python_dotenv-1.1.1-py3-none-any.whl (20 kB)\n",
      "Installing collected packages: python-dotenv, load_dotenv\n",
      "Successfully installed load_dotenv-0.1.0 python-dotenv-1.1.1\n"
     ]
    }
   ],
   "source": [
    "!pip install load_dotenv"
   ]
  },
  {
   "cell_type": "code",
   "execution_count": 15,
   "id": "b6690886",
   "metadata": {},
   "outputs": [],
   "source": [
    "import os\n",
    "from dotenv import load_dotenv\n",
    "import requests\n",
    "\n",
    "load_dotenv()\n",
    "api_key = os.getenv(\"SERPAPI_API_KEY\")\n",
    "google_maps_api_key = os.getenv(\"GOOGLE_MAP_API_KEY\")"
   ]
  },
  {
   "cell_type": "code",
   "execution_count": 17,
   "id": "4aa1ee8a",
   "metadata": {},
   "outputs": [],
   "source": [
    "def get_coordinates(location, google_maps_api_key):\n",
    "    \"\"\"\n",
    "    Gets latitude and longitude for a given location using Google Geocoding API.\n",
    "    \"\"\"\n",
    "    url = \"https://maps.googleapis.com/maps/api/geocode/json\"\n",
    "    params = {\"address\": location, \"key\": google_maps_api_key}\n",
    "\n",
    "    response = requests.get(url, params=params)\n",
    "    if response.status_code == 200:\n",
    "        data = response.json()\n",
    "        if data[\"results\"]:\n",
    "            location_data = data[\"results\"][0][\"geometry\"][\"location\"]\n",
    "            latitude = location_data[\"lat\"]\n",
    "            longitude = location_data[\"lng\"]\n",
    "            formatted_coordinates = f\"@{latitude},{longitude},14z\"\n",
    "            print(f\"Extracted coordinates: {formatted_coordinates}\")\n",
    "            return formatted_coordinates\n",
    "        else:\n",
    "            raise Exception(\"No results found for the location.\")\n",
    "    else:\n",
    "        raise Exception(f\"Error: {response.status_code}, {response.text}\")"
   ]
  },
  {
   "cell_type": "code",
   "execution_count": 26,
   "id": "dc328892",
   "metadata": {},
   "outputs": [],
   "source": [
    "def search_restaurants(test_plan, api_key, google_maps_api_key):\n",
    "    \"\"\"\n",
    "    Searches for restaurants using SerpAPI's Google Maps API.\n",
    "    \"\"\"\n",
    "    location = test_plan[\"main_location\"]\n",
    "    coordinates = get_coordinates(location, google_maps_api_key)  \n",
    "\n",
    "    url = \"https://serpapi.com/search\"\n",
    "    params = {\n",
    "        \"engine\": \"google_maps\",\n",
    "        \"q\": f\"{location} 맛집\",\n",
    "        \"ll\": coordinates,\n",
    "        \"hl\": \"ko\",\n",
    "        \"gl\": \"kr\",\n",
    "        \"api_key\": api_key,\n",
    "        \"start\": 0,\n",
    "    }"
   ]
  },
  {
   "cell_type": "code",
   "execution_count": 28,
   "id": "120b5e9d",
   "metadata": {},
   "outputs": [
    {
     "ename": "NameError",
     "evalue": "name 'location' is not defined",
     "output_type": "error",
     "traceback": [
      "\u001b[0;31m---------------------------------------------------------------------------\u001b[0m",
      "\u001b[0;31mNameError\u001b[0m                                 Traceback (most recent call last)",
      "Cell \u001b[0;32mIn[28], line 1\u001b[0m\n\u001b[0;32m----> 1\u001b[0m \u001b[38;5;28mprint\u001b[39m(\u001b[38;5;124mf\u001b[39m\u001b[38;5;124m\"\u001b[39m\u001b[38;5;124mSearching for restaurants in \u001b[39m\u001b[38;5;132;01m{\u001b[39;00m\u001b[43mlocation\u001b[49m\u001b[38;5;132;01m}\u001b[39;00m\u001b[38;5;124m...\u001b[39m\u001b[38;5;124m\"\u001b[39m)\n",
      "\u001b[0;31mNameError\u001b[0m: name 'location' is not defined"
     ]
    }
   ],
   "source": [
    "print(f\"Searching for restaurants in {location}...\")"
   ]
  },
  {
   "cell_type": "code",
   "execution_count": 27,
   "id": "98440a22",
   "metadata": {},
   "outputs": [
    {
     "ename": "NameError",
     "evalue": "name 'params' is not defined",
     "output_type": "error",
     "traceback": [
      "\u001b[0;31m---------------------------------------------------------------------------\u001b[0m",
      "\u001b[0;31mNameError\u001b[0m                                 Traceback (most recent call last)",
      "Cell \u001b[0;32mIn[27], line 5\u001b[0m\n\u001b[1;32m      2\u001b[0m seen_place_ids \u001b[38;5;241m=\u001b[39m \u001b[38;5;28mset\u001b[39m()  \u001b[38;5;66;03m# 중복 제거를 위해 place_id 사용\u001b[39;00m\n\u001b[1;32m      4\u001b[0m \u001b[38;5;28;01mfor\u001b[39;00m start \u001b[38;5;129;01min\u001b[39;00m [\u001b[38;5;241m0\u001b[39m, \u001b[38;5;241m20\u001b[39m]:  \u001b[38;5;66;03m# Fetch two pages of results (20 each)\u001b[39;00m\n\u001b[0;32m----> 5\u001b[0m     \u001b[43mparams\u001b[49m[\u001b[38;5;124m\"\u001b[39m\u001b[38;5;124mstart\u001b[39m\u001b[38;5;124m\"\u001b[39m] \u001b[38;5;241m=\u001b[39m start\n\u001b[1;32m      6\u001b[0m     response \u001b[38;5;241m=\u001b[39m requests\u001b[38;5;241m.\u001b[39mget(url, params\u001b[38;5;241m=\u001b[39mparams)\n\u001b[1;32m      8\u001b[0m     \u001b[38;5;28;01mif\u001b[39;00m response\u001b[38;5;241m.\u001b[39mstatus_code \u001b[38;5;241m==\u001b[39m \u001b[38;5;241m200\u001b[39m:\n",
      "\u001b[0;31mNameError\u001b[0m: name 'params' is not defined"
     ]
    }
   ],
   "source": [
    "all_restaurants = []\n",
    "seen_place_ids = set()  # 중복 제거를 위해 place_id 사용\n",
    "\n",
    "for start in [0, 20]:  # Fetch two pages of results (20 each)\n",
    "    params[\"start\"] = start\n",
    "    response = requests.get(url, params=params)\n",
    "\n",
    "    if response.status_code == 200:\n",
    "        data = response.json()\n",
    "        results = data.get(\"local_results\", [])\n",
    "\n",
    "        for result in results:\n",
    "            name = result.get(\"title\", \"No name\")\n",
    "            address = result.get(\"address\", \"No address\")\n",
    "            rating = result.get(\"rating\", 0)\n",
    "            reviews = result.get(\"reviews\", 0)\n",
    "            place_id = result.get(\"place_id\", \"\")\n",
    "\n",
    "            # Filter: 평점 4 이상 & 리뷰 500개 이상\n",
    "            if rating >= 4 and reviews >= 500 and place_id not in seen_place_ids:\n",
    "                all_restaurants.append(\n",
    "                    {\n",
    "                        \"name\": name,\n",
    "                        \"address\": address,\n",
    "                        \"rating\": rating,\n",
    "                        \"reviews\": reviews,\n",
    "                        \"place_id\": place_id,\n",
    "                    }\n",
    "                )\n",
    "                seen_place_ids.add(place_id)"
   ]
  },
  {
   "cell_type": "code",
   "execution_count": 20,
   "id": "69ab307c",
   "metadata": {},
   "outputs": [
    {
     "name": "stdout",
     "output_type": "stream",
     "text": [
      "An error occurred: No results found for the location.\n"
     ]
    }
   ],
   "source": [
    "if __name__ == \"__main__\":\n",
    "    test_plan = {\n",
    "        \"id\": 1,\n",
    "        \"name\": \"부산 여행\",\n",
    "        \"main_location\": \"부산광역시\",\n",
    "        \"concepts\": [\"가족\", \"맛집\"],\n",
    "        \"start_date\": \"2025-01-26T11:00:00\",\n",
    "        \"end_date\": \"2025-01-27T16:00:00\",\n",
    "    }\n",
    "\n",
    "    try:\n",
    "        restaurants = search_restaurants(test_plan, api_key, google_maps_api_key)\n",
    "\n",
    "        for idx, restaurant in enumerate(restaurants, start=1):\n",
    "            print(\n",
    "                f\"{idx}. {restaurant['name']} - {restaurant['address']} \"\n",
    "                f\"(Rating: {restaurant['rating']}, Reviews: {restaurant['reviews']})\"\n",
    "            )\n",
    "    except Exception as e:\n",
    "        print(f\"An error occurred: {e}\")"
   ]
  },
  {
   "cell_type": "code",
   "execution_count": 12,
   "id": "1f4f3f2c",
   "metadata": {},
   "outputs": [
    {
     "name": "stdout",
     "output_type": "stream",
     "text": [
      "%ED%8C%90%EA%B5%90\n"
     ]
    }
   ],
   "source": [
    "from urllib.parse import quote\n",
    "\n",
    "KeyWord = quote(\"판교\")\n",
    "print(KeyWord)"
   ]
  },
  {
   "cell_type": "code",
   "execution_count": null,
   "id": "1111df44",
   "metadata": {},
   "outputs": [],
   "source": []
  },
  {
   "cell_type": "code",
   "execution_count": 10,
   "id": "ccc86f60",
   "metadata": {},
   "outputs": [
    {
     "ename": "IndentationError",
     "evalue": "unexpected indent (1634067395.py, line 14)",
     "output_type": "error",
     "traceback": [
      "\u001b[0;36m  Cell \u001b[0;32mIn[10], line 14\u001b[0;36m\u001b[0m\n\u001b[0;31m    for restaurant in data['restaurants']:\u001b[0m\n\u001b[0m    ^\u001b[0m\n\u001b[0;31mIndentationError\u001b[0m\u001b[0;31m:\u001b[0m unexpected indent\n"
     ]
    }
   ],
   "source": [
    "import requests\n",
    "import json\n",
    "\n",
    "    # 공공데이터 API 엔드포인트\n",
    "api_url = \"\thttps://www.data.go.kr/data/15045016/fileData.do\"\n",
    "params = {\n",
    "        \"지역\": \"거제시\",\n",
    "        \"음식종류\": \"한식\"\n",
    "         }\n",
    "response = requests.get(api_url, params=params)\n",
    "data = json.loads(response.text)\n",
    "\n",
    "    # 데이터 처리 및 추천 로직 구현\n",
    "    for restaurant in data['restaurants']:\n",
    "        print(f\"음식점명: {restaurant['name']}, 주소: {restaurant['address']}\")"
   ]
  }
 ],
 "metadata": {
  "kernelspec": {
   "display_name": "Python 3",
   "language": "python",
   "name": "python3"
  },
  "language_info": {
   "codemirror_mode": {
    "name": "ipython",
    "version": 3
   },
   "file_extension": ".py",
   "mimetype": "text/x-python",
   "name": "python",
   "nbconvert_exporter": "python",
   "pygments_lexer": "ipython3",
   "version": "3.10.12"
  }
 },
 "nbformat": 4,
 "nbformat_minor": 5
}
