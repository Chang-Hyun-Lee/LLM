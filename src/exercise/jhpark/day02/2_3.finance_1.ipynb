{
 "cells": [
  {
   "cell_type": "code",
   "execution_count": 1,
   "id": "755d1c87",
   "metadata": {},
   "outputs": [],
   "source": [
    "from pykrx import stock"
   ]
  },
  {
   "cell_type": "code",
   "execution_count": 38,
   "id": "9bbc6d85",
   "metadata": {},
   "outputs": [],
   "source": [
    "import os\n",
    "import json\n",
    "from openai import OpenAI\n",
    "\n",
    "client = OpenAI()\n",
    "client.api_key = os.getenv(\"OPENAI_API_KEY\")\n",
    "\n",
    "from io import StringIO\n",
    "\n",
    "def analyze_stock_data(stock_code, start_date, end_date):\n",
    "    # Fetch stock data\n",
    "    df = stock.get_market_ohlcv(start_date, end_date, stock_code)\n",
    "    \n",
    "    # Convert DataFrame to CSV format\n",
    "    csv_buffer = StringIO()\n",
    "    df.to_csv(csv_buffer)\n",
    "    csv_data = csv_buffer.getvalue()\n",
    "    \n",
    "    # Analyze stock data using OpenAI API\n",
    "    response = openai.chat.completions.create(\n",
    "    model=\"gpt-4o-mini\",\n",
    "    messages=[\n",
    "    {\n",
    "      \"role\": \"system\",\n",
    "      \"content\": \"다음은 {stock_code}의 날짜별 주가 데이터야. 2024년 12월부터 2025년 1월까지 주가를 분석해줘.\"\n",
    "    },\n",
    "    {\n",
    "      \"role\": \"user\",\n",
    "      \"content\": csv_data\n",
    "    }\n",
    "  ],\n",
    "  temperature=0,\n",
    "  max_tokens=1024,\n",
    "  top_p=1,\n",
    "  frequency_penalty=0,\n",
    "  presence_penalty=0\n",
    ")\n",
    "    \n",
    "    # Return the analysis result\n",
    "    return response.choices[0].message.content\n",
    "\n"
   ]
  },
  {
   "cell_type": "code",
   "execution_count": 39,
   "id": "bb16f6e2",
   "metadata": {},
   "outputs": [
    {
     "name": "stdout",
     "output_type": "stream",
     "text": [
      "2024년 12월부터 2025년 1월까지의 주가 데이터를 분석해보겠습니다.\n",
      "\n",
      "### 1. 주가 동향\n",
      "- **12월 초**: 2024년 12월 2일, 주가는 48,950원이었고, 이후 12월 3일에 52,600원으로 급등했습니다. 이는 약 7.46%의 상승률을 기록했습니다.\n",
      "- **중순**: 12월 11일에는 54,900원으로 상승한 후, 12월 19일에는 49,500원으로 하락했습니다. 이 시기에 주가는 변동성이 컸습니다.\n",
      "- **12월 말**: 12월 30일에는 50,000원으로 마감하며, 연말에 다소 안정세를 보였습니다.\n",
      "\n",
      "### 2. 2025년 1월 동향\n",
      "- **초기**: 2025년 1월 2일, 주가는 51,100원이었고, 1월 3일에는 54,100원으로 다시 상승했습니다. 이틀 연속 상승세를 보였습니다.\n",
      "- **중순**: 1월 10일에는 52,100원으로 하락했으나, 1월 13일에는 52,300원으로 소폭 반등했습니다.\n",
      "- **하락세**: 1월 23일에는 47,200원으로 급락하며, 1월 31일에는 46,200원으로 마감했습니다. 이 시기에 주가는 지속적으로 하락세를 보였습니다.\n",
      "\n",
      "### 3. 거래량\n",
      "- 거래량은 12월 11일에 1,341,236주로 가장 많았고, 12월 12일에도 1,934,684주로 높은 거래량을 기록했습니다. 이는 주가 상승과 관련이 있을 수 있습니다.\n",
      "- 1월 8일과 1월 9일에도 거래량이 높았으나, 이후 하락세로 전환되면서 거래량이 감소했습니다.\n",
      "\n",
      "### 4. 등락률\n",
      "- 12월 3일의 7.46% 상승을 제외하면, 12월 중반부터 하락세가 두드러졌습니다.\n",
      "- 1월에는 1월 3일의 5.87% 상승 이후, 1월 10일과 1월 15일에 각각 하락세를 보였습니다.\n",
      "\n",
      "### 결론\n",
      "2024년 12월부터 2025년 1월까지의 주가는 초기에는 상승세를 보였으나, 중순 이후부터 하락세로 전환되었습니다. 특히 1월에는 급격한 하락이 있었으며, 거래량 또한 주가의 변동성과 밀접한 관계가 있음을 알 수 있습니다. 향후 주가 회복 여부는 시장의 전반적인 동향과 기업의 실적에 따라 달라질 것으로 보입니다.\n"
     ]
    }
   ],
   "source": [
    "# Example usage\n",
    "result = analyze_stock_data(\"278470\", \"20241201\", \"20250710\")\n",
    "print(result)"
   ]
  },
  {
   "cell_type": "code",
   "execution_count": null,
   "id": "4d8e2bcc",
   "metadata": {},
   "outputs": [],
   "source": []
  }
 ],
 "metadata": {
  "kernelspec": {
   "display_name": "Python 3",
   "language": "python",
   "name": "python3"
  },
  "language_info": {
   "codemirror_mode": {
    "name": "ipython",
    "version": 3
   },
   "file_extension": ".py",
   "mimetype": "text/x-python",
   "name": "python",
   "nbconvert_exporter": "python",
   "pygments_lexer": "ipython3",
   "version": "3.10.12"
  }
 },
 "nbformat": 4,
 "nbformat_minor": 5
}
