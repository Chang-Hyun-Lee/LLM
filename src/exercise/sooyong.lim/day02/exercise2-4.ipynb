{
 "cells": [
  {
   "cell_type": "code",
   "execution_count": 2,
   "id": "c574b95d",
   "metadata": {},
   "outputs": [
    {
     "name": "stdout",
     "output_type": "stream",
     "text": [
      "Defaulting to user installation because normal site-packages is not writeable\n",
      "Requirement already satisfied: langchain in /home/ubuntu/.local/lib/python3.10/site-packages (0.3.26)\n",
      "Requirement already satisfied: langchain-community in /home/ubuntu/.local/lib/python3.10/site-packages (0.3.27)\n",
      "Requirement already satisfied: langsmith>=0.1.17 in /home/ubuntu/.local/lib/python3.10/site-packages (from langchain) (0.4.8)\n",
      "Requirement already satisfied: langchain-core<1.0.0,>=0.3.66 in /home/ubuntu/.local/lib/python3.10/site-packages (from langchain) (0.3.70)\n",
      "Requirement already satisfied: PyYAML>=5.3 in /usr/lib/python3/dist-packages (from langchain) (5.4.1)\n",
      "Requirement already satisfied: langchain-text-splitters<1.0.0,>=0.3.8 in /home/ubuntu/.local/lib/python3.10/site-packages (from langchain) (0.3.8)\n",
      "Requirement already satisfied: SQLAlchemy<3,>=1.4 in /home/ubuntu/.local/lib/python3.10/site-packages (from langchain) (2.0.41)\n",
      "Requirement already satisfied: async-timeout<5.0.0,>=4.0.0 in /home/ubuntu/.local/lib/python3.10/site-packages (from langchain) (4.0.3)\n",
      "Requirement already satisfied: requests<3,>=2 in /home/ubuntu/.local/lib/python3.10/site-packages (from langchain) (2.32.4)\n",
      "Requirement already satisfied: pydantic<3.0.0,>=2.7.4 in /home/ubuntu/.local/lib/python3.10/site-packages (from langchain) (2.11.7)\n",
      "Requirement already satisfied: tenacity!=8.4.0,<10,>=8.1.0 in /home/ubuntu/.local/lib/python3.10/site-packages (from langchain-community) (9.1.2)\n",
      "Requirement already satisfied: dataclasses-json<0.7,>=0.5.7 in /home/ubuntu/.local/lib/python3.10/site-packages (from langchain-community) (0.6.7)\n",
      "Requirement already satisfied: numpy>=1.26.2 in /home/ubuntu/.local/lib/python3.10/site-packages (from langchain-community) (2.2.6)\n",
      "Requirement already satisfied: pydantic-settings<3.0.0,>=2.4.0 in /home/ubuntu/.local/lib/python3.10/site-packages (from langchain-community) (2.10.1)\n",
      "Requirement already satisfied: aiohttp<4.0.0,>=3.8.3 in /home/ubuntu/.local/lib/python3.10/site-packages (from langchain-community) (3.12.14)\n",
      "Requirement already satisfied: httpx-sse<1.0.0,>=0.4.0 in /home/ubuntu/.local/lib/python3.10/site-packages (from langchain-community) (0.4.1)\n",
      "Requirement already satisfied: attrs>=17.3.0 in /usr/lib/python3/dist-packages (from aiohttp<4.0.0,>=3.8.3->langchain-community) (21.2.0)\n",
      "Requirement already satisfied: multidict<7.0,>=4.5 in /home/ubuntu/.local/lib/python3.10/site-packages (from aiohttp<4.0.0,>=3.8.3->langchain-community) (6.6.3)\n",
      "Requirement already satisfied: yarl<2.0,>=1.17.0 in /home/ubuntu/.local/lib/python3.10/site-packages (from aiohttp<4.0.0,>=3.8.3->langchain-community) (1.20.1)\n",
      "Requirement already satisfied: aiohappyeyeballs>=2.5.0 in /home/ubuntu/.local/lib/python3.10/site-packages (from aiohttp<4.0.0,>=3.8.3->langchain-community) (2.6.1)\n",
      "Requirement already satisfied: aiosignal>=1.4.0 in /home/ubuntu/.local/lib/python3.10/site-packages (from aiohttp<4.0.0,>=3.8.3->langchain-community) (1.4.0)\n",
      "Requirement already satisfied: propcache>=0.2.0 in /home/ubuntu/.local/lib/python3.10/site-packages (from aiohttp<4.0.0,>=3.8.3->langchain-community) (0.3.2)\n",
      "Requirement already satisfied: frozenlist>=1.1.1 in /home/ubuntu/.local/lib/python3.10/site-packages (from aiohttp<4.0.0,>=3.8.3->langchain-community) (1.7.0)\n",
      "Requirement already satisfied: marshmallow<4.0.0,>=3.18.0 in /home/ubuntu/.local/lib/python3.10/site-packages (from dataclasses-json<0.7,>=0.5.7->langchain-community) (3.26.1)\n",
      "Requirement already satisfied: typing-inspect<1,>=0.4.0 in /home/ubuntu/.local/lib/python3.10/site-packages (from dataclasses-json<0.7,>=0.5.7->langchain-community) (0.9.0)\n",
      "Requirement already satisfied: packaging>=23.2 in /home/ubuntu/.local/lib/python3.10/site-packages (from langchain-core<1.0.0,>=0.3.66->langchain) (25.0)\n",
      "Requirement already satisfied: typing-extensions>=4.7 in /home/ubuntu/.local/lib/python3.10/site-packages (from langchain-core<1.0.0,>=0.3.66->langchain) (4.14.1)\n",
      "Requirement already satisfied: jsonpatch<2.0,>=1.33 in /home/ubuntu/.local/lib/python3.10/site-packages (from langchain-core<1.0.0,>=0.3.66->langchain) (1.33)\n",
      "Requirement already satisfied: requests-toolbelt<2.0.0,>=1.0.0 in /home/ubuntu/.local/lib/python3.10/site-packages (from langsmith>=0.1.17->langchain) (1.0.0)\n",
      "Requirement already satisfied: orjson<4.0.0,>=3.9.14 in /home/ubuntu/.local/lib/python3.10/site-packages (from langsmith>=0.1.17->langchain) (3.11.0)\n",
      "Requirement already satisfied: zstandard<0.24.0,>=0.23.0 in /home/ubuntu/.local/lib/python3.10/site-packages (from langsmith>=0.1.17->langchain) (0.23.0)\n",
      "Requirement already satisfied: httpx<1,>=0.23.0 in /home/ubuntu/.local/lib/python3.10/site-packages (from langsmith>=0.1.17->langchain) (0.28.1)\n",
      "Requirement already satisfied: typing-inspection>=0.4.0 in /home/ubuntu/.local/lib/python3.10/site-packages (from pydantic<3.0.0,>=2.7.4->langchain) (0.4.1)\n",
      "Requirement already satisfied: annotated-types>=0.6.0 in /home/ubuntu/.local/lib/python3.10/site-packages (from pydantic<3.0.0,>=2.7.4->langchain) (0.7.0)\n",
      "Requirement already satisfied: pydantic-core==2.33.2 in /home/ubuntu/.local/lib/python3.10/site-packages (from pydantic<3.0.0,>=2.7.4->langchain) (2.33.2)\n",
      "Requirement already satisfied: python-dotenv>=0.21.0 in /home/ubuntu/.local/lib/python3.10/site-packages (from pydantic-settings<3.0.0,>=2.4.0->langchain-community) (1.1.1)\n",
      "Requirement already satisfied: certifi>=2017.4.17 in /home/ubuntu/.local/lib/python3.10/site-packages (from requests<3,>=2->langchain) (2025.7.14)\n",
      "Requirement already satisfied: urllib3<3,>=1.21.1 in /usr/lib/python3/dist-packages (from requests<3,>=2->langchain) (1.26.5)\n",
      "Requirement already satisfied: charset_normalizer<4,>=2 in /home/ubuntu/.local/lib/python3.10/site-packages (from requests<3,>=2->langchain) (3.4.2)\n",
      "Requirement already satisfied: idna<4,>=2.5 in /usr/lib/python3/dist-packages (from requests<3,>=2->langchain) (3.3)\n",
      "Requirement already satisfied: greenlet>=1 in /home/ubuntu/.local/lib/python3.10/site-packages (from SQLAlchemy<3,>=1.4->langchain) (3.2.3)\n",
      "Requirement already satisfied: httpcore==1.* in /home/ubuntu/.local/lib/python3.10/site-packages (from httpx<1,>=0.23.0->langsmith>=0.1.17->langchain) (1.0.9)\n",
      "Requirement already satisfied: anyio in /home/ubuntu/.local/lib/python3.10/site-packages (from httpx<1,>=0.23.0->langsmith>=0.1.17->langchain) (4.9.0)\n",
      "Requirement already satisfied: h11>=0.16 in /home/ubuntu/.local/lib/python3.10/site-packages (from httpcore==1.*->httpx<1,>=0.23.0->langsmith>=0.1.17->langchain) (0.16.0)\n",
      "Requirement already satisfied: jsonpointer>=1.9 in /usr/lib/python3/dist-packages (from jsonpatch<2.0,>=1.33->langchain-core<1.0.0,>=0.3.66->langchain) (2.0)\n",
      "Requirement already satisfied: mypy-extensions>=0.3.0 in /home/ubuntu/.local/lib/python3.10/site-packages (from typing-inspect<1,>=0.4.0->dataclasses-json<0.7,>=0.5.7->langchain-community) (1.1.0)\n",
      "Requirement already satisfied: sniffio>=1.1 in /home/ubuntu/.local/lib/python3.10/site-packages (from anyio->httpx<1,>=0.23.0->langsmith>=0.1.17->langchain) (1.3.1)\n",
      "Requirement already satisfied: exceptiongroup>=1.0.2 in /home/ubuntu/.local/lib/python3.10/site-packages (from anyio->httpx<1,>=0.23.0->langsmith>=0.1.17->langchain) (1.3.0)\n",
      "Note: you may need to restart the kernel to use updated packages.\n"
     ]
    }
   ],
   "source": [
    "pip install -U langchain langchain-community"
   ]
  },
  {
   "cell_type": "code",
   "execution_count": 3,
   "id": "4c5ba054",
   "metadata": {},
   "outputs": [
    {
     "name": "stdout",
     "output_type": "stream",
     "text": [
      "Defaulting to user installation because normal site-packages is not writeable\n",
      "Requirement already satisfied: langchain in /home/ubuntu/.local/lib/python3.10/site-packages (0.3.26)\n",
      "Requirement already satisfied: openai in /home/ubuntu/.local/lib/python3.10/site-packages (1.97.0)\n",
      "Requirement already satisfied: pypdf in /home/ubuntu/.local/lib/python3.10/site-packages (5.8.0)\n",
      "Requirement already satisfied: faiss-cpu in /home/ubuntu/.local/lib/python3.10/site-packages (1.11.0.post1)\n",
      "Requirement already satisfied: tiktoken in /home/ubuntu/.local/lib/python3.10/site-packages (0.9.0)\n",
      "Requirement already satisfied: PyYAML>=5.3 in /usr/lib/python3/dist-packages (from langchain) (5.4.1)\n",
      "Requirement already satisfied: SQLAlchemy<3,>=1.4 in /home/ubuntu/.local/lib/python3.10/site-packages (from langchain) (2.0.41)\n",
      "Requirement already satisfied: pydantic<3.0.0,>=2.7.4 in /home/ubuntu/.local/lib/python3.10/site-packages (from langchain) (2.11.7)\n",
      "Requirement already satisfied: requests<3,>=2 in /home/ubuntu/.local/lib/python3.10/site-packages (from langchain) (2.32.4)\n",
      "Requirement already satisfied: async-timeout<5.0.0,>=4.0.0 in /home/ubuntu/.local/lib/python3.10/site-packages (from langchain) (4.0.3)\n",
      "Requirement already satisfied: langsmith>=0.1.17 in /home/ubuntu/.local/lib/python3.10/site-packages (from langchain) (0.4.8)\n",
      "Requirement already satisfied: langchain-text-splitters<1.0.0,>=0.3.8 in /home/ubuntu/.local/lib/python3.10/site-packages (from langchain) (0.3.8)\n",
      "Requirement already satisfied: langchain-core<1.0.0,>=0.3.66 in /home/ubuntu/.local/lib/python3.10/site-packages (from langchain) (0.3.70)\n",
      "Requirement already satisfied: anyio<5,>=3.5.0 in /home/ubuntu/.local/lib/python3.10/site-packages (from openai) (4.9.0)\n",
      "Requirement already satisfied: sniffio in /home/ubuntu/.local/lib/python3.10/site-packages (from openai) (1.3.1)\n",
      "Requirement already satisfied: jiter<1,>=0.4.0 in /home/ubuntu/.local/lib/python3.10/site-packages (from openai) (0.10.0)\n",
      "Requirement already satisfied: httpx<1,>=0.23.0 in /home/ubuntu/.local/lib/python3.10/site-packages (from openai) (0.28.1)\n",
      "Requirement already satisfied: tqdm>4 in /home/ubuntu/.local/lib/python3.10/site-packages (from openai) (4.67.1)\n",
      "Requirement already satisfied: typing-extensions<5,>=4.11 in /home/ubuntu/.local/lib/python3.10/site-packages (from openai) (4.14.1)\n",
      "Requirement already satisfied: distro<2,>=1.7.0 in /usr/lib/python3/dist-packages (from openai) (1.7.0)\n",
      "Requirement already satisfied: packaging in /home/ubuntu/.local/lib/python3.10/site-packages (from faiss-cpu) (25.0)\n",
      "Requirement already satisfied: numpy<3.0,>=1.25.0 in /home/ubuntu/.local/lib/python3.10/site-packages (from faiss-cpu) (2.2.6)\n",
      "Requirement already satisfied: regex>=2022.1.18 in /home/ubuntu/.local/lib/python3.10/site-packages (from tiktoken) (2024.11.6)\n",
      "Requirement already satisfied: idna>=2.8 in /usr/lib/python3/dist-packages (from anyio<5,>=3.5.0->openai) (3.3)\n",
      "Requirement already satisfied: exceptiongroup>=1.0.2 in /home/ubuntu/.local/lib/python3.10/site-packages (from anyio<5,>=3.5.0->openai) (1.3.0)\n",
      "Requirement already satisfied: certifi in /home/ubuntu/.local/lib/python3.10/site-packages (from httpx<1,>=0.23.0->openai) (2025.7.14)\n",
      "Requirement already satisfied: httpcore==1.* in /home/ubuntu/.local/lib/python3.10/site-packages (from httpx<1,>=0.23.0->openai) (1.0.9)\n",
      "Requirement already satisfied: h11>=0.16 in /home/ubuntu/.local/lib/python3.10/site-packages (from httpcore==1.*->httpx<1,>=0.23.0->openai) (0.16.0)\n",
      "Requirement already satisfied: tenacity!=8.4.0,<10.0.0,>=8.1.0 in /home/ubuntu/.local/lib/python3.10/site-packages (from langchain-core<1.0.0,>=0.3.66->langchain) (9.1.2)\n",
      "Requirement already satisfied: jsonpatch<2.0,>=1.33 in /home/ubuntu/.local/lib/python3.10/site-packages (from langchain-core<1.0.0,>=0.3.66->langchain) (1.33)\n",
      "Requirement already satisfied: zstandard<0.24.0,>=0.23.0 in /home/ubuntu/.local/lib/python3.10/site-packages (from langsmith>=0.1.17->langchain) (0.23.0)\n",
      "Requirement already satisfied: requests-toolbelt<2.0.0,>=1.0.0 in /home/ubuntu/.local/lib/python3.10/site-packages (from langsmith>=0.1.17->langchain) (1.0.0)\n",
      "Requirement already satisfied: orjson<4.0.0,>=3.9.14 in /home/ubuntu/.local/lib/python3.10/site-packages (from langsmith>=0.1.17->langchain) (3.11.0)\n",
      "Requirement already satisfied: annotated-types>=0.6.0 in /home/ubuntu/.local/lib/python3.10/site-packages (from pydantic<3.0.0,>=2.7.4->langchain) (0.7.0)\n",
      "Requirement already satisfied: typing-inspection>=0.4.0 in /home/ubuntu/.local/lib/python3.10/site-packages (from pydantic<3.0.0,>=2.7.4->langchain) (0.4.1)\n",
      "Requirement already satisfied: pydantic-core==2.33.2 in /home/ubuntu/.local/lib/python3.10/site-packages (from pydantic<3.0.0,>=2.7.4->langchain) (2.33.2)\n",
      "Requirement already satisfied: charset_normalizer<4,>=2 in /home/ubuntu/.local/lib/python3.10/site-packages (from requests<3,>=2->langchain) (3.4.2)\n",
      "Requirement already satisfied: urllib3<3,>=1.21.1 in /usr/lib/python3/dist-packages (from requests<3,>=2->langchain) (1.26.5)\n",
      "Requirement already satisfied: greenlet>=1 in /home/ubuntu/.local/lib/python3.10/site-packages (from SQLAlchemy<3,>=1.4->langchain) (3.2.3)\n",
      "Requirement already satisfied: jsonpointer>=1.9 in /usr/lib/python3/dist-packages (from jsonpatch<2.0,>=1.33->langchain-core<1.0.0,>=0.3.66->langchain) (2.0)\n",
      "Note: you may need to restart the kernel to use updated packages.\n"
     ]
    }
   ],
   "source": [
    "pip install langchain openai pypdf faiss-cpu tiktoken"
   ]
  },
  {
   "cell_type": "code",
   "execution_count": 4,
   "id": "75c9f2d5",
   "metadata": {},
   "outputs": [
    {
     "name": "stdout",
     "output_type": "stream",
     "text": [
      "Defaulting to user installation because normal site-packages is not writeable\n",
      "Requirement already satisfied: pdfplumber in /home/ubuntu/.local/lib/python3.10/site-packages (0.11.7)\n",
      "Requirement already satisfied: Pillow>=9.1 in /home/ubuntu/.local/lib/python3.10/site-packages (from pdfplumber) (11.3.0)\n",
      "Requirement already satisfied: pdfminer.six==20250506 in /home/ubuntu/.local/lib/python3.10/site-packages (from pdfplumber) (20250506)\n",
      "Requirement already satisfied: pypdfium2>=4.18.0 in /home/ubuntu/.local/lib/python3.10/site-packages (from pdfplumber) (4.30.0)\n",
      "Requirement already satisfied: cryptography>=36.0.0 in /home/ubuntu/.local/lib/python3.10/site-packages (from pdfminer.six==20250506->pdfplumber) (45.0.5)\n",
      "Requirement already satisfied: charset-normalizer>=2.0.0 in /home/ubuntu/.local/lib/python3.10/site-packages (from pdfminer.six==20250506->pdfplumber) (3.4.2)\n",
      "Requirement already satisfied: cffi>=1.14 in /home/ubuntu/.local/lib/python3.10/site-packages (from cryptography>=36.0.0->pdfminer.six==20250506->pdfplumber) (1.17.1)\n",
      "Requirement already satisfied: pycparser in /home/ubuntu/.local/lib/python3.10/site-packages (from cffi>=1.14->cryptography>=36.0.0->pdfminer.six==20250506->pdfplumber) (2.22)\n",
      "Note: you may need to restart the kernel to use updated packages.\n"
     ]
    }
   ],
   "source": [
    "pip install pdfplumber"
   ]
  },
  {
   "cell_type": "code",
   "execution_count": 5,
   "id": "efa6b4d8",
   "metadata": {},
   "outputs": [
    {
     "name": "stdout",
     "output_type": "stream",
     "text": [
      "📄 '소나기.pdf'에서 텍스트를 추출 중...\n",
      "🤖 GPT에게 질문 중...\n",
      "\n",
      "📌 GPT의 답변:\n",
      "\n",
      "이 문서의 핵심 내용은 소년과 소녀의 순수한 우정과 성장 과정을 담고 있습니다. 소년은 개울가에서 소녀를 만나 물장난을 하며 즐거운 시간을 보내고, 둘 사이의 관계가 점차 깊어지는 과정을 그립니다. 그러나 소녀가 이사 간다는 소식이 전해지면서 소년은 상실감과 슬픔을 느끼게 됩니다. 이 이야기는 어린 시절의 순수한 감정과 첫사랑의 아련함을 표현하고 있으며, 소년이 소녀와의 기억을 소중히 여기고 있다는 점이 강조됩니다.\n"
     ]
    }
   ],
   "source": [
    "import pdfplumber\n",
    "import openai\n",
    "import os\n",
    "\n",
    "# ✅ OpenAI API 키 (환경변수 또는 직접 입력)\n",
    "openai.api_key = os.getenv(\"OPENAI_API_KEY\")\n",
    "\n",
    "# ✅ OpenAI 모델명\n",
    "MODEL = \"gpt-4o-mini\"\n",
    "\n",
    "# ✅ PDF에서 텍스트 추출 함수\n",
    "def extract_text_from_pdf(pdf_path: str) -> str:\n",
    "    all_text = \"\"\n",
    "    with pdfplumber.open(pdf_path) as pdf:\n",
    "        for page in pdf.pages:\n",
    "            text = page.extract_text()\n",
    "            if text:\n",
    "                all_text += text + \"\\n\"\n",
    "    return all_text\n",
    "\n",
    "# ✅ GPT로 질문에 답변 요청 함수\n",
    "def ask_question_about_pdf(text: str, question: str) -> str:\n",
    "    messages = [\n",
    "        {\"role\": \"system\", \"content\": \"다음은 PDF 문서의 전체 내용입니다. 이 내용을 바탕으로 질문에 답하세요.\"},\n",
    "        {\"role\": \"user\", \"content\": f\"문서 내용:\\n{text}\\n\\n질문: {question}\"}\n",
    "    ]\n",
    "    response = openai.chat.completions.create(\n",
    "        model=MODEL,\n",
    "        messages=messages,\n",
    "        temperature=0.5,\n",
    "        max_tokens=1024\n",
    "    )\n",
    "    return response.choices[0].message.content\n",
    "\n",
    "# ✅ 전체 실행 함수\n",
    "def answer_from_pdf(pdf_path: str, user_question: str):\n",
    "    print(f\"📄 '{pdf_path}'에서 텍스트를 추출 중...\")\n",
    "    text = extract_text_from_pdf(pdf_path)\n",
    "    if not text.strip():\n",
    "        print(\"❌ 문서에서 텍스트를 추출할 수 없습니다.\")\n",
    "        return\n",
    "\n",
    "    print(\"🤖 GPT에게 질문 중...\")\n",
    "    answer = ask_question_about_pdf(text, user_question)\n",
    "    print(\"\\n📌 GPT의 답변:\\n\")\n",
    "    print(answer)\n",
    "\n",
    "# ✅ 예시 실행\n",
    "if __name__ == \"__main__\":\n",
    "    answer_from_pdf(\"소나기.pdf\", \"이 문서의 핵심 내용은 무엇인가요?\")"
   ]
  },
  {
   "cell_type": "code",
   "execution_count": 6,
   "id": "9345536a",
   "metadata": {},
   "outputs": [
    {
     "name": "stderr",
     "output_type": "stream",
     "text": [
      "/home/ubuntu/.local/lib/python3.10/site-packages/tqdm/auto.py:21: TqdmWarning: IProgress not found. Please update jupyter and ipywidgets. See https://ipywidgets.readthedocs.io/en/stable/user_install.html\n",
      "  from .autonotebook import tqdm as notebook_tqdm\n"
     ]
    },
    {
     "name": "stdout",
     "output_type": "stream",
     "text": [
      "* Running on local URL:  http://127.0.0.1:7860\n",
      "* To create a public link, set `share=True` in `launch()`.\n"
     ]
    },
    {
     "data": {
      "text/html": [
       "<div><iframe src=\"http://127.0.0.1:7860/\" width=\"100%\" height=\"500\" allow=\"autoplay; camera; microphone; clipboard-read; clipboard-write;\" frameborder=\"0\" allowfullscreen></iframe></div>"
      ],
      "text/plain": [
       "<IPython.core.display.HTML object>"
      ]
     },
     "metadata": {},
     "output_type": "display_data"
    }
   ],
   "source": [
    "import pdfplumber\n",
    "import openai\n",
    "import os\n",
    "import gradio as gr\n",
    "\n",
    "# ✅ OpenAI API 키 (환경변수에 저장되어 있어야 함)\n",
    "openai.api_key = os.getenv(\"OPENAI_API_KEY\")\n",
    "\n",
    "# ✅ 모델 이름 고정\n",
    "MODEL = \"gpt-4o-mini\"\n",
    "\n",
    "# ✅ PDF 텍스트 추출 함수\n",
    "def extract_text_from_pdf(pdf_path: str) -> str:\n",
    "    all_text = \"\"\n",
    "    with pdfplumber.open(pdf_path) as pdf:\n",
    "        for page in pdf.pages:\n",
    "            text = page.extract_text()\n",
    "            if text:\n",
    "                all_text += text + \"\\n\"\n",
    "    return all_text\n",
    "\n",
    "# ✅ GPT 응답 함수\n",
    "def ask_question_about_pdf(text: str, question: str) -> str:\n",
    "    messages = [\n",
    "        {\"role\": \"system\", \"content\": \"다음은 사용자가 업로드한 PDF 문서의 내용입니다. 이 내용을 기반으로 질문에 정확하고 간결하게 답해주세요.\"},\n",
    "        {\"role\": \"user\", \"content\": f\"문서 내용:\\n{text}\\n\\n질문: {question}\"}\n",
    "    ]\n",
    "    response = openai.chat.completions.create(\n",
    "        model=MODEL,\n",
    "        messages=messages,\n",
    "        temperature=0.5,\n",
    "        max_tokens=1024\n",
    "    )\n",
    "    return response.choices[0].message.content\n",
    "\n",
    "# ✅ Gradio 인터페이스 처리 함수\n",
    "def chat_with_pdf(pdf_file, question):\n",
    "    if pdf_file is None:\n",
    "        return \"❌ PDF 파일을 업로드해주세요.\"\n",
    "    if not question.strip():\n",
    "        return \"❌ 질문을 입력해주세요.\"\n",
    "\n",
    "    try:\n",
    "        text = extract_text_from_pdf(pdf_file.name)\n",
    "        if not text.strip():\n",
    "            return \"❌ 문서에서 텍스트를 추출할 수 없습니다.\"\n",
    "        answer = ask_question_about_pdf(text, question)\n",
    "        return answer\n",
    "    except Exception as e:\n",
    "        return f\"⚠️ 오류 발생: {str(e)}\"\n",
    "\n",
    "# ✅ Gradio UI 구성\n",
    "with gr.Blocks(title=\"📄 PDF 기반 GPT 질의응답\") as demo:\n",
    "    gr.Markdown(\"## 📚 업로드한 PDF 문서에 기반한 ChatGPT 질의응답 (gpt-4o-mini 사용)\")\n",
    "    with gr.Row():\n",
    "        pdf_input = gr.File(label=\"📎 PDF 업로드\", file_types=[\".pdf\"])\n",
    "        question_input = gr.Textbox(label=\"💬 질문 입력\", placeholder=\"예: 이 문서의 핵심 내용은 무엇인가요?\")\n",
    "    output = gr.Textbox(label=\"🤖 GPT의 응답\")\n",
    "\n",
    "    submit_btn = gr.Button(\"질문하기\")\n",
    "    submit_btn.click(chat_with_pdf, inputs=[pdf_input, question_input], outputs=output)\n",
    "\n",
    "# ✅ 앱 실행\n",
    "if __name__ == \"__main__\":\n",
    "    demo.launch()\n",
    "    "
   ]
  },
  {
   "cell_type": "code",
   "execution_count": null,
   "id": "739c7c22",
   "metadata": {},
   "outputs": [],
   "source": []
  }
 ],
 "metadata": {
  "kernelspec": {
   "display_name": "Python 3",
   "language": "python",
   "name": "python3"
  },
  "language_info": {
   "codemirror_mode": {
    "name": "ipython",
    "version": 3
   },
   "file_extension": ".py",
   "mimetype": "text/x-python",
   "name": "python",
   "nbconvert_exporter": "python",
   "pygments_lexer": "ipython3",
   "version": "3.10.12"
  }
 },
 "nbformat": 4,
 "nbformat_minor": 5
}
