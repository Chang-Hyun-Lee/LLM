{
 "cells": [
  {
   "cell_type": "markdown",
   "id": "25cb0177",
   "metadata": {},
   "source": [
    "##### 실습 #1: LangGraph를 이용해 코드의 스타일, 버그 가능성, 최적화에 대한 내용을 분석하고, 최종적으로 이 분석들을 모두 반영하여 개선한 코드를 리턴하는 어플리케이션을 작성하시오. 스타일, 버그, 최적화에 대한 점검 기능은 LangGraph의 Node로 만들어 향후 변경이 용이하게 작업해야 합니다."
   ]
  },
  {
   "cell_type": "code",
   "execution_count": null,
   "id": "d401a2ad",
   "metadata": {},
   "outputs": [],
   "source": [
    "from langgraph.graph import StateGraph, START, END\n",
    "from typing_extensions import TypedDict\n",
    "from langchain_openai import ChatOpenAI\n",
    "\n",
    "llm = ChatOpenAI(model = \"gpt-4o-mini\")\n",
    "\n",
    "\n",
    "class MyCode(TypedDict):\n",
    "    code: str\n",
    "    style: str\n",
    "    bug: str\n",
    "    opt: str\n",
    "    adv_code: str\n",
    "\n",
    "\n",
    "def Check_style(state: MyCode):\n",
    "    prompt = f\"\"\"\n",
    "        너는 파이썬 코드 스타일 전문가야. 아래 코드에서 스타일 상의 문제를 찾아 설명해줘:\n",
    "\n",
    "        ```python\n",
    "        {state['code']}\n",
    "        문제점과 개선 방향을 간결하고 논리적으로 설명해줘.\n",
    "        \"\"\"\n",
    "    result = llm.invoke(prompt)\n",
    "    state[\"style\"] = result.content.strip()\n",
    "\n",
    "    return state\n",
    "     \n",
    "\n",
    "def Check_bug(state: MyCode):\n",
    "    prompt = f\"\"\"\n",
    "        다음 파이썬 코드에서 발생할 수 있는 버그나 논리 오류를 점검해줘:\n",
    "\n",
    "        ```python\n",
    "        {state['code']}\n",
    "        발생 가능한 문제와 그 이유를 설명해줘.\n",
    "        \"\"\"\n",
    "    result = llm.invoke(prompt)\n",
    "    state[\"bug\"] = result.content.strip()\n",
    "\n",
    "    return state\n",
    "\n",
    "\n",
    "def Check_opt(state: MyCode):\n",
    "    prompt = f\"\"\"\n",
    "        다음 파이썬 코드에서 성능을 개선할 수 있는 부분을 찾아 설명해줘:\n",
    "\n",
    "        ```python\n",
    "        {state['code']}\n",
    "        개선 포인트를 명확하게 기술해줘.\n",
    "        \"\"\"\n",
    "    result = llm.invoke(prompt)\n",
    "    state[\"opt\"] = result.content.strip()\n",
    "\n",
    "    return state\n",
    "\n",
    "\n",
    "def Gen_advcode(state: MyCode):\n",
    "    prompt = f\"\"\"\n",
    "        아래는 분석 대상 코드입니다:\n",
    "\n",
    "        {state['code']}\n",
    "        그리고 다음은 코드 분석 피드백입니다:\n",
    "\n",
    "        {state['style']}\n",
    "        {state['bug']}\n",
    "        {state['opt']}\n",
    "\n",
    "        이 모든 피드백을 반영해 코드 전체를 개선해줘. 결과는 완전한 파이썬 코드 형태로 출력해줘. 주석은 꼭 필요하지 않으면 생략해도 돼.\n",
    "        \"\"\"\n",
    "    result = llm.invoke(prompt)\n",
    "    state[\"adv_code\"] = result.content.strip()\n",
    "\n",
    "    return state"
   ]
  },
  {
   "cell_type": "code",
   "execution_count": 75,
   "id": "625b69b4",
   "metadata": {},
   "outputs": [],
   "source": [
    "graph = StateGraph(MyCode)\n",
    "\n",
    "graph.add_node(\"Check_Style\", Check_style)\n",
    "graph.add_node(\"Check_Bug\", Check_bug)\n",
    "graph.add_node(\"Check_Optimization\", Check_opt)\n",
    "graph.add_node(\"Generate_Code\", Gen_advcode)\n",
    "\n",
    "graph.add_edge(START, \"Check_Style\")\n",
    "graph.add_edge(\"Check_Style\", \"Check_Bug\")\n",
    "graph.add_edge(\"Check_Bug\", \"Check_Optimization\")\n",
    "graph.add_edge(\"Check_Optimization\", \"Generate_Code\")\n",
    "graph.add_edge(\"Generate_Code\", END)\n",
    "\n",
    "app = graph.compile()\n",
    "\n",
    "\n",
    "sample_code = \"\"\"\n",
    "        def get_even_numbers(lst):\n",
    "        even = []\n",
    "        for i in range(len(lst)):\n",
    "        if lst[i] % 2 == 0:\n",
    "        even.append(lst[i])\n",
    "        return even\n",
    "    \"\"\"\n",
    "\n",
    "state = app.invoke({\n",
    "    \"code\": sample_code,\n",
    "    \"style\": \"\",\n",
    "    \"bug\": \"\",\n",
    "    \"opt\": \"\",\n",
    "    \"adv_code\": \"\"\n",
    "})\n",
    "\n",
    "state = app.invoke(state)"
   ]
  },
  {
   "cell_type": "code",
   "execution_count": 60,
   "id": "5005f3b5",
   "metadata": {},
   "outputs": [
    {
     "name": "stdout",
     "output_type": "stream",
     "text": [
      "\n",
      "        def get_even_numbers(lst):\n",
      "        even = []\n",
      "        for i in range(len(lst)):\n",
      "        if lst[i] % 2 == 0:\n",
      "        even.append(lst[i])\n",
      "        return even\n",
      "    \n"
     ]
    }
   ],
   "source": [
    "print(state[\"code\"])\n",
    "# code 내용 바꿔서 확인가능\n"
   ]
  },
  {
   "cell_type": "code",
   "execution_count": 76,
   "id": "f93950e5",
   "metadata": {},
   "outputs": [
    {
     "data": {
      "image/png": "[encoded data removed]",
      "text/plain": [
       "<IPython.core.display.Image object>"
      ]
     },
     "metadata": {},
     "output_type": "display_data"
    }
   ],
   "source": [
    "from IPython.display import Image, display\n",
    "\n",
    "# 그래프 이미지 출력\n",
    "\n",
    "try:\n",
    "    display(Image(app.get_graph(xray=True).draw_mermaid_png()))\n",
    "except Exception as e:\n",
    "    print(\"Mermaid 이미지 출력 실패:\", e)\n",
    "    print(app.get_graph(xray=True).draw_mermaid())  # 텍스트 대안 출력"
   ]
  }
 ],
 "metadata": {
  "kernelspec": {
   "display_name": "Python 3",
   "language": "python",
   "name": "python3"
  },
  "language_info": {
   "codemirror_mode": {
    "name": "ipython",
    "version": 3
   },
   "file_extension": ".py",
   "mimetype": "text/x-python",
   "name": "python",
   "nbconvert_exporter": "python",
   "pygments_lexer": "ipython3",
   "version": "3.10.12"
  }
 },
 "nbformat": 4,
 "nbformat_minor": 5
}
