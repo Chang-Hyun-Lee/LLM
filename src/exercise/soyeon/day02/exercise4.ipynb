{
 "cells": [
  {
   "cell_type": "code",
   "execution_count": 3,
   "id": "6e7ea3e0",
   "metadata": {},
   "outputs": [
    {
     "name": "stdout",
     "output_type": "stream",
     "text": [
      "Defaulting to user installation because normal site-packages is not writeable\n",
      "Collecting pdfplumber\n",
      "  Downloading pdfplumber-0.11.7-py3-none-any.whl (60 kB)\n",
      "\u001b[2K     \u001b[90m━━━━━━━━━━━━━━━━━━━━━━━━━━━━━━━━━━━━━━━━\u001b[0m \u001b[32m60.0/60.0 KB\u001b[0m \u001b[31m2.7 MB/s\u001b[0m eta \u001b[36m0:00:00\u001b[0m\n",
      "\u001b[?25hCollecting pdfminer.six==20250506\n",
      "  Downloading pdfminer_six-20250506-py3-none-any.whl (5.6 MB)\n",
      "\u001b[2K     \u001b[90m━━━━━━━━━━━━━━━━━━━━━━━━━━━━━━━━━━━━━━━━\u001b[0m \u001b[32m5.6/5.6 MB\u001b[0m \u001b[31m61.9 MB/s\u001b[0m eta \u001b[36m0:00:00\u001b[0ma \u001b[36m0:00:01\u001b[0m\n",
      "\u001b[?25hCollecting pypdfium2>=4.18.0\n",
      "  Downloading pypdfium2-4.30.0-py3-none-manylinux_2_17_x86_64.manylinux2014_x86_64.whl (2.8 MB)\n",
      "\u001b[2K     \u001b[90m━━━━━━━━━━━━━━━━━━━━━━━━━━━━━━━━━━━━━━━━\u001b[0m \u001b[32m2.8/2.8 MB\u001b[0m \u001b[31m21.7 MB/s\u001b[0m eta \u001b[36m0:00:00\u001b[0ma \u001b[36m0:00:01\u001b[0m\n",
      "\u001b[?25hRequirement already satisfied: Pillow>=9.1 in /home/ubuntu/.local/lib/python3.10/site-packages (from pdfplumber) (11.3.0)\n",
      "Collecting cryptography>=36.0.0\n",
      "  Downloading cryptography-45.0.5-cp37-abi3-manylinux_2_34_x86_64.whl (4.4 MB)\n",
      "\u001b[2K     \u001b[90m━━━━━━━━━━━━━━━━━━━━━━━━━━━━━━━━━━━━━━━━\u001b[0m \u001b[32m4.4/4.4 MB\u001b[0m \u001b[31m79.6 MB/s\u001b[0m eta \u001b[36m0:00:00\u001b[0mta \u001b[36m0:00:01\u001b[0m\n",
      "\u001b[?25hRequirement already satisfied: charset-normalizer>=2.0.0 in /home/ubuntu/.local/lib/python3.10/site-packages (from pdfminer.six==20250506->pdfplumber) (3.4.2)\n",
      "Collecting cffi>=1.14\n",
      "  Downloading cffi-1.17.1-cp310-cp310-manylinux_2_17_x86_64.manylinux2014_x86_64.whl (446 kB)\n",
      "\u001b[2K     \u001b[90m━━━━━━━━━━━━━━━━━━━━━━━━━━━━━━━━━━━━━━\u001b[0m \u001b[32m446.2/446.2 KB\u001b[0m \u001b[31m61.4 MB/s\u001b[0m eta \u001b[36m0:00:00\u001b[0m\n",
      "\u001b[?25hCollecting pycparser\n",
      "  Downloading pycparser-2.22-py3-none-any.whl (117 kB)\n",
      "\u001b[2K     \u001b[90m━━━━━━━━━━━━━━━━━━━━━━━━━━━━━━━━━━━━━━\u001b[0m \u001b[32m117.6/117.6 KB\u001b[0m \u001b[31m24.3 MB/s\u001b[0m eta \u001b[36m0:00:00\u001b[0m\n",
      "\u001b[?25hInstalling collected packages: pypdfium2, pycparser, cffi, cryptography, pdfminer.six, pdfplumber\n",
      "Successfully installed cffi-1.17.1 cryptography-45.0.5 pdfminer.six-20250506 pdfplumber-0.11.7 pycparser-2.22 pypdfium2-4.30.0\n"
     ]
    }
   ],
   "source": [
    "# 실습 #1: langchain을 이용하여 사용자가 업로드한 pdf 파일을 근거로 답변하는 ChatGPT 어플리케이션을 작성하시오.\n",
    "\n",
    "!pip install -qU langchain_community\n",
    "!pip install pdfplumber"
   ]
  },
  {
   "cell_type": "code",
   "execution_count": null,
   "id": "7a466095",
   "metadata": {},
   "outputs": [],
   "source": [
    "from langchain_community.document_loaders import PDFPlumberLoader\n",
    "import os\n",
    "\n",
    "# 홈 디렉토리 포함된 경로를 안전하게 확장\n",
    "path = os.path.expanduser(\"~/work/koshipa-llm-2025-1st/src/exercise/soyeon/day02/소나기.pdf\")\n"
   ]
  },
  {
   "cell_type": "code",
   "execution_count": 10,
   "id": "832a673c",
   "metadata": {},
   "outputs": [],
   "source": [
    "loader = PDFPlumberLoader(path)\n",
    "docs = loader.load()\n",
    "documents = docs"
   ]
  },
  {
   "cell_type": "code",
   "execution_count": 7,
   "id": "d155e3a6",
   "metadata": {},
   "outputs": [
    {
     "name": "stdout",
     "output_type": "stream",
     "text": [
      "{'source': '/home/ubuntu/work/koshipa-llm-2025-1st/src/exercise/soyeon/day02/소나기.pdf', 'file_path': '/home/ubuntu/work/koshipa-llm-2025-1st/src/exercise/soyeon/day02/소나기.pdf', 'page': 0, 'total_pages': 7, 'Author': 'MYHOME', 'Creator': 'Hwp 2018 10.0.0.11131', 'Producer': 'Hancom PDF 1.3.0.542', 'CreationDate': \"D:20211129200550+09'00'\", 'ModDate': \"D:20211129200550+09'00'\", 'PDFVersion': '1.4'}\n"
     ]
    }
   ],
   "source": [
    "print(docs[0].metadata)"
   ]
  },
  {
   "cell_type": "code",
   "execution_count": null,
   "id": "2e94da93",
   "metadata": {},
   "outputs": [
    {
     "name": "stdout",
     "output_type": "stream",
     "text": [
      "\n",
      "\n",
      "\u001b[1m> Entering new RetrievalQA chain...\u001b[0m\n",
      "\n",
      "\u001b[1m> Finished chain.\u001b[0m\n"
     ]
    },
    {
     "data": {
      "text/plain": [
       "'이 글은 소년과 소녀의 일상적인 순간을 묘사하고 있습니다. 소녀는 대추를 따서 소년에게 주며, 제사를 지낼 것이라고 이야기합니다. 소년은 소녀의 어깨를 감싸주고, 비를 피하기 위해 수숫단 속으로 들어가려 합니다. 대화 중에 소년의 가족과 소녀의 가족에 대한 이야기가 오가며, 소녀의 집안이 어려운 상황에 처해 있다는 점이 드러납니다. 전체적으로 소년과 소녀의 관계와 그들의 가족 상황이 엮여 있는 이야기입니다.'"
      ]
     },
     "execution_count": 13,
     "metadata": {},
     "output_type": "execute_result"
    }
   ],
   "source": [
    "from langchain.text_splitter import CharacterTextSplitter\n",
    "from langchain.embeddings import HuggingFaceEmbeddings\n",
    "from langchain.embeddings import OpenAIEmbeddings\n",
    "from langchain.indexes import VectorstoreIndexCreator\n",
    "from langchain.vectorstores import FAISS\n",
    "from langchain_openai import ChatOpenAI\n",
    "\n",
    "text_splitter = CharacterTextSplitter(chunk_size=1000, chunk_overlap=0)\n",
    "docs = text_splitter.split_documents(documents)\n",
    "len(docs)\n",
    "\n",
    "embeddings = OpenAIEmbeddings()\n",
    "#embeddings = HuggingFaceEmbeddings() # sentence-transformers/all-mpnet-base-v2\n",
    "\n",
    "index = VectorstoreIndexCreator(\n",
    "    vectorstore_cls=FAISS,\n",
    "    embedding=embeddings,\n",
    "    ).from_loaders([loader])\n",
    "\n",
    "chat = ChatOpenAI(model_name='gpt-4o-mini', temperature=0)\n",
    "\n",
    "index.query(\"요약해줘\", llm=chat, verbose=True)"
   ]
  },
  {
   "cell_type": "code",
   "execution_count": 9,
   "id": "1b924109",
   "metadata": {},
   "outputs": [
    {
     "name": "stdout",
     "output_type": "stream",
     "text": [
      "📌 답변:\n",
      " 이 이야기는 소년과 소녀의 짧은 만남과 그들 사이의 감정을 다루고 있습니다. 소년은 소녀와 함께 산을 오르며 꽃을 꺾고, 소녀가 다쳤을 때 송진을 발라주는 등 소녀에게 호감을 보입니다. 소녀는 서울에서 온 아이로, 시골 생활에 적응하지 못하고 심심해합니다. 둘은 함께 시간을 보내며 가까워지지만, 소녀는 결국 병으로 세상을 떠나게 됩니다. 소녀의 죽음은 소년에게 큰 충격을 주며, 소녀의 마지막 소원은 자신이 입던 옷을 입고 묻히는 것이었습니다. 이야기는 소년의 순수한 감정과 소녀의 죽음을 통해 삶의 무상함을 보여줍니다.\n"
     ]
    }
   ],
   "source": [
    "from langchain_community.document_loaders import PDFPlumberLoader\n",
    "from langchain.text_splitter import CharacterTextSplitter\n",
    "from langchain.embeddings import OpenAIEmbeddings\n",
    "from langchain.vectorstores import FAISS\n",
    "from langchain.chat_models import ChatOpenAI\n",
    "from langchain.chains import RetrievalQA\n",
    "import os\n",
    "\n",
    "# 1. OpenAI API 키 설정\n",
    "os.environ[\"OPENAI_API_KEY\"] \n",
    "\n",
    "# 2. PDF 불러오기\n",
    "path = os.path.expanduser(\"~/work/koshipa-llm-2025-1st/src/exercise/soyeon/day02/소나기.pdf\")\n",
    "loader = PDFPlumberLoader(path)\n",
    "documents = loader.load()\n",
    "\n",
    "# 3. 문서 분할\n",
    "text_splitter = CharacterTextSplitter(chunk_size=1000, chunk_overlap=100)\n",
    "docs = text_splitter.split_documents(documents)\n",
    "\n",
    "# 4. 임베딩 및 벡터 DB 저장\n",
    "embedding_model = OpenAIEmbeddings()\n",
    "vectorstore = FAISS.from_documents(docs, embedding_model)\n",
    "\n",
    "# 5. Retriever QA 체인 구성\n",
    "retriever = vectorstore.as_retriever()\n",
    "qa_chain = RetrievalQA.from_chain_type(\n",
    "    llm=ChatOpenAI(model_name=\"gpt-4o\", temperature=0),\n",
    "    retriever=retriever,\n",
    "    return_source_documents=True,\n",
    ")\n",
    "\n",
    "# 6. 질문\n",
    "question = \"줄거리를 요약해줘\"\n",
    "result = qa_chain({\"query\": question})\n",
    "\n",
    "# 7. 결과 출력\n",
    "print(\"📌 답변:\\n\", result[\"result\"])"
   ]
  }
 ],
 "metadata": {
  "kernelspec": {
   "display_name": "Python 3",
   "language": "python",
   "name": "python3"
  },
  "language_info": {
   "codemirror_mode": {
    "name": "ipython",
    "version": 3
   },
   "file_extension": ".py",
   "mimetype": "text/x-python",
   "name": "python",
   "nbconvert_exporter": "python",
   "pygments_lexer": "ipython3",
   "version": "3.10.12"
  }
 },
 "nbformat": 4,
 "nbformat_minor": 5
}
