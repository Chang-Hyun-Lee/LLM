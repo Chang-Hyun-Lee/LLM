{
 "cells": [
  {
   "cell_type": "code",
   "execution_count": 18,
   "id": "bafa69b4",
   "metadata": {},
   "outputs": [
    {
     "name": "stdout",
     "output_type": "stream",
     "text": [
      "🍽 Kakao 음식점 추천기\n",
      "\n",
      "📌 추천 음식점 목록:\n",
      "\n",
      "1. 돌산보리밥\n",
      "   🗺 주소: 경남 거제시 연초면 연하해안로 198-9\n",
      "   📞 전화: 055-632-1083\n",
      "   🔗 지도 링크: http://place.map.kakao.com/10316041\n",
      "\n"
     ]
    }
   ],
   "source": [
    "import requests\n",
    "\n",
    "# 🔑 Kakao REST API 키를 여기에 입력하세요\n",
    "KAKAO_API_KEY = \"fbfea7d2eba7778c5ce1c69b40bbea6f\"\n",
    "\n",
    "def search_restaurants(query, size=5):\n",
    "    \"\"\"\n",
    "    Kakao 로컬 검색 API를 통해 음식점 정보를 검색합니다.\n",
    "\n",
    "    :param query: 검색 키워드 (예: '판교 이탈리안')\n",
    "    :param size: 최대 결과 수 (1~15)\n",
    "    :return: 음식점 정보 리스트\n",
    "    \"\"\"\n",
    "    url = \"https://dapi.kakao.com/v2/local/search/keyword.json\"\n",
    "    headers = {\n",
    "        \"Authorization\": f\"KakaoAK {KAKAO_API_KEY}\"\n",
    "    }\n",
    "    params = {\n",
    "        \"query\": query,\n",
    "        \"size\": size\n",
    "    }\n",
    "\n",
    "    response = requests.get(url, headers=headers, params=params)\n",
    "\n",
    "    if response.status_code == 200:\n",
    "        places = response.json().get(\"documents\", [])\n",
    "        return places\n",
    "    else:\n",
    "        print(f\"❌ 오류 발생: {response.status_code}\")\n",
    "        print(response.text)\n",
    "        return []\n",
    "\n",
    "def print_restaurants(places):\n",
    "    \"\"\"\n",
    "    음식점 목록을 콘솔에 보기 좋게 출력합니다.\n",
    "\n",
    "    :param places: Kakao API 응답 데이터\n",
    "    \"\"\"\n",
    "    if not places:\n",
    "        print(\"😥 검색 결과가 없습니다.\")\n",
    "        return\n",
    "\n",
    "    print(\"\\n📌 추천 음식점 목록:\\n\")\n",
    "    for idx, place in enumerate(places, 1):\n",
    "        print(f\"{idx}. {place['place_name']}\")\n",
    "        print(f\"   🗺 주소: {place['road_address_name']}\")\n",
    "        print(f\"   📞 전화: {place['phone'] or '정보 없음'}\")\n",
    "        print(f\"   🔗 지도 링크: {place['place_url']}\\n\")\n",
    "\n",
    "if __name__ == \"__main__\":\n",
    "    print(\"🍽 Kakao 음식점 추천기\")\n",
    "    user_input = input(\"▶ 검색할 지역과 음식 종류를 입력하세요 (예: 판교 이탈리안): \")\n",
    "\n",
    "    results = search_restaurants(user_input)\n",
    "    print_restaurants(results)\n"
   ]
  }
 ],
 "metadata": {
  "kernelspec": {
   "display_name": "Python 3",
   "language": "python",
   "name": "python3"
  },
  "language_info": {
   "codemirror_mode": {
    "name": "ipython",
    "version": 3
   },
   "file_extension": ".py",
   "mimetype": "text/x-python",
   "name": "python",
   "nbconvert_exporter": "python",
   "pygments_lexer": "ipython3",
   "version": "3.10.12"
  }
 },
 "nbformat": 4,
 "nbformat_minor": 5
}
