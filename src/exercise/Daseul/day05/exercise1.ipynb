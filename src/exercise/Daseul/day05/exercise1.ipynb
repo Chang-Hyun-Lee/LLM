{
 "cells": [
  {
   "cell_type": "code",
   "execution_count": 2,
   "id": "beaab971",
   "metadata": {},
   "outputs": [],
   "source": [
    "import langgraph\n",
    "from langchain.chat_models import ChatOpenAI\n",
    "from langchain.schema import SystemMessage, HumanMessage"
   ]
  },
  {
   "cell_type": "code",
   "execution_count": 3,
   "id": "1960bbc2",
   "metadata": {},
   "outputs": [
    {
     "name": "stderr",
     "output_type": "stream",
     "text": [
      "/tmp/ipykernel_25554/3971565783.py:3: LangChainDeprecationWarning: The class `ChatOpenAI` was deprecated in LangChain 0.0.10 and will be removed in 1.0. An updated version of the class exists in the :class:`~langchain-openai package and should be used instead. To use it run `pip install -U :class:`~langchain-openai` and import as `from :class:`~langchain_openai import ChatOpenAI``.\n",
      "  llm = ChatOpenAI(model=os.getenv(\"OPENAI_DEFAULT_MODEL\"))\n"
     ]
    }
   ],
   "source": [
    "import os\n",
    "\n",
    "llm = ChatOpenAI(model=os.getenv(\"OPENAI_DEFAULT_MODEL\"))"
   ]
  },
  {
   "cell_type": "code",
   "execution_count": 4,
   "id": "66df191e",
   "metadata": {},
   "outputs": [],
   "source": [
    "def code_style_check(inputs):\n",
    "    code = inputs[\"code\"]\n",
    "    prompt = (\n",
    "        \"다음 코드의 스타일을 점검하고 PEP8 준수 여부를 확인하세요:\\n\" + code\n",
    "    )\n",
    "    response = llm.invoke([HumanMessage(content=prompt)])\n",
    "    inputs[\"style_feedback\"] = response.content\n",
    "    return inputs\n",
    "\n",
    "def bug_detection(inputs):\n",
    "    code = inputs[\"code\"]\n",
    "    prompt = (\n",
    "        \"다음 코드에서 잠재적인 버그나 논리적 오류를 찾아 설명하세요:\\n\" + code\n",
    "    )\n",
    "    response = llm.invoke([HumanMessage(content=prompt)])\n",
    "    inputs[\"bug_feedback\"] = response.content\n",
    "    return inputs\n",
    "\n",
    "def optimization_suggestions(inputs):\n",
    "    code = inputs[\"code\"]\n",
    "    prompt = (\n",
    "        \"다음 코드를 더 효율적으로 최적화할 수 있는 방법을 제안하세요:\\n\" + code\n",
    "    )\n",
    "    response = llm.invoke([HumanMessage(content=prompt)])\n",
    "    inputs[\"optimization_feedback\"] = response.content\n",
    "    return inputs\n",
    "\n",
    "def aggregate_feedback(inputs):\n",
    "    code = inputs[\"code\"]\n",
    "    feedback = (\n",
    "        \"코드 스타일 피드백:\\n\" + inputs[\"style_feedback\"] + \"\\n\\n\"\n",
    "        \"버그 가능성 분석:\\n\" + inputs[\"bug_feedback\"] + \"\\n\\n\"\n",
    "        \"최적화 제안:\\n\" + inputs[\"optimization_feedback\"]\n",
    "    )\n",
    "    prompt = (\n",
    "        \"다음 코드와 피드백을 바탕으로 개선된 코드를 작성하세요. 반드시 코드만 출력해야 합니다.\\n\" + \\\n",
    "            \"code: \" + code + \"\\n\\n\" \\\n",
    "            \"피드백: \" + feedback\n",
    "    )\n",
    "    response = llm.invoke([HumanMessage(content=prompt)])\n",
    "    return {\"code\": response.content, \"final_feedback\": feedback}"
   ]
  },
  {
   "cell_type": "code",
   "execution_count": 8,
   "id": "a41d8240",
   "metadata": {},
   "outputs": [],
   "source": [
    "from langgraph.graph import StateGraph, START, END\n",
    "\n",
    "# 1) 상태 스키마용 클래스 정의\n",
    "class MyState:\n",
    "    code: str                     # 입력 코드\n",
    "    style_feedback: str           # 스타일 검사 결과\n",
    "    bug_feedback: str             # 버그 검사 결과\n",
    "    optimization_feedback: str    # 최적화 제안 결과\n",
    "    aggregate_feedback: str       # 최종 피드백 집계 결과\n",
    "\n",
    "# 2) StateGraph 생성 시 위 클래스를 전달\n",
    "builder = StateGraph(MyState)\n",
    "\n",
    "# 3) 노드 등록 (기존 코드 스타일 검사, 버그 탐지 함수 등)\n",
    "builder.add_node(\"style_check\", code_style_check)\n",
    "builder.add_node(\"bug_check\", bug_detection)\n",
    "builder.add_node(\"optimization_check\", optimization_suggestions)\n",
    "builder.add_node(\"aggregate\", aggregate_feedback)\n",
    "\n",
    "# 4) 워크플로우 순서 연결\n",
    "builder.add_edge(START, \"style_check\")\n",
    "builder.add_edge(\"style_check\", \"bug_check\")\n",
    "builder.add_edge(\"bug_check\", \"optimization_check\")\n",
    "builder.add_edge(\"optimization_check\", \"aggregate\")\n",
    "builder.add_edge(\"aggregate\", END)\n",
    "\n",
    "# 5) 최종 컴파일\n",
    "app = builder.compile()\n"
   ]
  },
  {
   "cell_type": "code",
   "execution_count": 9,
   "id": "425c2abb",
   "metadata": {},
   "outputs": [
    {
     "data": {
      "image/png": "[encoded data removed]",
      "text/plain": [
       "<IPython.core.display.Image object>"
      ]
     },
     "metadata": {},
     "output_type": "display_data"
    }
   ],
   "source": [
    "from IPython.display import Image, display\n",
    "\n",
    "try:\n",
    "    display(Image(app.get_graph(xray=True).draw_mermaid_png()))\n",
    "except Exception:\n",
    "    # This requires some extra dependencies and is optional\n",
    "    pass"
   ]
  },
  {
   "cell_type": "code",
   "execution_count": 13,
   "id": "5e2c83ec",
   "metadata": {},
   "outputs": [],
   "source": [
    "# BEFORE\n",
    "def code_style_check(state):\n",
    "    code = state[\"code\"]              # ← 여기가 문제\n",
    "    feedback = style_llm(state[\"code\"])\n",
    "    return {\"style_feedback\": feedback}\n",
    "\n",
    "# AFTER\n",
    "def code_style_check(state: MyState):\n",
    "    # dataclass / BaseModel의 속성 접근\n",
    "    code = state.code                 \n",
    "    feedback = style_llm(code)\n",
    "    # 노드는 변경할 필드만 dict로 반환\n",
    "    return {\"style_feedback\": feedback}\n"
   ]
  },
  {
   "cell_type": "code",
   "execution_count": 16,
   "id": "d8151ea0",
   "metadata": {},
   "outputs": [],
   "source": [
    "# 예시: 스타일 검사 노드\n",
    "def code_style_check(state: MyState):\n",
    "    # 📌 state[\"code\"] → state.code\n",
    "    code = state.code\n",
    "    feedback = style_llm(HumanMessage(content=\"다음 코드의 스타일을 점검하고 PEP8 준수 여부를 확인하세요:\\n\" + code))\n",
    "    return {\"style_feedback\": feedback.content}\n",
    "\n",
    "# 예시: 버그 탐지 노드\n",
    "def bug_detection(state: MyState):\n",
    "    # 📌 state[\"code\"] → state.code\n",
    "    code = state.code\n",
    "    feedback = bug_llm(HumanMessage(content=\"다음 코드에서 잠재적 버그를 찾아 설명하세요:\\n\" + code))\n",
    "    return {\"bug_feedback\": feedback.content}\n",
    "\n",
    "# 예시: 최적화 제안 노드\n",
    "def optimization_suggestions(state: MyState):\n",
    "    # 📌 state[\"code\"] → state.code\n",
    "    code = state.code\n",
    "    feedback = opt_llm(HumanMessage(content=\"다음 코드의 최적화 방안을 제안하세요:\\n\" + code))\n",
    "    return {\"optimization_feedback\": feedback.content}\n",
    "\n",
    "# 예시: 피드백 집계 노드\n",
    "def aggregate_feedback(state: MyState):\n",
    "    # 📌 state[\"style_feedback\"] → state.style_feedback 등\n",
    "    agg = (\n",
    "        \"★ 스타일 검사 결과\\n\"   + state.style_feedback   + \"\\n\\n\"\n",
    "      + \"★ 버그 탐지 결과\\n\"   + state.bug_feedback     + \"\\n\\n\"\n",
    "      + \"★ 최적화 제안 결과\\n\" + state.optimization_feedback\n",
    "    )\n",
    "    return {\"aggregate_feedback\": agg}\n"
   ]
  },
  {
   "cell_type": "code",
   "execution_count": null,
   "id": "c0fbdfa3",
   "metadata": {},
   "outputs": [],
   "source": []
  }
 ],
 "metadata": {
  "kernelspec": {
   "display_name": "Python 3",
   "language": "python",
   "name": "python3"
  },
  "language_info": {
   "codemirror_mode": {
    "name": "ipython",
    "version": 3
   },
   "file_extension": ".py",
   "mimetype": "text/x-python",
   "name": "python",
   "nbconvert_exporter": "python",
   "pygments_lexer": "ipython3",
   "version": "3.10.12"
  }
 },
 "nbformat": 4,
 "nbformat_minor": 5
}
