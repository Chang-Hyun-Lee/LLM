{
 "cells": [
  {
   "cell_type": "markdown",
   "id": "8f2d1739",
   "metadata": {},
   "source": [
    "##### 실습 #1: gradio의 chatbot interface를 사용하여 ChatGPT와 스트리밍하면서 대화하는 인터페이스를 구성하시오."
   ]
  },
  {
   "cell_type": "code",
   "execution_count": 11,
   "id": "76e75805",
   "metadata": {},
   "outputs": [
    {
     "name": "stdout",
     "output_type": "stream",
     "text": [
      "* Running on local URL:  http://0.0.0.0:7863\n",
      "* Running on public URL: https://c562c47b150dd242b4.gradio.live\n",
      "\n",
      "This share link expires in 1 week. For free permanent hosting and GPU upgrades, run `gradio deploy` from the terminal in the working directory to deploy to Hugging Face Spaces (https://huggingface.co/spaces)\n"
     ]
    },
    {
     "data": {
      "text/html": [
       "<div><iframe src=\"https://c562c47b150dd242b4.gradio.live\" width=\"100%\" height=\"500\" allow=\"autoplay; camera; microphone; clipboard-read; clipboard-write;\" frameborder=\"0\" allowfullscreen></iframe></div>"
      ],
      "text/plain": [
       "<IPython.core.display.HTML object>"
      ]
     },
     "metadata": {},
     "output_type": "display_data"
    },
    {
     "data": {
      "text/plain": []
     },
     "execution_count": 11,
     "metadata": {},
     "output_type": "execute_result"
    }
   ],
   "source": [
    "import os\n",
    "import gradio as gr\n",
    "import openai\n",
    "\n",
    "openai.api_key = os.getenv(\"OPENAI_API_KEY\")\n",
    "\n",
    "def random_response(message, history):\n",
    "    # ChatInterface(type=\"messages\")일 때, history는 role/content dict 리스트\n",
    "    history = history or []\n",
    "    # 새 유저 메시지를 뒤에 붙여서\n",
    "    messages = history + [{\"role\":\"user\",\"content\": message}]\n",
    "\n",
    "    resp = openai.ChatCompletion.create(\n",
    "        model=\"gpt-4o-mini\",\n",
    "        messages=messages\n",
    "    )\n",
    "    # 문자열만 반환\n",
    "    return resp.choices[0].message.content\n",
    "\n",
    "demo = gr.ChatInterface(\n",
    "    fn=random_response,\n",
    "    title=\"GPT-4o-Mini Chat\",\n",
    "    type=\"messages\"   # tuples 대신 messages 포맷으로\n",
    ")\n",
    "\n",
    "demo.launch(server_name='0.0.0.0', share=True)\n"
   ]
  },
  {
   "cell_type": "markdown",
   "id": "75f969a3",
   "metadata": {},
   "source": [
    "##### 실습 #2: 만든 어플리케이션을 멀티턴으로 수정하시오."
   ]
  },
  {
   "cell_type": "code",
   "execution_count": 12,
   "id": "ca697cf0",
   "metadata": {},
   "outputs": [
    {
     "name": "stdout",
     "output_type": "stream",
     "text": [
      "* Running on local URL:  http://0.0.0.0:7864\n",
      "* Running on public URL: https://68e9ca094a392955f7.gradio.live\n",
      "\n",
      "This share link expires in 1 week. For free permanent hosting and GPU upgrades, run `gradio deploy` from the terminal in the working directory to deploy to Hugging Face Spaces (https://huggingface.co/spaces)\n"
     ]
    },
    {
     "data": {
      "text/html": [
       "<div><iframe src=\"https://68e9ca094a392955f7.gradio.live\" width=\"100%\" height=\"500\" allow=\"autoplay; camera; microphone; clipboard-read; clipboard-write;\" frameborder=\"0\" allowfullscreen></iframe></div>"
      ],
      "text/plain": [
       "<IPython.core.display.HTML object>"
      ]
     },
     "metadata": {},
     "output_type": "display_data"
    }
   ],
   "source": [
    "import os\n",
    "import gradio as gr\n",
    "import openai\n",
    "\n",
    "# OpenAI API 키를 환경 변수에 설정해주세요\n",
    "openai.api_key = os.getenv(\"OPENAI_API_KEY\")\n",
    "\n",
    "# 멀티턴 대화를 처리하는 함수\n",
    "# message: 사용자의 최신 메시지\n",
    "# history: 이전 대화 목록 (OpenAI 스타일 dict 리스트)\n",
    "def chat_response(message, history):\n",
    "    history = history or []\n",
    "    # 시스템 메시지로 어시스턴트 동작 규정\n",
    "    messages = [{\"role\": \"system\", \"content\": \"당신은 친절한 AI 어시스턴트입니다.\"}]\n",
    "    # 기존 히스토리 포함\n",
    "    messages.extend(history)\n",
    "    # 최신 사용자 메시지 추가\n",
    "    messages.append({\"role\": \"user\", \"content\": message})\n",
    "\n",
    "    # OpenAI ChatCompletion 호출\n",
    "    resp = openai.ChatCompletion.create(\n",
    "        model=\"gpt-4o-mini\",\n",
    "        messages=messages\n",
    "    )\n",
    "    # 생성된 응답 추출\n",
    "    bot_message = resp.choices[0].message.content\n",
    "    return bot_message\n",
    "\n",
    "# Gradio ChatInterface 구성 (type=\"messages\"로 멀티턴 지원)\n",
    "demo = gr.ChatInterface(\n",
    "    fn=chat_response,\n",
    "    title=\"GPT-4o-Mini Multi-Turn Chat\",\n",
    "    type=\"messages\"\n",
    ")\n",
    "\n",
    "if __name__ == \"__main__\":\n",
    "    demo.launch(server_name='0.0.0.0', share=True)\n"
   ]
  },
  {
   "cell_type": "code",
   "execution_count": null,
   "id": "ff1d6f40",
   "metadata": {},
   "outputs": [],
   "source": []
  }
 ],
 "metadata": {
  "kernelspec": {
   "display_name": "Python 3",
   "language": "python",
   "name": "python3"
  },
  "language_info": {
   "codemirror_mode": {
    "name": "ipython",
    "version": 3
   },
   "file_extension": ".py",
   "mimetype": "text/x-python",
   "name": "python",
   "nbconvert_exporter": "python",
   "pygments_lexer": "ipython3",
   "version": "3.10.12"
  }
 },
 "nbformat": 4,
 "nbformat_minor": 5
}
