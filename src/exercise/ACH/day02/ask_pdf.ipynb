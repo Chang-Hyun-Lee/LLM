{
 "cells": [
  {
   "cell_type": "code",
   "execution_count": null,
   "id": "d30256b7",
   "metadata": {},
   "outputs": [],
   "source": [
    "#!pip install langchain==0.2.14\n",
    "#!pip install langchain_community==0.2.14\n",
    "#!pip install pydantic==1.10.8\n",
    "#!pip install gradio==4.44.1\n",
    "!pip install -U openai langchain langchain-openai gradio ipywidgets"
   ]
  },
  {
   "cell_type": "code",
   "execution_count": null,
   "id": "f0c38788-e94e-44af-a4de-8dbc7f9c06a2",
   "metadata": {},
   "outputs": [],
   "source": [
    "from ipywidgets import FileUpload\n",
    "from IPython.display import display\n",
    "\n",
    "uploader = FileUpload(accept='.pdf', multiple=True)\n",
    "display(uploader)"
   ]
  },
  {
   "cell_type": "code",
   "execution_count": null,
   "id": "f7adae16-5cc7-4fe2-9be5-b70145edf644",
   "metadata": {},
   "outputs": [],
   "source": [
    "print(uploader.value[0])"
   ]
  },
  {
   "cell_type": "code",
   "execution_count": null,
   "id": "3be26be2",
   "metadata": {},
   "outputs": [],
   "source": [
    "bytes_data = uploader.value[0].content.tobytes()"
   ]
  },
  {
   "cell_type": "code",
   "execution_count": null,
   "id": "cd8e153d",
   "metadata": {},
   "outputs": [],
   "source": [
    "print(type(bytes_data))"
   ]
  },
  {
   "cell_type": "code",
   "execution_count": null,
   "id": "72b29532-6d28-4d2d-b8a1-0d4c1acb3c2b",
   "metadata": {},
   "outputs": [],
   "source": [
    "import os\n",
    "\n",
    "def save_uploaded_pdf(uploader):\n",
    "    uploaded_file = list(uploader.value)[0]\n",
    "    file_name = uploaded_file['name']\n",
    "    save_path = os.path.join(os.getcwd(), file_name)\n",
    "    with open(save_path, 'wb') as f:\n",
    "        f.write(uploaded_file['content'])\n",
    "    \n",
    "    print(f'Uploaded and saved: {file_name}')\n",
    "    return file_name\n",
    "\n",
    "file_name = save_uploaded_pdf(uploader)"
   ]
  },
  {
   "cell_type": "code",
   "execution_count": null,
   "id": "8a688682-e1ed-4281-97be-0f31df7390f1",
   "metadata": {},
   "outputs": [],
   "source": [
    "!pip install pypdf"
   ]
  },
  {
   "cell_type": "code",
   "execution_count": null,
   "id": "724b22f5-41d7-467e-94f2-a59d73207f13",
   "metadata": {},
   "outputs": [],
   "source": [
    "from langchain_community.document_loaders import PyPDFLoader\n",
    "\n",
    "loader = PyPDFLoader(file_name)\n",
    "pages = loader.load_and_split()"
   ]
  },
  {
   "cell_type": "code",
   "execution_count": null,
   "id": "607b1e4e",
   "metadata": {},
   "outputs": [],
   "source": [
    "pages"
   ]
  },
  {
   "cell_type": "code",
   "execution_count": null,
   "id": "4095660c-dd5c-4881-9e71-0753a78a0f00",
   "metadata": {},
   "outputs": [],
   "source": [
    "from langchain.document_loaders import PyPDFLoader\n",
    "\n",
    "loader = PyPDFLoader(file_name)\n",
    "documents = loader.load()\n",
    "\n",
    "from langchain.text_splitter import CharacterTextSplitter\n",
    "\n",
    "text_splitter = CharacterTextSplitter(chunk_size=1000, chunk_overlap=0)\n",
    "docs = text_splitter.split_documents(documents)\n",
    "len(docs)"
   ]
  },
  {
   "cell_type": "code",
   "execution_count": null,
   "id": "d2e8908a-763c-4159-999e-9141fcbf25a5",
   "metadata": {},
   "outputs": [],
   "source": [
    "docs[:3]"
   ]
  },
  {
   "cell_type": "code",
   "execution_count": null,
   "id": "15299b2d",
   "metadata": {},
   "outputs": [],
   "source": [
    "from langchain_openai import ChatOpenAI\n",
    "\n",
    "chat = ChatOpenAI(model_name='gpt-4o-mini', temperature=0.9)"
   ]
  },
  {
   "cell_type": "code",
   "execution_count": null,
   "id": "195decc1-4078-440c-97eb-8aaee4b628f7",
   "metadata": {},
   "outputs": [],
   "source": [
    "from langchain.embeddings import HuggingFaceEmbeddings\n",
    "from langchain_openai import OpenAIEmbeddings\n",
    "\n",
    "embeddings = OpenAIEmbeddings()\n",
    "#embeddings = HuggingFaceEmbeddings()\n",
    "\n",
    "from langchain.indexes import VectorstoreIndexCreator\n",
    "from langchain.vectorstores import FAISS\n",
    "\n",
    "index = VectorstoreIndexCreator(\n",
    "    vectorstore_cls=FAISS,\n",
    "    embedding=embeddings,\n",
    "    ).from_loaders([loader])\n",
    "\n",
    "# 파일로 저장\n",
    "index.vectorstore.save_local(\"shower\")"
   ]
  },
  {
   "cell_type": "code",
   "execution_count": null,
   "id": "760a50f3-2377-415b-a670-34ba62851e97",
   "metadata": {},
   "outputs": [],
   "source": [
    "index.query(\"소년은 어디에서 처음 소녀를 만났나?\", llm=chat, verbose=True)"
   ]
  },
  {
   "cell_type": "code",
   "execution_count": null,
   "id": "8b12b0ea-0ec5-4a2e-ab95-6b1d270d07a5",
   "metadata": {},
   "outputs": [],
   "source": [
    "index.query(\"소년은 소녀에게 무엇을 주려고 했나?\", llm=chat, verbose=True)"
   ]
  },
  {
   "cell_type": "code",
   "execution_count": null,
   "id": "3bf4817b-f838-49e0-9dc9-afcb77af5fd1",
   "metadata": {},
   "outputs": [],
   "source": [
    "index.query(\"소녀는 소년에게 무엇을 주었나?\", llm=chat, verbose=True)"
   ]
  },
  {
   "cell_type": "code",
   "execution_count": null,
   "id": "88f35631-687d-4664-9424-0f73f1ad3c78",
   "metadata": {},
   "outputs": [],
   "source": [
    "index.query(\"소녀와 윤초시는 어떤 관계인가?\", llm=chat, verbose=True)"
   ]
  }
 ],
 "metadata": {
  "kernelspec": {
   "display_name": ".venv",
   "language": "python",
   "name": "python3"
  },
  "language_info": {
   "codemirror_mode": {
    "name": "ipython",
    "version": 3
   },
   "file_extension": ".py",
   "mimetype": "text/x-python",
   "name": "python",
   "nbconvert_exporter": "python",
   "pygments_lexer": "ipython3",
   "version": "3.10.12"
  }
 },
 "nbformat": 4,
 "nbformat_minor": 5
}
