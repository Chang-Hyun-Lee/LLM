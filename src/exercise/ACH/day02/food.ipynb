{
 "cells": [
  {
   "cell_type": "code",
   "execution_count": 3,
   "id": "d01c3a62",
   "metadata": {},
   "outputs": [
    {
     "name": "stdout",
     "output_type": "stream",
     "text": [
      "\n",
      "🍽 추천 음식점 리스트:\n",
      "1. 음식점 이름: 라피아노\n",
      "   - 특징: 아늑하고 이국적인 분위기의 이탈리안 레스토랑. 직접 만든 파스타와 피자가 인기 메뉴입니다.\n",
      "   - 가격대: 중간 가격대\n",
      "   - 위치: 거제시 동부면 \n",
      "\n",
      "2. 음식점 이름: 피자몽타나\n",
      "   - 특징: 친절한 서비스와 신선한 재료를 사용한 파스타와 피자가 특징입니다.\n",
      "   - 가격대: 저렴한 가격대\n",
      "   - 위치: 거제시 상동면\n",
      "\n",
      "3. 음식점 이름: 파스타만찬\n",
      "   - 특징: 다양한 종류의 파스타와 스테이크를 즐길 수 있는 캐주얼 다이닝 레스토랑.\n",
      "   - 가격대: 중간 가격대\n",
      "   - 위치: 거제시 둔덕면 \n",
      "\n",
      "4. 음식점 이름: 바다품은낙지\n",
      "   - 특징: 특별한 낙지 파스타를 제공하는 이색적인 레스토랑. 바다가 보이는 좋은 전망이 특징인 곳입니다.\n",
      "   - 가격대: 고가\n",
      "   - 위치: 거제시 일운면\n",
      "\n",
      "5. 음식점 이름: 코리아나피자\n",
      "   - 특징: 파스타와 피자뿐만 아니라 한식 메뉴도 제공하는 다양한 선택지가 있는 레스토랑입니다.\n",
      "   - 가격대: 저렴한 가격대\n",
      "   - 위치: 거제시 고현동\n"
     ]
    }
   ],
   "source": [
    "import os\n",
    "from openai import OpenAI\n",
    "from dotenv import load_dotenv  # 🔄 추가된 부분\n",
    "\n",
    "# 🔐 OpenAI API 키 가져오기\n",
    "load_dotenv()  # .env 파일에서 환경변수 읽기\n",
    "\n",
    "api_key = os.getenv(\"OPENAI_API_KEY\")  # 변수명 수정\n",
    "if api_key is None:\n",
    "    raise ValueError(\"❌ OPENAI_API_KEY 환경변수가 설정되지 않았습니다.\")\n",
    "\n",
    "client = OpenAI(api_key=api_key)\n",
    "\n",
    "# 📝 사용자 질문 입력\n",
    "user_input = input(\"원하시는 음식점 추천 질문을 입력하세요 (예: 판교에 있는 맛있는 이탈리안 식당 추천해줘): \")\n",
    "\n",
    "# GPT에게 바로 추천 요청\n",
    "prompt = f\"\"\"\n",
    "당신은 지역 음식점 추천 전문가입니다. 사용자의 질문에 따라 해당 지역과 음식 종류에 어울리는 음식점을 5곳 추천해 주세요.\n",
    "각 음식점에 대해 다음 정보를 제공해 주세요:\n",
    "- 음식점 이름\n",
    "- 간단한 특징 (예: 분위기, 인기 메뉴)\n",
    "- 대략적인 가격대\n",
    "- 위치 (정확한 주소가 아니라 지역명 중심)\n",
    "\n",
    "사용자 질문: \"{user_input}\"\n",
    "\"\"\"\n",
    "\n",
    "response = client.chat.completions.create(\n",
    "    model=\"gpt-4\",\n",
    "    messages=[\n",
    "        {\"role\": \"system\", \"content\": \"당신은 지역 음식점 추천 전문가입니다. 한국어로 친절하게 설명해주세요.\"},\n",
    "        {\"role\": \"user\", \"content\": prompt}\n",
    "    ],\n",
    "    temperature=0.8\n",
    ")\n",
    "\n",
    "# 결과 출력\n",
    "print(\"\\n🍽 추천 음식점 리스트:\")\n",
    "print(response.choices[0].message.content)"
   ]
  }
 ],
 "metadata": {
  "kernelspec": {
   "display_name": ".venv",
   "language": "python",
   "name": "python3"
  },
  "language_info": {
   "codemirror_mode": {
    "name": "ipython",
    "version": 3
   },
   "file_extension": ".py",
   "mimetype": "text/x-python",
   "name": "python",
   "nbconvert_exporter": "python",
   "pygments_lexer": "ipython3",
   "version": "3.10.12"
  }
 },
 "nbformat": 4,
 "nbformat_minor": 5
}
