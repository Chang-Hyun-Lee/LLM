{
 "cells": [
  {
   "cell_type": "code",
   "execution_count": 5,
   "id": "7670aae4",
   "metadata": {},
   "outputs": [
    {
     "name": "stdout",
     "output_type": "stream",
     "text": [
      "Requirement already satisfied: pykrx in /home/ach/work/koshipa-llm-2025-1st/src/exercise/.venv/lib/python3.10/site-packages (1.0.51)\n",
      "Requirement already satisfied: requests in /home/ach/work/koshipa-llm-2025-1st/src/exercise/.venv/lib/python3.10/site-packages (from pykrx) (2.32.4)\n",
      "Requirement already satisfied: pandas in /home/ach/work/koshipa-llm-2025-1st/src/exercise/.venv/lib/python3.10/site-packages (from pykrx) (2.3.1)\n",
      "Requirement already satisfied: datetime in /home/ach/work/koshipa-llm-2025-1st/src/exercise/.venv/lib/python3.10/site-packages (from pykrx) (5.5)\n",
      "Requirement already satisfied: numpy in /home/ach/work/koshipa-llm-2025-1st/src/exercise/.venv/lib/python3.10/site-packages (from pykrx) (2.2.6)\n",
      "Requirement already satisfied: xlrd in /home/ach/work/koshipa-llm-2025-1st/src/exercise/.venv/lib/python3.10/site-packages (from pykrx) (2.0.2)\n",
      "Requirement already satisfied: deprecated in /home/ach/work/koshipa-llm-2025-1st/src/exercise/.venv/lib/python3.10/site-packages (from pykrx) (1.2.18)\n",
      "Requirement already satisfied: multipledispatch in /home/ach/work/koshipa-llm-2025-1st/src/exercise/.venv/lib/python3.10/site-packages (from pykrx) (1.0.0)\n",
      "Requirement already satisfied: matplotlib in /home/ach/work/koshipa-llm-2025-1st/src/exercise/.venv/lib/python3.10/site-packages (from pykrx) (3.10.3)\n",
      "Requirement already satisfied: zope.interface in /home/ach/work/koshipa-llm-2025-1st/src/exercise/.venv/lib/python3.10/site-packages (from datetime->pykrx) (7.2)\n",
      "Requirement already satisfied: pytz in /home/ach/work/koshipa-llm-2025-1st/src/exercise/.venv/lib/python3.10/site-packages (from datetime->pykrx) (2025.2)\n",
      "Requirement already satisfied: wrapt<2,>=1.10 in /home/ach/work/koshipa-llm-2025-1st/src/exercise/.venv/lib/python3.10/site-packages (from deprecated->pykrx) (1.17.2)\n",
      "Requirement already satisfied: contourpy>=1.0.1 in /home/ach/work/koshipa-llm-2025-1st/src/exercise/.venv/lib/python3.10/site-packages (from matplotlib->pykrx) (1.3.2)\n",
      "Requirement already satisfied: cycler>=0.10 in /home/ach/work/koshipa-llm-2025-1st/src/exercise/.venv/lib/python3.10/site-packages (from matplotlib->pykrx) (0.12.1)\n",
      "Requirement already satisfied: fonttools>=4.22.0 in /home/ach/work/koshipa-llm-2025-1st/src/exercise/.venv/lib/python3.10/site-packages (from matplotlib->pykrx) (4.59.0)\n",
      "Requirement already satisfied: kiwisolver>=1.3.1 in /home/ach/work/koshipa-llm-2025-1st/src/exercise/.venv/lib/python3.10/site-packages (from matplotlib->pykrx) (1.4.8)\n",
      "Requirement already satisfied: packaging>=20.0 in /home/ach/work/koshipa-llm-2025-1st/src/exercise/.venv/lib/python3.10/site-packages (from matplotlib->pykrx) (25.0)\n",
      "Requirement already satisfied: pillow>=8 in /home/ach/work/koshipa-llm-2025-1st/src/exercise/.venv/lib/python3.10/site-packages (from matplotlib->pykrx) (11.3.0)\n",
      "Requirement already satisfied: pyparsing>=2.3.1 in /home/ach/work/koshipa-llm-2025-1st/src/exercise/.venv/lib/python3.10/site-packages (from matplotlib->pykrx) (3.2.3)\n",
      "Requirement already satisfied: python-dateutil>=2.7 in /home/ach/work/koshipa-llm-2025-1st/src/exercise/.venv/lib/python3.10/site-packages (from matplotlib->pykrx) (2.9.0.post0)\n",
      "Requirement already satisfied: six>=1.5 in /home/ach/work/koshipa-llm-2025-1st/src/exercise/.venv/lib/python3.10/site-packages (from python-dateutil>=2.7->matplotlib->pykrx) (1.17.0)\n",
      "Requirement already satisfied: tzdata>=2022.7 in /home/ach/work/koshipa-llm-2025-1st/src/exercise/.venv/lib/python3.10/site-packages (from pandas->pykrx) (2025.2)\n",
      "Requirement already satisfied: charset_normalizer<4,>=2 in /home/ach/work/koshipa-llm-2025-1st/src/exercise/.venv/lib/python3.10/site-packages (from requests->pykrx) (3.4.2)\n",
      "Requirement already satisfied: idna<4,>=2.5 in /home/ach/work/koshipa-llm-2025-1st/src/exercise/.venv/lib/python3.10/site-packages (from requests->pykrx) (3.10)\n",
      "Requirement already satisfied: urllib3<3,>=1.21.1 in /home/ach/work/koshipa-llm-2025-1st/src/exercise/.venv/lib/python3.10/site-packages (from requests->pykrx) (2.5.0)\n",
      "Requirement already satisfied: certifi>=2017.4.17 in /home/ach/work/koshipa-llm-2025-1st/src/exercise/.venv/lib/python3.10/site-packages (from requests->pykrx) (2025.7.14)\n",
      "Requirement already satisfied: setuptools in /home/ach/work/koshipa-llm-2025-1st/src/exercise/.venv/lib/python3.10/site-packages (from zope.interface->datetime->pykrx) (80.9.0)\n"
     ]
    }
   ],
   "source": [
    "!pip install pykrx"
   ]
  },
  {
   "cell_type": "code",
   "execution_count": 6,
   "id": "e2eb47cb",
   "metadata": {},
   "outputs": [
    {
     "name": "stdout",
     "output_type": "stream",
     "text": [
      "Requirement already satisfied: pandas in /home/ach/work/koshipa-llm-2025-1st/src/exercise/.venv/lib/python3.10/site-packages (2.3.1)\n",
      "Requirement already satisfied: numpy>=1.22.4 in /home/ach/work/koshipa-llm-2025-1st/src/exercise/.venv/lib/python3.10/site-packages (from pandas) (2.2.6)\n",
      "Requirement already satisfied: python-dateutil>=2.8.2 in /home/ach/work/koshipa-llm-2025-1st/src/exercise/.venv/lib/python3.10/site-packages (from pandas) (2.9.0.post0)\n",
      "Requirement already satisfied: pytz>=2020.1 in /home/ach/work/koshipa-llm-2025-1st/src/exercise/.venv/lib/python3.10/site-packages (from pandas) (2025.2)\n",
      "Requirement already satisfied: tzdata>=2022.7 in /home/ach/work/koshipa-llm-2025-1st/src/exercise/.venv/lib/python3.10/site-packages (from pandas) (2025.2)\n",
      "Requirement already satisfied: six>=1.5 in /home/ach/work/koshipa-llm-2025-1st/src/exercise/.venv/lib/python3.10/site-packages (from python-dateutil>=2.8.2->pandas) (1.17.0)\n"
     ]
    }
   ],
   "source": [
    "!pip install pandas"
   ]
  },
  {
   "cell_type": "code",
   "execution_count": 7,
   "id": "5a9dd450",
   "metadata": {},
   "outputs": [
    {
     "ename": "ValueError",
     "evalue": "❌ OPENAI_API_KEY 환경변수가 설정되지 않았습니다.",
     "output_type": "error",
     "traceback": [
      "\u001b[0;31m---------------------------------------------------------------------------\u001b[0m",
      "\u001b[0;31mValueError\u001b[0m                                Traceback (most recent call last)",
      "Cell \u001b[0;32mIn[7], line 13\u001b[0m\n\u001b[1;32m     11\u001b[0m openai\u001b[38;5;241m.\u001b[39mapi_key \u001b[38;5;241m=\u001b[39m os\u001b[38;5;241m.\u001b[39mgetenv(\u001b[38;5;124m\"\u001b[39m\u001b[38;5;124mOPENAI_API_KEY\u001b[39m\u001b[38;5;124m\"\u001b[39m)\n\u001b[1;32m     12\u001b[0m \u001b[38;5;28;01mif\u001b[39;00m openai\u001b[38;5;241m.\u001b[39mapi_key \u001b[38;5;129;01mis\u001b[39;00m \u001b[38;5;28;01mNone\u001b[39;00m:\n\u001b[0;32m---> 13\u001b[0m     \u001b[38;5;28;01mraise\u001b[39;00m \u001b[38;5;167;01mValueError\u001b[39;00m(\u001b[38;5;124m\"\u001b[39m\u001b[38;5;124m❌ OPENAI_API_KEY 환경변수가 설정되지 않았습니다.\u001b[39m\u001b[38;5;124m\"\u001b[39m)\n\u001b[1;32m     15\u001b[0m \u001b[38;5;66;03m# ✅ 사용자 입력\u001b[39;00m\n\u001b[1;32m     16\u001b[0m user_input \u001b[38;5;241m=\u001b[39m \u001b[38;5;28minput\u001b[39m(\u001b[38;5;124m\"\u001b[39m\u001b[38;5;124m분석할 종목명과 기간을 입력하세요 (예: 삼성전자 2023년 1월 1일부터 2023년 6월 30일까지 분석해줘): \u001b[39m\u001b[38;5;124m\"\u001b[39m)\n",
      "\u001b[0;31mValueError\u001b[0m: ❌ OPENAI_API_KEY 환경변수가 설정되지 않았습니다."
     ]
    },
    {
     "name": "stderr",
     "output_type": "stream",
     "text": [
      "Bad pipe message: %s [b'\"Not)A;Brand\";v=\"8\", \"Chromium\";v=\"138\", \"Google Chrome\";']\n",
      "Bad pipe message: %s [b'\"138\"\\r\\nsec-ch-ua-mobile: ?0\\r\\nsec-ch-ua-platform: \"Windows\"\\r\\nUpgrade-Insecure-Requests: 1\\r\\nUser-Agent: Mozilla/5.0 (Wi', b'ows NT 10.0; Win64; x64) AppleWebKit/537.36 (KHTML, like Gecko) Chrome/138.0.0.0 Safari/537.36\\r\\nAccept: text/']\n",
      "Bad pipe message: %s [b'ml,application/xhtml+xml,application/xml;q=0.9,image/avif,image/webp,image/apng,*/*;q=0.8,application/s']\n",
      "Bad pipe message: %s [b'ol: max-age=0\\r\\nsec-ch-ua: \"Not)A;Brand\";v=\"8\", \"Chromium\";v=\"138\", \"Google Chrome\";v=\"138\"\\r\\nsec-ch-ua-mobile: ?0\\r\\ns']\n",
      "Bad pipe message: %s [b'-ch-ua-platform: \"Windows\"\\r\\nUpgrade-Insecure-Requests: 1\\r\\nUser-Agent: Mozilla/5.0 (Windows NT 10.0; ', b'n64; x64) AppleWebKit/537.36 (KHTML, like Gecko) Chrome/138.0.0.0 Safari/537.36\\r\\nAccep', b' text/html,application/xhtml+xml,application/xml;q=0.9,image/avif,image/webp,image/apng,*/*;q=0.8,application/signe']\n"
     ]
    }
   ],
   "source": [
    "import os\n",
    "import openai\n",
    "from pykrx import stock\n",
    "import pandas as pd\n",
    "from datetime import datetime\n",
    "import json\n",
    "from difflib import get_close_matches\n",
    "from io import StringIO\n",
    "\n",
    "# ✅ OpenAI API 키 가져오기\n",
    "openai.api_key = os.getenv(\"OPENAI_API_KEY\")\n",
    "if openai.api_key is None:\n",
    "    raise ValueError(\"❌ OPENAI_API_KEY 환경변수가 설정되지 않았습니다.\")\n",
    "\n",
    "# ✅ 사용자 입력\n",
    "user_input = input(\"분석할 종목명과 기간을 입력하세요 (예: 삼성전자 2023년 1월 1일부터 2023년 6월 30일까지 분석해줘): \")\n",
    "\n",
    "# ✅ GPT에게 종목명, 날짜 추출 요청\n",
    "extract_response = openai.chat.completions.create(\n",
    "    model=\"gpt-4o\",\n",
    "    messages=[\n",
    "        {\"role\": \"system\", \"content\": \"사용자 문장에서 종목명, 시작일, 종료일을 추출해서 JSON 문자열로 반환하세요. 예: {'종목명':'삼성전자', '시작일':'2023-01-01', '종료일':'2023-06-30'}\"},\n",
    "        {\"role\": \"user\", \"content\": user_input}\n",
    "    ],\n",
    "    temperature=0.1\n",
    ")\n",
    "\n",
    "# ✅ JSON 파싱\n",
    "extracted_text = extract_response.choices[0].message.content\n",
    "extracted_data = json.loads(extracted_text.replace(\"'\", '\"'))\n",
    "\n",
    "stock_name = extracted_data[\"종목명\"]\n",
    "start_date = extracted_data[\"시작일\"].replace(\"-\", \"\")\n",
    "end_date = extracted_data[\"종료일\"].replace(\"-\", \"\")\n",
    "\n",
    "print(f\"\\n✅ 입력 종목명: {stock_name}, 기간: {start_date} ~ {end_date}\")\n",
    "\n",
    "# ✅ 전체 종목 이름/코드 리스트 불러오기\n",
    "tickers = stock.get_market_ticker_list()\n",
    "name_to_code = {stock.get_market_ticker_name(code): code for code in tickers}\n",
    "\n",
    "# ✅ 정확히 일치하지 않으면 유사한 종목 추천\n",
    "def find_best_match(name, all_names):\n",
    "    if name in all_names:\n",
    "        return name\n",
    "    matches = get_close_matches(name, all_names, n=5, cutoff=0.5)\n",
    "    if not matches:\n",
    "        print(f\"❌ '{name}'와 유사한 종목명을 찾을 수 없습니다.\")\n",
    "        exit()\n",
    "    print(f\"❓ 정확한 종목명을 찾을 수 없습니다. 다음 중 선택하세요:\")\n",
    "    for i, match in enumerate(matches):\n",
    "        print(f\"{i+1}. {match}\")\n",
    "    choice = input(\"번호를 입력하세요 (예: 1): \")\n",
    "    try:\n",
    "        return matches[int(choice)-1]\n",
    "    except:\n",
    "        print(\"❌ 잘못된 입력입니다.\")\n",
    "        exit()\n",
    "\n",
    "matched_name = find_best_match(stock_name, list(name_to_code.keys()))\n",
    "ticker = name_to_code[matched_name]\n",
    "\n",
    "print(f\"✅ 선택된 종목: {matched_name}, 코드: {ticker}\")\n",
    "\n",
    "# ✅ 주가 데이터 가져오기\n",
    "df = stock.get_market_ohlcv(start_date, end_date, ticker)\n",
    "\n",
    "if df.empty:\n",
    "    print(\"❌ 선택한 기간에 대한 주가 데이터가 없습니다.\")\n",
    "    exit()\n",
    "\n",
    "# ✅ GPT에 전달할 CSV 데이터\n",
    "csv_buffer = StringIO()\n",
    "df.to_csv(csv_buffer)\n",
    "csv_data = csv_buffer.getvalue()\n",
    "\n",
    "# ✅ GPT에게 주가 분석 요청\n",
    "analysis_response = openai.chat.completions.create(\n",
    "    model=\"gpt-4o\",\n",
    "    messages=[\n",
    "        {\"role\": \"system\", \"content\": f\"다음은 {matched_name}의 날짜별 주가 데이터입니다. 이 데이터를 분석해서 기간 내 특징을 요약 보고해주세요.\"},\n",
    "        {\"role\": \"user\", \"content\": csv_data}\n",
    "    ],\n",
    "    temperature=0.5,\n",
    "    max_tokens=1024\n",
    ")\n",
    "\n",
    "# ✅ 분석 결과 출력\n",
    "print(\"\\n📊 GPT 분석 결과:\")\n",
    "print(analysis_response.choices[0].message.content)\n"
   ]
  },
  {
   "cell_type": "code",
   "execution_count": null,
   "id": "b5ea9c56",
   "metadata": {},
   "outputs": [],
   "source": [
    "df"
   ]
  },
  {
   "cell_type": "code",
   "execution_count": null,
   "id": "97a72a4e",
   "metadata": {},
   "outputs": [],
   "source": []
  }
 ],
 "metadata": {
  "kernelspec": {
   "display_name": ".venv",
   "language": "python",
   "name": "python3"
  },
  "language_info": {
   "codemirror_mode": {
    "name": "ipython",
    "version": 3
   },
   "file_extension": ".py",
   "mimetype": "text/x-python",
   "name": "python",
   "nbconvert_exporter": "python",
   "pygments_lexer": "ipython3",
   "version": "3.10.12"
  }
 },
 "nbformat": 4,
 "nbformat_minor": 5
}
