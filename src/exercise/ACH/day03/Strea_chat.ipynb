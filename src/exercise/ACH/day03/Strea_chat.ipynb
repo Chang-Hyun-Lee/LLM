{
 "cells": [
  {
   "cell_type": "code",
   "execution_count": null,
   "id": "4291af66",
   "metadata": {},
   "outputs": [],
   "source": [
    "# app.py\n",
    "\n",
    "import os\n",
    "import openai\n",
    "import streamlit as st\n",
    "from dotenv import load_dotenv\n",
    "\n",
    "# ✅ 환경변수 로드\n",
    "load_dotenv()\n",
    "api_key = os.getenv(\"OPENAI_API_KEY\")\n",
    "if api_key is None:\n",
    "    raise ValueError(\"❌ OPENAI_API_KEY 환경변수가 설정되지 않았습니다.\")\n",
    "\n",
    "openai.api_key = api_key\n",
    "\n",
    "# ✅ 페이지 설정\n",
    "st.set_page_config(\n",
    "    page_title=\"🧠 멀티턴 챗봇\",\n",
    "    page_icon=\"🤖\",\n",
    "    layout=\"centered\"\n",
    ")\n",
    "\n",
    "# ✅ 타이틀 및 설명\n",
    "st.title(\"🤖 멀티턴 대화 챗봇\")\n",
    "st.markdown(\"💬 GPT-4 기반 대화형 AI와 자연스럽게 대화를 이어가보세요.\")\n",
    "\n",
    "# ✅ 세션 상태 초기화\n",
    "if \"chat_history\" not in st.session_state:\n",
    "    st.session_state.chat_history = []\n",
    "\n",
    "# ✅ 기존 대화 렌더링\n",
    "for msg in st.session_state.chat_history:\n",
    "    with st.chat_message(msg[\"role\"]):\n",
    "        st.markdown(msg[\"content\"])\n",
    "\n",
    "# ✅ 사용자 입력 받기\n",
    "user_input = st.chat_input(\"메시지를 입력하세요...\")\n",
    "\n",
    "# ✅ 사용자 입력 처리\n",
    "if user_input:\n",
    "    # 사용자 메시지 표시 및 기록\n",
    "    st.session_state.chat_history.append({\"role\": \"user\", \"content\": user_input})\n",
    "    with st.chat_message(\"user\"):\n",
    "        st.markdown(user_input)\n",
    "\n",
    "    # 메시지 목록 구성\n",
    "    messages = [{\"role\": \"system\", \"content\": \"저는 도움을 주는 AI 어시스턴트입니다. 어떻게 도와드릴까요?\"}]\n",
    "    for m in st.session_state.chat_history:\n",
    "        messages.append({\"role\": m[\"role\"], \"content\": m[\"content\"]})\n",
    "\n",
    "    # GPT 응답 생성\n",
    "    with st.chat_message(\"assistant\"):\n",
    "        response_container = st.empty()\n",
    "        full_response = \"\"\n",
    "\n",
    "        for chunk in openai.chat.completions.create(\n",
    "            model=\"gpt-4\",\n",
    "            messages=messages,\n",
    "            stream=True,\n",
    "        ):\n",
    "            if chunk.choices[0].delta.content:\n",
    "                full_response += chunk.choices[0].delta.content\n",
    "                response_container.markdown(full_response + \"▌\")\n",
    "\n",
    "        response_container.markdown(full_response)\n",
    "        # GPT 응답 저장\n",
    "        st.session_state.chat_history.append({\"role\": \"assistant\", \"content\": full_response})\n",
    "\n",
    "# ✅ 대화 초기화 버튼\n",
    "if st.button(\"🗑️ 대화 초기화\"):\n",
    "    st.session_state.chat_history = []\n",
    "    st.experimental_rerun()\n"
   ]
  },
  {
   "cell_type": "code",
   "execution_count": 1,
   "id": "10621ead",
   "metadata": {},
   "outputs": [
    {
     "ename": "SyntaxError",
     "evalue": "invalid syntax (2160366424.py, line 1)",
     "output_type": "error",
     "traceback": [
      "\u001b[0;36m  Cell \u001b[0;32mIn[1], line 1\u001b[0;36m\u001b[0m\n\u001b[0;31m    streamlit run Steamlit_chat.ipynb\u001b[0m\n\u001b[0m              ^\u001b[0m\n\u001b[0;31mSyntaxError\u001b[0m\u001b[0;31m:\u001b[0m invalid syntax\n"
     ]
    }
   ],
   "source": [
    "streamlit run Steamlit_chat.ipynb"
   ]
  },
  {
   "cell_type": "code",
   "execution_count": null,
   "id": "9b7b49bf",
   "metadata": {},
   "outputs": [],
   "source": []
  }
 ],
 "metadata": {
  "kernelspec": {
   "display_name": ".venv",
   "language": "python",
   "name": "python3"
  },
  "language_info": {
   "codemirror_mode": {
    "name": "ipython",
    "version": 3
   },
   "file_extension": ".py",
   "mimetype": "text/x-python",
   "name": "python",
   "nbconvert_exporter": "python",
   "pygments_lexer": "ipython3",
   "version": "3.10.12"
  }
 },
 "nbformat": 4,
 "nbformat_minor": 5
}
