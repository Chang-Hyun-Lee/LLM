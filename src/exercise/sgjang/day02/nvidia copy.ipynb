{
 "cells": [
  {
   "cell_type": "code",
   "execution_count": 1,
   "metadata": {},
   "outputs": [],
   "source": [
    "import os\n",
    "os.environ[\"OPENAI_DEFAULT_MODEL\"] = 'gpt-4o-mini'"
   ]
  },
  {
   "cell_type": "code",
   "execution_count": 2,
   "metadata": {},
   "outputs": [
    {
     "name": "stdout",
     "output_type": "stream",
     "text": [
      "Defaulting to user installation because normal site-packages is not writeable\n",
      "Requirement already satisfied: yfinance in /home/ubuntu/.local/lib/python3.10/site-packages (0.2.65)\n",
      "Requirement already satisfied: matplotlib in /home/ubuntu/.local/lib/python3.10/site-packages (3.10.3)\n",
      "Requirement already satisfied: websockets>=13.0 in /home/ubuntu/.local/lib/python3.10/site-packages (from yfinance) (15.0.1)\n",
      "Requirement already satisfied: protobuf>=3.19.0 in /home/ubuntu/.local/lib/python3.10/site-packages (from yfinance) (6.31.1)\n",
      "Requirement already satisfied: pytz>=2022.5 in /home/ubuntu/.local/lib/python3.10/site-packages (from yfinance) (2025.2)\n",
      "Requirement already satisfied: requests>=2.31 in /home/ubuntu/.local/lib/python3.10/site-packages (from yfinance) (2.32.4)\n",
      "Requirement already satisfied: peewee>=3.16.2 in /home/ubuntu/.local/lib/python3.10/site-packages (from yfinance) (3.18.2)\n",
      "Requirement already satisfied: curl_cffi>=0.7 in /home/ubuntu/.local/lib/python3.10/site-packages (from yfinance) (0.12.0)\n",
      "Requirement already satisfied: frozendict>=2.3.4 in /home/ubuntu/.local/lib/python3.10/site-packages (from yfinance) (2.4.6)\n",
      "Requirement already satisfied: platformdirs>=2.0.0 in /home/ubuntu/.local/lib/python3.10/site-packages (from yfinance) (4.3.8)\n",
      "Requirement already satisfied: pandas>=1.3.0 in /home/ubuntu/.local/lib/python3.10/site-packages (from yfinance) (2.3.1)\n",
      "Requirement already satisfied: beautifulsoup4>=4.11.1 in /home/ubuntu/.local/lib/python3.10/site-packages (from yfinance) (4.13.4)\n",
      "Requirement already satisfied: multitasking>=0.0.7 in /home/ubuntu/.local/lib/python3.10/site-packages (from yfinance) (0.0.12)\n",
      "Requirement already satisfied: numpy>=1.16.5 in /home/ubuntu/.local/lib/python3.10/site-packages (from yfinance) (2.2.6)\n",
      "Requirement already satisfied: pyparsing>=2.3.1 in /usr/lib/python3/dist-packages (from matplotlib) (2.4.7)\n",
      "Requirement already satisfied: python-dateutil>=2.7 in /home/ubuntu/.local/lib/python3.10/site-packages (from matplotlib) (2.9.0.post0)\n",
      "Requirement already satisfied: contourpy>=1.0.1 in /home/ubuntu/.local/lib/python3.10/site-packages (from matplotlib) (1.3.2)\n",
      "Requirement already satisfied: pillow>=8 in /home/ubuntu/.local/lib/python3.10/site-packages (from matplotlib) (11.3.0)\n",
      "Requirement already satisfied: fonttools>=4.22.0 in /home/ubuntu/.local/lib/python3.10/site-packages (from matplotlib) (4.59.0)\n",
      "Requirement already satisfied: packaging>=20.0 in /home/ubuntu/.local/lib/python3.10/site-packages (from matplotlib) (25.0)\n",
      "Requirement already satisfied: kiwisolver>=1.3.1 in /home/ubuntu/.local/lib/python3.10/site-packages (from matplotlib) (1.4.8)\n",
      "Requirement already satisfied: cycler>=0.10 in /home/ubuntu/.local/lib/python3.10/site-packages (from matplotlib) (0.12.1)\n",
      "Requirement already satisfied: soupsieve>1.2 in /home/ubuntu/.local/lib/python3.10/site-packages (from beautifulsoup4>=4.11.1->yfinance) (2.7)\n",
      "Requirement already satisfied: typing-extensions>=4.0.0 in /home/ubuntu/.local/lib/python3.10/site-packages (from beautifulsoup4>=4.11.1->yfinance) (4.14.1)\n",
      "Requirement already satisfied: cffi>=1.12.0 in /home/ubuntu/.local/lib/python3.10/site-packages (from curl_cffi>=0.7->yfinance) (1.17.1)\n",
      "Requirement already satisfied: certifi>=2024.2.2 in /home/ubuntu/.local/lib/python3.10/site-packages (from curl_cffi>=0.7->yfinance) (2025.7.14)\n",
      "Requirement already satisfied: tzdata>=2022.7 in /home/ubuntu/.local/lib/python3.10/site-packages (from pandas>=1.3.0->yfinance) (2025.2)\n",
      "Requirement already satisfied: six>=1.5 in /usr/lib/python3/dist-packages (from python-dateutil>=2.7->matplotlib) (1.16.0)\n",
      "Requirement already satisfied: idna<4,>=2.5 in /usr/lib/python3/dist-packages (from requests>=2.31->yfinance) (3.3)\n",
      "Requirement already satisfied: urllib3<3,>=1.21.1 in /usr/lib/python3/dist-packages (from requests>=2.31->yfinance) (1.26.5)\n",
      "Requirement already satisfied: charset_normalizer<4,>=2 in /home/ubuntu/.local/lib/python3.10/site-packages (from requests>=2.31->yfinance) (3.4.2)\n",
      "Requirement already satisfied: pycparser in /home/ubuntu/.local/lib/python3.10/site-packages (from cffi>=1.12.0->curl_cffi>=0.7->yfinance) (2.22)\n"
     ]
    }
   ],
   "source": [
    "!pip install yfinance matplotlib"
   ]
  },
  {
   "cell_type": "code",
   "execution_count": 3,
   "metadata": {
    "colab": {
     "base_uri": "https://localhost:8080/"
    },
    "executionInfo": {
     "elapsed": 458,
     "status": "ok",
     "timestamp": 1716780397384,
     "user": {
      "displayName": "노규남",
      "userId": "12395859382694188829"
     },
     "user_tz": -540
    },
    "id": "7RRLMEzCE6KH",
    "outputId": "c074cee4-e23a-4a90-f39e-0e3df127b672"
   },
   "outputs": [
    {
     "name": "stderr",
     "output_type": "stream",
     "text": [
      "/tmp/ipykernel_73864/1393723561.py:5: FutureWarning: YF.download() has changed argument auto_adjust default to True\n",
      "  df = yf.download(ticker, start=\"2024-05-01\", end=\"2024-05-26\")\n",
      "[*********************100%***********************]  1 of 1 completed\n"
     ]
    }
   ],
   "source": [
    "import yfinance as yf\n",
    "import matplotlib.pyplot as plt\n",
    "\n",
    "ticker = \"NVDA\"\n",
    "df = yf.download(ticker, start=\"2024-05-01\", end=\"2024-05-26\")"
   ]
  },
  {
   "cell_type": "code",
   "execution_count": 4,
   "metadata": {
    "colab": {
     "base_uri": "https://localhost:8080/",
     "height": 237
    },
    "executionInfo": {
     "elapsed": 2,
     "status": "ok",
     "timestamp": 1716780406395,
     "user": {
      "displayName": "노규남",
      "userId": "12395859382694188829"
     },
     "user_tz": -540
    },
    "id": "-T1lqhQ0FgBB",
    "outputId": "5a3c37db-a3f9-4c81-f4a0-e95115aab0c6"
   },
   "outputs": [
    {
     "data": {
      "text/html": [
       "<div>\n",
       "<style scoped>\n",
       "    .dataframe tbody tr th:only-of-type {\n",
       "        vertical-align: middle;\n",
       "    }\n",
       "\n",
       "    .dataframe tbody tr th {\n",
       "        vertical-align: top;\n",
       "    }\n",
       "\n",
       "    .dataframe thead tr th {\n",
       "        text-align: left;\n",
       "    }\n",
       "\n",
       "    .dataframe thead tr:last-of-type th {\n",
       "        text-align: right;\n",
       "    }\n",
       "</style>\n",
       "<table border=\"1\" class=\"dataframe\">\n",
       "  <thead>\n",
       "    <tr>\n",
       "      <th>Price</th>\n",
       "      <th>Close</th>\n",
       "      <th>High</th>\n",
       "      <th>Low</th>\n",
       "      <th>Open</th>\n",
       "      <th>Volume</th>\n",
       "    </tr>\n",
       "    <tr>\n",
       "      <th>Ticker</th>\n",
       "      <th>NVDA</th>\n",
       "      <th>NVDA</th>\n",
       "      <th>NVDA</th>\n",
       "      <th>NVDA</th>\n",
       "      <th>NVDA</th>\n",
       "    </tr>\n",
       "    <tr>\n",
       "      <th>Date</th>\n",
       "      <th></th>\n",
       "      <th></th>\n",
       "      <th></th>\n",
       "      <th></th>\n",
       "      <th></th>\n",
       "    </tr>\n",
       "  </thead>\n",
       "  <tbody>\n",
       "    <tr>\n",
       "      <th>2024-05-01</th>\n",
       "      <td>83.007950</td>\n",
       "      <td>85.965772</td>\n",
       "      <td>81.222658</td>\n",
       "      <td>85.043143</td>\n",
       "      <td>559863000</td>\n",
       "    </tr>\n",
       "    <tr>\n",
       "      <th>2024-05-02</th>\n",
       "      <td>85.782852</td>\n",
       "      <td>86.202683</td>\n",
       "      <td>83.166889</td>\n",
       "      <td>84.415393</td>\n",
       "      <td>377898000</td>\n",
       "    </tr>\n",
       "    <tr>\n",
       "      <th>2024-05-03</th>\n",
       "      <td>88.753670</td>\n",
       "      <td>89.245471</td>\n",
       "      <td>87.005365</td>\n",
       "      <td>87.754068</td>\n",
       "      <td>398341000</td>\n",
       "    </tr>\n",
       "    <tr>\n",
       "      <th>2024-05-06</th>\n",
       "      <td>92.103340</td>\n",
       "      <td>92.183310</td>\n",
       "      <td>89.019568</td>\n",
       "      <td>89.354434</td>\n",
       "      <td>376203000</td>\n",
       "    </tr>\n",
       "    <tr>\n",
       "      <th>2024-05-07</th>\n",
       "      <td>90.517967</td>\n",
       "      <td>91.744476</td>\n",
       "      <td>88.975582</td>\n",
       "      <td>91.061749</td>\n",
       "      <td>437342000</td>\n",
       "    </tr>\n",
       "  </tbody>\n",
       "</table>\n",
       "</div>"
      ],
      "text/plain": [
       "Price           Close       High        Low       Open     Volume\n",
       "Ticker           NVDA       NVDA       NVDA       NVDA       NVDA\n",
       "Date                                                             \n",
       "2024-05-01  83.007950  85.965772  81.222658  85.043143  559863000\n",
       "2024-05-02  85.782852  86.202683  83.166889  84.415393  377898000\n",
       "2024-05-03  88.753670  89.245471  87.005365  87.754068  398341000\n",
       "2024-05-06  92.103340  92.183310  89.019568  89.354434  376203000\n",
       "2024-05-07  90.517967  91.744476  88.975582  91.061749  437342000"
      ]
     },
     "execution_count": 4,
     "metadata": {},
     "output_type": "execute_result"
    }
   ],
   "source": [
    "df.head()"
   ]
  },
  {
   "cell_type": "code",
   "execution_count": 5,
   "metadata": {
    "colab": {
     "base_uri": "https://localhost:8080/",
     "height": 237
    },
    "executionInfo": {
     "elapsed": 504,
     "status": "ok",
     "timestamp": 1716780417721,
     "user": {
      "displayName": "노규남",
      "userId": "12395859382694188829"
     },
     "user_tz": -540
    },
    "id": "n3uI4WV6FiHh",
    "outputId": "4ca55607-bcd1-4bea-e469-8b48e8a27036"
   },
   "outputs": [
    {
     "data": {
      "text/html": [
       "<div>\n",
       "<style scoped>\n",
       "    .dataframe tbody tr th:only-of-type {\n",
       "        vertical-align: middle;\n",
       "    }\n",
       "\n",
       "    .dataframe tbody tr th {\n",
       "        vertical-align: top;\n",
       "    }\n",
       "\n",
       "    .dataframe thead tr th {\n",
       "        text-align: left;\n",
       "    }\n",
       "\n",
       "    .dataframe thead tr:last-of-type th {\n",
       "        text-align: right;\n",
       "    }\n",
       "</style>\n",
       "<table border=\"1\" class=\"dataframe\">\n",
       "  <thead>\n",
       "    <tr>\n",
       "      <th>Price</th>\n",
       "      <th>Close</th>\n",
       "      <th>High</th>\n",
       "      <th>Low</th>\n",
       "      <th>Open</th>\n",
       "      <th>Volume</th>\n",
       "    </tr>\n",
       "    <tr>\n",
       "      <th>Ticker</th>\n",
       "      <th>NVDA</th>\n",
       "      <th>NVDA</th>\n",
       "      <th>NVDA</th>\n",
       "      <th>NVDA</th>\n",
       "      <th>NVDA</th>\n",
       "    </tr>\n",
       "    <tr>\n",
       "      <th>Date</th>\n",
       "      <th></th>\n",
       "      <th></th>\n",
       "      <th></th>\n",
       "      <th></th>\n",
       "      <th></th>\n",
       "    </tr>\n",
       "  </thead>\n",
       "  <tbody>\n",
       "    <tr>\n",
       "      <th>2024-05-20</th>\n",
       "      <td>94.742287</td>\n",
       "      <td>95.162118</td>\n",
       "      <td>93.402824</td>\n",
       "      <td>93.712698</td>\n",
       "      <td>318764000</td>\n",
       "    </tr>\n",
       "    <tr>\n",
       "      <th>2024-05-21</th>\n",
       "      <td>95.348045</td>\n",
       "      <td>95.362040</td>\n",
       "      <td>93.142922</td>\n",
       "      <td>93.561754</td>\n",
       "      <td>328946000</td>\n",
       "    </tr>\n",
       "    <tr>\n",
       "      <th>2024-05-22</th>\n",
       "      <td>94.912216</td>\n",
       "      <td>95.981790</td>\n",
       "      <td>93.211897</td>\n",
       "      <td>95.421016</td>\n",
       "      <td>548648000</td>\n",
       "    </tr>\n",
       "    <tr>\n",
       "      <th>2024-05-23</th>\n",
       "      <td>103.757698</td>\n",
       "      <td>106.277691</td>\n",
       "      <td>101.479598</td>\n",
       "      <td>101.987399</td>\n",
       "      <td>835065000</td>\n",
       "    </tr>\n",
       "    <tr>\n",
       "      <th>2024-05-24</th>\n",
       "      <td>106.426628</td>\n",
       "      <td>106.432622</td>\n",
       "      <td>102.959007</td>\n",
       "      <td>104.407428</td>\n",
       "      <td>429494000</td>\n",
       "    </tr>\n",
       "  </tbody>\n",
       "</table>\n",
       "</div>"
      ],
      "text/plain": [
       "Price            Close        High         Low        Open     Volume\n",
       "Ticker            NVDA        NVDA        NVDA        NVDA       NVDA\n",
       "Date                                                                 \n",
       "2024-05-20   94.742287   95.162118   93.402824   93.712698  318764000\n",
       "2024-05-21   95.348045   95.362040   93.142922   93.561754  328946000\n",
       "2024-05-22   94.912216   95.981790   93.211897   95.421016  548648000\n",
       "2024-05-23  103.757698  106.277691  101.479598  101.987399  835065000\n",
       "2024-05-24  106.426628  106.432622  102.959007  104.407428  429494000"
      ]
     },
     "execution_count": 5,
     "metadata": {},
     "output_type": "execute_result"
    }
   ],
   "source": [
    "df.tail()"
   ]
  },
  {
   "cell_type": "code",
   "execution_count": 6,
   "metadata": {
    "colab": {
     "base_uri": "https://localhost:8080/",
     "height": 634
    },
    "executionInfo": {
     "elapsed": 962,
     "status": "ok",
     "timestamp": 1716780421933,
     "user": {
      "displayName": "노규남",
      "userId": "12395859382694188829"
     },
     "user_tz": -540
    },
    "id": "3gAjNkn5FU3S",
    "outputId": "8c28f31a-019e-4df1-e23a-52848662668c"
   },
   "outputs": [
    {
     "data": {
      "image/png": "[encoded data removed]",
      "text/plain": [
       "<Figure size 1400x700 with 1 Axes>"
      ]
     },
     "metadata": {},
     "output_type": "display_data"
    }
   ],
   "source": [
    "plt.figure(figsize=(14, 7))\n",
    "plt.plot(df['Close'], label='Closing Price')\n",
    "plt.title('NVIDIA(NVDA) Stock Price')\n",
    "plt.xlabel('Date')\n",
    "plt.ylabel('Price')\n",
    "plt.legend()\n",
    "plt.show()\n"
   ]
  },
  {
   "cell_type": "code",
   "execution_count": 7,
   "metadata": {},
   "outputs": [],
   "source": [
    "df.rename(columns={\n",
    "    'Open': '시가',\n",
    "    'High': '고가',\n",
    "    'Low': '저가',\n",
    "    'Close': '종가',\n",
    "    'Adj Close': '수정 종가',\n",
    "    'Volume': '거래량'\n",
    "}, inplace=True)\n",
    "\n",
    "df.rename_axis('날짜', inplace=True)"
   ]
  },
  {
   "cell_type": "code",
   "execution_count": 8,
   "metadata": {},
   "outputs": [
    {
     "data": {
      "text/html": [
       "<div>\n",
       "<style scoped>\n",
       "    .dataframe tbody tr th:only-of-type {\n",
       "        vertical-align: middle;\n",
       "    }\n",
       "\n",
       "    .dataframe tbody tr th {\n",
       "        vertical-align: top;\n",
       "    }\n",
       "\n",
       "    .dataframe thead tr th {\n",
       "        text-align: left;\n",
       "    }\n",
       "\n",
       "    .dataframe thead tr:last-of-type th {\n",
       "        text-align: right;\n",
       "    }\n",
       "</style>\n",
       "<table border=\"1\" class=\"dataframe\">\n",
       "  <thead>\n",
       "    <tr>\n",
       "      <th>Price</th>\n",
       "      <th>종가</th>\n",
       "      <th>고가</th>\n",
       "      <th>저가</th>\n",
       "      <th>시가</th>\n",
       "      <th>거래량</th>\n",
       "    </tr>\n",
       "    <tr>\n",
       "      <th>Ticker</th>\n",
       "      <th>NVDA</th>\n",
       "      <th>NVDA</th>\n",
       "      <th>NVDA</th>\n",
       "      <th>NVDA</th>\n",
       "      <th>NVDA</th>\n",
       "    </tr>\n",
       "    <tr>\n",
       "      <th>날짜</th>\n",
       "      <th></th>\n",
       "      <th></th>\n",
       "      <th></th>\n",
       "      <th></th>\n",
       "      <th></th>\n",
       "    </tr>\n",
       "  </thead>\n",
       "  <tbody>\n",
       "    <tr>\n",
       "      <th>2024-05-01</th>\n",
       "      <td>83.007950</td>\n",
       "      <td>85.965772</td>\n",
       "      <td>81.222658</td>\n",
       "      <td>85.043143</td>\n",
       "      <td>559863000</td>\n",
       "    </tr>\n",
       "    <tr>\n",
       "      <th>2024-05-02</th>\n",
       "      <td>85.782852</td>\n",
       "      <td>86.202683</td>\n",
       "      <td>83.166889</td>\n",
       "      <td>84.415393</td>\n",
       "      <td>377898000</td>\n",
       "    </tr>\n",
       "    <tr>\n",
       "      <th>2024-05-03</th>\n",
       "      <td>88.753670</td>\n",
       "      <td>89.245471</td>\n",
       "      <td>87.005365</td>\n",
       "      <td>87.754068</td>\n",
       "      <td>398341000</td>\n",
       "    </tr>\n",
       "    <tr>\n",
       "      <th>2024-05-06</th>\n",
       "      <td>92.103340</td>\n",
       "      <td>92.183310</td>\n",
       "      <td>89.019568</td>\n",
       "      <td>89.354434</td>\n",
       "      <td>376203000</td>\n",
       "    </tr>\n",
       "    <tr>\n",
       "      <th>2024-05-07</th>\n",
       "      <td>90.517967</td>\n",
       "      <td>91.744476</td>\n",
       "      <td>88.975582</td>\n",
       "      <td>91.061749</td>\n",
       "      <td>437342000</td>\n",
       "    </tr>\n",
       "  </tbody>\n",
       "</table>\n",
       "</div>"
      ],
      "text/plain": [
       "Price              종가         고가         저가         시가        거래량\n",
       "Ticker           NVDA       NVDA       NVDA       NVDA       NVDA\n",
       "날짜                                                               \n",
       "2024-05-01  83.007950  85.965772  81.222658  85.043143  559863000\n",
       "2024-05-02  85.782852  86.202683  83.166889  84.415393  377898000\n",
       "2024-05-03  88.753670  89.245471  87.005365  87.754068  398341000\n",
       "2024-05-06  92.103340  92.183310  89.019568  89.354434  376203000\n",
       "2024-05-07  90.517967  91.744476  88.975582  91.061749  437342000"
      ]
     },
     "execution_count": 8,
     "metadata": {},
     "output_type": "execute_result"
    }
   ],
   "source": [
    "df.head()"
   ]
  },
  {
   "cell_type": "code",
   "execution_count": 9,
   "metadata": {
    "colab": {
     "base_uri": "https://localhost:8080/",
     "height": 148
    },
    "executionInfo": {
     "elapsed": 3,
     "status": "ok",
     "timestamp": 1716780480500,
     "user": {
      "displayName": "노규남",
      "userId": "12395859382694188829"
     },
     "user_tz": -540
    },
    "id": "qObWNXIRFmgp",
    "outputId": "eaa48853-5509-4c32-a473-741f6a4dda26"
   },
   "outputs": [
    {
     "name": "stdout",
     "output_type": "stream",
     "text": [
      "Price,종가,고가,저가,시가,거래량\n",
      "Ticker,NVDA,NVDA,NVDA,NVDA,NVDA\n",
      "날짜,,,,,\n",
      "2024-05-01,83.00794982910156,85.96577177323404,81.22265755025684,85.04314260728708,559863000\n",
      "2024-05-02,85.78285217285156,86.20268321187375,83.16688916320159,84.41539269757547,377898000\n",
      "2024-05-03,88.75366973876953,89.24547072408387,87.00536516764065,87.75406766785412,398341000\n",
      "2024-05-06,92.10334014892578,92.1833101500868,89.0195684762701,89.35443427647793,376203000\n",
      "2024-05-07,90.5179672241211,91.7444763476329,88.97558195332661,91.06174947211589,437342000\n",
      "2024-05-08,90.37601470947266,91.15770112152674,89.38440517522886,89.44738363715732,325721000\n",
      "2024-05-09,88.71168518066406,91.03575690690285,88.19589167973308,90.49297372342349,378013000\n",
      "2024-05-10,89.84223175048828,91.36462830200051,89.19148983724465,90.26906377983879,335325000\n",
      "2024-05-13,90.363037109375,90.9617978228875,88.49377833765243,90.44200043253207,289680000\n",
      "2024-05-14,91.31965637207031,91.61453717454157,88.89861527885883,89.56335162049751,296507000\n",
      "2024-05-15,94.59234619140625,94.82425614143621,91.56255392471043,92.43520767663021,417735000\n",
      "2024-05-16,94.32144927978516,95.78086733108053,94.06554682786754,94.87223250076393,323952000\n",
      "2024-05-17,92.44219207763672,94.70229384560606,91.76946339148994,94.33144692377931,359691000\n",
      "2024-05-20,94.7422866821289,95.16211773763297,93.40282351656103,93.71269772995323,318764000\n",
      "2024-05-21,95.3480453491211,95.36203971719499,93.14292188496431,93.56175387420163,328946000\n",
      "2024-05-22,94.91221618652344,95.98179012668933,93.21189661689411,95.4210163390551,548648000\n",
      "2024-05-23,103.75769805908203,106.27769095331759,101.47959800397635,101.98739908517513,835065000\n",
      "2024-05-24,106.42662811279297,106.43262243026292,102.95900697271715,104.40742778295584,429494000\n",
      "\n"
     ]
    }
   ],
   "source": [
    "from io import StringIO\n",
    "csv_buffer = StringIO()\n",
    "df.to_csv(csv_buffer)\n",
    "\n",
    "csv_data = csv_buffer.getvalue()\n",
    "print(csv_data)"
   ]
  },
  {
   "cell_type": "code",
   "execution_count": 10,
   "metadata": {
    "colab": {
     "base_uri": "https://localhost:8080/"
    },
    "executionInfo": {
     "elapsed": 9434,
     "status": "ok",
     "timestamp": 1716780567239,
     "user": {
      "displayName": "노규남",
      "userId": "12395859382694188829"
     },
     "user_tz": -540
    },
    "id": "HrKtgYy-GCtH",
    "outputId": "1d83ce76-bf0d-4714-fdff-1d544dda7567"
   },
   "outputs": [
    {
     "name": "stdout",
     "output_type": "stream",
     "text": [
      "Defaulting to user installation because normal site-packages is not writeable\n",
      "Requirement already satisfied: openai in /home/ubuntu/.local/lib/python3.10/site-packages (1.97.0)\n",
      "Requirement already satisfied: httpx<1,>=0.23.0 in /home/ubuntu/.local/lib/python3.10/site-packages (from openai) (0.28.1)\n",
      "Requirement already satisfied: jiter<1,>=0.4.0 in /home/ubuntu/.local/lib/python3.10/site-packages (from openai) (0.10.0)\n",
      "Requirement already satisfied: distro<2,>=1.7.0 in /usr/lib/python3/dist-packages (from openai) (1.7.0)\n",
      "Requirement already satisfied: tqdm>4 in /home/ubuntu/.local/lib/python3.10/site-packages (from openai) (4.67.1)\n",
      "Requirement already satisfied: sniffio in /home/ubuntu/.local/lib/python3.10/site-packages (from openai) (1.3.1)\n",
      "Requirement already satisfied: anyio<5,>=3.5.0 in /home/ubuntu/.local/lib/python3.10/site-packages (from openai) (4.9.0)\n",
      "Requirement already satisfied: typing-extensions<5,>=4.11 in /home/ubuntu/.local/lib/python3.10/site-packages (from openai) (4.14.1)\n",
      "Requirement already satisfied: pydantic<3,>=1.9.0 in /home/ubuntu/.local/lib/python3.10/site-packages (from openai) (2.11.7)\n",
      "Requirement already satisfied: exceptiongroup>=1.0.2 in /home/ubuntu/.local/lib/python3.10/site-packages (from anyio<5,>=3.5.0->openai) (1.3.0)\n",
      "Requirement already satisfied: idna>=2.8 in /usr/lib/python3/dist-packages (from anyio<5,>=3.5.0->openai) (3.3)\n",
      "Requirement already satisfied: httpcore==1.* in /home/ubuntu/.local/lib/python3.10/site-packages (from httpx<1,>=0.23.0->openai) (1.0.9)\n",
      "Requirement already satisfied: certifi in /home/ubuntu/.local/lib/python3.10/site-packages (from httpx<1,>=0.23.0->openai) (2025.7.14)\n",
      "Requirement already satisfied: h11>=0.16 in /home/ubuntu/.local/lib/python3.10/site-packages (from httpcore==1.*->httpx<1,>=0.23.0->openai) (0.16.0)\n",
      "Requirement already satisfied: annotated-types>=0.6.0 in /home/ubuntu/.local/lib/python3.10/site-packages (from pydantic<3,>=1.9.0->openai) (0.7.0)\n",
      "Requirement already satisfied: pydantic-core==2.33.2 in /home/ubuntu/.local/lib/python3.10/site-packages (from pydantic<3,>=1.9.0->openai) (2.33.2)\n",
      "Requirement already satisfied: typing-inspection>=0.4.0 in /home/ubuntu/.local/lib/python3.10/site-packages (from pydantic<3,>=1.9.0->openai) (0.4.1)\n"
     ]
    }
   ],
   "source": [
    "!pip install openai"
   ]
  },
  {
   "cell_type": "code",
   "execution_count": 11,
   "metadata": {
    "colab": {
     "base_uri": "https://localhost:8080/"
    },
    "executionInfo": {
     "elapsed": 5960,
     "status": "ok",
     "timestamp": 1716780659756,
     "user": {
      "displayName": "노규남",
      "userId": "12395859382694188829"
     },
     "user_tz": -540
    },
    "id": "-r9nrHOVF1C4",
    "outputId": "805d353a-768f-4e2d-fc86-e18f25761069"
   },
   "outputs": [
    {
     "name": "stdout",
     "output_type": "stream",
     "text": [
      "엔비디아(NVDA)의 2024년 5월 주가 데이터를 분석한 결과는 다음과 같습니다.\n",
      "\n",
      "### 1. 주가 동향\n",
      "- **시작가**: 2024년 5월 1일의 종가는 약 83.01달러로 시작했습니다.\n",
      "- **최고가**: 5월 23일에 103.76달러로 최고가를 기록했습니다.\n",
      "- **최저가**: 5월 1일에 81.22달러로 최저가를 기록했습니다.\n",
      "- **종가**: 5월 24일의 종가는 106.43달러로, 한 달 동안 주가는 상승세를 보였습니다.\n",
      "\n",
      "### 2. 주가 변화\n",
      "- **변화폭**: 5월 1일부터 5월 24일까지의 종가는 83.01달러에서 106.43달러로, 약 28.2% 상승했습니다.\n",
      "- **일일 변동성**: 주가는 일일로 보면 큰 변동성을 보였으며, 특히 5월 23일에 큰 폭으로 상승했습니다.\n",
      "\n",
      "### 3. 거래량\n",
      "- **거래량**: 5월 23일에는 835,065,000주가 거래되어 가장 높은 거래량을 기록했습니다. 이는 주가 상승과 관련이 있을 수 있습니다.\n",
      "- **거래량 추세**: 전반적으로 거래량은 5월 초반에 비해 중반 이후에 증가하는 경향을 보였습니다.\n",
      "\n",
      "### 4. 주요 일자\n",
      "- **5월 15일**: 94.59달러로 종가가 상승하며, 주가가 90달러를 넘어섰습니다.\n",
      "- **5월 23일**: 주가가 103.76달러로 급등하며, 이 날의 거래량이 가장 많았습니다.\n",
      "\n",
      "### 5. 결론\n",
      "엔비디아의 2024년 5월 주가는 전반적으로 상승세를 보였으며, 특히 중반 이후에 급격한 상승이 있었습니다. 거래량 또한 증가하며 투자자들의 관심이 높아진 것으로 보입니다. 이러한 추세는 향후 주가에 긍정적인 영향을 미칠 가능성이 있습니다. \n",
      "\n",
      "이 데이터는 주식 투자 결정을 내리는 데 참고할 수 있으며, 추가적인 시장 동향이나 기업 실적 발표와 같은 외부 요인도 고려해야 합니다.\n"
     ]
    }
   ],
   "source": [
    "import os\n",
    "import openai\n",
    "\n",
    "openai.api_key = os.getenv(\"OPENAI_API_KEY\")\n",
    "\n",
    "response = openai.chat.completions.create(\n",
    "  model=os.getenv(\"OPENAI_DEFAULT_MODEL\"),\n",
    "  messages=[\n",
    "    {\n",
    "      \"role\": \"system\",\n",
    "      \"content\": \"다음은 엔비디아의 날짜별 주가 데이터야. 이 데이터를 분석해서 보고해줘.\"\n",
    "    },\n",
    "    {\n",
    "      \"role\": \"user\",\n",
    "      \"content\": csv_data\n",
    "    }\n",
    "  ],\n",
    "  temperature=0,\n",
    "  max_tokens=1024,\n",
    "  top_p=1,\n",
    "  frequency_penalty=0,\n",
    "  presence_penalty=0\n",
    ")\n",
    "\n",
    "print(response.choices[0].message.content)"
   ]
  }
 ],
 "metadata": {
  "colab": {
   "authorship_tag": "ABX9TyO3xQRFB6BhLOQvEj1hXA2s",
   "provenance": []
  },
  "kernelspec": {
   "display_name": "Python 3",
   "name": "python3"
  },
  "language_info": {
   "codemirror_mode": {
    "name": "ipython",
    "version": 3
   },
   "file_extension": ".py",
   "mimetype": "text/x-python",
   "name": "python",
   "nbconvert_exporter": "python",
   "pygments_lexer": "ipython3",
   "version": "3.10.12"
  }
 },
 "nbformat": 4,
 "nbformat_minor": 0
}
