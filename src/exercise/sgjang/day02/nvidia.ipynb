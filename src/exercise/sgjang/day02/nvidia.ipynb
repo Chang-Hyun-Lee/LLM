{
 "cells": [
  {
   "cell_type": "code",
   "execution_count": null,
   "id": "2ad9800a",
   "metadata": {},
   "outputs": [],
   "source": [
    "#실습N #1: 엔비디아의 주가 데이터를 가져와서 분석하는 어플리케이션을 작성하시오.\n"
   ]
  },
  {
   "cell_type": "code",
   "execution_count": 10,
   "id": "e272a062",
   "metadata": {},
   "outputs": [
    {
     "name": "stdout",
     "output_type": "stream",
     "text": [
      "Defaulting to user installation because normal site-packages is not writeable\n",
      "Requirement already satisfied: yfinance in /home/sgjang/.local/lib/python3.10/site-packages (0.2.65)\n",
      "Requirement already satisfied: pandas in /home/sgjang/.local/lib/python3.10/site-packages (2.3.1)\n",
      "Requirement already satisfied: frozendict>=2.3.4 in /home/sgjang/.local/lib/python3.10/site-packages (from yfinance) (2.4.6)\n",
      "Requirement already satisfied: protobuf>=3.19.0 in /home/sgjang/.local/lib/python3.10/site-packages (from yfinance) (6.31.1)\n",
      "Requirement already satisfied: websockets>=13.0 in /home/sgjang/.local/lib/python3.10/site-packages (from yfinance) (15.0.1)\n",
      "Requirement already satisfied: numpy>=1.16.5 in /home/sgjang/.local/lib/python3.10/site-packages (from yfinance) (2.2.6)\n",
      "Requirement already satisfied: requests>=2.31 in /home/sgjang/.local/lib/python3.10/site-packages (from yfinance) (2.32.4)\n",
      "Requirement already satisfied: pytz>=2022.5 in /home/sgjang/.local/lib/python3.10/site-packages (from yfinance) (2025.2)\n",
      "Requirement already satisfied: beautifulsoup4>=4.11.1 in /home/sgjang/.local/lib/python3.10/site-packages (from yfinance) (4.13.4)\n",
      "Requirement already satisfied: curl_cffi>=0.7 in /home/sgjang/.local/lib/python3.10/site-packages (from yfinance) (0.12.0)\n",
      "Requirement already satisfied: multitasking>=0.0.7 in /home/sgjang/.local/lib/python3.10/site-packages (from yfinance) (0.0.12)\n",
      "Requirement already satisfied: peewee>=3.16.2 in /home/sgjang/.local/lib/python3.10/site-packages (from yfinance) (3.18.2)\n",
      "Requirement already satisfied: platformdirs>=2.0.0 in /home/sgjang/.local/lib/python3.10/site-packages (from yfinance) (4.3.8)\n",
      "Requirement already satisfied: python-dateutil>=2.8.2 in /home/sgjang/.local/lib/python3.10/site-packages (from pandas) (2.9.0.post0)\n",
      "Requirement already satisfied: tzdata>=2022.7 in /home/sgjang/.local/lib/python3.10/site-packages (from pandas) (2025.2)\n",
      "Requirement already satisfied: typing-extensions>=4.0.0 in /home/sgjang/.local/lib/python3.10/site-packages (from beautifulsoup4>=4.11.1->yfinance) (4.14.1)\n",
      "Requirement already satisfied: soupsieve>1.2 in /home/sgjang/.local/lib/python3.10/site-packages (from beautifulsoup4>=4.11.1->yfinance) (2.7)\n",
      "Requirement already satisfied: certifi>=2024.2.2 in /home/sgjang/.local/lib/python3.10/site-packages (from curl_cffi>=0.7->yfinance) (2025.7.14)\n",
      "Requirement already satisfied: cffi>=1.12.0 in /home/sgjang/.local/lib/python3.10/site-packages (from curl_cffi>=0.7->yfinance) (1.17.1)\n",
      "Requirement already satisfied: six>=1.5 in /usr/lib/python3/dist-packages (from python-dateutil>=2.8.2->pandas) (1.16.0)\n",
      "Requirement already satisfied: idna<4,>=2.5 in /usr/lib/python3/dist-packages (from requests>=2.31->yfinance) (3.3)\n",
      "Requirement already satisfied: charset_normalizer<4,>=2 in /home/sgjang/.local/lib/python3.10/site-packages (from requests>=2.31->yfinance) (3.4.2)\n",
      "Requirement already satisfied: urllib3<3,>=1.21.1 in /usr/lib/python3/dist-packages (from requests>=2.31->yfinance) (1.26.5)\n",
      "Requirement already satisfied: pycparser in /home/sgjang/.local/lib/python3.10/site-packages (from cffi>=1.12.0->curl_cffi>=0.7->yfinance) (2.22)\n"
     ]
    }
   ],
   "source": [
    "!pip install yfinance pandas"
   ]
  },
  {
   "cell_type": "code",
   "execution_count": 11,
   "id": "c7da1bce",
   "metadata": {},
   "outputs": [
    {
     "name": "stdout",
     "output_type": "stream",
     "text": [
      "Name: yfinance\n",
      "Version: 0.2.65\n",
      "Summary: Download market data from Yahoo! Finance API\n",
      "Home-page: https://github.com/ranaroussi/yfinance\n",
      "Author: Ran Aroussi\n",
      "Author-email: ran@aroussi.com\n",
      "License: Apache\n",
      "Location: /home/sgjang/.local/lib/python3.10/site-packages\n",
      "Requires: beautifulsoup4, curl_cffi, frozendict, multitasking, numpy, pandas, peewee, platformdirs, protobuf, pytz, requests, websockets\n",
      "Required-by: \n",
      "Note: you may need to restart the kernel to use updated packages.\n"
     ]
    }
   ],
   "source": [
    "pip show yfinance"
   ]
  },
  {
   "cell_type": "code",
   "execution_count": 15,
   "id": "a5c20d63",
   "metadata": {},
   "outputs": [
    {
     "name": "stdout",
     "output_type": "stream",
     "text": [
      "CSV 파일이 NVDA_weekdata.csv 로 저장되었습니다.\n"
     ]
    }
   ],
   "source": [
    "import yfinance as yf\n",
    "from datetime import datetime, timedelta  # 이 줄 반드시 추가\n",
    "\n",
    "# 엔비디아 티커\n",
    "ticker = \"NVDA\"\n",
    "\n",
    "# 오늘 날짜 기준으로 7일 전부터 오늘까지 (단, 야후 기준 end는 포함하지 않음)\n",
    "end_date = datetime.today()\n",
    "start_date = end_date - timedelta(days=7)\n",
    "\n",
    "# yfinance로 데이터 한 번에 가져오기\n",
    "nvda = yf.Ticker(ticker)\n",
    "data = nvda.history(start=start_date.strftime('%Y-%m-%d'), end=end_date.strftime('%Y-%m-%d'))\n",
    "\n",
    "# 데이터가 비어있으면 경고\n",
    "if data.empty:\n",
    "    print(\"데이터가 없습니다.\")\n",
    "else:\n",
    "    # 한 번에 한 CSV 파일로 저장\n",
    "    csv_filename = f\"{ticker}_weekdata.csv\"\n",
    "    data.to_csv(csv_filename)\n",
    "    print(f\"CSV 파일이 {csv_filename} 로 저장되었습니다.\")"
   ]
  },
  {
   "cell_type": "code",
   "execution_count": 19,
   "id": "7848a322",
   "metadata": {},
   "outputs": [
    {
     "name": "stdout",
     "output_type": "stream",
     "text": [
      "                                 Open       Close     Volume\n",
      "Date                                                        \n",
      "2025-07-15 00:00:00-04:00  171.190002  170.699997  230627400\n",
      "2025-07-16 00:00:00-04:00  171.059998  171.369995  158831500\n",
      "2025-07-17 00:00:00-04:00  172.020004  173.000000  160841100\n",
      "2025-07-18 00:00:00-04:00  173.639999  172.410004  146107600\n",
      "2025-07-21 00:00:00-04:00  172.735001  171.380005  118678641\n"
     ]
    }
   ],
   "source": [
    "print(data[['Open', 'Close', 'Volume']])"
   ]
  },
  {
   "cell_type": "code",
   "execution_count": 20,
   "id": "04df344d",
   "metadata": {},
   "outputs": [
    {
     "name": "stdout",
     "output_type": "stream",
     "text": [
      "주어진 엔비디아(NVDA) 주가 데이터에 대한 간단한 분석 결과는 다음과 같습니다.\n",
      "\n",
      "### 주가 데이터 요약 (2025년 7월 15일 - 7월 21일)\n",
      "\n",
      "1. **주가 변동**:\n",
      "   - **최고가**: 174.25 (7월 18일)\n",
      "   - **최저가**: 168.90 (7월 16일)\n",
      "   - **시가**: 171.19 (7월 15일)\n",
      "   - **종가**: 171.38 (7월 21일)\n",
      "\n",
      "2. **주가 추세**:\n",
      "   - 7월 15일부터 7월 21일까지의 종가는 전반적으로 상승세를 보였습니다. \n",
      "   - 7월 15일의 종가 170.70에서 시작하여 7월 21일에는 171.38로 마감하였습니다.\n",
      "\n",
      "3. **거래량**:\n",
      "   - 거래량은 7월 15일에 230,627,400주로 가장 많았고, 7월 21일에는 118,678,641주로 감소했습니다.\n",
      "   - 거래량의 변화는 주가의 변동성과 관련이 있을 수 있습니다.\n",
      "\n",
      "4. **배당금 및 주식 분할**:\n",
      "   - 이 기간 동안 배당금 지급이나 주식 분할은 없었습니다.\n",
      "\n",
      "### 결론\n",
      "엔비디아의 주가는 이 기간 동안 안정적인 상승세를 보였으며, 거래량은 변동성이 있었습니다. 향후 주가의 추세를 예측하기 위해서는 추가적인 데이터와 시장 동향을 고려해야 할 것입니다.\n"
     ]
    }
   ],
   "source": [
    "import os\n",
    "import openai\n",
    "import pandas as pd\n",
    "\n",
    "openai.api_key = os.getenv(\"OPENAI_API_KEY\")\n",
    "\n",
    "# 1. CSV 파일 읽기\n",
    "csv_path = \"NVDA_weekdata.csv\"\n",
    "data = pd.read_csv(csv_path)\n",
    "\n",
    "# 2. 데이터 일부 또는 전체를 문자열로 변환 (예: 상위 20줄)\n",
    "data_text = data.head(20).to_csv(index=False)\n",
    "\n",
    "# 3. GPT에 보낼 메시지 작성\n",
    "system_message = \"다음은 엔비디아(NVDA) 주가 데이터입니다. 이 데이터를 분석해서 간단히 보고해줘.\"\n",
    "user_message = f\"데이터:\\n{data_text}\"\n",
    "\n",
    "# 4. GPT API 호출\n",
    "response = openai.chat.completions.create(\n",
    "    model=\"gpt-4o-mini\",\n",
    "    messages=[\n",
    "        {\"role\": \"system\", \"content\": system_message},\n",
    "        {\"role\": \"user\", \"content\": user_message},\n",
    "    ],\n",
    "    temperature=0,\n",
    "    max_tokens=500,\n",
    ")\n",
    "\n",
    "# 5. GPT 분석 결과 출력\n",
    "print(response.choices[0].message.content)"
   ]
  },
  {
   "cell_type": "code",
   "execution_count": null,
   "id": "0c75bcb6",
   "metadata": {},
   "outputs": [
    {
     "name": "stdout",
     "output_type": "stream",
     "text": [
      "죄송하지만, 현재 파일을 직접 열거나 분석할 수는 없습니다. 대신, 엔비디아(NVDA)의 주가 데이터를 분석하는 방법에 대해 안내해드릴 수 있습니다. \n",
      "\n",
      "1. **데이터 로드**: CSV 파일을 pandas 라이브러리를 사용하여 로드합니다.\n",
      "   ```python\n",
      "   import pandas as pd\n",
      "\n",
      "   data = pd.read_csv('NVDA_weekdata.csv')\n",
      "   ```\n",
      "\n",
      "2. **데이터 확인**: 데이터의 첫 몇 행을 확인하여 구조를 이해합니다.\n",
      "   ```python\n",
      "   print(data.head())\n",
      "   ```\n",
      "\n",
      "3. **기본 통계 분석**: 주가의 기본 통계량(평균, 중간값, 표준편차 등)을 계산합니다.\n",
      "   ```python\n",
      "   print(data.describe())\n",
      "   ```\n",
      "\n",
      "4. **주가 추세 시각화**: Matplotlib 또는 Seaborn을 사용하여 주가의 변화를 시각화합니다.\n",
      "   ```python\n",
      "   import matplotlib.pyplot as plt\n",
      "\n",
      "   plt.figure(figsize=(12,6))\n",
      "   plt.plot(data['Date'], data['Close'], label='Close Price')\n",
      "   plt.title('NVIDIA Stock Price Over Time')\n",
      "   plt.xlabel('Date')\n",
      "   plt.ylabel('Price')\n",
      "   plt.legend()\n",
      "   plt.show()\n",
      "   ```\n",
      "\n",
      "5. **이동 평균 계산**: 주가의 이동 평균을 계산하여 추세를 더 명확히 합니다.\n",
      "   ```python\n",
      "   data['MA20'] = data['Close'].rolling(window=20).mean()\n",
      "   plt.plot(data['Date'], data['MA20'], label='20-Day Moving Average')\n",
      "   ```\n",
      "\n",
      "6. **변동성 분석**: 주가의 변동성을 분석하기 위해 일일 수익률을 계산합니다.\n",
      "   ```python\n",
      "   data['Returns'] = data['Close'].pct_change()\n",
      "   print(data['Returns'].describe())\n",
      "   ```\n",
      "\n",
      "7. **상관관계 분석**: 다른 주식이나 지표와의 상관관계를 분석합니다.\n",
      "\n",
      "이러한 단계를 통해 엔비디아의 주가 데이터를 분석할 수 있습니다. 특정 질문이나 분석하고 싶은 부분이 있다면 말씀해 주세요!\n"
     ]
    }
   ],
   "source": [
    "# 아래 내용은 실패함.\n",
    "\n",
    "import os\n",
    "import openai\n",
    "\n",
    "openai.api_key = os.getenv(\"OPENAI_API_KEY\")\n",
    "\n",
    "response = openai.chat.completions.create(\n",
    "  model=\"gpt-4o-mini\",\n",
    "  messages=[\n",
    "    {\n",
    "      \"role\": \"system\",\n",
    "      \"content\": \"다음은 엔비디아의 날짜별 주가 데이터야. 이 데이터를 분석해서 보고해줘.\"\n",
    "    },\n",
    "    {\n",
    "      \"role\": \"user\",\n",
    "      \"content\": \"NVDA_weekdata.csv\"\n",
    "    }\n",
    "  ],\n",
    "  temperature=0,\n",
    "  max_tokens=1024,\n",
    "  top_p=1,\n",
    "  frequency_penalty=0,\n",
    "  presence_penalty=0\n",
    ")\n",
    "\n",
    "print(response.choices[0].message.content)"
   ]
  }
 ],
 "metadata": {
  "kernelspec": {
   "display_name": "Python 3",
   "language": "python",
   "name": "python3"
  },
  "language_info": {
   "codemirror_mode": {
    "name": "ipython",
    "version": 3
   },
   "file_extension": ".py",
   "mimetype": "text/x-python",
   "name": "python",
   "nbconvert_exporter": "python",
   "pygments_lexer": "ipython3",
   "version": "3.10.12"
  }
 },
 "nbformat": 4,
 "nbformat_minor": 5
}
