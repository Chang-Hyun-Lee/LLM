{
 "cells": [
  {
   "cell_type": "code",
   "execution_count": null,
   "id": "918addc9",
   "metadata": {},
   "outputs": [],
   "source": [
    "#실습N #2: 사용자가 입력한 지역과 질문에 맞는 지역 음식점을 검색해서 추천하는 어플리케이션을 작성하시오.\n",
    "#예) 판교에 있는 괜찮은 이탈리안 식당을 몇개 추천해줄래?"
   ]
  }
 ],
 "metadata": {
  "language_info": {
   "name": "python"
  }
 },
 "nbformat": 4,
 "nbformat_minor": 5
}
