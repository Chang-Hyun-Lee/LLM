{
 "cells": [
  {
   "cell_type": "code",
   "execution_count": null,
   "id": "09b19067",
   "metadata": {},
   "outputs": [
    {
     "name": "stdout",
     "output_type": "stream",
     "text": [
      "Defaulting to user installation because normal site-packages is not writeable\n",
      "Requirement already satisfied: requests in /usr/lib/python3/dist-packages (2.25.1)\n",
      "Requirement already satisfied: pandas in /home/sgjang/.local/lib/python3.10/site-packages (2.3.1)\n",
      "Requirement already satisfied: python-dateutil>=2.8.2 in /home/sgjang/.local/lib/python3.10/site-packages (from pandas) (2.9.0.post0)\n",
      "Requirement already satisfied: pytz>=2020.1 in /usr/lib/python3/dist-packages (from pandas) (2022.1)\n",
      "Requirement already satisfied: tzdata>=2022.7 in /home/sgjang/.local/lib/python3.10/site-packages (from pandas) (2025.2)\n",
      "Requirement already satisfied: numpy>=1.22.4 in /home/sgjang/.local/lib/python3.10/site-packages (from pandas) (2.2.6)\n",
      "Requirement already satisfied: six>=1.5 in /usr/lib/python3/dist-packages (from python-dateutil>=2.8.2->pandas) (1.16.0)\n",
      "Note: you may need to restart the kernel to use updated packages.\n"
     ]
    }
   ],
   "source": [
    "!pip install requests pandas"
   ]
  },
  {
   "cell_type": "code",
   "execution_count": 16,
   "id": "8d00d037",
   "metadata": {},
   "outputs": [
    {
     "ename": "SyntaxError",
     "evalue": "invalid syntax (276766137.py, line 1)",
     "output_type": "error",
     "traceback": [
      "\u001b[0;36m  Cell \u001b[0;32mIn[16], line 1\u001b[0;36m\u001b[0m\n\u001b[0;31m    http://apis.data.go.kr/B551011/GoCamping/basedList?serviceKey=ServiceKey&numOfRows=10&pageNo=1&MobileOS=ETC&MobileApp=TestApp&_type=json\u001b[0m\n\u001b[0m         ^\u001b[0m\n\u001b[0;31mSyntaxError\u001b[0m\u001b[0;31m:\u001b[0m invalid syntax\n"
     ]
    }
   ],
   "source": [
    "http://apis.data.go.kr/B551011/GoCamping/basedList?serviceKey=ServiceKey&numOfRows=10&pageNo=1&MobileOS=ETC&MobileApp=TestApp&_type=json\n",
    "\n"
   ]
  },
  {
   "cell_type": "code",
   "execution_count": 17,
   "id": "97c1c2b1",
   "metadata": {},
   "outputs": [
    {
     "ename": "SyntaxError",
     "evalue": "invalid syntax (2468142551.py, line 1)",
     "output_type": "error",
     "traceback": [
      "\u001b[0;36m  Cell \u001b[0;32mIn[17], line 1\u001b[0;36m\u001b[0m\n\u001b[0;31m    http://apis.data.go.kr/B551011/GoCamping/locationBasedList?serviceKey=서비스인증키&MobileOS=ETC&MobileApp=AppTest&mapX=128.6142847&mapY=36.0345423&radius=2000\u001b[0m\n\u001b[0m         ^\u001b[0m\n\u001b[0;31mSyntaxError\u001b[0m\u001b[0;31m:\u001b[0m invalid syntax\n"
     ]
    }
   ],
   "source": [
    "http://apis.data.go.kr/B551011/GoCamping/locationBasedList?serviceKey=서비스인증키&MobileOS=ETC&MobileApp=AppTest&mapX=128.6142847&mapY=36.0345423&radius=2000"
   ]
  },
  {
   "cell_type": "code",
   "execution_count": null,
   "id": "b4762d7d",
   "metadata": {},
   "outputs": [],
   "source": [
    "import os\n",
    "import openai\n",
    "\n",
    "openai.api_key = os.getenv(\"OPENAI_API_KEY\")\n",
    "\n",
    "response = openai.chat.completions.create(\n",
    "  model=\"gpt-4o-mini\",\n",
    "  messages=[\n",
    "    {\n",
    "      \"role\": \"system\",\n",
    "      \"content\": \"다음의 주어진 설명에 맞는 한글 제품명을 10개 생성하세요.\"\n",
    "    },\n",
    "    {\n",
    "      \"role\": \"user\",\n",
    "      \"content\": \"\"\"\n",
    "제품: 가정용 슬러시 제조기\n",
    "특징: 빠르다, 싸다, 관리가 편하다\n",
    "\"\"\"\n",
    "    }\n",
    "  ],\n",
    "  temperature=0.8,\n",
    "  max_tokens=256,\n",
    "  top_p=1,\n",
    "  frequency_penalty=0,\n",
    "  presence_penalty=0\n",
    ")\n",
    "\n",
    "print(response.choices[0].message.content)"
   ]
  },
  {
   "cell_type": "code",
   "execution_count": 15,
   "id": "a988cdf6",
   "metadata": {},
   "outputs": [
    {
     "name": "stdout",
     "output_type": "stream",
     "text": [
      "\n",
      "[사용자 입력] 강원도 계곡 근처 캠핑장 추천\n",
      "\n",
      "[DEBUG] 요청 URL: http://apis.data.go.kr/B551011/GoCamping/searchList?MobileOS=ETC&MobileApp=campingApp&numOfRows=10&pageNo=1&format=json&keyword=%EA%B3%84%EA%B3%A1&doNm=%EA%B0%95%EC%9B%90%EB%8F%84&serviceKey=jSEJtgH1oBCQkxYx3vrdl3NTc1X4YVOZRSgk2lh83kzuLXV0ONZJEpjC/da0J/85gbZ2fgG1/u1iMd8v0LkZqQ==\n",
      "[DEBUG] 응답 Content-Type: application/xml\n",
      "❌ JSON 응답이 아닙니다.\n",
      "<?xml version=\"1.0\" encoding=\"UTF-8\" standalone=\"yes\"?><response><header>\n",
      "  <responseTime>2025-07-21T15:48:01.084</responseTime>\n",
      "  <resultCode>10</resultCode>\n",
      "  <resultMsg>INVALID_REQUEST_PARAMETER_ERROR(format)</resultMsg>\n",
      "</header></response>\n",
      "😢 조건에 맞는 캠핑장을 찾을 수 없습니다.\n"
     ]
    }
   ],
   "source": [
    "\n",
    "\n",
    "\n",
    "import requests\n",
    "import pandas as pd\n",
    "from urllib.parse import urlencode\n",
    "\n",
    "# ✅ 반드시 \"디코딩된\" 인증키 사용!\n",
    "API_KEY = \"jSEJtgH1oBCQkxYx3vrdl3NTc1X4YVOZRSgk2lh83kzuLXV0ONZJEpjC/da0J/85gbZ2fgG1/u1iMd8v0LkZqQ==\"\n",
    "\n",
    "# ✅ JSON 지원하는 API로 변경!\n",
    "BASE_URL = \"http://apis.data.go.kr/B551011/GoCamping/searchList\"\n",
    "\n",
    "def search_camping_sites(keyword=None, region=None):\n",
    "    params = {\n",
    "        'MobileOS': 'ETC',\n",
    "        'MobileApp': 'campingApp',\n",
    "        'numOfRows': 10,\n",
    "        'pageNo': 1,\n",
    "        'format': 'json'\n",
    "    }\n",
    "\n",
    "    if keyword:\n",
    "        params['keyword'] = keyword\n",
    "    if region:\n",
    "        params['doNm'] = region\n",
    "\n",
    "    query_string = urlencode(params, safe='=&')\n",
    "    # ✅ 인증키는 맨 끝에 직접 붙이기\n",
    "    url = f\"{BASE_URL}?{query_string}&serviceKey={API_KEY}\"\n",
    "    print(f\"[DEBUG] 요청 URL: {url}\")\n",
    "\n",
    "    try:\n",
    "        response = requests.get(url, timeout=10)\n",
    "        response.raise_for_status()\n",
    "\n",
    "        content_type = response.headers.get('Content-Type', '')\n",
    "        print(f\"[DEBUG] 응답 Content-Type: {content_type}\")\n",
    "\n",
    "        if 'json' not in content_type:\n",
    "            print(\"❌ JSON 응답이 아닙니다.\")\n",
    "            print(response.text[:500])\n",
    "            return []\n",
    "\n",
    "        data = response.json()\n",
    "\n",
    "        if 'response' not in data or 'body' not in data['response']:\n",
    "            print(\"⚠️ 응답 구조가 예상과 다릅니다.\")\n",
    "            return []\n",
    "\n",
    "        return data['response']['body']['items']['item']\n",
    "\n",
    "    except Exception as e:\n",
    "        print(f\"❌ 오류 발생: {e}\")\n",
    "        return []\n",
    "\n",
    "def recommend_camping_site(user_input):\n",
    "    print(f\"\\n[사용자 입력] {user_input}\\n\")\n",
    "\n",
    "    keyword = None\n",
    "    region = None\n",
    "\n",
    "    if \"강원\" in user_input:\n",
    "        region = \"강원도\"\n",
    "    if \"계곡\" in user_input:\n",
    "        keyword = \"계곡\"\n",
    "    elif \"해변\" in user_input or \"바다\" in user_input:\n",
    "        keyword = \"해변\"\n",
    "    elif \"숲\" in user_input:\n",
    "        keyword = \"숲\"\n",
    "    elif not keyword:\n",
    "        keyword = user_input\n",
    "\n",
    "    sites = search_camping_sites(keyword=keyword, region=region)\n",
    "\n",
    "    if not sites:\n",
    "        print(\"😢 조건에 맞는 캠핑장을 찾을 수 없습니다.\")\n",
    "        return\n",
    "\n",
    "    df = pd.DataFrame(sites)\n",
    "    print(\"\\n🎯 추천 캠핑장 상위 5개:\")\n",
    "    print(df[['facltNm', 'lineIntro', 'addr1', 'tel', 'homepage']].head())\n",
    "\n",
    "if __name__ == \"__main__\":\n",
    "    user_question = \"강원도 계곡 근처 캠핑장 추천\"\n",
    "    recommend_camping_site(user_question)"
   ]
  }
 ],
 "metadata": {
  "kernelspec": {
   "display_name": "Python 3",
   "language": "python",
   "name": "python3"
  },
  "language_info": {
   "codemirror_mode": {
    "name": "ipython",
    "version": 3
   },
   "file_extension": ".py",
   "mimetype": "text/x-python",
   "name": "python",
   "nbconvert_exporter": "python",
   "pygments_lexer": "ipython3",
   "version": "3.10.12"
  }
 },
 "nbformat": 4,
 "nbformat_minor": 5
}
