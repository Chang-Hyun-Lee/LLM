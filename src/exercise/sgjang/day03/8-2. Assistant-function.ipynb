{
 "cells": [
  {
   "cell_type": "code",
   "execution_count": 1,
   "metadata": {},
   "outputs": [],
   "source": [
    "import os\n",
    "import json\n",
    "from openai import OpenAI\n",
    "client = OpenAI()\n",
    "\n",
    "client.api_key = os.getenv(\"OPENAI_API_KEY\")"
   ]
  },
  {
   "cell_type": "code",
   "execution_count": 2,
   "metadata": {},
   "outputs": [],
   "source": [
    "def get_current_weather(location, unit=\"섭씨\"):\n",
    "    weather_info = {\n",
    "        \"location\": location,\n",
    "        \"temperature\": \"24\",\n",
    "        \"unit\": unit,\n",
    "        \"forecast\": [\"sunny\", \"windy\"],\n",
    "    }\n",
    "    return json.dumps(weather_info, ensure_ascii=False)\n"
   ]
  },
  {
   "cell_type": "code",
   "execution_count": 3,
   "metadata": {},
   "outputs": [
    {
     "data": {
      "text/plain": [
       "Assistant(id='asst_YTvU9mnm8xTvzdZUfoOyU4uX', created_at=1753247875, description=None, instructions='당신은 날씨 챗봇입니다. 사용자의 질문에 대답하기 위해 주어진 function들을 사용하세요.', metadata={}, model='gpt-4o-mini', name='날씨봇', object='assistant', tools=[FunctionTool(function=FunctionDefinition(name='get_current_weather', description='특정 지역의 날씨를 알려줍니다.', parameters={'type': 'object', 'properties': {'location': {'type': 'string', 'description': '지역이름. 예) 서울, 부산, 제주도'}, 'unit': {'type': 'string', 'enum': ['섭씨', '화씨']}}, 'required': ['location']}, strict=False), type='function')], response_format='auto', temperature=1.0, tool_resources=ToolResources(code_interpreter=None, file_search=None), top_p=1.0, reasoning_effort=None)"
      ]
     },
     "execution_count": 3,
     "metadata": {},
     "output_type": "execute_result"
    }
   ],
   "source": [
    "assistant = client.beta.assistants.create(\n",
    "    name=\"날씨봇\",\n",
    "    instructions=\"당신은 날씨 챗봇입니다. 사용자의 질문에 대답하기 위해 주어진 function들을 사용하세요.\",\n",
    "    tools = [\n",
    "        {\n",
    "            \"type\": \"function\",\n",
    "            \"function\":\n",
    "            {\n",
    "                \"name\": \"get_current_weather\",\n",
    "                \"description\": \"특정 지역의 날씨를 알려줍니다.\",\n",
    "                \"parameters\": {\n",
    "                    \"type\": \"object\",\n",
    "                    \"properties\": {\n",
    "                        \"location\": {\n",
    "                            \"type\": \"string\",\n",
    "                            \"description\": \"지역이름. 예) 서울, 부산, 제주도\",\n",
    "                        },\n",
    "                        \"unit\": {\"type\": \"string\", \"enum\": [\"섭씨\", \"화씨\"]},\n",
    "                    },\n",
    "                    \"required\": [\"location\"],\n",
    "                },\n",
    "            }\n",
    "        }\n",
    "    ],\n",
    "    model=\"gpt-4o-mini\"\n",
    ")\n",
    "assistant"
   ]
  },
  {
   "cell_type": "code",
   "execution_count": 4,
   "metadata": {},
   "outputs": [
    {
     "name": "stderr",
     "output_type": "stream",
     "text": [
      "/tmp/ipykernel_63685/1159370957.py:1: DeprecationWarning: The Assistants API is deprecated in favor of the Responses API\n",
      "  thread = client.beta.threads.create()\n"
     ]
    },
    {
     "data": {
      "text/plain": [
       "Thread(id='thread_eScDOeC7cOI3Vmy3CudKTsZ4', created_at=1753247880, metadata={}, object='thread', tool_resources=ToolResources(code_interpreter=None, file_search=None))"
      ]
     },
     "execution_count": 4,
     "metadata": {},
     "output_type": "execute_result"
    }
   ],
   "source": [
    "thread = client.beta.threads.create()\n",
    "thread"
   ]
  },
  {
   "cell_type": "code",
   "execution_count": 5,
   "metadata": {},
   "outputs": [
    {
     "name": "stderr",
     "output_type": "stream",
     "text": [
      "/tmp/ipykernel_63685/2592962367.py:1: DeprecationWarning: The Assistants API is deprecated in favor of the Responses API\n",
      "  message = client.beta.threads.messages.create(\n"
     ]
    }
   ],
   "source": [
    "message = client.beta.threads.messages.create(\n",
    "    thread_id=thread.id,\n",
    "    role=\"user\",\n",
    "    content=\"서울의 날씨는 어때?\"\n",
    ")"
   ]
  },
  {
   "cell_type": "code",
   "execution_count": 6,
   "metadata": {},
   "outputs": [
    {
     "name": "stderr",
     "output_type": "stream",
     "text": [
      "/tmp/ipykernel_63685/2546265667.py:1: DeprecationWarning: The Assistants API is deprecated in favor of the Responses API\n",
      "  thread_messages = client.beta.threads.messages.list(thread.id)\n"
     ]
    },
    {
     "name": "stdout",
     "output_type": "stream",
     "text": [
      "[Message(id='msg_J9bTrFXNCH2TF9xeqtBM1o21', assistant_id=None, attachments=[], completed_at=None, content=[TextContentBlock(text=Text(annotations=[], value='서울의 날씨는 어때?'), type='text')], created_at=1753247884, incomplete_at=None, incomplete_details=None, metadata={}, object='thread.message', role='user', run_id=None, status=None, thread_id='thread_eScDOeC7cOI3Vmy3CudKTsZ4')]\n"
     ]
    }
   ],
   "source": [
    "thread_messages = client.beta.threads.messages.list(thread.id)\n",
    "print(thread_messages.data)"
   ]
  },
  {
   "cell_type": "code",
   "execution_count": 7,
   "metadata": {},
   "outputs": [
    {
     "name": "stderr",
     "output_type": "stream",
     "text": [
      "/tmp/ipykernel_63685/3463038992.py:1: DeprecationWarning: The Assistants API is deprecated in favor of the Responses API\n",
      "  run = client.beta.threads.runs.create(\n"
     ]
    }
   ],
   "source": [
    "run = client.beta.threads.runs.create(\n",
    "  thread_id=thread.id,\n",
    "  assistant_id=assistant.id\n",
    ")"
   ]
  },
  {
   "cell_type": "code",
   "execution_count": 8,
   "metadata": {},
   "outputs": [],
   "source": [
    "run_id = run.id"
   ]
  },
  {
   "cell_type": "code",
   "execution_count": 9,
   "metadata": {},
   "outputs": [
    {
     "name": "stderr",
     "output_type": "stream",
     "text": [
      "/tmp/ipykernel_63685/3388113875.py:4: DeprecationWarning: The Assistants API is deprecated in favor of the Responses API\n",
      "  run = client.beta.threads.runs.retrieve(\n"
     ]
    }
   ],
   "source": [
    "import time\n",
    "\n",
    "while True:\n",
    "    run = client.beta.threads.runs.retrieve(\n",
    "        thread_id=thread.id,\n",
    "        run_id=run_id\n",
    "    )\n",
    "    if run.required_action is not None:\n",
    "        break"
   ]
  },
  {
   "cell_type": "code",
   "execution_count": 10,
   "metadata": {},
   "outputs": [
    {
     "name": "stdout",
     "output_type": "stream",
     "text": [
      "RequiredActionFunctionToolCall(id='call_17gXiEcotkEOuBvg0WjIJSVo', function=Function(arguments='{\"location\":\"서울\",\"unit\":\"섭씨\"}', name='get_current_weather'), type='function')\n"
     ]
    }
   ],
   "source": [
    "print(run.required_action.submit_tool_outputs.tool_calls[0])"
   ]
  },
  {
   "cell_type": "code",
   "execution_count": 11,
   "metadata": {},
   "outputs": [
    {
     "name": "stdout",
     "output_type": "stream",
     "text": [
      "{\"location\": \"서울\", \"temperature\": \"24\", \"unit\": \"섭씨\", \"forecast\": [\"sunny\", \"windy\"]}\n"
     ]
    }
   ],
   "source": [
    "import json\n",
    "\n",
    "available_functions = {\n",
    "    \"get_current_weather\": get_current_weather,\n",
    "}\n",
    "\n",
    "for tool_call in run.required_action.submit_tool_outputs.tool_calls:\n",
    "    tool_call_id = tool_call.id\n",
    "    function_name = tool_call.function.name\n",
    "    function_to_call = available_functions[function_name]\n",
    "    function_args = json.loads(tool_call.function.arguments)\n",
    "    function_response = function_to_call(\n",
    "        location=function_args['location']\n",
    "    )\n",
    "\n",
    "print(function_response)"
   ]
  },
  {
   "cell_type": "code",
   "execution_count": 12,
   "metadata": {},
   "outputs": [
    {
     "name": "stderr",
     "output_type": "stream",
     "text": [
      "/tmp/ipykernel_63685/3241975149.py:1: DeprecationWarning: The Assistants API is deprecated in favor of the Responses API\n",
      "  run = client.beta.threads.runs.submit_tool_outputs(\n"
     ]
    }
   ],
   "source": [
    "run = client.beta.threads.runs.submit_tool_outputs(\n",
    "  thread_id=thread.id,\n",
    "  run_id=run.id,\n",
    "  tool_outputs=[\n",
    "      {\n",
    "        \"tool_call_id\": tool_call_id,\n",
    "        \"output\": json.dumps(function_response, ensure_ascii=False)\n",
    "      }\n",
    "    ]\n",
    ")\n",
    "run_id = run.id"
   ]
  },
  {
   "cell_type": "code",
   "execution_count": 13,
   "metadata": {},
   "outputs": [
    {
     "name": "stderr",
     "output_type": "stream",
     "text": [
      "/tmp/ipykernel_63685/1699223118.py:4: DeprecationWarning: The Assistants API is deprecated in favor of the Responses API\n",
      "  run = client.beta.threads.runs.retrieve(\n"
     ]
    }
   ],
   "source": [
    "import time\n",
    "\n",
    "while run.status != \"completed\"  :\n",
    "    run = client.beta.threads.runs.retrieve(\n",
    "        thread_id=thread.id,\n",
    "        run_id=run.id\n",
    "    )\n",
    "    time.sleep(0.1)"
   ]
  },
  {
   "cell_type": "code",
   "execution_count": 14,
   "metadata": {},
   "outputs": [
    {
     "name": "stderr",
     "output_type": "stream",
     "text": [
      "/tmp/ipykernel_63685/1031825989.py:1: DeprecationWarning: The Assistants API is deprecated in favor of the Responses API\n",
      "  messages = client.beta.threads.messages.list(\n"
     ]
    }
   ],
   "source": [
    "messages = client.beta.threads.messages.list(\n",
    "  thread_id=thread.id\n",
    ")"
   ]
  },
  {
   "cell_type": "code",
   "execution_count": 15,
   "metadata": {},
   "outputs": [
    {
     "name": "stderr",
     "output_type": "stream",
     "text": [
      "/tmp/ipykernel_63685/4045452831.py:1: DeprecationWarning: The Assistants API is deprecated in favor of the Responses API\n",
      "  thread_messages = client.beta.threads.messages.list(thread.id)\n"
     ]
    },
    {
     "name": "stdout",
     "output_type": "stream",
     "text": [
      "서울의 현재 날씨는 맑고 바람이 불고 있으며, 기온은 24도입니다.\n"
     ]
    }
   ],
   "source": [
    "thread_messages = client.beta.threads.messages.list(thread.id)\n",
    "print(thread_messages.data[0].content[0].text.value)"
   ]
  }
 ],
 "metadata": {
  "kernelspec": {
   "display_name": "Python 3",
   "language": "python",
   "name": "python3"
  },
  "language_info": {
   "codemirror_mode": {
    "name": "ipython",
    "version": 3
   },
   "file_extension": ".py",
   "mimetype": "text/x-python",
   "name": "python",
   "nbconvert_exporter": "python",
   "pygments_lexer": "ipython3",
   "version": "3.10.12"
  }
 },
 "nbformat": 4,
 "nbformat_minor": 2
}
