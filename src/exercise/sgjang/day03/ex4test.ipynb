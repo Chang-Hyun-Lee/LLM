{
 "cells": [
  {
   "cell_type": "code",
   "execution_count": 1,
   "metadata": {},
   "outputs": [],
   "source": [
    "#!pip install pydantic==2.7.1\n",
    "#!pip install pydantic_core==2.18.2"
   ]
  },
  {
   "cell_type": "code",
   "execution_count": 1,
   "metadata": {},
   "outputs": [
    {
     "name": "stdout",
     "output_type": "stream",
     "text": [
      "Defaulting to user installation because normal site-packages is not writeable\n",
      "Requirement already satisfied: llama-index in /home/sgjang/.local/lib/python3.10/site-packages (0.12.51)\n",
      "Requirement already satisfied: llama-index-embeddings-openai<0.4,>=0.3.0 in /home/sgjang/.local/lib/python3.10/site-packages (from llama-index) (0.3.1)\n",
      "Requirement already satisfied: llama-index-llms-openai<0.5,>=0.4.0 in /home/sgjang/.local/lib/python3.10/site-packages (from llama-index) (0.4.7)\n",
      "Requirement already satisfied: llama-index-core<0.13,>=0.12.51 in /home/sgjang/.local/lib/python3.10/site-packages (from llama-index) (0.12.52)\n",
      "Requirement already satisfied: llama-index-agent-openai<0.5,>=0.4.0 in /home/sgjang/.local/lib/python3.10/site-packages (from llama-index) (0.4.12)\n",
      "Requirement already satisfied: llama-index-indices-managed-llama-cloud>=0.4.0 in /home/sgjang/.local/lib/python3.10/site-packages (from llama-index) (0.7.10)\n",
      "Requirement already satisfied: llama-index-multi-modal-llms-openai<0.6,>=0.5.0 in /home/sgjang/.local/lib/python3.10/site-packages (from llama-index) (0.5.3)\n",
      "Requirement already satisfied: nltk>3.8.1 in /home/sgjang/.local/lib/python3.10/site-packages (from llama-index) (3.9.1)\n",
      "Requirement already satisfied: llama-index-readers-file<0.5,>=0.4.0 in /home/sgjang/.local/lib/python3.10/site-packages (from llama-index) (0.4.11)\n",
      "Requirement already satisfied: llama-index-readers-llama-parse>=0.4.0 in /home/sgjang/.local/lib/python3.10/site-packages (from llama-index) (0.4.0)\n",
      "Requirement already satisfied: llama-index-program-openai<0.4,>=0.3.0 in /home/sgjang/.local/lib/python3.10/site-packages (from llama-index) (0.3.2)\n",
      "Requirement already satisfied: llama-index-cli<0.5,>=0.4.2 in /home/sgjang/.local/lib/python3.10/site-packages (from llama-index) (0.4.4)\n",
      "Requirement already satisfied: llama-index-question-gen-openai<0.4,>=0.3.0 in /home/sgjang/.local/lib/python3.10/site-packages (from llama-index) (0.3.1)\n",
      "Requirement already satisfied: openai>=1.14.0 in /home/sgjang/.local/lib/python3.10/site-packages (from llama-index-agent-openai<0.5,>=0.4.0->llama-index) (1.97.1)\n",
      "Requirement already satisfied: pydantic>=2.8.0 in /usr/local/lib/python3.10/dist-packages (from llama-index-core<0.13,>=0.12.51->llama-index) (2.11.7)\n",
      "Requirement already satisfied: numpy in /home/sgjang/.local/lib/python3.10/site-packages (from llama-index-core<0.13,>=0.12.51->llama-index) (2.2.6)\n",
      "Requirement already satisfied: wrapt in /home/sgjang/.local/lib/python3.10/site-packages (from llama-index-core<0.13,>=0.12.51->llama-index) (1.17.2)\n",
      "Requirement already satisfied: fsspec>=2023.5.0 in /home/sgjang/.local/lib/python3.10/site-packages (from llama-index-core<0.13,>=0.12.51->llama-index) (2025.7.0)\n",
      "Requirement already satisfied: banks<3,>=2.2.0 in /home/sgjang/.local/lib/python3.10/site-packages (from llama-index-core<0.13,>=0.12.51->llama-index) (2.2.0)\n",
      "Requirement already satisfied: dataclasses-json in /home/sgjang/.local/lib/python3.10/site-packages (from llama-index-core<0.13,>=0.12.51->llama-index) (0.6.7)\n",
      "Requirement already satisfied: pillow>=9.0.0 in /home/sgjang/.local/lib/python3.10/site-packages (from llama-index-core<0.13,>=0.12.51->llama-index) (11.3.0)\n",
      "Requirement already satisfied: dirtyjson<2,>=1.0.8 in /home/sgjang/.local/lib/python3.10/site-packages (from llama-index-core<0.13,>=0.12.51->llama-index) (1.0.8)\n",
      "Requirement already satisfied: llama-index-workflows<2,>=1.0.1 in /home/sgjang/.local/lib/python3.10/site-packages (from llama-index-core<0.13,>=0.12.51->llama-index) (1.1.0)\n",
      "Requirement already satisfied: networkx>=3.0 in /home/sgjang/.local/lib/python3.10/site-packages (from llama-index-core<0.13,>=0.12.51->llama-index) (3.4.2)\n",
      "Requirement already satisfied: platformdirs in /home/sgjang/.local/lib/python3.10/site-packages (from llama-index-core<0.13,>=0.12.51->llama-index) (4.3.8)\n",
      "Requirement already satisfied: requests>=2.31.0 in /home/sgjang/.local/lib/python3.10/site-packages (from llama-index-core<0.13,>=0.12.51->llama-index) (2.32.4)\n",
      "Requirement already satisfied: tqdm<5,>=4.66.1 in /usr/local/lib/python3.10/dist-packages (from llama-index-core<0.13,>=0.12.51->llama-index) (4.67.1)\n",
      "Requirement already satisfied: aiosqlite in /home/sgjang/.local/lib/python3.10/site-packages (from llama-index-core<0.13,>=0.12.51->llama-index) (0.21.0)\n",
      "Requirement already satisfied: tiktoken>=0.7.0 in /home/sgjang/.local/lib/python3.10/site-packages (from llama-index-core<0.13,>=0.12.51->llama-index) (0.9.0)\n",
      "Requirement already satisfied: deprecated>=1.2.9.3 in /home/sgjang/.local/lib/python3.10/site-packages (from llama-index-core<0.13,>=0.12.51->llama-index) (1.2.18)\n",
      "Requirement already satisfied: typing-inspect>=0.8.0 in /home/sgjang/.local/lib/python3.10/site-packages (from llama-index-core<0.13,>=0.12.51->llama-index) (0.9.0)\n",
      "Requirement already satisfied: sqlalchemy[asyncio]>=1.4.49 in /home/sgjang/.local/lib/python3.10/site-packages (from llama-index-core<0.13,>=0.12.51->llama-index) (2.0.41)\n",
      "Requirement already satisfied: filetype<2,>=1.2.0 in /home/sgjang/.local/lib/python3.10/site-packages (from llama-index-core<0.13,>=0.12.51->llama-index) (1.2.0)\n",
      "Requirement already satisfied: nest-asyncio<2,>=1.5.8 in /home/sgjang/.local/lib/python3.10/site-packages (from llama-index-core<0.13,>=0.12.51->llama-index) (1.6.0)\n",
      "Requirement already satisfied: setuptools>=80.9.0 in /home/sgjang/.local/lib/python3.10/site-packages (from llama-index-core<0.13,>=0.12.51->llama-index) (80.9.0)\n",
      "Requirement already satisfied: httpx in /usr/local/lib/python3.10/dist-packages (from llama-index-core<0.13,>=0.12.51->llama-index) (0.28.1)\n",
      "Requirement already satisfied: aiohttp<4,>=3.8.6 in /home/sgjang/.local/lib/python3.10/site-packages (from llama-index-core<0.13,>=0.12.51->llama-index) (3.12.14)\n",
      "Requirement already satisfied: pyyaml>=6.0.1 in /home/sgjang/.local/lib/python3.10/site-packages (from llama-index-core<0.13,>=0.12.51->llama-index) (6.0.2)\n",
      "Requirement already satisfied: typing-extensions>=4.5.0 in /usr/local/lib/python3.10/dist-packages (from llama-index-core<0.13,>=0.12.51->llama-index) (4.14.1)\n",
      "Requirement already satisfied: tenacity!=8.4.0,<10.0.0,>=8.2.0 in /home/sgjang/.local/lib/python3.10/site-packages (from llama-index-core<0.13,>=0.12.51->llama-index) (9.1.2)\n",
      "Requirement already satisfied: llama-cloud==0.1.32 in /home/sgjang/.local/lib/python3.10/site-packages (from llama-index-indices-managed-llama-cloud>=0.4.0->llama-index) (0.1.32)\n",
      "Requirement already satisfied: certifi>=2024.7.4 in /home/sgjang/.local/lib/python3.10/site-packages (from llama-cloud==0.1.32->llama-index-indices-managed-llama-cloud>=0.4.0->llama-index) (2025.7.14)\n",
      "Requirement already satisfied: defusedxml>=0.7.1 in /home/sgjang/.local/lib/python3.10/site-packages (from llama-index-readers-file<0.5,>=0.4.0->llama-index) (0.7.1)\n",
      "Requirement already satisfied: pypdf<6,>=5.1.0 in /home/sgjang/.local/lib/python3.10/site-packages (from llama-index-readers-file<0.5,>=0.4.0->llama-index) (5.8.0)\n",
      "Requirement already satisfied: pandas<2.3.0 in /home/sgjang/.local/lib/python3.10/site-packages (from llama-index-readers-file<0.5,>=0.4.0->llama-index) (2.2.3)\n",
      "Requirement already satisfied: striprtf<0.0.27,>=0.0.26 in /home/sgjang/.local/lib/python3.10/site-packages (from llama-index-readers-file<0.5,>=0.4.0->llama-index) (0.0.26)\n",
      "Requirement already satisfied: beautifulsoup4<5,>=4.12.3 in /home/sgjang/.local/lib/python3.10/site-packages (from llama-index-readers-file<0.5,>=0.4.0->llama-index) (4.13.4)\n",
      "Requirement already satisfied: llama-parse>=0.5.0 in /home/sgjang/.local/lib/python3.10/site-packages (from llama-index-readers-llama-parse>=0.4.0->llama-index) (0.6.43)\n",
      "Requirement already satisfied: click in /home/sgjang/.local/lib/python3.10/site-packages (from nltk>3.8.1->llama-index) (8.2.1)\n",
      "Requirement already satisfied: joblib in /home/sgjang/.local/lib/python3.10/site-packages (from nltk>3.8.1->llama-index) (1.5.1)\n",
      "Requirement already satisfied: regex>=2021.8.3 in /home/sgjang/.local/lib/python3.10/site-packages (from nltk>3.8.1->llama-index) (2024.11.6)\n",
      "Requirement already satisfied: async-timeout<6.0,>=4.0 in /home/sgjang/.local/lib/python3.10/site-packages (from aiohttp<4,>=3.8.6->llama-index-core<0.13,>=0.12.51->llama-index) (4.0.3)\n",
      "Requirement already satisfied: attrs>=17.3.0 in /home/sgjang/.local/lib/python3.10/site-packages (from aiohttp<4,>=3.8.6->llama-index-core<0.13,>=0.12.51->llama-index) (25.3.0)\n",
      "Requirement already satisfied: aiohappyeyeballs>=2.5.0 in /home/sgjang/.local/lib/python3.10/site-packages (from aiohttp<4,>=3.8.6->llama-index-core<0.13,>=0.12.51->llama-index) (2.6.1)\n",
      "Requirement already satisfied: frozenlist>=1.1.1 in /home/sgjang/.local/lib/python3.10/site-packages (from aiohttp<4,>=3.8.6->llama-index-core<0.13,>=0.12.51->llama-index) (1.7.0)\n",
      "Requirement already satisfied: yarl<2.0,>=1.17.0 in /home/sgjang/.local/lib/python3.10/site-packages (from aiohttp<4,>=3.8.6->llama-index-core<0.13,>=0.12.51->llama-index) (1.20.1)\n",
      "Requirement already satisfied: propcache>=0.2.0 in /home/sgjang/.local/lib/python3.10/site-packages (from aiohttp<4,>=3.8.6->llama-index-core<0.13,>=0.12.51->llama-index) (0.3.2)\n",
      "Requirement already satisfied: multidict<7.0,>=4.5 in /home/sgjang/.local/lib/python3.10/site-packages (from aiohttp<4,>=3.8.6->llama-index-core<0.13,>=0.12.51->llama-index) (6.6.3)\n",
      "Requirement already satisfied: aiosignal>=1.4.0 in /home/sgjang/.local/lib/python3.10/site-packages (from aiohttp<4,>=3.8.6->llama-index-core<0.13,>=0.12.51->llama-index) (1.4.0)\n",
      "Requirement already satisfied: jinja2 in /usr/lib/python3/dist-packages (from banks<3,>=2.2.0->llama-index-core<0.13,>=0.12.51->llama-index) (3.0.3)\n",
      "Requirement already satisfied: griffe in /home/sgjang/.local/lib/python3.10/site-packages (from banks<3,>=2.2.0->llama-index-core<0.13,>=0.12.51->llama-index) (1.8.0)\n",
      "Requirement already satisfied: soupsieve>1.2 in /home/sgjang/.local/lib/python3.10/site-packages (from beautifulsoup4<5,>=4.12.3->llama-index-readers-file<0.5,>=0.4.0->llama-index) (2.7)\n",
      "Requirement already satisfied: httpcore==1.* in /usr/local/lib/python3.10/dist-packages (from httpx->llama-index-core<0.13,>=0.12.51->llama-index) (1.0.9)\n",
      "Requirement already satisfied: idna in /usr/lib/python3/dist-packages (from httpx->llama-index-core<0.13,>=0.12.51->llama-index) (3.3)\n",
      "Requirement already satisfied: anyio in /usr/local/lib/python3.10/dist-packages (from httpx->llama-index-core<0.13,>=0.12.51->llama-index) (4.9.0)\n",
      "Requirement already satisfied: h11>=0.16 in /usr/local/lib/python3.10/dist-packages (from httpcore==1.*->httpx->llama-index-core<0.13,>=0.12.51->llama-index) (0.16.0)\n",
      "Requirement already satisfied: llama-index-instrumentation>=0.1.0 in /home/sgjang/.local/lib/python3.10/site-packages (from llama-index-workflows<2,>=1.0.1->llama-index-core<0.13,>=0.12.51->llama-index) (0.3.0)\n",
      "Requirement already satisfied: llama-cloud-services>=0.6.43 in /home/sgjang/.local/lib/python3.10/site-packages (from llama-parse>=0.5.0->llama-index-readers-llama-parse>=0.4.0->llama-index) (0.6.43)\n",
      "Requirement already satisfied: distro<2,>=1.7.0 in /usr/lib/python3/dist-packages (from openai>=1.14.0->llama-index-agent-openai<0.5,>=0.4.0->llama-index) (1.7.0)\n",
      "Requirement already satisfied: sniffio in /usr/local/lib/python3.10/dist-packages (from openai>=1.14.0->llama-index-agent-openai<0.5,>=0.4.0->llama-index) (1.3.1)\n",
      "Requirement already satisfied: jiter<1,>=0.4.0 in /usr/local/lib/python3.10/dist-packages (from openai>=1.14.0->llama-index-agent-openai<0.5,>=0.4.0->llama-index) (0.10.0)\n",
      "Requirement already satisfied: pytz>=2020.1 in /usr/lib/python3/dist-packages (from pandas<2.3.0->llama-index-readers-file<0.5,>=0.4.0->llama-index) (2022.1)\n",
      "Requirement already satisfied: python-dateutil>=2.8.2 in /home/sgjang/.local/lib/python3.10/site-packages (from pandas<2.3.0->llama-index-readers-file<0.5,>=0.4.0->llama-index) (2.9.0.post0)\n",
      "Requirement already satisfied: tzdata>=2022.7 in /home/sgjang/.local/lib/python3.10/site-packages (from pandas<2.3.0->llama-index-readers-file<0.5,>=0.4.0->llama-index) (2025.2)\n",
      "Requirement already satisfied: typing-inspection>=0.4.0 in /usr/local/lib/python3.10/dist-packages (from pydantic>=2.8.0->llama-index-core<0.13,>=0.12.51->llama-index) (0.4.1)\n",
      "Requirement already satisfied: pydantic-core==2.33.2 in /usr/local/lib/python3.10/dist-packages (from pydantic>=2.8.0->llama-index-core<0.13,>=0.12.51->llama-index) (2.33.2)\n",
      "Requirement already satisfied: annotated-types>=0.6.0 in /usr/local/lib/python3.10/dist-packages (from pydantic>=2.8.0->llama-index-core<0.13,>=0.12.51->llama-index) (0.7.0)\n",
      "Requirement already satisfied: urllib3<3,>=1.21.1 in /home/sgjang/.local/lib/python3.10/site-packages (from requests>=2.31.0->llama-index-core<0.13,>=0.12.51->llama-index) (2.5.0)\n",
      "Requirement already satisfied: charset_normalizer<4,>=2 in /home/sgjang/.local/lib/python3.10/site-packages (from requests>=2.31.0->llama-index-core<0.13,>=0.12.51->llama-index) (3.4.2)\n",
      "Requirement already satisfied: greenlet>=1 in /home/sgjang/.local/lib/python3.10/site-packages (from sqlalchemy[asyncio]>=1.4.49->llama-index-core<0.13,>=0.12.51->llama-index) (3.2.3)\n",
      "Requirement already satisfied: mypy-extensions>=0.3.0 in /home/sgjang/.local/lib/python3.10/site-packages (from typing-inspect>=0.8.0->llama-index-core<0.13,>=0.12.51->llama-index) (1.1.0)\n",
      "Requirement already satisfied: marshmallow<4.0.0,>=3.18.0 in /home/sgjang/.local/lib/python3.10/site-packages (from dataclasses-json->llama-index-core<0.13,>=0.12.51->llama-index) (3.26.1)\n",
      "Requirement already satisfied: exceptiongroup>=1.0.2 in /usr/local/lib/python3.10/dist-packages (from anyio->httpx->llama-index-core<0.13,>=0.12.51->llama-index) (1.3.0)\n",
      "Requirement already satisfied: python-dotenv<2.0.0,>=1.0.1 in /home/sgjang/.local/lib/python3.10/site-packages (from llama-cloud-services>=0.6.43->llama-parse>=0.5.0->llama-index-readers-llama-parse>=0.4.0->llama-index) (1.1.1)\n",
      "Requirement already satisfied: packaging>=17.0 in /home/sgjang/.local/lib/python3.10/site-packages (from marshmallow<4.0.0,>=3.18.0->dataclasses-json->llama-index-core<0.13,>=0.12.51->llama-index) (25.0)\n",
      "Requirement already satisfied: six>=1.5 in /usr/lib/python3/dist-packages (from python-dateutil>=2.8.2->pandas<2.3.0->llama-index-readers-file<0.5,>=0.4.0->llama-index) (1.16.0)\n",
      "Requirement already satisfied: colorama>=0.4 in /usr/lib/python3/dist-packages (from griffe->banks<3,>=2.2.0->llama-index-core<0.13,>=0.12.51->llama-index) (0.4.4)\n"
     ]
    }
   ],
   "source": [
    "!pip install -U llama-index"
   ]
  },
  {
   "cell_type": "code",
   "execution_count": 2,
   "metadata": {},
   "outputs": [
    {
     "name": "stdout",
     "output_type": "stream",
     "text": [
      "Defaulting to user installation because normal site-packages is not writeable\n",
      "Requirement already satisfied: docx2txt in /home/sgjang/.local/lib/python3.10/site-packages (0.9)\n"
     ]
    }
   ],
   "source": [
    "!pip install docx2txt"
   ]
  },
  {
   "cell_type": "code",
   "execution_count": 3,
   "metadata": {},
   "outputs": [],
   "source": [
    "from llama_index.core import VectorStoreIndex, SimpleDirectoryReader\n",
    "\n",
    "documents = SimpleDirectoryReader(\"~/work/koshipa-llm-2025-1st/src/exercise/sgjang/day03/data\").load_data()\n",
    "index = VectorStoreIndex.from_documents(documents)"
   ]
  },
  {
   "cell_type": "code",
   "execution_count": 4,
   "metadata": {},
   "outputs": [
    {
     "name": "stdout",
     "output_type": "stream",
     "text": [
      "개울가에서 처음 만났다.\n"
     ]
    }
   ],
   "source": [
    "query_engine = index.as_query_engine()\n",
    "response = query_engine.query(\"소년과 소녀는 어디에서 처음 만났나? 한국어로 대답해줘.\")\n",
    "print(response)"
   ]
  },
  {
   "cell_type": "code",
   "execution_count": 5,
   "metadata": {},
   "outputs": [
    {
     "name": "stdout",
     "output_type": "stream",
     "text": [
      "근육이 커지려면 꾸준한 운동과 올바른 식이요법이 필요합니다. 근육을 키우기 위해서는 저항 운동을 통해 근육을 자극하고 성장시키는 것이 중요합니다. 또한 단백질 섭취를 증가시키고 충분한 수면을 취하는 것도 근육 성장에 도움이 됩니다. 또한 적절한 휴식과 회복을 위해 규칙적인 휴식일을 가져야 합니다. 이러한 요소들을 조합하여 꾸준히 운동하고 올바른 식이요법을 유지한다면 근육을 효과적으로 키울 수 있을 것입니다.\n"
     ]
    }
   ],
   "source": [
    "from llama_index.llms.openai import OpenAI\n",
    "\n",
    "response = OpenAI().complete(\"근육이 커지려면\")\n",
    "print(response)"
   ]
  },
  {
   "cell_type": "code",
   "execution_count": 6,
   "metadata": {},
   "outputs": [],
   "source": [
    "from llama_index.llms.openai import OpenAI\n",
    "from llama_index.core import Settings\n",
    "from llama_index.core import VectorStoreIndex, SimpleDirectoryReader\n",
    "\n",
    "Settings.llm = OpenAI(temperature=0.2, model=\"gpt-4o-mini\")\n",
    "\n",
    "documents = SimpleDirectoryReader(\"data\").load_data()\n",
    "index = VectorStoreIndex.from_documents(\n",
    "    documents,\n",
    ")"
   ]
  },
  {
   "cell_type": "code",
   "execution_count": 7,
   "metadata": {},
   "outputs": [
    {
     "name": "stdout",
     "output_type": "stream",
     "text": [
      "소녀는 윤 초시의 증손녀입니다.\n"
     ]
    }
   ],
   "source": [
    "query_engine = index.as_query_engine()\n",
    "response = query_engine.query(\"소녀와 윤초시는 어떤 관계인가? 한국어로 대답해줘.\")\n",
    "print(response)"
   ]
  },
  {
   "cell_type": "code",
   "execution_count": 8,
   "metadata": {},
   "outputs": [
    {
     "name": "stdout",
     "output_type": "stream",
     "text": [
      "소년은 소녀에게 덕쇠 할아버지네 호두를 맛보여 주려고 했습니다.\n"
     ]
    }
   ],
   "source": [
    "query_engine = index.as_query_engine()\n",
    "response = query_engine.query(\"소년은 소녀에게 무엇을 주려고 했나? 한국어로 대답해줘.\")\n",
    "print(response)"
   ]
  },
  {
   "cell_type": "code",
   "execution_count": 9,
   "metadata": {},
   "outputs": [],
   "source": [
    "import logging\n",
    "import sys\n",
    "\n",
    "logging.basicConfig(stream=sys.stdout, level=logging.DEBUG) # logging.INFO\n",
    "logging.getLogger().addHandler(logging.StreamHandler(stream=sys.stdout))"
   ]
  },
  {
   "cell_type": "code",
   "execution_count": 10,
   "metadata": {},
   "outputs": [
    {
     "name": "stdout",
     "output_type": "stream",
     "text": [
      "DEBUG:openai._base_client:Request options: {'method': 'post', 'url': '/embeddings', 'files': None, 'idempotency_key': 'stainless-python-retry-e67901f6-cb85-4b78-8bfe-efce0bfb4aea', 'post_parser': <function Embeddings.create.<locals>.parser at 0x7330db9f08b0>, 'json_data': {'input': ['아카키의 월급은 얼마인가?'], 'model': 'text-embedding-ada-002', 'encoding_format': 'base64'}}\n",
      "Request options: {'method': 'post', 'url': '/embeddings', 'files': None, 'idempotency_key': 'stainless-python-retry-e67901f6-cb85-4b78-8bfe-efce0bfb4aea', 'post_parser': <function Embeddings.create.<locals>.parser at 0x7330db9f08b0>, 'json_data': {'input': ['아카키의 월급은 얼마인가?'], 'model': 'text-embedding-ada-002', 'encoding_format': 'base64'}}\n",
      "DEBUG:openai._base_client:Sending HTTP Request: POST https://api.openai.com/v1/embeddings\n",
      "Sending HTTP Request: POST https://api.openai.com/v1/embeddings\n",
      "DEBUG:httpcore.connection:close.started\n",
      "close.started\n",
      "DEBUG:httpcore.connection:close.complete\n",
      "close.complete\n",
      "DEBUG:httpcore.connection:connect_tcp.started host='api.openai.com' port=443 local_address=None timeout=60.0 socket_options=None\n",
      "connect_tcp.started host='api.openai.com' port=443 local_address=None timeout=60.0 socket_options=None\n",
      "DEBUG:httpcore.connection:connect_tcp.complete return_value=<httpcore._backends.sync.SyncStream object at 0x7330dc34faf0>\n",
      "connect_tcp.complete return_value=<httpcore._backends.sync.SyncStream object at 0x7330dc34faf0>\n",
      "DEBUG:httpcore.connection:start_tls.started ssl_context=<ssl.SSLContext object at 0x7330dc439140> server_hostname='api.openai.com' timeout=60.0\n",
      "start_tls.started ssl_context=<ssl.SSLContext object at 0x7330dc439140> server_hostname='api.openai.com' timeout=60.0\n",
      "DEBUG:httpcore.connection:start_tls.complete return_value=<httpcore._backends.sync.SyncStream object at 0x7330ddc16980>\n",
      "start_tls.complete return_value=<httpcore._backends.sync.SyncStream object at 0x7330ddc16980>\n",
      "DEBUG:httpcore.http11:send_request_headers.started request=<Request [b'POST']>\n",
      "send_request_headers.started request=<Request [b'POST']>\n",
      "DEBUG:httpcore.http11:send_request_headers.complete\n",
      "send_request_headers.complete\n",
      "DEBUG:httpcore.http11:send_request_body.started request=<Request [b'POST']>\n",
      "send_request_body.started request=<Request [b'POST']>\n",
      "DEBUG:httpcore.http11:send_request_body.complete\n",
      "send_request_body.complete\n",
      "DEBUG:httpcore.http11:receive_response_headers.started request=<Request [b'POST']>\n",
      "receive_response_headers.started request=<Request [b'POST']>\n",
      "DEBUG:httpcore.http11:receive_response_headers.complete return_value=(b'HTTP/1.1', 200, b'OK', [(b'Date', b'Wed, 23 Jul 2025 07:28:42 GMT'), (b'Content-Type', b'application/json'), (b'Transfer-Encoding', b'chunked'), (b'Connection', b'keep-alive'), (b'access-control-allow-origin', b'*'), (b'access-control-expose-headers', b'X-Request-ID'), (b'openai-model', b'text-embedding-ada-002-v2'), (b'openai-organization', b'weable-inc'), (b'openai-processing-ms', b'43'), (b'openai-project', b'proj_W8BgdzHlUbC22dU3x8XdXgqH'), (b'openai-version', b'2020-10-01'), (b'strict-transport-security', b'max-age=31536000; includeSubDomains; preload'), (b'via', b'envoy-router-74d87787d7-d2njx'), (b'x-envoy-upstream-service-time', b'46'), (b'x-ratelimit-limit-requests', b'10000'), (b'x-ratelimit-limit-tokens', b'5000000'), (b'x-ratelimit-remaining-requests', b'9999'), (b'x-ratelimit-remaining-tokens', b'4999990'), (b'x-ratelimit-reset-requests', b'6ms'), (b'x-ratelimit-reset-tokens', b'0s'), (b'x-request-id', b'req_73aff53152da3a6f84880ea0de154727'), (b'cf-cache-status', b'DYNAMIC'), (b'X-Content-Type-Options', b'nosniff'), (b'Server', b'cloudflare'), (b'CF-RAY', b'96397668c975ea26-ICN'), (b'Content-Encoding', b'br'), (b'alt-svc', b'h3=\":443\"; ma=86400')])\n",
      "receive_response_headers.complete return_value=(b'HTTP/1.1', 200, b'OK', [(b'Date', b'Wed, 23 Jul 2025 07:28:42 GMT'), (b'Content-Type', b'application/json'), (b'Transfer-Encoding', b'chunked'), (b'Connection', b'keep-alive'), (b'access-control-allow-origin', b'*'), (b'access-control-expose-headers', b'X-Request-ID'), (b'openai-model', b'text-embedding-ada-002-v2'), (b'openai-organization', b'weable-inc'), (b'openai-processing-ms', b'43'), (b'openai-project', b'proj_W8BgdzHlUbC22dU3x8XdXgqH'), (b'openai-version', b'2020-10-01'), (b'strict-transport-security', b'max-age=31536000; includeSubDomains; preload'), (b'via', b'envoy-router-74d87787d7-d2njx'), (b'x-envoy-upstream-service-time', b'46'), (b'x-ratelimit-limit-requests', b'10000'), (b'x-ratelimit-limit-tokens', b'5000000'), (b'x-ratelimit-remaining-requests', b'9999'), (b'x-ratelimit-remaining-tokens', b'4999990'), (b'x-ratelimit-reset-requests', b'6ms'), (b'x-ratelimit-reset-tokens', b'0s'), (b'x-request-id', b'req_73aff53152da3a6f84880ea0de154727'), (b'cf-cache-status', b'DYNAMIC'), (b'X-Content-Type-Options', b'nosniff'), (b'Server', b'cloudflare'), (b'CF-RAY', b'96397668c975ea26-ICN'), (b'Content-Encoding', b'br'), (b'alt-svc', b'h3=\":443\"; ma=86400')])\n",
      "INFO:httpx:HTTP Request: POST https://api.openai.com/v1/embeddings \"HTTP/1.1 200 OK\"\n",
      "HTTP Request: POST https://api.openai.com/v1/embeddings \"HTTP/1.1 200 OK\"\n",
      "DEBUG:httpcore.http11:receive_response_body.started request=<Request [b'POST']>\n",
      "receive_response_body.started request=<Request [b'POST']>\n",
      "DEBUG:httpcore.http11:receive_response_body.complete\n",
      "receive_response_body.complete\n",
      "DEBUG:httpcore.http11:response_closed.started\n",
      "response_closed.started\n",
      "DEBUG:httpcore.http11:response_closed.complete\n",
      "response_closed.complete\n",
      "DEBUG:openai._base_client:HTTP Response: POST https://api.openai.com/v1/embeddings \"200 OK\" Headers({'date': 'Wed, 23 Jul 2025 07:28:42 GMT', 'content-type': 'application/json', 'transfer-encoding': 'chunked', 'connection': 'keep-alive', 'access-control-allow-origin': '*', 'access-control-expose-headers': 'X-Request-ID', 'openai-model': 'text-embedding-ada-002-v2', 'openai-organization': 'weable-inc', 'openai-processing-ms': '43', 'openai-project': 'proj_W8BgdzHlUbC22dU3x8XdXgqH', 'openai-version': '2020-10-01', 'strict-transport-security': 'max-age=31536000; includeSubDomains; preload', 'via': 'envoy-router-74d87787d7-d2njx', 'x-envoy-upstream-service-time': '46', 'x-ratelimit-limit-requests': '10000', 'x-ratelimit-limit-tokens': '5000000', 'x-ratelimit-remaining-requests': '9999', 'x-ratelimit-remaining-tokens': '4999990', 'x-ratelimit-reset-requests': '6ms', 'x-ratelimit-reset-tokens': '0s', 'x-request-id': 'req_73aff53152da3a6f84880ea0de154727', 'cf-cache-status': 'DYNAMIC', 'x-content-type-options': 'nosniff', 'server': 'cloudflare', 'cf-ray': '96397668c975ea26-ICN', 'content-encoding': 'br', 'alt-svc': 'h3=\":443\"; ma=86400'})\n",
      "HTTP Response: POST https://api.openai.com/v1/embeddings \"200 OK\" Headers({'date': 'Wed, 23 Jul 2025 07:28:42 GMT', 'content-type': 'application/json', 'transfer-encoding': 'chunked', 'connection': 'keep-alive', 'access-control-allow-origin': '*', 'access-control-expose-headers': 'X-Request-ID', 'openai-model': 'text-embedding-ada-002-v2', 'openai-organization': 'weable-inc', 'openai-processing-ms': '43', 'openai-project': 'proj_W8BgdzHlUbC22dU3x8XdXgqH', 'openai-version': '2020-10-01', 'strict-transport-security': 'max-age=31536000; includeSubDomains; preload', 'via': 'envoy-router-74d87787d7-d2njx', 'x-envoy-upstream-service-time': '46', 'x-ratelimit-limit-requests': '10000', 'x-ratelimit-limit-tokens': '5000000', 'x-ratelimit-remaining-requests': '9999', 'x-ratelimit-remaining-tokens': '4999990', 'x-ratelimit-reset-requests': '6ms', 'x-ratelimit-reset-tokens': '0s', 'x-request-id': 'req_73aff53152da3a6f84880ea0de154727', 'cf-cache-status': 'DYNAMIC', 'x-content-type-options': 'nosniff', 'server': 'cloudflare', 'cf-ray': '96397668c975ea26-ICN', 'content-encoding': 'br', 'alt-svc': 'h3=\":443\"; ma=86400'})\n",
      "DEBUG:openai._base_client:request_id: req_73aff53152da3a6f84880ea0de154727\n",
      "request_id: req_73aff53152da3a6f84880ea0de154727\n",
      "DEBUG:llama_index.core.indices.utils:> Top 2 nodes:\n",
      "> [Node 04e727f4-f19c-41ae-b401-c63f2fa76431] [Similarity score:             0.777721] 쓸 만큼 다 쓰고 나면 ‘내일은 또 무엇을 정서해야 \n",
      "하나?’ 하고 미리 내일을 상상해 보며 그는 미소 띤 얼굴로 잠자리에 드는 것이었다. 400 루블의 급료로 \n",
      "자신의 운명...\n",
      "> [Node 6e3e84c2-42f9-42f7-869e-42667889defb] [Similarity score:             0.773633] 외투니콜라이 고골 \n",
      "7 \n",
      "아주 위대한 고전: 문학 \n",
      " \n",
      "“제가 새 걸로 하나 반드시 해드릴 테니 저만 믿으세요. 최선을 다해 보지요. 유행에 맞게 옷깃을 은도금한 \n",
      "단추로 ...\n",
      "> Top 2 nodes:\n",
      "> [Node 04e727f4-f19c-41ae-b401-c63f2fa76431] [Similarity score:             0.777721] 쓸 만큼 다 쓰고 나면 ‘내일은 또 무엇을 정서해야 \n",
      "하나?’ 하고 미리 내일을 상상해 보며 그는 미소 띤 얼굴로 잠자리에 드는 것이었다. 400 루블의 급료로 \n",
      "자신의 운명...\n",
      "> [Node 6e3e84c2-42f9-42f7-869e-42667889defb] [Similarity score:             0.773633] 외투니콜라이 고골 \n",
      "7 \n",
      "아주 위대한 고전: 문학 \n",
      " \n",
      "“제가 새 걸로 하나 반드시 해드릴 테니 저만 믿으세요. 최선을 다해 보지요. 유행에 맞게 옷깃을 은도금한 \n",
      "단추로 ...\n",
      "DEBUG:openai._base_client:Request options: {'method': 'post', 'url': '/chat/completions', 'files': None, 'idempotency_key': 'stainless-python-retry-918f2615-33a5-4b65-b3d1-4ae917d1ae55', 'json_data': {'messages': [{'role': 'system', 'content': \"You are an expert Q&A system that is trusted around the world.\\nAlways answer the query using the provided context information, and not prior knowledge.\\nSome rules to follow:\\n1. Never directly reference the given context in your answer.\\n2. Avoid statements like 'Based on the context, ...' or 'The context information ...' or anything along those lines.\"}, {'role': 'user', 'content': 'Context information is below.\\n---------------------\\npage_label: 3\\nfile_path: /home/sgjang/work/koshipa-llm-2025-1st/src/exercise/sgjang/day03/data/외투-고골.pdf\\n\\n쓸 만큼 다 쓰고 나면 ‘내일은 또 무엇을 정서해야 \\n하나?’ 하고 미리 내일을 상상해 보며 그는 미소 띤 얼굴로 잠자리에 드는 것이었다. 400 루블의 급료로 \\n자신의 운명에 만족하며 살아가던 한 인간의 평화로운 삶은 그렇게 흘러가고 있었고 아마 또 그렇게 \\n순조롭게 말년을 맞이할 수도 있었을 것이다. 9급이든, 3급이든, 7급이든, 또 어떤 공직자이든, 관청 근처에도 \\n안 가본 사람이든 인간이라면 누구에게나 닥치는 삶의 길에 뿌려진 갖가지 큰 불행이 없었다면 말이다. \\n뻬쩨르부르그에서 연봉 400루블 정도의 급료로 생계를 꾸려가는 사람들에게는 강력한 적이 있다. 이 \\n적이란 다름 아닌 북풍이다. 하기야 북풍이 건강에 좋다는 말들도 한다. 하지만 적은 바로 러시아의 \\n북풍이다. 아침 아홉시, 거리가 온통 관청으로 출근하는 사람들로 꽉 메워지는 시각에 코끝을 에리는 \\n바람의 세찬 일격이 부차별적으로 가해지면 불쌍한 관리들은 코를 어디에 감추어야 할지 어찌할 바를 \\n모른다. 높은 직책의 나리들도 혹한에 이마가 아파지고 눈에서 눈물이 찔끔 쏟아지는 이 순간에 가난한 \\n9급 관리들은 항상 속수무책이다. 유일한 해결책은 얇은 외투 자락에 몸을 숨기고 대여섯 개 거리를 \\n가능한 한 재빨리 지나 길에서 꽁꽁 얼어붙은 몸이 녹아 일을 시작할 수 있을 때까지 경비실에서 발을 \\n동동 구르는 것이다. 아까끼 아까끼예비치는 있는 힘을 다해 똑같은 지역을 달려가는데도 얼마 전부터 \\n등과 어깨가 유난히 시린 듯 한 느낌을 받았다. 마침내 그는 외투에 무슨 흠이 생겼을지도 모른다는 \\n생각이 들었다. 집에 와서 외투를 잘 살펴보니 등과 어깨 부분에 두세 군데 구멍이 뚫려 거친 무명이 \\n들여다보였고, 양복지는 거의 속이 비칠 정도였으며, 안감도 낡아 누더기가 되어 있었다.\\n\\npage_label: 7\\nfile_path: /home/sgjang/work/koshipa-llm-2025-1st/src/exercise/sgjang/day03/data/외투-고골.pdf\\n\\n외투\\uf07c니콜라이 고골 \\n7 \\n아주 위대한 고전: 문학 \\n \\n“제가 새 걸로 하나 반드시 해드릴 테니 저만 믿으세요. 최선을 다해 보지요. 유행에 맞게 옷깃을 은도금한 \\n단추로 채우도록 해드릴 수도 있어요.” \\n이제는 아까끼 아까끼예비치도 새 외투를 맞출 수밖에 없다는 것을 알고 한풀 꺾이고 말았다. 이제 사실 \\n무슨 돈으로 어떻게 외투를 맞춘단 말인가? 물론 일부는 명절 보너스ㅡ를 미리 가불해 쓰는 방법도 생각해 \\n볼 수 있다. 그러나 그 돈도 다 쓸 곳을 따로 정해놓았다. 새 바지도 구해야 하고 헌 장화에 새 가죽을 \\n덧대느라 구두 수선공에게 빚진 것도 갚아야했다. 셔츠 세 벌과, 이런 데서 말하긴 민망하지만, 속옷도 두 \\n벌 여자 재봉사에게 주문해야 했다. 한마디로 여기저기 돈 나갈 곳 투성이였다. 국장이 아주 관대하여 \\n선심으로 40루블이 아니라 45루블이나 50루블을 보너스로 준다 해도, 다 쓰고 나면 남는 돈이라야 외투를 \\n맞추기에는 새 발의 피일 정도로 시시한 푼돈이 될 것이다. 그는 뻬뜨로비치가 변덕이 심한 사람이라 가끔 \\n터무니없는 값을 불러 그의 아내조차도 참다못해 이렇게 소리를 질러대는 것을 알고 있었다. \\n“이런 바보, 정신이 나갔어! 언제는 형편없는 ㅡ 값에 일을 맡더니, 이젠 또 뭔 귀신이 들렸나, 주제넘게 \\n그런 값을 부르고 그래!” \\n물론 뻬뜨로비치가 80루블을 받고도 일을 할 사람이라는 것도 모르는 바는 아니다. 그렇다 해도 그 \\n80루블은 대체 어디서 가져온단 말인가? 절반 정도라면 또 모르지, 그 정도는 어떻게 구해볼 수 있을 것도 \\n같은데, 아니 어쩌면 반 이상도 가능할지 모르지만, 그러면 나머지 반은 어디서? …… 그러니 무엇보다도 \\n먼저 독자들도 잠깐 아까끼 아까끼예비치가 비용의 절반을 대체 어디서 구할 수 있는지 알 필요가 있다.\\n---------------------\\nGiven the context information and not prior knowledge, answer the query.\\nQuery: 아카키의 월급은 얼마인가?\\nAnswer: '}], 'model': 'gpt-4o-mini', 'stream': False, 'temperature': 0.2}}\n",
      "Request options: {'method': 'post', 'url': '/chat/completions', 'files': None, 'idempotency_key': 'stainless-python-retry-918f2615-33a5-4b65-b3d1-4ae917d1ae55', 'json_data': {'messages': [{'role': 'system', 'content': \"You are an expert Q&A system that is trusted around the world.\\nAlways answer the query using the provided context information, and not prior knowledge.\\nSome rules to follow:\\n1. Never directly reference the given context in your answer.\\n2. Avoid statements like 'Based on the context, ...' or 'The context information ...' or anything along those lines.\"}, {'role': 'user', 'content': 'Context information is below.\\n---------------------\\npage_label: 3\\nfile_path: /home/sgjang/work/koshipa-llm-2025-1st/src/exercise/sgjang/day03/data/외투-고골.pdf\\n\\n쓸 만큼 다 쓰고 나면 ‘내일은 또 무엇을 정서해야 \\n하나?’ 하고 미리 내일을 상상해 보며 그는 미소 띤 얼굴로 잠자리에 드는 것이었다. 400 루블의 급료로 \\n자신의 운명에 만족하며 살아가던 한 인간의 평화로운 삶은 그렇게 흘러가고 있었고 아마 또 그렇게 \\n순조롭게 말년을 맞이할 수도 있었을 것이다. 9급이든, 3급이든, 7급이든, 또 어떤 공직자이든, 관청 근처에도 \\n안 가본 사람이든 인간이라면 누구에게나 닥치는 삶의 길에 뿌려진 갖가지 큰 불행이 없었다면 말이다. \\n뻬쩨르부르그에서 연봉 400루블 정도의 급료로 생계를 꾸려가는 사람들에게는 강력한 적이 있다. 이 \\n적이란 다름 아닌 북풍이다. 하기야 북풍이 건강에 좋다는 말들도 한다. 하지만 적은 바로 러시아의 \\n북풍이다. 아침 아홉시, 거리가 온통 관청으로 출근하는 사람들로 꽉 메워지는 시각에 코끝을 에리는 \\n바람의 세찬 일격이 부차별적으로 가해지면 불쌍한 관리들은 코를 어디에 감추어야 할지 어찌할 바를 \\n모른다. 높은 직책의 나리들도 혹한에 이마가 아파지고 눈에서 눈물이 찔끔 쏟아지는 이 순간에 가난한 \\n9급 관리들은 항상 속수무책이다. 유일한 해결책은 얇은 외투 자락에 몸을 숨기고 대여섯 개 거리를 \\n가능한 한 재빨리 지나 길에서 꽁꽁 얼어붙은 몸이 녹아 일을 시작할 수 있을 때까지 경비실에서 발을 \\n동동 구르는 것이다. 아까끼 아까끼예비치는 있는 힘을 다해 똑같은 지역을 달려가는데도 얼마 전부터 \\n등과 어깨가 유난히 시린 듯 한 느낌을 받았다. 마침내 그는 외투에 무슨 흠이 생겼을지도 모른다는 \\n생각이 들었다. 집에 와서 외투를 잘 살펴보니 등과 어깨 부분에 두세 군데 구멍이 뚫려 거친 무명이 \\n들여다보였고, 양복지는 거의 속이 비칠 정도였으며, 안감도 낡아 누더기가 되어 있었다.\\n\\npage_label: 7\\nfile_path: /home/sgjang/work/koshipa-llm-2025-1st/src/exercise/sgjang/day03/data/외투-고골.pdf\\n\\n외투\\uf07c니콜라이 고골 \\n7 \\n아주 위대한 고전: 문학 \\n \\n“제가 새 걸로 하나 반드시 해드릴 테니 저만 믿으세요. 최선을 다해 보지요. 유행에 맞게 옷깃을 은도금한 \\n단추로 채우도록 해드릴 수도 있어요.” \\n이제는 아까끼 아까끼예비치도 새 외투를 맞출 수밖에 없다는 것을 알고 한풀 꺾이고 말았다. 이제 사실 \\n무슨 돈으로 어떻게 외투를 맞춘단 말인가? 물론 일부는 명절 보너스ㅡ를 미리 가불해 쓰는 방법도 생각해 \\n볼 수 있다. 그러나 그 돈도 다 쓸 곳을 따로 정해놓았다. 새 바지도 구해야 하고 헌 장화에 새 가죽을 \\n덧대느라 구두 수선공에게 빚진 것도 갚아야했다. 셔츠 세 벌과, 이런 데서 말하긴 민망하지만, 속옷도 두 \\n벌 여자 재봉사에게 주문해야 했다. 한마디로 여기저기 돈 나갈 곳 투성이였다. 국장이 아주 관대하여 \\n선심으로 40루블이 아니라 45루블이나 50루블을 보너스로 준다 해도, 다 쓰고 나면 남는 돈이라야 외투를 \\n맞추기에는 새 발의 피일 정도로 시시한 푼돈이 될 것이다. 그는 뻬뜨로비치가 변덕이 심한 사람이라 가끔 \\n터무니없는 값을 불러 그의 아내조차도 참다못해 이렇게 소리를 질러대는 것을 알고 있었다. \\n“이런 바보, 정신이 나갔어! 언제는 형편없는 ㅡ 값에 일을 맡더니, 이젠 또 뭔 귀신이 들렸나, 주제넘게 \\n그런 값을 부르고 그래!” \\n물론 뻬뜨로비치가 80루블을 받고도 일을 할 사람이라는 것도 모르는 바는 아니다. 그렇다 해도 그 \\n80루블은 대체 어디서 가져온단 말인가? 절반 정도라면 또 모르지, 그 정도는 어떻게 구해볼 수 있을 것도 \\n같은데, 아니 어쩌면 반 이상도 가능할지 모르지만, 그러면 나머지 반은 어디서? …… 그러니 무엇보다도 \\n먼저 독자들도 잠깐 아까끼 아까끼예비치가 비용의 절반을 대체 어디서 구할 수 있는지 알 필요가 있다.\\n---------------------\\nGiven the context information and not prior knowledge, answer the query.\\nQuery: 아카키의 월급은 얼마인가?\\nAnswer: '}], 'model': 'gpt-4o-mini', 'stream': False, 'temperature': 0.2}}\n",
      "DEBUG:openai._base_client:Sending HTTP Request: POST https://api.openai.com/v1/chat/completions\n",
      "Sending HTTP Request: POST https://api.openai.com/v1/chat/completions\n",
      "DEBUG:httpcore.connection:close.started\n",
      "close.started\n",
      "DEBUG:httpcore.connection:close.complete\n",
      "close.complete\n",
      "DEBUG:httpcore.connection:connect_tcp.started host='api.openai.com' port=443 local_address=None timeout=60.0 socket_options=None\n",
      "connect_tcp.started host='api.openai.com' port=443 local_address=None timeout=60.0 socket_options=None\n",
      "DEBUG:httpcore.connection:connect_tcp.complete return_value=<httpcore._backends.sync.SyncStream object at 0x7330db7a30d0>\n",
      "connect_tcp.complete return_value=<httpcore._backends.sync.SyncStream object at 0x7330db7a30d0>\n",
      "DEBUG:httpcore.connection:start_tls.started ssl_context=<ssl.SSLContext object at 0x7330db59b7c0> server_hostname='api.openai.com' timeout=60.0\n",
      "start_tls.started ssl_context=<ssl.SSLContext object at 0x7330db59b7c0> server_hostname='api.openai.com' timeout=60.0\n",
      "DEBUG:httpcore.connection:start_tls.complete return_value=<httpcore._backends.sync.SyncStream object at 0x7330db7a38e0>\n",
      "start_tls.complete return_value=<httpcore._backends.sync.SyncStream object at 0x7330db7a38e0>\n",
      "DEBUG:httpcore.http11:send_request_headers.started request=<Request [b'POST']>\n",
      "send_request_headers.started request=<Request [b'POST']>\n",
      "DEBUG:httpcore.http11:send_request_headers.complete\n",
      "send_request_headers.complete\n",
      "DEBUG:httpcore.http11:send_request_body.started request=<Request [b'POST']>\n",
      "send_request_body.started request=<Request [b'POST']>\n",
      "DEBUG:httpcore.http11:send_request_body.complete\n",
      "send_request_body.complete\n",
      "DEBUG:httpcore.http11:receive_response_headers.started request=<Request [b'POST']>\n",
      "receive_response_headers.started request=<Request [b'POST']>\n",
      "DEBUG:httpcore.http11:receive_response_headers.complete return_value=(b'HTTP/1.1', 200, b'OK', [(b'Date', b'Wed, 23 Jul 2025 07:28:43 GMT'), (b'Content-Type', b'application/json'), (b'Transfer-Encoding', b'chunked'), (b'Connection', b'keep-alive'), (b'access-control-expose-headers', b'X-Request-ID'), (b'openai-organization', b'weable-inc'), (b'openai-processing-ms', b'320'), (b'openai-project', b'proj_W8BgdzHlUbC22dU3x8XdXgqH'), (b'openai-version', b'2020-10-01'), (b'x-envoy-upstream-service-time', b'323'), (b'x-ratelimit-limit-requests', b'10000'), (b'x-ratelimit-limit-tokens', b'10000000'), (b'x-ratelimit-remaining-requests', b'9999'), (b'x-ratelimit-remaining-tokens', b'9998748'), (b'x-ratelimit-reset-requests', b'6ms'), (b'x-ratelimit-reset-tokens', b'7ms'), (b'x-request-id', b'req_b98e6bc0111a0ed7e78ab2a08ec65df8'), (b'strict-transport-security', b'max-age=31536000; includeSubDomains; preload'), (b'cf-cache-status', b'DYNAMIC'), (b'X-Content-Type-Options', b'nosniff'), (b'Server', b'cloudflare'), (b'CF-RAY', b'9639766b3af4aa6e-ICN'), (b'Content-Encoding', b'br'), (b'alt-svc', b'h3=\":443\"; ma=86400')])\n",
      "receive_response_headers.complete return_value=(b'HTTP/1.1', 200, b'OK', [(b'Date', b'Wed, 23 Jul 2025 07:28:43 GMT'), (b'Content-Type', b'application/json'), (b'Transfer-Encoding', b'chunked'), (b'Connection', b'keep-alive'), (b'access-control-expose-headers', b'X-Request-ID'), (b'openai-organization', b'weable-inc'), (b'openai-processing-ms', b'320'), (b'openai-project', b'proj_W8BgdzHlUbC22dU3x8XdXgqH'), (b'openai-version', b'2020-10-01'), (b'x-envoy-upstream-service-time', b'323'), (b'x-ratelimit-limit-requests', b'10000'), (b'x-ratelimit-limit-tokens', b'10000000'), (b'x-ratelimit-remaining-requests', b'9999'), (b'x-ratelimit-remaining-tokens', b'9998748'), (b'x-ratelimit-reset-requests', b'6ms'), (b'x-ratelimit-reset-tokens', b'7ms'), (b'x-request-id', b'req_b98e6bc0111a0ed7e78ab2a08ec65df8'), (b'strict-transport-security', b'max-age=31536000; includeSubDomains; preload'), (b'cf-cache-status', b'DYNAMIC'), (b'X-Content-Type-Options', b'nosniff'), (b'Server', b'cloudflare'), (b'CF-RAY', b'9639766b3af4aa6e-ICN'), (b'Content-Encoding', b'br'), (b'alt-svc', b'h3=\":443\"; ma=86400')])\n",
      "INFO:httpx:HTTP Request: POST https://api.openai.com/v1/chat/completions \"HTTP/1.1 200 OK\"\n",
      "HTTP Request: POST https://api.openai.com/v1/chat/completions \"HTTP/1.1 200 OK\"\n",
      "DEBUG:httpcore.http11:receive_response_body.started request=<Request [b'POST']>\n",
      "receive_response_body.started request=<Request [b'POST']>\n",
      "DEBUG:httpcore.http11:receive_response_body.complete\n",
      "receive_response_body.complete\n",
      "DEBUG:httpcore.http11:response_closed.started\n",
      "response_closed.started\n",
      "DEBUG:httpcore.http11:response_closed.complete\n",
      "response_closed.complete\n",
      "DEBUG:openai._base_client:HTTP Response: POST https://api.openai.com/v1/chat/completions \"200 OK\" Headers({'date': 'Wed, 23 Jul 2025 07:28:43 GMT', 'content-type': 'application/json', 'transfer-encoding': 'chunked', 'connection': 'keep-alive', 'access-control-expose-headers': 'X-Request-ID', 'openai-organization': 'weable-inc', 'openai-processing-ms': '320', 'openai-project': 'proj_W8BgdzHlUbC22dU3x8XdXgqH', 'openai-version': '2020-10-01', 'x-envoy-upstream-service-time': '323', 'x-ratelimit-limit-requests': '10000', 'x-ratelimit-limit-tokens': '10000000', 'x-ratelimit-remaining-requests': '9999', 'x-ratelimit-remaining-tokens': '9998748', 'x-ratelimit-reset-requests': '6ms', 'x-ratelimit-reset-tokens': '7ms', 'x-request-id': 'req_b98e6bc0111a0ed7e78ab2a08ec65df8', 'strict-transport-security': 'max-age=31536000; includeSubDomains; preload', 'cf-cache-status': 'DYNAMIC', 'x-content-type-options': 'nosniff', 'server': 'cloudflare', 'cf-ray': '9639766b3af4aa6e-ICN', 'content-encoding': 'br', 'alt-svc': 'h3=\":443\"; ma=86400'})\n",
      "HTTP Response: POST https://api.openai.com/v1/chat/completions \"200 OK\" Headers({'date': 'Wed, 23 Jul 2025 07:28:43 GMT', 'content-type': 'application/json', 'transfer-encoding': 'chunked', 'connection': 'keep-alive', 'access-control-expose-headers': 'X-Request-ID', 'openai-organization': 'weable-inc', 'openai-processing-ms': '320', 'openai-project': 'proj_W8BgdzHlUbC22dU3x8XdXgqH', 'openai-version': '2020-10-01', 'x-envoy-upstream-service-time': '323', 'x-ratelimit-limit-requests': '10000', 'x-ratelimit-limit-tokens': '10000000', 'x-ratelimit-remaining-requests': '9999', 'x-ratelimit-remaining-tokens': '9998748', 'x-ratelimit-reset-requests': '6ms', 'x-ratelimit-reset-tokens': '7ms', 'x-request-id': 'req_b98e6bc0111a0ed7e78ab2a08ec65df8', 'strict-transport-security': 'max-age=31536000; includeSubDomains; preload', 'cf-cache-status': 'DYNAMIC', 'x-content-type-options': 'nosniff', 'server': 'cloudflare', 'cf-ray': '9639766b3af4aa6e-ICN', 'content-encoding': 'br', 'alt-svc': 'h3=\":443\"; ma=86400'})\n",
      "DEBUG:openai._base_client:request_id: req_b98e6bc0111a0ed7e78ab2a08ec65df8\n",
      "request_id: req_b98e6bc0111a0ed7e78ab2a08ec65df8\n",
      "아카키의 월급은 400 루블입니다.\n"
     ]
    }
   ],
   "source": [
    "query_engine = index.as_query_engine()\n",
    "response = query_engine.query(\"아카키의 월급은 얼마인가?\")\n",
    "print(response)"
   ]
  },
  {
   "cell_type": "code",
   "execution_count": 11,
   "metadata": {},
   "outputs": [],
   "source": [
    "logging.disable(logging.CRITICAL)"
   ]
  },
  {
   "cell_type": "code",
   "execution_count": 12,
   "metadata": {},
   "outputs": [
    {
     "name": "stdout",
     "output_type": "stream",
     "text": [
      "아카키 아카끼예비치가 죽은 이유에 대한 구체적인 설명은 제공되지 않았습니다. 그러나 그의 삶은 외투를 잃어버린 사건과 깊은 연관이 있으며, 외투는 그의 존재와 정체성을 상징하는 중요한 요소였습니다. 외투를 잃은 후 그는 심리적으로 큰 고통을 겪었고, 그로 인해 그의 삶은 더욱 고달파졌습니다. 이러한 불행한 상황이 그에게 심리적, 정서적 스트레스를 가중시켰을 가능성이 있습니다. 결국, 그의 죽음은 이러한 고통의 연장선상에서 발생했을 것으로 추측할 수 있습니다.\n"
     ]
    }
   ],
   "source": [
    "query_engine = index.as_query_engine()\n",
    "response = query_engine.query(\"아카키가 죽은 이유는 무엇인가? 상세하게 한국어로 답하세요.\")\n",
    "print(response)"
   ]
  },
  {
   "cell_type": "code",
   "execution_count": 13,
   "metadata": {},
   "outputs": [
    {
     "name": "stdout",
     "output_type": "stream",
     "text": [
      "아카키의 직업은 정서하는 일입니다.\n"
     ]
    }
   ],
   "source": [
    "import os.path\n",
    "from llama_index.core import (\n",
    "    VectorStoreIndex,\n",
    "    SimpleDirectoryReader,\n",
    "    StorageContext,\n",
    "    load_index_from_storage,\n",
    ")\n",
    "\n",
    "PERSIST_DIR = \"./storage\"\n",
    "if not os.path.exists(PERSIST_DIR):\n",
    "    documents = SimpleDirectoryReader(\"data\").load_data()\n",
    "    index = VectorStoreIndex.from_documents(documents)\n",
    "    index.storage_context.persist(persist_dir=PERSIST_DIR)\n",
    "else:\n",
    "    storage_context = StorageContext.from_defaults(persist_dir=PERSIST_DIR)\n",
    "    index = load_index_from_storage(storage_context)\n",
    "\n",
    "query_engine = index.as_query_engine()\n",
    "response = query_engine.query(\"아카키의 직업은 무엇인가요? 한국어로 대답하세요.\")\n",
    "print(response)"
   ]
  },
  {
   "cell_type": "code",
   "execution_count": 14,
   "metadata": {},
   "outputs": [],
   "source": [
    "from llama_index.embeddings.openai import OpenAIEmbedding\n",
    "from llama_index.core.node_parser import SentenceSplitter\n",
    "from llama_index.llms.openai import OpenAI\n",
    "from llama_index.core import Settings\n",
    "\n",
    "Settings.llm = OpenAI(model=\"gpt-4o-mini\")\n",
    "Settings.embed_model = OpenAIEmbedding(model=\"text-embedding-3-small\")\n",
    "Settings.node_parser = SentenceSplitter(chunk_size=512, chunk_overlap=20)\n",
    "Settings.num_output = 512\n",
    "Settings.context_window = 3900"
   ]
  },
  {
   "cell_type": "code",
   "execution_count": 15,
   "metadata": {},
   "outputs": [
    {
     "name": "stdout",
     "output_type": "stream",
     "text": [
      "Loading llama_index.core.storage.kvstore.simple_kvstore from ./storage/docstore.json.\n",
      "Loading llama_index.core.storage.kvstore.simple_kvstore from ./storage/index_store.json.\n",
      "아카키의 직업은 문관입니다.\n"
     ]
    }
   ],
   "source": [
    "import os.path\n",
    "from llama_index.core import (\n",
    "    VectorStoreIndex,\n",
    "    SimpleDirectoryReader,\n",
    "    StorageContext,\n",
    "    load_index_from_storage,\n",
    ")\n",
    "\n",
    "PERSIST_DIR = \"./storage\"\n",
    "if not os.path.exists(PERSIST_DIR):\n",
    "    documents = SimpleDirectoryReader(\"data\").load_data()\n",
    "    index = VectorStoreIndex.from_documents(documents, Settings=Settings)\n",
    "    index.storage_context.persist(persist_dir=PERSIST_DIR)\n",
    "else:\n",
    "    storage_context = StorageContext.from_defaults(persist_dir=PERSIST_DIR)\n",
    "    index = load_index_from_storage(storage_context)\n",
    "\n",
    "query_engine = index.as_query_engine()\n",
    "response = query_engine.query(\"아카키의 직업은 무엇인가요? 한국어로 대답하세요.\")\n",
    "print(response)"
   ]
  },
  {
   "cell_type": "code",
   "execution_count": 16,
   "metadata": {},
   "outputs": [
    {
     "name": "stdout",
     "output_type": "stream",
     "text": [
      "Loading llama_index.core.storage.kvstore.simple_kvstore from ./storage/docstore.json.\n",
      "Loading llama_index.core.storage.kvstore.simple_kvstore from ./storage/index_store.json.\n",
      "소년과 소녀가 처음 만난 장소에 대한 정보는 제공된 내용에 포함되어 있지 않습니다.\n"
     ]
    }
   ],
   "source": [
    "# Global settings\n",
    "from llama_index.core import Settings\n",
    "\n",
    "Settings.chunk_size = 512\n",
    "\n",
    "# Local settings\n",
    "from llama_index.core.node_parser import SentenceSplitter\n",
    "\n",
    "PERSIST_DIR = \"./storage\"\n",
    "if not os.path.exists(PERSIST_DIR):\n",
    "    documents = SimpleDirectoryReader(\"data\").load_data()\n",
    "    index = VectorStoreIndex.from_documents(\n",
    "        documents, transformations=[SentenceSplitter(chunk_size=512)]\n",
    "    )\n",
    "    index.storage_context.persist(persist_dir=PERSIST_DIR)\n",
    "else:\n",
    "    storage_context = StorageContext.from_defaults(persist_dir=PERSIST_DIR)\n",
    "    index = load_index_from_storage(storage_context)\n",
    "\n",
    "query_engine = index.as_query_engine()\n",
    "response = query_engine.query(\"소년과 소녀는 어디에서 처음 만났나? 한국어로 대답하세요.\")\n",
    "print(response)"
   ]
  },
  {
   "cell_type": "code",
   "execution_count": 17,
   "metadata": {},
   "outputs": [
    {
     "name": "stdout",
     "output_type": "stream",
     "text": [
      "Defaulting to user installation because normal site-packages is not writeable\n",
      "Requirement already satisfied: chromadb in /home/sgjang/.local/lib/python3.10/site-packages (1.0.15)\n",
      "Requirement already satisfied: attrs in /home/sgjang/.local/lib/python3.10/site-packages (25.3.0)\n",
      "Requirement already satisfied: rich>=10.11.0 in /home/sgjang/.local/lib/python3.10/site-packages (from chromadb) (14.0.0)\n",
      "Requirement already satisfied: grpcio>=1.58.0 in /home/sgjang/.local/lib/python3.10/site-packages (from chromadb) (1.73.1)\n",
      "Requirement already satisfied: mmh3>=4.0.1 in /home/sgjang/.local/lib/python3.10/site-packages (from chromadb) (5.1.0)\n",
      "Requirement already satisfied: tenacity>=8.2.3 in /home/sgjang/.local/lib/python3.10/site-packages (from chromadb) (9.1.2)\n",
      "Requirement already satisfied: posthog<6.0.0,>=2.4.0 in /home/sgjang/.local/lib/python3.10/site-packages (from chromadb) (5.4.0)\n",
      "Requirement already satisfied: opentelemetry-sdk>=1.2.0 in /home/sgjang/.local/lib/python3.10/site-packages (from chromadb) (1.35.0)\n",
      "Requirement already satisfied: opentelemetry-exporter-otlp-proto-grpc>=1.2.0 in /home/sgjang/.local/lib/python3.10/site-packages (from chromadb) (1.35.0)\n",
      "Requirement already satisfied: pydantic>=1.9 in /usr/local/lib/python3.10/dist-packages (from chromadb) (2.11.7)\n",
      "Requirement already satisfied: build>=1.0.3 in /home/sgjang/.local/lib/python3.10/site-packages (from chromadb) (1.2.2.post1)\n",
      "Requirement already satisfied: kubernetes>=28.1.0 in /home/sgjang/.local/lib/python3.10/site-packages (from chromadb) (33.1.0)\n",
      "Requirement already satisfied: tokenizers>=0.13.2 in /home/sgjang/.local/lib/python3.10/site-packages (from chromadb) (0.21.2)\n",
      "Requirement already satisfied: numpy>=1.22.5 in /home/sgjang/.local/lib/python3.10/site-packages (from chromadb) (2.2.6)\n",
      "Requirement already satisfied: pypika>=0.48.9 in /home/sgjang/.local/lib/python3.10/site-packages (from chromadb) (0.48.9)\n",
      "Requirement already satisfied: typer>=0.9.0 in /home/sgjang/.local/lib/python3.10/site-packages (from chromadb) (0.16.0)\n",
      "Requirement already satisfied: overrides>=7.3.1 in /home/sgjang/.local/lib/python3.10/site-packages (from chromadb) (7.7.0)\n",
      "Requirement already satisfied: typing-extensions>=4.5.0 in /usr/local/lib/python3.10/dist-packages (from chromadb) (4.14.1)\n",
      "Requirement already satisfied: orjson>=3.9.12 in /home/sgjang/.local/lib/python3.10/site-packages (from chromadb) (3.11.0)\n",
      "Requirement already satisfied: jsonschema>=4.19.0 in /home/sgjang/.local/lib/python3.10/site-packages (from chromadb) (4.25.0)\n",
      "Requirement already satisfied: tqdm>=4.65.0 in /usr/local/lib/python3.10/dist-packages (from chromadb) (4.67.1)\n",
      "Requirement already satisfied: bcrypt>=4.0.1 in /home/sgjang/.local/lib/python3.10/site-packages (from chromadb) (4.3.0)\n",
      "Requirement already satisfied: pyyaml>=6.0.0 in /home/sgjang/.local/lib/python3.10/site-packages (from chromadb) (6.0.2)\n",
      "Requirement already satisfied: httpx>=0.27.0 in /usr/local/lib/python3.10/dist-packages (from chromadb) (0.28.1)\n",
      "Requirement already satisfied: pybase64>=1.4.1 in /home/sgjang/.local/lib/python3.10/site-packages (from chromadb) (1.4.1)\n",
      "Requirement already satisfied: onnxruntime>=1.14.1 in /home/sgjang/.local/lib/python3.10/site-packages (from chromadb) (1.22.1)\n",
      "Requirement already satisfied: opentelemetry-api>=1.2.0 in /home/sgjang/.local/lib/python3.10/site-packages (from chromadb) (1.35.0)\n",
      "Requirement already satisfied: importlib-resources in /home/sgjang/.local/lib/python3.10/site-packages (from chromadb) (6.5.2)\n",
      "Requirement already satisfied: uvicorn[standard]>=0.18.3 in /home/sgjang/.local/lib/python3.10/site-packages (from chromadb) (0.35.0)\n",
      "Requirement already satisfied: tomli>=1.1.0 in /home/sgjang/.local/lib/python3.10/site-packages (from build>=1.0.3->chromadb) (2.2.1)\n",
      "Requirement already satisfied: pyproject_hooks in /home/sgjang/.local/lib/python3.10/site-packages (from build>=1.0.3->chromadb) (1.2.0)\n",
      "Requirement already satisfied: packaging>=19.1 in /home/sgjang/.local/lib/python3.10/site-packages (from build>=1.0.3->chromadb) (25.0)\n",
      "Requirement already satisfied: httpcore==1.* in /usr/local/lib/python3.10/dist-packages (from httpx>=0.27.0->chromadb) (1.0.9)\n",
      "Requirement already satisfied: idna in /usr/lib/python3/dist-packages (from httpx>=0.27.0->chromadb) (3.3)\n",
      "Requirement already satisfied: certifi in /home/sgjang/.local/lib/python3.10/site-packages (from httpx>=0.27.0->chromadb) (2025.7.14)\n",
      "Requirement already satisfied: anyio in /usr/local/lib/python3.10/dist-packages (from httpx>=0.27.0->chromadb) (4.9.0)\n",
      "Requirement already satisfied: h11>=0.16 in /usr/local/lib/python3.10/dist-packages (from httpcore==1.*->httpx>=0.27.0->chromadb) (0.16.0)\n",
      "Requirement already satisfied: rpds-py>=0.7.1 in /home/sgjang/.local/lib/python3.10/site-packages (from jsonschema>=4.19.0->chromadb) (0.26.0)\n",
      "Requirement already satisfied: jsonschema-specifications>=2023.03.6 in /home/sgjang/.local/lib/python3.10/site-packages (from jsonschema>=4.19.0->chromadb) (2025.4.1)\n",
      "Requirement already satisfied: referencing>=0.28.4 in /home/sgjang/.local/lib/python3.10/site-packages (from jsonschema>=4.19.0->chromadb) (0.36.2)\n",
      "Requirement already satisfied: google-auth>=1.0.1 in /home/sgjang/.local/lib/python3.10/site-packages (from kubernetes>=28.1.0->chromadb) (2.40.3)\n",
      "Requirement already satisfied: requests-oauthlib in /home/sgjang/.local/lib/python3.10/site-packages (from kubernetes>=28.1.0->chromadb) (2.0.0)\n",
      "Requirement already satisfied: urllib3>=1.24.2 in /home/sgjang/.local/lib/python3.10/site-packages (from kubernetes>=28.1.0->chromadb) (2.5.0)\n",
      "Requirement already satisfied: python-dateutil>=2.5.3 in /home/sgjang/.local/lib/python3.10/site-packages (from kubernetes>=28.1.0->chromadb) (2.9.0.post0)\n",
      "Requirement already satisfied: websocket-client!=0.40.0,!=0.41.*,!=0.42.*,>=0.32.0 in /home/sgjang/.local/lib/python3.10/site-packages (from kubernetes>=28.1.0->chromadb) (1.8.0)\n",
      "Requirement already satisfied: requests in /home/sgjang/.local/lib/python3.10/site-packages (from kubernetes>=28.1.0->chromadb) (2.32.4)\n",
      "Requirement already satisfied: six>=1.9.0 in /usr/lib/python3/dist-packages (from kubernetes>=28.1.0->chromadb) (1.16.0)\n",
      "Requirement already satisfied: durationpy>=0.7 in /home/sgjang/.local/lib/python3.10/site-packages (from kubernetes>=28.1.0->chromadb) (0.10)\n",
      "Requirement already satisfied: oauthlib>=3.2.2 in /home/sgjang/.local/lib/python3.10/site-packages (from kubernetes>=28.1.0->chromadb) (3.3.1)\n",
      "Requirement already satisfied: sympy in /home/sgjang/.local/lib/python3.10/site-packages (from onnxruntime>=1.14.1->chromadb) (1.14.0)\n",
      "Requirement already satisfied: protobuf in /home/sgjang/.local/lib/python3.10/site-packages (from onnxruntime>=1.14.1->chromadb) (6.31.1)\n",
      "Requirement already satisfied: coloredlogs in /home/sgjang/.local/lib/python3.10/site-packages (from onnxruntime>=1.14.1->chromadb) (15.0.1)\n",
      "Requirement already satisfied: flatbuffers in /home/sgjang/.local/lib/python3.10/site-packages (from onnxruntime>=1.14.1->chromadb) (25.2.10)\n",
      "Requirement already satisfied: importlib-metadata<8.8.0,>=6.0 in /home/sgjang/.local/lib/python3.10/site-packages (from opentelemetry-api>=1.2.0->chromadb) (8.7.0)\n",
      "Requirement already satisfied: opentelemetry-exporter-otlp-proto-common==1.35.0 in /home/sgjang/.local/lib/python3.10/site-packages (from opentelemetry-exporter-otlp-proto-grpc>=1.2.0->chromadb) (1.35.0)\n",
      "Requirement already satisfied: opentelemetry-proto==1.35.0 in /home/sgjang/.local/lib/python3.10/site-packages (from opentelemetry-exporter-otlp-proto-grpc>=1.2.0->chromadb) (1.35.0)\n",
      "Requirement already satisfied: googleapis-common-protos~=1.57 in /home/sgjang/.local/lib/python3.10/site-packages (from opentelemetry-exporter-otlp-proto-grpc>=1.2.0->chromadb) (1.70.0)\n",
      "Requirement already satisfied: opentelemetry-semantic-conventions==0.56b0 in /home/sgjang/.local/lib/python3.10/site-packages (from opentelemetry-sdk>=1.2.0->chromadb) (0.56b0)\n",
      "Requirement already satisfied: distro>=1.5.0 in /usr/lib/python3/dist-packages (from posthog<6.0.0,>=2.4.0->chromadb) (1.7.0)\n",
      "Requirement already satisfied: backoff>=1.10.0 in /home/sgjang/.local/lib/python3.10/site-packages (from posthog<6.0.0,>=2.4.0->chromadb) (2.2.1)\n",
      "Requirement already satisfied: annotated-types>=0.6.0 in /usr/local/lib/python3.10/dist-packages (from pydantic>=1.9->chromadb) (0.7.0)\n",
      "Requirement already satisfied: typing-inspection>=0.4.0 in /usr/local/lib/python3.10/dist-packages (from pydantic>=1.9->chromadb) (0.4.1)\n",
      "Requirement already satisfied: pydantic-core==2.33.2 in /usr/local/lib/python3.10/dist-packages (from pydantic>=1.9->chromadb) (2.33.2)\n",
      "Requirement already satisfied: markdown-it-py>=2.2.0 in /home/sgjang/.local/lib/python3.10/site-packages (from rich>=10.11.0->chromadb) (3.0.0)\n",
      "Requirement already satisfied: pygments<3.0.0,>=2.13.0 in /home/sgjang/.local/lib/python3.10/site-packages (from rich>=10.11.0->chromadb) (2.19.2)\n",
      "Requirement already satisfied: huggingface-hub<1.0,>=0.16.4 in /home/sgjang/.local/lib/python3.10/site-packages (from tokenizers>=0.13.2->chromadb) (0.33.4)\n",
      "Requirement already satisfied: click>=8.0.0 in /home/sgjang/.local/lib/python3.10/site-packages (from typer>=0.9.0->chromadb) (8.2.1)\n",
      "Requirement already satisfied: shellingham>=1.3.0 in /home/sgjang/.local/lib/python3.10/site-packages (from typer>=0.9.0->chromadb) (1.5.4)\n",
      "Requirement already satisfied: python-dotenv>=0.13 in /home/sgjang/.local/lib/python3.10/site-packages (from uvicorn[standard]>=0.18.3->chromadb) (1.1.1)\n",
      "Requirement already satisfied: httptools>=0.6.3 in /home/sgjang/.local/lib/python3.10/site-packages (from uvicorn[standard]>=0.18.3->chromadb) (0.6.4)\n",
      "Requirement already satisfied: websockets>=10.4 in /home/sgjang/.local/lib/python3.10/site-packages (from uvicorn[standard]>=0.18.3->chromadb) (15.0.1)\n",
      "Requirement already satisfied: watchfiles>=0.13 in /home/sgjang/.local/lib/python3.10/site-packages (from uvicorn[standard]>=0.18.3->chromadb) (1.1.0)\n",
      "Requirement already satisfied: uvloop>=0.15.1 in /home/sgjang/.local/lib/python3.10/site-packages (from uvicorn[standard]>=0.18.3->chromadb) (0.21.0)\n",
      "Requirement already satisfied: cachetools<6.0,>=2.0.0 in /home/sgjang/.local/lib/python3.10/site-packages (from google-auth>=1.0.1->kubernetes>=28.1.0->chromadb) (5.5.2)\n",
      "Requirement already satisfied: pyasn1-modules>=0.2.1 in /usr/lib/python3/dist-packages (from google-auth>=1.0.1->kubernetes>=28.1.0->chromadb) (0.2.1)\n",
      "Requirement already satisfied: rsa<5,>=3.1.4 in /home/sgjang/.local/lib/python3.10/site-packages (from google-auth>=1.0.1->kubernetes>=28.1.0->chromadb) (4.9.1)\n",
      "Requirement already satisfied: fsspec>=2023.5.0 in /home/sgjang/.local/lib/python3.10/site-packages (from huggingface-hub<1.0,>=0.16.4->tokenizers>=0.13.2->chromadb) (2025.7.0)\n",
      "Requirement already satisfied: hf-xet<2.0.0,>=1.1.2 in /home/sgjang/.local/lib/python3.10/site-packages (from huggingface-hub<1.0,>=0.16.4->tokenizers>=0.13.2->chromadb) (1.1.5)\n",
      "Requirement already satisfied: filelock in /home/sgjang/.local/lib/python3.10/site-packages (from huggingface-hub<1.0,>=0.16.4->tokenizers>=0.13.2->chromadb) (3.18.0)\n",
      "Requirement already satisfied: zipp>=3.20 in /home/sgjang/.local/lib/python3.10/site-packages (from importlib-metadata<8.8.0,>=6.0->opentelemetry-api>=1.2.0->chromadb) (3.23.0)\n",
      "Requirement already satisfied: mdurl~=0.1 in /home/sgjang/.local/lib/python3.10/site-packages (from markdown-it-py>=2.2.0->rich>=10.11.0->chromadb) (0.1.2)\n",
      "Requirement already satisfied: charset_normalizer<4,>=2 in /home/sgjang/.local/lib/python3.10/site-packages (from requests->kubernetes>=28.1.0->chromadb) (3.4.2)\n",
      "Requirement already satisfied: sniffio>=1.1 in /usr/local/lib/python3.10/dist-packages (from anyio->httpx>=0.27.0->chromadb) (1.3.1)\n",
      "Requirement already satisfied: exceptiongroup>=1.0.2 in /usr/local/lib/python3.10/dist-packages (from anyio->httpx>=0.27.0->chromadb) (1.3.0)\n",
      "Requirement already satisfied: humanfriendly>=9.1 in /home/sgjang/.local/lib/python3.10/site-packages (from coloredlogs->onnxruntime>=1.14.1->chromadb) (10.0)\n",
      "Requirement already satisfied: mpmath<1.4,>=1.1.0 in /home/sgjang/.local/lib/python3.10/site-packages (from sympy->onnxruntime>=1.14.1->chromadb) (1.3.0)\n",
      "Requirement already satisfied: pyasn1>=0.1.3 in /usr/lib/python3/dist-packages (from rsa<5,>=3.1.4->google-auth>=1.0.1->kubernetes>=28.1.0->chromadb) (0.4.8)\n"
     ]
    }
   ],
   "source": [
    "!pip install -U chromadb attrs"
   ]
  },
  {
   "cell_type": "code",
   "execution_count": 18,
   "metadata": {},
   "outputs": [
    {
     "name": "stdout",
     "output_type": "stream",
     "text": [
      "Defaulting to user installation because normal site-packages is not writeable\n",
      "Requirement already satisfied: llama-index-vector-stores-chroma in /home/sgjang/.local/lib/python3.10/site-packages (0.4.2)\n",
      "Requirement already satisfied: llama-index-core<0.13,>=0.12.0 in /home/sgjang/.local/lib/python3.10/site-packages (from llama-index-vector-stores-chroma) (0.12.52)\n",
      "Requirement already satisfied: chromadb>=0.5.17 in /home/sgjang/.local/lib/python3.10/site-packages (from llama-index-vector-stores-chroma) (1.0.15)\n",
      "Requirement already satisfied: orjson>=3.9.12 in /home/sgjang/.local/lib/python3.10/site-packages (from chromadb>=0.5.17->llama-index-vector-stores-chroma) (3.11.0)\n",
      "Requirement already satisfied: grpcio>=1.58.0 in /home/sgjang/.local/lib/python3.10/site-packages (from chromadb>=0.5.17->llama-index-vector-stores-chroma) (1.73.1)\n",
      "Requirement already satisfied: opentelemetry-sdk>=1.2.0 in /home/sgjang/.local/lib/python3.10/site-packages (from chromadb>=0.5.17->llama-index-vector-stores-chroma) (1.35.0)\n",
      "Requirement already satisfied: bcrypt>=4.0.1 in /home/sgjang/.local/lib/python3.10/site-packages (from chromadb>=0.5.17->llama-index-vector-stores-chroma) (4.3.0)\n",
      "Requirement already satisfied: pydantic>=1.9 in /usr/local/lib/python3.10/dist-packages (from chromadb>=0.5.17->llama-index-vector-stores-chroma) (2.11.7)\n",
      "Requirement already satisfied: build>=1.0.3 in /home/sgjang/.local/lib/python3.10/site-packages (from chromadb>=0.5.17->llama-index-vector-stores-chroma) (1.2.2.post1)\n",
      "Requirement already satisfied: pypika>=0.48.9 in /home/sgjang/.local/lib/python3.10/site-packages (from chromadb>=0.5.17->llama-index-vector-stores-chroma) (0.48.9)\n",
      "Requirement already satisfied: typing-extensions>=4.5.0 in /usr/local/lib/python3.10/dist-packages (from chromadb>=0.5.17->llama-index-vector-stores-chroma) (4.14.1)\n",
      "Requirement already satisfied: typer>=0.9.0 in /home/sgjang/.local/lib/python3.10/site-packages (from chromadb>=0.5.17->llama-index-vector-stores-chroma) (0.16.0)\n",
      "Requirement already satisfied: opentelemetry-exporter-otlp-proto-grpc>=1.2.0 in /home/sgjang/.local/lib/python3.10/site-packages (from chromadb>=0.5.17->llama-index-vector-stores-chroma) (1.35.0)\n",
      "Requirement already satisfied: pyyaml>=6.0.0 in /home/sgjang/.local/lib/python3.10/site-packages (from chromadb>=0.5.17->llama-index-vector-stores-chroma) (6.0.2)\n",
      "Requirement already satisfied: httpx>=0.27.0 in /usr/local/lib/python3.10/dist-packages (from chromadb>=0.5.17->llama-index-vector-stores-chroma) (0.28.1)\n",
      "Requirement already satisfied: pybase64>=1.4.1 in /home/sgjang/.local/lib/python3.10/site-packages (from chromadb>=0.5.17->llama-index-vector-stores-chroma) (1.4.1)\n",
      "Requirement already satisfied: onnxruntime>=1.14.1 in /home/sgjang/.local/lib/python3.10/site-packages (from chromadb>=0.5.17->llama-index-vector-stores-chroma) (1.22.1)\n",
      "Requirement already satisfied: importlib-resources in /home/sgjang/.local/lib/python3.10/site-packages (from chromadb>=0.5.17->llama-index-vector-stores-chroma) (6.5.2)\n",
      "Requirement already satisfied: uvicorn[standard]>=0.18.3 in /home/sgjang/.local/lib/python3.10/site-packages (from chromadb>=0.5.17->llama-index-vector-stores-chroma) (0.35.0)\n",
      "Requirement already satisfied: posthog<6.0.0,>=2.4.0 in /home/sgjang/.local/lib/python3.10/site-packages (from chromadb>=0.5.17->llama-index-vector-stores-chroma) (5.4.0)\n",
      "Requirement already satisfied: kubernetes>=28.1.0 in /home/sgjang/.local/lib/python3.10/site-packages (from chromadb>=0.5.17->llama-index-vector-stores-chroma) (33.1.0)\n",
      "Requirement already satisfied: rich>=10.11.0 in /home/sgjang/.local/lib/python3.10/site-packages (from chromadb>=0.5.17->llama-index-vector-stores-chroma) (14.0.0)\n",
      "Requirement already satisfied: numpy>=1.22.5 in /home/sgjang/.local/lib/python3.10/site-packages (from chromadb>=0.5.17->llama-index-vector-stores-chroma) (2.2.6)\n",
      "Requirement already satisfied: jsonschema>=4.19.0 in /home/sgjang/.local/lib/python3.10/site-packages (from chromadb>=0.5.17->llama-index-vector-stores-chroma) (4.25.0)\n",
      "Requirement already satisfied: tokenizers>=0.13.2 in /home/sgjang/.local/lib/python3.10/site-packages (from chromadb>=0.5.17->llama-index-vector-stores-chroma) (0.21.2)\n",
      "Requirement already satisfied: opentelemetry-api>=1.2.0 in /home/sgjang/.local/lib/python3.10/site-packages (from chromadb>=0.5.17->llama-index-vector-stores-chroma) (1.35.0)\n",
      "Requirement already satisfied: tenacity>=8.2.3 in /home/sgjang/.local/lib/python3.10/site-packages (from chromadb>=0.5.17->llama-index-vector-stores-chroma) (9.1.2)\n",
      "Requirement already satisfied: mmh3>=4.0.1 in /home/sgjang/.local/lib/python3.10/site-packages (from chromadb>=0.5.17->llama-index-vector-stores-chroma) (5.1.0)\n",
      "Requirement already satisfied: tqdm>=4.65.0 in /usr/local/lib/python3.10/dist-packages (from chromadb>=0.5.17->llama-index-vector-stores-chroma) (4.67.1)\n",
      "Requirement already satisfied: overrides>=7.3.1 in /home/sgjang/.local/lib/python3.10/site-packages (from chromadb>=0.5.17->llama-index-vector-stores-chroma) (7.7.0)\n",
      "Requirement already satisfied: wrapt in /home/sgjang/.local/lib/python3.10/site-packages (from llama-index-core<0.13,>=0.12.0->llama-index-vector-stores-chroma) (1.17.2)\n",
      "Requirement already satisfied: sqlalchemy[asyncio]>=1.4.49 in /home/sgjang/.local/lib/python3.10/site-packages (from llama-index-core<0.13,>=0.12.0->llama-index-vector-stores-chroma) (2.0.41)\n",
      "Requirement already satisfied: llama-index-workflows<2,>=1.0.1 in /home/sgjang/.local/lib/python3.10/site-packages (from llama-index-core<0.13,>=0.12.0->llama-index-vector-stores-chroma) (1.1.0)\n",
      "Requirement already satisfied: banks<3,>=2.2.0 in /home/sgjang/.local/lib/python3.10/site-packages (from llama-index-core<0.13,>=0.12.0->llama-index-vector-stores-chroma) (2.2.0)\n",
      "Requirement already satisfied: networkx>=3.0 in /home/sgjang/.local/lib/python3.10/site-packages (from llama-index-core<0.13,>=0.12.0->llama-index-vector-stores-chroma) (3.4.2)\n",
      "Requirement already satisfied: tiktoken>=0.7.0 in /home/sgjang/.local/lib/python3.10/site-packages (from llama-index-core<0.13,>=0.12.0->llama-index-vector-stores-chroma) (0.9.0)\n",
      "Requirement already satisfied: setuptools>=80.9.0 in /home/sgjang/.local/lib/python3.10/site-packages (from llama-index-core<0.13,>=0.12.0->llama-index-vector-stores-chroma) (80.9.0)\n",
      "Requirement already satisfied: typing-inspect>=0.8.0 in /home/sgjang/.local/lib/python3.10/site-packages (from llama-index-core<0.13,>=0.12.0->llama-index-vector-stores-chroma) (0.9.0)\n",
      "Requirement already satisfied: filetype<2,>=1.2.0 in /home/sgjang/.local/lib/python3.10/site-packages (from llama-index-core<0.13,>=0.12.0->llama-index-vector-stores-chroma) (1.2.0)\n",
      "Requirement already satisfied: aiohttp<4,>=3.8.6 in /home/sgjang/.local/lib/python3.10/site-packages (from llama-index-core<0.13,>=0.12.0->llama-index-vector-stores-chroma) (3.12.14)\n",
      "Requirement already satisfied: fsspec>=2023.5.0 in /home/sgjang/.local/lib/python3.10/site-packages (from llama-index-core<0.13,>=0.12.0->llama-index-vector-stores-chroma) (2025.7.0)\n",
      "Requirement already satisfied: requests>=2.31.0 in /home/sgjang/.local/lib/python3.10/site-packages (from llama-index-core<0.13,>=0.12.0->llama-index-vector-stores-chroma) (2.32.4)\n",
      "Requirement already satisfied: deprecated>=1.2.9.3 in /home/sgjang/.local/lib/python3.10/site-packages (from llama-index-core<0.13,>=0.12.0->llama-index-vector-stores-chroma) (1.2.18)\n",
      "Requirement already satisfied: aiosqlite in /home/sgjang/.local/lib/python3.10/site-packages (from llama-index-core<0.13,>=0.12.0->llama-index-vector-stores-chroma) (0.21.0)\n",
      "Requirement already satisfied: pillow>=9.0.0 in /home/sgjang/.local/lib/python3.10/site-packages (from llama-index-core<0.13,>=0.12.0->llama-index-vector-stores-chroma) (11.3.0)\n",
      "Requirement already satisfied: dataclasses-json in /home/sgjang/.local/lib/python3.10/site-packages (from llama-index-core<0.13,>=0.12.0->llama-index-vector-stores-chroma) (0.6.7)\n",
      "Requirement already satisfied: nest-asyncio<2,>=1.5.8 in /home/sgjang/.local/lib/python3.10/site-packages (from llama-index-core<0.13,>=0.12.0->llama-index-vector-stores-chroma) (1.6.0)\n",
      "Requirement already satisfied: dirtyjson<2,>=1.0.8 in /home/sgjang/.local/lib/python3.10/site-packages (from llama-index-core<0.13,>=0.12.0->llama-index-vector-stores-chroma) (1.0.8)\n",
      "Requirement already satisfied: nltk>3.8.1 in /home/sgjang/.local/lib/python3.10/site-packages (from llama-index-core<0.13,>=0.12.0->llama-index-vector-stores-chroma) (3.9.1)\n",
      "Requirement already satisfied: platformdirs in /home/sgjang/.local/lib/python3.10/site-packages (from llama-index-core<0.13,>=0.12.0->llama-index-vector-stores-chroma) (4.3.8)\n",
      "Requirement already satisfied: async-timeout<6.0,>=4.0 in /home/sgjang/.local/lib/python3.10/site-packages (from aiohttp<4,>=3.8.6->llama-index-core<0.13,>=0.12.0->llama-index-vector-stores-chroma) (4.0.3)\n",
      "Requirement already satisfied: yarl<2.0,>=1.17.0 in /home/sgjang/.local/lib/python3.10/site-packages (from aiohttp<4,>=3.8.6->llama-index-core<0.13,>=0.12.0->llama-index-vector-stores-chroma) (1.20.1)\n",
      "Requirement already satisfied: frozenlist>=1.1.1 in /home/sgjang/.local/lib/python3.10/site-packages (from aiohttp<4,>=3.8.6->llama-index-core<0.13,>=0.12.0->llama-index-vector-stores-chroma) (1.7.0)\n",
      "Requirement already satisfied: aiohappyeyeballs>=2.5.0 in /home/sgjang/.local/lib/python3.10/site-packages (from aiohttp<4,>=3.8.6->llama-index-core<0.13,>=0.12.0->llama-index-vector-stores-chroma) (2.6.1)\n",
      "Requirement already satisfied: attrs>=17.3.0 in /home/sgjang/.local/lib/python3.10/site-packages (from aiohttp<4,>=3.8.6->llama-index-core<0.13,>=0.12.0->llama-index-vector-stores-chroma) (25.3.0)\n",
      "Requirement already satisfied: aiosignal>=1.4.0 in /home/sgjang/.local/lib/python3.10/site-packages (from aiohttp<4,>=3.8.6->llama-index-core<0.13,>=0.12.0->llama-index-vector-stores-chroma) (1.4.0)\n",
      "Requirement already satisfied: propcache>=0.2.0 in /home/sgjang/.local/lib/python3.10/site-packages (from aiohttp<4,>=3.8.6->llama-index-core<0.13,>=0.12.0->llama-index-vector-stores-chroma) (0.3.2)\n",
      "Requirement already satisfied: multidict<7.0,>=4.5 in /home/sgjang/.local/lib/python3.10/site-packages (from aiohttp<4,>=3.8.6->llama-index-core<0.13,>=0.12.0->llama-index-vector-stores-chroma) (6.6.3)\n",
      "Requirement already satisfied: jinja2 in /usr/lib/python3/dist-packages (from banks<3,>=2.2.0->llama-index-core<0.13,>=0.12.0->llama-index-vector-stores-chroma) (3.0.3)\n",
      "Requirement already satisfied: griffe in /home/sgjang/.local/lib/python3.10/site-packages (from banks<3,>=2.2.0->llama-index-core<0.13,>=0.12.0->llama-index-vector-stores-chroma) (1.8.0)\n",
      "Requirement already satisfied: pyproject_hooks in /home/sgjang/.local/lib/python3.10/site-packages (from build>=1.0.3->chromadb>=0.5.17->llama-index-vector-stores-chroma) (1.2.0)\n",
      "Requirement already satisfied: tomli>=1.1.0 in /home/sgjang/.local/lib/python3.10/site-packages (from build>=1.0.3->chromadb>=0.5.17->llama-index-vector-stores-chroma) (2.2.1)\n",
      "Requirement already satisfied: packaging>=19.1 in /home/sgjang/.local/lib/python3.10/site-packages (from build>=1.0.3->chromadb>=0.5.17->llama-index-vector-stores-chroma) (25.0)\n",
      "Requirement already satisfied: anyio in /usr/local/lib/python3.10/dist-packages (from httpx>=0.27.0->chromadb>=0.5.17->llama-index-vector-stores-chroma) (4.9.0)\n",
      "Requirement already satisfied: certifi in /home/sgjang/.local/lib/python3.10/site-packages (from httpx>=0.27.0->chromadb>=0.5.17->llama-index-vector-stores-chroma) (2025.7.14)\n",
      "Requirement already satisfied: idna in /usr/lib/python3/dist-packages (from httpx>=0.27.0->chromadb>=0.5.17->llama-index-vector-stores-chroma) (3.3)\n",
      "Requirement already satisfied: httpcore==1.* in /usr/local/lib/python3.10/dist-packages (from httpx>=0.27.0->chromadb>=0.5.17->llama-index-vector-stores-chroma) (1.0.9)\n",
      "Requirement already satisfied: h11>=0.16 in /usr/local/lib/python3.10/dist-packages (from httpcore==1.*->httpx>=0.27.0->chromadb>=0.5.17->llama-index-vector-stores-chroma) (0.16.0)\n",
      "Requirement already satisfied: rpds-py>=0.7.1 in /home/sgjang/.local/lib/python3.10/site-packages (from jsonschema>=4.19.0->chromadb>=0.5.17->llama-index-vector-stores-chroma) (0.26.0)\n",
      "Requirement already satisfied: jsonschema-specifications>=2023.03.6 in /home/sgjang/.local/lib/python3.10/site-packages (from jsonschema>=4.19.0->chromadb>=0.5.17->llama-index-vector-stores-chroma) (2025.4.1)\n",
      "Requirement already satisfied: referencing>=0.28.4 in /home/sgjang/.local/lib/python3.10/site-packages (from jsonschema>=4.19.0->chromadb>=0.5.17->llama-index-vector-stores-chroma) (0.36.2)\n",
      "Requirement already satisfied: python-dateutil>=2.5.3 in /home/sgjang/.local/lib/python3.10/site-packages (from kubernetes>=28.1.0->chromadb>=0.5.17->llama-index-vector-stores-chroma) (2.9.0.post0)\n",
      "Requirement already satisfied: durationpy>=0.7 in /home/sgjang/.local/lib/python3.10/site-packages (from kubernetes>=28.1.0->chromadb>=0.5.17->llama-index-vector-stores-chroma) (0.10)\n",
      "Requirement already satisfied: six>=1.9.0 in /usr/lib/python3/dist-packages (from kubernetes>=28.1.0->chromadb>=0.5.17->llama-index-vector-stores-chroma) (1.16.0)\n",
      "Requirement already satisfied: requests-oauthlib in /home/sgjang/.local/lib/python3.10/site-packages (from kubernetes>=28.1.0->chromadb>=0.5.17->llama-index-vector-stores-chroma) (2.0.0)\n",
      "Requirement already satisfied: google-auth>=1.0.1 in /home/sgjang/.local/lib/python3.10/site-packages (from kubernetes>=28.1.0->chromadb>=0.5.17->llama-index-vector-stores-chroma) (2.40.3)\n",
      "Requirement already satisfied: oauthlib>=3.2.2 in /home/sgjang/.local/lib/python3.10/site-packages (from kubernetes>=28.1.0->chromadb>=0.5.17->llama-index-vector-stores-chroma) (3.3.1)\n",
      "Requirement already satisfied: urllib3>=1.24.2 in /home/sgjang/.local/lib/python3.10/site-packages (from kubernetes>=28.1.0->chromadb>=0.5.17->llama-index-vector-stores-chroma) (2.5.0)\n",
      "Requirement already satisfied: websocket-client!=0.40.0,!=0.41.*,!=0.42.*,>=0.32.0 in /home/sgjang/.local/lib/python3.10/site-packages (from kubernetes>=28.1.0->chromadb>=0.5.17->llama-index-vector-stores-chroma) (1.8.0)\n",
      "Requirement already satisfied: llama-index-instrumentation>=0.1.0 in /home/sgjang/.local/lib/python3.10/site-packages (from llama-index-workflows<2,>=1.0.1->llama-index-core<0.13,>=0.12.0->llama-index-vector-stores-chroma) (0.3.0)\n",
      "Requirement already satisfied: click in /home/sgjang/.local/lib/python3.10/site-packages (from nltk>3.8.1->llama-index-core<0.13,>=0.12.0->llama-index-vector-stores-chroma) (8.2.1)\n",
      "Requirement already satisfied: joblib in /home/sgjang/.local/lib/python3.10/site-packages (from nltk>3.8.1->llama-index-core<0.13,>=0.12.0->llama-index-vector-stores-chroma) (1.5.1)\n",
      "Requirement already satisfied: regex>=2021.8.3 in /home/sgjang/.local/lib/python3.10/site-packages (from nltk>3.8.1->llama-index-core<0.13,>=0.12.0->llama-index-vector-stores-chroma) (2024.11.6)\n",
      "Requirement already satisfied: coloredlogs in /home/sgjang/.local/lib/python3.10/site-packages (from onnxruntime>=1.14.1->chromadb>=0.5.17->llama-index-vector-stores-chroma) (15.0.1)\n",
      "Requirement already satisfied: sympy in /home/sgjang/.local/lib/python3.10/site-packages (from onnxruntime>=1.14.1->chromadb>=0.5.17->llama-index-vector-stores-chroma) (1.14.0)\n",
      "Requirement already satisfied: protobuf in /home/sgjang/.local/lib/python3.10/site-packages (from onnxruntime>=1.14.1->chromadb>=0.5.17->llama-index-vector-stores-chroma) (6.31.1)\n",
      "Requirement already satisfied: flatbuffers in /home/sgjang/.local/lib/python3.10/site-packages (from onnxruntime>=1.14.1->chromadb>=0.5.17->llama-index-vector-stores-chroma) (25.2.10)\n",
      "Requirement already satisfied: importlib-metadata<8.8.0,>=6.0 in /home/sgjang/.local/lib/python3.10/site-packages (from opentelemetry-api>=1.2.0->chromadb>=0.5.17->llama-index-vector-stores-chroma) (8.7.0)\n",
      "Requirement already satisfied: googleapis-common-protos~=1.57 in /home/sgjang/.local/lib/python3.10/site-packages (from opentelemetry-exporter-otlp-proto-grpc>=1.2.0->chromadb>=0.5.17->llama-index-vector-stores-chroma) (1.70.0)\n",
      "Requirement already satisfied: opentelemetry-exporter-otlp-proto-common==1.35.0 in /home/sgjang/.local/lib/python3.10/site-packages (from opentelemetry-exporter-otlp-proto-grpc>=1.2.0->chromadb>=0.5.17->llama-index-vector-stores-chroma) (1.35.0)\n",
      "Requirement already satisfied: opentelemetry-proto==1.35.0 in /home/sgjang/.local/lib/python3.10/site-packages (from opentelemetry-exporter-otlp-proto-grpc>=1.2.0->chromadb>=0.5.17->llama-index-vector-stores-chroma) (1.35.0)\n",
      "Requirement already satisfied: opentelemetry-semantic-conventions==0.56b0 in /home/sgjang/.local/lib/python3.10/site-packages (from opentelemetry-sdk>=1.2.0->chromadb>=0.5.17->llama-index-vector-stores-chroma) (0.56b0)\n",
      "Requirement already satisfied: distro>=1.5.0 in /usr/lib/python3/dist-packages (from posthog<6.0.0,>=2.4.0->chromadb>=0.5.17->llama-index-vector-stores-chroma) (1.7.0)\n",
      "Requirement already satisfied: backoff>=1.10.0 in /home/sgjang/.local/lib/python3.10/site-packages (from posthog<6.0.0,>=2.4.0->chromadb>=0.5.17->llama-index-vector-stores-chroma) (2.2.1)\n",
      "Requirement already satisfied: annotated-types>=0.6.0 in /usr/local/lib/python3.10/dist-packages (from pydantic>=1.9->chromadb>=0.5.17->llama-index-vector-stores-chroma) (0.7.0)\n",
      "Requirement already satisfied: typing-inspection>=0.4.0 in /usr/local/lib/python3.10/dist-packages (from pydantic>=1.9->chromadb>=0.5.17->llama-index-vector-stores-chroma) (0.4.1)\n",
      "Requirement already satisfied: pydantic-core==2.33.2 in /usr/local/lib/python3.10/dist-packages (from pydantic>=1.9->chromadb>=0.5.17->llama-index-vector-stores-chroma) (2.33.2)\n",
      "Requirement already satisfied: charset_normalizer<4,>=2 in /home/sgjang/.local/lib/python3.10/site-packages (from requests>=2.31.0->llama-index-core<0.13,>=0.12.0->llama-index-vector-stores-chroma) (3.4.2)\n",
      "Requirement already satisfied: markdown-it-py>=2.2.0 in /home/sgjang/.local/lib/python3.10/site-packages (from rich>=10.11.0->chromadb>=0.5.17->llama-index-vector-stores-chroma) (3.0.0)\n",
      "Requirement already satisfied: pygments<3.0.0,>=2.13.0 in /home/sgjang/.local/lib/python3.10/site-packages (from rich>=10.11.0->chromadb>=0.5.17->llama-index-vector-stores-chroma) (2.19.2)\n",
      "Requirement already satisfied: greenlet>=1 in /home/sgjang/.local/lib/python3.10/site-packages (from sqlalchemy[asyncio]>=1.4.49->llama-index-core<0.13,>=0.12.0->llama-index-vector-stores-chroma) (3.2.3)\n",
      "Requirement already satisfied: huggingface-hub<1.0,>=0.16.4 in /home/sgjang/.local/lib/python3.10/site-packages (from tokenizers>=0.13.2->chromadb>=0.5.17->llama-index-vector-stores-chroma) (0.33.4)\n",
      "Requirement already satisfied: shellingham>=1.3.0 in /home/sgjang/.local/lib/python3.10/site-packages (from typer>=0.9.0->chromadb>=0.5.17->llama-index-vector-stores-chroma) (1.5.4)\n",
      "Requirement already satisfied: mypy-extensions>=0.3.0 in /home/sgjang/.local/lib/python3.10/site-packages (from typing-inspect>=0.8.0->llama-index-core<0.13,>=0.12.0->llama-index-vector-stores-chroma) (1.1.0)\n",
      "Requirement already satisfied: watchfiles>=0.13 in /home/sgjang/.local/lib/python3.10/site-packages (from uvicorn[standard]>=0.18.3->chromadb>=0.5.17->llama-index-vector-stores-chroma) (1.1.0)\n",
      "Requirement already satisfied: uvloop>=0.15.1 in /home/sgjang/.local/lib/python3.10/site-packages (from uvicorn[standard]>=0.18.3->chromadb>=0.5.17->llama-index-vector-stores-chroma) (0.21.0)\n",
      "Requirement already satisfied: websockets>=10.4 in /home/sgjang/.local/lib/python3.10/site-packages (from uvicorn[standard]>=0.18.3->chromadb>=0.5.17->llama-index-vector-stores-chroma) (15.0.1)\n",
      "Requirement already satisfied: httptools>=0.6.3 in /home/sgjang/.local/lib/python3.10/site-packages (from uvicorn[standard]>=0.18.3->chromadb>=0.5.17->llama-index-vector-stores-chroma) (0.6.4)\n",
      "Requirement already satisfied: python-dotenv>=0.13 in /home/sgjang/.local/lib/python3.10/site-packages (from uvicorn[standard]>=0.18.3->chromadb>=0.5.17->llama-index-vector-stores-chroma) (1.1.1)\n",
      "Requirement already satisfied: marshmallow<4.0.0,>=3.18.0 in /home/sgjang/.local/lib/python3.10/site-packages (from dataclasses-json->llama-index-core<0.13,>=0.12.0->llama-index-vector-stores-chroma) (3.26.1)\n",
      "Requirement already satisfied: pyasn1-modules>=0.2.1 in /usr/lib/python3/dist-packages (from google-auth>=1.0.1->kubernetes>=28.1.0->chromadb>=0.5.17->llama-index-vector-stores-chroma) (0.2.1)\n",
      "Requirement already satisfied: cachetools<6.0,>=2.0.0 in /home/sgjang/.local/lib/python3.10/site-packages (from google-auth>=1.0.1->kubernetes>=28.1.0->chromadb>=0.5.17->llama-index-vector-stores-chroma) (5.5.2)\n",
      "Requirement already satisfied: rsa<5,>=3.1.4 in /home/sgjang/.local/lib/python3.10/site-packages (from google-auth>=1.0.1->kubernetes>=28.1.0->chromadb>=0.5.17->llama-index-vector-stores-chroma) (4.9.1)\n",
      "Requirement already satisfied: filelock in /home/sgjang/.local/lib/python3.10/site-packages (from huggingface-hub<1.0,>=0.16.4->tokenizers>=0.13.2->chromadb>=0.5.17->llama-index-vector-stores-chroma) (3.18.0)\n",
      "Requirement already satisfied: hf-xet<2.0.0,>=1.1.2 in /home/sgjang/.local/lib/python3.10/site-packages (from huggingface-hub<1.0,>=0.16.4->tokenizers>=0.13.2->chromadb>=0.5.17->llama-index-vector-stores-chroma) (1.1.5)\n",
      "Requirement already satisfied: zipp>=3.20 in /home/sgjang/.local/lib/python3.10/site-packages (from importlib-metadata<8.8.0,>=6.0->opentelemetry-api>=1.2.0->chromadb>=0.5.17->llama-index-vector-stores-chroma) (3.23.0)\n",
      "Requirement already satisfied: mdurl~=0.1 in /home/sgjang/.local/lib/python3.10/site-packages (from markdown-it-py>=2.2.0->rich>=10.11.0->chromadb>=0.5.17->llama-index-vector-stores-chroma) (0.1.2)\n",
      "Requirement already satisfied: exceptiongroup>=1.0.2 in /usr/local/lib/python3.10/dist-packages (from anyio->httpx>=0.27.0->chromadb>=0.5.17->llama-index-vector-stores-chroma) (1.3.0)\n",
      "Requirement already satisfied: sniffio>=1.1 in /usr/local/lib/python3.10/dist-packages (from anyio->httpx>=0.27.0->chromadb>=0.5.17->llama-index-vector-stores-chroma) (1.3.1)\n",
      "Requirement already satisfied: humanfriendly>=9.1 in /home/sgjang/.local/lib/python3.10/site-packages (from coloredlogs->onnxruntime>=1.14.1->chromadb>=0.5.17->llama-index-vector-stores-chroma) (10.0)\n",
      "Requirement already satisfied: colorama>=0.4 in /usr/lib/python3/dist-packages (from griffe->banks<3,>=2.2.0->llama-index-core<0.13,>=0.12.0->llama-index-vector-stores-chroma) (0.4.4)\n",
      "Requirement already satisfied: mpmath<1.4,>=1.1.0 in /home/sgjang/.local/lib/python3.10/site-packages (from sympy->onnxruntime>=1.14.1->chromadb>=0.5.17->llama-index-vector-stores-chroma) (1.3.0)\n",
      "Requirement already satisfied: pyasn1>=0.1.3 in /usr/lib/python3/dist-packages (from rsa<5,>=3.1.4->google-auth>=1.0.1->kubernetes>=28.1.0->chromadb>=0.5.17->llama-index-vector-stores-chroma) (0.4.8)\n"
     ]
    }
   ],
   "source": [
    "!pip install llama-index-vector-stores-chroma"
   ]
  },
  {
   "cell_type": "code",
   "execution_count": 19,
   "metadata": {},
   "outputs": [
    {
     "name": "stdout",
     "output_type": "stream",
     "text": [
      "Defaulting to user installation because normal site-packages is not writeable\n",
      "Requirement already satisfied: chromadb in /home/sgjang/.local/lib/python3.10/site-packages (1.0.15)\n",
      "Requirement already satisfied: bcrypt>=4.0.1 in /home/sgjang/.local/lib/python3.10/site-packages (from chromadb) (4.3.0)\n",
      "Requirement already satisfied: pypika>=0.48.9 in /home/sgjang/.local/lib/python3.10/site-packages (from chromadb) (0.48.9)\n",
      "Requirement already satisfied: typer>=0.9.0 in /home/sgjang/.local/lib/python3.10/site-packages (from chromadb) (0.16.0)\n",
      "Requirement already satisfied: opentelemetry-sdk>=1.2.0 in /home/sgjang/.local/lib/python3.10/site-packages (from chromadb) (1.35.0)\n",
      "Requirement already satisfied: httpx>=0.27.0 in /usr/local/lib/python3.10/dist-packages (from chromadb) (0.28.1)\n",
      "Requirement already satisfied: onnxruntime>=1.14.1 in /home/sgjang/.local/lib/python3.10/site-packages (from chromadb) (1.22.1)\n",
      "Requirement already satisfied: tqdm>=4.65.0 in /usr/local/lib/python3.10/dist-packages (from chromadb) (4.67.1)\n",
      "Requirement already satisfied: kubernetes>=28.1.0 in /home/sgjang/.local/lib/python3.10/site-packages (from chromadb) (33.1.0)\n",
      "Requirement already satisfied: pybase64>=1.4.1 in /home/sgjang/.local/lib/python3.10/site-packages (from chromadb) (1.4.1)\n",
      "Requirement already satisfied: grpcio>=1.58.0 in /home/sgjang/.local/lib/python3.10/site-packages (from chromadb) (1.73.1)\n",
      "Requirement already satisfied: build>=1.0.3 in /home/sgjang/.local/lib/python3.10/site-packages (from chromadb) (1.2.2.post1)\n",
      "Requirement already satisfied: posthog<6.0.0,>=2.4.0 in /home/sgjang/.local/lib/python3.10/site-packages (from chromadb) (5.4.0)\n",
      "Requirement already satisfied: mmh3>=4.0.1 in /home/sgjang/.local/lib/python3.10/site-packages (from chromadb) (5.1.0)\n",
      "Requirement already satisfied: uvicorn[standard]>=0.18.3 in /home/sgjang/.local/lib/python3.10/site-packages (from chromadb) (0.35.0)\n",
      "Requirement already satisfied: numpy>=1.22.5 in /home/sgjang/.local/lib/python3.10/site-packages (from chromadb) (2.2.6)\n",
      "Requirement already satisfied: overrides>=7.3.1 in /home/sgjang/.local/lib/python3.10/site-packages (from chromadb) (7.7.0)\n",
      "Requirement already satisfied: opentelemetry-api>=1.2.0 in /home/sgjang/.local/lib/python3.10/site-packages (from chromadb) (1.35.0)\n",
      "Requirement already satisfied: importlib-resources in /home/sgjang/.local/lib/python3.10/site-packages (from chromadb) (6.5.2)\n",
      "Requirement already satisfied: jsonschema>=4.19.0 in /home/sgjang/.local/lib/python3.10/site-packages (from chromadb) (4.25.0)\n",
      "Requirement already satisfied: tokenizers>=0.13.2 in /home/sgjang/.local/lib/python3.10/site-packages (from chromadb) (0.21.2)\n",
      "Requirement already satisfied: pydantic>=1.9 in /usr/local/lib/python3.10/dist-packages (from chromadb) (2.11.7)\n",
      "Requirement already satisfied: pyyaml>=6.0.0 in /home/sgjang/.local/lib/python3.10/site-packages (from chromadb) (6.0.2)\n",
      "Requirement already satisfied: tenacity>=8.2.3 in /home/sgjang/.local/lib/python3.10/site-packages (from chromadb) (9.1.2)\n",
      "Requirement already satisfied: typing-extensions>=4.5.0 in /usr/local/lib/python3.10/dist-packages (from chromadb) (4.14.1)\n",
      "Requirement already satisfied: opentelemetry-exporter-otlp-proto-grpc>=1.2.0 in /home/sgjang/.local/lib/python3.10/site-packages (from chromadb) (1.35.0)\n",
      "Requirement already satisfied: rich>=10.11.0 in /home/sgjang/.local/lib/python3.10/site-packages (from chromadb) (14.0.0)\n",
      "Requirement already satisfied: orjson>=3.9.12 in /home/sgjang/.local/lib/python3.10/site-packages (from chromadb) (3.11.0)\n",
      "Requirement already satisfied: pyproject_hooks in /home/sgjang/.local/lib/python3.10/site-packages (from build>=1.0.3->chromadb) (1.2.0)\n",
      "Requirement already satisfied: packaging>=19.1 in /home/sgjang/.local/lib/python3.10/site-packages (from build>=1.0.3->chromadb) (25.0)\n",
      "Requirement already satisfied: tomli>=1.1.0 in /home/sgjang/.local/lib/python3.10/site-packages (from build>=1.0.3->chromadb) (2.2.1)\n",
      "Requirement already satisfied: idna in /usr/lib/python3/dist-packages (from httpx>=0.27.0->chromadb) (3.3)\n",
      "Requirement already satisfied: certifi in /home/sgjang/.local/lib/python3.10/site-packages (from httpx>=0.27.0->chromadb) (2025.7.14)\n",
      "Requirement already satisfied: anyio in /usr/local/lib/python3.10/dist-packages (from httpx>=0.27.0->chromadb) (4.9.0)\n",
      "Requirement already satisfied: httpcore==1.* in /usr/local/lib/python3.10/dist-packages (from httpx>=0.27.0->chromadb) (1.0.9)\n",
      "Requirement already satisfied: h11>=0.16 in /usr/local/lib/python3.10/dist-packages (from httpcore==1.*->httpx>=0.27.0->chromadb) (0.16.0)\n",
      "Requirement already satisfied: attrs>=22.2.0 in /home/sgjang/.local/lib/python3.10/site-packages (from jsonschema>=4.19.0->chromadb) (25.3.0)\n",
      "Requirement already satisfied: rpds-py>=0.7.1 in /home/sgjang/.local/lib/python3.10/site-packages (from jsonschema>=4.19.0->chromadb) (0.26.0)\n",
      "Requirement already satisfied: jsonschema-specifications>=2023.03.6 in /home/sgjang/.local/lib/python3.10/site-packages (from jsonschema>=4.19.0->chromadb) (2025.4.1)\n",
      "Requirement already satisfied: referencing>=0.28.4 in /home/sgjang/.local/lib/python3.10/site-packages (from jsonschema>=4.19.0->chromadb) (0.36.2)\n",
      "Requirement already satisfied: six>=1.9.0 in /usr/lib/python3/dist-packages (from kubernetes>=28.1.0->chromadb) (1.16.0)\n",
      "Requirement already satisfied: requests-oauthlib in /home/sgjang/.local/lib/python3.10/site-packages (from kubernetes>=28.1.0->chromadb) (2.0.0)\n",
      "Requirement already satisfied: python-dateutil>=2.5.3 in /home/sgjang/.local/lib/python3.10/site-packages (from kubernetes>=28.1.0->chromadb) (2.9.0.post0)\n",
      "Requirement already satisfied: durationpy>=0.7 in /home/sgjang/.local/lib/python3.10/site-packages (from kubernetes>=28.1.0->chromadb) (0.10)\n",
      "Requirement already satisfied: urllib3>=1.24.2 in /home/sgjang/.local/lib/python3.10/site-packages (from kubernetes>=28.1.0->chromadb) (2.5.0)\n",
      "Requirement already satisfied: requests in /home/sgjang/.local/lib/python3.10/site-packages (from kubernetes>=28.1.0->chromadb) (2.32.4)\n",
      "Requirement already satisfied: oauthlib>=3.2.2 in /home/sgjang/.local/lib/python3.10/site-packages (from kubernetes>=28.1.0->chromadb) (3.3.1)\n",
      "Requirement already satisfied: google-auth>=1.0.1 in /home/sgjang/.local/lib/python3.10/site-packages (from kubernetes>=28.1.0->chromadb) (2.40.3)\n",
      "Requirement already satisfied: websocket-client!=0.40.0,!=0.41.*,!=0.42.*,>=0.32.0 in /home/sgjang/.local/lib/python3.10/site-packages (from kubernetes>=28.1.0->chromadb) (1.8.0)\n",
      "Requirement already satisfied: protobuf in /home/sgjang/.local/lib/python3.10/site-packages (from onnxruntime>=1.14.1->chromadb) (6.31.1)\n",
      "Requirement already satisfied: coloredlogs in /home/sgjang/.local/lib/python3.10/site-packages (from onnxruntime>=1.14.1->chromadb) (15.0.1)\n",
      "Requirement already satisfied: sympy in /home/sgjang/.local/lib/python3.10/site-packages (from onnxruntime>=1.14.1->chromadb) (1.14.0)\n",
      "Requirement already satisfied: flatbuffers in /home/sgjang/.local/lib/python3.10/site-packages (from onnxruntime>=1.14.1->chromadb) (25.2.10)\n",
      "Requirement already satisfied: importlib-metadata<8.8.0,>=6.0 in /home/sgjang/.local/lib/python3.10/site-packages (from opentelemetry-api>=1.2.0->chromadb) (8.7.0)\n",
      "Requirement already satisfied: googleapis-common-protos~=1.57 in /home/sgjang/.local/lib/python3.10/site-packages (from opentelemetry-exporter-otlp-proto-grpc>=1.2.0->chromadb) (1.70.0)\n",
      "Requirement already satisfied: opentelemetry-exporter-otlp-proto-common==1.35.0 in /home/sgjang/.local/lib/python3.10/site-packages (from opentelemetry-exporter-otlp-proto-grpc>=1.2.0->chromadb) (1.35.0)\n",
      "Requirement already satisfied: opentelemetry-proto==1.35.0 in /home/sgjang/.local/lib/python3.10/site-packages (from opentelemetry-exporter-otlp-proto-grpc>=1.2.0->chromadb) (1.35.0)\n",
      "Requirement already satisfied: opentelemetry-semantic-conventions==0.56b0 in /home/sgjang/.local/lib/python3.10/site-packages (from opentelemetry-sdk>=1.2.0->chromadb) (0.56b0)\n",
      "Requirement already satisfied: backoff>=1.10.0 in /home/sgjang/.local/lib/python3.10/site-packages (from posthog<6.0.0,>=2.4.0->chromadb) (2.2.1)\n",
      "Requirement already satisfied: distro>=1.5.0 in /usr/lib/python3/dist-packages (from posthog<6.0.0,>=2.4.0->chromadb) (1.7.0)\n",
      "Requirement already satisfied: pydantic-core==2.33.2 in /usr/local/lib/python3.10/dist-packages (from pydantic>=1.9->chromadb) (2.33.2)\n",
      "Requirement already satisfied: typing-inspection>=0.4.0 in /usr/local/lib/python3.10/dist-packages (from pydantic>=1.9->chromadb) (0.4.1)\n",
      "Requirement already satisfied: annotated-types>=0.6.0 in /usr/local/lib/python3.10/dist-packages (from pydantic>=1.9->chromadb) (0.7.0)\n",
      "Requirement already satisfied: pygments<3.0.0,>=2.13.0 in /home/sgjang/.local/lib/python3.10/site-packages (from rich>=10.11.0->chromadb) (2.19.2)\n",
      "Requirement already satisfied: markdown-it-py>=2.2.0 in /home/sgjang/.local/lib/python3.10/site-packages (from rich>=10.11.0->chromadb) (3.0.0)\n",
      "Requirement already satisfied: huggingface-hub<1.0,>=0.16.4 in /home/sgjang/.local/lib/python3.10/site-packages (from tokenizers>=0.13.2->chromadb) (0.33.4)\n",
      "Requirement already satisfied: click>=8.0.0 in /home/sgjang/.local/lib/python3.10/site-packages (from typer>=0.9.0->chromadb) (8.2.1)\n",
      "Requirement already satisfied: shellingham>=1.3.0 in /home/sgjang/.local/lib/python3.10/site-packages (from typer>=0.9.0->chromadb) (1.5.4)\n",
      "Requirement already satisfied: websockets>=10.4 in /home/sgjang/.local/lib/python3.10/site-packages (from uvicorn[standard]>=0.18.3->chromadb) (15.0.1)\n",
      "Requirement already satisfied: httptools>=0.6.3 in /home/sgjang/.local/lib/python3.10/site-packages (from uvicorn[standard]>=0.18.3->chromadb) (0.6.4)\n",
      "Requirement already satisfied: watchfiles>=0.13 in /home/sgjang/.local/lib/python3.10/site-packages (from uvicorn[standard]>=0.18.3->chromadb) (1.1.0)\n",
      "Requirement already satisfied: python-dotenv>=0.13 in /home/sgjang/.local/lib/python3.10/site-packages (from uvicorn[standard]>=0.18.3->chromadb) (1.1.1)\n",
      "Requirement already satisfied: uvloop>=0.15.1 in /home/sgjang/.local/lib/python3.10/site-packages (from uvicorn[standard]>=0.18.3->chromadb) (0.21.0)\n",
      "Requirement already satisfied: cachetools<6.0,>=2.0.0 in /home/sgjang/.local/lib/python3.10/site-packages (from google-auth>=1.0.1->kubernetes>=28.1.0->chromadb) (5.5.2)\n",
      "Requirement already satisfied: pyasn1-modules>=0.2.1 in /usr/lib/python3/dist-packages (from google-auth>=1.0.1->kubernetes>=28.1.0->chromadb) (0.2.1)\n",
      "Requirement already satisfied: rsa<5,>=3.1.4 in /home/sgjang/.local/lib/python3.10/site-packages (from google-auth>=1.0.1->kubernetes>=28.1.0->chromadb) (4.9.1)\n",
      "Requirement already satisfied: fsspec>=2023.5.0 in /home/sgjang/.local/lib/python3.10/site-packages (from huggingface-hub<1.0,>=0.16.4->tokenizers>=0.13.2->chromadb) (2025.7.0)\n",
      "Requirement already satisfied: filelock in /home/sgjang/.local/lib/python3.10/site-packages (from huggingface-hub<1.0,>=0.16.4->tokenizers>=0.13.2->chromadb) (3.18.0)\n",
      "Requirement already satisfied: hf-xet<2.0.0,>=1.1.2 in /home/sgjang/.local/lib/python3.10/site-packages (from huggingface-hub<1.0,>=0.16.4->tokenizers>=0.13.2->chromadb) (1.1.5)\n",
      "Requirement already satisfied: zipp>=3.20 in /home/sgjang/.local/lib/python3.10/site-packages (from importlib-metadata<8.8.0,>=6.0->opentelemetry-api>=1.2.0->chromadb) (3.23.0)\n",
      "Requirement already satisfied: mdurl~=0.1 in /home/sgjang/.local/lib/python3.10/site-packages (from markdown-it-py>=2.2.0->rich>=10.11.0->chromadb) (0.1.2)\n",
      "Requirement already satisfied: charset_normalizer<4,>=2 in /home/sgjang/.local/lib/python3.10/site-packages (from requests->kubernetes>=28.1.0->chromadb) (3.4.2)\n",
      "Requirement already satisfied: sniffio>=1.1 in /usr/local/lib/python3.10/dist-packages (from anyio->httpx>=0.27.0->chromadb) (1.3.1)\n",
      "Requirement already satisfied: exceptiongroup>=1.0.2 in /usr/local/lib/python3.10/dist-packages (from anyio->httpx>=0.27.0->chromadb) (1.3.0)\n",
      "Requirement already satisfied: humanfriendly>=9.1 in /home/sgjang/.local/lib/python3.10/site-packages (from coloredlogs->onnxruntime>=1.14.1->chromadb) (10.0)\n",
      "Requirement already satisfied: mpmath<1.4,>=1.1.0 in /home/sgjang/.local/lib/python3.10/site-packages (from sympy->onnxruntime>=1.14.1->chromadb) (1.3.0)\n",
      "Requirement already satisfied: pyasn1>=0.1.3 in /usr/lib/python3/dist-packages (from rsa<5,>=3.1.4->google-auth>=1.0.1->kubernetes>=28.1.0->chromadb) (0.4.8)\n"
     ]
    }
   ],
   "source": [
    "!pip install -U chromadb"
   ]
  },
  {
   "cell_type": "code",
   "execution_count": 20,
   "metadata": {},
   "outputs": [],
   "source": [
    "import chromadb\n",
    "from llama_index.vector_stores.chroma import ChromaVectorStore\n",
    "from llama_index.core import StorageContext\n",
    "\n",
    "chroma_client = chromadb.PersistentClient()\n",
    "chroma_collection = chroma_client.create_collection(\"novels\")\n",
    "vector_store = ChromaVectorStore(chroma_collection=chroma_collection)\n",
    "storage_context = StorageContext.from_defaults(vector_store=vector_store)"
   ]
  },
  {
   "cell_type": "code",
   "execution_count": 21,
   "metadata": {},
   "outputs": [
    {
     "name": "stdout",
     "output_type": "stream",
     "text": [
      "아카키는 사무실에서 서기로서 같은 업무를 반복하며 서류를 처리하는 일을 했습니다. 그는 종이를 받으면 즉시 글씨를 써 내려갔고, 자신의 직위와 관계없이 주어진 일을 맡아 수행했습니다.\n"
     ]
    }
   ],
   "source": [
    "from llama_index.core import VectorStoreIndex, SimpleDirectoryReader\n",
    "\n",
    "documents = SimpleDirectoryReader(\"data\").load_data()\n",
    "index = VectorStoreIndex.from_documents(\n",
    "    documents, storage_context=storage_context\n",
    ")\n",
    "query_engine = index.as_query_engine()\n",
    "response = query_engine.query(\"아카키가 사무실에서 하는 일은 무엇이었나? 한국어로 답하세요.\")\n",
    "print(response)"
   ]
  },
  {
   "cell_type": "code",
   "execution_count": 22,
   "metadata": {},
   "outputs": [
    {
     "name": "stdout",
     "output_type": "stream",
     "text": [
      "소년과 소녀는 개울가에서 처음 만났습니다.\n"
     ]
    }
   ],
   "source": [
    "from llama_index.core import VectorStoreIndex, SimpleDirectoryReader\n",
    "\n",
    "documents = SimpleDirectoryReader(\"data\").load_data()\n",
    "index = VectorStoreIndex.from_documents(documents)\n",
    "query_engine = index.as_query_engine(similarity_top_k=5)\n",
    "response = query_engine.query(\"소년과 소녀는 어디에서 처음 만났나? 한국어로 답하세요.\")\n",
    "print(response)"
   ]
  },
  {
   "cell_type": "code",
   "execution_count": 23,
   "metadata": {},
   "outputs": [
    {
     "name": "stdout",
     "output_type": "stream",
     "text": [
      "'외투'는 아까끼 아까끼예비치라는 한 관료의 이야기를 중심으로 전개됩니다. 그는 자신의 낡은 외투를 가지고 있으며, 겨울철이 다가오자 새로운 외투가 필요하다는 사실을 깨닫습니다. 그러나 그는 경제적으로 어려운 상황에 처해 있어 새 외투를 맞출 여유가 없습니다. 그의 상사인 뻬뜨로비치는 그에게 새 외투를 맞추라고 강요하며, 그 비용이 50루블이 넘을 것이라고 말합니다.\n",
      "\n",
      "아까끼는 새 외투를 맞추는 것이 불가능하다고 느끼고, 결국 그는 자신의 외투를 잃게 됩니다. 외투를 빼앗긴 후, 그는 강도에게 당하고 정신을 잃습니다. 정신을 차린 후, 그는 외투가 사라졌음을 깨닫고 도움을 요청하지만, 주변 사람들은 그를 무시합니다. 결국 그는 외투를 잃은 채로 집으로 돌아가고, 그의 삶은 더욱 비참해집니다. 이 이야기는 사회적 고립과 인간의 비극적인 상황을 다루고 있습니다.\n"
     ]
    }
   ],
   "source": [
    "from llama_index.core import VectorStoreIndex, SimpleDirectoryReader\n",
    "\n",
    "documents = SimpleDirectoryReader(\"data\").load_data()\n",
    "index = VectorStoreIndex.from_documents(documents)\n",
    "query_engine = index.as_query_engine(response_mode=\"tree_summarize\")\n",
    "response = query_engine.query(\"'외투'의 줄거리를 전체적으로, 한국어로 설명해줘.\")\n",
    "print(response)"
   ]
  },
  {
   "cell_type": "code",
   "execution_count": 24,
   "metadata": {},
   "outputs": [
    {
     "name": "stdout",
     "output_type": "stream",
     "text": [
      "소녀는 소년에게 비단조개를 보여주며 그 이름이 곱다고 말했습니다."
     ]
    }
   ],
   "source": [
    "from llama_index.core import VectorStoreIndex, SimpleDirectoryReader\n",
    "\n",
    "documents = SimpleDirectoryReader(\"data\").load_data()\n",
    "index = VectorStoreIndex.from_documents(documents)\n",
    "query_engine = index.as_query_engine(streaming=True)\n",
    "response = query_engine.query(\"소녀는 소년에게 무엇을 주었나?\")\n",
    "response.print_response_stream()"
   ]
  },
  {
   "cell_type": "code",
   "execution_count": 25,
   "metadata": {},
   "outputs": [
    {
     "name": "stderr",
     "output_type": "stream",
     "text": [
      "/home/sgjang/.local/lib/python3.10/site-packages/llama_index/agent/openai/base.py:144: DeprecationWarning: Call to deprecated class OpenAIAgent. (OpenAIAgent has been deprecated and is not maintained.\n",
      "\n",
      "`FunctionAgent` is the recommended replacement.\n",
      "\n",
      "See the docs for more information on updated agent usage: https://docs.llamaindex.ai/en/stable/understanding/agent/)\n",
      "  return cls(\n",
      "/home/sgjang/.local/lib/python3.10/site-packages/deprecated/classic.py:184: DeprecationWarning: Call to deprecated class AgentRunner. (AgentRunner has been deprecated and is not maintained.\n",
      "\n",
      "This implementation will be removed in a v0.13.0.\n",
      "\n",
      "See the docs for more information on updated agent usage: https://docs.llamaindex.ai/en/stable/understanding/agent/)\n",
      "  return old_new1(cls, *args, **kwargs)\n",
      "/home/sgjang/.local/lib/python3.10/site-packages/llama_index/agent/openai/step.py:213: DeprecationWarning: Call to deprecated class OpenAIAgentWorker. (OpenAIAgentWorker has been deprecated and is not maintained.\n",
      "\n",
      "`FunctionAgent` is the recommended replacement.\n",
      "\n",
      "See the docs for more information on updated agent usage: https://docs.llamaindex.ai/en/stable/understanding/agent/)\n",
      "  return cls(\n"
     ]
    },
    {
     "name": "stdout",
     "output_type": "stream",
     "text": [
      "소년과 소녀는 개울가에서 처음 만났습니다. 소년은 물속에서 놀다가 소녀가 건너편에 앉아 물장난을 하고 있는 모습을 보고 달려갔습니다. 그들은 징검다리를 건너며 대화를 나누기 시작했고, 소녀는 소년에게 조개에 대해 질문을 하며 서로의 눈을 마주쳤습니다. 이 만남은 그들의 관계의 시작을 알리는 중요한 순간이었습니다.\n",
      "소녀는 소년에게 \"얘, 이게 무슨 조개지?\"라고 물었습니다.\n"
     ]
    }
   ],
   "source": [
    "from llama_index.core import VectorStoreIndex, SimpleDirectoryReader\n",
    "\n",
    "documents = SimpleDirectoryReader(\"data\").load_data()\n",
    "index = VectorStoreIndex.from_documents(documents)\n",
    "query_engine = index.as_chat_engine()\n",
    "response = query_engine.chat(\"소년과 소녀는 어디에서 처음 만났지? 한국어로 대답해줘.\")\n",
    "print(response)\n",
    "\n",
    "response = query_engine.chat(\"소녀는 그때 뭐라고 말했어? 한국어로 대답해줘.\")\n",
    "print(response)"
   ]
  }
 ],
 "metadata": {
  "kernelspec": {
   "display_name": "Python 3",
   "language": "python",
   "name": "python3"
  },
  "language_info": {
   "codemirror_mode": {
    "name": "ipython",
    "version": 3
   },
   "file_extension": ".py",
   "mimetype": "text/x-python",
   "name": "python",
   "nbconvert_exporter": "python",
   "pygments_lexer": "ipython3",
   "version": "3.10.12"
  }
 },
 "nbformat": 4,
 "nbformat_minor": 2
}
