{
 "cells": [
  {
   "cell_type": "code",
   "execution_count": 2,
   "metadata": {},
   "outputs": [],
   "source": [
    "import os\n",
    "from openai import OpenAI\n",
    "client = OpenAI()\n",
    "\n",
    "client.api_key = os.getenv(\"OPENAI_API_KEY\")"
   ]
  },
  {
   "cell_type": "code",
   "execution_count": 3,
   "metadata": {},
   "outputs": [
    {
     "data": {
      "text/plain": [
       "Assistant(id='asst_96eMIoS5Gxo9haKHqin4hxKr', created_at=1753248013, description=None, instructions='당신은 친절한 수학선생님입니다. 사용자가 질문하는 수학문제에 대답하기 위해 code를 작성하고 실행하세요.', metadata={}, model='gpt-4o-mini', name='수학 선생님', object='assistant', tools=[CodeInterpreterTool(type='code_interpreter')], response_format='auto', temperature=1.0, tool_resources=ToolResources(code_interpreter=ToolResourcesCodeInterpreter(file_ids=[]), file_search=None), top_p=1.0, reasoning_effort=None)"
      ]
     },
     "execution_count": 3,
     "metadata": {},
     "output_type": "execute_result"
    }
   ],
   "source": [
    "assistant = client.beta.assistants.create(\n",
    "    name=\"수학 선생님\",\n",
    "    instructions=\"당신은 친절한 수학선생님입니다. 사용자가 질문하는 수학문제에 대답하기 위해 code를 작성하고 실행하세요.\",\n",
    "    tools=[{\"type\": \"code_interpreter\"}],\n",
    "    model=\"gpt-4o-mini\"\n",
    ")\n",
    "assistant"
   ]
  },
  {
   "cell_type": "code",
   "execution_count": 4,
   "metadata": {},
   "outputs": [
    {
     "name": "stderr",
     "output_type": "stream",
     "text": [
      "/tmp/ipykernel_64186/1159370957.py:1: DeprecationWarning: The Assistants API is deprecated in favor of the Responses API\n",
      "  thread = client.beta.threads.create()\n"
     ]
    },
    {
     "data": {
      "text/plain": [
       "Thread(id='thread_bm4nWaJGP3VzijtxV3JrR2m5', created_at=1753248016, metadata={}, object='thread', tool_resources=ToolResources(code_interpreter=None, file_search=None))"
      ]
     },
     "execution_count": 4,
     "metadata": {},
     "output_type": "execute_result"
    }
   ],
   "source": [
    "thread = client.beta.threads.create()\n",
    "thread"
   ]
  },
  {
   "cell_type": "code",
   "execution_count": 5,
   "metadata": {},
   "outputs": [],
   "source": [
    "math_query = \"\"\"\n",
    "다음 다항 방정식의 근을 이분법(bisection method)으로 찾아줘.  \n",
    "반드시 Python 코드를 사용해서 아래 조건에 따라 직접 계산하고,  \n",
    "반복 과정을 표 형태로 정리해줘.  \n",
    "\n",
    "방정식:  \n",
    "x^5 - 4*x^2 + 1 = 0  \n",
    "\n",
    "조건:  \n",
    "- 해는 x ∈ [0, 2] 구간 안에 있음  \n",
    "- 오차 허용 범위: 0.000001 이하  \n",
    "- 이분법 알고리즘으로 몇 번 반복했는지, 각 단계에서 low, high, mid, f(mid) 값을 테이블로 출력  \n",
    "- 마지막에 f(mid)가 얼마나 0에 가까운지도 출력  \n",
    "- 그래프도 함께 보여줘 (함수 그래프와 근의 위치를 함께 시각화)\n",
    "\n",
    "**반드시 Python 코드를 실행해서 직접 계산한 결과만 사용해줘.**\n",
    "\"\"\""
   ]
  },
  {
   "cell_type": "code",
   "execution_count": 6,
   "metadata": {},
   "outputs": [
    {
     "name": "stderr",
     "output_type": "stream",
     "text": [
      "/tmp/ipykernel_64186/171227326.py:1: DeprecationWarning: The Assistants API is deprecated in favor of the Responses API\n",
      "  message = client.beta.threads.messages.create(\n"
     ]
    }
   ],
   "source": [
    "message = client.beta.threads.messages.create(\n",
    "    thread_id=thread.id,\n",
    "    role=\"user\",\n",
    "    content=math_query\n",
    ")"
   ]
  },
  {
   "cell_type": "code",
   "execution_count": 7,
   "metadata": {},
   "outputs": [
    {
     "name": "stderr",
     "output_type": "stream",
     "text": [
      "/tmp/ipykernel_64186/2546265667.py:1: DeprecationWarning: The Assistants API is deprecated in favor of the Responses API\n",
      "  thread_messages = client.beta.threads.messages.list(thread.id)\n"
     ]
    },
    {
     "name": "stdout",
     "output_type": "stream",
     "text": [
      "[Message(id='msg_G4iacK4I1FnOhetZl5bZ3ifT', assistant_id=None, attachments=[], completed_at=None, content=[TextContentBlock(text=Text(annotations=[], value='\\n다음 다항 방정식의 근을 이분법(bisection method)으로 찾아줘.  \\n반드시 Python 코드를 사용해서 아래 조건에 따라 직접 계산하고,  \\n반복 과정을 표 형태로 정리해줘.  \\n\\n방정식:  \\nx^5 - 4*x^2 + 1 = 0  \\n\\n조건:  \\n- 해는 x ∈ [0, 2] 구간 안에 있음  \\n- 오차 허용 범위: 0.000001 이하  \\n- 이분법 알고리즘으로 몇 번 반복했는지, 각 단계에서 low, high, mid, f(mid) 값을 테이블로 출력  \\n- 마지막에 f(mid)가 얼마나 0에 가까운지도 출력  \\n- 그래프도 함께 보여줘 (함수 그래프와 근의 위치를 함께 시각화)\\n\\n**반드시 Python 코드를 실행해서 직접 계산한 결과만 사용해줘.**\\n'), type='text')], created_at=1753248023, incomplete_at=None, incomplete_details=None, metadata={}, object='thread.message', role='user', run_id=None, status=None, thread_id='thread_bm4nWaJGP3VzijtxV3JrR2m5')]\n"
     ]
    }
   ],
   "source": [
    "thread_messages = client.beta.threads.messages.list(thread.id)\n",
    "print(thread_messages.data)"
   ]
  },
  {
   "cell_type": "code",
   "execution_count": 8,
   "metadata": {},
   "outputs": [
    {
     "name": "stderr",
     "output_type": "stream",
     "text": [
      "/tmp/ipykernel_64186/3768736031.py:1: DeprecationWarning: The Assistants API is deprecated in favor of the Responses API\n",
      "  run = client.beta.threads.runs.create(\n"
     ]
    }
   ],
   "source": [
    "run = client.beta.threads.runs.create(\n",
    "  thread_id=thread.id,\n",
    "  assistant_id=assistant.id,\n",
    "  instructions=\"수학문제에 대해 설명하고 답을 같이 말해줘.\"\n",
    ")"
   ]
  },
  {
   "cell_type": "code",
   "execution_count": 9,
   "metadata": {},
   "outputs": [
    {
     "name": "stderr",
     "output_type": "stream",
     "text": [
      "/tmp/ipykernel_64186/1699223118.py:4: DeprecationWarning: The Assistants API is deprecated in favor of the Responses API\n",
      "  run = client.beta.threads.runs.retrieve(\n"
     ]
    }
   ],
   "source": [
    "import time\n",
    "\n",
    "while run.status != \"completed\"  :\n",
    "    run = client.beta.threads.runs.retrieve(\n",
    "        thread_id=thread.id,\n",
    "        run_id=run.id\n",
    "    )\n",
    "    time.sleep(0.1)"
   ]
  },
  {
   "cell_type": "code",
   "execution_count": 10,
   "metadata": {},
   "outputs": [
    {
     "name": "stderr",
     "output_type": "stream",
     "text": [
      "/tmp/ipykernel_64186/1031825989.py:1: DeprecationWarning: The Assistants API is deprecated in favor of the Responses API\n",
      "  messages = client.beta.threads.messages.list(\n"
     ]
    }
   ],
   "source": [
    "messages = client.beta.threads.messages.list(\n",
    "  thread_id=thread.id\n",
    ")"
   ]
  },
  {
   "cell_type": "code",
   "execution_count": 11,
   "metadata": {},
   "outputs": [
    {
     "name": "stderr",
     "output_type": "stream",
     "text": [
      "/tmp/ipykernel_64186/2546265667.py:1: DeprecationWarning: The Assistants API is deprecated in favor of the Responses API\n",
      "  thread_messages = client.beta.threads.messages.list(thread.id)\n"
     ]
    },
    {
     "name": "stdout",
     "output_type": "stream",
     "text": [
      "[Message(id='msg_WQAyFLxiGvRVirrSIJeozKcm', assistant_id='asst_96eMIoS5Gxo9haKHqin4hxKr', attachments=[], completed_at=None, content=[ImageFileContentBlock(image_file=ImageFile(file_id='file-5KNf7b7n8W9PpZadJQ6LwK', detail=None), type='image_file'), TextContentBlock(text=Text(annotations=[], value='이분법을 사용하여 방정식 \\\\(x^5 - 4x^2 + 1 = 0\\\\)의 근을 구했습니다. 아래는 이분법의 진행 과정과 최종 결과입니다.\\n\\n### 반복 과정\\n| Iteration |       Low |      High |       Mid |         f(Mid)      |\\n|-----------|-----------|-----------|-----------|----------------------|\\n|     0     |  0.000000 |  2.000000 |  1.000000 | -2.000000e+00       |\\n|     1     |  0.000000 |  1.000000 |  0.500000 |  3.125000e-02       |\\n|     2     |  0.500000 |  1.000000 |  0.750000 | -1.012695e+00       |\\n|     3     |  0.500000 |  0.750000 |  0.625000 | -4.671326e-01       |\\n|     4     |  0.500000 |  0.625000 |  0.562500 | -2.093115e-01       |\\n|     5     |  0.500000 |  0.562500 |  0.531250 | -8.659121e-02       |\\n|     6     |  0.500000 |  0.531250 |  0.515625 | -2.702889e-02       |\\n|     7     |  0.500000 |  0.515625 |  0.507812 |  2.274761e-03       |\\n|     8     |  0.507812 |  0.515625 |  0.511719 | -1.233647e-02       |\\n|     9     |  0.507812 |  0.511719 |  0.509766 | -5.020651e-03       |\\n|    10     |  0.507812 |  0.509766 |  0.508789 | -1.370387e-03       |\\n|    11     |  0.507812 |  0.508789 |  0.508301 |  4.528278e-04       |\\n|    12     |  0.508301 |  0.508789 |  0.508545 | -4.586194e-04       |\\n|    13     |  0.508301 |  0.508545 |  0.508423 | -2.855804e-06       |\\n|    14     |  0.508301 |  0.508423 |  0.508362 |  2.249960e-04       |\\n|    15     |  0.508362 |  0.508423 |  0.508392 |  1.110726e-04       |\\n|    16     |  0.508392 |  0.508423 |  0.508408 |  5.410902e-05       |\\n|    17     |  0.508408 |  0.508423 |  0.508415 |  2.562676e-05       |\\n|    18     |  0.508415 |  0.508423 |  0.508419 |  1.138552e-05       |\\n|    19     |  0.508419 |  0.508423 |  0.508421 |  4.264867e-06       |\\n|    20     |  0.508421 |  0.508423 |  0.508422 |  7.045343e-07       |\\n\\n### 최종 결과\\n- 근: \\\\(x \\\\approx 0.508422\\\\)\\n- \\\\(f(Mid)\\\\)의 값: \\\\(7.045343 \\\\times 10^{-7}\\\\) (0에 매우 가깝습니다)\\n\\n### 그래프\\n함수의 그래프와 구한 근의 위치는 위 이미지에서 확인할 수 있습니다. 근의 위치는 빨간 점선으로 표시되어 있습니다.'), type='text')], created_at=1753248050, incomplete_at=None, incomplete_details=None, metadata={}, object='thread.message', role='assistant', run_id='run_h1cqhdX3CBIyoSCCp96sjslx', status=None, thread_id='thread_bm4nWaJGP3VzijtxV3JrR2m5'), Message(id='msg_G4iacK4I1FnOhetZl5bZ3ifT', assistant_id=None, attachments=[], completed_at=None, content=[TextContentBlock(text=Text(annotations=[], value='\\n다음 다항 방정식의 근을 이분법(bisection method)으로 찾아줘.  \\n반드시 Python 코드를 사용해서 아래 조건에 따라 직접 계산하고,  \\n반복 과정을 표 형태로 정리해줘.  \\n\\n방정식:  \\nx^5 - 4*x^2 + 1 = 0  \\n\\n조건:  \\n- 해는 x ∈ [0, 2] 구간 안에 있음  \\n- 오차 허용 범위: 0.000001 이하  \\n- 이분법 알고리즘으로 몇 번 반복했는지, 각 단계에서 low, high, mid, f(mid) 값을 테이블로 출력  \\n- 마지막에 f(mid)가 얼마나 0에 가까운지도 출력  \\n- 그래프도 함께 보여줘 (함수 그래프와 근의 위치를 함께 시각화)\\n\\n**반드시 Python 코드를 실행해서 직접 계산한 결과만 사용해줘.**\\n'), type='text')], created_at=1753248023, incomplete_at=None, incomplete_details=None, metadata={}, object='thread.message', role='user', run_id=None, status=None, thread_id='thread_bm4nWaJGP3VzijtxV3JrR2m5')]\n"
     ]
    }
   ],
   "source": [
    "thread_messages = client.beta.threads.messages.list(thread.id)\n",
    "print(thread_messages.data)"
   ]
  }
 ],
 "metadata": {
  "kernelspec": {
   "display_name": "Python 3",
   "language": "python",
   "name": "python3"
  },
  "language_info": {
   "codemirror_mode": {
    "name": "ipython",
    "version": 3
   },
   "file_extension": ".py",
   "mimetype": "text/x-python",
   "name": "python",
   "nbconvert_exporter": "python",
   "pygments_lexer": "ipython3",
   "version": "3.10.12"
  }
 },
 "nbformat": 4,
 "nbformat_minor": 2
}
