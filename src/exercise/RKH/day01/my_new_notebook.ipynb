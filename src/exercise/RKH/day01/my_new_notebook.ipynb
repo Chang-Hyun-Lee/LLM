{
 "cells": [
  {
   "cell_type": "code",
   "execution_count": null,
   "id": "18691539",
   "metadata": {},
   "outputs": [],
   "source": [
    "print(2+3)"
   ]
  }
 ],
 "metadata": {
  "language_info": {
   "name": "python"
  }
 },
 "nbformat": 4,
 "nbformat_minor": 5
}
