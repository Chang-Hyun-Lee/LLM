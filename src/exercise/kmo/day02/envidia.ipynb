{
 "cells": [
  {
   "cell_type": "markdown",
   "id": "a28be352",
   "metadata": {},
   "source": [
    "실습N #1: 엔비디아의 주가 데이터를 가져와서 분석하는 어플리케이션을 작성하시오."
   ]
  },
  {
   "cell_type": "code",
   "execution_count": null,
   "id": "31bb258e",
   "metadata": {},
   "outputs": [
    {
     "name": "stdout",
     "output_type": "stream",
     "text": [
      "엔비디아의 최근 10일간 주가 추이를 보면, 전반적으로 상승 추세를 보이고 있습니다. 특히 2025-07-16부터 2025-07-21까지의 5일간은 연속적인 상승을 보여주며 강한 상승 추세를 확인할 수 있습니다. \n",
      "\n",
      "주요 변동 포인트로는 2025-07-17에 시가가 전일 종가보다 크게 상승하여 개장하였고, 이날 거래량이 이전 날들에 비해 매우 높아진 것을 볼 수 있습니다. 이는 시장 참가자들의 높은 관심과 활발한 거래를 반영하며, 이에 따른 주가 상승을 이끌었을 것으로 추측됩니다.\n",
      "\n",
      "기술적 분석적인 측면에서는, 주가와 거래량의 상관관계를 볼 때, 주가 상승 시 거래량도 함께 증가하는 추세를 보이고 있습니다. 이는 상승 추세가 강하게 이어질 가능성을 시사합니다. 또한, 주가의 등락률을 보면 큰 폭의 하락 없이 안정적으로 상승하고 있는 것을 확인할 수 있습니다.\n",
      "\n",
      "하지만, 이러한 분석은 과거 데이터를 기반으로 한 것이므로, 향후 주가의 움직임을 예측하는 데에는 한계가 있음을 유의해야 합니다.\n"
     ]
    }
   ],
   "source": [
    "import os\n",
    "import openai\n",
    "from pykrx import stock\n",
    "from datetime import datetime, timedelta\n",
    "import matplotlib.pyplot as plt\n",
    "import yfinance as yf\n",
    "\n",
    "openai.api_key = os.getenv(\"OPENAI_API_KEY\")\n",
    "\n",
    "ticker = \"NVDA\"  # 에비디아 종목 코드\n",
    "nvda = yf.download(ticker, period='6mo')\n",
    "\n",
    "end_date = datetime.today()\n",
    "start_date = end_date - timedelta(days=30)  # 최근 30일간\n",
    "\n",
    "start_str = start_date.strftime('%Y%m%d')\n",
    "end_str = end_date.strftime('%Y%m%d')\n",
    "\n",
    "df = stock.get_market_ohlcv_by_date(start_str, end_str, ticker)\n",
    "\n",
    "summary_df = df.tail(10)\n",
    "summary_text = summary_df.reset_index().to_markdown(index=False)\n",
    "\n",
    "prompt = f\"\"\"\n",
    "다음은 최근 10일간 엔비디아(005930)의 주가 데이터입니다.\n",
    "{summary_text}\n",
    "이 데이터를 기반으로 엔비디아의 주가 추이를 분석해줘. 상승 혹은 하락 추세, 주요 변동 포인트, 기술적 분석적인 의견(예: 추세선, 거래량 변화, 패턴 등)을 간단히 요약해줘.\n",
    "\"\"\"\n",
    "\n",
    "response = openai.chat.completions.create(\n",
    "    model=\"gpt-4\",\n",
    "    messages=[\n",
    "        {\"role\": \"system\", \"content\": \"당신은 금융 시장 분석 전문가입니다.\"},\n",
    "        {\"role\": \"user\", \"content\": prompt}\n",
    "    ],\n",
    "    temperature=0,\n",
    "    max_tokens=1024,\n",
    "    top_p=1,\n",
    "    frequency_penalty=0,\n",
    "    presence_penalty=0\n",
    ")\n",
    "\n",
    "print(response.choices[0].message.content)"
   ]
  }
 ],
 "metadata": {
  "kernelspec": {
   "display_name": "Python 3",
   "language": "python",
   "name": "python3"
  },
  "language_info": {
   "codemirror_mode": {
    "name": "ipython",
    "version": 3
   },
   "file_extension": ".py",
   "mimetype": "text/x-python",
   "name": "python",
   "nbconvert_exporter": "python",
   "pygments_lexer": "ipython3",
   "version": "3.10.12"
  }
 },
 "nbformat": 4,
 "nbformat_minor": 5
}
