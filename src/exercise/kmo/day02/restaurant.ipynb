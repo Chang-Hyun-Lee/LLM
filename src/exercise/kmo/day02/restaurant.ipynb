{
 "cells": [
  {
   "cell_type": "markdown",
   "id": "ced42c67",
   "metadata": {},
   "source": [
    "실습N #2: 사용자가 입력한 지역과 질문에 맞는 지역 음식점을 검색해서 추천하는 어플리케이션을 작성하시오.\n",
    "예) 판교에 있는 괜찮은 이탈리안 식당을 몇개 추천해줄래?"
   ]
  },
  {
   "cell_type": "code",
   "execution_count": null,
   "id": "aa8e2ebd",
   "metadata": {},
   "outputs": [
    {
     "name": "stdout",
     "output_type": "stream",
     "text": [
      "검색된 음식점이 없습니다. 다른 지역이나 음식 종류를 입력해주세요.\n"
     ]
    }
   ],
   "source": [
    "import requests\n",
    "import openai\n",
    "import os\n",
    "\n",
    "# ==== 사용자 입력 ====\n",
    "region = input(\"지역을 입력하세요 (예: 강남역, 부산 해운대 등): \")\n",
    "food_type = input(\"음식 종류를 입력하세요 (예: 한식, 일식, 고기 등): \")\n",
    "\n",
    "# ==== 설정 ====\n",
    "KAKAO_API_KEY = \"d451a44400e161bb68d466933d9d\"\n",
    "#OPENAI_API_KEY = \"YOUR_OPENAI_API_KEY\"\n",
    "openai.api_key = os.getenv(\"OPENAI_API_KEY\")\n",
    "\n",
    "# ==== 1. 카카오 API로 음식점 검색 ====\n",
    "def search_places(region, food_type):\n",
    "    url = \"https://dapi.kakao.com/v2/local/search/keyword.json\"\n",
    "    headers = {\"Authorization\": f\"KakaoAK {KAKAO_API_KEY}\"}\n",
    "    query = f\"{region} {food_type} 맛집\"\n",
    "    params = {\"query\": query, \"size\": 10}\n",
    "\n",
    "    response = requests.get(url, headers=headers, params=params)\n",
    "    data = response.json()\n",
    "\n",
    "    places = []\n",
    "    for doc in data.get(\"documents\", []):\n",
    "        places.append({\n",
    "            \"name\": doc[\"place_name\"],\n",
    "            \"address\": doc[\"road_address_name\"],\n",
    "            \"phone\": doc[\"phone\"],\n",
    "            \"category\": doc[\"category_name\"]\n",
    "        })\n",
    "    return places\n",
    "\n",
    "# ==== 2. GPT에게 추천 설명 요청 ====\n",
    "def recommend_places_with_llm(places, region, food_type):\n",
    "    prompt = f\"\"\"\n",
    "사용자가 {region} 지역에서 {food_type}을(를) 찾고 있습니다.\n",
    "다음은 해당 지역의 추천 음식점 목록입니다:\n",
    "\n",
    "{places}\n",
    "\n",
    "이 중에서 추천할 만한 음식점을 3개 뽑아 설명과 함께 추천해주세요.\n",
    "설명은 맛, 분위기, 위치 등을 포함해서 작성해주세요.\n",
    "\"\"\"\n",
    "\n",
    "    response = openai.chat.completions.create(\n",
    "        model=\"gpt-3.5-turbo\",  # 또는 \"gpt-3.5-turbo\"\n",
    "        messages=[{\"role\": \"user\", \"content\": prompt}],\n",
    "        temperature=0.7\n",
    "    )\n",
    "\n",
    "    return response.choices[0].message.content\n",
    "\n",
    "# ==== 3. 실행 ====\n",
    "places = search_places(region, food_type)\n",
    "\n",
    "if not places:\n",
    "    print(\"검색된 음식점이 없습니다. 다른 지역이나 음식 종류를 입력해주세요.\")\n",
    "else:\n",
    "    llm_response = recommend_places_with_llm(places, region, food_type)\n",
    "    print(\"\\n📌 추천 결과:\\n\")\n",
    "    print(llm_response)"
   ]
  }
 ],
 "metadata": {
  "kernelspec": {
   "display_name": "Python 3",
   "language": "python",
   "name": "python3"
  },
  "language_info": {
   "codemirror_mode": {
    "name": "ipython",
    "version": 3
   },
   "file_extension": ".py",
   "mimetype": "text/x-python",
   "name": "python",
   "nbconvert_exporter": "python",
   "pygments_lexer": "ipython3",
   "version": "3.10.12"
  }
 },
 "nbformat": 4,
 "nbformat_minor": 5
}
