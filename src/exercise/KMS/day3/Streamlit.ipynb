{
 "cells": [
  {
   "cell_type": "code",
   "execution_count": 34,
   "id": "1cc04eb1",
   "metadata": {},
   "outputs": [
    {
     "name": "stderr",
     "output_type": "stream",
     "text": [
      "2025-07-23 09:35:44.053 Thread 'MainThread': missing ScriptRunContext! This warning can be ignored when running in bare mode.\n"
     ]
    }
   ],
   "source": [
    "if st.session_state['assistant']:\n",
    "    for i in range(len(st.session_state['assistant'])-1, -1, -1):\n",
    "        message(st.session_state['user'][i], is_user=True, key=str(i) + '_user')\n",
    "        message(st.session_state[\"assistant\"][i], key=str(i))\n"
   ]
  },
  {
   "cell_type": "code",
   "execution_count": 35,
   "id": "bb4586b1",
   "metadata": {},
   "outputs": [
    {
     "name": "stderr",
     "output_type": "stream",
     "text": [
      "2025-07-23 09:35:44.061 Thread 'MainThread': missing ScriptRunContext! This warning can be ignored when running in bare mode.\n",
      "2025-07-23 09:35:44.061 Thread 'MainThread': missing ScriptRunContext! This warning can be ignored when running in bare mode.\n",
      "2025-07-23 09:35:44.062 Thread 'MainThread': missing ScriptRunContext! This warning can be ignored when running in bare mode.\n",
      "2025-07-23 09:35:44.063 Thread 'MainThread': missing ScriptRunContext! This warning can be ignored when running in bare mode.\n",
      "2025-07-23 09:35:44.063 Thread 'MainThread': missing ScriptRunContext! This warning can be ignored when running in bare mode.\n",
      "2025-07-23 09:35:44.064 Thread 'MainThread': missing ScriptRunContext! This warning can be ignored when running in bare mode.\n",
      "2025-07-23 09:35:44.064 Thread 'MainThread': missing ScriptRunContext! This warning can be ignored when running in bare mode.\n",
      "2025-07-23 09:35:44.065 Thread 'MainThread': missing ScriptRunContext! This warning can be ignored when running in bare mode.\n",
      "2025-07-23 09:35:44.065 Thread 'MainThread': missing ScriptRunContext! This warning can be ignored when running in bare mode.\n",
      "2025-07-23 09:35:44.065 Thread 'MainThread': missing ScriptRunContext! This warning can be ignored when running in bare mode.\n",
      "2025-07-23 09:35:44.066 Thread 'MainThread': missing ScriptRunContext! This warning can be ignored when running in bare mode.\n",
      "2025-07-23 09:35:44.066 Thread 'MainThread': missing ScriptRunContext! This warning can be ignored when running in bare mode.\n",
      "2025-07-23 09:35:44.066 Thread 'MainThread': missing ScriptRunContext! This warning can be ignored when running in bare mode.\n",
      "2025-07-23 09:35:44.067 Thread 'MainThread': missing ScriptRunContext! This warning can be ignored when running in bare mode.\n",
      "2025-07-23 09:35:44.067 Thread 'MainThread': missing ScriptRunContext! This warning can be ignored when running in bare mode.\n",
      "2025-07-23 09:35:44.068 Thread 'MainThread': missing ScriptRunContext! This warning can be ignored when running in bare mode.\n",
      "2025-07-23 09:35:44.068 Thread 'MainThread': missing ScriptRunContext! This warning can be ignored when running in bare mode.\n"
     ]
    }
   ],
   "source": [
    "if 'assistant' not in st.session_state:\n",
    "    st.session_state['assistant'] = []\n",
    "\n",
    "if 'user' not in st.session_state:\n",
    "    st.session_state['user'] = []\n",
    "\n",
    "with st.form('form', clear_on_submit=True):\n",
    "    user_input = st.text_area('입력: ', '', key='input',height=200)\n",
    "    submitted = st.form_submit_button('전송')\n",
    "    if submitted and user_input:\n",
    "        with st.spinner(\"대기중...\"):\n",
    "\n",
    "            completion_executor = CompletionExecutor()\n",
    "\n",
    "            preset_text = [{\"role\":\"system\",\"content\":\"\"},{\"role\":\"user\",\"content\":user_input}]\n",
    "            request_data = {\n",
    "                'messages': preset_text,\n",
    "                'topP': 0.8,\n",
    "                'topK': 0,\n",
    "                'maxTokens': 300,\n",
    "                'temperature': 0.3,\n",
    "                'repeatPenalty': 5.0,\n",
    "                'stopBefore': [],\n",
    "                'includeAiFilters': True,\n",
    "                'seed': 0\n",
    "            }\n",
    "\n",
    "            response_text=completion_executor.execute(request_data)\n",
    "\n",
    "            # 대화 기록 유지\n",
    "            st.session_state.user.append(user_input)\n",
    "            st.session_state.assistant.append(response_text)"
   ]
  },
  {
   "cell_type": "code",
   "execution_count": 36,
   "id": "d460e7dd",
   "metadata": {},
   "outputs": [
    {
     "name": "stderr",
     "output_type": "stream",
     "text": [
      "2025-07-23 09:35:44.073 Thread 'MainThread': missing ScriptRunContext! This warning can be ignored when running in bare mode.\n",
      "2025-07-23 09:35:44.074 Thread 'MainThread': missing ScriptRunContext! This warning can be ignored when running in bare mode.\n",
      "2025-07-23 09:35:44.074 Thread 'MainThread': missing ScriptRunContext! This warning can be ignored when running in bare mode.\n"
     ]
    },
    {
     "data": {
      "text/plain": [
       "DeltaGenerator(_form_data=FormData(form_id='form'))"
      ]
     },
     "execution_count": 36,
     "metadata": {},
     "output_type": "execute_result"
    }
   ],
   "source": [
    "class CompletionExecutor:\n",
    "    def __init__(self):\n",
    "        # .env 파일 로드 (API 키 준비)\n",
    "        load_dotenv()\n",
    "\n",
    "        self._clovastudio_api_key = os.getenv('CLOVASTUDIO_API_KEY')\n",
    "        self._apigw_api_key = os.getenv('APIGW_API_KEY')\n",
    "\n",
    "    def execute(self, request_data):\n",
    "        headers = {\n",
    "            'X-NCP-CLOVASTUDIO-API-KEY': self._clovastudio_api_key,\n",
    "            'X-NCP-APIGW-API-KEY': self._apigw_api_key,\n",
    "            'Content-Type': 'application/json; charset=utf-8',\n",
    "        }\n",
    "        response = requests.post('https://clovastudio.stream.ntruss.com/testapp/v1/chat-completions/HCX-003',headers=headers, json=request_data, stream=False)\n",
    "        json_data = json.loads(response.text)\n",
    "\n",
    "        return json_data['result']['message']['content']\n",
    "\n",
    "st.title(\"HyperCLOVA X 챗봇 만들기\")"
   ]
  },
  {
   "cell_type": "code",
   "execution_count": 37,
   "id": "a96d2db9",
   "metadata": {},
   "outputs": [],
   "source": [
    "import json\n",
    "import os\n",
    "\n",
    "import requests\n",
    "import streamlit as st\n",
    "from dotenv import load_dotenv\n",
    "from streamlit_chat import message"
   ]
  },
  {
   "cell_type": "code",
   "execution_count": 38,
   "id": "0f230f9f",
   "metadata": {},
   "outputs": [
    {
     "name": "stdout",
     "output_type": "stream",
     "text": [
      "Defaulting to user installation because normal site-packages is not writeable\n",
      "Requirement already satisfied: streamlit in /home/kkimmu/.local/lib/python3.10/site-packages (1.47.0)\n",
      "Requirement already satisfied: numpy<3,>=1.23 in /home/kkimmu/.local/lib/python3.10/site-packages (from streamlit) (1.26.4)\n",
      "Requirement already satisfied: pillow<12,>=7.1.0 in /home/kkimmu/.local/lib/python3.10/site-packages (from streamlit) (11.3.0)\n",
      "Requirement already satisfied: watchdog<7,>=2.1.5 in /home/kkimmu/.local/lib/python3.10/site-packages (from streamlit) (6.0.0)\n",
      "Requirement already satisfied: pydeck<1,>=0.8.0b4 in /home/kkimmu/.local/lib/python3.10/site-packages (from streamlit) (0.9.1)\n",
      "Requirement already satisfied: tornado!=6.5.0,<7,>=6.0.3 in /home/kkimmu/.local/lib/python3.10/site-packages (from streamlit) (6.5.1)\n",
      "Requirement already satisfied: gitpython!=3.1.19,<4,>=3.0.7 in /home/kkimmu/.local/lib/python3.10/site-packages (from streamlit) (3.1.44)\n",
      "Requirement already satisfied: pandas<3,>=1.4.0 in /home/kkimmu/.local/lib/python3.10/site-packages (from streamlit) (2.3.1)\n",
      "Requirement already satisfied: blinker<2,>=1.5.0 in /home/kkimmu/.local/lib/python3.10/site-packages (from streamlit) (1.9.0)\n",
      "Requirement already satisfied: tenacity<10,>=8.1.0 in /home/kkimmu/.local/lib/python3.10/site-packages (from streamlit) (9.1.2)\n",
      "Requirement already satisfied: cachetools<7,>=4.0 in /home/kkimmu/.local/lib/python3.10/site-packages (from streamlit) (6.1.0)\n",
      "Requirement already satisfied: requests<3,>=2.27 in /home/kkimmu/.local/lib/python3.10/site-packages (from streamlit) (2.32.4)\n",
      "Requirement already satisfied: altair<6,>=4.0 in /home/kkimmu/.local/lib/python3.10/site-packages (from streamlit) (5.5.0)\n",
      "Requirement already satisfied: protobuf<7,>=3.20 in /home/kkimmu/.local/lib/python3.10/site-packages (from streamlit) (5.29.5)\n",
      "Requirement already satisfied: pyarrow>=7.0 in /home/kkimmu/.local/lib/python3.10/site-packages (from streamlit) (21.0.0)\n",
      "Requirement already satisfied: click<9,>=7.0 in /usr/lib/python3/dist-packages (from streamlit) (8.0.3)\n",
      "Requirement already satisfied: typing-extensions<5,>=4.4.0 in /home/kkimmu/.local/lib/python3.10/site-packages (from streamlit) (4.14.1)\n",
      "Requirement already satisfied: toml<2,>=0.10.1 in /home/kkimmu/.local/lib/python3.10/site-packages (from streamlit) (0.10.2)\n",
      "Requirement already satisfied: packaging<26,>=20 in /home/kkimmu/.local/lib/python3.10/site-packages (from streamlit) (25.0)\n",
      "Requirement already satisfied: jinja2 in /usr/lib/python3/dist-packages (from altair<6,>=4.0->streamlit) (3.0.3)\n",
      "Requirement already satisfied: jsonschema>=3.0 in /usr/lib/python3/dist-packages (from altair<6,>=4.0->streamlit) (3.2.0)\n",
      "Requirement already satisfied: narwhals>=1.14.2 in /home/kkimmu/.local/lib/python3.10/site-packages (from altair<6,>=4.0->streamlit) (1.48.0)\n",
      "Requirement already satisfied: gitdb<5,>=4.0.1 in /home/kkimmu/.local/lib/python3.10/site-packages (from gitpython!=3.1.19,<4,>=3.0.7->streamlit) (4.0.12)\n",
      "Requirement already satisfied: tzdata>=2022.7 in /home/kkimmu/.local/lib/python3.10/site-packages (from pandas<3,>=1.4.0->streamlit) (2025.2)\n",
      "Requirement already satisfied: pytz>=2020.1 in /home/kkimmu/.local/lib/python3.10/site-packages (from pandas<3,>=1.4.0->streamlit) (2025.2)\n",
      "Requirement already satisfied: python-dateutil>=2.8.2 in /home/kkimmu/.local/lib/python3.10/site-packages (from pandas<3,>=1.4.0->streamlit) (2.9.0.post0)\n",
      "Requirement already satisfied: charset_normalizer<4,>=2 in /home/kkimmu/.local/lib/python3.10/site-packages (from requests<3,>=2.27->streamlit) (3.4.2)\n",
      "Requirement already satisfied: idna<4,>=2.5 in /usr/lib/python3/dist-packages (from requests<3,>=2.27->streamlit) (3.3)\n",
      "Requirement already satisfied: urllib3<3,>=1.21.1 in /home/kkimmu/.local/lib/python3.10/site-packages (from requests<3,>=2.27->streamlit) (2.5.0)\n",
      "Requirement already satisfied: certifi>=2017.4.17 in /home/kkimmu/.local/lib/python3.10/site-packages (from requests<3,>=2.27->streamlit) (2025.7.14)\n",
      "Requirement already satisfied: smmap<6,>=3.0.1 in /home/kkimmu/.local/lib/python3.10/site-packages (from gitdb<5,>=4.0.1->gitpython!=3.1.19,<4,>=3.0.7->streamlit) (5.0.2)\n",
      "Requirement already satisfied: six>=1.5 in /usr/lib/python3/dist-packages (from python-dateutil>=2.8.2->pandas<3,>=1.4.0->streamlit) (1.16.0)\n",
      "Defaulting to user installation because normal site-packages is not writeable\n",
      "Requirement already satisfied: streamlit-chat in /home/kkimmu/.local/lib/python3.10/site-packages (0.1.1)\n",
      "Requirement already satisfied: streamlit>=0.63 in /home/kkimmu/.local/lib/python3.10/site-packages (from streamlit-chat) (1.47.0)\n",
      "Requirement already satisfied: cachetools<7,>=4.0 in /home/kkimmu/.local/lib/python3.10/site-packages (from streamlit>=0.63->streamlit-chat) (6.1.0)\n",
      "Requirement already satisfied: pyarrow>=7.0 in /home/kkimmu/.local/lib/python3.10/site-packages (from streamlit>=0.63->streamlit-chat) (21.0.0)\n",
      "Requirement already satisfied: requests<3,>=2.27 in /home/kkimmu/.local/lib/python3.10/site-packages (from streamlit>=0.63->streamlit-chat) (2.32.4)\n",
      "Requirement already satisfied: click<9,>=7.0 in /usr/lib/python3/dist-packages (from streamlit>=0.63->streamlit-chat) (8.0.3)\n",
      "Requirement already satisfied: packaging<26,>=20 in /home/kkimmu/.local/lib/python3.10/site-packages (from streamlit>=0.63->streamlit-chat) (25.0)\n",
      "Requirement already satisfied: watchdog<7,>=2.1.5 in /home/kkimmu/.local/lib/python3.10/site-packages (from streamlit>=0.63->streamlit-chat) (6.0.0)\n",
      "Requirement already satisfied: toml<2,>=0.10.1 in /home/kkimmu/.local/lib/python3.10/site-packages (from streamlit>=0.63->streamlit-chat) (0.10.2)\n",
      "Requirement already satisfied: pydeck<1,>=0.8.0b4 in /home/kkimmu/.local/lib/python3.10/site-packages (from streamlit>=0.63->streamlit-chat) (0.9.1)\n",
      "Requirement already satisfied: pillow<12,>=7.1.0 in /home/kkimmu/.local/lib/python3.10/site-packages (from streamlit>=0.63->streamlit-chat) (11.3.0)\n",
      "Requirement already satisfied: tornado!=6.5.0,<7,>=6.0.3 in /home/kkimmu/.local/lib/python3.10/site-packages (from streamlit>=0.63->streamlit-chat) (6.5.1)\n",
      "Requirement already satisfied: tenacity<10,>=8.1.0 in /home/kkimmu/.local/lib/python3.10/site-packages (from streamlit>=0.63->streamlit-chat) (9.1.2)\n",
      "Requirement already satisfied: pandas<3,>=1.4.0 in /home/kkimmu/.local/lib/python3.10/site-packages (from streamlit>=0.63->streamlit-chat) (2.3.1)\n",
      "Requirement already satisfied: numpy<3,>=1.23 in /home/kkimmu/.local/lib/python3.10/site-packages (from streamlit>=0.63->streamlit-chat) (1.26.4)\n",
      "Requirement already satisfied: typing-extensions<5,>=4.4.0 in /home/kkimmu/.local/lib/python3.10/site-packages (from streamlit>=0.63->streamlit-chat) (4.14.1)\n",
      "Requirement already satisfied: gitpython!=3.1.19,<4,>=3.0.7 in /home/kkimmu/.local/lib/python3.10/site-packages (from streamlit>=0.63->streamlit-chat) (3.1.44)\n",
      "Requirement already satisfied: altair<6,>=4.0 in /home/kkimmu/.local/lib/python3.10/site-packages (from streamlit>=0.63->streamlit-chat) (5.5.0)\n",
      "Requirement already satisfied: blinker<2,>=1.5.0 in /home/kkimmu/.local/lib/python3.10/site-packages (from streamlit>=0.63->streamlit-chat) (1.9.0)\n",
      "Requirement already satisfied: protobuf<7,>=3.20 in /home/kkimmu/.local/lib/python3.10/site-packages (from streamlit>=0.63->streamlit-chat) (5.29.5)\n",
      "Requirement already satisfied: jinja2 in /usr/lib/python3/dist-packages (from altair<6,>=4.0->streamlit>=0.63->streamlit-chat) (3.0.3)\n",
      "Requirement already satisfied: narwhals>=1.14.2 in /home/kkimmu/.local/lib/python3.10/site-packages (from altair<6,>=4.0->streamlit>=0.63->streamlit-chat) (1.48.0)\n",
      "Requirement already satisfied: jsonschema>=3.0 in /usr/lib/python3/dist-packages (from altair<6,>=4.0->streamlit>=0.63->streamlit-chat) (3.2.0)\n",
      "Requirement already satisfied: gitdb<5,>=4.0.1 in /home/kkimmu/.local/lib/python3.10/site-packages (from gitpython!=3.1.19,<4,>=3.0.7->streamlit>=0.63->streamlit-chat) (4.0.12)\n",
      "Requirement already satisfied: tzdata>=2022.7 in /home/kkimmu/.local/lib/python3.10/site-packages (from pandas<3,>=1.4.0->streamlit>=0.63->streamlit-chat) (2025.2)\n",
      "Requirement already satisfied: python-dateutil>=2.8.2 in /home/kkimmu/.local/lib/python3.10/site-packages (from pandas<3,>=1.4.0->streamlit>=0.63->streamlit-chat) (2.9.0.post0)\n",
      "Requirement already satisfied: pytz>=2020.1 in /home/kkimmu/.local/lib/python3.10/site-packages (from pandas<3,>=1.4.0->streamlit>=0.63->streamlit-chat) (2025.2)\n",
      "Requirement already satisfied: charset_normalizer<4,>=2 in /home/kkimmu/.local/lib/python3.10/site-packages (from requests<3,>=2.27->streamlit>=0.63->streamlit-chat) (3.4.2)\n",
      "Requirement already satisfied: urllib3<3,>=1.21.1 in /home/kkimmu/.local/lib/python3.10/site-packages (from requests<3,>=2.27->streamlit>=0.63->streamlit-chat) (2.5.0)\n",
      "Requirement already satisfied: idna<4,>=2.5 in /usr/lib/python3/dist-packages (from requests<3,>=2.27->streamlit>=0.63->streamlit-chat) (3.3)\n",
      "Requirement already satisfied: certifi>=2017.4.17 in /home/kkimmu/.local/lib/python3.10/site-packages (from requests<3,>=2.27->streamlit>=0.63->streamlit-chat) (2025.7.14)\n",
      "Requirement already satisfied: smmap<6,>=3.0.1 in /home/kkimmu/.local/lib/python3.10/site-packages (from gitdb<5,>=4.0.1->gitpython!=3.1.19,<4,>=3.0.7->streamlit>=0.63->streamlit-chat) (5.0.2)\n",
      "Requirement already satisfied: six>=1.5 in /usr/lib/python3/dist-packages (from python-dateutil>=2.8.2->pandas<3,>=1.4.0->streamlit>=0.63->streamlit-chat) (1.16.0)\n"
     ]
    }
   ],
   "source": [
    "!pip install streamlit\n",
    "!pip install streamlit-chat"
   ]
  },
  {
   "cell_type": "code",
   "execution_count": 39,
   "id": "ba4597a5",
   "metadata": {},
   "outputs": [
    {
     "name": "stdout",
     "output_type": "stream",
     "text": [
      "* Running on local URL:  http://127.0.0.1:7862\n",
      "* To create a public link, set `share=True` in `launch()`.\n"
     ]
    },
    {
     "data": {
      "text/html": [
       "<div><iframe src=\"http://127.0.0.1:7862/\" width=\"100%\" height=\"500\" allow=\"autoplay; camera; microphone; clipboard-read; clipboard-write;\" frameborder=\"0\" allowfullscreen></iframe></div>"
      ],
      "text/plain": [
       "<IPython.core.display.HTML object>"
      ]
     },
     "metadata": {},
     "output_type": "display_data"
    },
    {
     "data": {
      "text/plain": []
     },
     "execution_count": 39,
     "metadata": {},
     "output_type": "execute_result"
    }
   ],
   "source": [
    "app = gr.Interface(fn=user_greeting, inputs=\"text\", outputs=\"text\")\n",
    "app.launch()"
   ]
  },
  {
   "cell_type": "code",
   "execution_count": 40,
   "id": "17ea7244",
   "metadata": {},
   "outputs": [
    {
     "name": "stdout",
     "output_type": "stream",
     "text": [
      "* Running on local URL:  http://127.0.0.1:7863\n",
      "* To create a public link, set `share=True` in `launch()`.\n"
     ]
    },
    {
     "data": {
      "text/html": [
       "<div><iframe src=\"http://127.0.0.1:7863/\" width=\"100%\" height=\"500\" allow=\"autoplay; camera; microphone; clipboard-read; clipboard-write;\" frameborder=\"0\" allowfullscreen></iframe></div>"
      ],
      "text/plain": [
       "<IPython.core.display.HTML object>"
      ]
     },
     "metadata": {},
     "output_type": "display_data"
    },
    {
     "data": {
      "text/plain": []
     },
     "execution_count": 40,
     "metadata": {},
     "output_type": "execute_result"
    }
   ],
   "source": [
    "import gradio as gr\n",
    "\n",
    "def user_greeting(name):\n",
    "    return \"안녕하세요! \" + name + \"님, 첫 번째 Gradio 애플리케이션에 오신 것을 환영합니다!😎\"\n",
    "\n",
    "app = gr.Interface(fn=user_greeting, inputs=\"text\", outputs=\"text\")\n",
    "app.launch()"
   ]
  },
  {
   "cell_type": "code",
   "execution_count": 41,
   "id": "4d665929",
   "metadata": {},
   "outputs": [
    {
     "name": "stdout",
     "output_type": "stream",
     "text": [
      "Defaulting to user installation because normal site-packages is not writeable\n",
      "Requirement already satisfied: gradio in /home/kkimmu/.local/lib/python3.10/site-packages (5.38.0)\n",
      "Requirement already satisfied: pydub in /home/kkimmu/.local/lib/python3.10/site-packages (from gradio) (0.25.1)\n",
      "Requirement already satisfied: fastapi<1.0,>=0.115.2 in /home/kkimmu/.local/lib/python3.10/site-packages (from gradio) (0.116.1)\n",
      "Requirement already satisfied: safehttpx<0.2.0,>=0.1.6 in /home/kkimmu/.local/lib/python3.10/site-packages (from gradio) (0.1.6)\n",
      "Requirement already satisfied: numpy<3.0,>=1.0 in /home/kkimmu/.local/lib/python3.10/site-packages (from gradio) (1.26.4)\n",
      "Requirement already satisfied: typer<1.0,>=0.12 in /home/kkimmu/.local/lib/python3.10/site-packages (from gradio) (0.16.0)\n",
      "Requirement already satisfied: pydantic<2.12,>=2.0 in /home/kkimmu/.local/lib/python3.10/site-packages (from gradio) (2.11.7)\n",
      "Requirement already satisfied: orjson~=3.0 in /home/kkimmu/.local/lib/python3.10/site-packages (from gradio) (3.11.0)\n",
      "Requirement already satisfied: httpx<1.0,>=0.24.1 in /home/kkimmu/.local/lib/python3.10/site-packages (from gradio) (0.28.1)\n",
      "Requirement already satisfied: huggingface-hub>=0.28.1 in /home/kkimmu/.local/lib/python3.10/site-packages (from gradio) (0.33.4)\n",
      "Requirement already satisfied: ruff>=0.9.3 in /home/kkimmu/.local/lib/python3.10/site-packages (from gradio) (0.12.4)\n",
      "Requirement already satisfied: packaging in /home/kkimmu/.local/lib/python3.10/site-packages (from gradio) (25.0)\n",
      "Requirement already satisfied: pandas<3.0,>=1.0 in /home/kkimmu/.local/lib/python3.10/site-packages (from gradio) (2.3.1)\n",
      "Requirement already satisfied: jinja2<4.0 in /usr/lib/python3/dist-packages (from gradio) (3.0.3)\n",
      "Requirement already satisfied: brotli>=1.1.0 in /home/kkimmu/.local/lib/python3.10/site-packages (from gradio) (1.1.0)\n",
      "Requirement already satisfied: groovy~=0.1 in /home/kkimmu/.local/lib/python3.10/site-packages (from gradio) (0.1.2)\n",
      "Requirement already satisfied: pyyaml<7.0,>=5.0 in /usr/lib/python3/dist-packages (from gradio) (5.4.1)\n",
      "Requirement already satisfied: pillow<12.0,>=8.0 in /home/kkimmu/.local/lib/python3.10/site-packages (from gradio) (11.3.0)\n",
      "Requirement already satisfied: markupsafe<4.0,>=2.0 in /usr/lib/python3/dist-packages (from gradio) (2.0.1)\n",
      "Requirement already satisfied: tomlkit<0.14.0,>=0.12.0 in /home/kkimmu/.local/lib/python3.10/site-packages (from gradio) (0.13.3)\n",
      "Requirement already satisfied: gradio-client==1.11.0 in /home/kkimmu/.local/lib/python3.10/site-packages (from gradio) (1.11.0)\n",
      "Requirement already satisfied: uvicorn>=0.14.0 in /home/kkimmu/.local/lib/python3.10/site-packages (from gradio) (0.35.0)\n",
      "Requirement already satisfied: starlette<1.0,>=0.40.0 in /home/kkimmu/.local/lib/python3.10/site-packages (from gradio) (0.47.2)\n",
      "Requirement already satisfied: typing-extensions~=4.0 in /home/kkimmu/.local/lib/python3.10/site-packages (from gradio) (4.14.1)\n",
      "Requirement already satisfied: ffmpy in /home/kkimmu/.local/lib/python3.10/site-packages (from gradio) (0.6.0)\n",
      "Requirement already satisfied: python-multipart>=0.0.18 in /home/kkimmu/.local/lib/python3.10/site-packages (from gradio) (0.0.20)\n",
      "Requirement already satisfied: anyio<5.0,>=3.0 in /home/kkimmu/.local/lib/python3.10/site-packages (from gradio) (4.9.0)\n",
      "Requirement already satisfied: semantic-version~=2.0 in /home/kkimmu/.local/lib/python3.10/site-packages (from gradio) (2.10.0)\n",
      "Requirement already satisfied: aiofiles<25.0,>=22.0 in /home/kkimmu/.local/lib/python3.10/site-packages (from gradio) (24.1.0)\n",
      "Requirement already satisfied: websockets<16.0,>=10.0 in /home/kkimmu/.local/lib/python3.10/site-packages (from gradio-client==1.11.0->gradio) (15.0.1)\n",
      "Requirement already satisfied: fsspec in /home/kkimmu/.local/lib/python3.10/site-packages (from gradio-client==1.11.0->gradio) (2025.7.0)\n",
      "Requirement already satisfied: exceptiongroup>=1.0.2 in /home/kkimmu/.local/lib/python3.10/site-packages (from anyio<5.0,>=3.0->gradio) (1.3.0)\n",
      "Requirement already satisfied: sniffio>=1.1 in /home/kkimmu/.local/lib/python3.10/site-packages (from anyio<5.0,>=3.0->gradio) (1.3.1)\n",
      "Requirement already satisfied: idna>=2.8 in /usr/lib/python3/dist-packages (from anyio<5.0,>=3.0->gradio) (3.3)\n",
      "Requirement already satisfied: certifi in /home/kkimmu/.local/lib/python3.10/site-packages (from httpx<1.0,>=0.24.1->gradio) (2025.7.14)\n",
      "Requirement already satisfied: httpcore==1.* in /home/kkimmu/.local/lib/python3.10/site-packages (from httpx<1.0,>=0.24.1->gradio) (1.0.9)\n",
      "Requirement already satisfied: h11>=0.16 in /home/kkimmu/.local/lib/python3.10/site-packages (from httpcore==1.*->httpx<1.0,>=0.24.1->gradio) (0.16.0)\n",
      "Requirement already satisfied: filelock in /home/kkimmu/.local/lib/python3.10/site-packages (from huggingface-hub>=0.28.1->gradio) (3.18.0)\n",
      "Requirement already satisfied: tqdm>=4.42.1 in /home/kkimmu/.local/lib/python3.10/site-packages (from huggingface-hub>=0.28.1->gradio) (4.67.1)\n",
      "Requirement already satisfied: requests in /home/kkimmu/.local/lib/python3.10/site-packages (from huggingface-hub>=0.28.1->gradio) (2.32.4)\n",
      "Requirement already satisfied: hf-xet<2.0.0,>=1.1.2 in /home/kkimmu/.local/lib/python3.10/site-packages (from huggingface-hub>=0.28.1->gradio) (1.1.5)\n",
      "Requirement already satisfied: pytz>=2020.1 in /home/kkimmu/.local/lib/python3.10/site-packages (from pandas<3.0,>=1.0->gradio) (2025.2)\n",
      "Requirement already satisfied: tzdata>=2022.7 in /home/kkimmu/.local/lib/python3.10/site-packages (from pandas<3.0,>=1.0->gradio) (2025.2)\n",
      "Requirement already satisfied: python-dateutil>=2.8.2 in /home/kkimmu/.local/lib/python3.10/site-packages (from pandas<3.0,>=1.0->gradio) (2.9.0.post0)\n",
      "Requirement already satisfied: annotated-types>=0.6.0 in /home/kkimmu/.local/lib/python3.10/site-packages (from pydantic<2.12,>=2.0->gradio) (0.7.0)\n",
      "Requirement already satisfied: typing-inspection>=0.4.0 in /home/kkimmu/.local/lib/python3.10/site-packages (from pydantic<2.12,>=2.0->gradio) (0.4.1)\n",
      "Requirement already satisfied: pydantic-core==2.33.2 in /home/kkimmu/.local/lib/python3.10/site-packages (from pydantic<2.12,>=2.0->gradio) (2.33.2)\n",
      "Requirement already satisfied: shellingham>=1.3.0 in /home/kkimmu/.local/lib/python3.10/site-packages (from typer<1.0,>=0.12->gradio) (1.5.4)\n",
      "Requirement already satisfied: rich>=10.11.0 in /home/kkimmu/.local/lib/python3.10/site-packages (from typer<1.0,>=0.12->gradio) (14.0.0)\n",
      "Requirement already satisfied: click>=8.0.0 in /usr/lib/python3/dist-packages (from typer<1.0,>=0.12->gradio) (8.0.3)\n",
      "Requirement already satisfied: six>=1.5 in /usr/lib/python3/dist-packages (from python-dateutil>=2.8.2->pandas<3.0,>=1.0->gradio) (1.16.0)\n",
      "Requirement already satisfied: markdown-it-py>=2.2.0 in /home/kkimmu/.local/lib/python3.10/site-packages (from rich>=10.11.0->typer<1.0,>=0.12->gradio) (3.0.0)\n",
      "Requirement already satisfied: pygments<3.0.0,>=2.13.0 in /home/kkimmu/.local/lib/python3.10/site-packages (from rich>=10.11.0->typer<1.0,>=0.12->gradio) (2.19.2)\n",
      "Requirement already satisfied: charset_normalizer<4,>=2 in /home/kkimmu/.local/lib/python3.10/site-packages (from requests->huggingface-hub>=0.28.1->gradio) (3.4.2)\n",
      "Requirement already satisfied: urllib3<3,>=1.21.1 in /home/kkimmu/.local/lib/python3.10/site-packages (from requests->huggingface-hub>=0.28.1->gradio) (2.5.0)\n",
      "Requirement already satisfied: mdurl~=0.1 in /home/kkimmu/.local/lib/python3.10/site-packages (from markdown-it-py>=2.2.0->rich>=10.11.0->typer<1.0,>=0.12->gradio) (0.1.2)\n"
     ]
    }
   ],
   "source": [
    "!pip install gradio"
   ]
  }
 ],
 "metadata": {
  "kernelspec": {
   "display_name": "Python 3",
   "language": "python",
   "name": "python3"
  },
  "language_info": {
   "codemirror_mode": {
    "name": "ipython",
    "version": 3
   },
   "file_extension": ".py",
   "mimetype": "text/x-python",
   "name": "python",
   "nbconvert_exporter": "python",
   "pygments_lexer": "ipython3",
   "version": "3.10.12"
  }
 },
 "nbformat": 4,
 "nbformat_minor": 5
}
