{
 "cells": [
  {
   "cell_type": "code",
   "execution_count": 6,
   "id": "e1372063",
   "metadata": {},
   "outputs": [
    {
     "ename": "SyntaxError",
     "evalue": "invalid syntax (2773187961.py, line 1)",
     "output_type": "error",
     "traceback": [
      "\u001b[0;36m  Cell \u001b[0;32mIn[6], line 1\u001b[0;36m\u001b[0m\n\u001b[0;31m    streamlit hello\u001b[0m\n\u001b[0m              ^\u001b[0m\n\u001b[0;31mSyntaxError\u001b[0m\u001b[0;31m:\u001b[0m invalid syntax\n"
     ]
    }
   ],
   "source": [
    "streamlit hello"
   ]
  },
  {
   "cell_type": "code",
   "execution_count": 5,
   "id": "51b9d05d",
   "metadata": {},
   "outputs": [
    {
     "name": "stdout",
     "output_type": "stream",
     "text": [
      "Defaulting to user installation because normal site-packages is not writeable\n",
      "Requirement already satisfied: streamlit in /home/kkimmu/.local/lib/python3.10/site-packages (1.47.0)\n",
      "Requirement already satisfied: toml<2,>=0.10.1 in /home/kkimmu/.local/lib/python3.10/site-packages (from streamlit) (0.10.2)\n",
      "Requirement already satisfied: altair<6,>=4.0 in /home/kkimmu/.local/lib/python3.10/site-packages (from streamlit) (5.5.0)\n",
      "Requirement already satisfied: typing-extensions<5,>=4.4.0 in /home/kkimmu/.local/lib/python3.10/site-packages (from streamlit) (4.14.1)\n",
      "Requirement already satisfied: tenacity<10,>=8.1.0 in /home/kkimmu/.local/lib/python3.10/site-packages (from streamlit) (9.1.2)\n",
      "Requirement already satisfied: numpy<3,>=1.23 in /home/kkimmu/.local/lib/python3.10/site-packages (from streamlit) (1.26.4)\n",
      "Requirement already satisfied: click<9,>=7.0 in /usr/lib/python3/dist-packages (from streamlit) (8.0.3)\n",
      "Requirement already satisfied: packaging<26,>=20 in /home/kkimmu/.local/lib/python3.10/site-packages (from streamlit) (25.0)\n",
      "Requirement already satisfied: requests<3,>=2.27 in /home/kkimmu/.local/lib/python3.10/site-packages (from streamlit) (2.32.4)\n",
      "Requirement already satisfied: gitpython!=3.1.19,<4,>=3.0.7 in /home/kkimmu/.local/lib/python3.10/site-packages (from streamlit) (3.1.44)\n",
      "Requirement already satisfied: pydeck<1,>=0.8.0b4 in /home/kkimmu/.local/lib/python3.10/site-packages (from streamlit) (0.9.1)\n",
      "Requirement already satisfied: tornado!=6.5.0,<7,>=6.0.3 in /home/kkimmu/.local/lib/python3.10/site-packages (from streamlit) (6.5.1)\n",
      "Requirement already satisfied: cachetools<7,>=4.0 in /home/kkimmu/.local/lib/python3.10/site-packages (from streamlit) (6.1.0)\n",
      "Requirement already satisfied: blinker<2,>=1.5.0 in /home/kkimmu/.local/lib/python3.10/site-packages (from streamlit) (1.9.0)\n",
      "Requirement already satisfied: pandas<3,>=1.4.0 in /home/kkimmu/.local/lib/python3.10/site-packages (from streamlit) (2.3.1)\n",
      "Requirement already satisfied: pillow<12,>=7.1.0 in /home/kkimmu/.local/lib/python3.10/site-packages (from streamlit) (11.3.0)\n",
      "Requirement already satisfied: pyarrow>=7.0 in /home/kkimmu/.local/lib/python3.10/site-packages (from streamlit) (21.0.0)\n",
      "Requirement already satisfied: protobuf<7,>=3.20 in /home/kkimmu/.local/lib/python3.10/site-packages (from streamlit) (5.29.5)\n",
      "Requirement already satisfied: watchdog<7,>=2.1.5 in /home/kkimmu/.local/lib/python3.10/site-packages (from streamlit) (6.0.0)\n",
      "Requirement already satisfied: narwhals>=1.14.2 in /home/kkimmu/.local/lib/python3.10/site-packages (from altair<6,>=4.0->streamlit) (1.48.0)\n",
      "Requirement already satisfied: jsonschema>=3.0 in /usr/lib/python3/dist-packages (from altair<6,>=4.0->streamlit) (3.2.0)\n",
      "Requirement already satisfied: jinja2 in /usr/lib/python3/dist-packages (from altair<6,>=4.0->streamlit) (3.0.3)\n",
      "Requirement already satisfied: gitdb<5,>=4.0.1 in /home/kkimmu/.local/lib/python3.10/site-packages (from gitpython!=3.1.19,<4,>=3.0.7->streamlit) (4.0.12)\n",
      "Requirement already satisfied: python-dateutil>=2.8.2 in /home/kkimmu/.local/lib/python3.10/site-packages (from pandas<3,>=1.4.0->streamlit) (2.9.0.post0)\n",
      "Requirement already satisfied: tzdata>=2022.7 in /home/kkimmu/.local/lib/python3.10/site-packages (from pandas<3,>=1.4.0->streamlit) (2025.2)\n",
      "Requirement already satisfied: pytz>=2020.1 in /home/kkimmu/.local/lib/python3.10/site-packages (from pandas<3,>=1.4.0->streamlit) (2025.2)\n",
      "Requirement already satisfied: urllib3<3,>=1.21.1 in /home/kkimmu/.local/lib/python3.10/site-packages (from requests<3,>=2.27->streamlit) (2.5.0)\n",
      "Requirement already satisfied: idna<4,>=2.5 in /usr/lib/python3/dist-packages (from requests<3,>=2.27->streamlit) (3.3)\n",
      "Requirement already satisfied: charset_normalizer<4,>=2 in /home/kkimmu/.local/lib/python3.10/site-packages (from requests<3,>=2.27->streamlit) (3.4.2)\n",
      "Requirement already satisfied: certifi>=2017.4.17 in /home/kkimmu/.local/lib/python3.10/site-packages (from requests<3,>=2.27->streamlit) (2025.7.14)\n",
      "Requirement already satisfied: smmap<6,>=3.0.1 in /home/kkimmu/.local/lib/python3.10/site-packages (from gitdb<5,>=4.0.1->gitpython!=3.1.19,<4,>=3.0.7->streamlit) (5.0.2)\n",
      "Requirement already satisfied: six>=1.5 in /usr/lib/python3/dist-packages (from python-dateutil>=2.8.2->pandas<3,>=1.4.0->streamlit) (1.16.0)\n"
     ]
    }
   ],
   "source": [
    "!pip install streamlit"
   ]
  }
 ],
 "metadata": {
  "kernelspec": {
   "display_name": "Python 3",
   "language": "python",
   "name": "python3"
  },
  "language_info": {
   "codemirror_mode": {
    "name": "ipython",
    "version": 3
   },
   "file_extension": ".py",
   "mimetype": "text/x-python",
   "name": "python",
   "nbconvert_exporter": "python",
   "pygments_lexer": "ipython3",
   "version": "3.10.12"
  }
 },
 "nbformat": 4,
 "nbformat_minor": 5
}
