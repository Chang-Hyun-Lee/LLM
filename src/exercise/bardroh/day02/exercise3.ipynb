{
 "cells": [
  {
   "cell_type": "code",
   "execution_count": 8,
   "id": "ed5fb77c",
   "metadata": {},
   "outputs": [
    {
     "name": "stderr",
     "output_type": "stream",
     "text": [
      "/tmp/ipykernel_66899/3298509608.py:36: UserWarning: You have not specified a value for the `type` parameter. Defaulting to the 'tuples' format for chatbot messages, but this is deprecated and will be removed in a future version of Gradio. Please set type='messages' instead, which uses openai-style dictionaries with 'role' and 'content' keys.\n",
      "  chatbot = gr.Chatbot()\n"
     ]
    },
    {
     "name": "stdout",
     "output_type": "stream",
     "text": [
      "* Running on local URL:  http://127.0.0.1:7867\n",
      "* To create a public link, set `share=True` in `launch()`.\n"
     ]
    },
    {
     "data": {
      "text/html": [
       "<div><iframe src=\"http://127.0.0.1:7867/\" width=\"100%\" height=\"500\" allow=\"autoplay; camera; microphone; clipboard-read; clipboard-write;\" frameborder=\"0\" allowfullscreen></iframe></div>"
      ],
      "text/plain": [
       "<IPython.core.display.HTML object>"
      ]
     },
     "metadata": {},
     "output_type": "display_data"
    }
   ],
   "source": [
    "import os\n",
    "import openai\n",
    "import gradio as gr\n",
    "\n",
    "# OpenAI API 키 설정\n",
    "openai.api_key = os.getenv(\"OPENAI_API_KEY\")\n",
    "if openai.api_key is None:\n",
    "    raise ValueError(\"❌ OPENAI_API_KEY 환경변수가 설정되지 않았습니다.\")\n",
    "\n",
    "# Gradio interface 함수\n",
    "def respond(user_message, chat_history):\n",
    "    # 기존 채팅 기록에 사용자 메시지 추가\n",
    "    chat_history.append((user_message, \"\"))\n",
    "    messages = []\n",
    "    \n",
    "    # 채팅 기록을 OpenAI API 형식으로 변환\n",
    "    for user, assistant in chat_history:\n",
    "        messages.append({\"role\": \"user\", \"content\": user})\n",
    "        if assistant:  # 빈 응답이 아닌 경우만 추가\n",
    "            messages.append({\"role\": \"assistant\", \"content\": assistant})\n",
    "    \n",
    "    # 응답 생성 및 스트리밍\n",
    "    bot_response = \"\"\n",
    "    for chunk in openai.chat.completions.create(\n",
    "        model=\"gpt-4\",\n",
    "        messages=messages,\n",
    "        stream=True,\n",
    "    ):\n",
    "        if chunk.choices[0].delta.content:\n",
    "            bot_response += chunk.choices[0].delta.content\n",
    "            chat_history[-1] = (user_message, bot_response)\n",
    "            yield chat_history\n",
    "\n",
    "# Gradio 인터페이스 설정\n",
    "with gr.Blocks() as demo:\n",
    "    chatbot = gr.Chatbot()\n",
    "    msg = gr.Textbox(placeholder=\"메시지를 입력하세요...\", show_label=False, lines=1)\n",
    "    clear = gr.Button(\"대화 초기화\")\n",
    "    \n",
    "    msg.submit(respond, [msg, chatbot], chatbot)\n",
    "    msg.submit(lambda: \"\", None, msg, queue=False)  # 입력 필드 비우기\n",
    "    clear.click(lambda: [], None, chatbot, queue=False)  # 대화 초기화\n",
    "\n",
    "if __name__ == \"__main__\":\n",
    "    demo.launch()"
   ]
  },
  {
   "cell_type": "code",
   "execution_count": null,
   "id": "f066450b",
   "metadata": {},
   "outputs": [],
   "source": []
  }
 ],
 "metadata": {
  "kernelspec": {
   "display_name": ".venv",
   "language": "python",
   "name": "python3"
  },
  "language_info": {
   "codemirror_mode": {
    "name": "ipython",
    "version": 3
   },
   "file_extension": ".py",
   "mimetype": "text/x-python",
   "name": "python",
   "nbconvert_exporter": "python",
   "pygments_lexer": "ipython3",
   "version": "3.10.12"
  }
 },
 "nbformat": 4,
 "nbformat_minor": 5
}
