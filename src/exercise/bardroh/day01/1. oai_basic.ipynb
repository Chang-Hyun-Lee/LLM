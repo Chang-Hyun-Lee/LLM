{
 "cells": [
  {
   "cell_type": "code",
   "execution_count": 1,
   "id": "fb0a2acc-ddb1-40a3-9bb1-8c1043765ca8",
   "metadata": {},
   "outputs": [
    {
     "name": "stdout",
     "output_type": "stream",
     "text": [
      "\n",
      "\n",
      "こんにちは？今日の天気はとても良いですね！\n"
     ]
    }
   ],
   "source": [
    "# Completion mode, 지시와 명령을 하나의 prompt로 전달\n",
    "import os\n",
    "import openai\n",
    "\n",
    "openai.api_key = os.getenv(\"OPENAI_API_KEY\")\n",
    "# 텍스트 생성 요청을 보냅니다.\n",
    "response = openai.completions.create(\n",
    "    model=\"gpt-3.5-turbo-instruct\",\n",
    "    prompt = \"다음을 일본어로 번역하세요: 안녕하세요? 오늘 날씨가 참 좋군요!\",\n",
    "    max_tokens=256,  # 생성된 텍스트의 최대 길이를 설정합니다.\n",
    ")\n",
    "\n",
    "print(response.choices[0].text)"
   ]
  },
  {
   "cell_type": "code",
   "execution_count": 2,
   "id": "05033272-a0dd-4806-8b19-762587718e55",
   "metadata": {},
   "outputs": [
    {
     "name": "stdout",
     "output_type": "stream",
     "text": [
      " 무엇을 먹어야 할까?\n",
      "\n",
      "1. 단백질이 풍부한 음식을 섭취해야 함\n",
      "\n",
      "근육을 구성하는 주요 성분은 단백질이다. 따라서 근육을 더 크게 만들기 위해서는 단백질을 풍부하게 함유한 음식을 섭취해야 한다. 닭가슴살, 소고기, 계란, 콩, 견과류 등이 좋은 단백질 공급원이다.\n",
      "\n",
      "2. 탄수화물도 중요\n",
      "\n",
      "근육을 무너뜨리지 않고 지탱하기 위해서는 탄수화물이 필수적이다. 영양가 높은 탄수화물을 공급받기 위해 간단한 설탕 대신 옥수수, 귀리,\n"
     ]
    }
   ],
   "source": [
    "# Completion mode, 문장을 이어서 완성하게 함\n",
    "import os\n",
    "import openai\n",
    "\n",
    "openai.api_key = os.getenv(\"OPENAI_API_KEY\")\n",
    "# 텍스트 생성 요청을 보냅니다.\n",
    "response = openai.completions.create(\n",
    "    model=\"gpt-3.5-turbo-instruct\",\n",
    "    prompt=\"근육이 커지려면\",\n",
    "    max_tokens=256,  # 생성된 텍스트의 최대 길이를 설정합니다.\n",
    ")\n",
    "\n",
    "# 생성된 텍스트를 출력합니다.\n",
    "print(response.choices[0].text)"
   ]
  },
  {
   "cell_type": "code",
   "execution_count": 3,
   "id": "e43ac887",
   "metadata": {},
   "outputs": [
    {
     "name": "stdout",
     "output_type": "stream",
     "text": [
      "Completion(id='cmpl-Bw1y6d3aDzTeLwfBQfwAlkfDhI1cz', choices=[CompletionChoice(finish_reason='length', index=0, logprobs=None, text=' 무엇을 먹어야 할까?\\n\\n1. 단백질이 풍부한 음식을 섭취해야 함\\n\\n근육을 구성하는 주요 성분은 단백질이다. 따라서 근육을 더 크게 만들기 위해서는 단백질을 풍부하게 함유한 음식을 섭취해야 한다. 닭가슴살, 소고기, 계란, 콩, 견과류 등이 좋은 단백질 공급원이다.\\n\\n2. 탄수화물도 중요\\n\\n근육을 무너뜨리지 않고 지탱하기 위해서는 탄수화물이 필수적이다. 영양가 높은 탄수화물을 공급받기 위해 간단한 설탕 대신 옥수수, 귀리,')], created=1753170290, model='gpt-3.5-turbo-instruct:20230824-v2', object='text_completion', system_fingerprint=None, usage=CompletionUsage(completion_tokens=256, prompt_tokens=11, total_tokens=267, completion_tokens_details=None, prompt_tokens_details=None))\n"
     ]
    }
   ],
   "source": [
    "print(response)"
   ]
  },
  {
   "cell_type": "code",
   "execution_count": 4,
   "id": "5b74d5c7-caab-4632-ac69-2f420969f13f",
   "metadata": {},
   "outputs": [
    {
     "name": "stdout",
     "output_type": "stream",
     "text": [
      "こんにちは？今日は天気がとてもいいですね！\n"
     ]
    }
   ],
   "source": [
    "# 표준적인 Chat completion mode\n",
    "\n",
    "import openai\n",
    "\n",
    "res = openai.chat.completions.create(\n",
    "  model=\"gpt-4o-mini\",\n",
    "  messages=[{\"role\": \"user\", \"content\": \"다음을 일본어로 번역하세요: 안녕하세요? 오늘 날씨가 참 좋군요!\"}]\n",
    ")\n",
    "print(res.choices[0].message.content)"
   ]
  },
  {
   "cell_type": "code",
   "execution_count": 7,
   "id": "b02d0eef-20b7-449a-b893-ae51f4da32ff",
   "metadata": {},
   "outputs": [
    {
     "name": "stdout",
     "output_type": "stream",
     "text": [
      "ChatCompletion(id='chatcmpl-BvcIwY231nnPnyEpSc7Wc9clPghhu', choices=[Choice(finish_reason='stop', index=0, logprobs=None, message=ChatCompletionMessage(content='안녕하세요? 오늘 날씨가 참 좋군요!를 일본어로 번역하면 다음과 같습니다:\\n\\nこんにちは！今日は本当に天気がいいですね！', refusal=None, role='assistant', annotations=[], audio=None, function_call=None, tool_calls=None))], created=1753071638, model='gpt-4o-mini-2024-07-18', object='chat.completion', service_tier='default', system_fingerprint=None, usage=CompletionUsage(completion_tokens=34, prompt_tokens=28, total_tokens=62, completion_tokens_details=CompletionTokensDetails(accepted_prediction_tokens=0, audio_tokens=0, reasoning_tokens=0, rejected_prediction_tokens=0), prompt_tokens_details=PromptTokensDetails(audio_tokens=0, cached_tokens=0)))\n"
     ]
    }
   ],
   "source": [
    "print(res)"
   ]
  }
 ],
 "metadata": {
  "kernelspec": {
   "display_name": "Python 3",
   "language": "python",
   "name": "python3"
  },
  "language_info": {
   "codemirror_mode": {
    "name": "ipython",
    "version": 3
   },
   "file_extension": ".py",
   "mimetype": "text/x-python",
   "name": "python",
   "nbconvert_exporter": "python",
   "pygments_lexer": "ipython3",
   "version": "3.10.12"
  }
 },
 "nbformat": 4,
 "nbformat_minor": 5
}
