{
 "cells": [
  {
   "cell_type": "code",
   "execution_count": 1,
   "metadata": {},
   "outputs": [],
   "source": [
    "import langgraph\n",
    "from langchain.chat_models import ChatOpenAI\n",
    "from langchain.schema import SystemMessage, HumanMessage"
   ]
  },
  {
   "cell_type": "code",
   "execution_count": 2,
   "metadata": {},
   "outputs": [
    {
     "name": "stderr",
     "output_type": "stream",
     "text": [
      "/tmp/ipykernel_20475/3971565783.py:3: LangChainDeprecationWarning: The class `ChatOpenAI` was deprecated in LangChain 0.0.10 and will be removed in 1.0. An updated version of the class exists in the :class:`~langchain-openai package and should be used instead. To use it run `pip install -U :class:`~langchain-openai` and import as `from :class:`~langchain_openai import ChatOpenAI``.\n",
      "  llm = ChatOpenAI(model=os.getenv(\"OPENAI_DEFAULT_MODEL\"))\n"
     ]
    }
   ],
   "source": [
    "import os\n",
    "\n",
    "llm = ChatOpenAI(model=os.getenv(\"OPENAI_DEFAULT_MODEL\"))"
   ]
  },
  {
   "cell_type": "code",
   "execution_count": 3,
   "metadata": {},
   "outputs": [],
   "source": [
    "def code_style_check(inputs):\n",
    "    code = inputs[\"code\"]\n",
    "    prompt = (\n",
    "        \"다음 코드의 스타일을 점검하고 PEP8 준수 여부를 확인하세요:\\n\" + code\n",
    "    )\n",
    "    response = llm.invoke([HumanMessage(content=prompt)])\n",
    "    inputs[\"style_feedback\"] = response.content\n",
    "    return inputs\n",
    "\n",
    "def bug_detection(inputs):\n",
    "    code = inputs[\"code\"]\n",
    "    prompt = (\n",
    "        \"다음 코드에서 잠재적인 버그나 논리적 오류를 찾아 설명하세요:\\n\" + code\n",
    "    )\n",
    "    response = llm.invoke([HumanMessage(content=prompt)])\n",
    "    inputs[\"bug_feedback\"] = response.content\n",
    "    return inputs\n",
    "\n",
    "def optimization_suggestions(inputs):\n",
    "    code = inputs[\"code\"]\n",
    "    prompt = (\n",
    "        \"다음 코드를 더 효율적으로 최적화할 수 있는 방법을 제안하세요:\\n\" + code\n",
    "    )\n",
    "    response = llm.invoke([HumanMessage(content=prompt)])\n",
    "    inputs[\"optimization_feedback\"] = response.content\n",
    "    return inputs\n",
    "\n",
    "def aggregate_feedback(inputs):\n",
    "    code = inputs[\"code\"]\n",
    "    feedback = (\n",
    "        \"코드 스타일 피드백:\\n\" + inputs[\"style_feedback\"] + \"\\n\\n\"\n",
    "        \"버그 가능성 분석:\\n\" + inputs[\"bug_feedback\"] + \"\\n\\n\"\n",
    "        \"최적화 제안:\\n\" + inputs[\"optimization_feedback\"]\n",
    "    )\n",
    "    prompt = (\n",
    "        \"다음 코드와 피드백을 바탕으로 개선된 코드를 작성하세요. 반드시 코드만 출력해야 합니다.\\n\" + \\\n",
    "            \"code: \" + code + \"\\n\\n\" \\\n",
    "            \"피드백: \" + feedback\n",
    "    )\n",
    "    response = llm.invoke([HumanMessage(content=prompt)])\n",
    "    return {\"code\": response.content, \"final_feedback\": feedback}"
   ]
  },
  {
   "cell_type": "code",
   "execution_count": 4,
   "metadata": {},
   "outputs": [],
   "source": [
    "from langgraph.graph import END, Graph, START\n",
    "\n",
    "# LangGraph 워크플로우 구축\n",
    "graph = Graph()\n",
    "graph.add_node(\"style_check\", code_style_check)\n",
    "graph.add_node(\"bug_check\", bug_detection)\n",
    "graph.add_node(\"optimization_check\", optimization_suggestions)\n",
    "graph.add_node(\"aggregate\", aggregate_feedback)\n",
    "\n",
    "# 데이터 흐름 정의\n",
    "graph.add_edge(START, \"style_check\")\n",
    "graph.add_edge(\"style_check\", \"bug_check\")\n",
    "graph.add_edge(\"bug_check\", \"optimization_check\")\n",
    "graph.add_edge(\"optimization_check\", \"aggregate\")\n",
    "graph.add_edge(\"aggregate\", END)\n",
    "\n",
    "app = graph.compile()\n"
   ]
  },
  {
   "cell_type": "code",
   "execution_count": 5,
   "metadata": {},
   "outputs": [
    {
     "data": {
      "image/png": "[encoded data removed]",
      "text/plain": [
       "<IPython.core.display.Image object>"
      ]
     },
     "metadata": {},
     "output_type": "display_data"
    }
   ],
   "source": [
    "from IPython.display import Image, display\n",
    "\n",
    "try:\n",
    "    display(Image(app.get_graph(xray=True).draw_mermaid_png()))\n",
    "except Exception:\n",
    "    # This requires some extra dependencies and is optional\n",
    "    pass"
   ]
  },
  {
   "cell_type": "code",
   "execution_count": 6,
   "metadata": {},
   "outputs": [
    {
     "name": "stdout",
     "output_type": "stream",
     "text": [
      "코드 스타일 피드백:\n",
      "주어진 코드의 스타일을 점검하고 PEP 8 준수 여부를 확인해 보겠습니다. 현재 코드:\n",
      "\n",
      "```python\n",
      "def add_numbers(a, b):\n",
      "return a+b\n",
      "```\n",
      "\n",
      "PEP 8에 따르면 다음과 같은 규칙들이 있습니다:\n",
      "\n",
      "1. **들여쓰기**: 코드 블록은 4칸의 공백으로 들여쓰기 해야 합니다.\n",
      "2. **공백**: 연산자(예: `+`) 양쪽에 공백을 추가해야 합니다.\n",
      "3. **함수 정의**: 함수 정의와 본문 사이에 빈 줄은 필요하지 않지만, 들여쓰기를 적절히 해주어야 합니다.\n",
      "\n",
      "따라서, 위의 코드를 PEP 8에 맞게 수정하면 다음과 같습니다:\n",
      "\n",
      "```python\n",
      "def add_numbers(a, b):\n",
      "    return a + b\n",
      "```\n",
      "\n",
      "이렇게 수정하면 PEP 8 스타일 가이드에 부합하게 됩니다.\n",
      "\n",
      "버그 가능성 분석:\n",
      "제공된 코드에서 잠재적인 버그나 논리적 오류를 설명하겠습니다:\n",
      "\n",
      "1. **들여쓰기 오류**: `return` 문이 `add_numbers` 함수 내부에 있어야 하지만, 현재는 들여쓰기가 되어 있지 않아 함수의 일부로 인식되지 않습니다. 파이썬에서는 들여쓰기가 문법적으로 중요하므로, 올바른 들여쓰기를 적용해야 합니다. 수정된 코드는 다음과 같습니다:\n",
      "\n",
      "   ```python\n",
      "   def add_numbers(a, b):\n",
      "       return a + b\n",
      "   ```\n",
      "\n",
      "2. **입력 검증 부족**: 함수가 두 개의 인자를 받아서 덧셈을 수행하지만, 입력 값이 숫자 타입인지 확인하지 않습니다. 만약 `a` 또는 `b`가 숫자가 아닌 경우, TypeError가 발생할 수 있습니다. 이를 방지하기 위해 입력 값을 검증하는 로직을 추가하는 것이 좋습니다. 예를 들어:\n",
      "\n",
      "   ```python\n",
      "   def add_numbers(a, b):\n",
      "       if not isinstance(a, (int, float)) or not isinstance(b, (int, float)):\n",
      "           raise ValueError(\"Both a and b must be numbers.\")\n",
      "       return a + b\n",
      "   ```\n",
      "\n",
      "3. **데이터 타입의 일관성**: 두 인자가 서로 다른 숫자 타입(예: 정수와 부동 소수점 수)을 가질 경우, 결과가 부동 소수점 수로 나올 수 있습니다. 이는 원치 않는 동작이 아닐 수 있지만, 만약 정수 결과를 원한다면 추가적인 처리가 필요할 수 있습니다.\n",
      "\n",
      "이와 같은 점들을 고려하여 코드를 개선하면, 더 안전하고 신뢰할 수 있는 함수가 될 것입니다.\n",
      "\n",
      "최적화 제안:\n",
      "주어진 `add_numbers` 함수는 두 숫자를 더하는 간단한 기능을 수행합니다. 이 함수는 이미 매우 간단하고 효율적이기 때문에, 실제로 더 최적화할 부분이 많지 않습니다. 그러나 몇 가지 개선할 수 있는 점이 있습니다:\n",
      "\n",
      "1. **타입 힌트 추가**: 함수의 입력과 출력 타입을 명시하여 가독성을 높이고, 타입 체크를 통해 오류를 줄일 수 있습니다.\n",
      "\n",
      "2. **단일 표현식 사용**: 현재 함수는 한 줄로 되어 있지만, lambda 함수를 사용하여 더 간결하게 표현할 수 있습니다.\n",
      "\n",
      "3. **예외 처리**: 입력 값이 숫자가 아닐 경우를 대비하여 예외 처리를 추가할 수 있습니다.\n",
      "\n",
      "이러한 점들을 반영한 코드는 다음과 같습니다:\n",
      "\n",
      "```python\n",
      "def add_numbers(a: float, b: float) -> float:\n",
      "    if not isinstance(a, (int, float)) or not isinstance(b, (int, float)):\n",
      "        raise ValueError(\"Both a and b must be numbers.\")\n",
      "    return a + b\n",
      "```\n",
      "\n",
      "또는 람다 함수를 사용할 수도 있습니다:\n",
      "\n",
      "```python\n",
      "add_numbers = lambda a, b: a + b\n",
      "```\n",
      "\n",
      "하지만 이 경우는 가독성이 떨어질 수 있으므로, 원래의 함수 형태를 유지하는 것이 좋습니다. \n",
      "\n",
      "결론적으로, 원래의 함수는 매우 간단하고 효율적이기 때문에, 주로 가독성과 예외 처리를 통해 개선할 수 있습니다.\n"
     ]
    }
   ],
   "source": [
    "sample_code = \"\"\"\n",
    "def add_numbers(a, b):\n",
    "return a+b\n",
    "\"\"\"\n",
    "result = app.invoke({\"code\": sample_code})\n",
    "print(result[\"final_feedback\"])"
   ]
  },
  {
   "cell_type": "code",
   "execution_count": 7,
   "metadata": {},
   "outputs": [
    {
     "name": "stdout",
     "output_type": "stream",
     "text": [
      "```python\n",
      "def add_numbers(a: float, b: float) -> float:\n",
      "    if not isinstance(a, (int, float)) or not isinstance(b, (int, float)):\n",
      "        raise ValueError(\"Both a and b must be numbers.\")\n",
      "    return a + b\n",
      "```\n"
     ]
    }
   ],
   "source": [
    "print(result[\"code\"])"
   ]
  }
 ],
 "metadata": {
  "kernelspec": {
   "display_name": "Python 3",
   "language": "python",
   "name": "python3"
  },
  "language_info": {
   "codemirror_mode": {
    "name": "ipython",
    "version": 3
   },
   "file_extension": ".py",
   "mimetype": "text/x-python",
   "name": "python",
   "nbconvert_exporter": "python",
   "pygments_lexer": "ipython3",
   "version": "3.10.12"
  }
 },
 "nbformat": 4,
 "nbformat_minor": 2
}
