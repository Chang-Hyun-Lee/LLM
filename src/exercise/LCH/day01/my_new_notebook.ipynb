{
 "cells": [
  {
   "cell_type": "code",
   "execution_count": null,
   "id": "ff47f31f",
   "metadata": {},
   "outputs": [
    {
     "name": "stdout",
     "output_type": "stream",
     "text": [
      "['이거어케함', '나도모름', '진짜모름', '나는 바보다', '전달교육 어케함']\n",
      "['이거어케함', '나도모름', '진짜모름', '나는 바보다', '전달교육 어케함']\n",
      "['이거어케함', '나도모름', '진짜모름', '나는 바보다', '전달교육 어케함']\n",
      "['이거어케함', '나도모름', '진짜모름', '나는 바보다', '전달교육 어케함']\n",
      "['이거어케함', '나도모름', '진짜모름', '나는 바보다', '전달교육 어케함']\n",
      "['이거어케함', '나도모름', '진짜모름', '나는 바보다', '전달교육 어케함']\n"
     ]
    }
   ],
   "source": [
    "LLM = [\"이거어케함\", \"나도모름\", \"진짜모름\", \"나는 바보다\", \"전달교육 어케함\"]\n",
    "print(LLM)\n",
    "for tt in LLM:\n",
    "    print(LLM)"
   ]
  },
  {
   "cell_type": "code",
   "execution_count": 1,
   "id": "8c2e7597",
   "metadata": {},
   "outputs": [
    {
     "name": "stdout",
     "output_type": "stream",
     "text": [
      "안녕하세요\n"
     ]
    }
   ],
   "source": [
    "print(\"안녕하세요\")"
   ]
  }
 ],
 "metadata": {
  "kernelspec": {
   "display_name": "Python 3",
   "language": "python",
   "name": "python3"
  },
  "language_info": {
   "codemirror_mode": {
    "name": "ipython",
    "version": 3
   },
   "file_extension": ".py",
   "mimetype": "text/x-python",
   "name": "python",
   "nbconvert_exporter": "python",
   "pygments_lexer": "ipython3",
   "version": "3.10.12"
  }
 },
 "nbformat": 4,
 "nbformat_minor": 5
}
